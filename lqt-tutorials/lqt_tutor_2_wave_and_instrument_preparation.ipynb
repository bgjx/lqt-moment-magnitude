{
 "cells": [
  {
   "cell_type": "markdown",
   "id": "9163ee43-4fe2-49f6-9639-8d8e99da8db6",
   "metadata": {},
   "source": [
    "## LQTMOMENT Tutorial 2: Preparing Wave Data and Instrument Response File"
   ]
  },
  {
   "cell_type": "markdown",
   "id": "42c22090-8aa9-40fd-8486-2aad1b0a7ce6",
   "metadata": {},
   "source": [
    "Setting the wave/seismogram data and the instrument response file is a crucial step in calculating moment magnitude using the `lqtmoment` package.\n"
   ]
  },
  {
   "cell_type": "markdown",
   "id": "4f6dc365-48d5-49a5-b783-3330b3c8cf54",
   "metadata": {},
   "source": [
    "> **ℹ️ INFO ℹ️**\n",
    ">\n",
    "> In this current version, `lqtmoment` only accepts `.mseed` format for seismogram data and `RESP` files format for instrument response file. These two formats have become the standard for most organizations nowadays, and maintaining them for processing is considered good practice.\n"
   ]
  },
  {
   "cell_type": "markdown",
   "id": "e9fc6f9b-c49e-47a5-80f2-5877f6f3b9c5",
   "metadata": {},
   "source": [
    "### A. Setting up The Seismogram Directory Structure\n",
    "\n",
    "Suppose that under the `wave` directory, the seismogram data within this directory must be stored according to the following structure: each seismogram dataset is placed in a folder named with the corresponding earthquake ID.\n"
   ]
  },
  {
   "cell_type": "markdown",
   "id": "c63faa59-6a32-4021-854d-f45eb8c67c30",
   "metadata": {},
   "source": [
    "```\n",
    "wave/\n",
    "├── 1001/\n",
    "│   ├── 19700101T000000_KJ.KJ01_BHE.mseed\n",
    "│   ├── 19700101T000000_KJ.KJ01_BHN.mseed\n",
    "│   ├── 19700101T000000_KJ.KJ01_BHZ.mseed\n",
    "│   ├── 19700101T000000_KJ.KJ02_BHE.mseed\n",
    "│   ├── 19700101T000000_KJ.KJ02_BHN.mseed\n",
    "│   ├── 19700101T000000_KJ.KJ02_BHZ.mseed\n",
    "│   ├── 19700101T000000_KJ.KJ03_BHE.mseed\n",
    "│   ├── 19700101T000000_KJ.KJ03_BHN.mseed\n",
    "│   └── 19700101T000000_KJ.KJ03_BHZ.mseed\n",
    "├── 1002/\n",
    "│   ├── 19700101T010000_KJ.KJ01_BHE.mseed\n",
    "│   ├── 19700101T010000_KJ.KJ01_BHN.mseed\n",
    "│   ├── 19700101T010000_KJ.KJ01_BHZ.mseed\n",
    "│   ├── 19700101T010000_KJ.KJ02_BHE.mseed\n",
    "│   ├── 19700101T010000_KJ.KJ02_BHN.mseed\n",
    "│   ├── 19700101T010000_KJ.KJ02_BHZ.mseed\n",
    "│   ├── 19700101T010000_KJ.KJ03_BHE.mseed\n",
    "│   ├── 19700101T010000_KJ.KJ03_BHN.mseed\n",
    "│   └── 19700101T010000_KJ.KJ03_BHZ.mseed\n",
    "├── 1003/\n",
    "│   ├── 19700101T020000_KJ.KJ01_BHE.mseed\n",
    "│   ├── 19700101T020000_KJ.KJ01_BHN.mseed\n",
    "│   ├── 19700101T020000_KJ.KJ01_BHZ.mseed\n",
    "│   ├── 19700101T020000_KJ.KJ02_BHE.mseed\n",
    "│   ├── 19700101T020000_KJ.KJ02_BHN.mseed\n",
    "│   ├── 19700101T020000_KJ.KJ02_BHZ.mseed\n",
    "│   ├── 19700101T020000_KJ.KJ03_BHE.mseed\n",
    "│   ├── 19700101T020000_KJ.KJ03_BHN.mseed\n",
    "│   └── 19700101T020000_KJ.KJ03_BHZ.mseed\n",
    "├── 1004/\n",
    "│   ├── 19700101T030000_KJ.KJ01_BHE.mseed\n",
    "│   ├── 19700101T030000_KJ.KJ01_BHN.mseed\n",
    "│   ├── 19700101T030000_KJ.KJ01_BHZ.mseed\n",
    "│   ├── 19700101T030000_KJ.KJ02_BHE.mseed\n",
    "│   ├── 19700101T030000_KJ.KJ02_BHN.mseed\n",
    "│   ├── 19700101T030000_KJ.KJ02_BHZ.mseed\n",
    "│   ├── 19700101T030000_KJ.KJ03_BHE.mseed\n",
    "│   ├── 19700101T030000_KJ.KJ03_BHN.mseed\n",
    "│   └── 19700101T030000_KJ.KJ03_BHZ.mseed\n",
    "├── 1005/\n",
    "│   ├── 19700101T040000_KJ.KJ01_BHE.mseed\n",
    "│   ├── 19700101T040000_KJ.KJ01_BHN.mseed\n",
    "│   ├── 19700101T040000_KJ.KJ01_BHZ.mseed\n",
    "│   ├── 19700101T040000_KJ.KJ02_BHE.mseed\n",
    "│   ├── 19700101T040000_KJ.KJ02_BHN.mseed\n",
    "│   ├── 19700101T040000_KJ.KJ02_BHZ.mseed\n",
    "│   ├── 19700101T040000_KJ.KJ03_BHE.mseed\n",
    "│   ├── 19700101T040000_KJ.KJ03_BHN.mseed\n",
    "│   └── 19700101T040000_KJ.KJ03_BHZ.mseed\n",
    "└── ..."
   ]
  },
  {
   "cell_type": "markdown",
   "id": "4321215b-3326-411a-a2a7-5999dbf57ead",
   "metadata": {},
   "source": [
    "> **⚠️ CAUTION ⚠️**\n",
    ">\n",
    "> Ideally, the naming convention for seismogram data in the `lqtmoment` package follows the format `<yyyymmddTHHMMSS>_<network_code>.<station_code>_<channel>.mseed`. However, `lqtmoment` is flexible with naming conventions and primarily relies on the `<station_code>` to identify the corresponding seismogram data. Adhering to the full naming convention for seismogram data is always considered best practice.\n",
    "> \n",
    ">\n",
    "> The length, or duration, of the wave data for each component of the seismogram is user-defined; make sure it captures the entire earthquake coda. Longer wave data durations will result in heavier loading times, while shorter durations will reduce loading times and vice versa.\n",
    ">\n",
    "> Tight trimming and rigorous downsampling can indeed improve loading times, but be cautious of frequency leakage and aliasing. Allow some space for each tip; the tapering will be locally handled by `lqtmoment`.\n",
    "\n"
   ]
  },
  {
   "cell_type": "markdown",
   "id": "061326b7-fa11-4b69-9372-2744363a9f65",
   "metadata": {},
   "source": [
    "### B. Preparing Instrument Response File"
   ]
  },
  {
   "cell_type": "markdown",
   "id": "1ccc93f9-e5e7-4451-8741-6e4546799457",
   "metadata": {},
   "source": [
    "A digital seismogram typically stores its raw measurements in **count** units. To calculate moment magnitude, which is a physical property, we need to convert these digital units into **true ground displacement in meters (m)**. This is achieved through deconvolution, where the spectrum in digital units is divided by the instrument response function. To perform this accurately, the correct **instrument response file** is required.\n"
   ]
  },
  {
   "cell_type": "markdown",
   "id": "a65b1d60-611b-4930-aaa8-1db42495fc42",
   "metadata": {},
   "source": [
    "**1. Getting Instrument Response File (RESP)**\n",
    "\n",
    "Typically, your instrument vendor or provider will supply the correct datalogger and sensor response file combined in `RESP` format with every purchase. If these are not included or you get the data from open-source or third-party providers, you can retrieve the correct files through the [Iris Data Web Service](http://service.iris.edu/irisws/nrl/1/) by inputting the appropriate datalogger and sensor specifications.\n",
    "\n",
    "For example:\n",
    "\n",
    "* **Datalogger Specs**: REFTEK 130-01; Gain 32; 500 sps\n",
    "* **Sensor Specs**: CEADASE CPHM-500; Long Period 1; Gain 8; Sensitivity 2250 V/m/s; Sensor Type Ground Vel\n",
    "\n",
    "The web url query would be like this:\n",
    "\n",
    "http://service.iris.edu/irisws/nrl/1/combine?instconfig=sensor_CEADASE_CPHM-500_LP1_PG8_SG2250_STgroundVel:datalogger_REFTEK_130-01_PG32_FR500&format=resp&nodata=404 "
   ]
  },
  {
   "cell_type": "markdown",
   "id": "3fe30977-1af8-458a-8208-3c0be314a0f7",
   "metadata": {},
   "source": [
    "> **⚠️ CAUTION ⚠️**\n",
    ">\n",
    "> After obtaining the `RESP` file, you must still need to configure and align the actual seismogram metadata with the metadata form the `RESP` file you just donwloaded.\n",
    ">\n",
    "> Any discrepancy between the RESP metadata and the seismogram metadata will prevent lqtmoment from processing the waveform data, as it cannot parse the poles, zeros, and sensitivity constant from the RESP file.\n"
   ]
  },
  {
   "cell_type": "markdown",
   "id": "9c0bc171-70a2-47db-8fee-86726481bddd",
   "metadata": {},
   "source": [
    "**2. RESP file format**\n",
    "\n",
    "A `RESP` file is an ASCII representation of SEED instrument response information. Generally RESP files only contain the subset of SEED headers that represent an instrument response. For more detail please check this out [The RESP format](http://ds.iris.edu/ds/nodes/dmc/data/formats/resp/#:~:text=A%20RESP%20file%20is%20an,metadata%20available%20in%20SEED%20headers.)."
   ]
  },
  {
   "cell_type": "markdown",
   "id": "4469be2a-62cf-40d4-ba6c-f9c0e511db9a",
   "metadata": {},
   "source": [
    "A `RESP` file generally contains these informations:\n",
    "\n",
    "* **Station and Channel Info**: Network, Station, Location, Channel Codes, and Validity dates.\n",
    "* **Poles and Zeros**: Defines the sensor's frequency response for deconvolution.\n",
    "* **Sensitivity/Gain**: Scales raw counts to physical units (e.g., counts/m/s)\n",
    "* **Sampling Rate**: Specifies the digitization frequency (e.g., 20 Hz)\n",
    "* **Stage Sequence**: Describes the signal path (sensor, digitizer, filters) with units and gains.gains.\n",
    "\n"
   ]
  },
  {
   "cell_type": "markdown",
   "id": "a3b7b8ec-ec72-40ff-a962-5afb644d9d61",
   "metadata": {},
   "source": [
    "**3. Configuring the Directory Structure and Naming Conventions for RESP files**"
   ]
  },
  {
   "cell_type": "markdown",
   "id": "dbd0a249-ad6e-4f26-ba26-1f1cd2e1cf82",
   "metadata": {},
   "source": [
    "The naming convention for `RESP` file is following this format.\n",
    "\n",
    "`RESP.<network_code>.<station_code>.<location>.<channel>.resp`\n",
    "\n",
    "for example:\n",
    "\n",
    "`RESP.IU.FURI.00.BHE.resp`"
   ]
  },
  {
   "cell_type": "markdown",
   "id": "afa0e286-a952-4859-b52b-a90b0c353b87",
   "metadata": {},
   "source": [
    "> **⚠️ CAUTION ⚠️**\n",
    ">\n",
    "> The naming structure must correspond to the data header in the `RESP` file."
   ]
  },
  {
   "cell_type": "markdown",
   "id": "ec84dbf8-8125-4590-8c31-ab3b0d7ac934",
   "metadata": {},
   "source": [
    "Data header in `RESP` usually contains these informations:\n",
    "\n",
    "```\n",
    "# ============= CHANNEL RESPONSE DATA ===============\n",
    "B050F03        Station:        FURI\n",
    "B050F16        Network:        IU\n",
    "B052F03        Location:       00\n",
    "B052F04        Channel:        BHE\n",
    "B052F22        Start Date:     1999,111,00:00:00\n",
    "B052F23        End Date: No Ending Time\n",
    "```"
   ]
  },
  {
   "cell_type": "markdown",
   "id": "6f32155a-d8d8-4b2a-8200-745362e9c510",
   "metadata": {},
   "source": [
    "> **⚠️ CAUTION ⚠️**\n",
    ">\n",
    "> Any discrepancy between the `RESP` header metadata and the naming convention will prevent `lqtmoment` from processing the waveform data, as it cannot parse the poles, zeros, and sensitivity constant from the RESP file.\n",
    "\n"
   ]
  },
  {
   "cell_type": "markdown",
   "id": "f0964637-f6e5-4dc7-8c3b-030c4f23480d",
   "metadata": {},
   "source": [
    "So suppose under `calibration` folder, your directory structure should be looking like this:\n",
    "\n",
    "```\n",
    "wave/\n",
    "├── RESP.IU.FURI.00.BHE.resp\n",
    "├── RESP.IU.FURI.00.BHN.resp\n",
    "├── RESP.IU.FURI.00.BHZ.resp\n",
    "├── RESP.ZQ.AAMI.00.BHE.resp\n",
    "├── RESP.ZQ.AAMI.00.BHN.resp\n",
    "├── RESP.ZQ.AAMI.00.BHZ.resp\n",
    "└── "
   ]
  }
 ],
 "metadata": {
  "kernelspec": {
   "display_name": "base",
   "language": "python",
   "name": "python3"
  },
  "language_info": {
   "codemirror_mode": {
    "name": "ipython",
    "version": 3
   },
   "file_extension": ".py",
   "mimetype": "text/x-python",
   "name": "python",
   "nbconvert_exporter": "python",
   "pygments_lexer": "ipython3",
   "version": "3.12.3"
  }
 },
 "nbformat": 4,
 "nbformat_minor": 5
}
