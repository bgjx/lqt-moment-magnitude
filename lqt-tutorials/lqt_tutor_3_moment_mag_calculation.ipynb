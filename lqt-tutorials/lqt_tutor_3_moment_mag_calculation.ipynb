{
 "cells": [
  {
   "cell_type": "markdown",
   "id": "f25eff66-c059-4ec3-b3d5-5363b7d0e9a0",
   "metadata": {},
   "source": [
    "## LQTMOMENT Tutorial 3: Calculating Moment Magnitudes from a Batch of Earthquakes\n",
    "\n",
    "There is no limit on how many earthquakes `lqtmoment` can process in a single batch to calculate the moment magnitude automatically in one run, as long as provided catalog input, waveform directory structure, calibration file are well-defined and follows the `lqtmoment` format."
   ]
  },
  {
   "cell_type": "markdown",
   "id": "d9226e4c",
   "metadata": {},
   "source": [
    "> **⚠️ CAUTION ⚠️**\n",
    "> \n",
    "> Before continuing this tutorial, make sure you have already seen the 1st and 2nd LQT tutorials."
   ]
  },
  {
   "cell_type": "markdown",
   "id": "d65a9d6f",
   "metadata": {},
   "source": [
    "### 1. Programmatic Approach"
   ]
  },
  {
   "cell_type": "markdown",
   "id": "927792a1-c312-458a-acdd-079edc7a0fc3",
   "metadata": {},
   "source": [
    "#### A. Import Moment Magnitude Estimator Module\n",
    "\n",
    "For calculating a batch of earthquakes data we need to import `magnitude_estimator` function from `lqtmoment` package."
   ]
  },
  {
   "cell_type": "code",
   "execution_count": 11,
   "id": "f9ccbee7-6499-46c7-afab-ca5c9b717b4c",
   "metadata": {},
   "outputs": [],
   "source": [
    "from lqtmoment import magnitude_estimator\n",
    "from pathlib import Path"
   ]
  },
  {
   "cell_type": "markdown",
   "id": "7094eb11-b9ed-4226-bf71-769cd938603a",
   "metadata": {},
   "source": [
    "#### B. Initialize Input/Output File/Dir"
   ]
  },
  {
   "cell_type": "code",
   "execution_count": null,
   "id": "f5b989f9-f200-4fcd-ba15-8b7c0f1c56db",
   "metadata": {},
   "outputs": [],
   "source": [
    "# Initialize directories object\n",
    "dirs = {\n",
    "    \"wave_dir\": r\"..\\tests\\sample_tests_data\\data\\wave\",\n",
    "    \"calib_dir\": r\"..\\tests\\sample_tests_data\\data\\calibration\",\n",
    "    \"catalog_file\": r\"..\\tests\\sample_tests_data\\results\\lqt_catalog\\lqt_catalog.xlsx\",\n",
    "    \"config_file\": r\"..\\tests\\sample_tests_data\\calculation configuration\\config_test.ini\",\n",
    "    \"figures_dir\": r\"..\\tests\\sample_tests_data\\figures\",\n",
    "    \"output_dir\": r\"..\\tests\\sample_tests_data\\results\\calculation\"\n",
    "}"
   ]
  },
  {
   "cell_type": "markdown",
   "id": "18e44226-b20d-4c15-8e3d-f73c3b601110",
   "metadata": {},
   "source": [
    "In the `dirs` dictionary object, we specify the absolute paths for directories and input files including (`wave directory`, `calibration/response file directory`, `lqtmoment format catalog`, `configuration file`) and also the outputs (`output figure directory`, `calculation output directory`)."
   ]
  },
  {
   "cell_type": "markdown",
   "id": "ffd5b2ea",
   "metadata": {},
   "source": [
    "#### C. Run The Magnitude Estimator\n",
    "\n",
    "In this programmatic approach, the magnitude estimator returns two pandas `DataFrame` objects, the calculation result and the detailed fitting result for all earthquakes in the batch."
   ]
  },
  {
   "cell_type": "code",
   "execution_count": null,
   "id": "9b2d021b",
   "metadata": {},
   "outputs": [],
   "source": [
    "lqt_moment_result, lqt_fitting_result = magnitude_estimator(\n",
    "                                        dirs['wave_dir'],\n",
    "                                        dirs['calib_dir'],\n",
    "                                        dirs['catalog_file'],\n",
    "                                        dirs['config_file'],\n",
    "                                        dirs['figures_dir'],\n",
    "                                        dirs['output_dir'],\n",
    "                                        id_start=1001,\n",
    "                                        id_end=1005,\n",
    "                                        lqt_mode=True,\n",
    "                                        generate_figure=True\n",
    "                                        )"
   ]
  },
  {
   "cell_type": "markdown",
   "id": "00d9eff0",
   "metadata": {},
   "source": [
    "> **ℹ️ INFO ℹ️**\n",
    "> \n",
    "> If `id_start` and `id_end` are not specified by the user, the `lqtmoment` will automatically set the `id_start` to the minimum earthquake ID  and `id_end` to the maximum earthquake ID in the catalog, respectively.\n",
    "> \n",
    "> If `lqt_mode` set to `False`, for the `very_local_earthquake` category, `lqtmoment` will perform calculations using the ZRT component systems, which is simpler and reduces runtime. \n",
    ">\n",
    "> The `generate_figure` parameters defaults to `False` if not specified by the user.\n",
    ">\n",
    "> After completing the calculation, the `lqtmoment` will automatically save the result to the `output_directory` in the `.xlsx` format unless the user specifies otherwise (`.csv`). As a result, the function returns two dataframes that can be used for analysis and assessment, along with two Excel/CSV files as output file.\n"
   ]
  },
  {
   "cell_type": "markdown",
   "id": "5e5dbace",
   "metadata": {},
   "source": [
    "### 2. Command-Line Interface Approach\n",
    "\n",
    "When calculating moment magnitude, `lqtmoment` also offers **Command-Line Interface (CLI)** functionality. If the input and output directories follow `lqtmoment` formats correctly,  you can easily perform the moment magnitude calculation by entering command line in your terminal, as shown bellow (ensure that the `lqtmoment` package is correctly installed in your working environment beforehand):"
   ]
  },
  {
   "cell_type": "markdown",
   "id": "e2e6ddc7",
   "metadata": {},
   "source": [
    "> `$ lqtmoment --wave-dir ..\\tests\\sample_tests_data\\data\\wave --cal-dir ..\\tests\\sample_tests_data\\data\\calibration --catalog-file ..\\tests\\sample_tests_data\\results\\lqt_catalog\\lqt_catalog.xlsx --config-file ..\\tests\\sample_tests_data\\calculation configuration\\config_test.ini --fig-dir ..\\tests\\sample_tests_data\\figures --output-dir ..\\tests\\sample_tests_data\\results\\calculation --id-start 1001 --id-end 1005 --create-figure`"
   ]
  },
  {
   "cell_type": "markdown",
   "id": "dce9398d",
   "metadata": {},
   "source": [
    "> **ℹ️ INFO ℹ️**\n",
    "> \n",
    "> In a programmatic approach, if you don’t specify the ID range, `lqtmoment` will handle it automatically. To disable `lqt_mode` for `very_local_earthquakes` category, you can use the `--non-lqt` argument.\n",
    "\n",
    "\n"
   ]
  }
 ],
 "metadata": {
  "kernelspec": {
   "display_name": "Python 3 (ipykernel)",
   "language": "python",
   "name": "python3"
  },
  "language_info": {
   "codemirror_mode": {
    "name": "ipython",
    "version": 3
   },
   "file_extension": ".py",
   "mimetype": "text/x-python",
   "name": "python",
   "nbconvert_exporter": "python",
   "pygments_lexer": "ipython3",
   "version": "3.12.3"
  }
 },
 "nbformat": 4,
 "nbformat_minor": 5
}
