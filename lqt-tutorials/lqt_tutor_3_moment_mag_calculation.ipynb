{
 "cells": [
  {
   "cell_type": "markdown",
   "id": "f25eff66-c059-4ec3-b3d5-5363b7d0e9a0",
   "metadata": {},
   "source": [
    "## LQTMOMENT Tutorial 3: Calculating Moment Magnitudes from a Batch of Earthquakes"
   ]
  },
  {
   "cell_type": "markdown",
   "id": "d9226e4c",
   "metadata": {},
   "source": [
    "> **⚠️ CAUTION ⚠️**\n",
    "> \n",
    "> Before continuing this tutorial, make sure you have already seen the 1st and 2nd LQT tutorials."
   ]
  },
  {
   "cell_type": "markdown",
   "id": "d65a9d6f",
   "metadata": {},
   "source": [
    "### 1. Programmatic Approach"
   ]
  },
  {
   "cell_type": "markdown",
   "id": "927792a1-c312-458a-acdd-079edc7a0fc3",
   "metadata": {},
   "source": [
    "#### A. Import Moment Magnitude Estimator Module\n",
    "\n",
    "For calculating a batch of earthquakes data we need to import `magnitude_estimator` function from `lqtmoment` package."
   ]
  },
  {
   "cell_type": "code",
   "execution_count": 11,
   "id": "f9ccbee7-6499-46c7-afab-ca5c9b717b4c",
   "metadata": {},
   "outputs": [],
   "source": [
    "from lqtmoment import magnitude_estimator\n",
    "from pathlib import Path"
   ]
  },
  {
   "cell_type": "markdown",
   "id": "7094eb11-b9ed-4226-bf71-769cd938603a",
   "metadata": {},
   "source": [
    "### Initialize Input/Output File/Dir"
   ]
  },
  {
   "cell_type": "code",
   "execution_count": 16,
   "id": "f5b989f9-f200-4fcd-ba15-8b7c0f1c56db",
   "metadata": {},
   "outputs": [],
   "source": [
    "# Initialize directories object\n",
    "dirs = {\n",
    "    \"hypo_dir\": r\"D:\\lqt-moment-magnitude\\tests\\sample_tests_data\\data\\catalog\\hypo_catalog.xlsx\",\n",
    "    \"pick_dir\": r\"D:\\lqt-moment-magnitude\\tests\\sample_tests_data\\data\\catalog\\picking_catalog.xlsx\",\n",
    "    \"station_dir\": r\"D:\\lqt-moment-magnitude\\tests\\sample_tests_data\\data\\station\\station.xlsx\",\n",
    "    \"output_dir\": r\"D:\\lqt-moment-magnitude\\tests\\sample_tests_data\\results\\lqt_catalog\"\n",
    "}\n",
    "\n"
   ]
  },
  {
   "cell_type": "code",
   "execution_count": null,
   "id": "18e44226-b20d-4c15-8e3d-f73c3b601110",
   "metadata": {},
   "outputs": [],
   "source": []
  },
  {
   "cell_type": "code",
   "execution_count": null,
   "id": "39b45366-7b8e-4ac6-868d-8661a0ef3177",
   "metadata": {},
   "outputs": [],
   "source": []
  }
 ],
 "metadata": {
  "kernelspec": {
   "display_name": "Python 3 (ipykernel)",
   "language": "python",
   "name": "python3"
  },
  "language_info": {
   "codemirror_mode": {
    "name": "ipython",
    "version": 3
   },
   "file_extension": ".py",
   "mimetype": "text/x-python",
   "name": "python",
   "nbconvert_exporter": "python",
   "pygments_lexer": "ipython3",
   "version": "3.12.3"
  }
 },
 "nbformat": 4,
 "nbformat_minor": 5
}
