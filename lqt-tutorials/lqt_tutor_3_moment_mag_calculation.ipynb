{
 "cells": [
  {
   "cell_type": "markdown",
   "id": "f25eff66-c059-4ec3-b3d5-5363b7d0e9a0",
   "metadata": {},
   "source": [
    "## LQTMOMENT Tutorial 3: Calculating Moment Magnitudes from a Batch of Earthquakes"
   ]
  },
  {
   "cell_type": "markdown",
   "id": "d9226e4c",
   "metadata": {},
   "source": [
    "> **⚠️ CAUTION ⚠️**\n",
    "> \n",
    "> Before continuing this tutorial, make sure you have already seen the 1st and 2nd LQT tutorials."
   ]
  },
  {
   "cell_type": "markdown",
   "id": "d65a9d6f",
   "metadata": {},
   "source": [
    "### 1. Programmatic Approach"
   ]
  },
  {
   "cell_type": "markdown",
   "id": "927792a1-c312-458a-acdd-079edc7a0fc3",
   "metadata": {},
   "source": [
    "#### A. Import Moment Magnitude Estimator Module\n",
    "\n",
    "For calculating a batch of earthquakes data we need to import `magnitude_estimator` function from `lqtmoment` package."
   ]
  },
  {
   "cell_type": "code",
   "execution_count": 11,
   "id": "f9ccbee7-6499-46c7-afab-ca5c9b717b4c",
   "metadata": {},
   "outputs": [],
   "source": [
    "from lqtmoment import magnitude_estimator\n",
    "from pathlib import Path"
   ]
  },
  {
   "cell_type": "markdown",
   "id": "7094eb11-b9ed-4226-bf71-769cd938603a",
   "metadata": {},
   "source": [
    "#### B. Initialize Input/Output File/Dir"
   ]
  },
  {
   "cell_type": "code",
   "execution_count": null,
   "id": "f5b989f9-f200-4fcd-ba15-8b7c0f1c56db",
   "metadata": {},
   "outputs": [],
   "source": [
    "# Initialize directories object\n",
    "dirs = {\n",
    "    \"wave_dir\": r\"F:\\SEML\\GITHUB DEPLOY\\lqt-moment-magnitude\\tests\\sample_tests_data\\data\\wave\",\n",
    "    \"calib_dir\": r\"F:\\SEML\\GITHUB DEPLOY\\lqt-moment-magnitude\\tests\\sample_tests_data\\data\\calibration\",\n",
    "    \"catalog_file\": r\"F:\\SEML\\GITHUB DEPLOY\\lqt-moment-magnitude\\tests\\sample_tests_data\\results\\lqt_catalog\\lqt_catalog.xlsx\",\n",
    "    \"config_file\": r\"F:\\SEML\\GITHUB DEPLOY\\lqt-moment-magnitude\\tests\\sample_tests_data\\calculation configuration\\config_test.ini\",\n",
    "    \"figures_dir\": r\"F:\\SEML\\GITHUB DEPLOY\\lqt-moment-magnitude\\tests\\sample_tests_data\\figures\",\n",
    "    \"output_dir\": r\"F:\\SEML\\GITHUB DEPLOY\\lqt-moment-magnitude\\tests\\sample_tests_data\\results\\calculation\"\n",
    "}"
   ]
  },
  {
   "cell_type": "markdown",
   "id": "18e44226-b20d-4c15-8e3d-f73c3b601110",
   "metadata": {},
   "source": [
    "In the `dirs` dictionary object, we specify the absolute paths for directories and input files including (`wave directory`, `calibration/response file directory`, `lqtmoment format catalog`, `configuration file`) and also the outputs (`output figure directory`, `calculation output directory`)."
   ]
  },
  {
   "cell_type": "markdown",
   "id": "ffd5b2ea",
   "metadata": {},
   "source": [
    "#### C. Run The Magnitude Estimator\n",
    "\n",
    "In this programmatic approach, the magnitude estimator returns two pandas `DataFrame` objects, the calculation result and the detailed fitting result for all earthquakes in the batch."
   ]
  },
  {
   "cell_type": "code",
   "execution_count": null,
   "id": "9b2d021b",
   "metadata": {},
   "outputs": [],
   "source": [
    "lqt_moment_result, lqt_fitting_result = magnitude_estimator(\n",
    "                                        dirs['wave_dir'],\n",
    "                                        dirs['calib_dir'],\n",
    "                                        dirs['catalog_file'],\n",
    "                                        dirs['config_file'],\n",
    "                                        dirs['figures_dir'],\n",
    "                                        dirs['output_dir'],\n",
    "                                        id_start=1001,\n",
    "                                        id_end=1005,\n",
    "                                        lqt_mode=True,\n",
    "                                        generate_figure=True\n",
    "                                        )"
   ]
  }
 ],
 "metadata": {
  "kernelspec": {
   "display_name": "Python 3 (ipykernel)",
   "language": "python",
   "name": "python3"
  },
  "language_info": {
   "codemirror_mode": {
    "name": "ipython",
    "version": 3
   },
   "file_extension": ".py",
   "mimetype": "text/x-python",
   "name": "python",
   "nbconvert_exporter": "python",
   "pygments_lexer": "ipython3",
   "version": "3.12.3"
  }
 },
 "nbformat": 4,
 "nbformat_minor": 5
}
