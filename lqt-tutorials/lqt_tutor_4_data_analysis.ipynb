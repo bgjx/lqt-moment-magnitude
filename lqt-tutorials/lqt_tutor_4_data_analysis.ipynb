{
 "cells": [
  {
   "cell_type": "markdown",
   "metadata": {},
   "source": [
    "## LQTMOMENT Tutorial 4: Data Analysis with LqtAnalysis"
   ]
  },
  {
   "cell_type": "markdown",
   "metadata": {},
   "source": [
    "> **ℹ️ INFO ℹ️**\n",
    "> \n",
    "> Before using `lqt_analysis` module, you need to prepare your `lqtmoment-formatted catalog`, as demonstrated in `lqt_tutor_1`. The new data field, `magnitude`, will automatically be included in the catalog after running the program for magnitude calculation. You can then work with this field in `LqtAnalysis` class. However, `LqtAnalysis` can still parse the `lqtmoment-formatted catalog` even if you haven't calculated the moment magnitude first.\n",
    "> \n",
    ">"
   ]
  },
  {
   "cell_type": "markdown",
   "metadata": {},
   "source": [
    "### 1. Import all the necessary modules from the **lqt_analysis** module."
   ]
  },
  {
   "cell_type": "code",
   "execution_count": 1,
   "metadata": {},
   "outputs": [],
   "source": [
    "from lqtmoment.lqt_analysis import load_catalog, LqtAnalysis, Statistic\n",
    "import pandas as pd"
   ]
  },
  {
   "cell_type": "markdown",
   "metadata": {},
   "source": [
    "> **ℹ️ INFO ℹ️**\n",
    "> \n",
    "> From `lqt_analysis`, we need to import `load_catalog` module to load the `lqtmoment-formatted catalog` in `.csv` or `.xlsx` file type (`.csv` is preferred). This module will return an `LqtAnalysis` class object. The `LqtAnalysis` class can then parse the `lqtmoment-formatted` pandas DataFrame if you prefer to streamline your data in a DataFrame object. Finally, the `Statistic` class object, which is a helper class used to specify the statistical analysis you want `LqtAnalysis` to perform.\n",
    "> \n",
    ">"
   ]
  },
  {
   "cell_type": "markdown",
   "metadata": {},
   "source": [
    "### 2. Create LqtAnalysis Class Object\n",
    "\n",
    "#### A. From A lqtmoment Catalog File (.csv or .xlsx)\n",
    "\n",
    "To create `LqtAnalysis` class object from a file, first you need to prepare the directory of that file and use `load_catalog` to load the file and it will return the `LqtAnalysis` class object."
   ]
  },
  {
   "cell_type": "code",
   "execution_count": 2,
   "metadata": {},
   "outputs": [
    {
     "data": {
      "text/html": [
       "<div>\n",
       "<style scoped>\n",
       "    .dataframe tbody tr th:only-of-type {\n",
       "        vertical-align: middle;\n",
       "    }\n",
       "\n",
       "    .dataframe tbody tr th {\n",
       "        vertical-align: top;\n",
       "    }\n",
       "\n",
       "    .dataframe thead th {\n",
       "        text-align: right;\n",
       "    }\n",
       "</style>\n",
       "<table border=\"1\" class=\"dataframe\">\n",
       "  <thead>\n",
       "    <tr style=\"text-align: right;\">\n",
       "      <th></th>\n",
       "      <th>Unnamed: 0</th>\n",
       "      <th>source_id</th>\n",
       "      <th>source_lat</th>\n",
       "      <th>source_lon</th>\n",
       "      <th>source_depth_m</th>\n",
       "      <th>magnitude</th>\n",
       "      <th>network_code</th>\n",
       "      <th>station_code</th>\n",
       "      <th>station_lat</th>\n",
       "      <th>station_lon</th>\n",
       "      <th>...</th>\n",
       "      <th>s_p_lag_time_sec</th>\n",
       "      <th>coda_time</th>\n",
       "      <th>source_err_rms_s</th>\n",
       "      <th>n_phases</th>\n",
       "      <th>gap_degree</th>\n",
       "      <th>x_horizontal_err_m</th>\n",
       "      <th>y_horizontal_err_m</th>\n",
       "      <th>z_depth_err_m</th>\n",
       "      <th>earthquake_type</th>\n",
       "      <th>remarks</th>\n",
       "    </tr>\n",
       "  </thead>\n",
       "  <tbody>\n",
       "    <tr>\n",
       "      <th>0</th>\n",
       "      <td>0</td>\n",
       "      <td>2000</td>\n",
       "      <td>-4.244364</td>\n",
       "      <td>103.369385</td>\n",
       "      <td>-873.30</td>\n",
       "      <td>0.431429</td>\n",
       "      <td>RD</td>\n",
       "      <td>RD09</td>\n",
       "      <td>-4.224820</td>\n",
       "      <td>103.364433</td>\n",
       "      <td>...</td>\n",
       "      <td>0.537087</td>\n",
       "      <td>NaN</td>\n",
       "      <td>0.010497</td>\n",
       "      <td>6.0</td>\n",
       "      <td>321.498</td>\n",
       "      <td>1001.074098</td>\n",
       "      <td>553.533887</td>\n",
       "      <td>1125.534873</td>\n",
       "      <td>very_local_earthquake</td>\n",
       "      <td>NaN</td>\n",
       "    </tr>\n",
       "    <tr>\n",
       "      <th>1</th>\n",
       "      <td>1</td>\n",
       "      <td>2000</td>\n",
       "      <td>-4.244364</td>\n",
       "      <td>103.369385</td>\n",
       "      <td>-873.30</td>\n",
       "      <td>0.431429</td>\n",
       "      <td>RD</td>\n",
       "      <td>RD06</td>\n",
       "      <td>-4.212581</td>\n",
       "      <td>103.379951</td>\n",
       "      <td>...</td>\n",
       "      <td>0.819840</td>\n",
       "      <td>NaN</td>\n",
       "      <td>0.010497</td>\n",
       "      <td>6.0</td>\n",
       "      <td>321.498</td>\n",
       "      <td>1001.074098</td>\n",
       "      <td>553.533887</td>\n",
       "      <td>1125.534873</td>\n",
       "      <td>very_local_earthquake</td>\n",
       "      <td>NaN</td>\n",
       "    </tr>\n",
       "    <tr>\n",
       "      <th>2</th>\n",
       "      <td>2</td>\n",
       "      <td>2000</td>\n",
       "      <td>-4.244364</td>\n",
       "      <td>103.369385</td>\n",
       "      <td>-873.30</td>\n",
       "      <td>0.431429</td>\n",
       "      <td>RD</td>\n",
       "      <td>RD05</td>\n",
       "      <td>-4.203970</td>\n",
       "      <td>103.378906</td>\n",
       "      <td>...</td>\n",
       "      <td>0.994110</td>\n",
       "      <td>NaN</td>\n",
       "      <td>0.010497</td>\n",
       "      <td>6.0</td>\n",
       "      <td>321.498</td>\n",
       "      <td>1001.074098</td>\n",
       "      <td>553.533887</td>\n",
       "      <td>1125.534873</td>\n",
       "      <td>very_local_earthquake</td>\n",
       "      <td>NaN</td>\n",
       "    </tr>\n",
       "    <tr>\n",
       "      <th>3</th>\n",
       "      <td>3</td>\n",
       "      <td>2001</td>\n",
       "      <td>-4.201387</td>\n",
       "      <td>103.357560</td>\n",
       "      <td>1258.86</td>\n",
       "      <td>1.060108</td>\n",
       "      <td>RD</td>\n",
       "      <td>RD05</td>\n",
       "      <td>-4.203970</td>\n",
       "      <td>103.378906</td>\n",
       "      <td>...</td>\n",
       "      <td>0.751148</td>\n",
       "      <td>NaN</td>\n",
       "      <td>0.055488</td>\n",
       "      <td>12.0</td>\n",
       "      <td>282.688</td>\n",
       "      <td>454.228142</td>\n",
       "      <td>469.387846</td>\n",
       "      <td>548.388115</td>\n",
       "      <td>very_local_earthquake</td>\n",
       "      <td>NaN</td>\n",
       "    </tr>\n",
       "    <tr>\n",
       "      <th>4</th>\n",
       "      <td>4</td>\n",
       "      <td>2001</td>\n",
       "      <td>-4.201387</td>\n",
       "      <td>103.357560</td>\n",
       "      <td>1258.86</td>\n",
       "      <td>1.060108</td>\n",
       "      <td>RD</td>\n",
       "      <td>RD06</td>\n",
       "      <td>-4.212581</td>\n",
       "      <td>103.379951</td>\n",
       "      <td>...</td>\n",
       "      <td>0.762638</td>\n",
       "      <td>NaN</td>\n",
       "      <td>0.055488</td>\n",
       "      <td>12.0</td>\n",
       "      <td>282.688</td>\n",
       "      <td>454.228142</td>\n",
       "      <td>469.387846</td>\n",
       "      <td>548.388115</td>\n",
       "      <td>very_local_earthquake</td>\n",
       "      <td>NaN</td>\n",
       "    </tr>\n",
       "  </tbody>\n",
       "</table>\n",
       "<p>5 rows × 28 columns</p>\n",
       "</div>"
      ],
      "text/plain": [
       "   Unnamed: 0  source_id  source_lat  source_lon  source_depth_m  magnitude  \\\n",
       "0           0       2000   -4.244364  103.369385         -873.30   0.431429   \n",
       "1           1       2000   -4.244364  103.369385         -873.30   0.431429   \n",
       "2           2       2000   -4.244364  103.369385         -873.30   0.431429   \n",
       "3           3       2001   -4.201387  103.357560         1258.86   1.060108   \n",
       "4           4       2001   -4.201387  103.357560         1258.86   1.060108   \n",
       "\n",
       "  network_code station_code  station_lat  station_lon  ...  s_p_lag_time_sec  \\\n",
       "0           RD         RD09    -4.224820   103.364433  ...          0.537087   \n",
       "1           RD         RD06    -4.212581   103.379951  ...          0.819840   \n",
       "2           RD         RD05    -4.203970   103.378906  ...          0.994110   \n",
       "3           RD         RD05    -4.203970   103.378906  ...          0.751148   \n",
       "4           RD         RD06    -4.212581   103.379951  ...          0.762638   \n",
       "\n",
       "  coda_time source_err_rms_s  n_phases gap_degree x_horizontal_err_m  \\\n",
       "0       NaN         0.010497       6.0    321.498        1001.074098   \n",
       "1       NaN         0.010497       6.0    321.498        1001.074098   \n",
       "2       NaN         0.010497       6.0    321.498        1001.074098   \n",
       "3       NaN         0.055488      12.0    282.688         454.228142   \n",
       "4       NaN         0.055488      12.0    282.688         454.228142   \n",
       "\n",
       "  y_horizontal_err_m  z_depth_err_m        earthquake_type  remarks  \n",
       "0         553.533887    1125.534873  very_local_earthquake      NaN  \n",
       "1         553.533887    1125.534873  very_local_earthquake      NaN  \n",
       "2         553.533887    1125.534873  very_local_earthquake      NaN  \n",
       "3         469.387846     548.388115  very_local_earthquake      NaN  \n",
       "4         469.387846     548.388115  very_local_earthquake      NaN  \n",
       "\n",
       "[5 rows x 28 columns]"
      ]
     },
     "execution_count": 2,
     "metadata": {},
     "output_type": "execute_result"
    }
   ],
   "source": [
    "# Get the lqt catalog directory\n",
    "catalog_dir = r\"C:\\Users\\arham zakki edelo\\lqt-tutorials\\lqt-tutorials\\run lqt moment\\result_test.csv\"\n",
    "\n",
    "# Load the catalog\n",
    "lqt_ready = load_catalog(catalog_dir)\n",
    "\n",
    "# Check first 5 rows using head method\n",
    "lqt_ready.head()"
   ]
  },
  {
   "cell_type": "markdown",
   "metadata": {},
   "source": [
    "#### B. From A Catalog DataFrame\n",
    "\n",
    "Let's say that after using `magnitude_estimator` API, as we have demonstrated in `lqt_tutor_3_moment_mag_calculation`, you want to use the `merged` catalog as the result of your moment magnitude calculation for immediate data analysis. In that case,  you can directly create `LqtAnalyais` class object like this:"
   ]
  },
  {
   "cell_type": "code",
   "execution_count": 3,
   "metadata": {},
   "outputs": [
    {
     "data": {
      "text/html": [
       "<div>\n",
       "<style scoped>\n",
       "    .dataframe tbody tr th:only-of-type {\n",
       "        vertical-align: middle;\n",
       "    }\n",
       "\n",
       "    .dataframe tbody tr th {\n",
       "        vertical-align: top;\n",
       "    }\n",
       "\n",
       "    .dataframe thead th {\n",
       "        text-align: right;\n",
       "    }\n",
       "</style>\n",
       "<table border=\"1\" class=\"dataframe\">\n",
       "  <thead>\n",
       "    <tr style=\"text-align: right;\">\n",
       "      <th></th>\n",
       "      <th>Unnamed: 0</th>\n",
       "      <th>source_id</th>\n",
       "      <th>source_lat</th>\n",
       "      <th>source_lon</th>\n",
       "      <th>source_depth_m</th>\n",
       "      <th>magnitude</th>\n",
       "      <th>network_code</th>\n",
       "      <th>station_code</th>\n",
       "      <th>station_lat</th>\n",
       "      <th>station_lon</th>\n",
       "      <th>...</th>\n",
       "      <th>s_p_lag_time_sec</th>\n",
       "      <th>coda_time</th>\n",
       "      <th>source_err_rms_s</th>\n",
       "      <th>n_phases</th>\n",
       "      <th>gap_degree</th>\n",
       "      <th>x_horizontal_err_m</th>\n",
       "      <th>y_horizontal_err_m</th>\n",
       "      <th>z_depth_err_m</th>\n",
       "      <th>earthquake_type</th>\n",
       "      <th>remarks</th>\n",
       "    </tr>\n",
       "  </thead>\n",
       "  <tbody>\n",
       "    <tr>\n",
       "      <th>0</th>\n",
       "      <td>0</td>\n",
       "      <td>2000</td>\n",
       "      <td>-4.244364</td>\n",
       "      <td>103.369385</td>\n",
       "      <td>-873.30</td>\n",
       "      <td>0.431429</td>\n",
       "      <td>RD</td>\n",
       "      <td>RD09</td>\n",
       "      <td>-4.224820</td>\n",
       "      <td>103.364433</td>\n",
       "      <td>...</td>\n",
       "      <td>0.537087</td>\n",
       "      <td>NaN</td>\n",
       "      <td>0.010497</td>\n",
       "      <td>6.0</td>\n",
       "      <td>321.498</td>\n",
       "      <td>1001.074098</td>\n",
       "      <td>553.533887</td>\n",
       "      <td>1125.534873</td>\n",
       "      <td>very_local_earthquake</td>\n",
       "      <td>NaN</td>\n",
       "    </tr>\n",
       "    <tr>\n",
       "      <th>1</th>\n",
       "      <td>1</td>\n",
       "      <td>2000</td>\n",
       "      <td>-4.244364</td>\n",
       "      <td>103.369385</td>\n",
       "      <td>-873.30</td>\n",
       "      <td>0.431429</td>\n",
       "      <td>RD</td>\n",
       "      <td>RD06</td>\n",
       "      <td>-4.212581</td>\n",
       "      <td>103.379951</td>\n",
       "      <td>...</td>\n",
       "      <td>0.819840</td>\n",
       "      <td>NaN</td>\n",
       "      <td>0.010497</td>\n",
       "      <td>6.0</td>\n",
       "      <td>321.498</td>\n",
       "      <td>1001.074098</td>\n",
       "      <td>553.533887</td>\n",
       "      <td>1125.534873</td>\n",
       "      <td>very_local_earthquake</td>\n",
       "      <td>NaN</td>\n",
       "    </tr>\n",
       "    <tr>\n",
       "      <th>2</th>\n",
       "      <td>2</td>\n",
       "      <td>2000</td>\n",
       "      <td>-4.244364</td>\n",
       "      <td>103.369385</td>\n",
       "      <td>-873.30</td>\n",
       "      <td>0.431429</td>\n",
       "      <td>RD</td>\n",
       "      <td>RD05</td>\n",
       "      <td>-4.203970</td>\n",
       "      <td>103.378906</td>\n",
       "      <td>...</td>\n",
       "      <td>0.994110</td>\n",
       "      <td>NaN</td>\n",
       "      <td>0.010497</td>\n",
       "      <td>6.0</td>\n",
       "      <td>321.498</td>\n",
       "      <td>1001.074098</td>\n",
       "      <td>553.533887</td>\n",
       "      <td>1125.534873</td>\n",
       "      <td>very_local_earthquake</td>\n",
       "      <td>NaN</td>\n",
       "    </tr>\n",
       "    <tr>\n",
       "      <th>3</th>\n",
       "      <td>3</td>\n",
       "      <td>2001</td>\n",
       "      <td>-4.201387</td>\n",
       "      <td>103.357560</td>\n",
       "      <td>1258.86</td>\n",
       "      <td>1.060108</td>\n",
       "      <td>RD</td>\n",
       "      <td>RD05</td>\n",
       "      <td>-4.203970</td>\n",
       "      <td>103.378906</td>\n",
       "      <td>...</td>\n",
       "      <td>0.751148</td>\n",
       "      <td>NaN</td>\n",
       "      <td>0.055488</td>\n",
       "      <td>12.0</td>\n",
       "      <td>282.688</td>\n",
       "      <td>454.228142</td>\n",
       "      <td>469.387846</td>\n",
       "      <td>548.388115</td>\n",
       "      <td>very_local_earthquake</td>\n",
       "      <td>NaN</td>\n",
       "    </tr>\n",
       "    <tr>\n",
       "      <th>4</th>\n",
       "      <td>4</td>\n",
       "      <td>2001</td>\n",
       "      <td>-4.201387</td>\n",
       "      <td>103.357560</td>\n",
       "      <td>1258.86</td>\n",
       "      <td>1.060108</td>\n",
       "      <td>RD</td>\n",
       "      <td>RD06</td>\n",
       "      <td>-4.212581</td>\n",
       "      <td>103.379951</td>\n",
       "      <td>...</td>\n",
       "      <td>0.762638</td>\n",
       "      <td>NaN</td>\n",
       "      <td>0.055488</td>\n",
       "      <td>12.0</td>\n",
       "      <td>282.688</td>\n",
       "      <td>454.228142</td>\n",
       "      <td>469.387846</td>\n",
       "      <td>548.388115</td>\n",
       "      <td>very_local_earthquake</td>\n",
       "      <td>NaN</td>\n",
       "    </tr>\n",
       "  </tbody>\n",
       "</table>\n",
       "<p>5 rows × 28 columns</p>\n",
       "</div>"
      ],
      "text/plain": [
       "   Unnamed: 0  source_id  source_lat  source_lon  source_depth_m  magnitude  \\\n",
       "0           0       2000   -4.244364  103.369385         -873.30   0.431429   \n",
       "1           1       2000   -4.244364  103.369385         -873.30   0.431429   \n",
       "2           2       2000   -4.244364  103.369385         -873.30   0.431429   \n",
       "3           3       2001   -4.201387  103.357560         1258.86   1.060108   \n",
       "4           4       2001   -4.201387  103.357560         1258.86   1.060108   \n",
       "\n",
       "  network_code station_code  station_lat  station_lon  ...  s_p_lag_time_sec  \\\n",
       "0           RD         RD09    -4.224820   103.364433  ...          0.537087   \n",
       "1           RD         RD06    -4.212581   103.379951  ...          0.819840   \n",
       "2           RD         RD05    -4.203970   103.378906  ...          0.994110   \n",
       "3           RD         RD05    -4.203970   103.378906  ...          0.751148   \n",
       "4           RD         RD06    -4.212581   103.379951  ...          0.762638   \n",
       "\n",
       "  coda_time source_err_rms_s  n_phases gap_degree x_horizontal_err_m  \\\n",
       "0       NaN         0.010497       6.0    321.498        1001.074098   \n",
       "1       NaN         0.010497       6.0    321.498        1001.074098   \n",
       "2       NaN         0.010497       6.0    321.498        1001.074098   \n",
       "3       NaN         0.055488      12.0    282.688         454.228142   \n",
       "4       NaN         0.055488      12.0    282.688         454.228142   \n",
       "\n",
       "  y_horizontal_err_m  z_depth_err_m        earthquake_type  remarks  \n",
       "0         553.533887    1125.534873  very_local_earthquake      NaN  \n",
       "1         553.533887    1125.534873  very_local_earthquake      NaN  \n",
       "2         553.533887    1125.534873  very_local_earthquake      NaN  \n",
       "3         469.387846     548.388115  very_local_earthquake      NaN  \n",
       "4         469.387846     548.388115  very_local_earthquake      NaN  \n",
       "\n",
       "[5 rows x 28 columns]"
      ]
     },
     "execution_count": 3,
     "metadata": {},
     "output_type": "execute_result"
    }
   ],
   "source": [
    "# Let's pretend this catalog_df is the merged catalog resulting from magnitude_estimator module\n",
    "catalog_df = pd.read_csv(catalog_dir)\n",
    "\n",
    "# Then we can create LqtAnalysis class instance object with.\n",
    "lqt_ready_2 = LqtAnalysis(catalog_df)\n",
    "\n",
    "# Check first 5 rows using head method\n",
    "lqt_ready_2.head(5)"
   ]
  },
  {
   "cell_type": "markdown",
   "metadata": {},
   "source": [
    "### 3. Perform Some Statistics\n",
    "\n",
    "Using the `LqtAnalysis` class instance object, you can perform various statistical analyses to help evaluate your data. You can calculate statistics for any column in your catalog, and we provide the following list of available statistical methods:\n",
    "\n",
    "- **MEAN**\n",
    "- **MEDIAN**\n",
    "- **STD**\n",
    "- **MIN**\n",
    "- **MAX**\n",
    "- **DESCRIBE**"
   ]
  },
  {
   "cell_type": "code",
   "execution_count": 4,
   "metadata": {},
   "outputs": [
    {
     "name": "stdout",
     "output_type": "stream",
     "text": [
      "The mean of magnitude is 0.6425889431226027\n",
      "The maximum value of magnitude is 2.171243526133633\n",
      "Here the statistical description of the data: \n",
      "count    766.000000\n",
      "mean       0.642589\n",
      "std        0.378217\n",
      "min       -0.183738\n",
      "25%        0.386897\n",
      "50%        0.605232\n",
      "75%        0.867390\n",
      "max        2.171244\n",
      "Name: magnitude, dtype: float64\n"
     ]
    }
   ],
   "source": [
    "# Let's do some basic statistic here\n",
    "\n",
    "mean_magnitude = lqt_ready_2.compute_statistic('magnitude', Statistic.MEAN)\n",
    "print(f\"The mean of magnitude is {mean_magnitude}\")\n",
    "\n",
    "max_magnitude = lqt_ready_2.compute_statistic('magnitude', Statistic.MAX)\n",
    "print(f\"The maximum value of magnitude is {max_magnitude}\")\n",
    "\n",
    "# Or you can also use DESCRIBE\n",
    "describe = lqt_ready_2.compute_statistic('magnitude', Statistic.DESCRIBE)\n",
    "print(f\"Here the statistical description of the data: \\n{describe}\")"
   ]
  },
  {
   "cell_type": "markdown",
   "metadata": {},
   "source": [
    "### 4. Plotting Histogram\n",
    "\n",
    "Using the `LqtAnalysis` class instance object, you can also plot the histogram for any given numerical columns:"
   ]
  },
  {
   "cell_type": "code",
   "execution_count": 5,
   "metadata": {},
   "outputs": [
    {
     "data": {
      "application/vnd.plotly.v1+json": {
       "config": {
        "plotlyServerURL": "https://plot.ly"
       },
       "data": [
        {
         "hovertemplate": "Bin_center: %{x:.3f}<br>count: %{y}<extra></extra>",
         "marker": {
          "color": "skyblue"
         },
         "name": "magnitude",
         "type": "bar",
         "width": 0.25,
         "x": [
          -0.875,
          -0.625,
          -0.375,
          -0.125,
          0.125,
          0.375,
          0.625,
          0.875,
          1.125,
          1.375,
          1.625,
          1.875,
          2.125,
          2.375,
          2.625,
          2.875
         ],
         "y": [
          0,
          0,
          0,
          27,
          66,
          187,
          225,
          148,
          59,
          36,
          12,
          2,
          4,
          0,
          0,
          0
         ]
        }
       ],
       "layout": {
        "bargap": 0.25,
        "showlegend": false,
        "template": {
         "data": {
          "bar": [
           {
            "error_x": {
             "color": "#2a3f5f"
            },
            "error_y": {
             "color": "#2a3f5f"
            },
            "marker": {
             "line": {
              "color": "white",
              "width": 0.5
             },
             "pattern": {
              "fillmode": "overlay",
              "size": 10,
              "solidity": 0.2
             }
            },
            "type": "bar"
           }
          ],
          "barpolar": [
           {
            "marker": {
             "line": {
              "color": "white",
              "width": 0.5
             },
             "pattern": {
              "fillmode": "overlay",
              "size": 10,
              "solidity": 0.2
             }
            },
            "type": "barpolar"
           }
          ],
          "carpet": [
           {
            "aaxis": {
             "endlinecolor": "#2a3f5f",
             "gridcolor": "#C8D4E3",
             "linecolor": "#C8D4E3",
             "minorgridcolor": "#C8D4E3",
             "startlinecolor": "#2a3f5f"
            },
            "baxis": {
             "endlinecolor": "#2a3f5f",
             "gridcolor": "#C8D4E3",
             "linecolor": "#C8D4E3",
             "minorgridcolor": "#C8D4E3",
             "startlinecolor": "#2a3f5f"
            },
            "type": "carpet"
           }
          ],
          "choropleth": [
           {
            "colorbar": {
             "outlinewidth": 0,
             "ticks": ""
            },
            "type": "choropleth"
           }
          ],
          "contour": [
           {
            "colorbar": {
             "outlinewidth": 0,
             "ticks": ""
            },
            "colorscale": [
             [
              0,
              "#0d0887"
             ],
             [
              0.1111111111111111,
              "#46039f"
             ],
             [
              0.2222222222222222,
              "#7201a8"
             ],
             [
              0.3333333333333333,
              "#9c179e"
             ],
             [
              0.4444444444444444,
              "#bd3786"
             ],
             [
              0.5555555555555556,
              "#d8576b"
             ],
             [
              0.6666666666666666,
              "#ed7953"
             ],
             [
              0.7777777777777778,
              "#fb9f3a"
             ],
             [
              0.8888888888888888,
              "#fdca26"
             ],
             [
              1,
              "#f0f921"
             ]
            ],
            "type": "contour"
           }
          ],
          "contourcarpet": [
           {
            "colorbar": {
             "outlinewidth": 0,
             "ticks": ""
            },
            "type": "contourcarpet"
           }
          ],
          "heatmap": [
           {
            "colorbar": {
             "outlinewidth": 0,
             "ticks": ""
            },
            "colorscale": [
             [
              0,
              "#0d0887"
             ],
             [
              0.1111111111111111,
              "#46039f"
             ],
             [
              0.2222222222222222,
              "#7201a8"
             ],
             [
              0.3333333333333333,
              "#9c179e"
             ],
             [
              0.4444444444444444,
              "#bd3786"
             ],
             [
              0.5555555555555556,
              "#d8576b"
             ],
             [
              0.6666666666666666,
              "#ed7953"
             ],
             [
              0.7777777777777778,
              "#fb9f3a"
             ],
             [
              0.8888888888888888,
              "#fdca26"
             ],
             [
              1,
              "#f0f921"
             ]
            ],
            "type": "heatmap"
           }
          ],
          "heatmapgl": [
           {
            "colorbar": {
             "outlinewidth": 0,
             "ticks": ""
            },
            "colorscale": [
             [
              0,
              "#0d0887"
             ],
             [
              0.1111111111111111,
              "#46039f"
             ],
             [
              0.2222222222222222,
              "#7201a8"
             ],
             [
              0.3333333333333333,
              "#9c179e"
             ],
             [
              0.4444444444444444,
              "#bd3786"
             ],
             [
              0.5555555555555556,
              "#d8576b"
             ],
             [
              0.6666666666666666,
              "#ed7953"
             ],
             [
              0.7777777777777778,
              "#fb9f3a"
             ],
             [
              0.8888888888888888,
              "#fdca26"
             ],
             [
              1,
              "#f0f921"
             ]
            ],
            "type": "heatmapgl"
           }
          ],
          "histogram": [
           {
            "marker": {
             "pattern": {
              "fillmode": "overlay",
              "size": 10,
              "solidity": 0.2
             }
            },
            "type": "histogram"
           }
          ],
          "histogram2d": [
           {
            "colorbar": {
             "outlinewidth": 0,
             "ticks": ""
            },
            "colorscale": [
             [
              0,
              "#0d0887"
             ],
             [
              0.1111111111111111,
              "#46039f"
             ],
             [
              0.2222222222222222,
              "#7201a8"
             ],
             [
              0.3333333333333333,
              "#9c179e"
             ],
             [
              0.4444444444444444,
              "#bd3786"
             ],
             [
              0.5555555555555556,
              "#d8576b"
             ],
             [
              0.6666666666666666,
              "#ed7953"
             ],
             [
              0.7777777777777778,
              "#fb9f3a"
             ],
             [
              0.8888888888888888,
              "#fdca26"
             ],
             [
              1,
              "#f0f921"
             ]
            ],
            "type": "histogram2d"
           }
          ],
          "histogram2dcontour": [
           {
            "colorbar": {
             "outlinewidth": 0,
             "ticks": ""
            },
            "colorscale": [
             [
              0,
              "#0d0887"
             ],
             [
              0.1111111111111111,
              "#46039f"
             ],
             [
              0.2222222222222222,
              "#7201a8"
             ],
             [
              0.3333333333333333,
              "#9c179e"
             ],
             [
              0.4444444444444444,
              "#bd3786"
             ],
             [
              0.5555555555555556,
              "#d8576b"
             ],
             [
              0.6666666666666666,
              "#ed7953"
             ],
             [
              0.7777777777777778,
              "#fb9f3a"
             ],
             [
              0.8888888888888888,
              "#fdca26"
             ],
             [
              1,
              "#f0f921"
             ]
            ],
            "type": "histogram2dcontour"
           }
          ],
          "mesh3d": [
           {
            "colorbar": {
             "outlinewidth": 0,
             "ticks": ""
            },
            "type": "mesh3d"
           }
          ],
          "parcoords": [
           {
            "line": {
             "colorbar": {
              "outlinewidth": 0,
              "ticks": ""
             }
            },
            "type": "parcoords"
           }
          ],
          "pie": [
           {
            "automargin": true,
            "type": "pie"
           }
          ],
          "scatter": [
           {
            "fillpattern": {
             "fillmode": "overlay",
             "size": 10,
             "solidity": 0.2
            },
            "type": "scatter"
           }
          ],
          "scatter3d": [
           {
            "line": {
             "colorbar": {
              "outlinewidth": 0,
              "ticks": ""
             }
            },
            "marker": {
             "colorbar": {
              "outlinewidth": 0,
              "ticks": ""
             }
            },
            "type": "scatter3d"
           }
          ],
          "scattercarpet": [
           {
            "marker": {
             "colorbar": {
              "outlinewidth": 0,
              "ticks": ""
             }
            },
            "type": "scattercarpet"
           }
          ],
          "scattergeo": [
           {
            "marker": {
             "colorbar": {
              "outlinewidth": 0,
              "ticks": ""
             }
            },
            "type": "scattergeo"
           }
          ],
          "scattergl": [
           {
            "marker": {
             "colorbar": {
              "outlinewidth": 0,
              "ticks": ""
             }
            },
            "type": "scattergl"
           }
          ],
          "scattermapbox": [
           {
            "marker": {
             "colorbar": {
              "outlinewidth": 0,
              "ticks": ""
             }
            },
            "type": "scattermapbox"
           }
          ],
          "scatterpolar": [
           {
            "marker": {
             "colorbar": {
              "outlinewidth": 0,
              "ticks": ""
             }
            },
            "type": "scatterpolar"
           }
          ],
          "scatterpolargl": [
           {
            "marker": {
             "colorbar": {
              "outlinewidth": 0,
              "ticks": ""
             }
            },
            "type": "scatterpolargl"
           }
          ],
          "scatterternary": [
           {
            "marker": {
             "colorbar": {
              "outlinewidth": 0,
              "ticks": ""
             }
            },
            "type": "scatterternary"
           }
          ],
          "surface": [
           {
            "colorbar": {
             "outlinewidth": 0,
             "ticks": ""
            },
            "colorscale": [
             [
              0,
              "#0d0887"
             ],
             [
              0.1111111111111111,
              "#46039f"
             ],
             [
              0.2222222222222222,
              "#7201a8"
             ],
             [
              0.3333333333333333,
              "#9c179e"
             ],
             [
              0.4444444444444444,
              "#bd3786"
             ],
             [
              0.5555555555555556,
              "#d8576b"
             ],
             [
              0.6666666666666666,
              "#ed7953"
             ],
             [
              0.7777777777777778,
              "#fb9f3a"
             ],
             [
              0.8888888888888888,
              "#fdca26"
             ],
             [
              1,
              "#f0f921"
             ]
            ],
            "type": "surface"
           }
          ],
          "table": [
           {
            "cells": {
             "fill": {
              "color": "#EBF0F8"
             },
             "line": {
              "color": "white"
             }
            },
            "header": {
             "fill": {
              "color": "#C8D4E3"
             },
             "line": {
              "color": "white"
             }
            },
            "type": "table"
           }
          ]
         },
         "layout": {
          "annotationdefaults": {
           "arrowcolor": "#2a3f5f",
           "arrowhead": 0,
           "arrowwidth": 1
          },
          "autotypenumbers": "strict",
          "coloraxis": {
           "colorbar": {
            "outlinewidth": 0,
            "ticks": ""
           }
          },
          "colorscale": {
           "diverging": [
            [
             0,
             "#8e0152"
            ],
            [
             0.1,
             "#c51b7d"
            ],
            [
             0.2,
             "#de77ae"
            ],
            [
             0.3,
             "#f1b6da"
            ],
            [
             0.4,
             "#fde0ef"
            ],
            [
             0.5,
             "#f7f7f7"
            ],
            [
             0.6,
             "#e6f5d0"
            ],
            [
             0.7,
             "#b8e186"
            ],
            [
             0.8,
             "#7fbc41"
            ],
            [
             0.9,
             "#4d9221"
            ],
            [
             1,
             "#276419"
            ]
           ],
           "sequential": [
            [
             0,
             "#0d0887"
            ],
            [
             0.1111111111111111,
             "#46039f"
            ],
            [
             0.2222222222222222,
             "#7201a8"
            ],
            [
             0.3333333333333333,
             "#9c179e"
            ],
            [
             0.4444444444444444,
             "#bd3786"
            ],
            [
             0.5555555555555556,
             "#d8576b"
            ],
            [
             0.6666666666666666,
             "#ed7953"
            ],
            [
             0.7777777777777778,
             "#fb9f3a"
            ],
            [
             0.8888888888888888,
             "#fdca26"
            ],
            [
             1,
             "#f0f921"
            ]
           ],
           "sequentialminus": [
            [
             0,
             "#0d0887"
            ],
            [
             0.1111111111111111,
             "#46039f"
            ],
            [
             0.2222222222222222,
             "#7201a8"
            ],
            [
             0.3333333333333333,
             "#9c179e"
            ],
            [
             0.4444444444444444,
             "#bd3786"
            ],
            [
             0.5555555555555556,
             "#d8576b"
            ],
            [
             0.6666666666666666,
             "#ed7953"
            ],
            [
             0.7777777777777778,
             "#fb9f3a"
            ],
            [
             0.8888888888888888,
             "#fdca26"
            ],
            [
             1,
             "#f0f921"
            ]
           ]
          },
          "colorway": [
           "#636efa",
           "#EF553B",
           "#00cc96",
           "#ab63fa",
           "#FFA15A",
           "#19d3f3",
           "#FF6692",
           "#B6E880",
           "#FF97FF",
           "#FECB52"
          ],
          "font": {
           "color": "#2a3f5f"
          },
          "geo": {
           "bgcolor": "white",
           "lakecolor": "white",
           "landcolor": "white",
           "showlakes": true,
           "showland": true,
           "subunitcolor": "#C8D4E3"
          },
          "hoverlabel": {
           "align": "left"
          },
          "hovermode": "closest",
          "mapbox": {
           "style": "light"
          },
          "paper_bgcolor": "white",
          "plot_bgcolor": "white",
          "polar": {
           "angularaxis": {
            "gridcolor": "#EBF0F8",
            "linecolor": "#EBF0F8",
            "ticks": ""
           },
           "bgcolor": "white",
           "radialaxis": {
            "gridcolor": "#EBF0F8",
            "linecolor": "#EBF0F8",
            "ticks": ""
           }
          },
          "scene": {
           "xaxis": {
            "backgroundcolor": "white",
            "gridcolor": "#DFE8F3",
            "gridwidth": 2,
            "linecolor": "#EBF0F8",
            "showbackground": true,
            "ticks": "",
            "zerolinecolor": "#EBF0F8"
           },
           "yaxis": {
            "backgroundcolor": "white",
            "gridcolor": "#DFE8F3",
            "gridwidth": 2,
            "linecolor": "#EBF0F8",
            "showbackground": true,
            "ticks": "",
            "zerolinecolor": "#EBF0F8"
           },
           "zaxis": {
            "backgroundcolor": "white",
            "gridcolor": "#DFE8F3",
            "gridwidth": 2,
            "linecolor": "#EBF0F8",
            "showbackground": true,
            "ticks": "",
            "zerolinecolor": "#EBF0F8"
           }
          },
          "shapedefaults": {
           "line": {
            "color": "#2a3f5f"
           }
          },
          "ternary": {
           "aaxis": {
            "gridcolor": "#DFE8F3",
            "linecolor": "#A2B1C6",
            "ticks": ""
           },
           "baxis": {
            "gridcolor": "#DFE8F3",
            "linecolor": "#A2B1C6",
            "ticks": ""
           },
           "bgcolor": "white",
           "caxis": {
            "gridcolor": "#DFE8F3",
            "linecolor": "#A2B1C6",
            "ticks": ""
           }
          },
          "title": {
           "x": 0.05
          },
          "xaxis": {
           "automargin": true,
           "gridcolor": "#EBF0F8",
           "linecolor": "#EBF0F8",
           "ticks": "",
           "title": {
            "standoff": 15
           },
           "zerolinecolor": "#EBF0F8",
           "zerolinewidth": 2
          },
          "yaxis": {
           "automargin": true,
           "gridcolor": "#EBF0F8",
           "linecolor": "#EBF0F8",
           "ticks": "",
           "title": {
            "standoff": 15
           },
           "zerolinecolor": "#EBF0F8",
           "zerolinewidth": 2
          }
         }
        },
        "title": {
         "text": "Histogram of magnitude"
        },
        "xaxis": {
         "tickmode": "array",
         "ticktext": [
          "-0.875",
          "-0.625",
          "-0.375",
          "-0.125",
          "0.125",
          "0.375",
          "0.625",
          "0.875",
          "1.125",
          "1.375",
          "1.625",
          "1.875",
          "2.125",
          "2.375",
          "2.625",
          "2.875"
         ],
         "tickvals": [
          -0.875,
          -0.625,
          -0.375,
          -0.125,
          0.125,
          0.375,
          0.625,
          0.875,
          1.125,
          1.375,
          1.625,
          1.875,
          2.125,
          2.375,
          2.625,
          2.875
         ],
         "title": {
          "text": "magnitude"
         }
        },
        "yaxis": {
         "title": {
          "text": "Count"
         }
        }
       }
      }
     },
     "metadata": {},
     "output_type": "display_data"
    }
   ],
   "source": [
    "# setting plotly for static render (delete this import and the render setting in your own scripts to experience plotly interactive, this is just for github deployment in this tutorial)\n",
    "# import plotly.io as pio\n",
    "# pio.renderers.default = 'png'  # or 'svg'\n",
    "\n",
    "# Example of using plot_histogram methodft \n",
    "lqt_ready_2.plot_histogram('magnitude', bin_width=0.25, min_bin=-1.0, max_bin=3.0)"
   ]
  },
  {
   "cell_type": "code",
   "execution_count": 6,
   "metadata": {},
   "outputs": [
    {
     "data": {
      "application/vnd.plotly.v1+json": {
       "config": {
        "plotlyServerURL": "https://plot.ly"
       },
       "data": [
        {
         "hovertemplate": "Bin_center: %{x:.3f}<br>count: %{y}<extra></extra>",
         "marker": {
          "color": "skyblue"
         },
         "name": "source_err_rms_s",
         "type": "bar",
         "width": 0.01,
         "x": [
          0.005,
          0.015,
          0.025,
          0.035,
          0.045,
          0.055,
          0.065,
          0.07500000000000001,
          0.08499999999999999,
          0.095
         ],
         "y": [
          451,
          84,
          108,
          53,
          42,
          19,
          17,
          7,
          6,
          0
         ]
        }
       ],
       "layout": {
        "bargap": 0.25,
        "showlegend": false,
        "template": {
         "data": {
          "bar": [
           {
            "error_x": {
             "color": "#2a3f5f"
            },
            "error_y": {
             "color": "#2a3f5f"
            },
            "marker": {
             "line": {
              "color": "white",
              "width": 0.5
             },
             "pattern": {
              "fillmode": "overlay",
              "size": 10,
              "solidity": 0.2
             }
            },
            "type": "bar"
           }
          ],
          "barpolar": [
           {
            "marker": {
             "line": {
              "color": "white",
              "width": 0.5
             },
             "pattern": {
              "fillmode": "overlay",
              "size": 10,
              "solidity": 0.2
             }
            },
            "type": "barpolar"
           }
          ],
          "carpet": [
           {
            "aaxis": {
             "endlinecolor": "#2a3f5f",
             "gridcolor": "#C8D4E3",
             "linecolor": "#C8D4E3",
             "minorgridcolor": "#C8D4E3",
             "startlinecolor": "#2a3f5f"
            },
            "baxis": {
             "endlinecolor": "#2a3f5f",
             "gridcolor": "#C8D4E3",
             "linecolor": "#C8D4E3",
             "minorgridcolor": "#C8D4E3",
             "startlinecolor": "#2a3f5f"
            },
            "type": "carpet"
           }
          ],
          "choropleth": [
           {
            "colorbar": {
             "outlinewidth": 0,
             "ticks": ""
            },
            "type": "choropleth"
           }
          ],
          "contour": [
           {
            "colorbar": {
             "outlinewidth": 0,
             "ticks": ""
            },
            "colorscale": [
             [
              0,
              "#0d0887"
             ],
             [
              0.1111111111111111,
              "#46039f"
             ],
             [
              0.2222222222222222,
              "#7201a8"
             ],
             [
              0.3333333333333333,
              "#9c179e"
             ],
             [
              0.4444444444444444,
              "#bd3786"
             ],
             [
              0.5555555555555556,
              "#d8576b"
             ],
             [
              0.6666666666666666,
              "#ed7953"
             ],
             [
              0.7777777777777778,
              "#fb9f3a"
             ],
             [
              0.8888888888888888,
              "#fdca26"
             ],
             [
              1,
              "#f0f921"
             ]
            ],
            "type": "contour"
           }
          ],
          "contourcarpet": [
           {
            "colorbar": {
             "outlinewidth": 0,
             "ticks": ""
            },
            "type": "contourcarpet"
           }
          ],
          "heatmap": [
           {
            "colorbar": {
             "outlinewidth": 0,
             "ticks": ""
            },
            "colorscale": [
             [
              0,
              "#0d0887"
             ],
             [
              0.1111111111111111,
              "#46039f"
             ],
             [
              0.2222222222222222,
              "#7201a8"
             ],
             [
              0.3333333333333333,
              "#9c179e"
             ],
             [
              0.4444444444444444,
              "#bd3786"
             ],
             [
              0.5555555555555556,
              "#d8576b"
             ],
             [
              0.6666666666666666,
              "#ed7953"
             ],
             [
              0.7777777777777778,
              "#fb9f3a"
             ],
             [
              0.8888888888888888,
              "#fdca26"
             ],
             [
              1,
              "#f0f921"
             ]
            ],
            "type": "heatmap"
           }
          ],
          "heatmapgl": [
           {
            "colorbar": {
             "outlinewidth": 0,
             "ticks": ""
            },
            "colorscale": [
             [
              0,
              "#0d0887"
             ],
             [
              0.1111111111111111,
              "#46039f"
             ],
             [
              0.2222222222222222,
              "#7201a8"
             ],
             [
              0.3333333333333333,
              "#9c179e"
             ],
             [
              0.4444444444444444,
              "#bd3786"
             ],
             [
              0.5555555555555556,
              "#d8576b"
             ],
             [
              0.6666666666666666,
              "#ed7953"
             ],
             [
              0.7777777777777778,
              "#fb9f3a"
             ],
             [
              0.8888888888888888,
              "#fdca26"
             ],
             [
              1,
              "#f0f921"
             ]
            ],
            "type": "heatmapgl"
           }
          ],
          "histogram": [
           {
            "marker": {
             "pattern": {
              "fillmode": "overlay",
              "size": 10,
              "solidity": 0.2
             }
            },
            "type": "histogram"
           }
          ],
          "histogram2d": [
           {
            "colorbar": {
             "outlinewidth": 0,
             "ticks": ""
            },
            "colorscale": [
             [
              0,
              "#0d0887"
             ],
             [
              0.1111111111111111,
              "#46039f"
             ],
             [
              0.2222222222222222,
              "#7201a8"
             ],
             [
              0.3333333333333333,
              "#9c179e"
             ],
             [
              0.4444444444444444,
              "#bd3786"
             ],
             [
              0.5555555555555556,
              "#d8576b"
             ],
             [
              0.6666666666666666,
              "#ed7953"
             ],
             [
              0.7777777777777778,
              "#fb9f3a"
             ],
             [
              0.8888888888888888,
              "#fdca26"
             ],
             [
              1,
              "#f0f921"
             ]
            ],
            "type": "histogram2d"
           }
          ],
          "histogram2dcontour": [
           {
            "colorbar": {
             "outlinewidth": 0,
             "ticks": ""
            },
            "colorscale": [
             [
              0,
              "#0d0887"
             ],
             [
              0.1111111111111111,
              "#46039f"
             ],
             [
              0.2222222222222222,
              "#7201a8"
             ],
             [
              0.3333333333333333,
              "#9c179e"
             ],
             [
              0.4444444444444444,
              "#bd3786"
             ],
             [
              0.5555555555555556,
              "#d8576b"
             ],
             [
              0.6666666666666666,
              "#ed7953"
             ],
             [
              0.7777777777777778,
              "#fb9f3a"
             ],
             [
              0.8888888888888888,
              "#fdca26"
             ],
             [
              1,
              "#f0f921"
             ]
            ],
            "type": "histogram2dcontour"
           }
          ],
          "mesh3d": [
           {
            "colorbar": {
             "outlinewidth": 0,
             "ticks": ""
            },
            "type": "mesh3d"
           }
          ],
          "parcoords": [
           {
            "line": {
             "colorbar": {
              "outlinewidth": 0,
              "ticks": ""
             }
            },
            "type": "parcoords"
           }
          ],
          "pie": [
           {
            "automargin": true,
            "type": "pie"
           }
          ],
          "scatter": [
           {
            "fillpattern": {
             "fillmode": "overlay",
             "size": 10,
             "solidity": 0.2
            },
            "type": "scatter"
           }
          ],
          "scatter3d": [
           {
            "line": {
             "colorbar": {
              "outlinewidth": 0,
              "ticks": ""
             }
            },
            "marker": {
             "colorbar": {
              "outlinewidth": 0,
              "ticks": ""
             }
            },
            "type": "scatter3d"
           }
          ],
          "scattercarpet": [
           {
            "marker": {
             "colorbar": {
              "outlinewidth": 0,
              "ticks": ""
             }
            },
            "type": "scattercarpet"
           }
          ],
          "scattergeo": [
           {
            "marker": {
             "colorbar": {
              "outlinewidth": 0,
              "ticks": ""
             }
            },
            "type": "scattergeo"
           }
          ],
          "scattergl": [
           {
            "marker": {
             "colorbar": {
              "outlinewidth": 0,
              "ticks": ""
             }
            },
            "type": "scattergl"
           }
          ],
          "scattermapbox": [
           {
            "marker": {
             "colorbar": {
              "outlinewidth": 0,
              "ticks": ""
             }
            },
            "type": "scattermapbox"
           }
          ],
          "scatterpolar": [
           {
            "marker": {
             "colorbar": {
              "outlinewidth": 0,
              "ticks": ""
             }
            },
            "type": "scatterpolar"
           }
          ],
          "scatterpolargl": [
           {
            "marker": {
             "colorbar": {
              "outlinewidth": 0,
              "ticks": ""
             }
            },
            "type": "scatterpolargl"
           }
          ],
          "scatterternary": [
           {
            "marker": {
             "colorbar": {
              "outlinewidth": 0,
              "ticks": ""
             }
            },
            "type": "scatterternary"
           }
          ],
          "surface": [
           {
            "colorbar": {
             "outlinewidth": 0,
             "ticks": ""
            },
            "colorscale": [
             [
              0,
              "#0d0887"
             ],
             [
              0.1111111111111111,
              "#46039f"
             ],
             [
              0.2222222222222222,
              "#7201a8"
             ],
             [
              0.3333333333333333,
              "#9c179e"
             ],
             [
              0.4444444444444444,
              "#bd3786"
             ],
             [
              0.5555555555555556,
              "#d8576b"
             ],
             [
              0.6666666666666666,
              "#ed7953"
             ],
             [
              0.7777777777777778,
              "#fb9f3a"
             ],
             [
              0.8888888888888888,
              "#fdca26"
             ],
             [
              1,
              "#f0f921"
             ]
            ],
            "type": "surface"
           }
          ],
          "table": [
           {
            "cells": {
             "fill": {
              "color": "#EBF0F8"
             },
             "line": {
              "color": "white"
             }
            },
            "header": {
             "fill": {
              "color": "#C8D4E3"
             },
             "line": {
              "color": "white"
             }
            },
            "type": "table"
           }
          ]
         },
         "layout": {
          "annotationdefaults": {
           "arrowcolor": "#2a3f5f",
           "arrowhead": 0,
           "arrowwidth": 1
          },
          "autotypenumbers": "strict",
          "coloraxis": {
           "colorbar": {
            "outlinewidth": 0,
            "ticks": ""
           }
          },
          "colorscale": {
           "diverging": [
            [
             0,
             "#8e0152"
            ],
            [
             0.1,
             "#c51b7d"
            ],
            [
             0.2,
             "#de77ae"
            ],
            [
             0.3,
             "#f1b6da"
            ],
            [
             0.4,
             "#fde0ef"
            ],
            [
             0.5,
             "#f7f7f7"
            ],
            [
             0.6,
             "#e6f5d0"
            ],
            [
             0.7,
             "#b8e186"
            ],
            [
             0.8,
             "#7fbc41"
            ],
            [
             0.9,
             "#4d9221"
            ],
            [
             1,
             "#276419"
            ]
           ],
           "sequential": [
            [
             0,
             "#0d0887"
            ],
            [
             0.1111111111111111,
             "#46039f"
            ],
            [
             0.2222222222222222,
             "#7201a8"
            ],
            [
             0.3333333333333333,
             "#9c179e"
            ],
            [
             0.4444444444444444,
             "#bd3786"
            ],
            [
             0.5555555555555556,
             "#d8576b"
            ],
            [
             0.6666666666666666,
             "#ed7953"
            ],
            [
             0.7777777777777778,
             "#fb9f3a"
            ],
            [
             0.8888888888888888,
             "#fdca26"
            ],
            [
             1,
             "#f0f921"
            ]
           ],
           "sequentialminus": [
            [
             0,
             "#0d0887"
            ],
            [
             0.1111111111111111,
             "#46039f"
            ],
            [
             0.2222222222222222,
             "#7201a8"
            ],
            [
             0.3333333333333333,
             "#9c179e"
            ],
            [
             0.4444444444444444,
             "#bd3786"
            ],
            [
             0.5555555555555556,
             "#d8576b"
            ],
            [
             0.6666666666666666,
             "#ed7953"
            ],
            [
             0.7777777777777778,
             "#fb9f3a"
            ],
            [
             0.8888888888888888,
             "#fdca26"
            ],
            [
             1,
             "#f0f921"
            ]
           ]
          },
          "colorway": [
           "#636efa",
           "#EF553B",
           "#00cc96",
           "#ab63fa",
           "#FFA15A",
           "#19d3f3",
           "#FF6692",
           "#B6E880",
           "#FF97FF",
           "#FECB52"
          ],
          "font": {
           "color": "#2a3f5f"
          },
          "geo": {
           "bgcolor": "white",
           "lakecolor": "white",
           "landcolor": "white",
           "showlakes": true,
           "showland": true,
           "subunitcolor": "#C8D4E3"
          },
          "hoverlabel": {
           "align": "left"
          },
          "hovermode": "closest",
          "mapbox": {
           "style": "light"
          },
          "paper_bgcolor": "white",
          "plot_bgcolor": "white",
          "polar": {
           "angularaxis": {
            "gridcolor": "#EBF0F8",
            "linecolor": "#EBF0F8",
            "ticks": ""
           },
           "bgcolor": "white",
           "radialaxis": {
            "gridcolor": "#EBF0F8",
            "linecolor": "#EBF0F8",
            "ticks": ""
           }
          },
          "scene": {
           "xaxis": {
            "backgroundcolor": "white",
            "gridcolor": "#DFE8F3",
            "gridwidth": 2,
            "linecolor": "#EBF0F8",
            "showbackground": true,
            "ticks": "",
            "zerolinecolor": "#EBF0F8"
           },
           "yaxis": {
            "backgroundcolor": "white",
            "gridcolor": "#DFE8F3",
            "gridwidth": 2,
            "linecolor": "#EBF0F8",
            "showbackground": true,
            "ticks": "",
            "zerolinecolor": "#EBF0F8"
           },
           "zaxis": {
            "backgroundcolor": "white",
            "gridcolor": "#DFE8F3",
            "gridwidth": 2,
            "linecolor": "#EBF0F8",
            "showbackground": true,
            "ticks": "",
            "zerolinecolor": "#EBF0F8"
           }
          },
          "shapedefaults": {
           "line": {
            "color": "#2a3f5f"
           }
          },
          "ternary": {
           "aaxis": {
            "gridcolor": "#DFE8F3",
            "linecolor": "#A2B1C6",
            "ticks": ""
           },
           "baxis": {
            "gridcolor": "#DFE8F3",
            "linecolor": "#A2B1C6",
            "ticks": ""
           },
           "bgcolor": "white",
           "caxis": {
            "gridcolor": "#DFE8F3",
            "linecolor": "#A2B1C6",
            "ticks": ""
           }
          },
          "title": {
           "x": 0.05
          },
          "xaxis": {
           "automargin": true,
           "gridcolor": "#EBF0F8",
           "linecolor": "#EBF0F8",
           "ticks": "",
           "title": {
            "standoff": 15
           },
           "zerolinecolor": "#EBF0F8",
           "zerolinewidth": 2
          },
          "yaxis": {
           "automargin": true,
           "gridcolor": "#EBF0F8",
           "linecolor": "#EBF0F8",
           "ticks": "",
           "title": {
            "standoff": 15
           },
           "zerolinecolor": "#EBF0F8",
           "zerolinewidth": 2
          }
         }
        },
        "title": {
         "text": "Histogram of source_err_rms_s"
        },
        "xaxis": {
         "tickmode": "array",
         "ticktext": [
          "0.005",
          "0.015",
          "0.025",
          "0.035",
          "0.045",
          "0.055",
          "0.065",
          "0.075",
          "0.085",
          "0.095"
         ],
         "tickvals": [
          0.005,
          0.015,
          0.025,
          0.035,
          0.045,
          0.055,
          0.065,
          0.07500000000000001,
          0.08499999999999999,
          0.095
         ],
         "title": {
          "text": "source_err_rms_s"
         }
        },
        "yaxis": {
         "title": {
          "text": "Count"
         }
        }
       }
      }
     },
     "metadata": {},
     "output_type": "display_data"
    }
   ],
   "source": [
    "# Another example using different columns\n",
    "lqt_ready_2.plot_histogram('source_err_rms_s', 0.01, max_bin=0.1)"
   ]
  },
  {
   "cell_type": "markdown",
   "metadata": {},
   "source": [
    "### 5. Plotting Hypocenters in 2D and 3D Plot\n",
    "\n",
    "We also provide hypocenter plots in both 2D and 3D to make data analysis easier for you."
   ]
  },
  {
   "cell_type": "markdown",
   "metadata": {},
   "source": [
    "A. 2D Hypocenter Plot\n",
    "\n",
    "To plot your hypocenter in 2D plane we can use `plot_hypocenter_2D` class method."
   ]
  },
  {
   "cell_type": "code",
   "execution_count": 7,
   "metadata": {},
   "outputs": [
    {
     "data": {
      "application/vnd.plotly.v1+json": {
       "config": {
        "plotlyServerURL": "https://plot.ly"
       },
       "data": [
        {
         "customdata": [
          [
           -873.3,
           0.26121926379333965
          ],
          [
           1258.86,
           0.5281763496061278
          ],
          [
           1366.21,
           0.6523560339859846
          ],
          [
           1030.06,
           0.4166961452522154
          ],
          [
           -265.14,
           0.48757248288339333
          ],
          [
           -121.14,
           0.9357870939555013
          ],
          [
           -108.44,
           0.5214916621019866
          ],
          [
           -393.28,
           0.35219402608228434
          ],
          [
           -296.92,
           0.40704738492157877
          ],
          [
           -142.22,
           0.7585852770251673
          ],
          [
           -403.04,
           0.32973477042076427
          ],
          [
           -385.08,
           0.40003456308408647
          ],
          [
           -256.33,
           0.3860350052084138
          ],
          [
           -191.3,
           0.35606272958091095
          ],
          [
           251.04,
           0.5422982733466973
          ],
          [
           -525,
           0.08479402862903412
          ],
          [
           203.19,
           0.420038170101481
          ],
          [
           267.5,
           0.5738187115779918
          ],
          [
           -116.28,
           0.35794950358947086
          ],
          [
           311.44,
           0.4752052918028508
          ],
          [
           -906.696,
           0.22862979119177923
          ],
          [
           -1005.655,
           0.503653232667202
          ],
          [
           -496.726,
           0.3637508306737612
          ],
          [
           1708.631,
           0.43651051760794535
          ],
          [
           449.89,
           0.24379567163332694
          ],
          [
           470.75,
           0.24619587857521694
          ],
          [
           455.17,
           0.2430386915873303
          ],
          [
           6826.19,
           0.6032619912864049
          ],
          [
           -1571.131,
           0.16641224583391515
          ],
          [
           634.95,
           0.48213041478339635
          ],
          [
           217.68,
           0.32147061149344797
          ],
          [
           360.13,
           0.30728685087729324
          ],
          [
           4507.23,
           0.6966726872765974
          ],
          [
           4391.01,
           0.6562623151983384
          ],
          [
           4622.56,
           0.6274930430251674
          ],
          [
           4960.119,
           0.6120651949482874
          ],
          [
           540.13,
           0.5360555325691848
          ],
          [
           517.66,
           0.36348190592781243
          ],
          [
           427.63,
           0.47543536803496744
          ],
          [
           85.59,
           0.3305636173604885
          ],
          [
           1821.726,
           0.38216724524970747
          ],
          [
           296.14,
           0.4465615499956643
          ],
          [
           339.73,
           0.30544600653504506
          ],
          [
           882.02,
           0.4622590109655616
          ],
          [
           973.512,
           0.36905901352575654
          ],
          [
           -414.91,
           0.22247196838224406
          ],
          [
           92.76,
           0.22632557351450872
          ],
          [
           230.87,
           0.38881838468332763
          ],
          [
           218,
           0.6786315569705735
          ],
          [
           260.72,
           0.22024333775886507
          ],
          [
           348.39,
           0.3401289228549742
          ],
          [
           452.72,
           0.3395029746477791
          ],
          [
           433.14,
           0.25859315640528757
          ],
          [
           513.09,
           0.19541573199961654
          ],
          [
           315.71,
           0.3628654369069707
          ],
          [
           538.17,
           0.5313618060381308
          ],
          [
           890.11,
           0.29218490470439684
          ],
          [
           1004.55,
           0.37812780330983653
          ],
          [
           880.33,
           0.46891344292339254
          ],
          [
           485.01,
           0.47765867189381356
          ],
          [
           345.64,
           0.41217429082240087
          ],
          [
           586.65,
           0.2343418760325833
          ],
          [
           442.57,
           0.22497984246498448
          ],
          [
           381.24,
           0.27784405630312076
          ],
          [
           83.58,
           0.2325184119862945
          ],
          [
           24.83,
           0.2432993411964393
          ],
          [
           -32.01,
           0.25909756084526975
          ],
          [
           339.67,
           0.47270896187829387
          ],
          [
           161.22,
           0.7233864707183877
          ],
          [
           61.85,
           0.45717803872967533
          ],
          [
           -380.6,
           0.3917091999888866
          ],
          [
           79.75,
           0.15869809927691947
          ],
          [
           -170.43,
           0.24914041142402124
          ],
          [
           229.52,
           0.5656457127450744
          ],
          [
           98.89,
           0.30956510474674503
          ],
          [
           1086.607,
           0.33217726794297087
          ],
          [
           269.98,
           0.2791532311650209
          ],
          [
           166.82,
           0.20045752424281502
          ],
          [
           1850,
           0.6352498980757324
          ],
          [
           -977.381,
           0.03864073572510513
          ],
          [
           438.44,
           0.4958138380261185
          ],
          [
           746.26,
           0.32332865944972355
          ],
          [
           736.65,
           0.30417970051538884
          ],
          [
           408.3,
           0.29451874844039855
          ],
          [
           -445.61,
           0.3858298764083013
          ],
          [
           -269.64,
           0.5601672376006379
          ],
          [
           -67.47,
           0.38433832881365154
          ],
          [
           724.28,
           0.5154981453250481
          ],
          [
           602.01,
           0.6049408150815766
          ],
          [
           971.53,
           0.37866749260225846
          ],
          [
           453.34,
           0.33216728702875364
          ],
          [
           -235.09,
           0.18472717927930818
          ],
          [
           1470.68,
           0.24811395804479183
          ],
          [
           518.89,
           0.6367063426081525
          ],
          [
           480.95,
           0.3203991819164251
          ],
          [
           72.44,
           0.17520068229812288
          ],
          [
           -796.13,
           0.44827108343750455
          ],
          [
           -119.23,
           0.30175848769773883
          ],
          [
           183.11,
           0.4261408206478536
          ],
          [
           43.09,
           0.22759922393755244
          ],
          [
           33.2,
           0.18258503257841457
          ],
          [
           2.46,
           0.20145640097048936
          ],
          [
           -110.37,
           0.29438544570723485
          ],
          [
           314.25,
           0.2940499999151621
          ],
          [
           605.53,
           0.4527959222673185
          ],
          [
           -9.27,
           0.16759170903143017
          ],
          [
           1112.54,
           0.4307729224482384
          ],
          [
           -185.46,
           0.3486192005416716
          ],
          [
           -183.21,
           0.43765350817530324
          ],
          [
           -153.36,
           0.37366987344690705
          ],
          [
           165.88,
           0.4113462112239352
          ],
          [
           -532.39,
           0.4212146711621607
          ],
          [
           -182.25,
           0.41764954361201473
          ],
          [
           -491.23,
           0.27119378495586366
          ],
          [
           -561.15,
           0.3899373649915553
          ],
          [
           -161.62,
           0.41241798139134894
          ],
          [
           619.22,
           0.2715593307484723
          ],
          [
           -468.452,
           0.2503290784673597
          ],
          [
           367.22,
           0.3296150446630359
          ],
          [
           11.08,
           0.37960930512974683
          ],
          [
           -62.24,
           0.08856697742584055
          ],
          [
           803.869,
           0.37084015429552425
          ],
          [
           1145.1,
           0.4684134220296294
          ],
          [
           -79.76,
           0.2345279111037458
          ],
          [
           -95.58,
           0.4430902757977945
          ],
          [
           1227.976,
           0.32023043048114147
          ],
          [
           -697.62,
           0.0036865692628693966
          ],
          [
           623.07,
           0.33996748117187253
          ],
          [
           201.19,
           0.11357670312034496
          ],
          [
           209.13,
           0.3062890597839404
          ],
          [
           -168.02,
           0.48072253553471195
          ],
          [
           765.87,
           0.42071706802266057
          ],
          [
           -416.75,
           0.30852960719446176
          ],
          [
           -2306.25,
           0.0028692454614197955
          ],
          [
           -169.41,
           0.2979737115189588
          ],
          [
           -16.071,
           0.13137686304730065
          ],
          [
           2245.76,
           0.2698357468196777
          ],
          [
           -818.66,
           0.31460172649430707
          ],
          [
           445.82,
           0.45512508907167587
          ],
          [
           9879.762,
           0.6846457766535676
          ],
          [
           3682.21,
           0.31187309073276276
          ],
          [
           -1655.952,
           0.2740611853652306
          ],
          [
           299.82,
           0.31868833545154374
          ],
          [
           1050.16,
           0.2541660647404018
          ],
          [
           604.83,
           0.19640281684255897
          ],
          [
           958.99,
           0.31814427183103383
          ],
          [
           954.5,
           0.31855774111641433
          ],
          [
           39.32,
           0.47606415512131683
          ],
          [
           339.43,
           0.4909511745310951
          ],
          [
           402.66,
           0.3081888591093766
          ],
          [
           -22.7,
           0.1650530762682359
          ],
          [
           -146.65,
           0.3368878690137922
          ],
          [
           36.17,
           0.2547085896276976
          ],
          [
           723.02,
           0.24930755182029882
          ],
          [
           734.57,
           0.4061596624930957
          ],
          [
           565.2,
           0.3190313095833409
          ],
          [
           375.46,
           0.3768285017179226
          ],
          [
           560.05,
           0.5555221505416276
          ],
          [
           532.02,
           0.5802374248094132
          ],
          [
           -16.071,
           0.21899608160520923
          ],
          [
           -787.11,
           0.22521479733565367
          ],
          [
           -991.94,
           0.2070449333964052
          ],
          [
           516.38,
           0.6448971138285611
          ],
          [
           -170.35,
           0.6220917929074133
          ],
          [
           605.952,
           0.60389562651715
          ],
          [
           607.16,
           0.558347947577639
          ],
          [
           -650.9,
           0.5090003582723345
          ],
          [
           -894.71,
           0.5699038836613338
          ],
          [
           372.49,
           0.6769481105559996
          ],
          [
           -977.381,
           0.4489507904006101
          ],
          [
           676.637,
           0.6017188411990725
          ],
          [
           610.36,
           0.6033119843042845
          ],
          [
           438.11,
           0.4352910804250225
          ],
          [
           469.82,
           0.4630622826072723
          ],
          [
           -1344.91,
           0.2623897312573501
          ],
          [
           -644.01,
           0.08753792773240042
          ],
          [
           737.65,
           0.43589865511000986
          ],
          [
           830.77,
           0.3761975524296307
          ],
          [
           -749.59,
           0.0799844090379353
          ],
          [
           1199.13,
           0.5334998157662495
          ],
          [
           -1278.71,
           0.20188248269130082
          ],
          [
           410.53,
           0.48305803933627284
          ],
          [
           385.53,
           0.3684956724287718
          ],
          [
           -834.7,
           0.26850929917402216
          ],
          [
           504.91,
           0.6986395820732101
          ],
          [
           -1161.51,
           0.21859612546730642
          ],
          [
           482.97,
           0.5937711388293827
          ],
          [
           84.4,
           0.3406717337417768
          ],
          [
           382.13,
           0.35547031869826756
          ],
          [
           739.97,
           0.4970003948819657
          ],
          [
           -1629.85,
           0.25875635773834316
          ],
          [
           -72.619,
           0.3069907251133875
          ],
          [
           -930.58,
           0.31253511300675185
          ],
          [
           888.69,
           0.3830079174818163
          ],
          [
           -291.83,
           0.26879936407706945
          ],
          [
           -1178.72,
           0.24848852466113733
          ],
          [
           741.96,
           0.6653039399887125
          ],
          [
           433.23,
           0.3291466915227124
          ],
          [
           -737.61,
           0.04214972852871979
          ],
          [
           422.73,
           0.2956996923660366
          ],
          [
           209.74,
           0.35618495265499844
          ],
          [
           -230.75,
           0.3357466654333339
          ],
          [
           34.35,
           0.3753263785098208
          ],
          [
           -104.61,
           0.2226038977569129
          ],
          [
           138.68,
           0.27544658549662404
          ],
          [
           -134.73,
           0.2921110320170848
          ],
          [
           606.7,
           0.34330631220665225
          ],
          [
           768.95,
           0.5624450589426095
          ],
          [
           530.62,
           0.3654431703553306
          ],
          [
           209.38,
           0.3075464422801731
          ],
          [
           -683.91,
           0.1081413156833812
          ],
          [
           -453.34,
           0.3760937692697295
          ],
          [
           598.41,
           0.6689971880308415
          ],
          [
           844.37,
           0.3284771530342664
          ],
          [
           240.67,
           0.4027425772906132
          ],
          [
           190.67,
           0.14049375094756186
          ],
          [
           -478.98,
           0.4854116466343103
          ],
          [
           -507.07,
           0.40766030924340824
          ],
          [
           -214.13,
           0.6066596912457497
          ],
          [
           1005.54,
           0.4478885922158546
          ],
          [
           990.53,
           0.38908887508255663
          ],
          [
           942.74,
           0.2165716141592907
          ],
          [
           762.7,
           0.21972755168513097
          ],
          [
           838.31,
           0.1512829107702942
          ],
          [
           468.94,
           0.11990453309273666
          ],
          [
           672.2,
           0.31764671476453027
          ],
          [
           992.7,
           0.4220807933587257
          ],
          [
           664.8,
           0.24754026937680862
          ],
          [
           1015.14,
           0.3557482746011025
          ],
          [
           1012.23,
           0.17829603066736466
          ],
          [
           -2.21,
           0.3456848147796606
          ],
          [
           971.64,
           0.20071179415025356
          ],
          [
           465.48,
           0.1823219933262247
          ],
          [
           578.5,
           0.3363969470449899
          ],
          [
           957.82,
           0.1271606744721593
          ],
          [
           1016.06,
           0.3774108060546108
          ],
          [
           953.39,
           0.1398308176655282
          ],
          [
           990.36,
           0.18960349519615158
          ],
          [
           715.15,
           0.21965025787354464
          ],
          [
           939.29,
           0.13129045095031192
          ],
          [
           -432.77,
           0.16955279012700716
          ],
          [
           18.11,
           0.29995752112665236
          ],
          [
           -118.4,
           0.09435688632476708
          ],
          [
           224.75,
           0.29832737359144035
          ],
          [
           184.26,
           0.23121960586799384
          ],
          [
           6939.286,
           0.4787473864972164
          ],
          [
           989.87,
           0.2062917465288081
          ],
          [
           963.5,
           0.18662720573834687
          ],
          [
           938.08,
           0.2737514325064238
          ],
          [
           990.71,
           0.4041429293028169
          ],
          [
           985.77,
           0.26676409746075735
          ],
          [
           934.08,
           0.33858220843080145
          ],
          [
           1014.88,
           0.25475388193623166
          ],
          [
           844.26,
           0.1858892685203044
          ],
          [
           955.41,
           0.2835991948363934
          ],
          [
           1011.12,
           0.23466756946358772
          ],
          [
           1013.39,
           0.5437207928788274
          ],
          [
           917.36,
           0.2903134207306633
          ],
          [
           923.39,
           0.23997369336182006
          ],
          [
           1010.67,
           0.24204173294955836
          ],
          [
           1091.18,
           0.7349564041282917
          ],
          [
           939.47,
           0.267552004379701
          ],
          [
           963.7,
           0.3318721962617278
          ],
          [
           992.34,
           0.34620559955422825
          ],
          [
           892.39,
           0.21393539420162966
          ],
          [
           1424.02,
           0.23654778322371203
          ],
          [
           197.26,
           0.13211657795387519
          ],
          [
           948.77,
           0.4581151894400954
          ],
          [
           1180.32,
           0.49023074746284157
          ],
          [
           897.48,
           0.12277463381661775
          ],
          [
           903.2,
           0.1404062262730652
          ],
          [
           881.26,
           0.18482690002438654
          ],
          [
           1002.74,
           0.43294334013571145
          ],
          [
           992.92,
           0.31093558492940215
          ],
          [
           407.64,
           0.3861217751443438
          ],
          [
           960.5,
           0.26031679961141513
          ],
          [
           973.89,
           0.37146166246034745
          ],
          [
           13725,
           0.7091019111319894
          ],
          [
           -368.07,
           0.34024844421863604
          ],
          [
           -177.53,
           0.3065047603698797
          ],
          [
           3320.238,
           0.5314955367155735
          ],
          [
           64.81,
           0.06086823038335067
          ],
          [
           479.38,
           0.4802596349171793
          ],
          [
           442.14,
           0.41039521254068173
          ],
          [
           1172.52,
           0.2501558579861811
          ],
          [
           68.45,
           0.10104065840751614
          ],
          [
           771.88,
           0.25772004426068473
          ],
          [
           395.31,
           0.28538378274972487
          ],
          [
           -737.054,
           0.27959582760705826
          ],
          [
           779.61,
           0.29244744158036023
          ],
          [
           14177.381,
           0.7631913031503885
          ],
          [
           983.46,
           0.3351483227216658
          ],
          [
           -107.76,
           0.5958125731337792
          ],
          [
           1312.798,
           0.4771023816605813
          ],
          [
           906.37,
           0.4969746980531421
          ],
          [
           74.39,
           0.416760221939706
          ],
          [
           758.74,
           0.4583721840153839
          ],
          [
           593.6,
           0.3504458126868318
          ],
          [
           1195.37,
           0.11290043486039872
          ],
          [
           -72.56,
           0.2760473870776104
          ],
          [
           -5.34,
           0.28447482363965754
          ],
          [
           -165.18,
           0.20830681745362703
          ],
          [
           4.9,
           0.09259486416697758
          ],
          [
           34.24,
           0.2623388953493824
          ],
          [
           251.13,
           0.4967295596305281
          ],
          [
           -74.98,
           0.7856336127425101
          ],
          [
           -109.53,
           0.6060959120136575
          ],
          [
           -84.57,
           0.39570494731941414
          ],
          [
           300.96,
           0.1906722065502593
          ],
          [
           824.29,
           0.2569626576162591
          ],
          [
           287.76,
           0.3414180360564811
          ],
          [
           101.7,
           0.33156981612485803
          ],
          [
           297.38,
           0.5253182623587321
          ],
          [
           1001.786,
           0.4712900869101929
          ],
          [
           539.71,
           0.22697860304963616
          ],
          [
           23.4,
           0.3909998216759458
          ],
          [
           -637.83,
           0.26228633373752286
          ],
          [
           250.79,
           0.41405458962048647
          ],
          [
           771.84,
           0.49382377761854523
          ],
          [
           -1165.8,
           0.28965326631852245
          ],
          [
           210.35,
           0.2950384972953864
          ],
          [
           -116.12,
           0.25685876871542396
          ],
          [
           483.15,
           0.4623232263603429
          ],
          [
           -51.07,
           0.32811178197354235
          ],
          [
           417.77,
           0.3984809552668715
          ],
          [
           -363.89,
           0.299022799969095
          ],
          [
           -233.17,
           0.49911741740423904
          ],
          [
           650.52,
           0.4776622046092641
          ],
          [
           381.32,
           0.529731670293361
          ],
          [
           234.57,
           0.7782746566978322
          ],
          [
           8748.81,
           0.7470866249803136
          ],
          [
           -721.81,
           0.2244753802333119
          ],
          [
           -274.92,
           0.28368805366224087
          ],
          [
           -164.9,
           0.34714604617394773
          ],
          [
           588.12,
           0.3991996034470699
          ],
          [
           658.39,
           0.2155198436039158
          ],
          [
           935.37,
           0.22847242441213042
          ],
          [
           338.51,
           0.45169282653160725
          ],
          [
           443.04,
           0.36641039867678354
          ],
          [
           662.95,
           0.654201179916653
          ],
          [
           -1169.48,
           0.40506896648132434
          ],
          [
           525.28,
           0.4998113999360882
          ],
          [
           573.01,
           0.4239149290104203
          ],
          [
           8748.81,
           0.6798137833972198
          ],
          [
           572.81,
           0.8318362640405405
          ],
          [
           3998.81,
           0.3700877554973243
          ],
          [
           231.9,
           0.38421356753252506
          ],
          [
           35.78,
           0.06273909904761235
          ],
          [
           -183.92,
           0.0728262717562891
          ],
          [
           -120.3,
           0.33334902378781506
          ],
          [
           45.56,
           0.42538248713263227
          ],
          [
           -654.28,
           0.2929636398367141
          ],
          [
           209.19,
           0.2722219704036216
          ],
          [
           579.23,
           0.9599291509697567
          ],
          [
           -1501.07,
           0.3139121936235428
          ],
          [
           163.39,
           0.2300507006515016
          ],
          [
           -1458.15,
           0.2319417571295732
          ],
          [
           -53.08,
           0.361709304737318
          ],
          [
           848.13,
           0.22479586756608919
          ],
          [
           433.08,
           0.3800256566819068
          ],
          [
           1355.66,
           0.29124310454175334
          ],
          [
           -13.17,
           0.3212857661678075
          ],
          [
           -692.81,
           0.033455997831041764
          ],
          [
           -115.19,
           0.29805489929273776
          ],
          [
           422.5,
           0.2228038045767661
          ],
          [
           864.83,
           0.3969535215580954
          ],
          [
           640.64,
           0.3348949724351008
          ],
          [
           428.35,
           0.14778279211345646
          ],
          [
           331.77,
           0.31859052705659413
          ],
          [
           881.4,
           0.2202742720314732
          ],
          [
           -64.16,
           0.6140644616010955
          ],
          [
           719.23,
           0.31112956064002817
          ],
          [
           -2334.524,
           0.5039261091665238
          ],
          [
           6543.452,
           0.41628981085836414
          ],
          [
           585.3,
           0.4742939001850607
          ],
          [
           -738.58,
           0.3257231359860635
          ],
          [
           699.34,
           0.3031195858315173
          ],
          [
           716.53,
           0.4529815474756212
          ],
          [
           842.77,
           0.28256390215710697
          ],
          [
           3098.7,
           0.48477472786986003
          ],
          [
           2698.214,
           0.37687334370594
          ],
          [
           53.63,
           0.25098333289821373
          ],
          [
           2914.39,
           0.5439161926641743
          ],
          [
           3230.02,
           0.6909130370826768
          ],
          [
           2932.39,
           0.48603170858166694
          ],
          [
           1907.26,
           0.33760600639119875
          ],
          [
           766.01,
           0.2821137171503063
          ],
          [
           -850.149,
           0.1342007180594885
          ],
          [
           -1599.405,
           0.14528283359963742
          ],
          [
           3665.25,
           0.46291450088928016
          ],
          [
           3142.88,
           0.6546109588494881
          ],
          [
           361.79,
           0.4192667801035359
          ],
          [
           -925.15,
           0.2832264619049785
          ],
          [
           826.02,
           0.3531447782135332
          ],
          [
           -9.94,
           0.2300096438119081
          ],
          [
           619.82,
           0.41149631706429673
          ],
          [
           845.44,
           0.405984473613536
          ],
          [
           543.07,
           0.3913957346717172
          ],
          [
           577.7,
           0.39593165885957043
          ],
          [
           -3.09,
           0.390519321845338
          ],
          [
           14064.286,
           0.7094994939915144
          ],
          [
           153.571,
           0.8388099099511204
          ],
          [
           2415.476,
           0.7893730166944595
          ],
          [
           -378.39,
           0.5014888545478403
          ],
          [
           813.22,
           0.384729158991899
          ],
          [
           560.2,
           0.49215101031476427
          ],
          [
           786.68,
           0.3869710005757828
          ],
          [
           705.08,
           0.45544398504068234
          ],
          [
           716.21,
           0.46473162669880624
          ],
          [
           557.06,
           0.350592944301221
          ],
          [
           -525,
           0.6940793560052481
          ],
          [
           -52.67,
           0.06442159153252403
          ],
          [
           -133.11,
           0.10742640021984358
          ],
          [
           1082.5,
           0.6219700640241368
          ],
          [
           749.42,
           0.24393574150978412
          ],
          [
           1136.33,
           0.2230910143693552
          ],
          [
           1073.21,
           0.30613954037312985
          ],
          [
           -286.75,
           0.11633347808821151
          ],
          [
           167.76,
           0.16427156894442074
          ],
          [
           -267.86,
           0.26394978892597926
          ],
          [
           80.2,
           0.37586168533284736
          ],
          [
           60.82,
           0.3899919684206559
          ],
          [
           -1673.22,
           0.33193637325970643
          ],
          [
           996.41,
           0.3281693939073201
          ],
          [
           917.02,
           0.22116499448757604
          ],
          [
           1567.262,
           0.4114019744216378
          ],
          [
           -83.45,
           0.20317793611303372
          ],
          [
           681.53,
           0.35101006750266966
          ],
          [
           1023.65,
           0.40781013452778575
          ],
          [
           371.73,
           0.6525866990827848
          ],
          [
           697.08,
           0.37232348323926934
          ],
          [
           -424.03,
           0.27872980734666736
          ],
          [
           -172.67,
           0.24779259821807362
          ],
          [
           -754.4,
           0.21165101363011704
          ],
          [
           -5.02,
           0.3602216817081672
          ],
          [
           10105.952,
           0.5576531010324786
          ],
          [
           894.48,
           0.19052120980264775
          ],
          [
           911.08,
           0.32854483909451987
          ],
          [
           -324.45,
           0.048602704867949556
          ],
          [
           788.95,
           0.12286134402412298
          ],
          [
           525.94,
           0.13781899806307737
          ],
          [
           -231.37,
           0.4392926581004484
          ],
          [
           -623.06,
           0.11326639642724048
          ],
          [
           -424.9,
           0.4067860114712079
          ],
          [
           -818.33,
           0.03528574535511382
          ],
          [
           2358.929,
           0.4109596174785532
          ],
          [
           1311.93,
           0.46378690217381585
          ],
          [
           373.87,
           0.5538875140775066
          ],
          [
           382.06,
           0.3292952352398054
          ],
          [
           3236.23,
           0.5931436632127786
          ],
          [
           3248.68,
           0.5045217902001495
          ],
          [
           628.25,
           0.5271563908532543
          ],
          [
           1695.84,
           0.3806041449048476
          ],
          [
           3622.05,
           0.7971788855728696
          ],
          [
           398.9,
           0.4686540922750453
          ],
          [
           123.51,
           0.23266720650647787
          ],
          [
           656.59,
           0.2881642470928996
          ],
          [
           713.35,
           0.4536806021323688
          ],
          [
           162.1,
           0.33198220189519256
          ],
          [
           -2.2,
           0.18659126369442797
          ],
          [
           77,
           0.13564712061184825
          ],
          [
           1081.2,
           0.4482556821793423
          ],
          [
           -574.33,
           0.2514395337237632
          ],
          [
           -1113.04,
           0.22178475011494306
          ],
          [
           -1009.52,
           0.08370449585248636
          ],
          [
           3.64,
           0.5693748525348759
          ],
          [
           -270.536,
           0.1912802995246346
          ],
          [
           -397.768,
           0.14335969887527208
          ],
          [
           -85.91,
           0.3101796475468706
          ],
          [
           -319.16,
           0.4361008158070212
          ],
          [
           -609.22,
           0
          ],
          [
           -102.92,
           0.22915517521459047
          ],
          [
           12.05,
           0.14915410128163004
          ],
          [
           220.39,
           0.2351066046932654
          ],
          [
           -1395.97,
           0.2790189118860168
          ],
          [
           190.28,
           0.4456852089119086
          ],
          [
           9.72,
           0.32865733282735854
          ],
          [
           582.8,
           0.7676647126028456
          ],
          [
           1032.07,
           0.634392911442029
          ],
          [
           -435.26,
           0.3333724323329999
          ],
          [
           -16.071,
           0.21102965687400124
          ],
          [
           598.31,
           0.31992745076772233
          ],
          [
           699.03,
           0.24251451402754234
          ],
          [
           269.11,
           0.38944695929112366
          ],
          [
           416.02,
           0.34721290521555703
          ],
          [
           472.01,
           0.4565872728812218
          ],
          [
           -407.01,
           0.31763310394331634
          ],
          [
           161.5,
           0.21276966615592824
          ],
          [
           207.45,
           0.39323462879890686
          ],
          [
           435.53,
           0.2725479161928576
          ],
          [
           630.2,
           0.3252012431731956
          ],
          [
           151.36,
           0.311422157688334
          ],
          [
           -244.64,
           0.32341275703844274
          ],
          [
           -605.72,
           0.4054384217097614
          ],
          [
           82.77,
           0.3830243985129891
          ],
          [
           70.08,
           0.3282173414386171
          ],
          [
           211.89,
           0.30582307230701455
          ],
          [
           662.5,
           0.3271840748264702
          ],
          [
           1057.88,
           0.5134684258409141
          ],
          [
           -339.76,
           0.2939032432835856
          ],
          [
           214.58,
           0.2611378421226972
          ],
          [
           473.32,
           0.4590312572995587
          ],
          [
           286.34,
           0.36879258065694587
          ],
          [
           151.51,
           0.37388869614149556
          ],
          [
           181.22,
           0.2594359713551115
          ],
          [
           235.92,
           0.4304354267262541
          ],
          [
           279.78,
           0.2160293463242024
          ],
          [
           -713.25,
           0.04788286072701374
          ],
          [
           143.4,
           0.2004947303620025
          ],
          [
           1271.22,
           0.49166134836873077
          ],
          [
           1092.38,
           0.43831639673359746
          ],
          [
           1150.29,
           0.6413824745717377
          ],
          [
           898.13,
           0.6274506040107618
          ],
          [
           1318.32,
           0.489037416131463
          ],
          [
           892.2,
           0.5511607153105951
          ],
          [
           1074.95,
           0.5497354145115354
          ],
          [
           1085.81,
           0.5195468279982213
          ],
          [
           1158.18,
           0.5227622791718222
          ],
          [
           874.62,
           0.6223946410091997
          ],
          [
           1306.45,
           0.5822667885815724
          ],
          [
           1213.57,
           0.505881834582497
          ],
          [
           576.97,
           0.436943127165172
          ],
          [
           52.19,
           0.4743302834979597
          ],
          [
           826.81,
           0.40373889711607114
          ],
          [
           879.63,
           0.543184201121445
          ],
          [
           -689.32,
           0.15791672762989514
          ],
          [
           -59.39,
           0.37841669095582625
          ],
          [
           -139.37,
           0.45413204160055576
          ],
          [
           630.68,
           0.5112539764187488
          ],
          [
           866.27,
           0.3622465679617228
          ],
          [
           734.36,
           0.4476565976387918
          ],
          [
           1004.76,
           0.299225793989286
          ],
          [
           1008.59,
           0.29628989111589743
          ],
          [
           907.68,
           0.2952439754722988
          ],
          [
           1064.62,
           0.34384468825077263
          ],
          [
           949.52,
           0.31001137682388974
          ],
          [
           935.2,
           0.26971492801616986
          ],
          [
           2726.488,
           0.5231098786514435
          ],
          [
           990.25,
           0.3250114743761386
          ],
          [
           278.67,
           0.4527109902840612
          ],
          [
           167.8,
           0.3022841229837382
          ],
          [
           244.83,
           0.4292334548401873
          ],
          [
           1145.91,
           0.5758364824028727
          ],
          [
           781.94,
           0.22815909347871852
          ],
          [
           573.77,
           0.36822814206722987
          ],
          [
           1128.79,
           0.749972788065406
          ],
          [
           582.47,
           0.6179798310450798
          ],
          [
           829.3,
           0.43765350050369783
          ],
          [
           41.86,
           0.2974327982913198
          ],
          [
           -183.66,
           0.3064919581128218
          ],
          [
           37.05,
           0.24710579889751128
          ],
          [
           -117.72,
           0.4803792191631404
          ],
          [
           689.59,
           0.4567538988221658
          ],
          [
           622.5,
           0.4582033053040149
          ],
          [
           137.94,
           0.34956153837315074
          ],
          [
           570.54,
           0.4805790169637568
          ],
          [
           -33.26,
           0.27067408356553574
          ],
          [
           -23.13,
           0.21610215274562852
          ],
          [
           327.66,
           0.17568854114393523
          ],
          [
           -649.73,
           0.1885761082155735
          ],
          [
           -294.25,
           0.23987912464338496
          ],
          [
           492.93,
           0.3137138495536293
          ],
          [
           -445.26,
           0.3410726242748587
          ],
          [
           -327.083,
           0.23117979166864283
          ],
          [
           564.76,
           0.33774070852478594
          ],
          [
           570.97,
           0.27030877302963424
          ],
          [
           916.964,
           0.47558113540024755
          ],
          [
           97.024,
           0.21375178230726014
          ],
          [
           -336.3,
           0.4607602692669546
          ],
          [
           209.05,
           0.2626672592611846
          ],
          [
           -764.08,
           0.33613582701733163
          ],
          [
           550.35,
           0.32344743568660334
          ],
          [
           1259.41,
           0.3434038434728856
          ],
          [
           543.24,
           0.24429932777510097
          ],
          [
           -585.49,
           0.18321534658052963
          ],
          [
           569.07,
           0.23635258800127393
          ],
          [
           785.58,
           0.2980432782547472
          ],
          [
           403.47,
           0.34997233204424744
          ],
          [
           -195.78,
           0.620761380702139
          ],
          [
           -669.2,
           0.1941492873096316
          ],
          [
           244.83,
           0.5033565218065048
          ],
          [
           -415.63,
           0.426223125848959
          ],
          [
           -261.62,
           0.3839327326439276
          ],
          [
           -257.96,
           0.3607494007765394
          ],
          [
           1204.69,
           0.3386310130489298
          ],
          [
           3122.321,
           0.4956467748843729
          ],
          [
           -278.27,
           0.22097499982717497
          ],
          [
           80.59,
           0.14996735674754186
          ],
          [
           -312.03,
           0.4521806568928299
          ],
          [
           -311.85,
           0.2873942876185693
          ],
          [
           268.54,
           0.4255736077190523
          ],
          [
           32.67,
           0.23665484558626773
          ],
          [
           -750.28,
           0.07575918580605258
          ],
          [
           -68.75,
           0.41616168305502
          ],
          [
           -913.38,
           0.1147701235967731
          ],
          [
           -440.179,
           0.2788446066892547
          ],
          [
           -176.63,
           0.31902073541394915
          ],
          [
           -608.43,
           0.017897390697204495
          ],
          [
           -575.34,
           0.17082801180413032
          ],
          [
           -553.274,
           0.12632196709859259
          ],
          [
           -8.39,
           0.4281931283986698
          ],
          [
           -296.89,
           0.29477053446194973
          ],
          [
           -91.02,
           0.6073941247844591
          ],
          [
           -354.95,
           0.26087319934820563
          ],
          [
           -379.87,
           0.2920146023181378
          ],
          [
           -133.31,
           0.4441813187984746
          ],
          [
           -167.9,
           0.2401028304080796
          ],
          [
           -520.37,
           0.19290999398011208
          ],
          [
           -415.87,
           0.1819557973559814
          ],
          [
           -750.98,
           0.030601400693219285
          ],
          [
           -896.59,
           0.01932221151135632
          ],
          [
           -794.7,
           0.16566429270911315
          ],
          [
           -419.8,
           0.2108044652779037
          ],
          [
           -995.77,
           0.05364439560929442
          ],
          [
           -555.34,
           0.28591635965572426
          ],
          [
           -809.22,
           0.04672521297357887
          ],
          [
           -614.53,
           0.15998373298173046
          ],
          [
           -609.821,
           0.04439117115516745
          ],
          [
           -881.36,
           0.12801356215433243
          ],
          [
           -167.65,
           0.380248365902385
          ],
          [
           4.15,
           0.46811101404392785
          ],
          [
           1.89,
           0.24589020553298357
          ],
          [
           47.52,
           0.367885387260317
          ],
          [
           12.21,
           0.9999999999575369
          ],
          [
           -342.5,
           0.2225965074870935
          ],
          [
           -625.31,
           0.059290391465294454
          ],
          [
           71.75,
           0.36369881309412905
          ],
          [
           -441.05,
           0.3460224101466797
          ],
          [
           -133.13,
           0.5348420787356207
          ],
          [
           -257.81,
           0.35943474352850086
          ],
          [
           -71.89,
           0.3226355360500492
          ],
          [
           -625.3,
           0.05015894757867023
          ],
          [
           -554.11,
           0.209765666158173
          ],
          [
           -59.32,
           0.33733479126657595
          ],
          [
           -75.74,
           0.1323191912346934
          ],
          [
           -480.41,
           0.23613110090826625
          ],
          [
           -137.97,
           0.29081349231537157
          ],
          [
           -225.48,
           0.3451855993448796
          ],
          [
           -456.13,
           0.14733136760108326
          ],
          [
           -111,
           0.2314807162419994
          ],
          [
           -421.8,
           0.24342478374538126
          ],
          [
           -903.9,
           0.026717576988006895
          ],
          [
           -71.26,
           0.32808519992903407
          ],
          [
           -43.09,
           0.33470443136274414
          ],
          [
           -565.29,
           0.18700707351323434
          ],
          [
           -67.75,
           0.18601437218776268
          ],
          [
           -89.41,
           0.41425949464172485
          ],
          [
           -223.33,
           0.2780685235656538
          ],
          [
           267.53,
           0.21523205497634432
          ],
          [
           -166.34,
           0.4556165014552352
          ],
          [
           1793.452,
           0.3306594185360051
          ],
          [
           271.08,
           0.4425324504267748
          ],
          [
           425.06,
           0.5081866304162074
          ],
          [
           -934.97,
           0.07941670537525022
          ],
          [
           5.39,
           0.10502284141254757
          ],
          [
           -801.01,
           0.200429179839172
          ],
          [
           91.92,
           0.24060830311938916
          ],
          [
           -93.17,
           0.27463910572305394
          ],
          [
           190.44,
           0.39187606983095025
          ],
          [
           233.12,
           0.20432437272302734
          ],
          [
           238.44,
           0.27362781142585046
          ],
          [
           -94.35,
           0.1589078185423411
          ],
          [
           313.49,
           0.1836515464119305
          ],
          [
           569.58,
           0.5368695039670555
          ],
          [
           747.321,
           0.5273913747325188
          ],
          [
           774.24,
           0.12262667265787816
          ],
          [
           -60.58,
           0.17444169590121542
          ],
          [
           -1599.405,
           0.35789928615761396
          ],
          [
           -192.13,
           0.18767258909558257
          ],
          [
           -298.81,
           0.435178949936866
          ],
          [
           57.85,
           0.24224156141593756
          ],
          [
           279.01,
           0.2449344306995783
          ],
          [
           211.85,
           0.3275406704017986
          ],
          [
           196.76,
           0.2248798186896583
          ],
          [
           338.15,
           0.21947585321253285
          ],
          [
           -2306.25,
           0.04302291477821752
          ],
          [
           -270.536,
           0.48718186658444435
          ],
          [
           807.21,
           0.8150427146093083
          ],
          [
           -887.79,
           0.40718559741708965
          ],
          [
           -818.57,
           0.1299548893916375
          ],
          [
           1.45,
           0.14719903809614004
          ],
          [
           -7.08,
           0.27624615507428524
          ],
          [
           -851.69,
           0.16574337153170163
          ],
          [
           -49.06,
           0.27167804780856825
          ],
          [
           -1581.49,
           0.12198770279374821
          ],
          [
           -194.82,
           0.257747028290144
          ],
          [
           -235.51,
           0.1945926961293211
          ],
          [
           432.14,
           0.4292494322859952
          ],
          [
           761.66,
           0.6340436396309858
          ],
          [
           759.99,
           0.44922766420531934
          ],
          [
           634.226,
           0.37754021779745517
          ],
          [
           977.8,
           0.6679927710360514
          ],
          [
           916.964,
           0.4059372373360752
          ],
          [
           -15.7,
           0.5021246773327223
          ],
          [
           884.45,
           0.45425084400120663
          ],
          [
           -370.44,
           0.3460852191260903
          ],
          [
           130.62,
           0.3937804470853513
          ],
          [
           14.86,
           0.022194170671857666
          ],
          [
           452.9,
           0.4312306199044682
          ],
          [
           -26.4,
           0.4801357646086058
          ],
          [
           95.29,
           0.281549152253811
          ],
          [
           -1454.24,
           0.38256856804567163
          ],
          [
           194.52,
           0.35143190924398754
          ],
          [
           1284.524,
           0.39431266096235207
          ],
          [
           6.39,
           0.40521450891099414
          ],
          [
           357.73,
           0.3605733474809119
          ],
          [
           -638.19,
           0.34678693931022947
          ],
          [
           924.37,
           0.35715299261035127
          ],
          [
           -775.4,
           0.2870186924452656
          ],
          [
           115.07,
           0.4332116117804941
          ],
          [
           32.19,
           0.35292660515158064
          ],
          [
           500.42,
           0.33538234785397253
          ],
          [
           -664.94,
           0.31390485875628227
          ],
          [
           -779.464,
           0.21022617355727433
          ],
          [
           -595.6,
           0.26365041712447573
          ],
          [
           -636.49,
           0.39652705201823135
          ],
          [
           -1027.57,
           0.3168789057233383
          ],
          [
           -723.51,
           0.23700748594350432
          ],
          [
           -778.93,
           0.3668332025141273
          ],
          [
           199.73,
           0.4591067329766043
          ],
          [
           -707.81,
           0.32054797211654446
          ],
          [
           -1048.4,
           0.19289109944623406
          ],
          [
           -431.49,
           0.37523276144665485
          ],
          [
           -623.16,
           0.3085336341400062
          ],
          [
           -874.68,
           0.3626040124021825
          ],
          [
           -593.58,
           0.3387466696315776
          ],
          [
           -1556.44,
           0.37815081574099296
          ],
          [
           -756.47,
           0.22622952638891955
          ],
          [
           -627.78,
           0.27178493552450694
          ],
          [
           -889.74,
           0.21164207126306545
          ],
          [
           -951.69,
           0.3419260412091188
          ],
          [
           379.762,
           0.5349265128900298
          ],
          [
           398.99,
           0.20401634041517291
          ],
          [
           175.47,
           0.2777129393544779
          ],
          [
           96.48,
           0.3733517157719565
          ],
          [
           -771.49,
           0.2997545306230462
          ],
          [
           -10.37,
           0.06277727190809149
          ],
          [
           137.26,
           0.1795630180080038
          ],
          [
           -950.17,
           0.26964460110611604
          ],
          [
           -656,
           0.27009945979884187
          ],
          [
           -926.01,
           0.21239681665222596
          ],
          [
           -949.107,
           0.26852597445262505
          ],
          [
           -535.69,
           0.3384857166712736
          ],
          [
           -664.06,
           0.0626846046573848
          ],
          [
           -550.86,
           0.38663871576205844
          ],
          [
           -151.48,
           0.31949199919228594
          ],
          [
           -177.64,
           0.4817377179982012
          ],
          [
           -24.52,
           0.3859597828920639
          ],
          [
           -217.52,
           0.43214129777679355
          ],
          [
           -992.14,
           0.23347127721862446
          ],
          [
           1911.07,
           0.9981137606091766
          ],
          [
           555.43,
           0.509752952481778
          ],
          [
           5129.762,
           0.5381539537263185
          ],
          [
           -2108.333,
           0.21194470297377255
          ],
          [
           4228.36,
           0.46332252640429084
          ],
          [
           1295.02,
           0.4921102381287328
          ],
          [
           2160.03,
           0.4229579998952635
          ],
          [
           1943.12,
           0.7020487794469946
          ],
          [
           1511.22,
           0.5788643980172418
          ],
          [
           610.86,
           0.3270195079209295
          ],
          [
           3768.88,
           0.6185767585163064
          ],
          [
           -3.4,
           0.40159442033183707
          ],
          [
           78.51,
           0.41115199940603103
          ],
          [
           27.54,
           0.6463524028704307
          ],
          [
           -207.54,
           0.3499050765741415
          ],
          [
           346.07,
           0.3339435650269644
          ]
         ],
         "hovertemplate": "source_lon=%{x:.2f}<br>source_lat=%{y:.2f}<br>size=%{customdata[1]:.2f}<br>color=%{marker.color:.2f}<extra></extra>",
         "legendgroup": "",
         "marker": {
          "color": [
           -873.3,
           1258.86,
           1366.21,
           1030.06,
           -265.14,
           -121.14,
           -108.44,
           -393.28,
           -296.92,
           -142.22,
           -403.04,
           -385.08,
           -256.33,
           -191.3,
           251.04,
           -525,
           203.19,
           267.5,
           -116.28,
           311.44,
           -906.696,
           -1005.655,
           -496.726,
           1708.631,
           449.89,
           470.75,
           455.17,
           6826.19,
           -1571.131,
           634.95,
           217.68,
           360.13,
           4507.23,
           4391.01,
           4622.56,
           4960.119,
           540.13,
           517.66,
           427.63,
           85.59,
           1821.726,
           296.14,
           339.73,
           882.02,
           973.512,
           -414.91,
           92.76,
           230.87,
           218,
           260.72,
           348.39,
           452.72,
           433.14,
           513.09,
           315.71,
           538.17,
           890.11,
           1004.55,
           880.33,
           485.01,
           345.64,
           586.65,
           442.57,
           381.24,
           83.58,
           24.83,
           -32.01,
           339.67,
           161.22,
           61.85,
           -380.6,
           79.75,
           -170.43,
           229.52,
           98.89,
           1086.607,
           269.98,
           166.82,
           1850,
           -977.381,
           438.44,
           746.26,
           736.65,
           408.3,
           -445.61,
           -269.64,
           -67.47,
           724.28,
           602.01,
           971.53,
           453.34,
           -235.09,
           1470.68,
           518.89,
           480.95,
           72.44,
           -796.13,
           -119.23,
           183.11,
           43.09,
           33.2,
           2.46,
           -110.37,
           314.25,
           605.53,
           -9.27,
           1112.54,
           -185.46,
           -183.21,
           -153.36,
           165.88,
           -532.39,
           -182.25,
           -491.23,
           -561.15,
           -161.62,
           619.22,
           -468.452,
           367.22,
           11.08,
           -62.24,
           803.869,
           1145.1,
           -79.76,
           -95.58,
           1227.976,
           -697.62,
           623.07,
           201.19,
           209.13,
           -168.02,
           765.87,
           -416.75,
           -2306.25,
           -169.41,
           -16.071,
           2245.76,
           -818.66,
           445.82,
           9879.762,
           3682.21,
           -1655.952,
           299.82,
           1050.16,
           604.83,
           958.99,
           954.5,
           39.32,
           339.43,
           402.66,
           -22.7,
           -146.65,
           36.17,
           723.02,
           734.57,
           565.2,
           375.46,
           560.05,
           532.02,
           -16.071,
           -787.11,
           -991.94,
           516.38,
           -170.35,
           605.952,
           607.16,
           -650.9,
           -894.71,
           372.49,
           -977.381,
           676.637,
           610.36,
           438.11,
           469.82,
           -1344.91,
           -644.01,
           737.65,
           830.77,
           -749.59,
           1199.13,
           -1278.71,
           410.53,
           385.53,
           -834.7,
           504.91,
           -1161.51,
           482.97,
           84.4,
           382.13,
           739.97,
           -1629.85,
           -72.619,
           -930.58,
           888.69,
           -291.83,
           -1178.72,
           741.96,
           433.23,
           -737.61,
           422.73,
           209.74,
           -230.75,
           34.35,
           -104.61,
           138.68,
           -134.73,
           606.7,
           768.95,
           530.62,
           209.38,
           -683.91,
           -453.34,
           598.41,
           844.37,
           240.67,
           190.67,
           -478.98,
           -507.07,
           -214.13,
           1005.54,
           990.53,
           942.74,
           762.7,
           838.31,
           468.94,
           672.2,
           992.7,
           664.8,
           1015.14,
           1012.23,
           -2.21,
           971.64,
           465.48,
           578.5,
           957.82,
           1016.06,
           953.39,
           990.36,
           715.15,
           939.29,
           -432.77,
           18.11,
           -118.4,
           224.75,
           184.26,
           6939.286,
           989.87,
           963.5,
           938.08,
           990.71,
           985.77,
           934.08,
           1014.88,
           844.26,
           955.41,
           1011.12,
           1013.39,
           917.36,
           923.39,
           1010.67,
           1091.18,
           939.47,
           963.7,
           992.34,
           892.39,
           1424.02,
           197.26,
           948.77,
           1180.32,
           897.48,
           903.2,
           881.26,
           1002.74,
           992.92,
           407.64,
           960.5,
           973.89,
           13725,
           -368.07,
           -177.53,
           3320.238,
           64.81,
           479.38,
           442.14,
           1172.52,
           68.45,
           771.88,
           395.31,
           -737.054,
           779.61,
           14177.381,
           983.46,
           -107.76,
           1312.798,
           906.37,
           74.39,
           758.74,
           593.6,
           1195.37,
           -72.56,
           -5.34,
           -165.18,
           4.9,
           34.24,
           251.13,
           -74.98,
           -109.53,
           -84.57,
           300.96,
           824.29,
           287.76,
           101.7,
           297.38,
           1001.786,
           539.71,
           23.4,
           -637.83,
           250.79,
           771.84,
           -1165.8,
           210.35,
           -116.12,
           483.15,
           -51.07,
           417.77,
           -363.89,
           -233.17,
           650.52,
           381.32,
           234.57,
           8748.81,
           -721.81,
           -274.92,
           -164.9,
           588.12,
           658.39,
           935.37,
           338.51,
           443.04,
           662.95,
           -1169.48,
           525.28,
           573.01,
           8748.81,
           572.81,
           3998.81,
           231.9,
           35.78,
           -183.92,
           -120.3,
           45.56,
           -654.28,
           209.19,
           579.23,
           -1501.07,
           163.39,
           -1458.15,
           -53.08,
           848.13,
           433.08,
           1355.66,
           -13.17,
           -692.81,
           -115.19,
           422.5,
           864.83,
           640.64,
           428.35,
           331.77,
           881.4,
           -64.16,
           719.23,
           -2334.524,
           6543.452,
           585.3,
           -738.58,
           699.34,
           716.53,
           842.77,
           3098.7,
           2698.214,
           53.63,
           2914.39,
           3230.02,
           2932.39,
           1907.26,
           766.01,
           -850.149,
           -1599.405,
           3665.25,
           3142.88,
           361.79,
           -925.15,
           826.02,
           -9.94,
           619.82,
           845.44,
           543.07,
           577.7,
           -3.09,
           14064.286,
           153.571,
           2415.476,
           -378.39,
           813.22,
           560.2,
           786.68,
           705.08,
           716.21,
           557.06,
           -525,
           -52.67,
           -133.11,
           1082.5,
           749.42,
           1136.33,
           1073.21,
           -286.75,
           167.76,
           -267.86,
           80.2,
           60.82,
           -1673.22,
           996.41,
           917.02,
           1567.262,
           -83.45,
           681.53,
           1023.65,
           371.73,
           697.08,
           -424.03,
           -172.67,
           -754.4,
           -5.02,
           10105.952,
           894.48,
           911.08,
           -324.45,
           788.95,
           525.94,
           -231.37,
           -623.06,
           -424.9,
           -818.33,
           2358.929,
           1311.93,
           373.87,
           382.06,
           3236.23,
           3248.68,
           628.25,
           1695.84,
           3622.05,
           398.9,
           123.51,
           656.59,
           713.35,
           162.1,
           -2.2,
           77,
           1081.2,
           -574.33,
           -1113.04,
           -1009.52,
           3.64,
           -270.536,
           -397.768,
           -85.91,
           -319.16,
           -609.22,
           -102.92,
           12.05,
           220.39,
           -1395.97,
           190.28,
           9.72,
           582.8,
           1032.07,
           -435.26,
           -16.071,
           598.31,
           699.03,
           269.11,
           416.02,
           472.01,
           -407.01,
           161.5,
           207.45,
           435.53,
           630.2,
           151.36,
           -244.64,
           -605.72,
           82.77,
           70.08,
           211.89,
           662.5,
           1057.88,
           -339.76,
           214.58,
           473.32,
           286.34,
           151.51,
           181.22,
           235.92,
           279.78,
           -713.25,
           143.4,
           1271.22,
           1092.38,
           1150.29,
           898.13,
           1318.32,
           892.2,
           1074.95,
           1085.81,
           1158.18,
           874.62,
           1306.45,
           1213.57,
           576.97,
           52.19,
           826.81,
           879.63,
           -689.32,
           -59.39,
           -139.37,
           630.68,
           866.27,
           734.36,
           1004.76,
           1008.59,
           907.68,
           1064.62,
           949.52,
           935.2,
           2726.488,
           990.25,
           278.67,
           167.8,
           244.83,
           1145.91,
           781.94,
           573.77,
           1128.79,
           582.47,
           829.3,
           41.86,
           -183.66,
           37.05,
           -117.72,
           689.59,
           622.5,
           137.94,
           570.54,
           -33.26,
           -23.13,
           327.66,
           -649.73,
           -294.25,
           492.93,
           -445.26,
           -327.083,
           564.76,
           570.97,
           916.964,
           97.024,
           -336.3,
           209.05,
           -764.08,
           550.35,
           1259.41,
           543.24,
           -585.49,
           569.07,
           785.58,
           403.47,
           -195.78,
           -669.2,
           244.83,
           -415.63,
           -261.62,
           -257.96,
           1204.69,
           3122.321,
           -278.27,
           80.59,
           -312.03,
           -311.85,
           268.54,
           32.67,
           -750.28,
           -68.75,
           -913.38,
           -440.179,
           -176.63,
           -608.43,
           -575.34,
           -553.274,
           -8.39,
           -296.89,
           -91.02,
           -354.95,
           -379.87,
           -133.31,
           -167.9,
           -520.37,
           -415.87,
           -750.98,
           -896.59,
           -794.7,
           -419.8,
           -995.77,
           -555.34,
           -809.22,
           -614.53,
           -609.821,
           -881.36,
           -167.65,
           4.15,
           1.89,
           47.52,
           12.21,
           -342.5,
           -625.31,
           71.75,
           -441.05,
           -133.13,
           -257.81,
           -71.89,
           -625.3,
           -554.11,
           -59.32,
           -75.74,
           -480.41,
           -137.97,
           -225.48,
           -456.13,
           -111,
           -421.8,
           -903.9,
           -71.26,
           -43.09,
           -565.29,
           -67.75,
           -89.41,
           -223.33,
           267.53,
           -166.34,
           1793.452,
           271.08,
           425.06,
           -934.97,
           5.39,
           -801.01,
           91.92,
           -93.17,
           190.44,
           233.12,
           238.44,
           -94.35,
           313.49,
           569.58,
           747.321,
           774.24,
           -60.58,
           -1599.405,
           -192.13,
           -298.81,
           57.85,
           279.01,
           211.85,
           196.76,
           338.15,
           -2306.25,
           -270.536,
           807.21,
           -887.79,
           -818.57,
           1.45,
           -7.08,
           -851.69,
           -49.06,
           -1581.49,
           -194.82,
           -235.51,
           432.14,
           761.66,
           759.99,
           634.226,
           977.8,
           916.964,
           -15.7,
           884.45,
           -370.44,
           130.62,
           14.86,
           452.9,
           -26.4,
           95.29,
           -1454.24,
           194.52,
           1284.524,
           6.39,
           357.73,
           -638.19,
           924.37,
           -775.4,
           115.07,
           32.19,
           500.42,
           -664.94,
           -779.464,
           -595.6,
           -636.49,
           -1027.57,
           -723.51,
           -778.93,
           199.73,
           -707.81,
           -1048.4,
           -431.49,
           -623.16,
           -874.68,
           -593.58,
           -1556.44,
           -756.47,
           -627.78,
           -889.74,
           -951.69,
           379.762,
           398.99,
           175.47,
           96.48,
           -771.49,
           -10.37,
           137.26,
           -950.17,
           -656,
           -926.01,
           -949.107,
           -535.69,
           -664.06,
           -550.86,
           -151.48,
           -177.64,
           -24.52,
           -217.52,
           -992.14,
           1911.07,
           555.43,
           5129.762,
           -2108.333,
           4228.36,
           1295.02,
           2160.03,
           1943.12,
           1511.22,
           610.86,
           3768.88,
           -3.4,
           78.51,
           27.54,
           -207.54,
           346.07
          ],
          "coloraxis": "coloraxis",
          "size": [
           0.26121926379333965,
           0.5281763496061278,
           0.6523560339859846,
           0.4166961452522154,
           0.48757248288339333,
           0.9357870939555013,
           0.5214916621019866,
           0.35219402608228434,
           0.40704738492157877,
           0.7585852770251673,
           0.32973477042076427,
           0.40003456308408647,
           0.3860350052084138,
           0.35606272958091095,
           0.5422982733466973,
           0.08479402862903412,
           0.420038170101481,
           0.5738187115779918,
           0.35794950358947086,
           0.4752052918028508,
           0.22862979119177923,
           0.503653232667202,
           0.3637508306737612,
           0.43651051760794535,
           0.24379567163332694,
           0.24619587857521694,
           0.2430386915873303,
           0.6032619912864049,
           0.16641224583391515,
           0.48213041478339635,
           0.32147061149344797,
           0.30728685087729324,
           0.6966726872765974,
           0.6562623151983384,
           0.6274930430251674,
           0.6120651949482874,
           0.5360555325691848,
           0.36348190592781243,
           0.47543536803496744,
           0.3305636173604885,
           0.38216724524970747,
           0.4465615499956643,
           0.30544600653504506,
           0.4622590109655616,
           0.36905901352575654,
           0.22247196838224406,
           0.22632557351450872,
           0.38881838468332763,
           0.6786315569705735,
           0.22024333775886507,
           0.3401289228549742,
           0.3395029746477791,
           0.25859315640528757,
           0.19541573199961654,
           0.3628654369069707,
           0.5313618060381308,
           0.29218490470439684,
           0.37812780330983653,
           0.46891344292339254,
           0.47765867189381356,
           0.41217429082240087,
           0.2343418760325833,
           0.22497984246498448,
           0.27784405630312076,
           0.2325184119862945,
           0.2432993411964393,
           0.25909756084526975,
           0.47270896187829387,
           0.7233864707183877,
           0.45717803872967533,
           0.3917091999888866,
           0.15869809927691947,
           0.24914041142402124,
           0.5656457127450744,
           0.30956510474674503,
           0.33217726794297087,
           0.2791532311650209,
           0.20045752424281502,
           0.6352498980757324,
           0.03864073572510513,
           0.4958138380261185,
           0.32332865944972355,
           0.30417970051538884,
           0.29451874844039855,
           0.3858298764083013,
           0.5601672376006379,
           0.38433832881365154,
           0.5154981453250481,
           0.6049408150815766,
           0.37866749260225846,
           0.33216728702875364,
           0.18472717927930818,
           0.24811395804479183,
           0.6367063426081525,
           0.3203991819164251,
           0.17520068229812288,
           0.44827108343750455,
           0.30175848769773883,
           0.4261408206478536,
           0.22759922393755244,
           0.18258503257841457,
           0.20145640097048936,
           0.29438544570723485,
           0.2940499999151621,
           0.4527959222673185,
           0.16759170903143017,
           0.4307729224482384,
           0.3486192005416716,
           0.43765350817530324,
           0.37366987344690705,
           0.4113462112239352,
           0.4212146711621607,
           0.41764954361201473,
           0.27119378495586366,
           0.3899373649915553,
           0.41241798139134894,
           0.2715593307484723,
           0.2503290784673597,
           0.3296150446630359,
           0.37960930512974683,
           0.08856697742584055,
           0.37084015429552425,
           0.4684134220296294,
           0.2345279111037458,
           0.4430902757977945,
           0.32023043048114147,
           0.0036865692628693966,
           0.33996748117187253,
           0.11357670312034496,
           0.3062890597839404,
           0.48072253553471195,
           0.42071706802266057,
           0.30852960719446176,
           0.0028692454614197955,
           0.2979737115189588,
           0.13137686304730065,
           0.2698357468196777,
           0.31460172649430707,
           0.45512508907167587,
           0.6846457766535676,
           0.31187309073276276,
           0.2740611853652306,
           0.31868833545154374,
           0.2541660647404018,
           0.19640281684255897,
           0.31814427183103383,
           0.31855774111641433,
           0.47606415512131683,
           0.4909511745310951,
           0.3081888591093766,
           0.1650530762682359,
           0.3368878690137922,
           0.2547085896276976,
           0.24930755182029882,
           0.4061596624930957,
           0.3190313095833409,
           0.3768285017179226,
           0.5555221505416276,
           0.5802374248094132,
           0.21899608160520923,
           0.22521479733565367,
           0.2070449333964052,
           0.6448971138285611,
           0.6220917929074133,
           0.60389562651715,
           0.558347947577639,
           0.5090003582723345,
           0.5699038836613338,
           0.6769481105559996,
           0.4489507904006101,
           0.6017188411990725,
           0.6033119843042845,
           0.4352910804250225,
           0.4630622826072723,
           0.2623897312573501,
           0.08753792773240042,
           0.43589865511000986,
           0.3761975524296307,
           0.0799844090379353,
           0.5334998157662495,
           0.20188248269130082,
           0.48305803933627284,
           0.3684956724287718,
           0.26850929917402216,
           0.6986395820732101,
           0.21859612546730642,
           0.5937711388293827,
           0.3406717337417768,
           0.35547031869826756,
           0.4970003948819657,
           0.25875635773834316,
           0.3069907251133875,
           0.31253511300675185,
           0.3830079174818163,
           0.26879936407706945,
           0.24848852466113733,
           0.6653039399887125,
           0.3291466915227124,
           0.04214972852871979,
           0.2956996923660366,
           0.35618495265499844,
           0.3357466654333339,
           0.3753263785098208,
           0.2226038977569129,
           0.27544658549662404,
           0.2921110320170848,
           0.34330631220665225,
           0.5624450589426095,
           0.3654431703553306,
           0.3075464422801731,
           0.1081413156833812,
           0.3760937692697295,
           0.6689971880308415,
           0.3284771530342664,
           0.4027425772906132,
           0.14049375094756186,
           0.4854116466343103,
           0.40766030924340824,
           0.6066596912457497,
           0.4478885922158546,
           0.38908887508255663,
           0.2165716141592907,
           0.21972755168513097,
           0.1512829107702942,
           0.11990453309273666,
           0.31764671476453027,
           0.4220807933587257,
           0.24754026937680862,
           0.3557482746011025,
           0.17829603066736466,
           0.3456848147796606,
           0.20071179415025356,
           0.1823219933262247,
           0.3363969470449899,
           0.1271606744721593,
           0.3774108060546108,
           0.1398308176655282,
           0.18960349519615158,
           0.21965025787354464,
           0.13129045095031192,
           0.16955279012700716,
           0.29995752112665236,
           0.09435688632476708,
           0.29832737359144035,
           0.23121960586799384,
           0.4787473864972164,
           0.2062917465288081,
           0.18662720573834687,
           0.2737514325064238,
           0.4041429293028169,
           0.26676409746075735,
           0.33858220843080145,
           0.25475388193623166,
           0.1858892685203044,
           0.2835991948363934,
           0.23466756946358772,
           0.5437207928788274,
           0.2903134207306633,
           0.23997369336182006,
           0.24204173294955836,
           0.7349564041282917,
           0.267552004379701,
           0.3318721962617278,
           0.34620559955422825,
           0.21393539420162966,
           0.23654778322371203,
           0.13211657795387519,
           0.4581151894400954,
           0.49023074746284157,
           0.12277463381661775,
           0.1404062262730652,
           0.18482690002438654,
           0.43294334013571145,
           0.31093558492940215,
           0.3861217751443438,
           0.26031679961141513,
           0.37146166246034745,
           0.7091019111319894,
           0.34024844421863604,
           0.3065047603698797,
           0.5314955367155735,
           0.06086823038335067,
           0.4802596349171793,
           0.41039521254068173,
           0.2501558579861811,
           0.10104065840751614,
           0.25772004426068473,
           0.28538378274972487,
           0.27959582760705826,
           0.29244744158036023,
           0.7631913031503885,
           0.3351483227216658,
           0.5958125731337792,
           0.4771023816605813,
           0.4969746980531421,
           0.416760221939706,
           0.4583721840153839,
           0.3504458126868318,
           0.11290043486039872,
           0.2760473870776104,
           0.28447482363965754,
           0.20830681745362703,
           0.09259486416697758,
           0.2623388953493824,
           0.4967295596305281,
           0.7856336127425101,
           0.6060959120136575,
           0.39570494731941414,
           0.1906722065502593,
           0.2569626576162591,
           0.3414180360564811,
           0.33156981612485803,
           0.5253182623587321,
           0.4712900869101929,
           0.22697860304963616,
           0.3909998216759458,
           0.26228633373752286,
           0.41405458962048647,
           0.49382377761854523,
           0.28965326631852245,
           0.2950384972953864,
           0.25685876871542396,
           0.4623232263603429,
           0.32811178197354235,
           0.3984809552668715,
           0.299022799969095,
           0.49911741740423904,
           0.4776622046092641,
           0.529731670293361,
           0.7782746566978322,
           0.7470866249803136,
           0.2244753802333119,
           0.28368805366224087,
           0.34714604617394773,
           0.3991996034470699,
           0.2155198436039158,
           0.22847242441213042,
           0.45169282653160725,
           0.36641039867678354,
           0.654201179916653,
           0.40506896648132434,
           0.4998113999360882,
           0.4239149290104203,
           0.6798137833972198,
           0.8318362640405405,
           0.3700877554973243,
           0.38421356753252506,
           0.06273909904761235,
           0.0728262717562891,
           0.33334902378781506,
           0.42538248713263227,
           0.2929636398367141,
           0.2722219704036216,
           0.9599291509697567,
           0.3139121936235428,
           0.2300507006515016,
           0.2319417571295732,
           0.361709304737318,
           0.22479586756608919,
           0.3800256566819068,
           0.29124310454175334,
           0.3212857661678075,
           0.033455997831041764,
           0.29805489929273776,
           0.2228038045767661,
           0.3969535215580954,
           0.3348949724351008,
           0.14778279211345646,
           0.31859052705659413,
           0.2202742720314732,
           0.6140644616010955,
           0.31112956064002817,
           0.5039261091665238,
           0.41628981085836414,
           0.4742939001850607,
           0.3257231359860635,
           0.3031195858315173,
           0.4529815474756212,
           0.28256390215710697,
           0.48477472786986003,
           0.37687334370594,
           0.25098333289821373,
           0.5439161926641743,
           0.6909130370826768,
           0.48603170858166694,
           0.33760600639119875,
           0.2821137171503063,
           0.1342007180594885,
           0.14528283359963742,
           0.46291450088928016,
           0.6546109588494881,
           0.4192667801035359,
           0.2832264619049785,
           0.3531447782135332,
           0.2300096438119081,
           0.41149631706429673,
           0.405984473613536,
           0.3913957346717172,
           0.39593165885957043,
           0.390519321845338,
           0.7094994939915144,
           0.8388099099511204,
           0.7893730166944595,
           0.5014888545478403,
           0.384729158991899,
           0.49215101031476427,
           0.3869710005757828,
           0.45544398504068234,
           0.46473162669880624,
           0.350592944301221,
           0.6940793560052481,
           0.06442159153252403,
           0.10742640021984358,
           0.6219700640241368,
           0.24393574150978412,
           0.2230910143693552,
           0.30613954037312985,
           0.11633347808821151,
           0.16427156894442074,
           0.26394978892597926,
           0.37586168533284736,
           0.3899919684206559,
           0.33193637325970643,
           0.3281693939073201,
           0.22116499448757604,
           0.4114019744216378,
           0.20317793611303372,
           0.35101006750266966,
           0.40781013452778575,
           0.6525866990827848,
           0.37232348323926934,
           0.27872980734666736,
           0.24779259821807362,
           0.21165101363011704,
           0.3602216817081672,
           0.5576531010324786,
           0.19052120980264775,
           0.32854483909451987,
           0.048602704867949556,
           0.12286134402412298,
           0.13781899806307737,
           0.4392926581004484,
           0.11326639642724048,
           0.4067860114712079,
           0.03528574535511382,
           0.4109596174785532,
           0.46378690217381585,
           0.5538875140775066,
           0.3292952352398054,
           0.5931436632127786,
           0.5045217902001495,
           0.5271563908532543,
           0.3806041449048476,
           0.7971788855728696,
           0.4686540922750453,
           0.23266720650647787,
           0.2881642470928996,
           0.4536806021323688,
           0.33198220189519256,
           0.18659126369442797,
           0.13564712061184825,
           0.4482556821793423,
           0.2514395337237632,
           0.22178475011494306,
           0.08370449585248636,
           0.5693748525348759,
           0.1912802995246346,
           0.14335969887527208,
           0.3101796475468706,
           0.4361008158070212,
           0,
           0.22915517521459047,
           0.14915410128163004,
           0.2351066046932654,
           0.2790189118860168,
           0.4456852089119086,
           0.32865733282735854,
           0.7676647126028456,
           0.634392911442029,
           0.3333724323329999,
           0.21102965687400124,
           0.31992745076772233,
           0.24251451402754234,
           0.38944695929112366,
           0.34721290521555703,
           0.4565872728812218,
           0.31763310394331634,
           0.21276966615592824,
           0.39323462879890686,
           0.2725479161928576,
           0.3252012431731956,
           0.311422157688334,
           0.32341275703844274,
           0.4054384217097614,
           0.3830243985129891,
           0.3282173414386171,
           0.30582307230701455,
           0.3271840748264702,
           0.5134684258409141,
           0.2939032432835856,
           0.2611378421226972,
           0.4590312572995587,
           0.36879258065694587,
           0.37388869614149556,
           0.2594359713551115,
           0.4304354267262541,
           0.2160293463242024,
           0.04788286072701374,
           0.2004947303620025,
           0.49166134836873077,
           0.43831639673359746,
           0.6413824745717377,
           0.6274506040107618,
           0.489037416131463,
           0.5511607153105951,
           0.5497354145115354,
           0.5195468279982213,
           0.5227622791718222,
           0.6223946410091997,
           0.5822667885815724,
           0.505881834582497,
           0.436943127165172,
           0.4743302834979597,
           0.40373889711607114,
           0.543184201121445,
           0.15791672762989514,
           0.37841669095582625,
           0.45413204160055576,
           0.5112539764187488,
           0.3622465679617228,
           0.4476565976387918,
           0.299225793989286,
           0.29628989111589743,
           0.2952439754722988,
           0.34384468825077263,
           0.31001137682388974,
           0.26971492801616986,
           0.5231098786514435,
           0.3250114743761386,
           0.4527109902840612,
           0.3022841229837382,
           0.4292334548401873,
           0.5758364824028727,
           0.22815909347871852,
           0.36822814206722987,
           0.749972788065406,
           0.6179798310450798,
           0.43765350050369783,
           0.2974327982913198,
           0.3064919581128218,
           0.24710579889751128,
           0.4803792191631404,
           0.4567538988221658,
           0.4582033053040149,
           0.34956153837315074,
           0.4805790169637568,
           0.27067408356553574,
           0.21610215274562852,
           0.17568854114393523,
           0.1885761082155735,
           0.23987912464338496,
           0.3137138495536293,
           0.3410726242748587,
           0.23117979166864283,
           0.33774070852478594,
           0.27030877302963424,
           0.47558113540024755,
           0.21375178230726014,
           0.4607602692669546,
           0.2626672592611846,
           0.33613582701733163,
           0.32344743568660334,
           0.3434038434728856,
           0.24429932777510097,
           0.18321534658052963,
           0.23635258800127393,
           0.2980432782547472,
           0.34997233204424744,
           0.620761380702139,
           0.1941492873096316,
           0.5033565218065048,
           0.426223125848959,
           0.3839327326439276,
           0.3607494007765394,
           0.3386310130489298,
           0.4956467748843729,
           0.22097499982717497,
           0.14996735674754186,
           0.4521806568928299,
           0.2873942876185693,
           0.4255736077190523,
           0.23665484558626773,
           0.07575918580605258,
           0.41616168305502,
           0.1147701235967731,
           0.2788446066892547,
           0.31902073541394915,
           0.017897390697204495,
           0.17082801180413032,
           0.12632196709859259,
           0.4281931283986698,
           0.29477053446194973,
           0.6073941247844591,
           0.26087319934820563,
           0.2920146023181378,
           0.4441813187984746,
           0.2401028304080796,
           0.19290999398011208,
           0.1819557973559814,
           0.030601400693219285,
           0.01932221151135632,
           0.16566429270911315,
           0.2108044652779037,
           0.05364439560929442,
           0.28591635965572426,
           0.04672521297357887,
           0.15998373298173046,
           0.04439117115516745,
           0.12801356215433243,
           0.380248365902385,
           0.46811101404392785,
           0.24589020553298357,
           0.367885387260317,
           0.9999999999575369,
           0.2225965074870935,
           0.059290391465294454,
           0.36369881309412905,
           0.3460224101466797,
           0.5348420787356207,
           0.35943474352850086,
           0.3226355360500492,
           0.05015894757867023,
           0.209765666158173,
           0.33733479126657595,
           0.1323191912346934,
           0.23613110090826625,
           0.29081349231537157,
           0.3451855993448796,
           0.14733136760108326,
           0.2314807162419994,
           0.24342478374538126,
           0.026717576988006895,
           0.32808519992903407,
           0.33470443136274414,
           0.18700707351323434,
           0.18601437218776268,
           0.41425949464172485,
           0.2780685235656538,
           0.21523205497634432,
           0.4556165014552352,
           0.3306594185360051,
           0.4425324504267748,
           0.5081866304162074,
           0.07941670537525022,
           0.10502284141254757,
           0.200429179839172,
           0.24060830311938916,
           0.27463910572305394,
           0.39187606983095025,
           0.20432437272302734,
           0.27362781142585046,
           0.1589078185423411,
           0.1836515464119305,
           0.5368695039670555,
           0.5273913747325188,
           0.12262667265787816,
           0.17444169590121542,
           0.35789928615761396,
           0.18767258909558257,
           0.435178949936866,
           0.24224156141593756,
           0.2449344306995783,
           0.3275406704017986,
           0.2248798186896583,
           0.21947585321253285,
           0.04302291477821752,
           0.48718186658444435,
           0.8150427146093083,
           0.40718559741708965,
           0.1299548893916375,
           0.14719903809614004,
           0.27624615507428524,
           0.16574337153170163,
           0.27167804780856825,
           0.12198770279374821,
           0.257747028290144,
           0.1945926961293211,
           0.4292494322859952,
           0.6340436396309858,
           0.44922766420531934,
           0.37754021779745517,
           0.6679927710360514,
           0.4059372373360752,
           0.5021246773327223,
           0.45425084400120663,
           0.3460852191260903,
           0.3937804470853513,
           0.022194170671857666,
           0.4312306199044682,
           0.4801357646086058,
           0.281549152253811,
           0.38256856804567163,
           0.35143190924398754,
           0.39431266096235207,
           0.40521450891099414,
           0.3605733474809119,
           0.34678693931022947,
           0.35715299261035127,
           0.2870186924452656,
           0.4332116117804941,
           0.35292660515158064,
           0.33538234785397253,
           0.31390485875628227,
           0.21022617355727433,
           0.26365041712447573,
           0.39652705201823135,
           0.3168789057233383,
           0.23700748594350432,
           0.3668332025141273,
           0.4591067329766043,
           0.32054797211654446,
           0.19289109944623406,
           0.37523276144665485,
           0.3085336341400062,
           0.3626040124021825,
           0.3387466696315776,
           0.37815081574099296,
           0.22622952638891955,
           0.27178493552450694,
           0.21164207126306545,
           0.3419260412091188,
           0.5349265128900298,
           0.20401634041517291,
           0.2777129393544779,
           0.3733517157719565,
           0.2997545306230462,
           0.06277727190809149,
           0.1795630180080038,
           0.26964460110611604,
           0.27009945979884187,
           0.21239681665222596,
           0.26852597445262505,
           0.3384857166712736,
           0.0626846046573848,
           0.38663871576205844,
           0.31949199919228594,
           0.4817377179982012,
           0.3859597828920639,
           0.43214129777679355,
           0.23347127721862446,
           0.9981137606091766,
           0.509752952481778,
           0.5381539537263185,
           0.21194470297377255,
           0.46332252640429084,
           0.4921102381287328,
           0.4229579998952635,
           0.7020487794469946,
           0.5788643980172418,
           0.3270195079209295,
           0.6185767585163064,
           0.40159442033183707,
           0.41115199940603103,
           0.6463524028704307,
           0.3499050765741415,
           0.3339435650269644
          ],
          "sizemode": "area",
          "sizeref": 0.0024999999998938423,
          "symbol": "circle"
         },
         "mode": "markers",
         "name": "",
         "orientation": "v",
         "showlegend": false,
         "type": "scatter",
         "x": [
          103.3693848,
          103.3575602,
          103.3576335,
          103.348315,
          103.3640869,
          103.3634684,
          103.3647542,
          103.3714844,
          103.3662191,
          103.3628418,
          103.3634603,
          103.3657633,
          103.3642334,
          103.3648682,
          103.3975423,
          103.3904962,
          103.4,
          103.3973958,
          103.3955973,
          103.3740723,
          103.3702202,
          103.383672,
          103.362991,
          103.4000388,
          103.3941976,
          103.3945068,
          103.3918213,
          103.4027227,
          103.3870052,
          103.4022298,
          103.3944336,
          103.3905355,
          103.4455973,
          103.4487549,
          103.4412191,
          103.4368612,
          103.3967285,
          103.4033122,
          103.4008545,
          103.3936686,
          103.3967846,
          103.3998942,
          103.3990479,
          103.4133219,
          103.4180508,
          103.3992594,
          103.3963623,
          103.3994222,
          103.3761882,
          103.4,
          103.3995524,
          103.4007731,
          103.4005127,
          103.3995768,
          103.399821,
          103.4015137,
          103.4069499,
          103.4039225,
          103.4074463,
          103.3993001,
          103.3995117,
          103.4015951,
          103.4022868,
          103.4003092,
          103.3955241,
          103.395752,
          103.3977376,
          103.3992513,
          103.4017741,
          103.4002279,
          103.3937744,
          103.3962891,
          103.3961751,
          103.3981527,
          103.3986491,
          103.3995253,
          103.3722249,
          103.3711263,
          103.4066074,
          103.4036297,
          103.403068,
          103.4083415,
          103.4061523,
          103.3993164,
          103.3582031,
          103.4093669,
          103.3599365,
          103.413387,
          103.3979167,
          103.3832357,
          103.3731527,
          103.389388,
          103.3988444,
          103.3992513,
          103.4007812,
          103.3951335,
          103.400179,
          103.3959066,
          103.4007161,
          103.3955404,
          103.3953288,
          103.3963704,
          103.3942627,
          103.416569,
          103.4045736,
          103.4051107,
          103.4206868,
          103.4034668,
          103.4035889,
          103.4039551,
          103.3984782,
          103.3560384,
          103.4016764,
          103.3986735,
          103.3544027,
          103.3618001,
          103.4159098,
          103.4292384,
          103.3971436,
          103.3973226,
          103.3984945,
          103.3760184,
          103.4068197,
          103.3984212,
          103.398234,
          103.4128524,
          103.4041667,
          103.4054036,
          103.3995605,
          103.398348,
          103.3639974,
          103.4054199,
          103.3565755,
          103.3504457,
          103.3611654,
          103.3562298,
          103.346403,
          103.4141927,
          103.4145833,
          103.473411,
          103.360498,
          103.3141294,
          103.4116862,
          103.4076742,
          103.4134196,
          103.40389,
          103.4052979,
          103.3969889,
          103.4059001,
          103.4011882,
          103.3952393,
          103.3619873,
          103.3960856,
          103.4043864,
          103.404362,
          103.4056071,
          103.4077067,
          103.4258789,
          103.416512,
          103.4324963,
          103.4373779,
          103.4339274,
          103.4205811,
          103.4353027,
          103.4231983,
          103.3992676,
          103.4351074,
          103.43632,
          103.4169027,
          103.4166339,
          103.4187188,
          103.4181559,
          103.4192952,
          103.4179932,
          103.4336426,
          103.4364176,
          103.4283854,
          103.3993327,
          103.4308268,
          103.4200114,
          103.4360189,
          103.4264893,
          103.4332438,
          103.4317464,
          103.4162109,
          103.4344482,
          103.4177002,
          103.4286296,
          103.405957,
          103.4248372,
          103.439209,
          103.4123198,
          103.4342611,
          103.4161168,
          103.4056641,
          103.4348714,
          103.417806,
          103.415625,
          103.436792,
          103.4165934,
          103.3631104,
          103.3963542,
          103.396818,
          103.3987549,
          103.4031901,
          103.3601156,
          103.404305,
          103.4097656,
          103.4004232,
          103.3968099,
          103.3530599,
          103.3656657,
          103.3993734,
          103.4027018,
          103.3997721,
          103.399821,
          103.3660645,
          103.3656657,
          103.3634684,
          103.4075114,
          103.4078776,
          103.4072347,
          103.4027344,
          103.4084473,
          103.4002848,
          103.4020508,
          103.4074626,
          103.4024495,
          103.408431,
          103.4101481,
          103.4037679,
          103.4076579,
          103.4016846,
          103.4023112,
          103.4064209,
          103.4079508,
          103.406486,
          103.4069906,
          103.4022868,
          103.4042887,
          103.4009521,
          103.4041423,
          103.3941569,
          103.3990804,
          103.3984782,
          103.3231318,
          103.407959,
          103.4067546,
          103.4056722,
          103.4076497,
          103.4073161,
          103.4055257,
          103.4082845,
          103.4032959,
          103.4065267,
          103.4086182,
          103.4067057,
          103.4050618,
          103.4054199,
          103.4081868,
          103.4071777,
          103.4084147,
          103.4051514,
          103.407137,
          103.4043294,
          103.4160807,
          103.3979411,
          103.4081217,
          103.4055339,
          103.4058268,
          103.4102946,
          103.4062581,
          103.4086019,
          103.4078857,
          103.3738932,
          103.4049723,
          103.40625,
          103.3667686,
          103.3658854,
          103.3632406,
          103.3032715,
          103.3589193,
          103.3992757,
          103.3994222,
          103.3684896,
          103.3655273,
          103.4040039,
          103.4018473,
          103.4195349,
          103.4050456,
          103.4016659,
          103.4084798,
          103.3612467,
          103.3831351,
          103.3691895,
          103.4048747,
          103.3977295,
          103.4117676,
          103.4049561,
          103.3945964,
          103.397347,
          103.3968424,
          103.3968669,
          103.396696,
          103.3622233,
          103.3600179,
          103.3609701,
          103.3612874,
          103.3969727,
          103.410262,
          103.3986328,
          103.395166,
          103.4019938,
          103.3331923,
          103.404126,
          103.3983561,
          103.4010579,
          103.3627604,
          103.4075602,
          103.4034587,
          103.3986572,
          103.3955811,
          103.392863,
          103.3963135,
          103.4025472,
          103.3902913,
          103.3617025,
          103.4030843,
          103.4012044,
          103.4023926,
          103.3318245,
          103.400651,
          103.366097,
          103.358016,
          103.4135986,
          103.4141276,
          103.4051188,
          103.4009603,
          103.4031413,
          103.4032145,
          103.4047689,
          103.3668783,
          103.4030924,
          103.3231226,
          103.4002523,
          103.3732296,
          103.3988444,
          103.3955322,
          103.3939372,
          103.3940267,
          103.3960775,
          103.4010661,
          103.4035889,
          103.3985677,
          103.4027181,
          103.3980632,
          103.4019613,
          103.3979818,
          103.394694,
          103.4013346,
          103.366862,
          103.3587077,
          103.3652995,
          103.3539958,
          103.4013672,
          103.4053548,
          103.4035238,
          103.3998535,
          103.3599691,
          103.4051676,
          103.3602132,
          103.404541,
          103.3489418,
          103.4270219,
          103.4016032,
          103.4095296,
          103.4064046,
          103.404069,
          103.3945719,
          103.3598796,
          103.3529175,
          103.3967448,
          103.3587972,
          103.361971,
          103.3604655,
          103.3486003,
          103.4034912,
          103.3758973,
          103.3441239,
          103.3593018,
          103.3596354,
          103.4051107,
          103.4105469,
          103.4108968,
          103.3736084,
          103.4048747,
          103.4119222,
          103.4035482,
          103.3977458,
          103.3961914,
          103.489639,
          103.3424508,
          103.3882944,
          103.4063965,
          103.4118896,
          103.4018962,
          103.4055827,
          103.4052572,
          103.4056722,
          103.4124023,
          103.3577433,
          103.3951904,
          103.3960693,
          103.4049316,
          103.4064372,
          103.4054281,
          103.4044271,
          103.4021729,
          103.4040771,
          103.4018229,
          103.4056152,
          103.4035889,
          103.4039144,
          103.4082357,
          103.4099121,
          103.4160902,
          103.4046387,
          103.4005941,
          103.4058594,
          103.4037028,
          103.4038249,
          103.3582682,
          103.3663574,
          103.350236,
          103.4053141,
          103.3121441,
          103.4151449,
          103.4176839,
          103.4164958,
          103.4047607,
          103.4132894,
          103.3546631,
          103.3943522,
          103.3923258,
          103.3936035,
          103.3342796,
          103.3756185,
          103.4029134,
          103.3709961,
          103.3619873,
          103.3611491,
          103.4033447,
          103.4037516,
          103.3584961,
          103.4040365,
          103.3993652,
          103.3673747,
          103.4176025,
          103.3996419,
          103.3955729,
          103.3946452,
          103.4060059,
          103.3572347,
          103.3525879,
          103.3492188,
          103.3641357,
          103.3962386,
          103.4007363,
          103.3961019,
          103.3579671,
          103.3550537,
          103.3595703,
          103.3977051,
          103.4170654,
          103.4032389,
          103.3954915,
          103.3993327,
          103.399585,
          103.374471,
          103.3905192,
          103.3659857,
          103.4078044,
          103.4040853,
          103.4037923,
          103.401945,
          103.4013184,
          103.3569336,
          103.3979736,
          103.3982422,
          103.4005371,
          103.4084391,
          103.3991374,
          103.4003825,
          103.4045085,
          103.3986816,
          103.3986247,
          103.4007812,
          103.3681443,
          103.4075928,
          103.366805,
          103.3986003,
          103.3994303,
          103.3978434,
          103.399943,
          103.3989014,
          103.39882,
          103.3984375,
          103.4014079,
          103.3993734,
          103.4045898,
          103.4075033,
          103.4073486,
          103.4062174,
          103.4048096,
          103.4068522,
          103.4138102,
          103.4062663,
          103.4065348,
          103.4064372,
          103.4069743,
          103.4089355,
          103.4025228,
          103.403776,
          103.4052816,
          103.4062744,
          103.3536051,
          103.3606283,
          103.3582926,
          103.4035563,
          103.4064941,
          103.4027995,
          103.408195,
          103.4093343,
          103.4049154,
          103.4092285,
          103.4059408,
          103.4079753,
          103.3635416,
          103.4073242,
          103.3985514,
          103.3961019,
          103.3990072,
          103.4043701,
          103.3975993,
          103.3960449,
          103.4067383,
          103.4057129,
          103.4036621,
          103.3969401,
          103.393571,
          103.395516,
          103.361141,
          103.4025065,
          103.3975586,
          103.3954997,
          103.3987386,
          103.3960286,
          103.3954427,
          103.3953044,
          103.3500326,
          103.4105306,
          103.395459,
          103.3825521,
          103.3776984,
          103.3616211,
          103.3627116,
          103.3722538,
          103.3725324,
          103.3800537,
          103.3966146,
          103.400529,
          103.4039632,
          103.3676188,
          103.4031494,
          103.4015055,
          103.4037923,
          103.405013,
          103.3999512,
          103.3613688,
          103.3551351,
          103.3547282,
          103.3560465,
          103.3986247,
          103.3592448,
          103.3681559,
          103.388106,
          103.3968262,
          103.3960938,
          103.3553711,
          103.3525798,
          103.3978597,
          103.3589355,
          103.3580078,
          103.3597656,
          103.3519206,
          103.361329,
          103.3601237,
          103.3535645,
          103.3577718,
          103.3564038,
          103.3601725,
          103.3571452,
          103.3615967,
          103.3623128,
          103.3685303,
          103.3617106,
          103.3583252,
          103.3517822,
          103.3565999,
          103.3609131,
          103.3515137,
          103.3532633,
          103.3575928,
          103.3509684,
          103.3550944,
          103.3536214,
          103.3566081,
          103.3531477,
          103.3527995,
          103.360848,
          103.3594076,
          103.3565348,
          103.3583252,
          103.3612305,
          103.3560954,
          103.354484,
          103.3554118,
          103.3571533,
          103.3595459,
          103.3642741,
          103.3622152,
          103.3552165,
          103.3547526,
          103.3575439,
          103.3613688,
          103.3563395,
          103.3618734,
          103.3598389,
          103.3565104,
          103.3649495,
          103.356901,
          103.3545166,
          103.360498,
          103.3590495,
          103.3542969,
          103.3677002,
          103.3606608,
          103.3613932,
          103.398055,
          103.3979899,
          103.3811673,
          103.3903239,
          103.3901693,
          103.3974445,
          103.3985677,
          103.4003011,
          103.3996989,
          103.3963379,
          103.4003255,
          103.4010986,
          103.4003337,
          103.3945557,
          103.4128011,
          103.4168783,
          103.3433656,
          103.3948568,
          103.3953288,
          103.4083593,
          103.4031576,
          103.2989322,
          103.3999349,
          103.3987956,
          103.3981689,
          103.3980225,
          103.3996663,
          103.3487857,
          103.3640703,
          103.399292,
          103.3524658,
          103.3493571,
          103.3980469,
          103.3979248,
          103.3496012,
          103.39646,
          103.3448242,
          103.3995443,
          103.3992513,
          103.4009928,
          103.4021159,
          103.4017334,
          103.3728508,
          103.4028646,
          103.4060518,
          103.4102946,
          103.3971924,
          103.4019857,
          103.3983154,
          103.395931,
          103.3953532,
          103.3605876,
          103.3719401,
          103.404069,
          103.3745036,
          103.3250116,
          103.3583903,
          103.4034424,
          103.3542806,
          103.4104411,
          103.3518636,
          103.372404,
          103.3707845,
          103.374821,
          103.3547933,
          103.3700711,
          103.3557861,
          103.3553223,
          103.3496582,
          103.3542399,
          103.3534342,
          103.3762044,
          103.3546061,
          103.3495605,
          103.3575033,
          103.3548014,
          103.3508952,
          103.3561279,
          103.3446045,
          103.3545573,
          103.3555176,
          103.3519287,
          103.3522949,
          103.4339442,
          103.4176432,
          103.4055257,
          103.4065592,
          103.353597,
          103.4030192,
          103.402946,
          103.3492432,
          103.3551351,
          103.3499023,
          103.3700208,
          103.3578206,
          103.3572021,
          103.3543294,
          103.3608073,
          103.3614909,
          103.3958252,
          103.3620036,
          103.3492025,
          103.4184652,
          103.4186198,
          103.4121133,
          103.4099656,
          103.4078206,
          103.4165853,
          103.4168294,
          103.4163737,
          103.4229004,
          103.4198812,
          103.4142741,
          103.3951904,
          103.398999,
          103.3999674,
          103.3523275,
          103.4054036
         ],
         "xaxis": "x",
         "y": [
          -4.2443639,
          -4.201387,
          -4.2019114,
          -4.206830855,
          -4.2404327,
          -4.2405093,
          -4.2399249,
          -4.245665,
          -4.2416789,
          -4.2394341,
          -4.2430016,
          -4.2424685,
          -4.2405764,
          -4.2408755,
          -4.2220436,
          -4.22633679,
          -4.2269913,
          -4.2226031,
          -4.2186419,
          -4.213062,
          -4.21767965,
          -4.233159701,
          -4.222723851,
          -4.222254263,
          -4.2097056,
          -4.2087255,
          -4.208402,
          -4.107121396,
          -4.201989319,
          -4.2211522,
          -4.2135429,
          -4.206926,
          -4.2062386,
          -4.2108253,
          -4.2082174,
          -4.198535608,
          -4.2147507,
          -4.2202777,
          -4.2124184,
          -4.2076487,
          -4.215136884,
          -4.2145505,
          -4.2141904,
          -4.211731,
          -4.205881868,
          -4.2260465,
          -4.218735,
          -4.2161346,
          -4.2104836,
          -4.206515,
          -4.2134666,
          -4.2131744,
          -4.2125041,
          -4.2135496,
          -4.2125722,
          -4.2125402,
          -4.2130468,
          -4.213236,
          -4.212399,
          -4.2131396,
          -4.212532,
          -4.21191,
          -4.212263,
          -4.213102,
          -4.2157712,
          -4.2161217,
          -4.214856,
          -4.2129697,
          -4.2184191,
          -4.2154915,
          -4.2128156,
          -4.2126119,
          -4.2142268,
          -4.2114415,
          -4.2104996,
          -4.206937926,
          -4.2114655,
          -4.2093531,
          -4.33904703,
          -4.197921264,
          -4.223158,
          -4.2134687,
          -4.2122368,
          -4.2138036,
          -4.2412506,
          -4.2231959,
          -4.2409284,
          -4.2129056,
          -4.2162974,
          -4.2047015,
          -4.213633,
          -4.2187818,
          -4.209154,
          -4.2149679,
          -4.2185511,
          -4.2153872,
          -4.223525,
          -4.2171336,
          -4.218187,
          -4.2172048,
          -4.2149452,
          -4.2210571,
          -4.2151019,
          -4.2177361,
          -4.2145551,
          -4.2210411,
          -4.2018232,
          -4.2242254,
          -4.2238981,
          -4.2234815,
          -4.2165718,
          -4.2414246,
          -4.2152522,
          -4.2161985,
          -4.2425863,
          -4.240318,
          -4.2047358,
          -4.196332346,
          -4.2125343,
          -4.2142858,
          -4.2134163,
          -4.245723915,
          -4.2129262,
          -4.2162651,
          -4.2178149,
          -4.217084322,
          -4.2150256,
          -4.2179601,
          -4.2138074,
          -4.2136014,
          -4.242099,
          -4.2157626,
          -4.2409238,
          -4.229807734,
          -4.2428019,
          -4.199463619,
          -4.2005053,
          -4.2270365,
          -4.2169167,
          -4.173993344,
          -4.2060534,
          -4.269930307,
          -4.2176404,
          -4.2143631,
          -4.2128347,
          -4.2160271,
          -4.2133059,
          -4.2140673,
          -4.2141314,
          -4.2179873,
          -4.2141337,
          -4.2400757,
          -4.2157926,
          -4.2154948,
          -4.2148109,
          -4.2195063,
          -4.2197718,
          -4.2077649,
          -4.2166824,
          -4.201808737,
          -4.2067284,
          -4.1990486,
          -4.2206685,
          -4.2030823,
          -4.219840325,
          -4.1716894,
          -4.2027901,
          -4.2024373,
          -4.2161977,
          -4.232954437,
          -4.21231023,
          -4.2185671,
          -4.2184504,
          -4.2169856,
          -4.1971654,
          -4.2009504,
          -4.2119909,
          -4.1695107,
          -4.201311,
          -4.2203178,
          -4.1968541,
          -4.2073263,
          -4.2046125,
          -4.200504,
          -4.2168365,
          -4.1986707,
          -4.217469,
          -4.2061195,
          -4.2198095,
          -4.2104561,
          -4.1938622,
          -4.211066483,
          -4.1988945,
          -4.219278912,
          -4.2220484,
          -4.1987671,
          -4.2133586,
          -4.2200035,
          -4.2035601,
          -4.2198873,
          -4.2481832,
          -4.2157585,
          -4.2142362,
          -4.2190971,
          -4.2226443,
          -4.241053,
          -4.2117706,
          -4.2151276,
          -4.2213542,
          -4.2173322,
          -4.2401479,
          -4.2425214,
          -4.2149348,
          -4.2139798,
          -4.217983,
          -4.2192632,
          -4.2427358,
          -4.2421204,
          -4.2415736,
          -4.2133146,
          -4.2126752,
          -4.2137349,
          -4.214812,
          -4.2189484,
          -4.2173597,
          -4.2144338,
          -4.2134969,
          -4.2156375,
          -4.2123329,
          -4.2125465,
          -4.2244504,
          -4.2156916,
          -4.2210373,
          -4.2137601,
          -4.2126584,
          -4.2129618,
          -4.2192413,
          -4.2123199,
          -4.2162549,
          -4.2138796,
          -4.2198967,
          -4.2226735,
          -4.2226262,
          -4.2199173,
          -4.2166725,
          -4.136493362,
          -4.2127543,
          -4.2124517,
          -4.2146011,
          -4.2130572,
          -4.2103714,
          -4.2146535,
          -4.2127803,
          -4.213413,
          -4.2134066,
          -4.210746,
          -4.213339,
          -4.2146403,
          -4.2146383,
          -4.2127533,
          -4.2140846,
          -4.2132289,
          -4.213692,
          -4.213014,
          -4.2158768,
          -4.2133578,
          -4.2195508,
          -4.2151306,
          -4.2154772,
          -4.2141622,
          -4.2127635,
          -4.2158068,
          -4.2143064,
          -4.2152425,
          -4.2133649,
          -4.2131152,
          -4.2136907,
          -4.108142419,
          -4.2415225,
          -4.2394862,
          -4.252404026,
          -4.2450358,
          -4.2180603,
          -4.217922,
          -4.2158287,
          -4.2416903,
          -4.2143316,
          -4.2148689,
          -4.212858872,
          -4.2163434,
          -4.090709987,
          -4.213574,
          -4.239419,
          -4.229329782,
          -4.2146797,
          -4.2177378,
          -4.2141609,
          -4.214519,
          -4.217365,
          -4.2155385,
          -4.2129148,
          -4.2139829,
          -4.2137202,
          -4.2138629,
          -4.2468923,
          -4.2406548,
          -4.240731,
          -4.2420428,
          -4.2145373,
          -4.2124771,
          -4.2204056,
          -4.2225914,
          -4.2120867,
          -4.272706783,
          -4.21496,
          -4.2206037,
          -4.2202843,
          -4.2355619,
          -4.2143069,
          -4.2243055,
          -4.2177259,
          -4.2168694,
          -4.2197416,
          -4.2155401,
          -4.2153643,
          -4.2201345,
          -4.240034,
          -4.2135615,
          -4.2161407,
          -4.2173269,
          -4.147450888,
          -4.222079,
          -4.2410108,
          -4.2415326,
          -4.2164169,
          -4.2138379,
          -4.2112089,
          -4.2161797,
          -4.221035,
          -4.2215747,
          -4.2303436,
          -4.2054212,
          -4.2134137,
          -4.140868979,
          -4.2155075,
          -4.145349492,
          -4.2160304,
          -4.2123436,
          -4.2150406,
          -4.2147476,
          -4.2136742,
          -4.2206037,
          -4.2144313,
          -4.2213399,
          -4.2275818,
          -4.2166496,
          -4.2281375,
          -4.2195752,
          -4.223409,
          -4.2200109,
          -4.2142069,
          -4.241391,
          -4.2473938,
          -4.2438049,
          -4.2177078,
          -4.2144516,
          -4.2149378,
          -4.2142825,
          -4.2460335,
          -4.2120374,
          -4.2393443,
          -4.213927,
          -4.296260173,
          -4.214925257,
          -4.217377,
          -4.2291682,
          -4.214522,
          -4.2150536,
          -4.2185562,
          -4.2035594,
          -4.22024118,
          -4.2133563,
          -4.2031654,
          -4.2076141,
          -4.2039152,
          -4.2026952,
          -4.2150251,
          -4.238476332,
          -4.256321738,
          -4.2084119,
          -4.2034828,
          -4.2226784,
          -4.2306099,
          -4.211805,
          -4.2106631,
          -4.2156662,
          -4.2113627,
          -4.2156998,
          -4.2122037,
          -4.213237,
          -4.234194521,
          -4.274367756,
          -4.237271636,
          -4.2231448,
          -4.2098684,
          -4.2130046,
          -4.2164889,
          -4.2168599,
          -4.2168859,
          -4.2090652,
          -4.256897917,
          -4.2123075,
          -4.2137723,
          -4.2134763,
          -4.214903,
          -4.2157865,
          -4.2164012,
          -4.2244446,
          -4.2237005,
          -4.2250285,
          -4.2224889,
          -4.2241173,
          -4.2328985,
          -4.2200063,
          -4.2257245,
          -4.232406343,
          -4.2241684,
          -4.2210686,
          -4.2252813,
          -4.2214541,
          -4.2216011,
          -4.2411161,
          -4.244593,
          -4.2468508,
          -4.2162684,
          -4.180226084,
          -4.2116397,
          -4.2117655,
          -4.2137182,
          -4.2155309,
          -4.2144633,
          -4.2387014,
          -4.2224096,
          -4.2198545,
          -4.2226649,
          -4.273803062,
          -4.2034993,
          -4.2206004,
          -4.2114914,
          -4.20755,
          -4.203831,
          -4.2217893,
          -4.2166094,
          -4.2070773,
          -4.2118998,
          -4.2139084,
          -4.2080086,
          -4.215357,
          -4.2129359,
          -4.2234283,
          -4.2159459,
          -4.2140078,
          -4.2423884,
          -4.2404678,
          -4.2449778,
          -4.2434799,
          -4.215682731,
          -4.214187829,
          -4.213105,
          -4.2412862,
          -4.2415372,
          -4.2426648,
          -4.2134076,
          -4.2126155,
          -4.2224304,
          -4.2125239,
          -4.2138669,
          -4.2148191,
          -4.2009659,
          -4.2158417,
          -4.223550622,
          -4.2172638,
          -4.2146255,
          -4.2103091,
          -4.2133787,
          -4.2132683,
          -4.2439471,
          -4.2177691,
          -4.2181905,
          -4.2135892,
          -4.2162046,
          -4.2168864,
          -4.2158193,
          -4.2234782,
          -4.2175814,
          -4.2175011,
          -4.2165995,
          -4.233400549,
          -4.2141337,
          -4.2491015,
          -4.2175301,
          -4.2221583,
          -4.2160937,
          -4.2168022,
          -4.2187108,
          -4.2192182,
          -4.2199392,
          -4.2253965,
          -4.2176882,
          -4.2101397,
          -4.2145081,
          -4.2145541,
          -4.2134661,
          -4.21518,
          -4.2136086,
          -4.2108337,
          -4.2154394,
          -4.21521,
          -4.2141518,
          -4.2146718,
          -4.2143669,
          -4.2199791,
          -4.2182322,
          -4.2172256,
          -4.2147387,
          -4.2366966,
          -4.2384377,
          -4.237768,
          -4.2160388,
          -4.2145182,
          -4.2146108,
          -4.2135844,
          -4.2120178,
          -4.2141769,
          -4.212542,
          -4.2112734,
          -4.2121557,
          -4.219990195,
          -4.2134641,
          -4.2171974,
          -4.218794,
          -4.2175095,
          -4.21216,
          -4.2144478,
          -4.2156034,
          -4.2191345,
          -4.2140549,
          -4.2131872,
          -4.2154912,
          -4.215655,
          -4.2158887,
          -4.2408226,
          -4.2130338,
          -4.2120216,
          -4.2129028,
          -4.2128179,
          -4.2137698,
          -4.2137426,
          -4.2111043,
          -4.2479126,
          -4.2202835,
          -4.2202609,
          -4.232589,
          -4.223848724,
          -4.2085337,
          -4.2132848,
          -4.222196398,
          -4.219188667,
          -4.2327126,
          -4.2154073,
          -4.2232814,
          -4.2167229,
          -4.2142446,
          -4.2161311,
          -4.2197344,
          -4.2152423,
          -4.2144948,
          -4.2167173,
          -4.2401952,
          -4.240682,
          -4.2451441,
          -4.2404615,
          -4.2216029,
          -4.2424431,
          -4.2142606,
          -4.196521881,
          -4.222064,
          -4.2174222,
          -4.241198,
          -4.2403753,
          -4.2247889,
          -4.2403308,
          -4.23937,
          -4.2403041,
          -4.2469704,
          -4.235847471,
          -4.2422852,
          -4.2443616,
          -4.241066,
          -4.246229287,
          -4.2395772,
          -4.240847,
          -4.2405047,
          -4.2420771,
          -4.2425774,
          -4.2399152,
          -4.2434888,
          -4.2427839,
          -4.2386757,
          -4.2368947,
          -4.2384544,
          -4.2454104,
          -4.2408432,
          -4.2369479,
          -4.2412867,
          -4.243841,
          -4.2424088,
          -4.240205764,
          -4.2372449,
          -4.2381597,
          -4.2404958,
          -4.2390831,
          -4.2405846,
          -4.2390472,
          -4.2416593,
          -4.2424011,
          -4.2385872,
          -4.239978,
          -4.2406754,
          -4.2414831,
          -4.2401014,
          -4.2454208,
          -4.2378273,
          -4.2399272,
          -4.2403618,
          -4.2396617,
          -4.2399429,
          -4.24219,
          -4.2412046,
          -4.2401578,
          -4.2384984,
          -4.2371188,
          -4.2399709,
          -4.2399859,
          -4.2389107,
          -4.2395442,
          -4.2402433,
          -4.2388184,
          -4.2133354,
          -4.2204709,
          -4.258588517,
          -4.2233391,
          -4.2248278,
          -4.225393998,
          -4.2168348,
          -4.2232956,
          -4.2170596,
          -4.2148031,
          -4.2166379,
          -4.2160497,
          -4.2165581,
          -4.2151647,
          -4.2176949,
          -4.2151744,
          -4.228698692,
          -4.2136762,
          -4.216657,
          -4.282712263,
          -4.2241872,
          -4.243643304,
          -4.2185524,
          -4.2152204,
          -4.2146662,
          -4.2139254,
          -4.2140416,
          -4.241837318,
          -4.227648814,
          -4.2134613,
          -4.2462301,
          -4.2431529,
          -4.2270866,
          -4.2158813,
          -4.2457705,
          -4.2134471,
          -4.2464455,
          -4.2232541,
          -4.2233363,
          -4.2148659,
          -4.2223778,
          -4.2210515,
          -4.197037161,
          -4.2127177,
          -4.212421084,
          -4.2259501,
          -4.2136063,
          -4.2241481,
          -4.2169912,
          -4.2142092,
          -4.2112221,
          -4.2407951,
          -4.2160683,
          -4.2276662,
          -4.2095609,
          -4.276517606,
          -4.2415037,
          -4.210598,
          -4.2420451,
          -4.210218,
          -4.2434191,
          -4.2162788,
          -4.2165207,
          -4.2142418,
          -4.2408437,
          -4.223832712,
          -4.243544,
          -4.2411509,
          -4.242278,
          -4.2411674,
          -4.2421494,
          -4.2106438,
          -4.2417809,
          -4.2424357,
          -4.2421903,
          -4.2422218,
          -4.2461591,
          -4.2412137,
          -4.24397,
          -4.2431981,
          -4.241143,
          -4.2433416,
          -4.2425102,
          -4.294251758,
          -4.2186213,
          -4.2222616,
          -4.2209813,
          -4.2421598,
          -4.2241478,
          -4.2246099,
          -4.2429075,
          -4.2412328,
          -4.2440679,
          -4.247899112,
          -4.2421527,
          -4.2398188,
          -4.248923,
          -4.2396634,
          -4.2408353,
          -4.2138069,
          -4.2407417,
          -4.243661,
          -4.3181798,
          -4.3073349,
          -4.311709829,
          -4.296390011,
          -4.3117152,
          -4.3095154,
          -4.3073975,
          -4.3116608,
          -4.3094981,
          -4.3084223,
          -4.3116842,
          -4.2131177,
          -4.207137,
          -4.2173721,
          -4.2424604,
          -4.2124364
         ],
         "yaxis": "y"
        },
        {
         "marker": {
          "color": "red",
          "size": 10,
          "symbol": "triangle-down"
         },
         "mode": "markers",
         "name": "Stations",
         "type": "scatter",
         "x": [
          103.364433,
          103.378906,
          103.378906,
          103.378906,
          103.364433,
          103.362021,
          103.356779,
          103.362021,
          103.366364,
          103.362021,
          103.356779,
          103.362021,
          103.366364,
          103.366364,
          103.362021,
          103.401842,
          103.372253,
          103.401842,
          103.401842,
          103.401842,
          103.379951,
          103.379951,
          103.372777,
          103.372777,
          103.401842,
          103.401842,
          103.401842,
          103.401842,
          103.408419,
          103.401842,
          103.401842,
          103.401842,
          103.401842,
          103.408419,
          103.408419,
          103.408419,
          103.408419,
          103.401842,
          103.401842,
          103.401842,
          103.401842,
          103.372253,
          103.401842,
          103.401842,
          103.417561,
          103.417561,
          103.401842,
          103.401842,
          103.401842,
          103.379951,
          103.401842,
          103.401842,
          103.401842,
          103.401842,
          103.401842,
          103.401842,
          103.401842,
          103.401842,
          103.401842,
          103.401842,
          103.401842,
          103.401842,
          103.401842,
          103.401842,
          103.401842,
          103.401842,
          103.401842,
          103.401842,
          103.401842,
          103.401842,
          103.401842,
          103.401842,
          103.401842,
          103.401842,
          103.401842,
          103.401842,
          103.401842,
          103.379951,
          103.379951,
          103.362021,
          103.401842,
          103.401842,
          103.401842,
          103.401842,
          103.401842,
          103.356779,
          103.366364,
          103.401842,
          103.362021,
          103.401842,
          103.401842,
          103.379951,
          103.378906,
          103.401842,
          103.401842,
          103.401842,
          103.401842,
          103.401842,
          103.401842,
          103.401842,
          103.401842,
          103.401842,
          103.401842,
          103.401842,
          103.401842,
          103.401842,
          103.417561,
          103.401842,
          103.401842,
          103.417561,
          103.401842,
          103.401842,
          103.401842,
          103.401842,
          103.356779,
          103.401842,
          103.401842,
          103.356779,
          103.356779,
          103.417561,
          103.401842,
          103.401842,
          103.401842,
          103.401842,
          103.366364,
          103.401842,
          103.401842,
          103.401842,
          103.417561,
          103.401842,
          103.401842,
          103.401842,
          103.401842,
          103.401842,
          103.356779,
          103.401842,
          103.356779,
          103.364433,
          103.356779,
          103.408419,
          103.379951,
          103.417561,
          103.417561,
          103.408419,
          103.364433,
          103.362021,
          103.401842,
          103.401842,
          103.401842,
          103.401842,
          103.401842,
          103.401842,
          103.401842,
          103.401842,
          103.401842,
          103.356779,
          103.401842,
          103.401842,
          103.401842,
          103.401842,
          103.417561,
          103.417561,
          103.417561,
          103.417561,
          103.417561,
          103.417561,
          103.417561,
          103.417561,
          103.417561,
          103.417561,
          103.417561,
          103.417561,
          103.417561,
          103.417561,
          103.417561,
          103.417561,
          103.417561,
          103.417561,
          103.417561,
          103.417561,
          103.417561,
          103.417561,
          103.417561,
          103.417561,
          103.417561,
          103.417561,
          103.417561,
          103.417561,
          103.417561,
          103.417561,
          103.417561,
          103.417561,
          103.417561,
          103.417561,
          103.417561,
          103.417561,
          103.417561,
          103.417561,
          103.417561,
          103.417561,
          103.417561,
          103.417561,
          103.417561,
          103.417561,
          103.417561,
          103.362021,
          103.401842,
          103.401842,
          103.401842,
          103.401842,
          103.362021,
          103.401842,
          103.401842,
          103.401842,
          103.401842,
          103.359078,
          103.366364,
          103.417561,
          103.401842,
          103.401842,
          103.401842,
          103.372777,
          103.366364,
          103.372777,
          103.401842,
          103.401842,
          103.401842,
          103.401842,
          103.401842,
          103.401842,
          103.401842,
          103.401842,
          103.401842,
          103.401842,
          103.401842,
          103.401842,
          103.401842,
          103.401842,
          103.401842,
          103.401842,
          103.401842,
          103.401842,
          103.401842,
          103.401842,
          103.401842,
          103.401842,
          103.401842,
          103.401842,
          103.401842,
          103.401842,
          103.401842,
          103.379951,
          103.401842,
          103.401842,
          103.401842,
          103.401842,
          103.401842,
          103.401842,
          103.401842,
          103.401842,
          103.401842,
          103.401842,
          103.401842,
          103.401842,
          103.401842,
          103.401842,
          103.401842,
          103.401842,
          103.401842,
          103.401842,
          103.401842,
          103.401842,
          103.401842,
          103.401842,
          103.401842,
          103.401842,
          103.401842,
          103.401842,
          103.401842,
          103.401842,
          103.379951,
          103.401842,
          103.401842,
          103.408419,
          103.372777,
          103.372777,
          103.359078,
          103.362021,
          103.366364,
          103.401842,
          103.401842,
          103.379951,
          103.372777,
          103.401842,
          103.401842,
          103.401842,
          103.401842,
          103.408419,
          103.401842,
          103.372777,
          103.381069,
          103.378906,
          103.401842,
          103.401842,
          103.401842,
          103.401842,
          103.401842,
          103.401842,
          103.401842,
          103.401842,
          103.401842,
          103.369522,
          103.356779,
          103.356779,
          103.356779,
          103.401842,
          103.401842,
          103.401842,
          103.401842,
          103.401842,
          103.356779,
          103.401842,
          103.401842,
          103.401842,
          103.372777,
          103.401842,
          103.401842,
          103.401842,
          103.401842,
          103.401842,
          103.401842,
          103.401842,
          103.401842,
          103.372777,
          103.401842,
          103.401842,
          103.401842,
          103.378906,
          103.401842,
          103.372777,
          103.372777,
          103.401842,
          103.417561,
          103.401842,
          103.401842,
          103.401842,
          103.401842,
          103.401842,
          103.378906,
          103.401842,
          103.372253,
          103.401842,
          103.408419,
          103.401842,
          103.401842,
          103.401842,
          103.401842,
          103.401842,
          103.401842,
          103.401842,
          103.401842,
          103.401842,
          103.401842,
          103.401842,
          103.401842,
          103.401842,
          103.417561,
          103.401842,
          103.379951,
          103.372777,
          103.362021,
          103.362021,
          103.362021,
          103.362021,
          103.372777,
          103.401842,
          103.401842,
          103.401842,
          103.401842,
          103.362021,
          103.401842,
          103.372777,
          103.401842,
          103.356779,
          103.417561,
          103.401842,
          103.417561,
          103.372777,
          103.401842,
          103.401842,
          103.401842,
          103.378906,
          103.364433,
          103.401842,
          103.378906,
          103.372777,
          103.372777,
          103.379951,
          103.401842,
          103.372777,
          103.362021,
          103.356779,
          103.356779,
          103.379951,
          103.356779,
          103.372777,
          103.401842,
          103.401842,
          103.401842,
          103.356779,
          103.356779,
          103.379951,
          103.401842,
          103.401842,
          103.401842,
          103.401842,
          103.401842,
          103.408419,
          103.356779,
          103.356779,
          103.401842,
          103.401842,
          103.401842,
          103.401842,
          103.401842,
          103.401842,
          103.401842,
          103.401842,
          103.356779,
          103.401842,
          103.401842,
          103.401842,
          103.401842,
          103.401842,
          103.401842,
          103.401842,
          103.401842,
          103.401842,
          103.401842,
          103.401842,
          103.401842,
          103.401842,
          103.401842,
          103.417561,
          103.401842,
          103.401842,
          103.401842,
          103.417561,
          103.417561,
          103.362021,
          103.362021,
          103.362021,
          103.417561,
          103.378906,
          103.359078,
          103.417561,
          103.417561,
          103.417561,
          103.401842,
          103.401842,
          103.372777,
          103.401842,
          103.401842,
          103.401842,
          103.362021,
          103.378906,
          103.401842,
          103.379951,
          103.379951,
          103.378906,
          103.401842,
          103.401842,
          103.378906,
          103.401842,
          103.401842,
          103.379951,
          103.364433,
          103.417561,
          103.401842,
          103.401842,
          103.401842,
          103.417561,
          103.359078,
          103.362021,
          103.359078,
          103.359078,
          103.401842,
          103.401842,
          103.401842,
          103.362021,
          103.362021,
          103.362021,
          103.401842,
          103.417561,
          103.401842,
          103.401842,
          103.401842,
          103.401842,
          103.378906,
          103.401842,
          103.359078,
          103.401842,
          103.401842,
          103.401842,
          103.401842,
          103.401842,
          103.359078,
          103.401842,
          103.401842,
          103.401842,
          103.401842,
          103.401842,
          103.401842,
          103.401842,
          103.401842,
          103.401842,
          103.401842,
          103.364433,
          103.401842,
          103.362021,
          103.401842,
          103.401842,
          103.401842,
          103.401842,
          103.401842,
          103.401842,
          103.401842,
          103.401842,
          103.401842,
          103.417561,
          103.417561,
          103.417561,
          103.417561,
          103.417561,
          103.417561,
          103.417561,
          103.417561,
          103.417561,
          103.417561,
          103.417561,
          103.417561,
          103.417561,
          103.417561,
          103.417561,
          103.417561,
          103.362021,
          103.362021,
          103.359078,
          103.359078,
          103.359078,
          103.401842,
          103.401842,
          103.401842,
          103.401842,
          103.401842,
          103.401842,
          103.401842,
          103.401842,
          103.401842,
          103.364433,
          103.362021,
          103.401842,
          103.401842,
          103.401842,
          103.401842,
          103.417561,
          103.401842,
          103.401842,
          103.417561,
          103.401842,
          103.401842,
          103.401842,
          103.401842,
          103.401842,
          103.359078,
          103.401842,
          103.401842,
          103.401842,
          103.401842,
          103.401842,
          103.401842,
          103.401842,
          103.359078,
          103.401842,
          103.401842,
          103.381069,
          103.381069,
          103.379951,
          103.379951,
          103.381069,
          103.379951,
          103.372253,
          103.401842,
          103.401842,
          103.401842,
          103.401842,
          103.379951,
          103.401842,
          103.401842,
          103.401842,
          103.401842,
          103.401842,
          103.366364,
          103.359078,
          103.362021,
          103.359078,
          103.379951,
          103.366364,
          103.379951,
          103.408419,
          103.401842,
          103.401842,
          103.359078,
          103.359078,
          103.401842,
          103.359078,
          103.359078,
          103.359078,
          103.362021,
          103.359078,
          103.366364,
          103.359078,
          103.359078,
          103.362021,
          103.359078,
          103.359078,
          103.359078,
          103.359078,
          103.362021,
          103.359078,
          103.359078,
          103.359078,
          103.359078,
          103.359078,
          103.359078,
          103.362021,
          103.359078,
          103.359078,
          103.359078,
          103.359078,
          103.359078,
          103.359078,
          103.359078,
          103.359078,
          103.359078,
          103.359078,
          103.359078,
          103.359078,
          103.359078,
          103.366364,
          103.359078,
          103.359078,
          103.359078,
          103.359078,
          103.366364,
          103.359078,
          103.359078,
          103.359078,
          103.359078,
          103.359078,
          103.359078,
          103.359078,
          103.359078,
          103.359078,
          103.362021,
          103.359078,
          103.366364,
          103.359078,
          103.359078,
          103.359078,
          103.362021,
          103.359078,
          103.359078,
          103.401842,
          103.401842,
          103.362021,
          103.390728,
          103.390728,
          103.401842,
          103.401842,
          103.401842,
          103.401842,
          103.401842,
          103.401842,
          103.401842,
          103.401842,
          103.401842,
          103.401842,
          103.417561,
          103.417561,
          103.359078,
          103.401842,
          103.401842,
          103.362021,
          103.401842,
          103.362021,
          103.401842,
          103.401842,
          103.401842,
          103.401842,
          103.401842,
          103.401842,
          103.362021,
          103.362021,
          103.401842,
          103.362021,
          103.359078,
          103.401842,
          103.401842,
          103.362021,
          103.401842,
          103.362021,
          103.401842,
          103.401842,
          103.401842,
          103.401842,
          103.401842,
          103.378906,
          103.401842,
          103.401842,
          103.401842,
          103.401842,
          103.401842,
          103.401842,
          103.401842,
          103.401842,
          103.359078,
          103.379951,
          103.379951,
          103.401842,
          103.379951,
          103.362021,
          103.359078,
          103.401842,
          103.362021,
          103.401842,
          103.362021,
          103.379951,
          103.379951,
          103.379951,
          103.362021,
          103.362021,
          103.362021,
          103.359078,
          103.359078,
          103.359078,
          103.359078,
          103.379951,
          103.362021,
          103.359078,
          103.362021,
          103.362021,
          103.362021,
          103.362021,
          103.362021,
          103.362021,
          103.366364,
          103.362021,
          103.359078,
          103.417561,
          103.359078,
          103.417561,
          103.401842,
          103.401842,
          103.362021,
          103.401842,
          103.401842,
          103.362021,
          103.359078,
          103.362021,
          103.362021,
          103.362021,
          103.359078,
          103.359078,
          103.362021,
          103.359078,
          103.359078,
          103.401842,
          103.359078,
          103.362021,
          103.362021,
          103.362021,
          103.401842,
          103.362021,
          103.362021,
          103.362021,
          103.417561,
          103.362021,
          103.417561,
          103.417561,
          103.362021,
          103.401842,
          103.401842,
          103.401842,
          103.359078,
          103.401842
         ],
         "y": [
          -4.22482,
          -4.20397,
          -4.20397,
          -4.20397,
          -4.22482,
          -4.24528,
          -4.240449,
          -4.24528,
          -4.236119,
          -4.24528,
          -4.240449,
          -4.24528,
          -4.236119,
          -4.236119,
          -4.24528,
          -4.210773,
          -4.22405,
          -4.210773,
          -4.210773,
          -4.210773,
          -4.212581,
          -4.212581,
          -4.231774,
          -4.231774,
          -4.210773,
          -4.210773,
          -4.210773,
          -4.210773,
          -4.192293,
          -4.210773,
          -4.210773,
          -4.210773,
          -4.210773,
          -4.192293,
          -4.192293,
          -4.192293,
          -4.192293,
          -4.210773,
          -4.210773,
          -4.210773,
          -4.210773,
          -4.22405,
          -4.210773,
          -4.210773,
          -4.210271,
          -4.210271,
          -4.210773,
          -4.210773,
          -4.210773,
          -4.212581,
          -4.210773,
          -4.210773,
          -4.210773,
          -4.210773,
          -4.210773,
          -4.210773,
          -4.210773,
          -4.210773,
          -4.210773,
          -4.210773,
          -4.210773,
          -4.210773,
          -4.210773,
          -4.210773,
          -4.210773,
          -4.210773,
          -4.210773,
          -4.210773,
          -4.210773,
          -4.210773,
          -4.210773,
          -4.210773,
          -4.210773,
          -4.210773,
          -4.210773,
          -4.210773,
          -4.210773,
          -4.212581,
          -4.212581,
          -4.24528,
          -4.210773,
          -4.210773,
          -4.210773,
          -4.210773,
          -4.210773,
          -4.240449,
          -4.236119,
          -4.210773,
          -4.24528,
          -4.210773,
          -4.210773,
          -4.212581,
          -4.20397,
          -4.210773,
          -4.210773,
          -4.210773,
          -4.210773,
          -4.210773,
          -4.210773,
          -4.210773,
          -4.210773,
          -4.210773,
          -4.210773,
          -4.210773,
          -4.210773,
          -4.210773,
          -4.210271,
          -4.210773,
          -4.210773,
          -4.210271,
          -4.210773,
          -4.210773,
          -4.210773,
          -4.210773,
          -4.240449,
          -4.210773,
          -4.210773,
          -4.240449,
          -4.240449,
          -4.210271,
          -4.210773,
          -4.210773,
          -4.210773,
          -4.210773,
          -4.236119,
          -4.210773,
          -4.210773,
          -4.210773,
          -4.210271,
          -4.210773,
          -4.210773,
          -4.210773,
          -4.210773,
          -4.210773,
          -4.240449,
          -4.210773,
          -4.240449,
          -4.22482,
          -4.240449,
          -4.192293,
          -4.212581,
          -4.210271,
          -4.210271,
          -4.192293,
          -4.22482,
          -4.24528,
          -4.210773,
          -4.210773,
          -4.210773,
          -4.210773,
          -4.210773,
          -4.210773,
          -4.210773,
          -4.210773,
          -4.210773,
          -4.240449,
          -4.210773,
          -4.210773,
          -4.210773,
          -4.210773,
          -4.210271,
          -4.210271,
          -4.210271,
          -4.210271,
          -4.210271,
          -4.210271,
          -4.210271,
          -4.210271,
          -4.210271,
          -4.210271,
          -4.210271,
          -4.210271,
          -4.210271,
          -4.210271,
          -4.210271,
          -4.210271,
          -4.210271,
          -4.210271,
          -4.210271,
          -4.210271,
          -4.210271,
          -4.210271,
          -4.210271,
          -4.210271,
          -4.210271,
          -4.210271,
          -4.210271,
          -4.210271,
          -4.210271,
          -4.210271,
          -4.210271,
          -4.210271,
          -4.210271,
          -4.210271,
          -4.210271,
          -4.210271,
          -4.210271,
          -4.210271,
          -4.210271,
          -4.210271,
          -4.210271,
          -4.210271,
          -4.210271,
          -4.210271,
          -4.210271,
          -4.24528,
          -4.210773,
          -4.210773,
          -4.210773,
          -4.210773,
          -4.24528,
          -4.210773,
          -4.210773,
          -4.210773,
          -4.210773,
          -4.231261,
          -4.236119,
          -4.210271,
          -4.210773,
          -4.210773,
          -4.210773,
          -4.231774,
          -4.236119,
          -4.231774,
          -4.210773,
          -4.210773,
          -4.210773,
          -4.210773,
          -4.210773,
          -4.210773,
          -4.210773,
          -4.210773,
          -4.210773,
          -4.210773,
          -4.210773,
          -4.210773,
          -4.210773,
          -4.210773,
          -4.210773,
          -4.210773,
          -4.210773,
          -4.210773,
          -4.210773,
          -4.210773,
          -4.210773,
          -4.210773,
          -4.210773,
          -4.210773,
          -4.210773,
          -4.210773,
          -4.210773,
          -4.212581,
          -4.210773,
          -4.210773,
          -4.210773,
          -4.210773,
          -4.210773,
          -4.210773,
          -4.210773,
          -4.210773,
          -4.210773,
          -4.210773,
          -4.210773,
          -4.210773,
          -4.210773,
          -4.210773,
          -4.210773,
          -4.210773,
          -4.210773,
          -4.210773,
          -4.210773,
          -4.210773,
          -4.210773,
          -4.210773,
          -4.210773,
          -4.210773,
          -4.210773,
          -4.210773,
          -4.210773,
          -4.210773,
          -4.212581,
          -4.210773,
          -4.210773,
          -4.192293,
          -4.231774,
          -4.231774,
          -4.231261,
          -4.24528,
          -4.236119,
          -4.210773,
          -4.210773,
          -4.212581,
          -4.231774,
          -4.210773,
          -4.210773,
          -4.210773,
          -4.210773,
          -4.192293,
          -4.210773,
          -4.231774,
          -4.220451,
          -4.20397,
          -4.210773,
          -4.210773,
          -4.210773,
          -4.210773,
          -4.210773,
          -4.210773,
          -4.210773,
          -4.210773,
          -4.210773,
          -4.243717,
          -4.240449,
          -4.240449,
          -4.240449,
          -4.210773,
          -4.210773,
          -4.210773,
          -4.210773,
          -4.210773,
          -4.240449,
          -4.210773,
          -4.210773,
          -4.210773,
          -4.231774,
          -4.210773,
          -4.210773,
          -4.210773,
          -4.210773,
          -4.210773,
          -4.210773,
          -4.210773,
          -4.210773,
          -4.231774,
          -4.210773,
          -4.210773,
          -4.210773,
          -4.20397,
          -4.210773,
          -4.231774,
          -4.231774,
          -4.210773,
          -4.210271,
          -4.210773,
          -4.210773,
          -4.210773,
          -4.210773,
          -4.210773,
          -4.20397,
          -4.210773,
          -4.22405,
          -4.210773,
          -4.192293,
          -4.210773,
          -4.210773,
          -4.210773,
          -4.210773,
          -4.210773,
          -4.210773,
          -4.210773,
          -4.210773,
          -4.210773,
          -4.210773,
          -4.210773,
          -4.210773,
          -4.210773,
          -4.210271,
          -4.210773,
          -4.212581,
          -4.231774,
          -4.24528,
          -4.24528,
          -4.24528,
          -4.24528,
          -4.231774,
          -4.210773,
          -4.210773,
          -4.210773,
          -4.210773,
          -4.24528,
          -4.210773,
          -4.231774,
          -4.210773,
          -4.240449,
          -4.210271,
          -4.210773,
          -4.210271,
          -4.231774,
          -4.210773,
          -4.210773,
          -4.210773,
          -4.20397,
          -4.22482,
          -4.210773,
          -4.20397,
          -4.231774,
          -4.231774,
          -4.212581,
          -4.210773,
          -4.231774,
          -4.24528,
          -4.240449,
          -4.240449,
          -4.212581,
          -4.240449,
          -4.231774,
          -4.210773,
          -4.210773,
          -4.210773,
          -4.240449,
          -4.240449,
          -4.212581,
          -4.210773,
          -4.210773,
          -4.210773,
          -4.210773,
          -4.210773,
          -4.192293,
          -4.240449,
          -4.240449,
          -4.210773,
          -4.210773,
          -4.210773,
          -4.210773,
          -4.210773,
          -4.210773,
          -4.210773,
          -4.210773,
          -4.240449,
          -4.210773,
          -4.210773,
          -4.210773,
          -4.210773,
          -4.210773,
          -4.210773,
          -4.210773,
          -4.210773,
          -4.210773,
          -4.210773,
          -4.210773,
          -4.210773,
          -4.210773,
          -4.210773,
          -4.210271,
          -4.210773,
          -4.210773,
          -4.210773,
          -4.210271,
          -4.210271,
          -4.24528,
          -4.24528,
          -4.24528,
          -4.210271,
          -4.20397,
          -4.231261,
          -4.210271,
          -4.210271,
          -4.210271,
          -4.210773,
          -4.210773,
          -4.231774,
          -4.210773,
          -4.210773,
          -4.210773,
          -4.24528,
          -4.20397,
          -4.210773,
          -4.212581,
          -4.212581,
          -4.20397,
          -4.210773,
          -4.210773,
          -4.20397,
          -4.210773,
          -4.210773,
          -4.212581,
          -4.22482,
          -4.210271,
          -4.210773,
          -4.210773,
          -4.210773,
          -4.210271,
          -4.231261,
          -4.24528,
          -4.231261,
          -4.231261,
          -4.210773,
          -4.210773,
          -4.210773,
          -4.24528,
          -4.24528,
          -4.24528,
          -4.210773,
          -4.210271,
          -4.210773,
          -4.210773,
          -4.210773,
          -4.210773,
          -4.20397,
          -4.210773,
          -4.231261,
          -4.210773,
          -4.210773,
          -4.210773,
          -4.210773,
          -4.210773,
          -4.231261,
          -4.210773,
          -4.210773,
          -4.210773,
          -4.210773,
          -4.210773,
          -4.210773,
          -4.210773,
          -4.210773,
          -4.210773,
          -4.210773,
          -4.22482,
          -4.210773,
          -4.24528,
          -4.210773,
          -4.210773,
          -4.210773,
          -4.210773,
          -4.210773,
          -4.210773,
          -4.210773,
          -4.210773,
          -4.210773,
          -4.210271,
          -4.210271,
          -4.210271,
          -4.210271,
          -4.210271,
          -4.210271,
          -4.210271,
          -4.210271,
          -4.210271,
          -4.210271,
          -4.210271,
          -4.210271,
          -4.210271,
          -4.210271,
          -4.210271,
          -4.210271,
          -4.24528,
          -4.24528,
          -4.231261,
          -4.231261,
          -4.231261,
          -4.210773,
          -4.210773,
          -4.210773,
          -4.210773,
          -4.210773,
          -4.210773,
          -4.210773,
          -4.210773,
          -4.210773,
          -4.22482,
          -4.24528,
          -4.210773,
          -4.210773,
          -4.210773,
          -4.210773,
          -4.210271,
          -4.210773,
          -4.210773,
          -4.210271,
          -4.210773,
          -4.210773,
          -4.210773,
          -4.210773,
          -4.210773,
          -4.231261,
          -4.210773,
          -4.210773,
          -4.210773,
          -4.210773,
          -4.210773,
          -4.210773,
          -4.210773,
          -4.231261,
          -4.210773,
          -4.210773,
          -4.220451,
          -4.220451,
          -4.212581,
          -4.212581,
          -4.220451,
          -4.212581,
          -4.22405,
          -4.210773,
          -4.210773,
          -4.210773,
          -4.210773,
          -4.212581,
          -4.210773,
          -4.210773,
          -4.210773,
          -4.210773,
          -4.210773,
          -4.236119,
          -4.231261,
          -4.24528,
          -4.231261,
          -4.212581,
          -4.236119,
          -4.212581,
          -4.192293,
          -4.210773,
          -4.210773,
          -4.231261,
          -4.231261,
          -4.210773,
          -4.231261,
          -4.231261,
          -4.231261,
          -4.24528,
          -4.231261,
          -4.236119,
          -4.231261,
          -4.231261,
          -4.24528,
          -4.231261,
          -4.231261,
          -4.231261,
          -4.231261,
          -4.24528,
          -4.231261,
          -4.231261,
          -4.231261,
          -4.231261,
          -4.231261,
          -4.231261,
          -4.24528,
          -4.231261,
          -4.231261,
          -4.231261,
          -4.231261,
          -4.231261,
          -4.231261,
          -4.231261,
          -4.231261,
          -4.231261,
          -4.231261,
          -4.231261,
          -4.231261,
          -4.231261,
          -4.236119,
          -4.231261,
          -4.231261,
          -4.231261,
          -4.231261,
          -4.236119,
          -4.231261,
          -4.231261,
          -4.231261,
          -4.231261,
          -4.231261,
          -4.231261,
          -4.231261,
          -4.231261,
          -4.231261,
          -4.24528,
          -4.231261,
          -4.236119,
          -4.231261,
          -4.231261,
          -4.231261,
          -4.24528,
          -4.231261,
          -4.231261,
          -4.210773,
          -4.210773,
          -4.24528,
          -4.20593,
          -4.20593,
          -4.210773,
          -4.210773,
          -4.210773,
          -4.210773,
          -4.210773,
          -4.210773,
          -4.210773,
          -4.210773,
          -4.210773,
          -4.210773,
          -4.210271,
          -4.210271,
          -4.231261,
          -4.210773,
          -4.210773,
          -4.24528,
          -4.210773,
          -4.24528,
          -4.210773,
          -4.210773,
          -4.210773,
          -4.210773,
          -4.210773,
          -4.210773,
          -4.24528,
          -4.24528,
          -4.210773,
          -4.24528,
          -4.231261,
          -4.210773,
          -4.210773,
          -4.24528,
          -4.210773,
          -4.24528,
          -4.210773,
          -4.210773,
          -4.210773,
          -4.210773,
          -4.210773,
          -4.20397,
          -4.210773,
          -4.210773,
          -4.210773,
          -4.210773,
          -4.210773,
          -4.210773,
          -4.210773,
          -4.210773,
          -4.231261,
          -4.212581,
          -4.212581,
          -4.210773,
          -4.212581,
          -4.24528,
          -4.231261,
          -4.210773,
          -4.24528,
          -4.210773,
          -4.24528,
          -4.212581,
          -4.212581,
          -4.212581,
          -4.24528,
          -4.24528,
          -4.24528,
          -4.231261,
          -4.231261,
          -4.231261,
          -4.231261,
          -4.212581,
          -4.24528,
          -4.231261,
          -4.24528,
          -4.24528,
          -4.24528,
          -4.24528,
          -4.24528,
          -4.24528,
          -4.236119,
          -4.24528,
          -4.231261,
          -4.210271,
          -4.231261,
          -4.210271,
          -4.210773,
          -4.210773,
          -4.24528,
          -4.210773,
          -4.210773,
          -4.24528,
          -4.231261,
          -4.24528,
          -4.24528,
          -4.24528,
          -4.231261,
          -4.231261,
          -4.24528,
          -4.231261,
          -4.231261,
          -4.210773,
          -4.231261,
          -4.24528,
          -4.24528,
          -4.24528,
          -4.210773,
          -4.24528,
          -4.24528,
          -4.24528,
          -4.210271,
          -4.24528,
          -4.210271,
          -4.210271,
          -4.24528,
          -4.210773,
          -4.210773,
          -4.210773,
          -4.231261,
          -4.210773
         ]
        }
       ],
       "layout": {
        "coloraxis": {
         "colorbar": {
          "title": {
           "text": "source_depth_m"
          }
         },
         "colorscale": [
          [
           0,
           "#440154"
          ],
          [
           0.1111111111111111,
           "#482878"
          ],
          [
           0.2222222222222222,
           "#3e4989"
          ],
          [
           0.3333333333333333,
           "#31688e"
          ],
          [
           0.4444444444444444,
           "#26828e"
          ],
          [
           0.5555555555555556,
           "#1f9e89"
          ],
          [
           0.6666666666666666,
           "#35b779"
          ],
          [
           0.7777777777777778,
           "#6ece58"
          ],
          [
           0.8888888888888888,
           "#b5de2b"
          ],
          [
           1,
           "#fde725"
          ]
         ]
        },
        "legend": {
         "itemsizing": "constant",
         "tracegroupgap": 0
        },
        "showlegend": true,
        "template": {
         "data": {
          "bar": [
           {
            "error_x": {
             "color": "#2a3f5f"
            },
            "error_y": {
             "color": "#2a3f5f"
            },
            "marker": {
             "line": {
              "color": "white",
              "width": 0.5
             },
             "pattern": {
              "fillmode": "overlay",
              "size": 10,
              "solidity": 0.2
             }
            },
            "type": "bar"
           }
          ],
          "barpolar": [
           {
            "marker": {
             "line": {
              "color": "white",
              "width": 0.5
             },
             "pattern": {
              "fillmode": "overlay",
              "size": 10,
              "solidity": 0.2
             }
            },
            "type": "barpolar"
           }
          ],
          "carpet": [
           {
            "aaxis": {
             "endlinecolor": "#2a3f5f",
             "gridcolor": "#C8D4E3",
             "linecolor": "#C8D4E3",
             "minorgridcolor": "#C8D4E3",
             "startlinecolor": "#2a3f5f"
            },
            "baxis": {
             "endlinecolor": "#2a3f5f",
             "gridcolor": "#C8D4E3",
             "linecolor": "#C8D4E3",
             "minorgridcolor": "#C8D4E3",
             "startlinecolor": "#2a3f5f"
            },
            "type": "carpet"
           }
          ],
          "choropleth": [
           {
            "colorbar": {
             "outlinewidth": 0,
             "ticks": ""
            },
            "type": "choropleth"
           }
          ],
          "contour": [
           {
            "colorbar": {
             "outlinewidth": 0,
             "ticks": ""
            },
            "colorscale": [
             [
              0,
              "#0d0887"
             ],
             [
              0.1111111111111111,
              "#46039f"
             ],
             [
              0.2222222222222222,
              "#7201a8"
             ],
             [
              0.3333333333333333,
              "#9c179e"
             ],
             [
              0.4444444444444444,
              "#bd3786"
             ],
             [
              0.5555555555555556,
              "#d8576b"
             ],
             [
              0.6666666666666666,
              "#ed7953"
             ],
             [
              0.7777777777777778,
              "#fb9f3a"
             ],
             [
              0.8888888888888888,
              "#fdca26"
             ],
             [
              1,
              "#f0f921"
             ]
            ],
            "type": "contour"
           }
          ],
          "contourcarpet": [
           {
            "colorbar": {
             "outlinewidth": 0,
             "ticks": ""
            },
            "type": "contourcarpet"
           }
          ],
          "heatmap": [
           {
            "colorbar": {
             "outlinewidth": 0,
             "ticks": ""
            },
            "colorscale": [
             [
              0,
              "#0d0887"
             ],
             [
              0.1111111111111111,
              "#46039f"
             ],
             [
              0.2222222222222222,
              "#7201a8"
             ],
             [
              0.3333333333333333,
              "#9c179e"
             ],
             [
              0.4444444444444444,
              "#bd3786"
             ],
             [
              0.5555555555555556,
              "#d8576b"
             ],
             [
              0.6666666666666666,
              "#ed7953"
             ],
             [
              0.7777777777777778,
              "#fb9f3a"
             ],
             [
              0.8888888888888888,
              "#fdca26"
             ],
             [
              1,
              "#f0f921"
             ]
            ],
            "type": "heatmap"
           }
          ],
          "heatmapgl": [
           {
            "colorbar": {
             "outlinewidth": 0,
             "ticks": ""
            },
            "colorscale": [
             [
              0,
              "#0d0887"
             ],
             [
              0.1111111111111111,
              "#46039f"
             ],
             [
              0.2222222222222222,
              "#7201a8"
             ],
             [
              0.3333333333333333,
              "#9c179e"
             ],
             [
              0.4444444444444444,
              "#bd3786"
             ],
             [
              0.5555555555555556,
              "#d8576b"
             ],
             [
              0.6666666666666666,
              "#ed7953"
             ],
             [
              0.7777777777777778,
              "#fb9f3a"
             ],
             [
              0.8888888888888888,
              "#fdca26"
             ],
             [
              1,
              "#f0f921"
             ]
            ],
            "type": "heatmapgl"
           }
          ],
          "histogram": [
           {
            "marker": {
             "pattern": {
              "fillmode": "overlay",
              "size": 10,
              "solidity": 0.2
             }
            },
            "type": "histogram"
           }
          ],
          "histogram2d": [
           {
            "colorbar": {
             "outlinewidth": 0,
             "ticks": ""
            },
            "colorscale": [
             [
              0,
              "#0d0887"
             ],
             [
              0.1111111111111111,
              "#46039f"
             ],
             [
              0.2222222222222222,
              "#7201a8"
             ],
             [
              0.3333333333333333,
              "#9c179e"
             ],
             [
              0.4444444444444444,
              "#bd3786"
             ],
             [
              0.5555555555555556,
              "#d8576b"
             ],
             [
              0.6666666666666666,
              "#ed7953"
             ],
             [
              0.7777777777777778,
              "#fb9f3a"
             ],
             [
              0.8888888888888888,
              "#fdca26"
             ],
             [
              1,
              "#f0f921"
             ]
            ],
            "type": "histogram2d"
           }
          ],
          "histogram2dcontour": [
           {
            "colorbar": {
             "outlinewidth": 0,
             "ticks": ""
            },
            "colorscale": [
             [
              0,
              "#0d0887"
             ],
             [
              0.1111111111111111,
              "#46039f"
             ],
             [
              0.2222222222222222,
              "#7201a8"
             ],
             [
              0.3333333333333333,
              "#9c179e"
             ],
             [
              0.4444444444444444,
              "#bd3786"
             ],
             [
              0.5555555555555556,
              "#d8576b"
             ],
             [
              0.6666666666666666,
              "#ed7953"
             ],
             [
              0.7777777777777778,
              "#fb9f3a"
             ],
             [
              0.8888888888888888,
              "#fdca26"
             ],
             [
              1,
              "#f0f921"
             ]
            ],
            "type": "histogram2dcontour"
           }
          ],
          "mesh3d": [
           {
            "colorbar": {
             "outlinewidth": 0,
             "ticks": ""
            },
            "type": "mesh3d"
           }
          ],
          "parcoords": [
           {
            "line": {
             "colorbar": {
              "outlinewidth": 0,
              "ticks": ""
             }
            },
            "type": "parcoords"
           }
          ],
          "pie": [
           {
            "automargin": true,
            "type": "pie"
           }
          ],
          "scatter": [
           {
            "fillpattern": {
             "fillmode": "overlay",
             "size": 10,
             "solidity": 0.2
            },
            "type": "scatter"
           }
          ],
          "scatter3d": [
           {
            "line": {
             "colorbar": {
              "outlinewidth": 0,
              "ticks": ""
             }
            },
            "marker": {
             "colorbar": {
              "outlinewidth": 0,
              "ticks": ""
             }
            },
            "type": "scatter3d"
           }
          ],
          "scattercarpet": [
           {
            "marker": {
             "colorbar": {
              "outlinewidth": 0,
              "ticks": ""
             }
            },
            "type": "scattercarpet"
           }
          ],
          "scattergeo": [
           {
            "marker": {
             "colorbar": {
              "outlinewidth": 0,
              "ticks": ""
             }
            },
            "type": "scattergeo"
           }
          ],
          "scattergl": [
           {
            "marker": {
             "colorbar": {
              "outlinewidth": 0,
              "ticks": ""
             }
            },
            "type": "scattergl"
           }
          ],
          "scattermapbox": [
           {
            "marker": {
             "colorbar": {
              "outlinewidth": 0,
              "ticks": ""
             }
            },
            "type": "scattermapbox"
           }
          ],
          "scatterpolar": [
           {
            "marker": {
             "colorbar": {
              "outlinewidth": 0,
              "ticks": ""
             }
            },
            "type": "scatterpolar"
           }
          ],
          "scatterpolargl": [
           {
            "marker": {
             "colorbar": {
              "outlinewidth": 0,
              "ticks": ""
             }
            },
            "type": "scatterpolargl"
           }
          ],
          "scatterternary": [
           {
            "marker": {
             "colorbar": {
              "outlinewidth": 0,
              "ticks": ""
             }
            },
            "type": "scatterternary"
           }
          ],
          "surface": [
           {
            "colorbar": {
             "outlinewidth": 0,
             "ticks": ""
            },
            "colorscale": [
             [
              0,
              "#0d0887"
             ],
             [
              0.1111111111111111,
              "#46039f"
             ],
             [
              0.2222222222222222,
              "#7201a8"
             ],
             [
              0.3333333333333333,
              "#9c179e"
             ],
             [
              0.4444444444444444,
              "#bd3786"
             ],
             [
              0.5555555555555556,
              "#d8576b"
             ],
             [
              0.6666666666666666,
              "#ed7953"
             ],
             [
              0.7777777777777778,
              "#fb9f3a"
             ],
             [
              0.8888888888888888,
              "#fdca26"
             ],
             [
              1,
              "#f0f921"
             ]
            ],
            "type": "surface"
           }
          ],
          "table": [
           {
            "cells": {
             "fill": {
              "color": "#EBF0F8"
             },
             "line": {
              "color": "white"
             }
            },
            "header": {
             "fill": {
              "color": "#C8D4E3"
             },
             "line": {
              "color": "white"
             }
            },
            "type": "table"
           }
          ]
         },
         "layout": {
          "annotationdefaults": {
           "arrowcolor": "#2a3f5f",
           "arrowhead": 0,
           "arrowwidth": 1
          },
          "autotypenumbers": "strict",
          "coloraxis": {
           "colorbar": {
            "outlinewidth": 0,
            "ticks": ""
           }
          },
          "colorscale": {
           "diverging": [
            [
             0,
             "#8e0152"
            ],
            [
             0.1,
             "#c51b7d"
            ],
            [
             0.2,
             "#de77ae"
            ],
            [
             0.3,
             "#f1b6da"
            ],
            [
             0.4,
             "#fde0ef"
            ],
            [
             0.5,
             "#f7f7f7"
            ],
            [
             0.6,
             "#e6f5d0"
            ],
            [
             0.7,
             "#b8e186"
            ],
            [
             0.8,
             "#7fbc41"
            ],
            [
             0.9,
             "#4d9221"
            ],
            [
             1,
             "#276419"
            ]
           ],
           "sequential": [
            [
             0,
             "#0d0887"
            ],
            [
             0.1111111111111111,
             "#46039f"
            ],
            [
             0.2222222222222222,
             "#7201a8"
            ],
            [
             0.3333333333333333,
             "#9c179e"
            ],
            [
             0.4444444444444444,
             "#bd3786"
            ],
            [
             0.5555555555555556,
             "#d8576b"
            ],
            [
             0.6666666666666666,
             "#ed7953"
            ],
            [
             0.7777777777777778,
             "#fb9f3a"
            ],
            [
             0.8888888888888888,
             "#fdca26"
            ],
            [
             1,
             "#f0f921"
            ]
           ],
           "sequentialminus": [
            [
             0,
             "#0d0887"
            ],
            [
             0.1111111111111111,
             "#46039f"
            ],
            [
             0.2222222222222222,
             "#7201a8"
            ],
            [
             0.3333333333333333,
             "#9c179e"
            ],
            [
             0.4444444444444444,
             "#bd3786"
            ],
            [
             0.5555555555555556,
             "#d8576b"
            ],
            [
             0.6666666666666666,
             "#ed7953"
            ],
            [
             0.7777777777777778,
             "#fb9f3a"
            ],
            [
             0.8888888888888888,
             "#fdca26"
            ],
            [
             1,
             "#f0f921"
            ]
           ]
          },
          "colorway": [
           "#636efa",
           "#EF553B",
           "#00cc96",
           "#ab63fa",
           "#FFA15A",
           "#19d3f3",
           "#FF6692",
           "#B6E880",
           "#FF97FF",
           "#FECB52"
          ],
          "font": {
           "color": "#2a3f5f"
          },
          "geo": {
           "bgcolor": "white",
           "lakecolor": "white",
           "landcolor": "white",
           "showlakes": true,
           "showland": true,
           "subunitcolor": "#C8D4E3"
          },
          "hoverlabel": {
           "align": "left"
          },
          "hovermode": "closest",
          "mapbox": {
           "style": "light"
          },
          "paper_bgcolor": "white",
          "plot_bgcolor": "white",
          "polar": {
           "angularaxis": {
            "gridcolor": "#EBF0F8",
            "linecolor": "#EBF0F8",
            "ticks": ""
           },
           "bgcolor": "white",
           "radialaxis": {
            "gridcolor": "#EBF0F8",
            "linecolor": "#EBF0F8",
            "ticks": ""
           }
          },
          "scene": {
           "xaxis": {
            "backgroundcolor": "white",
            "gridcolor": "#DFE8F3",
            "gridwidth": 2,
            "linecolor": "#EBF0F8",
            "showbackground": true,
            "ticks": "",
            "zerolinecolor": "#EBF0F8"
           },
           "yaxis": {
            "backgroundcolor": "white",
            "gridcolor": "#DFE8F3",
            "gridwidth": 2,
            "linecolor": "#EBF0F8",
            "showbackground": true,
            "ticks": "",
            "zerolinecolor": "#EBF0F8"
           },
           "zaxis": {
            "backgroundcolor": "white",
            "gridcolor": "#DFE8F3",
            "gridwidth": 2,
            "linecolor": "#EBF0F8",
            "showbackground": true,
            "ticks": "",
            "zerolinecolor": "#EBF0F8"
           }
          },
          "shapedefaults": {
           "line": {
            "color": "#2a3f5f"
           }
          },
          "ternary": {
           "aaxis": {
            "gridcolor": "#DFE8F3",
            "linecolor": "#A2B1C6",
            "ticks": ""
           },
           "baxis": {
            "gridcolor": "#DFE8F3",
            "linecolor": "#A2B1C6",
            "ticks": ""
           },
           "bgcolor": "white",
           "caxis": {
            "gridcolor": "#DFE8F3",
            "linecolor": "#A2B1C6",
            "ticks": ""
           }
          },
          "title": {
           "x": 0.05
          },
          "xaxis": {
           "automargin": true,
           "gridcolor": "#EBF0F8",
           "linecolor": "#EBF0F8",
           "ticks": "",
           "title": {
            "standoff": 15
           },
           "zerolinecolor": "#EBF0F8",
           "zerolinewidth": 2
          },
          "yaxis": {
           "automargin": true,
           "gridcolor": "#EBF0F8",
           "linecolor": "#EBF0F8",
           "ticks": "",
           "title": {
            "standoff": 15
           },
           "zerolinecolor": "#EBF0F8",
           "zerolinewidth": 2
          }
         }
        },
        "title": {
         "text": "Earthquake Locations (2D)"
        },
        "xaxis": {
         "anchor": "y",
         "domain": [
          0,
          1
         ],
         "scaleanchor": "y",
         "scaleratio": 1,
         "title": {
          "text": "Longitude"
         }
        },
        "yaxis": {
         "anchor": "x",
         "domain": [
          0,
          1
         ],
         "scaleratio": 1,
         "title": {
          "text": "Latitude"
         }
        }
       }
      }
     },
     "metadata": {},
     "output_type": "display_data"
    }
   ],
   "source": [
    "# 2D plot\n",
    "lqt_ready_2.plot_hypocenter_2d(color_by='source_depth_m', size_by='magnitude')"
   ]
  },
  {
   "cell_type": "code",
   "execution_count": null,
   "metadata": {},
   "outputs": [],
   "source": []
  }
 ],
 "metadata": {
  "kernelspec": {
   "display_name": "base",
   "language": "python",
   "name": "python3"
  },
  "language_info": {
   "codemirror_mode": {
    "name": "ipython",
    "version": 3
   },
   "file_extension": ".py",
   "mimetype": "text/x-python",
   "name": "python",
   "nbconvert_exporter": "python",
   "pygments_lexer": "ipython3",
   "version": "3.12.3"
  }
 },
 "nbformat": 4,
 "nbformat_minor": 2
}
