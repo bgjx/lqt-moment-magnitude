{
 "cells": [
  {
   "cell_type": "markdown",
   "metadata": {},
   "source": [
    "## LQTMOMENT Tutorial 4: Data Analysis with LqtAnalysis"
   ]
  },
  {
   "cell_type": "markdown",
   "metadata": {},
   "source": [
    "Before using `lqt_analysis` module, you need to prepare your `lqtmoment-formatted catalog`, as demonstrated in [lqt_tutor_1_catalog_builder](https://github.com/bgjx/lqt-moment-magnitude/blob/main/lqt-tutorials/lqt_tutor_1_catalog_builder.ipynb). The new data field, `magnitude`, will automatically be included in the catalog after running the program for magnitude calculation. You can then work with this field in `LqtAnalysis` class. However, `LqtAnalysis` can still parse the `lqtmoment-formatted catalog` even if you haven't calculated the moment magnitude first."
   ]
  },
  {
   "cell_type": "markdown",
   "metadata": {},
   "source": [
    "### 1. Import all the necessary modules from the **lqt_analysis** module."
   ]
  },
  {
   "cell_type": "code",
   "execution_count": 1,
   "metadata": {},
   "outputs": [],
   "source": [
    "from lqtmoment.lqt_analysis import load_catalog, LqtAnalysis, Statistic\n",
    "import pandas as pd"
   ]
  },
  {
   "cell_type": "markdown",
   "metadata": {},
   "source": [
    "> **ℹ️ INFO ℹ️**\n",
    "> \n",
    "> From `lqt_analysis`, we need to import `load_catalog` module to load the `lqtmoment-formatted catalog` in `.csv` or `.xlsx` (`.csv` format is preferred). This module will return an `LqtAnalysis` class instance. \n",
    ">\n",
    "> You can absolutely generate `LqtAnalysis` class instance by inputing `lqtmoment-formatted` pandas DataFrame if you prefer to streamline your data in a DataFrame object. \n",
    ">\n",
    "> The last module we need to import is the `Statistic` class, which is a helper `enum class` used to specify the statistical analysis you want `LqtAnalysis` to perform.\n",
    "> \n",
    ">"
   ]
  },
  {
   "cell_type": "markdown",
   "metadata": {},
   "source": [
    "### 2. Create LqtAnalysis Class Object\n",
    "\n",
    "#### A. From A lqtmoment Catalog File (.csv or .xlsx)\n",
    "\n",
    "To create `LqtAnalysis` class instance from a file, first you need to prepare the directory of that file and use `load_catalog` to load the file and it will return the `LqtAnalysis` class object."
   ]
  },
  {
   "cell_type": "code",
   "execution_count": 2,
   "metadata": {},
   "outputs": [
    {
     "data": {
      "text/html": [
       "<div>\n",
       "<style scoped>\n",
       "    .dataframe tbody tr th:only-of-type {\n",
       "        vertical-align: middle;\n",
       "    }\n",
       "\n",
       "    .dataframe tbody tr th {\n",
       "        vertical-align: top;\n",
       "    }\n",
       "\n",
       "    .dataframe thead th {\n",
       "        text-align: right;\n",
       "    }\n",
       "</style>\n",
       "<table border=\"1\" class=\"dataframe\">\n",
       "  <thead>\n",
       "    <tr style=\"text-align: right;\">\n",
       "      <th></th>\n",
       "      <th>Unnamed: 0</th>\n",
       "      <th>source_id</th>\n",
       "      <th>source_lat</th>\n",
       "      <th>source_lon</th>\n",
       "      <th>source_depth_m</th>\n",
       "      <th>magnitude</th>\n",
       "      <th>network_code</th>\n",
       "      <th>station_code</th>\n",
       "      <th>station_lat</th>\n",
       "      <th>station_lon</th>\n",
       "      <th>...</th>\n",
       "      <th>s_p_lag_time_sec</th>\n",
       "      <th>coda_time</th>\n",
       "      <th>source_err_rms_s</th>\n",
       "      <th>n_phases</th>\n",
       "      <th>gap_degree</th>\n",
       "      <th>x_horizontal_err_m</th>\n",
       "      <th>y_horizontal_err_m</th>\n",
       "      <th>z_depth_err_m</th>\n",
       "      <th>earthquake_type</th>\n",
       "      <th>remarks</th>\n",
       "    </tr>\n",
       "  </thead>\n",
       "  <tbody>\n",
       "    <tr>\n",
       "      <th>0</th>\n",
       "      <td>0</td>\n",
       "      <td>2000</td>\n",
       "      <td>38.244364</td>\n",
       "      <td>126.369385</td>\n",
       "      <td>-873.30</td>\n",
       "      <td>0.431429</td>\n",
       "      <td>KJ</td>\n",
       "      <td>KJ09</td>\n",
       "      <td>38.224820</td>\n",
       "      <td>126.364433</td>\n",
       "      <td>...</td>\n",
       "      <td>0.537087</td>\n",
       "      <td>NaN</td>\n",
       "      <td>0.010497</td>\n",
       "      <td>6.0</td>\n",
       "      <td>321.498</td>\n",
       "      <td>1001.074098</td>\n",
       "      <td>553.533887</td>\n",
       "      <td>1125.534873</td>\n",
       "      <td>very_local_earthquake</td>\n",
       "      <td>NaN</td>\n",
       "    </tr>\n",
       "    <tr>\n",
       "      <th>1</th>\n",
       "      <td>1</td>\n",
       "      <td>2000</td>\n",
       "      <td>38.244364</td>\n",
       "      <td>126.369385</td>\n",
       "      <td>-873.30</td>\n",
       "      <td>0.431429</td>\n",
       "      <td>KJ</td>\n",
       "      <td>KJ06</td>\n",
       "      <td>38.212581</td>\n",
       "      <td>126.379951</td>\n",
       "      <td>...</td>\n",
       "      <td>0.819840</td>\n",
       "      <td>NaN</td>\n",
       "      <td>0.010497</td>\n",
       "      <td>6.0</td>\n",
       "      <td>321.498</td>\n",
       "      <td>1001.074098</td>\n",
       "      <td>553.533887</td>\n",
       "      <td>1125.534873</td>\n",
       "      <td>very_local_earthquake</td>\n",
       "      <td>NaN</td>\n",
       "    </tr>\n",
       "    <tr>\n",
       "      <th>2</th>\n",
       "      <td>2</td>\n",
       "      <td>2000</td>\n",
       "      <td>38.244364</td>\n",
       "      <td>126.369385</td>\n",
       "      <td>-873.30</td>\n",
       "      <td>0.431429</td>\n",
       "      <td>KJ</td>\n",
       "      <td>KJ05</td>\n",
       "      <td>38.203970</td>\n",
       "      <td>126.378906</td>\n",
       "      <td>...</td>\n",
       "      <td>0.994110</td>\n",
       "      <td>NaN</td>\n",
       "      <td>0.010497</td>\n",
       "      <td>6.0</td>\n",
       "      <td>321.498</td>\n",
       "      <td>1001.074098</td>\n",
       "      <td>553.533887</td>\n",
       "      <td>1125.534873</td>\n",
       "      <td>very_local_earthquake</td>\n",
       "      <td>NaN</td>\n",
       "    </tr>\n",
       "    <tr>\n",
       "      <th>3</th>\n",
       "      <td>3</td>\n",
       "      <td>2001</td>\n",
       "      <td>38.201387</td>\n",
       "      <td>126.357560</td>\n",
       "      <td>1258.86</td>\n",
       "      <td>1.060108</td>\n",
       "      <td>KJ</td>\n",
       "      <td>KJ05</td>\n",
       "      <td>38.203970</td>\n",
       "      <td>126.378906</td>\n",
       "      <td>...</td>\n",
       "      <td>0.751148</td>\n",
       "      <td>NaN</td>\n",
       "      <td>0.055488</td>\n",
       "      <td>12.0</td>\n",
       "      <td>282.688</td>\n",
       "      <td>454.228142</td>\n",
       "      <td>469.387846</td>\n",
       "      <td>548.388115</td>\n",
       "      <td>very_local_earthquake</td>\n",
       "      <td>NaN</td>\n",
       "    </tr>\n",
       "    <tr>\n",
       "      <th>4</th>\n",
       "      <td>4</td>\n",
       "      <td>2001</td>\n",
       "      <td>38.201387</td>\n",
       "      <td>126.357560</td>\n",
       "      <td>1258.86</td>\n",
       "      <td>1.060108</td>\n",
       "      <td>KJ</td>\n",
       "      <td>KJ06</td>\n",
       "      <td>38.212581</td>\n",
       "      <td>126.379951</td>\n",
       "      <td>...</td>\n",
       "      <td>0.762638</td>\n",
       "      <td>NaN</td>\n",
       "      <td>0.055488</td>\n",
       "      <td>12.0</td>\n",
       "      <td>282.688</td>\n",
       "      <td>454.228142</td>\n",
       "      <td>469.387846</td>\n",
       "      <td>548.388115</td>\n",
       "      <td>very_local_earthquake</td>\n",
       "      <td>NaN</td>\n",
       "    </tr>\n",
       "  </tbody>\n",
       "</table>\n",
       "<p>5 rows × 28 columns</p>\n",
       "</div>"
      ],
      "text/plain": [
       "   Unnamed: 0  source_id  source_lat  source_lon  source_depth_m  magnitude  \\\n",
       "0           0       2000   38.244364  126.369385         -873.30   0.431429   \n",
       "1           1       2000   38.244364  126.369385         -873.30   0.431429   \n",
       "2           2       2000   38.244364  126.369385         -873.30   0.431429   \n",
       "3           3       2001   38.201387  126.357560         1258.86   1.060108   \n",
       "4           4       2001   38.201387  126.357560         1258.86   1.060108   \n",
       "\n",
       "  network_code station_code  station_lat  station_lon  ...  s_p_lag_time_sec  \\\n",
       "0           KJ         KJ09    38.224820   126.364433  ...          0.537087   \n",
       "1           KJ         KJ06    38.212581   126.379951  ...          0.819840   \n",
       "2           KJ         KJ05    38.203970   126.378906  ...          0.994110   \n",
       "3           KJ         KJ05    38.203970   126.378906  ...          0.751148   \n",
       "4           KJ         KJ06    38.212581   126.379951  ...          0.762638   \n",
       "\n",
       "  coda_time source_err_rms_s  n_phases gap_degree x_horizontal_err_m  \\\n",
       "0       NaN         0.010497       6.0    321.498        1001.074098   \n",
       "1       NaN         0.010497       6.0    321.498        1001.074098   \n",
       "2       NaN         0.010497       6.0    321.498        1001.074098   \n",
       "3       NaN         0.055488      12.0    282.688         454.228142   \n",
       "4       NaN         0.055488      12.0    282.688         454.228142   \n",
       "\n",
       "  y_horizontal_err_m  z_depth_err_m        earthquake_type  remarks  \n",
       "0         553.533887    1125.534873  very_local_earthquake      NaN  \n",
       "1         553.533887    1125.534873  very_local_earthquake      NaN  \n",
       "2         553.533887    1125.534873  very_local_earthquake      NaN  \n",
       "3         469.387846     548.388115  very_local_earthquake      NaN  \n",
       "4         469.387846     548.388115  very_local_earthquake      NaN  \n",
       "\n",
       "[5 rows x 28 columns]"
      ]
     },
     "execution_count": 2,
     "metadata": {},
     "output_type": "execute_result"
    }
   ],
   "source": [
    "# Get the lqt catalog directory\n",
    "catalog_dir = r\"C:\\Users\\arham zakki edelo\\lqt-tutorials\\lqt-tutorials\\run lqt moment\\result_test.csv\"\n",
    "\n",
    "# Load the catalog\n",
    "lqt_ready = load_catalog(catalog_dir)\n",
    "\n",
    "# Check first 5 rows using head method\n",
    "lqt_ready.head()"
   ]
  },
  {
   "cell_type": "markdown",
   "metadata": {},
   "source": [
    "#### B. From A Catalog DataFrame\n",
    "\n",
    "Let's say that after using `magnitude_estimator` API, as we have demonstrated in [lqt_tutor_3_moment_mag_calculation](https://github.com/bgjx/lqt-moment-magnitude/blob/main/lqt-tutorials/lqt_tutor_3_moment_mag_calculation.ipynb), you want to use the `merged` catalog as the result of your moment magnitude calculation for immediate data analysis. In that case,  you can directly create `LqtAnalyais` class instance like this:"
   ]
  },
  {
   "cell_type": "code",
   "execution_count": 3,
   "metadata": {},
   "outputs": [
    {
     "data": {
      "text/html": [
       "<div>\n",
       "<style scoped>\n",
       "    .dataframe tbody tr th:only-of-type {\n",
       "        vertical-align: middle;\n",
       "    }\n",
       "\n",
       "    .dataframe tbody tr th {\n",
       "        vertical-align: top;\n",
       "    }\n",
       "\n",
       "    .dataframe thead th {\n",
       "        text-align: right;\n",
       "    }\n",
       "</style>\n",
       "<table border=\"1\" class=\"dataframe\">\n",
       "  <thead>\n",
       "    <tr style=\"text-align: right;\">\n",
       "      <th></th>\n",
       "      <th>Unnamed: 0</th>\n",
       "      <th>source_id</th>\n",
       "      <th>source_lat</th>\n",
       "      <th>source_lon</th>\n",
       "      <th>source_depth_m</th>\n",
       "      <th>magnitude</th>\n",
       "      <th>network_code</th>\n",
       "      <th>station_code</th>\n",
       "      <th>station_lat</th>\n",
       "      <th>station_lon</th>\n",
       "      <th>...</th>\n",
       "      <th>s_p_lag_time_sec</th>\n",
       "      <th>coda_time</th>\n",
       "      <th>source_err_rms_s</th>\n",
       "      <th>n_phases</th>\n",
       "      <th>gap_degree</th>\n",
       "      <th>x_horizontal_err_m</th>\n",
       "      <th>y_horizontal_err_m</th>\n",
       "      <th>z_depth_err_m</th>\n",
       "      <th>earthquake_type</th>\n",
       "      <th>remarks</th>\n",
       "    </tr>\n",
       "  </thead>\n",
       "  <tbody>\n",
       "    <tr>\n",
       "      <th>0</th>\n",
       "      <td>0</td>\n",
       "      <td>2000</td>\n",
       "      <td>38.244364</td>\n",
       "      <td>126.369385</td>\n",
       "      <td>-873.30</td>\n",
       "      <td>0.431429</td>\n",
       "      <td>KJ</td>\n",
       "      <td>KJ09</td>\n",
       "      <td>38.224820</td>\n",
       "      <td>126.364433</td>\n",
       "      <td>...</td>\n",
       "      <td>0.537087</td>\n",
       "      <td>NaN</td>\n",
       "      <td>0.010497</td>\n",
       "      <td>6.0</td>\n",
       "      <td>321.498</td>\n",
       "      <td>1001.074098</td>\n",
       "      <td>553.533887</td>\n",
       "      <td>1125.534873</td>\n",
       "      <td>very_local_earthquake</td>\n",
       "      <td>NaN</td>\n",
       "    </tr>\n",
       "    <tr>\n",
       "      <th>1</th>\n",
       "      <td>1</td>\n",
       "      <td>2000</td>\n",
       "      <td>38.244364</td>\n",
       "      <td>126.369385</td>\n",
       "      <td>-873.30</td>\n",
       "      <td>0.431429</td>\n",
       "      <td>KJ</td>\n",
       "      <td>KJ06</td>\n",
       "      <td>38.212581</td>\n",
       "      <td>126.379951</td>\n",
       "      <td>...</td>\n",
       "      <td>0.819840</td>\n",
       "      <td>NaN</td>\n",
       "      <td>0.010497</td>\n",
       "      <td>6.0</td>\n",
       "      <td>321.498</td>\n",
       "      <td>1001.074098</td>\n",
       "      <td>553.533887</td>\n",
       "      <td>1125.534873</td>\n",
       "      <td>very_local_earthquake</td>\n",
       "      <td>NaN</td>\n",
       "    </tr>\n",
       "    <tr>\n",
       "      <th>2</th>\n",
       "      <td>2</td>\n",
       "      <td>2000</td>\n",
       "      <td>38.244364</td>\n",
       "      <td>126.369385</td>\n",
       "      <td>-873.30</td>\n",
       "      <td>0.431429</td>\n",
       "      <td>KJ</td>\n",
       "      <td>KJ05</td>\n",
       "      <td>38.203970</td>\n",
       "      <td>126.378906</td>\n",
       "      <td>...</td>\n",
       "      <td>0.994110</td>\n",
       "      <td>NaN</td>\n",
       "      <td>0.010497</td>\n",
       "      <td>6.0</td>\n",
       "      <td>321.498</td>\n",
       "      <td>1001.074098</td>\n",
       "      <td>553.533887</td>\n",
       "      <td>1125.534873</td>\n",
       "      <td>very_local_earthquake</td>\n",
       "      <td>NaN</td>\n",
       "    </tr>\n",
       "    <tr>\n",
       "      <th>3</th>\n",
       "      <td>3</td>\n",
       "      <td>2001</td>\n",
       "      <td>38.201387</td>\n",
       "      <td>126.357560</td>\n",
       "      <td>1258.86</td>\n",
       "      <td>1.060108</td>\n",
       "      <td>KJ</td>\n",
       "      <td>KJ05</td>\n",
       "      <td>38.203970</td>\n",
       "      <td>126.378906</td>\n",
       "      <td>...</td>\n",
       "      <td>0.751148</td>\n",
       "      <td>NaN</td>\n",
       "      <td>0.055488</td>\n",
       "      <td>12.0</td>\n",
       "      <td>282.688</td>\n",
       "      <td>454.228142</td>\n",
       "      <td>469.387846</td>\n",
       "      <td>548.388115</td>\n",
       "      <td>very_local_earthquake</td>\n",
       "      <td>NaN</td>\n",
       "    </tr>\n",
       "    <tr>\n",
       "      <th>4</th>\n",
       "      <td>4</td>\n",
       "      <td>2001</td>\n",
       "      <td>38.201387</td>\n",
       "      <td>126.357560</td>\n",
       "      <td>1258.86</td>\n",
       "      <td>1.060108</td>\n",
       "      <td>KJ</td>\n",
       "      <td>KJ06</td>\n",
       "      <td>38.212581</td>\n",
       "      <td>126.379951</td>\n",
       "      <td>...</td>\n",
       "      <td>0.762638</td>\n",
       "      <td>NaN</td>\n",
       "      <td>0.055488</td>\n",
       "      <td>12.0</td>\n",
       "      <td>282.688</td>\n",
       "      <td>454.228142</td>\n",
       "      <td>469.387846</td>\n",
       "      <td>548.388115</td>\n",
       "      <td>very_local_earthquake</td>\n",
       "      <td>NaN</td>\n",
       "    </tr>\n",
       "  </tbody>\n",
       "</table>\n",
       "<p>5 rows × 28 columns</p>\n",
       "</div>"
      ],
      "text/plain": [
       "   Unnamed: 0  source_id  source_lat  source_lon  source_depth_m  magnitude  \\\n",
       "0           0       2000   38.244364  126.369385         -873.30   0.431429   \n",
       "1           1       2000   38.244364  126.369385         -873.30   0.431429   \n",
       "2           2       2000   38.244364  126.369385         -873.30   0.431429   \n",
       "3           3       2001   38.201387  126.357560         1258.86   1.060108   \n",
       "4           4       2001   38.201387  126.357560         1258.86   1.060108   \n",
       "\n",
       "  network_code station_code  station_lat  station_lon  ...  s_p_lag_time_sec  \\\n",
       "0           KJ         KJ09    38.224820   126.364433  ...          0.537087   \n",
       "1           KJ         KJ06    38.212581   126.379951  ...          0.819840   \n",
       "2           KJ         KJ05    38.203970   126.378906  ...          0.994110   \n",
       "3           KJ         KJ05    38.203970   126.378906  ...          0.751148   \n",
       "4           KJ         KJ06    38.212581   126.379951  ...          0.762638   \n",
       "\n",
       "  coda_time source_err_rms_s  n_phases gap_degree x_horizontal_err_m  \\\n",
       "0       NaN         0.010497       6.0    321.498        1001.074098   \n",
       "1       NaN         0.010497       6.0    321.498        1001.074098   \n",
       "2       NaN         0.010497       6.0    321.498        1001.074098   \n",
       "3       NaN         0.055488      12.0    282.688         454.228142   \n",
       "4       NaN         0.055488      12.0    282.688         454.228142   \n",
       "\n",
       "  y_horizontal_err_m  z_depth_err_m        earthquake_type  remarks  \n",
       "0         553.533887    1125.534873  very_local_earthquake      NaN  \n",
       "1         553.533887    1125.534873  very_local_earthquake      NaN  \n",
       "2         553.533887    1125.534873  very_local_earthquake      NaN  \n",
       "3         469.387846     548.388115  very_local_earthquake      NaN  \n",
       "4         469.387846     548.388115  very_local_earthquake      NaN  \n",
       "\n",
       "[5 rows x 28 columns]"
      ]
     },
     "execution_count": 3,
     "metadata": {},
     "output_type": "execute_result"
    }
   ],
   "source": [
    "# Let's pretend this catalog_df is the merged catalog resulting from magnitude_estimator module\n",
    "catalog_df = pd.read_csv(catalog_dir)\n",
    "\n",
    "# Then we can create LqtAnalysis class instance object with.\n",
    "lqt_ready_2 = LqtAnalysis(catalog_df)\n",
    "\n",
    "# Check first 5 rows using head method\n",
    "lqt_ready_2.head(5)"
   ]
  },
  {
   "cell_type": "markdown",
   "metadata": {},
   "source": [
    "### 3. Perform Some Statistics\n",
    "\n",
    "Using the `LqtAnalysis` class instance object, you can perform various statistical analysis to help evaluate your data. You can calculate statistics for any column in your catalog, and we provide the following list of available statistical methods:\n",
    "\n",
    "- **MEAN**\n",
    "- **MEDIAN**\n",
    "- **STD**\n",
    "- **MIN**\n",
    "- **MAX**\n",
    "- **DESCRIBE**"
   ]
  },
  {
   "cell_type": "code",
   "execution_count": 4,
   "metadata": {},
   "outputs": [
    {
     "name": "stdout",
     "output_type": "stream",
     "text": [
      "The mean of magnitude is 0.6425889431226027\n",
      "The maximum value of magnitude is 2.171243526133633\n",
      "Here the statistical description of the data: \n",
      "count    766.000000\n",
      "mean       0.642589\n",
      "std        0.378217\n",
      "min       -0.183738\n",
      "25%        0.386897\n",
      "50%        0.605232\n",
      "75%        0.867390\n",
      "max        2.171244\n",
      "Name: magnitude, dtype: float64\n"
     ]
    }
   ],
   "source": [
    "# Let's do some basic statistic here\n",
    "mean_magnitude = lqt_ready_2.compute_statistic('magnitude', Statistic.MEAN)\n",
    "print(f\"The mean of magnitude is {mean_magnitude}\")\n",
    "\n",
    "max_magnitude = lqt_ready_2.compute_statistic('magnitude', Statistic.MAX)\n",
    "print(f\"The maximum value of magnitude is {max_magnitude}\")\n",
    "\n",
    "# Or you can also use DESCRIBE\n",
    "describe = lqt_ready_2.compute_statistic('magnitude', Statistic.DESCRIBE)\n",
    "print(f\"Here the statistical description of the data: \\n{describe}\")"
   ]
  },
  {
   "cell_type": "markdown",
   "metadata": {},
   "source": [
    "### 4. Plotting Histogram\n",
    "\n",
    "Using the `LqtAnalysis` class instance object, you can also plot the histogram for any given numerical columns:"
   ]
  },
  {
   "cell_type": "code",
   "execution_count": null,
   "metadata": {},
   "outputs": [
    {
     "data": {
      "application/vnd.plotly.v1+json": {
       "config": {
        "plotlyServerURL": "https://plot.ly"
       },
       "data": [
        {
         "hovertemplate": "Bin_center: %{x:.3f}<br>count: %{y}<extra></extra>",
         "marker": {
          "color": "skyblue"
         },
         "name": "magnitude",
         "type": "bar",
         "width": 0.25,
         "x": [
          -0.875,
          -0.625,
          -0.375,
          -0.125,
          0.125,
          0.375,
          0.625,
          0.875,
          1.125,
          1.375,
          1.625,
          1.875,
          2.125,
          2.375,
          2.625,
          2.875
         ],
         "y": [
          0,
          0,
          0,
          27,
          66,
          187,
          225,
          148,
          59,
          36,
          12,
          2,
          4,
          0,
          0,
          0
         ]
        }
       ],
       "layout": {
        "bargap": 0.25,
        "height": 720,
        "legend": {
         "bgcolor": "rgba(255,255,255,0.5)",
         "x": 0.99,
         "xanchor": "right",
         "y": 0.99,
         "yanchor": "top"
        },
        "showlegend": true,
        "template": {
         "data": {
          "bar": [
           {
            "error_x": {
             "color": "#2a3f5f"
            },
            "error_y": {
             "color": "#2a3f5f"
            },
            "marker": {
             "line": {
              "color": "white",
              "width": 0.5
             },
             "pattern": {
              "fillmode": "overlay",
              "size": 10,
              "solidity": 0.2
             }
            },
            "type": "bar"
           }
          ],
          "barpolar": [
           {
            "marker": {
             "line": {
              "color": "white",
              "width": 0.5
             },
             "pattern": {
              "fillmode": "overlay",
              "size": 10,
              "solidity": 0.2
             }
            },
            "type": "barpolar"
           }
          ],
          "carpet": [
           {
            "aaxis": {
             "endlinecolor": "#2a3f5f",
             "gridcolor": "#C8D4E3",
             "linecolor": "#C8D4E3",
             "minorgridcolor": "#C8D4E3",
             "startlinecolor": "#2a3f5f"
            },
            "baxis": {
             "endlinecolor": "#2a3f5f",
             "gridcolor": "#C8D4E3",
             "linecolor": "#C8D4E3",
             "minorgridcolor": "#C8D4E3",
             "startlinecolor": "#2a3f5f"
            },
            "type": "carpet"
           }
          ],
          "choropleth": [
           {
            "colorbar": {
             "outlinewidth": 0,
             "ticks": ""
            },
            "type": "choropleth"
           }
          ],
          "contour": [
           {
            "colorbar": {
             "outlinewidth": 0,
             "ticks": ""
            },
            "colorscale": [
             [
              0,
              "#0d0887"
             ],
             [
              0.1111111111111111,
              "#46039f"
             ],
             [
              0.2222222222222222,
              "#7201a8"
             ],
             [
              0.3333333333333333,
              "#9c179e"
             ],
             [
              0.4444444444444444,
              "#bd3786"
             ],
             [
              0.5555555555555556,
              "#d8576b"
             ],
             [
              0.6666666666666666,
              "#ed7953"
             ],
             [
              0.7777777777777778,
              "#fb9f3a"
             ],
             [
              0.8888888888888888,
              "#fdca26"
             ],
             [
              1,
              "#f0f921"
             ]
            ],
            "type": "contour"
           }
          ],
          "contourcarpet": [
           {
            "colorbar": {
             "outlinewidth": 0,
             "ticks": ""
            },
            "type": "contourcarpet"
           }
          ],
          "heatmap": [
           {
            "colorbar": {
             "outlinewidth": 0,
             "ticks": ""
            },
            "colorscale": [
             [
              0,
              "#0d0887"
             ],
             [
              0.1111111111111111,
              "#46039f"
             ],
             [
              0.2222222222222222,
              "#7201a8"
             ],
             [
              0.3333333333333333,
              "#9c179e"
             ],
             [
              0.4444444444444444,
              "#bd3786"
             ],
             [
              0.5555555555555556,
              "#d8576b"
             ],
             [
              0.6666666666666666,
              "#ed7953"
             ],
             [
              0.7777777777777778,
              "#fb9f3a"
             ],
             [
              0.8888888888888888,
              "#fdca26"
             ],
             [
              1,
              "#f0f921"
             ]
            ],
            "type": "heatmap"
           }
          ],
          "heatmapgl": [
           {
            "colorbar": {
             "outlinewidth": 0,
             "ticks": ""
            },
            "colorscale": [
             [
              0,
              "#0d0887"
             ],
             [
              0.1111111111111111,
              "#46039f"
             ],
             [
              0.2222222222222222,
              "#7201a8"
             ],
             [
              0.3333333333333333,
              "#9c179e"
             ],
             [
              0.4444444444444444,
              "#bd3786"
             ],
             [
              0.5555555555555556,
              "#d8576b"
             ],
             [
              0.6666666666666666,
              "#ed7953"
             ],
             [
              0.7777777777777778,
              "#fb9f3a"
             ],
             [
              0.8888888888888888,
              "#fdca26"
             ],
             [
              1,
              "#f0f921"
             ]
            ],
            "type": "heatmapgl"
           }
          ],
          "histogram": [
           {
            "marker": {
             "pattern": {
              "fillmode": "overlay",
              "size": 10,
              "solidity": 0.2
             }
            },
            "type": "histogram"
           }
          ],
          "histogram2d": [
           {
            "colorbar": {
             "outlinewidth": 0,
             "ticks": ""
            },
            "colorscale": [
             [
              0,
              "#0d0887"
             ],
             [
              0.1111111111111111,
              "#46039f"
             ],
             [
              0.2222222222222222,
              "#7201a8"
             ],
             [
              0.3333333333333333,
              "#9c179e"
             ],
             [
              0.4444444444444444,
              "#bd3786"
             ],
             [
              0.5555555555555556,
              "#d8576b"
             ],
             [
              0.6666666666666666,
              "#ed7953"
             ],
             [
              0.7777777777777778,
              "#fb9f3a"
             ],
             [
              0.8888888888888888,
              "#fdca26"
             ],
             [
              1,
              "#f0f921"
             ]
            ],
            "type": "histogram2d"
           }
          ],
          "histogram2dcontour": [
           {
            "colorbar": {
             "outlinewidth": 0,
             "ticks": ""
            },
            "colorscale": [
             [
              0,
              "#0d0887"
             ],
             [
              0.1111111111111111,
              "#46039f"
             ],
             [
              0.2222222222222222,
              "#7201a8"
             ],
             [
              0.3333333333333333,
              "#9c179e"
             ],
             [
              0.4444444444444444,
              "#bd3786"
             ],
             [
              0.5555555555555556,
              "#d8576b"
             ],
             [
              0.6666666666666666,
              "#ed7953"
             ],
             [
              0.7777777777777778,
              "#fb9f3a"
             ],
             [
              0.8888888888888888,
              "#fdca26"
             ],
             [
              1,
              "#f0f921"
             ]
            ],
            "type": "histogram2dcontour"
           }
          ],
          "mesh3d": [
           {
            "colorbar": {
             "outlinewidth": 0,
             "ticks": ""
            },
            "type": "mesh3d"
           }
          ],
          "parcoords": [
           {
            "line": {
             "colorbar": {
              "outlinewidth": 0,
              "ticks": ""
             }
            },
            "type": "parcoords"
           }
          ],
          "pie": [
           {
            "automargin": true,
            "type": "pie"
           }
          ],
          "scatter": [
           {
            "fillpattern": {
             "fillmode": "overlay",
             "size": 10,
             "solidity": 0.2
            },
            "type": "scatter"
           }
          ],
          "scatter3d": [
           {
            "line": {
             "colorbar": {
              "outlinewidth": 0,
              "ticks": ""
             }
            },
            "marker": {
             "colorbar": {
              "outlinewidth": 0,
              "ticks": ""
             }
            },
            "type": "scatter3d"
           }
          ],
          "scattercarpet": [
           {
            "marker": {
             "colorbar": {
              "outlinewidth": 0,
              "ticks": ""
             }
            },
            "type": "scattercarpet"
           }
          ],
          "scattergeo": [
           {
            "marker": {
             "colorbar": {
              "outlinewidth": 0,
              "ticks": ""
             }
            },
            "type": "scattergeo"
           }
          ],
          "scattergl": [
           {
            "marker": {
             "colorbar": {
              "outlinewidth": 0,
              "ticks": ""
             }
            },
            "type": "scattergl"
           }
          ],
          "scattermapbox": [
           {
            "marker": {
             "colorbar": {
              "outlinewidth": 0,
              "ticks": ""
             }
            },
            "type": "scattermapbox"
           }
          ],
          "scatterpolar": [
           {
            "marker": {
             "colorbar": {
              "outlinewidth": 0,
              "ticks": ""
             }
            },
            "type": "scatterpolar"
           }
          ],
          "scatterpolargl": [
           {
            "marker": {
             "colorbar": {
              "outlinewidth": 0,
              "ticks": ""
             }
            },
            "type": "scatterpolargl"
           }
          ],
          "scatterternary": [
           {
            "marker": {
             "colorbar": {
              "outlinewidth": 0,
              "ticks": ""
             }
            },
            "type": "scatterternary"
           }
          ],
          "surface": [
           {
            "colorbar": {
             "outlinewidth": 0,
             "ticks": ""
            },
            "colorscale": [
             [
              0,
              "#0d0887"
             ],
             [
              0.1111111111111111,
              "#46039f"
             ],
             [
              0.2222222222222222,
              "#7201a8"
             ],
             [
              0.3333333333333333,
              "#9c179e"
             ],
             [
              0.4444444444444444,
              "#bd3786"
             ],
             [
              0.5555555555555556,
              "#d8576b"
             ],
             [
              0.6666666666666666,
              "#ed7953"
             ],
             [
              0.7777777777777778,
              "#fb9f3a"
             ],
             [
              0.8888888888888888,
              "#fdca26"
             ],
             [
              1,
              "#f0f921"
             ]
            ],
            "type": "surface"
           }
          ],
          "table": [
           {
            "cells": {
             "fill": {
              "color": "#EBF0F8"
             },
             "line": {
              "color": "white"
             }
            },
            "header": {
             "fill": {
              "color": "#C8D4E3"
             },
             "line": {
              "color": "white"
             }
            },
            "type": "table"
           }
          ]
         },
         "layout": {
          "annotationdefaults": {
           "arrowcolor": "#2a3f5f",
           "arrowhead": 0,
           "arrowwidth": 1
          },
          "autotypenumbers": "strict",
          "coloraxis": {
           "colorbar": {
            "outlinewidth": 0,
            "ticks": ""
           }
          },
          "colorscale": {
           "diverging": [
            [
             0,
             "#8e0152"
            ],
            [
             0.1,
             "#c51b7d"
            ],
            [
             0.2,
             "#de77ae"
            ],
            [
             0.3,
             "#f1b6da"
            ],
            [
             0.4,
             "#fde0ef"
            ],
            [
             0.5,
             "#f7f7f7"
            ],
            [
             0.6,
             "#e6f5d0"
            ],
            [
             0.7,
             "#b8e186"
            ],
            [
             0.8,
             "#7fbc41"
            ],
            [
             0.9,
             "#4d9221"
            ],
            [
             1,
             "#276419"
            ]
           ],
           "sequential": [
            [
             0,
             "#0d0887"
            ],
            [
             0.1111111111111111,
             "#46039f"
            ],
            [
             0.2222222222222222,
             "#7201a8"
            ],
            [
             0.3333333333333333,
             "#9c179e"
            ],
            [
             0.4444444444444444,
             "#bd3786"
            ],
            [
             0.5555555555555556,
             "#d8576b"
            ],
            [
             0.6666666666666666,
             "#ed7953"
            ],
            [
             0.7777777777777778,
             "#fb9f3a"
            ],
            [
             0.8888888888888888,
             "#fdca26"
            ],
            [
             1,
             "#f0f921"
            ]
           ],
           "sequentialminus": [
            [
             0,
             "#0d0887"
            ],
            [
             0.1111111111111111,
             "#46039f"
            ],
            [
             0.2222222222222222,
             "#7201a8"
            ],
            [
             0.3333333333333333,
             "#9c179e"
            ],
            [
             0.4444444444444444,
             "#bd3786"
            ],
            [
             0.5555555555555556,
             "#d8576b"
            ],
            [
             0.6666666666666666,
             "#ed7953"
            ],
            [
             0.7777777777777778,
             "#fb9f3a"
            ],
            [
             0.8888888888888888,
             "#fdca26"
            ],
            [
             1,
             "#f0f921"
            ]
           ]
          },
          "colorway": [
           "#636efa",
           "#EF553B",
           "#00cc96",
           "#ab63fa",
           "#FFA15A",
           "#19d3f3",
           "#FF6692",
           "#B6E880",
           "#FF97FF",
           "#FECB52"
          ],
          "font": {
           "color": "#2a3f5f"
          },
          "geo": {
           "bgcolor": "white",
           "lakecolor": "white",
           "landcolor": "white",
           "showlakes": true,
           "showland": true,
           "subunitcolor": "#C8D4E3"
          },
          "hoverlabel": {
           "align": "left"
          },
          "hovermode": "closest",
          "mapbox": {
           "style": "light"
          },
          "paper_bgcolor": "white",
          "plot_bgcolor": "white",
          "polar": {
           "angularaxis": {
            "gridcolor": "#EBF0F8",
            "linecolor": "#EBF0F8",
            "ticks": ""
           },
           "bgcolor": "white",
           "radialaxis": {
            "gridcolor": "#EBF0F8",
            "linecolor": "#EBF0F8",
            "ticks": ""
           }
          },
          "scene": {
           "xaxis": {
            "backgroundcolor": "white",
            "gridcolor": "#DFE8F3",
            "gridwidth": 2,
            "linecolor": "#EBF0F8",
            "showbackground": true,
            "ticks": "",
            "zerolinecolor": "#EBF0F8"
           },
           "yaxis": {
            "backgroundcolor": "white",
            "gridcolor": "#DFE8F3",
            "gridwidth": 2,
            "linecolor": "#EBF0F8",
            "showbackground": true,
            "ticks": "",
            "zerolinecolor": "#EBF0F8"
           },
           "zaxis": {
            "backgroundcolor": "white",
            "gridcolor": "#DFE8F3",
            "gridwidth": 2,
            "linecolor": "#EBF0F8",
            "showbackground": true,
            "ticks": "",
            "zerolinecolor": "#EBF0F8"
           }
          },
          "shapedefaults": {
           "line": {
            "color": "#2a3f5f"
           }
          },
          "ternary": {
           "aaxis": {
            "gridcolor": "#DFE8F3",
            "linecolor": "#A2B1C6",
            "ticks": ""
           },
           "baxis": {
            "gridcolor": "#DFE8F3",
            "linecolor": "#A2B1C6",
            "ticks": ""
           },
           "bgcolor": "white",
           "caxis": {
            "gridcolor": "#DFE8F3",
            "linecolor": "#A2B1C6",
            "ticks": ""
           }
          },
          "title": {
           "x": 0.05
          },
          "xaxis": {
           "automargin": true,
           "gridcolor": "#EBF0F8",
           "linecolor": "#EBF0F8",
           "ticks": "",
           "title": {
            "standoff": 15
           },
           "zerolinecolor": "#EBF0F8",
           "zerolinewidth": 2
          },
          "yaxis": {
           "automargin": true,
           "gridcolor": "#EBF0F8",
           "linecolor": "#EBF0F8",
           "ticks": "",
           "title": {
            "standoff": 15
           },
           "zerolinecolor": "#EBF0F8",
           "zerolinewidth": 2
          }
         }
        },
        "title": {
         "text": "Histogram of magnitude"
        },
        "width": 960,
        "xaxis": {
         "tickmode": "array",
         "ticktext": [
          "-0.875",
          "-0.625",
          "-0.375",
          "-0.125",
          "0.125",
          "0.375",
          "0.625",
          "0.875",
          "1.125",
          "1.375",
          "1.625",
          "1.875",
          "2.125",
          "2.375",
          "2.625",
          "2.875"
         ],
         "tickvals": [
          -0.875,
          -0.625,
          -0.375,
          -0.125,
          0.125,
          0.375,
          0.625,
          0.875,
          1.125,
          1.375,
          1.625,
          1.875,
          2.125,
          2.375,
          2.625,
          2.875
         ],
         "title": {
          "text": "magnitude"
         }
        },
        "yaxis": {
         "title": {
          "text": "Count"
         }
        }
       }
      }
     },
     "metadata": {},
     "output_type": "display_data"
    }
   ],
   "source": [
    "# setting plotly for static render (delete this import and the render setting in your own scripts to experience plotly interactive, this is just for github deployment in this tutorial)\n",
    "import plotly.io as pio\n",
    "pio.renderers.default = 'png'  # or 'svg'\n",
    "\n",
    "# Example of using plot_histogram methodft \n",
    "lqt_ready_2.plot_histogram('magnitude', bin_width=0.25, min_bin=-1.0, max_bin=3.0)"
   ]
  },
  {
   "cell_type": "code",
   "execution_count": 6,
   "metadata": {},
   "outputs": [
    {
     "data": {
      "application/vnd.plotly.v1+json": {
       "config": {
        "plotlyServerURL": "https://plot.ly"
       },
       "data": [
        {
         "hovertemplate": "Bin_center: %{x:.3f}<br>count: %{y}<extra></extra>",
         "marker": {
          "color": "skyblue"
         },
         "name": "source_err_rms_s",
         "type": "bar",
         "width": 0.01,
         "x": [
          0.005,
          0.015,
          0.025,
          0.035,
          0.045,
          0.055,
          0.065,
          0.07500000000000001,
          0.08499999999999999,
          0.095
         ],
         "y": [
          451,
          84,
          108,
          53,
          42,
          19,
          17,
          7,
          6,
          0
         ]
        }
       ],
       "layout": {
        "bargap": 0.25,
        "height": 720,
        "legend": {
         "bgcolor": "rgba(255,255,255,0.5)",
         "x": 0.99,
         "xanchor": "right",
         "y": 0.99,
         "yanchor": "top"
        },
        "showlegend": true,
        "template": {
         "data": {
          "bar": [
           {
            "error_x": {
             "color": "#2a3f5f"
            },
            "error_y": {
             "color": "#2a3f5f"
            },
            "marker": {
             "line": {
              "color": "white",
              "width": 0.5
             },
             "pattern": {
              "fillmode": "overlay",
              "size": 10,
              "solidity": 0.2
             }
            },
            "type": "bar"
           }
          ],
          "barpolar": [
           {
            "marker": {
             "line": {
              "color": "white",
              "width": 0.5
             },
             "pattern": {
              "fillmode": "overlay",
              "size": 10,
              "solidity": 0.2
             }
            },
            "type": "barpolar"
           }
          ],
          "carpet": [
           {
            "aaxis": {
             "endlinecolor": "#2a3f5f",
             "gridcolor": "#C8D4E3",
             "linecolor": "#C8D4E3",
             "minorgridcolor": "#C8D4E3",
             "startlinecolor": "#2a3f5f"
            },
            "baxis": {
             "endlinecolor": "#2a3f5f",
             "gridcolor": "#C8D4E3",
             "linecolor": "#C8D4E3",
             "minorgridcolor": "#C8D4E3",
             "startlinecolor": "#2a3f5f"
            },
            "type": "carpet"
           }
          ],
          "choropleth": [
           {
            "colorbar": {
             "outlinewidth": 0,
             "ticks": ""
            },
            "type": "choropleth"
           }
          ],
          "contour": [
           {
            "colorbar": {
             "outlinewidth": 0,
             "ticks": ""
            },
            "colorscale": [
             [
              0,
              "#0d0887"
             ],
             [
              0.1111111111111111,
              "#46039f"
             ],
             [
              0.2222222222222222,
              "#7201a8"
             ],
             [
              0.3333333333333333,
              "#9c179e"
             ],
             [
              0.4444444444444444,
              "#bd3786"
             ],
             [
              0.5555555555555556,
              "#d8576b"
             ],
             [
              0.6666666666666666,
              "#ed7953"
             ],
             [
              0.7777777777777778,
              "#fb9f3a"
             ],
             [
              0.8888888888888888,
              "#fdca26"
             ],
             [
              1,
              "#f0f921"
             ]
            ],
            "type": "contour"
           }
          ],
          "contourcarpet": [
           {
            "colorbar": {
             "outlinewidth": 0,
             "ticks": ""
            },
            "type": "contourcarpet"
           }
          ],
          "heatmap": [
           {
            "colorbar": {
             "outlinewidth": 0,
             "ticks": ""
            },
            "colorscale": [
             [
              0,
              "#0d0887"
             ],
             [
              0.1111111111111111,
              "#46039f"
             ],
             [
              0.2222222222222222,
              "#7201a8"
             ],
             [
              0.3333333333333333,
              "#9c179e"
             ],
             [
              0.4444444444444444,
              "#bd3786"
             ],
             [
              0.5555555555555556,
              "#d8576b"
             ],
             [
              0.6666666666666666,
              "#ed7953"
             ],
             [
              0.7777777777777778,
              "#fb9f3a"
             ],
             [
              0.8888888888888888,
              "#fdca26"
             ],
             [
              1,
              "#f0f921"
             ]
            ],
            "type": "heatmap"
           }
          ],
          "heatmapgl": [
           {
            "colorbar": {
             "outlinewidth": 0,
             "ticks": ""
            },
            "colorscale": [
             [
              0,
              "#0d0887"
             ],
             [
              0.1111111111111111,
              "#46039f"
             ],
             [
              0.2222222222222222,
              "#7201a8"
             ],
             [
              0.3333333333333333,
              "#9c179e"
             ],
             [
              0.4444444444444444,
              "#bd3786"
             ],
             [
              0.5555555555555556,
              "#d8576b"
             ],
             [
              0.6666666666666666,
              "#ed7953"
             ],
             [
              0.7777777777777778,
              "#fb9f3a"
             ],
             [
              0.8888888888888888,
              "#fdca26"
             ],
             [
              1,
              "#f0f921"
             ]
            ],
            "type": "heatmapgl"
           }
          ],
          "histogram": [
           {
            "marker": {
             "pattern": {
              "fillmode": "overlay",
              "size": 10,
              "solidity": 0.2
             }
            },
            "type": "histogram"
           }
          ],
          "histogram2d": [
           {
            "colorbar": {
             "outlinewidth": 0,
             "ticks": ""
            },
            "colorscale": [
             [
              0,
              "#0d0887"
             ],
             [
              0.1111111111111111,
              "#46039f"
             ],
             [
              0.2222222222222222,
              "#7201a8"
             ],
             [
              0.3333333333333333,
              "#9c179e"
             ],
             [
              0.4444444444444444,
              "#bd3786"
             ],
             [
              0.5555555555555556,
              "#d8576b"
             ],
             [
              0.6666666666666666,
              "#ed7953"
             ],
             [
              0.7777777777777778,
              "#fb9f3a"
             ],
             [
              0.8888888888888888,
              "#fdca26"
             ],
             [
              1,
              "#f0f921"
             ]
            ],
            "type": "histogram2d"
           }
          ],
          "histogram2dcontour": [
           {
            "colorbar": {
             "outlinewidth": 0,
             "ticks": ""
            },
            "colorscale": [
             [
              0,
              "#0d0887"
             ],
             [
              0.1111111111111111,
              "#46039f"
             ],
             [
              0.2222222222222222,
              "#7201a8"
             ],
             [
              0.3333333333333333,
              "#9c179e"
             ],
             [
              0.4444444444444444,
              "#bd3786"
             ],
             [
              0.5555555555555556,
              "#d8576b"
             ],
             [
              0.6666666666666666,
              "#ed7953"
             ],
             [
              0.7777777777777778,
              "#fb9f3a"
             ],
             [
              0.8888888888888888,
              "#fdca26"
             ],
             [
              1,
              "#f0f921"
             ]
            ],
            "type": "histogram2dcontour"
           }
          ],
          "mesh3d": [
           {
            "colorbar": {
             "outlinewidth": 0,
             "ticks": ""
            },
            "type": "mesh3d"
           }
          ],
          "parcoords": [
           {
            "line": {
             "colorbar": {
              "outlinewidth": 0,
              "ticks": ""
             }
            },
            "type": "parcoords"
           }
          ],
          "pie": [
           {
            "automargin": true,
            "type": "pie"
           }
          ],
          "scatter": [
           {
            "fillpattern": {
             "fillmode": "overlay",
             "size": 10,
             "solidity": 0.2
            },
            "type": "scatter"
           }
          ],
          "scatter3d": [
           {
            "line": {
             "colorbar": {
              "outlinewidth": 0,
              "ticks": ""
             }
            },
            "marker": {
             "colorbar": {
              "outlinewidth": 0,
              "ticks": ""
             }
            },
            "type": "scatter3d"
           }
          ],
          "scattercarpet": [
           {
            "marker": {
             "colorbar": {
              "outlinewidth": 0,
              "ticks": ""
             }
            },
            "type": "scattercarpet"
           }
          ],
          "scattergeo": [
           {
            "marker": {
             "colorbar": {
              "outlinewidth": 0,
              "ticks": ""
             }
            },
            "type": "scattergeo"
           }
          ],
          "scattergl": [
           {
            "marker": {
             "colorbar": {
              "outlinewidth": 0,
              "ticks": ""
             }
            },
            "type": "scattergl"
           }
          ],
          "scattermapbox": [
           {
            "marker": {
             "colorbar": {
              "outlinewidth": 0,
              "ticks": ""
             }
            },
            "type": "scattermapbox"
           }
          ],
          "scatterpolar": [
           {
            "marker": {
             "colorbar": {
              "outlinewidth": 0,
              "ticks": ""
             }
            },
            "type": "scatterpolar"
           }
          ],
          "scatterpolargl": [
           {
            "marker": {
             "colorbar": {
              "outlinewidth": 0,
              "ticks": ""
             }
            },
            "type": "scatterpolargl"
           }
          ],
          "scatterternary": [
           {
            "marker": {
             "colorbar": {
              "outlinewidth": 0,
              "ticks": ""
             }
            },
            "type": "scatterternary"
           }
          ],
          "surface": [
           {
            "colorbar": {
             "outlinewidth": 0,
             "ticks": ""
            },
            "colorscale": [
             [
              0,
              "#0d0887"
             ],
             [
              0.1111111111111111,
              "#46039f"
             ],
             [
              0.2222222222222222,
              "#7201a8"
             ],
             [
              0.3333333333333333,
              "#9c179e"
             ],
             [
              0.4444444444444444,
              "#bd3786"
             ],
             [
              0.5555555555555556,
              "#d8576b"
             ],
             [
              0.6666666666666666,
              "#ed7953"
             ],
             [
              0.7777777777777778,
              "#fb9f3a"
             ],
             [
              0.8888888888888888,
              "#fdca26"
             ],
             [
              1,
              "#f0f921"
             ]
            ],
            "type": "surface"
           }
          ],
          "table": [
           {
            "cells": {
             "fill": {
              "color": "#EBF0F8"
             },
             "line": {
              "color": "white"
             }
            },
            "header": {
             "fill": {
              "color": "#C8D4E3"
             },
             "line": {
              "color": "white"
             }
            },
            "type": "table"
           }
          ]
         },
         "layout": {
          "annotationdefaults": {
           "arrowcolor": "#2a3f5f",
           "arrowhead": 0,
           "arrowwidth": 1
          },
          "autotypenumbers": "strict",
          "coloraxis": {
           "colorbar": {
            "outlinewidth": 0,
            "ticks": ""
           }
          },
          "colorscale": {
           "diverging": [
            [
             0,
             "#8e0152"
            ],
            [
             0.1,
             "#c51b7d"
            ],
            [
             0.2,
             "#de77ae"
            ],
            [
             0.3,
             "#f1b6da"
            ],
            [
             0.4,
             "#fde0ef"
            ],
            [
             0.5,
             "#f7f7f7"
            ],
            [
             0.6,
             "#e6f5d0"
            ],
            [
             0.7,
             "#b8e186"
            ],
            [
             0.8,
             "#7fbc41"
            ],
            [
             0.9,
             "#4d9221"
            ],
            [
             1,
             "#276419"
            ]
           ],
           "sequential": [
            [
             0,
             "#0d0887"
            ],
            [
             0.1111111111111111,
             "#46039f"
            ],
            [
             0.2222222222222222,
             "#7201a8"
            ],
            [
             0.3333333333333333,
             "#9c179e"
            ],
            [
             0.4444444444444444,
             "#bd3786"
            ],
            [
             0.5555555555555556,
             "#d8576b"
            ],
            [
             0.6666666666666666,
             "#ed7953"
            ],
            [
             0.7777777777777778,
             "#fb9f3a"
            ],
            [
             0.8888888888888888,
             "#fdca26"
            ],
            [
             1,
             "#f0f921"
            ]
           ],
           "sequentialminus": [
            [
             0,
             "#0d0887"
            ],
            [
             0.1111111111111111,
             "#46039f"
            ],
            [
             0.2222222222222222,
             "#7201a8"
            ],
            [
             0.3333333333333333,
             "#9c179e"
            ],
            [
             0.4444444444444444,
             "#bd3786"
            ],
            [
             0.5555555555555556,
             "#d8576b"
            ],
            [
             0.6666666666666666,
             "#ed7953"
            ],
            [
             0.7777777777777778,
             "#fb9f3a"
            ],
            [
             0.8888888888888888,
             "#fdca26"
            ],
            [
             1,
             "#f0f921"
            ]
           ]
          },
          "colorway": [
           "#636efa",
           "#EF553B",
           "#00cc96",
           "#ab63fa",
           "#FFA15A",
           "#19d3f3",
           "#FF6692",
           "#B6E880",
           "#FF97FF",
           "#FECB52"
          ],
          "font": {
           "color": "#2a3f5f"
          },
          "geo": {
           "bgcolor": "white",
           "lakecolor": "white",
           "landcolor": "white",
           "showlakes": true,
           "showland": true,
           "subunitcolor": "#C8D4E3"
          },
          "hoverlabel": {
           "align": "left"
          },
          "hovermode": "closest",
          "mapbox": {
           "style": "light"
          },
          "paper_bgcolor": "white",
          "plot_bgcolor": "white",
          "polar": {
           "angularaxis": {
            "gridcolor": "#EBF0F8",
            "linecolor": "#EBF0F8",
            "ticks": ""
           },
           "bgcolor": "white",
           "radialaxis": {
            "gridcolor": "#EBF0F8",
            "linecolor": "#EBF0F8",
            "ticks": ""
           }
          },
          "scene": {
           "xaxis": {
            "backgroundcolor": "white",
            "gridcolor": "#DFE8F3",
            "gridwidth": 2,
            "linecolor": "#EBF0F8",
            "showbackground": true,
            "ticks": "",
            "zerolinecolor": "#EBF0F8"
           },
           "yaxis": {
            "backgroundcolor": "white",
            "gridcolor": "#DFE8F3",
            "gridwidth": 2,
            "linecolor": "#EBF0F8",
            "showbackground": true,
            "ticks": "",
            "zerolinecolor": "#EBF0F8"
           },
           "zaxis": {
            "backgroundcolor": "white",
            "gridcolor": "#DFE8F3",
            "gridwidth": 2,
            "linecolor": "#EBF0F8",
            "showbackground": true,
            "ticks": "",
            "zerolinecolor": "#EBF0F8"
           }
          },
          "shapedefaults": {
           "line": {
            "color": "#2a3f5f"
           }
          },
          "ternary": {
           "aaxis": {
            "gridcolor": "#DFE8F3",
            "linecolor": "#A2B1C6",
            "ticks": ""
           },
           "baxis": {
            "gridcolor": "#DFE8F3",
            "linecolor": "#A2B1C6",
            "ticks": ""
           },
           "bgcolor": "white",
           "caxis": {
            "gridcolor": "#DFE8F3",
            "linecolor": "#A2B1C6",
            "ticks": ""
           }
          },
          "title": {
           "x": 0.05
          },
          "xaxis": {
           "automargin": true,
           "gridcolor": "#EBF0F8",
           "linecolor": "#EBF0F8",
           "ticks": "",
           "title": {
            "standoff": 15
           },
           "zerolinecolor": "#EBF0F8",
           "zerolinewidth": 2
          },
          "yaxis": {
           "automargin": true,
           "gridcolor": "#EBF0F8",
           "linecolor": "#EBF0F8",
           "ticks": "",
           "title": {
            "standoff": 15
           },
           "zerolinecolor": "#EBF0F8",
           "zerolinewidth": 2
          }
         }
        },
        "title": {
         "text": "Histogram of source_err_rms_s"
        },
        "width": 960,
        "xaxis": {
         "tickmode": "array",
         "ticktext": [
          "0.005",
          "0.015",
          "0.025",
          "0.035",
          "0.045",
          "0.055",
          "0.065",
          "0.075",
          "0.085",
          "0.095"
         ],
         "tickvals": [
          0.005,
          0.015,
          0.025,
          0.035,
          0.045,
          0.055,
          0.065,
          0.07500000000000001,
          0.08499999999999999,
          0.095
         ],
         "title": {
          "text": "source_err_rms_s"
         }
        },
        "yaxis": {
         "title": {
          "text": "Count"
         }
        }
       }
      }
     },
     "metadata": {},
     "output_type": "display_data"
    }
   ],
   "source": [
    "# Another example using different columns\n",
    "lqt_ready_2.plot_histogram('source_err_rms_s', 0.01, max_bin=0.1)"
   ]
  },
  {
   "cell_type": "markdown",
   "metadata": {},
   "source": [
    "### 5. Plotting Hypocenters in 2D and 3D Plot\n",
    "\n",
    "We also provide hypocenter plots in both 2D and 3D to make data analysis easier for you."
   ]
  },
  {
   "cell_type": "markdown",
   "metadata": {},
   "source": [
    "A. 2D Hypocenter Plot\n",
    "\n",
    "To plot your hypocenter in 2D plane we can use `plot_hypocenter_2D` class method."
   ]
  },
  {
   "cell_type": "code",
   "execution_count": 7,
   "metadata": {},
   "outputs": [
    {
     "data": {
      "application/vnd.plotly.v1+json": {
       "config": {
        "plotlyServerURL": "https://plot.ly"
       },
       "data": [
        {
         "customdata": [
          [
           2000,
           -873.3,
           0.431428820071198
          ],
          [
           2001,
           1258.86,
           1.0601077244456525
          ],
          [
           2002,
           1366.21,
           1.3525485401063475
          ],
          [
           2003,
           1030.06,
           0.7975739448335712
          ],
          [
           2005,
           -265.14,
           0.9644863837837434
          ],
          [
           2006,
           -121.14,
           2.020023343050088
          ],
          [
           2007,
           -108.44,
           1.0443654113941223
          ],
          [
           2008,
           -393.28,
           0.6456726701919218
          ],
          [
           2009,
           -296.92,
           0.774851296154786
          ],
          [
           2010,
           -142.22,
           1.6027164048141431
          ],
          [
           2011,
           -403.04,
           0.5927815465142681
          ],
          [
           2012,
           -385.08,
           0.7583362329342513
          ],
          [
           2013,
           -256.33,
           0.7253675380587881
          ],
          [
           2014,
           -191.3,
           0.654783393997814
          ],
          [
           2015,
           251.04,
           1.0933645886260883
          ],
          [
           2016,
           -525,
           0.0159507172540154
          ],
          [
           2017,
           203.19,
           0.8054443503492426
          ],
          [
           2018,
           267.5,
           1.1675946264328
          ],
          [
           2019,
           -116.28,
           0.6592267112182286
          ],
          [
           2020,
           311.44,
           0.9353618819371904
          ],
          [
           2021,
           -906.696,
           0.3546812264761048
          ],
          [
           2022,
           -1005.655,
           1.0023562463679276
          ],
          [
           2023,
           -496.726,
           0.6728887271342519
          ],
          [
           2024,
           1708.631,
           0.8442364181878226
          ],
          [
           2025,
           449.89,
           0.3903965890065173
          ],
          [
           2026,
           470.75,
           0.3960490311056102
          ],
          [
           2027,
           455.17,
           0.3886139152688956
          ],
          [
           2028,
           6826.19,
           1.2369329950770274
          ],
          [
           2029,
           -1571.131,
           0.2081600800927479
          ],
          [
           2030,
           634.95,
           0.9516704160029272
          ],
          [
           2031,
           217.68,
           0.5733196080375906
          ],
          [
           2032,
           360.13,
           0.5399171191809096
          ],
          [
           2033,
           4507.23,
           1.4569134231416054
          ],
          [
           2034,
           4391.01,
           1.3617477587196465
          ],
          [
           2035,
           4622.56,
           1.293996665114424
          ],
          [
           2036,
           4960.119,
           1.2576643737414566
          ],
          [
           2037,
           540.13,
           1.0786630517841234
          ],
          [
           2038,
           517.66,
           0.6722554144273518
          ],
          [
           2039,
           427.63,
           0.9359037071263936
          ],
          [
           2040,
           85.59,
           0.5947334654317729
          ],
          [
           2041,
           1821.726,
           0.7162590362716204
          ],
          [
           2042,
           296.14,
           0.8679064099773441
          ],
          [
           2043,
           339.73,
           0.5355819654587863
          ],
          [
           2044,
           882.02,
           0.9048736346305848
          ],
          [
           2045,
           973.512,
           0.6853893976800487
          ],
          [
           2046,
           -414.91,
           0.3401796698478403
          ],
          [
           2047,
           92.76,
           0.3492548372855868
          ],
          [
           2048,
           230.87,
           0.7319223442495266
          ],
          [
           2049,
           218,
           1.4144269013849895
          ],
          [
           2050,
           260.72,
           0.3349312867442586
          ],
          [
           2051,
           348.39,
           0.6172595795447258
          ],
          [
           2052,
           452.72,
           0.61578548331725
          ],
          [
           2053,
           433.14,
           0.4252443866801023
          ],
          [
           2054,
           513.09,
           0.2764627432349424
          ],
          [
           2055,
           315.71,
           0.6708036415050351
          ],
          [
           2056,
           538.17,
           1.0676094142903212
          ],
          [
           2057,
           890.11,
           0.5043523206478726
          ],
          [
           2058,
           1004.55,
           0.7067462266553841
          ],
          [
           2059,
           880.33,
           0.9205446964409364
          ],
          [
           2060,
           485.01,
           0.9411395457999214
          ],
          [
           2061,
           345.64,
           0.78692506289803
          ],
          [
           2062,
           586.65,
           0.3681330785911259
          ],
          [
           2063,
           442.57,
           0.3460856660338791
          ],
          [
           2064,
           381.24,
           0.4705798930186731
          ],
          [
           2065,
           83.58,
           0.3638388551383311
          ],
          [
           2066,
           24.83,
           0.3892277401845421
          ],
          [
           2067,
           -32.01,
           0.4264322496271528
          ],
          [
           2068,
           339.67,
           0.9294830720260414
          ],
          [
           2069,
           161.22,
           1.5198238795348056
          ],
          [
           2070,
           61.85,
           0.8929080408023164
          ],
          [
           2071,
           -380.6,
           0.7387301597960381
          ],
          [
           2072,
           79.75,
           0.1899934103792606
          ],
          [
           2073,
           -170.43,
           0.4029833504537734
          ],
          [
           2074,
           229.52,
           1.1483473682598682
          ],
          [
           2075,
           98.89,
           0.5452823640934881
          ],
          [
           2076,
           1086.607,
           0.5985335821327382
          ],
          [
           2077,
           269.98,
           0.4736629751376888
          ],
          [
           2078,
           166.82,
           0.2883360689190581
          ],
          [
           2079,
           1850,
           1.31226391252512
          ],
          [
           2080,
           -977.381,
           -0.0927394174459994
          ],
          [
           2081,
           438.44,
           0.9838946197776092
          ],
          [
           2082,
           746.26,
           0.5776952759464233
          ],
          [
           2083,
           736.65,
           0.5325998386550852
          ],
          [
           2084,
           408.3,
           0.5098484786481876
          ],
          [
           2085,
           -445.61,
           0.7248844636016418
          ],
          [
           2087,
           -269.64,
           1.135445662575748
          ],
          [
           2088,
           -67.47,
           0.7213718971351186
          ],
          [
           2089,
           724.28,
           1.0302507923751012
          ],
          [
           2090,
           602.01,
           1.240886593465221
          ],
          [
           2091,
           971.53,
           0.708017184764735
          ],
          [
           2092,
           453.34,
           0.5985100772679184
          ],
          [
           2093,
           -235.09,
           0.2512914030808009
          ],
          [
           2094,
           1470.68,
           0.4005660720965398
          ],
          [
           2095,
           518.89,
           1.3156938119418609
          ],
          [
           2096,
           480.95,
           0.5707964115824513
          ],
          [
           2097,
           72.44,
           0.2288566822850466
          ],
          [
           2098,
           -796.13,
           0.8719323290044994
          ],
          [
           2099,
           -119.23,
           0.5268979281145834
          ],
          [
           2100,
           183.11,
           0.8198159773378748
          ],
          [
           2101,
           43.09,
           0.3522542600208078
          ],
          [
           2102,
           33.2,
           0.2462466879842644
          ],
          [
           2103,
           2.46,
           0.2906884047817586
          ],
          [
           2105,
           -110.37,
           0.50953455322463
          ],
          [
           2106,
           314.25,
           0.5087445847081726
          ],
          [
           2107,
           605.53,
           0.8825882391457771
          ],
          [
           2108,
           -9.27,
           0.2109376936874802
          ],
          [
           2109,
           1112.54,
           0.8307244897527095
          ],
          [
           2110,
           -185.46,
           0.6372540234369213
          ],
          [
           2111,
           -183.21,
           0.8469281394261223
          ],
          [
           2112,
           -153.36,
           0.6962478858697416
          ],
          [
           2113,
           165.88,
           0.784974951054723
          ],
          [
           2114,
           -532.39,
           0.8082149881675704
          ],
          [
           2115,
           -182.25,
           0.7998191799972911
          ],
          [
           2116,
           -491.23,
           0.4549186293677865
          ],
          [
           2117,
           -561.15,
           0.7345575217802196
          ],
          [
           2118,
           -161.62,
           0.7874989495938118
          ],
          [
           2119,
           619.22,
           0.4557794828180563
          ],
          [
           2120,
           -468.452,
           0.4057826389319077
          ],
          [
           2121,
           367.22,
           0.5924995946119056
          ],
          [
           2122,
           11.08,
           0.7102351355117804
          ],
          [
           2123,
           -62.24,
           0.024835940542303
          ],
          [
           2124,
           803.869,
           0.6895839506145212
          ],
          [
           2125,
           1145.1,
           0.9193671566625924
          ],
          [
           2126,
           -79.76,
           0.3685711876765527
          ],
          [
           2127,
           -95.58,
           0.8597316246823379
          ],
          [
           2128,
           1227.976,
           0.5703990051336856
          ],
          [
           2129,
           -697.62,
           -0.1750558205034229
          ],
          [
           2130,
           623.07,
           0.616879387424544
          ],
          [
           2132,
           201.19,
           0.0837333730657947
          ],
          [
           2133,
           209.13,
           0.5375673399665697
          ],
          [
           2134,
           -168.02,
           0.9483548869138244
          ],
          [
           2135,
           765.87,
           0.807043142154936
          ],
          [
           2136,
           -416.75,
           0.5428437868792146
          ],
          [
           2137,
           -2306.25,
           -0.1769806026475269
          ],
          [
           2138,
           -169.41,
           0.5179848515647194
          ],
          [
           2139,
           -16.071,
           0.1256524141225146
          ],
          [
           2140,
           2245.76,
           0.4517204751590054
          ],
          [
           2141,
           -818.66,
           0.5571435133578548
          ],
          [
           2142,
           445.82,
           0.8880733830602399
          ],
          [
           2143,
           9879.762,
           1.428590275357477
          ],
          [
           2144,
           3682.21,
           0.5507176275800649
          ],
          [
           2145,
           -1655.952,
           0.4616713032751871
          ],
          [
           2146,
           299.82,
           0.5667674004107877
          ],
          [
           2147,
           1050.16,
           0.4148186692694864
          ],
          [
           2148,
           604.83,
           0.2787873094314017
          ],
          [
           2149,
           958.99,
           0.565486140841255
          ],
          [
           2150,
           954.5,
           0.5664598532135416
          ],
          [
           2151,
           39.32,
           0.9373844888607588
          ],
          [
           2152,
           339.43,
           0.972443138918484
          ],
          [
           2153,
           402.66,
           0.5420413315626726
          ],
          [
           2154,
           -22.7,
           0.20495926138884
          ],
          [
           2155,
           -146.65,
           0.6096269588495709
          ],
          [
           2156,
           36.17,
           0.4160963051513082
          ],
          [
           2157,
           723.02,
           0.4033769629360515
          ],
          [
           2158,
           734.57,
           0.7727607265711836
          ],
          [
           2159,
           565.2,
           0.5675750980253707
          ],
          [
           2160,
           375.46,
           0.7036863959010535
          ],
          [
           2161,
           560.05,
           1.1245065701216506
          ],
          [
           2162,
           532.02,
           1.1827105750862614
          ],
          [
           2164,
           -16.071,
           0.3319940220158575
          ],
          [
           2165,
           -787.11,
           0.3466389803249008
          ],
          [
           2166,
           -991.94,
           0.3038492932889465
          ],
          [
           2167,
           516.38,
           1.3349829237522863
          ],
          [
           2168,
           -170.35,
           1.2812768229122833
          ],
          [
           2169,
           605.952,
           1.2384251941000466
          ],
          [
           2170,
           607.16,
           1.1311612688691115
          ],
          [
           2171,
           -650.9,
           1.014948626363208
          ],
          [
           2172,
           -894.71,
           1.1583752804919882
          ],
          [
           2173,
           372.49,
           1.4104624168152498
          ],
          [
           2174,
           -977.381,
           0.8735330260886762
          ],
          [
           2175,
           676.637,
           1.2332989057130543
          ],
          [
           2176,
           610.36,
           1.237050727691658
          ],
          [
           2177,
           438.11,
           0.8413646666110504
          ],
          [
           2178,
           469.82,
           0.906765324203417
          ],
          [
           2179,
           -1344.91,
           0.4341852488831161
          ],
          [
           2180,
           -644.01,
           0.0224125479140493
          ],
          [
           2181,
           737.65,
           0.8427954935401072
          ],
          [
           2182,
           830.77,
           0.7022005222218759
          ],
          [
           2183,
           -749.59,
           0.0046241537886411
          ],
          [
           2184,
           1199.13,
           1.0726443868939637
          ],
          [
           2185,
           -1278.71,
           0.2916918192017137
          ],
          [
           2186,
           410.53,
           0.9538549543372355
          ],
          [
           2187,
           385.53,
           0.6840627400168398
          ],
          [
           2188,
           -834.7,
           0.4485967159598747
          ],
          [
           2189,
           504.91,
           1.4615454233074354
          ],
          [
           2190,
           -1161.51,
           0.3310521328511289
          ],
          [
           2191,
           482.97,
           1.2145822164637012
          ],
          [
           2192,
           84.4,
           0.6185378889499944
          ],
          [
           2193,
           382.13,
           0.6533882775374069
          ],
          [
           2194,
           739.97,
           0.986688938803983
          ],
          [
           2195,
           -1629.85,
           0.4256287227427524
          ],
          [
           2196,
           -72.619,
           0.5392197485895185
          ],
          [
           2197,
           -930.58,
           0.552276677554767
          ],
          [
           2198,
           888.69,
           0.7182388035297587
          ],
          [
           2199,
           -291.83,
           0.4492798133382045
          ],
          [
           2200,
           -1178.72,
           0.401448169416648
          ],
          [
           2201,
           741.96,
           1.383040614646923
          ],
          [
           2202,
           433.23,
           0.5913966317959067
          ],
          [
           2203,
           -737.61,
           -0.0844758055455408
          ],
          [
           2204,
           422.73,
           0.5126295793297349
          ],
          [
           2205,
           209.74,
           0.6550712270331225
          ],
          [
           2206,
           -230.75,
           0.6069394459317312
          ],
          [
           2207,
           34.35,
           0.7001489240642238
          ],
          [
           2208,
           -104.61,
           0.3404903610380332
          ],
          [
           2209,
           138.68,
           0.4649338944668493
          ],
          [
           2210,
           -134.73,
           0.5041783518619116
          ],
          [
           2211,
           606.7,
           0.6247422715673112
          ],
          [
           2212,
           768.95,
           1.1408098888942648
          ],
          [
           2213,
           530.62,
           0.6768741551801085
          ],
          [
           2214,
           209.38,
           0.540528452040836
          ],
          [
           2215,
           -683.91,
           0.0709331381204769
          ],
          [
           2216,
           -453.34,
           0.7019561148368441
          ],
          [
           2217,
           598.41,
           1.3917381441604757
          ],
          [
           2218,
           844.37,
           0.5898198812778555
          ],
          [
           2219,
           240.67,
           0.7647135553387354
          ],
          [
           2220,
           190.67,
           0.147122513254704
          ],
          [
           2221,
           -478.98,
           0.959397655153559
          ],
          [
           2222,
           -507.07,
           0.776294721377754
          ],
          [
           2223,
           -214.13,
           1.2449345144273396
          ],
          [
           2224,
           1005.54,
           0.8710315693882951
          ],
          [
           2225,
           990.53,
           0.7325593440403857
          ],
          [
           2226,
           942.74,
           0.32628444688714
          ],
          [
           2227,
           762.7,
           0.3337166202642905
          ],
          [
           2228,
           838.31,
           0.172530781238394
          ],
          [
           2229,
           468.94,
           0.098635293357586
          ],
          [
           2230,
           672.2,
           0.564314403329659
          ],
          [
           2231,
           992.7,
           0.8102546896122167
          ],
          [
           2232,
           664.8,
           0.3992150460987034
          ],
          [
           2233,
           1015.14,
           0.6540428584485172
          ],
          [
           2234,
           1012.23,
           0.2361461693406434
          ],
          [
           2235,
           -2.21,
           0.6303436002868619
          ],
          [
           2236,
           971.64,
           0.2889348697575418
          ],
          [
           2237,
           465.48,
           0.2456272355042124
          ],
          [
           2238,
           578.5,
           0.6084708468679754
          ],
          [
           2239,
           957.82,
           0.1157233695122705
          ],
          [
           2240,
           1016.06,
           0.7050577116362664
          ],
          [
           2241,
           953.39,
           0.1455613178732315
          ],
          [
           2242,
           990.36,
           0.2627750351359346
          ],
          [
           2243,
           715.15,
           0.3335345947951591
          ],
          [
           2244,
           939.29,
           0.1254489152631599
          ],
          [
           2245,
           -432.77,
           0.2155560026969718
          ],
          [
           2246,
           18.11,
           0.5226566857917643
          ],
          [
           2248,
           -118.4,
           0.0384710668470518
          ],
          [
           2249,
           224.75,
           0.5188177190781236
          ],
          [
           2250,
           184.26,
           0.360780191215019
          ],
          [
           2251,
           6939.286,
           0.9437034481663256
          ],
          [
           2252,
           989.87,
           0.3020755524149461
          ],
          [
           2253,
           963.5,
           0.2557659295722558
          ],
          [
           2254,
           938.08,
           0.4609418411322039
          ],
          [
           2255,
           990.71,
           0.7680113579278309
          ],
          [
           2256,
           985.77,
           0.4444867988259382
          ],
          [
           2257,
           934.08,
           0.6136170962346892
          ],
          [
           2258,
           1014.88,
           0.4162029676840486
          ],
          [
           2259,
           844.26,
           0.2540281013354679
          ],
          [
           2260,
           955.41,
           0.4841331357678031
          ],
          [
           2261,
           1011.12,
           0.3689000804811204
          ],
          [
           2262,
           1013.39,
           1.0967145953067048
          ],
          [
           2263,
           917.36,
           0.4999450111712242
          ],
          [
           2264,
           923.39,
           0.3813959022296211
          ],
          [
           2265,
           1010.67,
           0.386266096471755
          ],
          [
           2266,
           1091.18,
           1.5470708545970249
          ],
          [
           2267,
           939.47,
           0.4463423047663122
          ],
          [
           2268,
           963.7,
           0.5978151440746675
          ],
          [
           2269,
           992.34,
           0.6315700386130567
          ],
          [
           2270,
           892.39,
           0.3200761985852587
          ],
          [
           2271,
           1424.02,
           0.3733279484401439
          ],
          [
           2272,
           197.26,
           0.1273944287822823
          ],
          [
           2273,
           948.77,
           0.8951150130580512
          ],
          [
           2274,
           1180.32,
           0.970746546754345
          ],
          [
           2275,
           897.48,
           0.1053943264547605
          ],
          [
           2276,
           903.2,
           0.1469163942962925
          ],
          [
           2277,
           881.26,
           0.2515262435555101
          ],
          [
           2278,
           1002.74,
           0.8358357824896716
          ],
          [
           2279,
           992.92,
           0.5485098190871494
          ],
          [
           2280,
           407.64,
           0.7255718796221036
          ],
          [
           2281,
           960.5,
           0.4293035339361548
          ],
          [
           2282,
           973.89,
           0.6910475906259155
          ],
          [
           2283,
           13725,
           1.486184011003478
          ],
          [
           2284,
           -368.07,
           0.6175410501029148
          ],
          [
           2285,
           -177.53,
           0.5380753107800373
          ],
          [
           2286,
           3320.238,
           1.0679243475145883
          ],
          [
           2287,
           64.81,
           -0.0403940865618643
          ],
          [
           2289,
           479.38,
           0.9472647646862064
          ],
          [
           2290,
           442.14,
           0.7827353670840296
          ],
          [
           2291,
           1172.52,
           0.4053747079643104
          ],
          [
           2292,
           68.45,
           0.0542112240984611
          ],
          [
           2293,
           771.88,
           0.4231882240396025
          ],
          [
           2294,
           395.31,
           0.4883358066603822
          ],
          [
           2295,
           -737.054,
           0.4747052814147929
          ],
          [
           2296,
           779.61,
           0.5049705900413821
          ],
          [
           2297,
           14177.381,
           1.6135635095055498
          ],
          [
           2298,
           983.46,
           0.6055303601257984
          ],
          [
           2299,
           -107.76,
           1.219389755765132
          ],
          [
           2300,
           1312.798,
           0.9398294927879256
          ],
          [
           2301,
           906.37,
           0.986628423256544
          ],
          [
           2302,
           74.39,
           0.7977248442246285
          ],
          [
           2303,
           758.74,
           0.8957202304379557
          ],
          [
           2304,
           593.6,
           0.6415556606032098
          ],
          [
           2305,
           1195.37,
           0.0821407740627311
          ],
          [
           2306,
           -72.56,
           0.4663487708636715
          ],
          [
           2307,
           -5.34,
           0.4861952250920058
          ],
          [
           2308,
           -165.18,
           0.3068210064544781
          ],
          [
           2309,
           4.9,
           0.0343215378833612
          ],
          [
           2310,
           34.24,
           0.4340655312782182
          ],
          [
           2311,
           251.13,
           0.986051126892674
          ],
          [
           2312,
           -74.98,
           1.66641472550924
          ],
          [
           2313,
           -109.53,
           1.2436068249642125
          ],
          [
           2314,
           -84.57,
           0.7481400694310079
          ],
          [
           2315,
           300.96,
           0.265291830227353
          ],
          [
           2316,
           824.29,
           0.4214045927703456
          ],
          [
           2317,
           287.76,
           0.6202954168317207
          ],
          [
           2318,
           101.7,
           0.5971030445528545
          ],
          [
           2319,
           297.38,
           1.0533769828591213
          ],
          [
           2320,
           1001.786,
           0.9261416482250056
          ],
          [
           2321,
           539.71,
           0.3507927095298022
          ],
          [
           2322,
           23.4,
           0.737059587242368
          ],
          [
           2323,
           -637.83,
           0.4339417496731883
          ],
          [
           2324,
           250.79,
           0.7913531311198492
          ],
          [
           2325,
           771.84,
           0.9792080650346886
          ],
          [
           2326,
           -1165.8,
           0.4983903599759616
          ],
          [
           2327,
           210.35,
           0.5110724774033013
          ],
          [
           2328,
           -116.12,
           0.4211599363674079
          ],
          [
           2329,
           483.15,
           0.9050248606746968
          ],
          [
           2330,
           -51.07,
           0.5889594393178799
          ],
          [
           2331,
           417.77,
           0.7546775158135555
          ],
          [
           2332,
           -363.89,
           0.5204554350872188
          ],
          [
           2333,
           -233.17,
           0.9916744869335136
          ],
          [
           2334,
           650.52,
           0.9411478652782082
          ],
          [
           2335,
           381.32,
           1.0637704753429498
          ],
          [
           2336,
           234.57,
           1.6490845227561568
          ],
          [
           2337,
           8748.81,
           1.5756372960228102
          ],
          [
           2338,
           -721.81,
           0.3448976669884871
          ],
          [
           2339,
           -274.92,
           0.4843423966274942
          ],
          [
           2340,
           -164.9,
           0.6337847726730566
          ],
          [
           2341,
           588.12,
           0.7563699187298605
          ],
          [
           2342,
           658.39,
           0.3238075470573669
          ],
          [
           2343,
           935.37,
           0.3543106306767338
          ],
          [
           2344,
           338.51,
           0.8799904694839018
          ],
          [
           2345,
           443.04,
           0.6791519596427982
          ],
          [
           2346,
           662.95,
           1.3568938239881063
          ],
          [
           2347,
           -1169.48,
           0.7701921580254254
          ],
          [
           2348,
           525.28,
           0.9933088027129564
          ],
          [
           2349,
           573.01,
           0.8145740444945595
          ],
          [
           2350,
           8748.81,
           1.417211022332233
          ],
          [
           2351,
           572.81,
           1.7752210982968517
          ],
          [
           2352,
           3998.81,
           0.6878120656290942
          ],
          [
           2353,
           231.9,
           0.7210780866700839
          ],
          [
           2354,
           35.78,
           -0.0359882261274222
          ],
          [
           2355,
           -183.92,
           -0.0122331245633677
          ],
          [
           2356,
           -120.3,
           0.6012930450572309
          ],
          [
           2357,
           45.56,
           0.8180301162057448
          ],
          [
           2359,
           -654.28,
           0.5061862272036493
          ],
          [
           2360,
           209.19,
           0.4573399867137517
          ],
          [
           2361,
           579.23,
           2.076877432189012
          ],
          [
           2362,
           -1501.07,
           0.555519676446381
          ],
          [
           2363,
           163.39,
           0.3580274414665547
          ],
          [
           2364,
           -1458.15,
           0.3624808438219355
          ],
          [
           2365,
           -53.08,
           0.6680809720410785
          ],
          [
           2366,
           848.13,
           0.3456524086153028
          ],
          [
           2367,
           433.08,
           0.7112156355679957
          ],
          [
           2368,
           1355.66,
           0.5021343990198037
          ],
          [
           2369,
           -13.17,
           0.572884300780439
          ],
          [
           2372,
           -692.81,
           -0.1049493774430692
          ],
          [
           2374,
           -115.19,
           0.518176047241405
          ],
          [
           2375,
           422.5,
           0.3409611378301145
          ],
          [
           2376,
           864.83,
           0.7510804382247951
          ],
          [
           2377,
           640.64,
           0.6049337249771352
          ],
          [
           2378,
           428.35,
           0.1642880677862983
          ],
          [
           2379,
           331.77,
           0.5665370634845797
          ],
          [
           2380,
           881.4,
           0.3350041363730733
          ],
          [
           2381,
           -64.16,
           1.2623726090183478
          ],
          [
           2382,
           719.23,
           0.5489666282288148
          ],
          [
           2383,
           -2334.524,
           1.0029988653795223
          ],
          [
           2384,
           6543.452,
           0.796617034996328
          ],
          [
           2385,
           585.3,
           0.9332155718589848
          ],
          [
           2386,
           -738.58,
           0.5833342230484764
          ],
          [
           2388,
           699.34,
           0.5301032885600074
          ],
          [
           2389,
           716.53,
           0.8830253830118959
          ],
          [
           2390,
           842.77,
           0.4816950410255751
          ],
          [
           2391,
           3098.7,
           0.957897723470566
          ],
          [
           2392,
           2698.214,
           0.7037919979374667
          ],
          [
           2393,
           53.63,
           0.4073233957824671
          ],
          [
           2394,
           2914.39,
           1.097174758117491
          ],
          [
           2395,
           3230.02,
           1.4433495555167042
          ],
          [
           2396,
           2932.39,
           0.960857889350084
          ],
          [
           2397,
           1907.26,
           0.6113181588349308
          ],
          [
           2398,
           766.01,
           0.4806348638215141
          ],
          [
           2399,
           -850.149,
           0.1323025394404826
          ],
          [
           2400,
           -1599.405,
           0.1584007126158439
          ],
          [
           2403,
           3665.25,
           0.9064173010435486
          ],
          [
           2405,
           3142.88,
           1.3578588456497194
          ],
          [
           2406,
           361.79,
           0.8036277414464408
          ],
          [
           2407,
           -925.15,
           0.4832553567411377
          ],
          [
           2408,
           826.02,
           0.6479116735372923
          ],
          [
           2411,
           -9.94,
           0.3579307533833216
          ],
          [
           2412,
           619.82,
           0.7853284474789568
          ],
          [
           2413,
           845.44,
           0.7723481600625073
          ],
          [
           2414,
           543.07,
           0.7379919548835989
          ],
          [
           2415,
           577.7,
           0.7486739708340764
          ],
          [
           2416,
           -3.09,
           0.7359280191997408
          ],
          [
           2417,
           14064.286,
           1.487120311142368
          ],
          [
           2418,
           153.571,
           1.7916439029480582
          ],
          [
           2419,
           2415.476,
           1.6752209513202816
          ],
          [
           2420,
           -378.39,
           0.997259176700009
          ],
          [
           2421,
           813.22,
           0.7222922948369028
          ],
          [
           2422,
           560.2,
           0.9752687295695424
          ],
          [
           2423,
           786.68,
           0.7275717895034184
          ],
          [
           2424,
           705.08,
           0.8888243770553759
          ],
          [
           2425,
           716.21,
           0.9106965980682568
          ],
          [
           2426,
           557.06,
           0.6419021527813493
          ],
          [
           2428,
           -525,
           1.4508061768874445
          ],
          [
           2429,
           -52.67,
           -0.0320259880440536
          ],
          [
           2430,
           -133.11,
           0.0692495256815384
          ],
          [
           2431,
           1082.5,
           1.280990153687018
          ],
          [
           2432,
           749.42,
           0.3907264509249559
          ],
          [
           2433,
           1136.33,
           0.3416375114771401
          ],
          [
           2434,
           1073.21,
           0.537215224572873
          ],
          [
           2435,
           -286.75,
           0.090225526143989
          ],
          [
           2436,
           167.76,
           0.2031188263743475
          ],
          [
           2437,
           -267.86,
           0.4378591552822986
          ],
          [
           2438,
           80.2,
           0.7014095615407676
          ],
          [
           2439,
           60.82,
           0.7346861118263597
          ],
          [
           2440,
           -1673.22,
           0.5979662796950329
          ],
          [
           2441,
           996.41,
           0.5890951143358176
          ],
          [
           2442,
           917.02,
           0.3371017709651633
          ],
          [
           2443,
           1567.262,
           0.7851062723340565
          ],
          [
           2444,
           -83.45,
           0.2947425875878142
          ],
          [
           2445,
           681.53,
           0.6428844700570924
          ],
          [
           2446,
           1023.65,
           0.7766475570979345
          ],
          [
           2447,
           371.73,
           1.353091752060779
          ],
          [
           2448,
           697.08,
           0.6930771623131031
          ],
          [
           2449,
           -424.03,
           0.472665820027915
          ],
          [
           2450,
           -172.67,
           0.3998092757629417
          ],
          [
           2451,
           -754.4,
           0.3146965254048286
          ],
          [
           2452,
           -5.02,
           0.6645776478523189
          ],
          [
           2453,
           10105.952,
           1.1295249183546092
          ],
          [
           2455,
           894.48,
           0.2649362357333409
          ],
          [
           2456,
           911.08,
           0.5899792806737247
          ],
          [
           2457,
           -324.45,
           -0.0692791679191238
          ],
          [
           2458,
           788.95,
           0.1055985273587616
          ],
          [
           2459,
           525.94,
           0.140823520636582
          ],
          [
           2460,
           -231.37,
           0.850788306598341
          ],
          [
           2461,
           -623.06,
           0.0830026066534816
          ],
          [
           2462,
           -424.9,
           0.7742357666066138
          ],
          [
           2463,
           -818.33,
           -0.1006403565185518
          ],
          [
           2464,
           2358.929,
           0.7840645300724711
          ],
          [
           2465,
           1311.93,
           0.9084717896219914
          ],
          [
           2466,
           373.87,
           1.120657032065055
          ],
          [
           2467,
           382.06,
           0.5917464494492926
          ],
          [
           2468,
           3236.23,
           1.2131045232158622
          ],
          [
           2469,
           3248.68,
           1.0044016829838434
          ],
          [
           2470,
           628.25,
           1.0577057408110493
          ],
          [
           2471,
           1695.84,
           0.7125779644272754
          ],
          [
           2472,
           3622.05,
           1.6936036253715372
          ],
          [
           2473,
           398.9,
           0.9199339305533956
          ],
          [
           2474,
           123.51,
           0.3641892634282664
          ],
          [
           2475,
           656.59,
           0.4948837477708316
          ],
          [
           2477,
           713.35,
           0.8846716435498543
          ],
          [
           2478,
           162.1,
           0.5980742052676344
          ],
          [
           2479,
           -2.2,
           0.2556812867364115
          ],
          [
           2480,
           77,
           0.1357087901834939
          ],
          [
           2481,
           1081.2,
           0.8718960593318741
          ],
          [
           2482,
           -574.33,
           0.4083977401262704
          ],
          [
           2483,
           -1113.04,
           0.3385612837838874
          ],
          [
           2484,
           -1009.52,
           0.0133848881052793
          ],
          [
           2485,
           3.64,
           1.1571294221625532
          ],
          [
           2486,
           -270.536,
           0.2667238777181477
          ],
          [
           2487,
           -397.768,
           0.1538717665951852
          ],
          [
           2488,
           -85.91,
           0.5467296008023315
          ],
          [
           2489,
           -319.16,
           0.8432715781704054
          ],
          [
           2490,
           -609.22,
           -0.1837376216177286
          ],
          [
           2491,
           -102.92,
           0.3559184959452075
          ],
          [
           2492,
           12.05,
           0.1675174750252228
          ],
          [
           2493,
           220.39,
           0.3699340001702538
          ],
          [
           2494,
           -1395.97,
           0.4733466557678412
          ],
          [
           2495,
           190.28,
           0.8658426432460118
          ],
          [
           2496,
           9.72,
           0.5902442012938112
          ],
          [
           2497,
           582.8,
           1.6240983044327066
          ],
          [
           2498,
           1032.07,
           1.3102457251587882
          ],
          [
           2499,
           -435.26,
           0.6013481717398399
          ],
          [
           2500,
           -16.071,
           0.3132332419580859
          ],
          [
           2501,
           598.31,
           0.5696854936204021
          ],
          [
           2502,
           699.03,
           0.3873794869974682
          ],
          [
           2503,
           269.11,
           0.7334026256009043
          ],
          [
           2504,
           416.02,
           0.6339422244556099
          ],
          [
           2505,
           472.01,
           0.8915167983664141
          ],
          [
           2506,
           -407.01,
           0.5642823501022933
          ],
          [
           2507,
           161.5,
           0.3173309310141103
          ],
          [
           2508,
           207.45,
           0.7423225158860252
          ],
          [
           2509,
           435.53,
           0.458107582902624
          ],
          [
           2510,
           630.2,
           0.5821051753129733
          ],
          [
           2511,
           151.36,
           0.5496556887614918
          ],
          [
           2512,
           -244.64,
           0.5778933241824369
          ],
          [
           2513,
           -605.72,
           0.7710622181233697
          ],
          [
           2514,
           82.77,
           0.7182776160474678
          ],
          [
           2515,
           70.08,
           0.5892080298681082
          ],
          [
           2516,
           211.89,
           0.5364699482432744
          ],
          [
           2517,
           662.5,
           0.586774706475798
          ],
          [
           2518,
           1057.88,
           1.0254708412545392
          ],
          [
           2519,
           -339.76,
           0.5083989756074878
          ],
          [
           2520,
           214.58,
           0.4312370735718085
          ],
          [
           2521,
           473.32,
           0.8972723355972398
          ],
          [
           2522,
           286.34,
           0.6847619532968316
          ],
          [
           2523,
           151.51,
           0.6967632091902196
          ],
          [
           2524,
           181.22,
           0.4272291999980648
          ],
          [
           2525,
           235.92,
           0.8299296936899561
          ],
          [
           2526,
           279.78,
           0.3250074163584209
          ],
          [
           2527,
           -713.25,
           -0.0709743873004189
          ],
          [
           2528,
           143.4,
           0.2884236886283293
          ],
          [
           2529,
           1271.22,
           0.9741155849178132
          ],
          [
           2530,
           1092.38,
           0.8484892294840316
          ],
          [
           2531,
           1150.29,
           1.326706014560969
          ],
          [
           2532,
           898.13,
           1.2938967220355655
          ],
          [
           2533,
           1318.32,
           0.9679362739658082
          ],
          [
           2534,
           892.2,
           1.114235472374994
          ],
          [
           2535,
           1074.95,
           1.110878915863191
          ],
          [
           2536,
           1085.81,
           1.0397853637440564
          ],
          [
           2537,
           1158.18,
           1.047357690639723
          ],
          [
           2538,
           874.62,
           1.2819900244826528
          ],
          [
           2539,
           1306.45,
           1.1874896885118291
          ],
          [
           2540,
           1213.57,
           1.0076045618645129
          ],
          [
           2541,
           576.97,
           0.8452552055394715
          ],
          [
           2542,
           52.19,
           0.9333012538749584
          ],
          [
           2543,
           826.81,
           0.7670598697449194
          ],
          [
           2544,
           879.63,
           1.095450931833977
          ],
          [
           2547,
           -689.32,
           0.1881532948810527
          ],
          [
           2548,
           -59.39,
           0.7074265516155371
          ],
          [
           2549,
           -139.37,
           0.8857347749868305
          ],
          [
           2550,
           630.68,
           1.0202558546124694
          ],
          [
           2551,
           866.27,
           0.6693462168059856
          ],
          [
           2552,
           734.36,
           0.8704852265329084
          ],
          [
           2553,
           1004.76,
           0.5209334821778953
          ],
          [
           2554,
           1008.59,
           0.5140194862591425
          ],
          [
           2555,
           907.68,
           0.5115563746362248
          ],
          [
           2556,
           1064.62,
           0.6260101370016695
          ],
          [
           2557,
           949.52,
           0.5463333264219763
          ],
          [
           2558,
           935.2,
           0.4514359491544386
          ],
          [
           2559,
           2726.488,
           1.0481762808612345
          ],
          [
           2561,
           990.25,
           0.5816582733734537
          ],
          [
           2562,
           278.67,
           0.8823882259263565
          ],
          [
           2563,
           167.8,
           0.5281357893037573
          ],
          [
           2564,
           244.83,
           0.8270990725580214
          ],
          [
           2565,
           1145.91,
           1.172346438686079
          ],
          [
           2566,
           781.94,
           0.3535727422355101
          ],
          [
           2567,
           573.77,
           0.6834327110589307
          ],
          [
           2568,
           1128.79,
           1.5824341556778272
          ],
          [
           2569,
           582.47,
           1.271593230245804
          ],
          [
           2570,
           829.3,
           0.8469281213596362
          ],
          [
           2571,
           41.86,
           0.5167110111110063
          ],
          [
           2572,
           -183.66,
           0.538045161706016
          ],
          [
           2573,
           37.05,
           0.3981918763106602
          ],
          [
           2574,
           -117.72,
           0.9475463833310248
          ],
          [
           2575,
           689.59,
           0.8919091993160801
          ],
          [
           2576,
           622.5,
           0.8953225242564082
          ],
          [
           2577,
           137.94,
           0.6394732112649617
          ],
          [
           2578,
           570.54,
           0.9480169033848584
          ],
          [
           2579,
           -33.26,
           0.4536947423910522
          ],
          [
           2580,
           -23.13,
           0.3251788741083219
          ],
          [
           2581,
           327.66,
           0.2300055806697472
          ],
          [
           2582,
           -649.73,
           0.2603555581651253
          ],
          [
           2583,
           -294.25,
           0.3811731946805299
          ],
          [
           2584,
           492.93,
           0.5550525799009467
          ],
          [
           2585,
           -445.26,
           0.6194819785977543
          ],
          [
           2586,
           -327.083,
           0.3606864295261305
          ],
          [
           2587,
           564.76,
           0.611635379820104
          ],
          [
           2588,
           570.97,
           0.4528344429658926
          ],
          [
           2589,
           916.964,
           0.9362469865236004
          ],
          [
           2590,
           97.024,
           0.3196437960354972
          ],
          [
           2591,
           -336.3,
           0.9013441261848668
          ],
          [
           2592,
           209.05,
           0.4348388221001471
          ],
          [
           2593,
           -764.08,
           0.6078559141255138
          ],
          [
           2595,
           550.35,
           0.577974991745088
          ],
          [
           2596,
           1259.41,
           0.6249719558606168
          ],
          [
           2597,
           543.24,
           0.3915826897253947
          ],
          [
           2598,
           -585.49,
           0.2477310655764721
          ],
          [
           2599,
           569.07,
           0.3728682673711514
          ],
          [
           2600,
           785.58,
           0.5181486799160187
          ],
          [
           2601,
           403.47,
           0.6404406226160511
          ],
          [
           2602,
           -195.78,
           1.278143727249991
          ],
          [
           2603,
           -669.2,
           0.2734802898652315
          ],
          [
           2604,
           244.83,
           1.001657497884623
          ],
          [
           2605,
           -415.63,
           0.8200098045348483
          ],
          [
           2606,
           -261.62,
           0.720416725801778
          ],
          [
           2607,
           -257.96,
           0.665820416309697
          ],
          [
           2608,
           1204.69,
           0.6137320301903095
          ],
          [
           2609,
           3122.321,
           0.9835011892282974
          ],
          [
           2610,
           -278.27,
           0.3366543371217263
          ],
          [
           2611,
           80.59,
           0.1694326763158322
          ],
          [
           2612,
           -312.03,
           0.8811393007879307
          ],
          [
           2613,
           -311.85,
           0.4930705077241741
          ],
          [
           2614,
           268.54,
           0.8184802015837302
          ],
          [
           2615,
           32.67,
           0.3735800782856069
          ],
          [
           2616,
           -750.28,
           -0.0053261672679063
          ],
          [
           2617,
           -68.75,
           0.7963152964349369
          ],
          [
           2618,
           -913.38,
           0.0865438557892428
          ],
          [
           2619,
           -440.179,
           0.4729361703154939
          ],
          [
           2620,
           -176.63,
           0.5675501960557989
          ],
          [
           2621,
           -608.43,
           -0.1415896039300817
          ],
          [
           2622,
           -575.34,
           0.2185591257059282
          ],
          [
           2623,
           -553.274,
           0.1137482294589569
          ],
          [
           2624,
           -8.39,
           0.8246491234006363
          ],
          [
           2625,
           -296.89,
           0.5104414299822331
          ],
          [
           2626,
           -91.02,
           1.24666409156535
          ],
          [
           2627,
           -354.95,
           0.4306138448269658
          ],
          [
           2628,
           -379.87,
           0.5039512617387985
          ],
          [
           2629,
           -133.31,
           0.8623010103804347
          ],
          [
           2630,
           -167.9,
           0.3817000175390515
          ],
          [
           2631,
           -520.37,
           0.270561777437555
          ],
          [
           2632,
           -415.87,
           0.2447648508978703
          ],
          [
           2633,
           -750.98,
           -0.1116718998873516
          ],
          [
           2634,
           -896.59,
           -0.1382341777736879
          ],
          [
           2635,
           -794.7,
           0.2063986645843627
          ],
          [
           2636,
           -419.8,
           0.3127029199946216
          ],
          [
           2637,
           -995.77,
           -0.0574060812699599
          ],
          [
           2638,
           -555.34,
           0.4895900152337917
          ],
          [
           2639,
           -809.22,
           -0.0737006259356105
          ],
          [
           2640,
           -614.53,
           0.1930210535171328
          ],
          [
           2641,
           -609.821,
           -0.0791972504162661
          ],
          [
           2642,
           -881.36,
           0.1177319039250228
          ],
          [
           2643,
           -167.65,
           0.7117401115836746
          ],
          [
           2644,
           4.15,
           0.9186549915573056
          ],
          [
           2645,
           1.89,
           0.3953291768537443
          ],
          [
           2646,
           47.52,
           0.6826255299503154
          ],
          [
           2647,
           12.21,
           2.171243526133633
          ],
          [
           2648,
           -342.5,
           0.3404729570919311
          ],
          [
           2650,
           -625.31,
           -0.0441098674682329
          ],
          [
           2651,
           71.75,
           0.6727662267148613
          ],
          [
           2652,
           -441.05,
           0.6311386310117939
          ],
          [
           2653,
           -133.13,
           1.0758053908822918
          ],
          [
           2654,
           -257.81,
           0.6627244232746801
          ],
          [
           2655,
           -71.89,
           0.5760629834070556
          ],
          [
           2656,
           -625.3,
           -0.0656142456738955
          ],
          [
           2657,
           -554.11,
           0.3102565676512512
          ],
          [
           2658,
           -59.32,
           0.6106794523294319
          ],
          [
           2659,
           -75.74,
           0.1278715792389135
          ],
          [
           2660,
           -480.41,
           0.372346669442626
          ],
          [
           2661,
           -137.97,
           0.5011226703257883
          ],
          [
           2662,
           -225.48,
           0.6291679573492361
          ],
          [
           2663,
           -456.13,
           0.1632249715699814
          ],
          [
           2664,
           -111,
           0.3613951012233105
          ],
          [
           2665,
           -421.8,
           0.3895231550224389
          ],
          [
           2666,
           -903.9,
           -0.120818231494705
          ],
          [
           2667,
           -71.26,
           0.5888968391041915
          ],
          [
           2668,
           -43.09,
           0.6044850043438439
          ],
          [
           2669,
           -565.29,
           0.256660511020792
          ],
          [
           2670,
           -67.75,
           0.2543227181138592
          ],
          [
           2671,
           -89.41,
           0.7918356785819656
          ],
          [
           2672,
           -223.33,
           0.4711085091902482
          ],
          [
           2673,
           267.53,
           0.3231298102648701
          ],
          [
           2674,
           -166.34,
           0.8892306499593428
          ],
          [
           2675,
           1793.452,
           0.5949590753940566
          ],
          [
           2676,
           271.08,
           0.8584179564497934
          ],
          [
           2677,
           425.06,
           1.0130323126025471
          ],
          [
           2678,
           -934.97,
           0.0032872223654516
          ],
          [
           2680,
           5.39,
           0.0635891900026042
          ],
          [
           2681,
           -801.01,
           0.2882693183828317
          ],
          [
           2682,
           91.92,
           0.3828903962449388
          ],
          [
           2683,
           -93.17,
           0.4630322948228205
          ],
          [
           2684,
           190.44,
           0.739123135128243
          ],
          [
           2685,
           233.12,
           0.2974424241915558
          ],
          [
           2686,
           238.44,
           0.4606507158179767
          ],
          [
           2687,
           -94.35,
           0.1904872952956697
          ],
          [
           2688,
           313.49,
           0.2487583079561171
          ],
          [
           2689,
           569.58,
           1.080579939080999
          ],
          [
           2690,
           747.321,
           1.0582591234167662
          ],
          [
           2691,
           774.24,
           0.1050458807153145
          ],
          [
           2692,
           -60.58,
           0.2270692836288539
          ],
          [
           2693,
           -1599.405,
           0.6591084501129121
          ],
          [
           2694,
           -192.13,
           0.2582277876708234
          ],
          [
           2695,
           -298.81,
           0.8411006014253424
          ],
          [
           2696,
           57.85,
           0.3867366887428822
          ],
          [
           2698,
           279.01,
           0.3930783451394841
          ],
          [
           2699,
           211.85,
           0.5876144823331035
          ],
          [
           2700,
           196.76,
           0.345850111928649
          ],
          [
           2701,
           338.15,
           0.333123875106379
          ],
          [
           2702,
           -2306.25,
           -0.0824194683894106
          ],
          [
           2703,
           -270.536,
           0.9635664897636752
          ],
          [
           2704,
           807.21,
           1.73567260598079
          ],
          [
           2705,
           -887.79,
           0.7751767839761117
          ],
          [
           2706,
           -818.57,
           0.1223036929706866
          ],
          [
           2707,
           1.45,
           0.1629133380805356
          ],
          [
           2708,
           -7.08,
           0.4668168657486369
          ],
          [
           2709,
           -851.69,
           0.2065848937207528
          ],
          [
           2710,
           -49.06,
           0.4560590592565106
          ],
          [
           2711,
           -1581.49,
           0.1035411187312433
          ],
          [
           2712,
           -194.82,
           0.4232517709202721
          ],
          [
           2713,
           -235.51,
           0.2745245092763912
          ],
          [
           2714,
           432.14,
           0.8271366991416897
          ],
          [
           2715,
           761.66,
           1.3094231966283054
          ],
          [
           2716,
           759.99,
           0.8741850586791005
          ],
          [
           2717,
           634.226,
           0.7053624738509754
          ],
          [
           2718,
           977.8,
           1.3893727610731634
          ],
          [
           2719,
           916.964,
           0.7722369195195924
          ],
          [
           2720,
           -15.7,
           0.9987565273717802
          ],
          [
           2721,
           884.45,
           0.8860145524006828
          ],
          [
           2722,
           -370.44,
           0.6312865449742215
          ],
          [
           2723,
           130.62,
           0.7436079076607545
          ],
          [
           2724,
           14.86,
           -0.1314707680933082
          ],
          [
           2725,
           452.9,
           0.8318023586335501
          ],
          [
           2726,
           -26.4,
           0.9469730524447372
          ],
          [
           2727,
           95.29,
           0.479305324133529
          ],
          [
           2729,
           -1454.24,
           0.717204143890319
          ],
          [
           2730,
           194.52,
           0.6438778994052727
          ],
          [
           2731,
           1284.524,
           0.7448612613077161
          ],
          [
           2732,
           6.39,
           0.7705349077035102
          ],
          [
           2733,
           357.73,
           0.6654058141174772
          ],
          [
           2734,
           -638.19,
           0.6329390827789361
          ],
          [
           2735,
           924.37,
           0.6573509428783453
          ],
          [
           2736,
           -775.4,
           0.49218598817182
          ],
          [
           2737,
           115.07,
           0.8364675571556379
          ],
          [
           2738,
           32.19,
           0.6473978800894251
          ],
          [
           2739,
           500.42,
           0.6060814849005043
          ],
          [
           2740,
           -664.94,
           0.5555024029722606
          ],
          [
           2741,
           -779.464,
           0.3113410538945809
          ],
          [
           2742,
           -595.6,
           0.4371541403335595
          ],
          [
           2743,
           -636.49,
           0.7500761104982825
          ],
          [
           2744,
           -1027.57,
           0.5625062275125021
          ],
          [
           2745,
           -723.51,
           0.3744105396788706
          ],
          [
           2746,
           -778.93,
           0.680147654708982
          ],
          [
           2747,
           199.73,
           0.8974500793938036
          ],
          [
           2748,
           -707.81,
           0.5711468096987176
          ],
          [
           2749,
           -1048.4,
           0.2705172811664749
          ],
          [
           2750,
           -431.49,
           0.6999284576453508
          ],
          [
           2751,
           -623.16,
           0.5428532702600553
          ],
          [
           2752,
           -874.68,
           0.6701879917246725
          ],
          [
           2753,
           -593.58,
           0.6140043992620701
          ],
          [
           2754,
           -1556.44,
           0.7068004204969238
          ],
          [
           2755,
           -756.47,
           0.3490286481155191
          ],
          [
           2756,
           -627.78,
           0.4563107778124831
          ],
          [
           2757,
           -889.74,
           0.314675466299005
          ],
          [
           2758,
           -951.69,
           0.621491759389194
          ],
          [
           2759,
           379.762,
           1.07600423172416
          ],
          [
           2761,
           398.99,
           0.2967170139136295
          ],
          [
           2762,
           175.47,
           0.4702711150764553
          ],
          [
           2763,
           96.48,
           0.695498630543189
          ],
          [
           2764,
           -771.49,
           0.5221786469825789
          ],
          [
           2765,
           -10.37,
           -0.0358983297606343
          ],
          [
           2766,
           137.26,
           0.239129900642415
          ],
          [
           2767,
           -950.17,
           0.4512703306070751
          ],
          [
           2768,
           -656,
           0.4523415142533808
          ],
          [
           2769,
           -926.01,
           0.3164528774619057
          ],
          [
           2770,
           -949.107,
           0.4486359859266198
          ],
          [
           2771,
           -535.69,
           0.613389859960078
          ],
          [
           2772,
           -664.06,
           -0.0361165593890717
          ],
          [
           2774,
           -550.86,
           0.7267892650313801
          ],
          [
           2775,
           -151.48,
           0.5686600133694473
          ],
          [
           2776,
           -177.64,
           0.9507456224769708
          ],
          [
           2777,
           -24.52,
           0.7251903909218864
          ],
          [
           2778,
           -217.52,
           0.8339469878546417
          ],
          [
           2779,
           -992.14,
           0.3660828347969111
          ],
          [
           2780,
           1911.07,
           2.1668014680279093
          ],
          [
           2781,
           555.43,
           1.0167209715384296
          ],
          [
           2782,
           5129.762,
           1.0836047940494256
          ],
          [
           2783,
           -2108.333,
           0.3153881582724622
          ],
          [
           2784,
           4228.36,
           0.9073781934392412
          ],
          [
           2785,
           1295.02,
           0.9751727118400816
          ],
          [
           2786,
           2160.03,
           0.8123204944685352
          ],
          [
           2787,
           1943.12,
           1.4695740188520023
          ],
          [
           2788,
           1511.22,
           1.1794771228752028
          ],
          [
           2789,
           610.86,
           0.5863871545156893
          ],
          [
           2790,
           3768.88,
           1.2729989831871773
          ],
          [
           2791,
           -3.4,
           0.7620096673460433
          ],
          [
           2792,
           78.51,
           0.7845175858848688
          ],
          [
           2793,
           27.54,
           1.338410102010564
          ],
          [
           2794,
           -207.54,
           0.6402822372518617
          ],
          [
           2795,
           346.07,
           0.6026931784670477
          ]
         ],
         "hovertemplate": "<b>Earthquake: %{customdata[0]}</b><br>Source Lon: %{x:.3f}<br>Source Lat: %{y:.3f}<br>Source Depth(m): %{customdata[1]:.3f}<br>Magnitude: %{customdata[2]:.3f}<br><extra></extra>",
         "legendgroup": "",
         "marker": {
          "color": [
           -873.3,
           1258.86,
           1366.21,
           1030.06,
           -265.14,
           -121.14,
           -108.44,
           -393.28,
           -296.92,
           -142.22,
           -403.04,
           -385.08,
           -256.33,
           -191.3,
           251.04,
           -525,
           203.19,
           267.5,
           -116.28,
           311.44,
           -906.696,
           -1005.655,
           -496.726,
           1708.631,
           449.89,
           470.75,
           455.17,
           6826.19,
           -1571.131,
           634.95,
           217.68,
           360.13,
           4507.23,
           4391.01,
           4622.56,
           4960.119,
           540.13,
           517.66,
           427.63,
           85.59,
           1821.726,
           296.14,
           339.73,
           882.02,
           973.512,
           -414.91,
           92.76,
           230.87,
           218,
           260.72,
           348.39,
           452.72,
           433.14,
           513.09,
           315.71,
           538.17,
           890.11,
           1004.55,
           880.33,
           485.01,
           345.64,
           586.65,
           442.57,
           381.24,
           83.58,
           24.83,
           -32.01,
           339.67,
           161.22,
           61.85,
           -380.6,
           79.75,
           -170.43,
           229.52,
           98.89,
           1086.607,
           269.98,
           166.82,
           1850,
           -977.381,
           438.44,
           746.26,
           736.65,
           408.3,
           -445.61,
           -269.64,
           -67.47,
           724.28,
           602.01,
           971.53,
           453.34,
           -235.09,
           1470.68,
           518.89,
           480.95,
           72.44,
           -796.13,
           -119.23,
           183.11,
           43.09,
           33.2,
           2.46,
           -110.37,
           314.25,
           605.53,
           -9.27,
           1112.54,
           -185.46,
           -183.21,
           -153.36,
           165.88,
           -532.39,
           -182.25,
           -491.23,
           -561.15,
           -161.62,
           619.22,
           -468.452,
           367.22,
           11.08,
           -62.24,
           803.869,
           1145.1,
           -79.76,
           -95.58,
           1227.976,
           -697.62,
           623.07,
           201.19,
           209.13,
           -168.02,
           765.87,
           -416.75,
           -2306.25,
           -169.41,
           -16.071,
           2245.76,
           -818.66,
           445.82,
           9879.762,
           3682.21,
           -1655.952,
           299.82,
           1050.16,
           604.83,
           958.99,
           954.5,
           39.32,
           339.43,
           402.66,
           -22.7,
           -146.65,
           36.17,
           723.02,
           734.57,
           565.2,
           375.46,
           560.05,
           532.02,
           -16.071,
           -787.11,
           -991.94,
           516.38,
           -170.35,
           605.952,
           607.16,
           -650.9,
           -894.71,
           372.49,
           -977.381,
           676.637,
           610.36,
           438.11,
           469.82,
           -1344.91,
           -644.01,
           737.65,
           830.77,
           -749.59,
           1199.13,
           -1278.71,
           410.53,
           385.53,
           -834.7,
           504.91,
           -1161.51,
           482.97,
           84.4,
           382.13,
           739.97,
           -1629.85,
           -72.619,
           -930.58,
           888.69,
           -291.83,
           -1178.72,
           741.96,
           433.23,
           -737.61,
           422.73,
           209.74,
           -230.75,
           34.35,
           -104.61,
           138.68,
           -134.73,
           606.7,
           768.95,
           530.62,
           209.38,
           -683.91,
           -453.34,
           598.41,
           844.37,
           240.67,
           190.67,
           -478.98,
           -507.07,
           -214.13,
           1005.54,
           990.53,
           942.74,
           762.7,
           838.31,
           468.94,
           672.2,
           992.7,
           664.8,
           1015.14,
           1012.23,
           -2.21,
           971.64,
           465.48,
           578.5,
           957.82,
           1016.06,
           953.39,
           990.36,
           715.15,
           939.29,
           -432.77,
           18.11,
           -118.4,
           224.75,
           184.26,
           6939.286,
           989.87,
           963.5,
           938.08,
           990.71,
           985.77,
           934.08,
           1014.88,
           844.26,
           955.41,
           1011.12,
           1013.39,
           917.36,
           923.39,
           1010.67,
           1091.18,
           939.47,
           963.7,
           992.34,
           892.39,
           1424.02,
           197.26,
           948.77,
           1180.32,
           897.48,
           903.2,
           881.26,
           1002.74,
           992.92,
           407.64,
           960.5,
           973.89,
           13725,
           -368.07,
           -177.53,
           3320.238,
           64.81,
           479.38,
           442.14,
           1172.52,
           68.45,
           771.88,
           395.31,
           -737.054,
           779.61,
           14177.381,
           983.46,
           -107.76,
           1312.798,
           906.37,
           74.39,
           758.74,
           593.6,
           1195.37,
           -72.56,
           -5.34,
           -165.18,
           4.9,
           34.24,
           251.13,
           -74.98,
           -109.53,
           -84.57,
           300.96,
           824.29,
           287.76,
           101.7,
           297.38,
           1001.786,
           539.71,
           23.4,
           -637.83,
           250.79,
           771.84,
           -1165.8,
           210.35,
           -116.12,
           483.15,
           -51.07,
           417.77,
           -363.89,
           -233.17,
           650.52,
           381.32,
           234.57,
           8748.81,
           -721.81,
           -274.92,
           -164.9,
           588.12,
           658.39,
           935.37,
           338.51,
           443.04,
           662.95,
           -1169.48,
           525.28,
           573.01,
           8748.81,
           572.81,
           3998.81,
           231.9,
           35.78,
           -183.92,
           -120.3,
           45.56,
           -654.28,
           209.19,
           579.23,
           -1501.07,
           163.39,
           -1458.15,
           -53.08,
           848.13,
           433.08,
           1355.66,
           -13.17,
           -692.81,
           -115.19,
           422.5,
           864.83,
           640.64,
           428.35,
           331.77,
           881.4,
           -64.16,
           719.23,
           -2334.524,
           6543.452,
           585.3,
           -738.58,
           699.34,
           716.53,
           842.77,
           3098.7,
           2698.214,
           53.63,
           2914.39,
           3230.02,
           2932.39,
           1907.26,
           766.01,
           -850.149,
           -1599.405,
           3665.25,
           3142.88,
           361.79,
           -925.15,
           826.02,
           -9.94,
           619.82,
           845.44,
           543.07,
           577.7,
           -3.09,
           14064.286,
           153.571,
           2415.476,
           -378.39,
           813.22,
           560.2,
           786.68,
           705.08,
           716.21,
           557.06,
           -525,
           -52.67,
           -133.11,
           1082.5,
           749.42,
           1136.33,
           1073.21,
           -286.75,
           167.76,
           -267.86,
           80.2,
           60.82,
           -1673.22,
           996.41,
           917.02,
           1567.262,
           -83.45,
           681.53,
           1023.65,
           371.73,
           697.08,
           -424.03,
           -172.67,
           -754.4,
           -5.02,
           10105.952,
           894.48,
           911.08,
           -324.45,
           788.95,
           525.94,
           -231.37,
           -623.06,
           -424.9,
           -818.33,
           2358.929,
           1311.93,
           373.87,
           382.06,
           3236.23,
           3248.68,
           628.25,
           1695.84,
           3622.05,
           398.9,
           123.51,
           656.59,
           713.35,
           162.1,
           -2.2,
           77,
           1081.2,
           -574.33,
           -1113.04,
           -1009.52,
           3.64,
           -270.536,
           -397.768,
           -85.91,
           -319.16,
           -609.22,
           -102.92,
           12.05,
           220.39,
           -1395.97,
           190.28,
           9.72,
           582.8,
           1032.07,
           -435.26,
           -16.071,
           598.31,
           699.03,
           269.11,
           416.02,
           472.01,
           -407.01,
           161.5,
           207.45,
           435.53,
           630.2,
           151.36,
           -244.64,
           -605.72,
           82.77,
           70.08,
           211.89,
           662.5,
           1057.88,
           -339.76,
           214.58,
           473.32,
           286.34,
           151.51,
           181.22,
           235.92,
           279.78,
           -713.25,
           143.4,
           1271.22,
           1092.38,
           1150.29,
           898.13,
           1318.32,
           892.2,
           1074.95,
           1085.81,
           1158.18,
           874.62,
           1306.45,
           1213.57,
           576.97,
           52.19,
           826.81,
           879.63,
           -689.32,
           -59.39,
           -139.37,
           630.68,
           866.27,
           734.36,
           1004.76,
           1008.59,
           907.68,
           1064.62,
           949.52,
           935.2,
           2726.488,
           990.25,
           278.67,
           167.8,
           244.83,
           1145.91,
           781.94,
           573.77,
           1128.79,
           582.47,
           829.3,
           41.86,
           -183.66,
           37.05,
           -117.72,
           689.59,
           622.5,
           137.94,
           570.54,
           -33.26,
           -23.13,
           327.66,
           -649.73,
           -294.25,
           492.93,
           -445.26,
           -327.083,
           564.76,
           570.97,
           916.964,
           97.024,
           -336.3,
           209.05,
           -764.08,
           550.35,
           1259.41,
           543.24,
           -585.49,
           569.07,
           785.58,
           403.47,
           -195.78,
           -669.2,
           244.83,
           -415.63,
           -261.62,
           -257.96,
           1204.69,
           3122.321,
           -278.27,
           80.59,
           -312.03,
           -311.85,
           268.54,
           32.67,
           -750.28,
           -68.75,
           -913.38,
           -440.179,
           -176.63,
           -608.43,
           -575.34,
           -553.274,
           -8.39,
           -296.89,
           -91.02,
           -354.95,
           -379.87,
           -133.31,
           -167.9,
           -520.37,
           -415.87,
           -750.98,
           -896.59,
           -794.7,
           -419.8,
           -995.77,
           -555.34,
           -809.22,
           -614.53,
           -609.821,
           -881.36,
           -167.65,
           4.15,
           1.89,
           47.52,
           12.21,
           -342.5,
           -625.31,
           71.75,
           -441.05,
           -133.13,
           -257.81,
           -71.89,
           -625.3,
           -554.11,
           -59.32,
           -75.74,
           -480.41,
           -137.97,
           -225.48,
           -456.13,
           -111,
           -421.8,
           -903.9,
           -71.26,
           -43.09,
           -565.29,
           -67.75,
           -89.41,
           -223.33,
           267.53,
           -166.34,
           1793.452,
           271.08,
           425.06,
           -934.97,
           5.39,
           -801.01,
           91.92,
           -93.17,
           190.44,
           233.12,
           238.44,
           -94.35,
           313.49,
           569.58,
           747.321,
           774.24,
           -60.58,
           -1599.405,
           -192.13,
           -298.81,
           57.85,
           279.01,
           211.85,
           196.76,
           338.15,
           -2306.25,
           -270.536,
           807.21,
           -887.79,
           -818.57,
           1.45,
           -7.08,
           -851.69,
           -49.06,
           -1581.49,
           -194.82,
           -235.51,
           432.14,
           761.66,
           759.99,
           634.226,
           977.8,
           916.964,
           -15.7,
           884.45,
           -370.44,
           130.62,
           14.86,
           452.9,
           -26.4,
           95.29,
           -1454.24,
           194.52,
           1284.524,
           6.39,
           357.73,
           -638.19,
           924.37,
           -775.4,
           115.07,
           32.19,
           500.42,
           -664.94,
           -779.464,
           -595.6,
           -636.49,
           -1027.57,
           -723.51,
           -778.93,
           199.73,
           -707.81,
           -1048.4,
           -431.49,
           -623.16,
           -874.68,
           -593.58,
           -1556.44,
           -756.47,
           -627.78,
           -889.74,
           -951.69,
           379.762,
           398.99,
           175.47,
           96.48,
           -771.49,
           -10.37,
           137.26,
           -950.17,
           -656,
           -926.01,
           -949.107,
           -535.69,
           -664.06,
           -550.86,
           -151.48,
           -177.64,
           -24.52,
           -217.52,
           -992.14,
           1911.07,
           555.43,
           5129.762,
           -2108.333,
           4228.36,
           1295.02,
           2160.03,
           1943.12,
           1511.22,
           610.86,
           3768.88,
           -3.4,
           78.51,
           27.54,
           -207.54,
           346.07
          ],
          "coloraxis": "coloraxis",
          "size": [
           0.26121926379333965,
           0.5281763496061278,
           0.6523560339859846,
           0.4166961452522154,
           0.48757248288339333,
           0.9357870939555013,
           0.5214916621019866,
           0.35219402608228434,
           0.40704738492157877,
           0.7585852770251673,
           0.32973477042076427,
           0.40003456308408647,
           0.3860350052084138,
           0.35606272958091095,
           0.5422982733466973,
           0.08479402862903412,
           0.420038170101481,
           0.5738187115779918,
           0.35794950358947086,
           0.4752052918028508,
           0.22862979119177923,
           0.503653232667202,
           0.3637508306737612,
           0.43651051760794535,
           0.24379567163332694,
           0.24619587857521694,
           0.2430386915873303,
           0.6032619912864049,
           0.16641224583391515,
           0.48213041478339635,
           0.32147061149344797,
           0.30728685087729324,
           0.6966726872765974,
           0.6562623151983384,
           0.6274930430251674,
           0.6120651949482874,
           0.5360555325691848,
           0.36348190592781243,
           0.47543536803496744,
           0.3305636173604885,
           0.38216724524970747,
           0.4465615499956643,
           0.30544600653504506,
           0.4622590109655616,
           0.36905901352575654,
           0.22247196838224406,
           0.22632557351450872,
           0.38881838468332763,
           0.6786315569705735,
           0.22024333775886507,
           0.3401289228549742,
           0.3395029746477791,
           0.25859315640528757,
           0.19541573199961654,
           0.3628654369069707,
           0.5313618060381308,
           0.29218490470439684,
           0.37812780330983653,
           0.46891344292339254,
           0.47765867189381356,
           0.41217429082240087,
           0.2343418760325833,
           0.22497984246498448,
           0.27784405630312076,
           0.2325184119862945,
           0.2432993411964393,
           0.25909756084526975,
           0.47270896187829387,
           0.7233864707183877,
           0.45717803872967533,
           0.3917091999888866,
           0.15869809927691947,
           0.24914041142402124,
           0.5656457127450744,
           0.30956510474674503,
           0.33217726794297087,
           0.2791532311650209,
           0.20045752424281502,
           0.6352498980757324,
           0.03864073572510513,
           0.4958138380261185,
           0.32332865944972355,
           0.30417970051538884,
           0.29451874844039855,
           0.3858298764083013,
           0.5601672376006379,
           0.38433832881365154,
           0.5154981453250481,
           0.6049408150815766,
           0.37866749260225846,
           0.33216728702875364,
           0.18472717927930818,
           0.24811395804479183,
           0.6367063426081525,
           0.3203991819164251,
           0.17520068229812288,
           0.44827108343750455,
           0.30175848769773883,
           0.4261408206478536,
           0.22759922393755244,
           0.18258503257841457,
           0.20145640097048936,
           0.29438544570723485,
           0.2940499999151621,
           0.4527959222673185,
           0.16759170903143017,
           0.4307729224482384,
           0.3486192005416716,
           0.43765350817530324,
           0.37366987344690705,
           0.4113462112239352,
           0.4212146711621607,
           0.41764954361201473,
           0.27119378495586366,
           0.3899373649915553,
           0.41241798139134894,
           0.2715593307484723,
           0.2503290784673597,
           0.3296150446630359,
           0.37960930512974683,
           0.08856697742584055,
           0.37084015429552425,
           0.4684134220296294,
           0.2345279111037458,
           0.4430902757977945,
           0.32023043048114147,
           0.0036865692628693966,
           0.33996748117187253,
           0.11357670312034496,
           0.3062890597839404,
           0.48072253553471195,
           0.42071706802266057,
           0.30852960719446176,
           0.0028692454614197955,
           0.2979737115189588,
           0.13137686304730065,
           0.2698357468196777,
           0.31460172649430707,
           0.45512508907167587,
           0.6846457766535676,
           0.31187309073276276,
           0.2740611853652306,
           0.31868833545154374,
           0.2541660647404018,
           0.19640281684255897,
           0.31814427183103383,
           0.31855774111641433,
           0.47606415512131683,
           0.4909511745310951,
           0.3081888591093766,
           0.1650530762682359,
           0.3368878690137922,
           0.2547085896276976,
           0.24930755182029882,
           0.4061596624930957,
           0.3190313095833409,
           0.3768285017179226,
           0.5555221505416276,
           0.5802374248094132,
           0.21899608160520923,
           0.22521479733565367,
           0.2070449333964052,
           0.6448971138285611,
           0.6220917929074133,
           0.60389562651715,
           0.558347947577639,
           0.5090003582723345,
           0.5699038836613338,
           0.6769481105559996,
           0.4489507904006101,
           0.6017188411990725,
           0.6033119843042845,
           0.4352910804250225,
           0.4630622826072723,
           0.2623897312573501,
           0.08753792773240042,
           0.43589865511000986,
           0.3761975524296307,
           0.0799844090379353,
           0.5334998157662495,
           0.20188248269130082,
           0.48305803933627284,
           0.3684956724287718,
           0.26850929917402216,
           0.6986395820732101,
           0.21859612546730642,
           0.5937711388293827,
           0.3406717337417768,
           0.35547031869826756,
           0.4970003948819657,
           0.25875635773834316,
           0.3069907251133875,
           0.31253511300675185,
           0.3830079174818163,
           0.26879936407706945,
           0.24848852466113733,
           0.6653039399887125,
           0.3291466915227124,
           0.04214972852871979,
           0.2956996923660366,
           0.35618495265499844,
           0.3357466654333339,
           0.3753263785098208,
           0.2226038977569129,
           0.27544658549662404,
           0.2921110320170848,
           0.34330631220665225,
           0.5624450589426095,
           0.3654431703553306,
           0.3075464422801731,
           0.1081413156833812,
           0.3760937692697295,
           0.6689971880308415,
           0.3284771530342664,
           0.4027425772906132,
           0.14049375094756186,
           0.4854116466343103,
           0.40766030924340824,
           0.6066596912457497,
           0.4478885922158546,
           0.38908887508255663,
           0.2165716141592907,
           0.21972755168513097,
           0.1512829107702942,
           0.11990453309273666,
           0.31764671476453027,
           0.4220807933587257,
           0.24754026937680862,
           0.3557482746011025,
           0.17829603066736466,
           0.3456848147796606,
           0.20071179415025356,
           0.1823219933262247,
           0.3363969470449899,
           0.1271606744721593,
           0.3774108060546108,
           0.1398308176655282,
           0.18960349519615158,
           0.21965025787354464,
           0.13129045095031192,
           0.16955279012700716,
           0.29995752112665236,
           0.09435688632476708,
           0.29832737359144035,
           0.23121960586799384,
           0.4787473864972164,
           0.2062917465288081,
           0.18662720573834687,
           0.2737514325064238,
           0.4041429293028169,
           0.26676409746075735,
           0.33858220843080145,
           0.25475388193623166,
           0.1858892685203044,
           0.2835991948363934,
           0.23466756946358772,
           0.5437207928788274,
           0.2903134207306633,
           0.23997369336182006,
           0.24204173294955836,
           0.7349564041282917,
           0.267552004379701,
           0.3318721962617278,
           0.34620559955422825,
           0.21393539420162966,
           0.23654778322371203,
           0.13211657795387519,
           0.4581151894400954,
           0.49023074746284157,
           0.12277463381661775,
           0.1404062262730652,
           0.18482690002438654,
           0.43294334013571145,
           0.31093558492940215,
           0.3861217751443438,
           0.26031679961141513,
           0.37146166246034745,
           0.7091019111319894,
           0.34024844421863604,
           0.3065047603698797,
           0.5314955367155735,
           0.06086823038335067,
           0.4802596349171793,
           0.41039521254068173,
           0.2501558579861811,
           0.10104065840751614,
           0.25772004426068473,
           0.28538378274972487,
           0.27959582760705826,
           0.29244744158036023,
           0.7631913031503885,
           0.3351483227216658,
           0.5958125731337792,
           0.4771023816605813,
           0.4969746980531421,
           0.416760221939706,
           0.4583721840153839,
           0.3504458126868318,
           0.11290043486039872,
           0.2760473870776104,
           0.28447482363965754,
           0.20830681745362703,
           0.09259486416697758,
           0.2623388953493824,
           0.4967295596305281,
           0.7856336127425101,
           0.6060959120136575,
           0.39570494731941414,
           0.1906722065502593,
           0.2569626576162591,
           0.3414180360564811,
           0.33156981612485803,
           0.5253182623587321,
           0.4712900869101929,
           0.22697860304963616,
           0.3909998216759458,
           0.26228633373752286,
           0.41405458962048647,
           0.49382377761854523,
           0.28965326631852245,
           0.2950384972953864,
           0.25685876871542396,
           0.4623232263603429,
           0.32811178197354235,
           0.3984809552668715,
           0.299022799969095,
           0.49911741740423904,
           0.4776622046092641,
           0.529731670293361,
           0.7782746566978322,
           0.7470866249803136,
           0.2244753802333119,
           0.28368805366224087,
           0.34714604617394773,
           0.3991996034470699,
           0.2155198436039158,
           0.22847242441213042,
           0.45169282653160725,
           0.36641039867678354,
           0.654201179916653,
           0.40506896648132434,
           0.4998113999360882,
           0.4239149290104203,
           0.6798137833972198,
           0.8318362640405405,
           0.3700877554973243,
           0.38421356753252506,
           0.06273909904761235,
           0.0728262717562891,
           0.33334902378781506,
           0.42538248713263227,
           0.2929636398367141,
           0.2722219704036216,
           0.9599291509697567,
           0.3139121936235428,
           0.2300507006515016,
           0.2319417571295732,
           0.361709304737318,
           0.22479586756608919,
           0.3800256566819068,
           0.29124310454175334,
           0.3212857661678075,
           0.033455997831041764,
           0.29805489929273776,
           0.2228038045767661,
           0.3969535215580954,
           0.3348949724351008,
           0.14778279211345646,
           0.31859052705659413,
           0.2202742720314732,
           0.6140644616010955,
           0.31112956064002817,
           0.5039261091665238,
           0.41628981085836414,
           0.4742939001850607,
           0.3257231359860635,
           0.3031195858315173,
           0.4529815474756212,
           0.28256390215710697,
           0.48477472786986003,
           0.37687334370594,
           0.25098333289821373,
           0.5439161926641743,
           0.6909130370826768,
           0.48603170858166694,
           0.33760600639119875,
           0.2821137171503063,
           0.1342007180594885,
           0.14528283359963742,
           0.46291450088928016,
           0.6546109588494881,
           0.4192667801035359,
           0.2832264619049785,
           0.3531447782135332,
           0.2300096438119081,
           0.41149631706429673,
           0.405984473613536,
           0.3913957346717172,
           0.39593165885957043,
           0.390519321845338,
           0.7094994939915144,
           0.8388099099511204,
           0.7893730166944595,
           0.5014888545478403,
           0.384729158991899,
           0.49215101031476427,
           0.3869710005757828,
           0.45544398504068234,
           0.46473162669880624,
           0.350592944301221,
           0.6940793560052481,
           0.06442159153252403,
           0.10742640021984358,
           0.6219700640241368,
           0.24393574150978412,
           0.2230910143693552,
           0.30613954037312985,
           0.11633347808821151,
           0.16427156894442074,
           0.26394978892597926,
           0.37586168533284736,
           0.3899919684206559,
           0.33193637325970643,
           0.3281693939073201,
           0.22116499448757604,
           0.4114019744216378,
           0.20317793611303372,
           0.35101006750266966,
           0.40781013452778575,
           0.6525866990827848,
           0.37232348323926934,
           0.27872980734666736,
           0.24779259821807362,
           0.21165101363011704,
           0.3602216817081672,
           0.5576531010324786,
           0.19052120980264775,
           0.32854483909451987,
           0.048602704867949556,
           0.12286134402412298,
           0.13781899806307737,
           0.4392926581004484,
           0.11326639642724048,
           0.4067860114712079,
           0.03528574535511382,
           0.4109596174785532,
           0.46378690217381585,
           0.5538875140775066,
           0.3292952352398054,
           0.5931436632127786,
           0.5045217902001495,
           0.5271563908532543,
           0.3806041449048476,
           0.7971788855728696,
           0.4686540922750453,
           0.23266720650647787,
           0.2881642470928996,
           0.4536806021323688,
           0.33198220189519256,
           0.18659126369442797,
           0.13564712061184825,
           0.4482556821793423,
           0.2514395337237632,
           0.22178475011494306,
           0.08370449585248636,
           0.5693748525348759,
           0.1912802995246346,
           0.14335969887527208,
           0.3101796475468706,
           0.4361008158070212,
           0,
           0.22915517521459047,
           0.14915410128163004,
           0.2351066046932654,
           0.2790189118860168,
           0.4456852089119086,
           0.32865733282735854,
           0.7676647126028456,
           0.634392911442029,
           0.3333724323329999,
           0.21102965687400124,
           0.31992745076772233,
           0.24251451402754234,
           0.38944695929112366,
           0.34721290521555703,
           0.4565872728812218,
           0.31763310394331634,
           0.21276966615592824,
           0.39323462879890686,
           0.2725479161928576,
           0.3252012431731956,
           0.311422157688334,
           0.32341275703844274,
           0.4054384217097614,
           0.3830243985129891,
           0.3282173414386171,
           0.30582307230701455,
           0.3271840748264702,
           0.5134684258409141,
           0.2939032432835856,
           0.2611378421226972,
           0.4590312572995587,
           0.36879258065694587,
           0.37388869614149556,
           0.2594359713551115,
           0.4304354267262541,
           0.2160293463242024,
           0.04788286072701374,
           0.2004947303620025,
           0.49166134836873077,
           0.43831639673359746,
           0.6413824745717377,
           0.6274506040107618,
           0.489037416131463,
           0.5511607153105951,
           0.5497354145115354,
           0.5195468279982213,
           0.5227622791718222,
           0.6223946410091997,
           0.5822667885815724,
           0.505881834582497,
           0.436943127165172,
           0.4743302834979597,
           0.40373889711607114,
           0.543184201121445,
           0.15791672762989514,
           0.37841669095582625,
           0.45413204160055576,
           0.5112539764187488,
           0.3622465679617228,
           0.4476565976387918,
           0.299225793989286,
           0.29628989111589743,
           0.2952439754722988,
           0.34384468825077263,
           0.31001137682388974,
           0.26971492801616986,
           0.5231098786514435,
           0.3250114743761386,
           0.4527109902840612,
           0.3022841229837382,
           0.4292334548401873,
           0.5758364824028727,
           0.22815909347871852,
           0.36822814206722987,
           0.749972788065406,
           0.6179798310450798,
           0.43765350050369783,
           0.2974327982913198,
           0.3064919581128218,
           0.24710579889751128,
           0.4803792191631404,
           0.4567538988221658,
           0.4582033053040149,
           0.34956153837315074,
           0.4805790169637568,
           0.27067408356553574,
           0.21610215274562852,
           0.17568854114393523,
           0.1885761082155735,
           0.23987912464338496,
           0.3137138495536293,
           0.3410726242748587,
           0.23117979166864283,
           0.33774070852478594,
           0.27030877302963424,
           0.47558113540024755,
           0.21375178230726014,
           0.4607602692669546,
           0.2626672592611846,
           0.33613582701733163,
           0.32344743568660334,
           0.3434038434728856,
           0.24429932777510097,
           0.18321534658052963,
           0.23635258800127393,
           0.2980432782547472,
           0.34997233204424744,
           0.620761380702139,
           0.1941492873096316,
           0.5033565218065048,
           0.426223125848959,
           0.3839327326439276,
           0.3607494007765394,
           0.3386310130489298,
           0.4956467748843729,
           0.22097499982717497,
           0.14996735674754186,
           0.4521806568928299,
           0.2873942876185693,
           0.4255736077190523,
           0.23665484558626773,
           0.07575918580605258,
           0.41616168305502,
           0.1147701235967731,
           0.2788446066892547,
           0.31902073541394915,
           0.017897390697204495,
           0.17082801180413032,
           0.12632196709859259,
           0.4281931283986698,
           0.29477053446194973,
           0.6073941247844591,
           0.26087319934820563,
           0.2920146023181378,
           0.4441813187984746,
           0.2401028304080796,
           0.19290999398011208,
           0.1819557973559814,
           0.030601400693219285,
           0.01932221151135632,
           0.16566429270911315,
           0.2108044652779037,
           0.05364439560929442,
           0.28591635965572426,
           0.04672521297357887,
           0.15998373298173046,
           0.04439117115516745,
           0.12801356215433243,
           0.380248365902385,
           0.46811101404392785,
           0.24589020553298357,
           0.367885387260317,
           0.9999999999575369,
           0.2225965074870935,
           0.059290391465294454,
           0.36369881309412905,
           0.3460224101466797,
           0.5348420787356207,
           0.35943474352850086,
           0.3226355360500492,
           0.05015894757867023,
           0.209765666158173,
           0.33733479126657595,
           0.1323191912346934,
           0.23613110090826625,
           0.29081349231537157,
           0.3451855993448796,
           0.14733136760108326,
           0.2314807162419994,
           0.24342478374538126,
           0.026717576988006895,
           0.32808519992903407,
           0.33470443136274414,
           0.18700707351323434,
           0.18601437218776268,
           0.41425949464172485,
           0.2780685235656538,
           0.21523205497634432,
           0.4556165014552352,
           0.3306594185360051,
           0.4425324504267748,
           0.5081866304162074,
           0.07941670537525022,
           0.10502284141254757,
           0.200429179839172,
           0.24060830311938916,
           0.27463910572305394,
           0.39187606983095025,
           0.20432437272302734,
           0.27362781142585046,
           0.1589078185423411,
           0.1836515464119305,
           0.5368695039670555,
           0.5273913747325188,
           0.12262667265787816,
           0.17444169590121542,
           0.35789928615761396,
           0.18767258909558257,
           0.435178949936866,
           0.24224156141593756,
           0.2449344306995783,
           0.3275406704017986,
           0.2248798186896583,
           0.21947585321253285,
           0.04302291477821752,
           0.48718186658444435,
           0.8150427146093083,
           0.40718559741708965,
           0.1299548893916375,
           0.14719903809614004,
           0.27624615507428524,
           0.16574337153170163,
           0.27167804780856825,
           0.12198770279374821,
           0.257747028290144,
           0.1945926961293211,
           0.4292494322859952,
           0.6340436396309858,
           0.44922766420531934,
           0.37754021779745517,
           0.6679927710360514,
           0.4059372373360752,
           0.5021246773327223,
           0.45425084400120663,
           0.3460852191260903,
           0.3937804470853513,
           0.022194170671857666,
           0.4312306199044682,
           0.4801357646086058,
           0.281549152253811,
           0.38256856804567163,
           0.35143190924398754,
           0.39431266096235207,
           0.40521450891099414,
           0.3605733474809119,
           0.34678693931022947,
           0.35715299261035127,
           0.2870186924452656,
           0.4332116117804941,
           0.35292660515158064,
           0.33538234785397253,
           0.31390485875628227,
           0.21022617355727433,
           0.26365041712447573,
           0.39652705201823135,
           0.3168789057233383,
           0.23700748594350432,
           0.3668332025141273,
           0.4591067329766043,
           0.32054797211654446,
           0.19289109944623406,
           0.37523276144665485,
           0.3085336341400062,
           0.3626040124021825,
           0.3387466696315776,
           0.37815081574099296,
           0.22622952638891955,
           0.27178493552450694,
           0.21164207126306545,
           0.3419260412091188,
           0.5349265128900298,
           0.20401634041517291,
           0.2777129393544779,
           0.3733517157719565,
           0.2997545306230462,
           0.06277727190809149,
           0.1795630180080038,
           0.26964460110611604,
           0.27009945979884187,
           0.21239681665222596,
           0.26852597445262505,
           0.3384857166712736,
           0.0626846046573848,
           0.38663871576205844,
           0.31949199919228594,
           0.4817377179982012,
           0.3859597828920639,
           0.43214129777679355,
           0.23347127721862446,
           0.9981137606091766,
           0.509752952481778,
           0.5381539537263185,
           0.21194470297377255,
           0.46332252640429084,
           0.4921102381287328,
           0.4229579998952635,
           0.7020487794469946,
           0.5788643980172418,
           0.3270195079209295,
           0.6185767585163064,
           0.40159442033183707,
           0.41115199940603103,
           0.6463524028704307,
           0.3499050765741415,
           0.3339435650269644
          ],
          "sizemode": "area",
          "sizeref": 0.0024999999998938423,
          "symbol": "circle"
         },
         "mode": "markers",
         "name": "",
         "orientation": "v",
         "showlegend": false,
         "type": "scatter",
         "x": [
          126.3693848,
          126.3575602,
          126.3576335,
          126.348315,
          126.3640869,
          126.3634684,
          126.3647542,
          126.3714844,
          126.3662191,
          126.3628418,
          126.3634603,
          126.3657633,
          126.3642334,
          126.3648682,
          126.3975423,
          126.3904962,
          126.4,
          126.3973958,
          126.3955973,
          126.3740723,
          126.3702202,
          126.383672,
          126.362991,
          126.4000388,
          126.3941976,
          126.3945068,
          126.3918213,
          126.4027227,
          126.3870052,
          126.4022298,
          126.3944336,
          126.3905355,
          126.4455973,
          126.4487549,
          126.4412191,
          126.4368612,
          126.3967285,
          126.4033122,
          126.4008545,
          126.3936686,
          126.3967846,
          126.3998942,
          126.3990479,
          126.4133219,
          126.4180508,
          126.3992594,
          126.3963623,
          126.3994222,
          126.3761882,
          126.4,
          126.3995524,
          126.4007731,
          126.4005127,
          126.3995768,
          126.399821,
          126.4015137,
          126.4069499,
          126.4039225,
          126.4074463,
          126.3993001,
          126.3995117,
          126.4015951,
          126.4022868,
          126.4003092,
          126.3955241,
          126.395752,
          126.3977376,
          126.3992513,
          126.4017741,
          126.4002279,
          126.3937744,
          126.3962891,
          126.3961751,
          126.3981527,
          126.3986491,
          126.3995253,
          126.3722249,
          126.3711263,
          126.4066074,
          126.4036297,
          126.403068,
          126.4083415,
          126.4061523,
          126.3993164,
          126.3582031,
          126.4093669,
          126.3599365,
          126.413387,
          126.3979167,
          126.3832357,
          126.3731527,
          126.389388,
          126.3988444,
          126.3992513,
          126.4007812,
          126.3951335,
          126.400179,
          126.3959066,
          126.4007161,
          126.3955404,
          126.3953288,
          126.3963704,
          126.3942627,
          126.416569,
          126.4045736,
          126.4051107,
          126.4206868,
          126.4034668,
          126.4035889,
          126.4039551,
          126.3984782,
          126.3560384,
          126.4016764,
          126.3986735,
          126.3544027,
          126.3618001,
          126.4159098,
          126.4292384,
          126.3971436,
          126.3973226,
          126.3984945,
          126.3760184,
          126.4068197,
          126.3984212,
          126.398234,
          126.4128524,
          126.4041667,
          126.4054036,
          126.3995605,
          126.398348,
          126.3639974,
          126.4054199,
          126.3565755,
          126.3504457,
          126.3611654,
          126.3562298,
          126.346403,
          126.4141927,
          126.4145833,
          126.473411,
          126.360498,
          126.3141294,
          126.4116862,
          126.4076742,
          126.4134196,
          126.40389,
          126.4052979,
          126.3969889,
          126.4059001,
          126.4011882,
          126.3952393,
          126.3619873,
          126.3960856,
          126.4043864,
          126.404362,
          126.4056071,
          126.4077067,
          126.4258789,
          126.416512,
          126.4324963,
          126.4373779,
          126.4339274,
          126.4205811,
          126.4353027,
          126.4231983,
          126.3992676,
          126.4351074,
          126.43632,
          126.4169027,
          126.4166339,
          126.4187188,
          126.4181559,
          126.4192952,
          126.4179932,
          126.4336426,
          126.4364176,
          126.4283854,
          126.3993327,
          126.4308268,
          126.4200114,
          126.4360189,
          126.4264893,
          126.4332438,
          126.4317464,
          126.4162109,
          126.4344482,
          126.4177002,
          126.4286296,
          126.405957,
          126.4248372,
          126.439209,
          126.4123198,
          126.4342611,
          126.4161168,
          126.4056641,
          126.4348714,
          126.417806,
          126.415625,
          126.436792,
          126.4165934,
          126.3631104,
          126.3963542,
          126.396818,
          126.3987549,
          126.4031901,
          126.3601156,
          126.404305,
          126.4097656,
          126.4004232,
          126.3968099,
          126.3530599,
          126.3656657,
          126.3993734,
          126.4027018,
          126.3997721,
          126.399821,
          126.3660645,
          126.3656657,
          126.3634684,
          126.4075114,
          126.4078776,
          126.4072347,
          126.4027344,
          126.4084473,
          126.4002848,
          126.4020508,
          126.4074626,
          126.4024495,
          126.408431,
          126.4101481,
          126.4037679,
          126.4076579,
          126.4016846,
          126.4023112,
          126.4064209,
          126.4079508,
          126.406486,
          126.4069906,
          126.4022868,
          126.4042887,
          126.4009521,
          126.4041423,
          126.3941569,
          126.3990804,
          126.3984782,
          126.3231318,
          126.407959,
          126.4067546,
          126.4056722,
          126.4076497,
          126.4073161,
          126.4055257,
          126.4082845,
          126.4032959,
          126.4065267,
          126.4086182,
          126.4067057,
          126.4050618,
          126.4054199,
          126.4081868,
          126.4071777,
          126.4084147,
          126.4051514,
          126.407137,
          126.4043294,
          126.4160807,
          126.3979411,
          126.4081217,
          126.4055339,
          126.4058268,
          126.4102946,
          126.4062581,
          126.4086019,
          126.4078857,
          126.3738932,
          126.4049723,
          126.40625,
          126.3667686,
          126.3658854,
          126.3632406,
          126.3032715,
          126.3589193,
          126.3992757,
          126.3994222,
          126.3684896,
          126.3655273,
          126.4040039,
          126.4018473,
          126.4195349,
          126.4050456,
          126.4016659,
          126.4084798,
          126.3612467,
          126.3831351,
          126.3691895,
          126.4048747,
          126.3977295,
          126.4117676,
          126.4049561,
          126.3945964,
          126.397347,
          126.3968424,
          126.3968669,
          126.396696,
          126.3622233,
          126.3600179,
          126.3609701,
          126.3612874,
          126.3969727,
          126.410262,
          126.3986328,
          126.395166,
          126.4019938,
          126.3331923,
          126.404126,
          126.3983561,
          126.4010579,
          126.3627604,
          126.4075602,
          126.4034587,
          126.3986572,
          126.3955811,
          126.392863,
          126.3963135,
          126.4025472,
          126.3902913,
          126.3617025,
          126.4030843,
          126.4012044,
          126.4023926,
          126.3318245,
          126.400651,
          126.366097,
          126.358016,
          126.4135986,
          126.4141276,
          126.4051188,
          126.4009603,
          126.4031413,
          126.4032145,
          126.4047689,
          126.3668783,
          126.4030924,
          126.3231226,
          126.4002523,
          126.3732296,
          126.3988444,
          126.3955322,
          126.3939372,
          126.3940267,
          126.3960775,
          126.4010661,
          126.4035889,
          126.3985677,
          126.4027181,
          126.3980632,
          126.4019613,
          126.3979818,
          126.394694,
          126.4013346,
          126.366862,
          126.3587077,
          126.3652995,
          126.3539958,
          126.4013672,
          126.4053548,
          126.4035238,
          126.3998535,
          126.3599691,
          126.4051676,
          126.3602132,
          126.404541,
          126.3489418,
          126.4270219,
          126.4016032,
          126.4095296,
          126.4064046,
          126.404069,
          126.3945719,
          126.3598796,
          126.3529175,
          126.3967448,
          126.3587972,
          126.361971,
          126.3604655,
          126.3486003,
          126.4034912,
          126.3758973,
          126.3441239,
          126.3593018,
          126.3596354,
          126.4051107,
          126.4105469,
          126.4108968,
          126.3736084,
          126.4048747,
          126.4119222,
          126.4035482,
          126.3977458,
          126.3961914,
          126.489639,
          126.3424508,
          126.3882944,
          126.4063965,
          126.4118896,
          126.4018962,
          126.4055827,
          126.4052572,
          126.4056722,
          126.4124023,
          126.3577433,
          126.3951904,
          126.3960693,
          126.4049316,
          126.4064372,
          126.4054281,
          126.4044271,
          126.4021729,
          126.4040771,
          126.4018229,
          126.4056152,
          126.4035889,
          126.4039144,
          126.4082357,
          126.4099121,
          126.4160902,
          126.4046387,
          126.4005941,
          126.4058594,
          126.4037028,
          126.4038249,
          126.3582682,
          126.3663574,
          126.350236,
          126.4053141,
          126.3121441,
          126.4151449,
          126.4176839,
          126.4164958,
          126.4047607,
          126.4132894,
          126.3546631,
          126.3943522,
          126.3923258,
          126.3936035,
          126.3342796,
          126.3756185,
          126.4029134,
          126.3709961,
          126.3619873,
          126.3611491,
          126.4033447,
          126.4037516,
          126.3584961,
          126.4040365,
          126.3993652,
          126.3673747,
          126.4176025,
          126.3996419,
          126.3955729,
          126.3946452,
          126.4060059,
          126.3572347,
          126.3525879,
          126.3492188,
          126.3641357,
          126.3962386,
          126.4007363,
          126.3961019,
          126.3579671,
          126.3550537,
          126.3595703,
          126.3977051,
          126.4170654,
          126.4032389,
          126.3954915,
          126.3993327,
          126.399585,
          126.374471,
          126.3905192,
          126.3659857,
          126.4078044,
          126.4040853,
          126.4037923,
          126.401945,
          126.4013184,
          126.3569336,
          126.3979736,
          126.3982422,
          126.4005371,
          126.4084391,
          126.3991374,
          126.4003825,
          126.4045085,
          126.3986816,
          126.3986247,
          126.4007812,
          126.3681443,
          126.4075928,
          126.366805,
          126.3986003,
          126.3994303,
          126.3978434,
          126.399943,
          126.3989014,
          126.39882,
          126.3984375,
          126.4014079,
          126.3993734,
          126.4045898,
          126.4075033,
          126.4073486,
          126.4062174,
          126.4048096,
          126.4068522,
          126.4138102,
          126.4062663,
          126.4065348,
          126.4064372,
          126.4069743,
          126.4089355,
          126.4025228,
          126.403776,
          126.4052816,
          126.4062744,
          126.3536051,
          126.3606283,
          126.3582926,
          126.4035563,
          126.4064941,
          126.4027995,
          126.408195,
          126.4093343,
          126.4049154,
          126.4092285,
          126.4059408,
          126.4079753,
          126.3635416,
          126.4073242,
          126.3985514,
          126.3961019,
          126.3990072,
          126.4043701,
          126.3975993,
          126.3960449,
          126.4067383,
          126.4057129,
          126.4036621,
          126.3969401,
          126.393571,
          126.395516,
          126.361141,
          126.4025065,
          126.3975586,
          126.3954997,
          126.3987386,
          126.3960286,
          126.3954427,
          126.3953044,
          126.3500326,
          126.4105306,
          126.395459,
          126.3825521,
          126.3776984,
          126.3616211,
          126.3627116,
          126.3722538,
          126.3725324,
          126.3800537,
          126.3966146,
          126.400529,
          126.4039632,
          126.3676188,
          126.4031494,
          126.4015055,
          126.4037923,
          126.405013,
          126.3999512,
          126.3613688,
          126.3551351,
          126.3547282,
          126.3560465,
          126.3986247,
          126.3592448,
          126.3681559,
          126.388106,
          126.3968262,
          126.3960938,
          126.3553711,
          126.3525798,
          126.3978597,
          126.3589355,
          126.3580078,
          126.3597656,
          126.3519206,
          126.361329,
          126.3601237,
          126.3535645,
          126.3577718,
          126.3564038,
          126.3601725,
          126.3571452,
          126.3615967,
          126.3623128,
          126.3685303,
          126.3617106,
          126.3583252,
          126.3517822,
          126.3565999,
          126.3609131,
          126.3515137,
          126.3532633,
          126.3575928,
          126.3509684,
          126.3550944,
          126.3536214,
          126.3566081,
          126.3531477,
          126.3527995,
          126.360848,
          126.3594076,
          126.3565348,
          126.3583252,
          126.3612305,
          126.3560954,
          126.354484,
          126.3554118,
          126.3571533,
          126.3595459,
          126.3642741,
          126.3622152,
          126.3552165,
          126.3547526,
          126.3575439,
          126.3613688,
          126.3563395,
          126.3618734,
          126.3598389,
          126.3565104,
          126.3649495,
          126.356901,
          126.3545166,
          126.360498,
          126.3590495,
          126.3542969,
          126.3677002,
          126.3606608,
          126.3613932,
          126.398055,
          126.3979899,
          126.3811673,
          126.3903239,
          126.3901693,
          126.3974445,
          126.3985677,
          126.4003011,
          126.3996989,
          126.3963379,
          126.4003255,
          126.4010986,
          126.4003337,
          126.3945557,
          126.4128011,
          126.4168783,
          126.3433656,
          126.3948568,
          126.3953288,
          126.4083593,
          126.4031576,
          126.2989322,
          126.3999349,
          126.3987956,
          126.3981689,
          126.3980225,
          126.3996663,
          126.3487857,
          126.3640703,
          126.399292,
          126.3524658,
          126.3493571,
          126.3980469,
          126.3979248,
          126.3496012,
          126.39646,
          126.3448242,
          126.3995443,
          126.3992513,
          126.4009928,
          126.4021159,
          126.4017334,
          126.3728508,
          126.4028646,
          126.4060518,
          126.4102946,
          126.3971924,
          126.4019857,
          126.3983154,
          126.395931,
          126.3953532,
          126.3605876,
          126.3719401,
          126.404069,
          126.3745036,
          126.3250116,
          126.3583903,
          126.4034424,
          126.3542806,
          126.4104411,
          126.3518636,
          126.372404,
          126.3707845,
          126.374821,
          126.3547933,
          126.3700711,
          126.3557861,
          126.3553223,
          126.3496582,
          126.3542399,
          126.3534342,
          126.3762044,
          126.3546061,
          126.3495605,
          126.3575033,
          126.3548014,
          126.3508952,
          126.3561279,
          126.3446045,
          126.3545573,
          126.3555176,
          126.3519287,
          126.3522949,
          126.4339442,
          126.4176432,
          126.4055257,
          126.4065592,
          126.353597,
          126.4030192,
          126.402946,
          126.3492432,
          126.3551351,
          126.3499023,
          126.3700208,
          126.3578206,
          126.3572021,
          126.3543294,
          126.3608073,
          126.3614909,
          126.3958252,
          126.3620036,
          126.3492025,
          126.4184652,
          126.4186198,
          126.4121133,
          126.4099656,
          126.4078206,
          126.4165853,
          126.4168294,
          126.4163737,
          126.4229004,
          126.4198812,
          126.4142741,
          126.3951904,
          126.398999,
          126.3999674,
          126.3523275,
          126.4054036
         ],
         "xaxis": "x",
         "y": [
          38.2443639,
          38.201387,
          38.2019114,
          38.206830855,
          38.2404327,
          38.2405093,
          38.2399249,
          38.245665,
          38.2416789,
          38.2394341,
          38.2430016,
          38.2424685,
          38.2405764,
          38.2408755,
          38.2220436,
          38.22633679,
          38.2269913,
          38.2226031,
          38.2186419,
          38.213062,
          38.21767965,
          38.233159701,
          38.222723851,
          38.222254263,
          38.2097056,
          38.2087255,
          38.208402,
          38.107121396,
          38.201989319,
          38.2211522,
          38.2135429,
          38.206926,
          38.2062386,
          38.2108253,
          38.2082174,
          38.198535608,
          38.2147507,
          38.2202777,
          38.2124184,
          38.2076487,
          38.215136884,
          38.2145505,
          38.2141904,
          38.211731,
          38.205881868,
          38.2260465,
          38.218735,
          38.2161346,
          38.2104836,
          38.206515,
          38.2134666,
          38.2131744,
          38.2125041,
          38.2135496,
          38.2125722,
          38.2125402,
          38.2130468,
          38.213236,
          38.212399,
          38.2131396,
          38.212532,
          38.21191,
          38.212263,
          38.213102,
          38.2157712,
          38.2161217,
          38.214856,
          38.2129697,
          38.2184191,
          38.2154915,
          38.2128156,
          38.2126119,
          38.2142268,
          38.2114415,
          38.2104996,
          38.206937926,
          38.2114655,
          38.2093531,
          38.33904703,
          38.197921264,
          38.223158,
          38.2134687,
          38.2122368,
          38.2138036,
          38.2412506,
          38.2231959,
          38.2409284,
          38.2129056,
          38.2162974,
          38.2047015,
          38.213633,
          38.2187818,
          38.209154,
          38.2149679,
          38.2185511,
          38.2153872,
          38.223525,
          38.2171336,
          38.218187,
          38.2172048,
          38.2149452,
          38.2210571,
          38.2151019,
          38.2177361,
          38.2145551,
          38.2210411,
          38.2018232,
          38.2242254,
          38.2238981,
          38.2234815,
          38.2165718,
          38.2414246,
          38.2152522,
          38.2161985,
          38.2425863,
          38.240318,
          38.2047358,
          38.196332346,
          38.2125343,
          38.2142858,
          38.2134163,
          38.245723915,
          38.2129262,
          38.2162651,
          38.2178149,
          38.217084322,
          38.2150256,
          38.2179601,
          38.2138074,
          38.2136014,
          38.242099,
          38.2157626,
          38.2409238,
          38.229807734,
          38.2428019,
          38.199463619,
          38.2005053,
          38.2270365,
          38.2169167,
          38.173993344,
          38.2060534,
          38.269930307,
          38.2176404,
          38.2143631,
          38.2128347,
          38.2160271,
          38.2133059,
          38.2140673,
          38.2141314,
          38.2179873,
          38.2141337,
          38.2400757,
          38.2157926,
          38.2154948,
          38.2148109,
          38.2195063,
          38.2197718,
          38.2077649,
          38.2166824,
          38.201808737,
          38.2067284,
          38.1990486,
          38.2206685,
          38.2030823,
          38.219840325,
          38.1716894,
          38.2027901,
          38.2024373,
          38.2161977,
          38.232954437,
          38.21231023,
          38.2185671,
          38.2184504,
          38.2169856,
          38.1971654,
          38.2009504,
          38.2119909,
          38.1695107,
          38.201311,
          38.2203178,
          38.1968541,
          38.2073263,
          38.2046125,
          38.200504,
          38.2168365,
          38.1986707,
          38.217469,
          38.2061195,
          38.2198095,
          38.2104561,
          38.1938622,
          38.211066483,
          38.1988945,
          38.219278912,
          38.2220484,
          38.1987671,
          38.2133586,
          38.2200035,
          38.2035601,
          38.2198873,
          38.2481832,
          38.2157585,
          38.2142362,
          38.2190971,
          38.2226443,
          38.241053,
          38.2117706,
          38.2151276,
          38.2213542,
          38.2173322,
          38.2401479,
          38.2425214,
          38.2149348,
          38.2139798,
          38.217983,
          38.2192632,
          38.2427358,
          38.2421204,
          38.2415736,
          38.2133146,
          38.2126752,
          38.2137349,
          38.214812,
          38.2189484,
          38.2173597,
          38.2144338,
          38.2134969,
          38.2156375,
          38.2123329,
          38.2125465,
          38.2244504,
          38.2156916,
          38.2210373,
          38.2137601,
          38.2126584,
          38.2129618,
          38.2192413,
          38.2123199,
          38.2162549,
          38.2138796,
          38.2198967,
          38.2226735,
          38.2226262,
          38.2199173,
          38.2166725,
          38.136493362,
          38.2127543,
          38.2124517,
          38.2146011,
          38.2130572,
          38.2103714,
          38.2146535,
          38.2127803,
          38.213413,
          38.2134066,
          38.210746,
          38.213339,
          38.2146403,
          38.2146383,
          38.2127533,
          38.2140846,
          38.2132289,
          38.213692,
          38.213014,
          38.2158768,
          38.2133578,
          38.2195508,
          38.2151306,
          38.2154772,
          38.2141622,
          38.2127635,
          38.2158068,
          38.2143064,
          38.2152425,
          38.2133649,
          38.2131152,
          38.2136907,
          38.108142419,
          38.2415225,
          38.2394862,
          38.252404026,
          38.2450358,
          38.2180603,
          38.217922,
          38.2158287,
          38.2416903,
          38.2143316,
          38.2148689,
          38.212858872,
          38.2163434,
          38.090709987,
          38.213574,
          38.239419,
          38.229329782,
          38.2146797,
          38.2177378,
          38.2141609,
          38.214519,
          38.217365,
          38.2155385,
          38.2129148,
          38.2139829,
          38.2137202,
          38.2138629,
          38.2468923,
          38.2406548,
          38.240731,
          38.2420428,
          38.2145373,
          38.2124771,
          38.2204056,
          38.2225914,
          38.2120867,
          38.272706783,
          38.21496,
          38.2206037,
          38.2202843,
          38.2355619,
          38.2143069,
          38.2243055,
          38.2177259,
          38.2168694,
          38.2197416,
          38.2155401,
          38.2153643,
          38.2201345,
          38.240034,
          38.2135615,
          38.2161407,
          38.2173269,
          38.147450888,
          38.222079,
          38.2410108,
          38.2415326,
          38.2164169,
          38.2138379,
          38.2112089,
          38.2161797,
          38.221035,
          38.2215747,
          38.2303436,
          38.2054212,
          38.2134137,
          38.140868979,
          38.2155075,
          38.145349492,
          38.2160304,
          38.2123436,
          38.2150406,
          38.2147476,
          38.2136742,
          38.2206037,
          38.2144313,
          38.2213399,
          38.2275818,
          38.2166496,
          38.2281375,
          38.2195752,
          38.223409,
          38.2200109,
          38.2142069,
          38.241391,
          38.2473938,
          38.2438049,
          38.2177078,
          38.2144516,
          38.2149378,
          38.2142825,
          38.2460335,
          38.2120374,
          38.2393443,
          38.213927,
          38.296260173,
          38.214925257,
          38.217377,
          38.2291682,
          38.214522,
          38.2150536,
          38.2185562,
          38.2035594,
          38.22024118,
          38.2133563,
          38.2031654,
          38.2076141,
          38.2039152,
          38.2026952,
          38.2150251,
          38.238476332,
          38.256321738,
          38.2084119,
          38.2034828,
          38.2226784,
          38.2306099,
          38.211805,
          38.2106631,
          38.2156662,
          38.2113627,
          38.2156998,
          38.2122037,
          38.213237,
          38.234194521,
          38.274367756,
          38.237271636,
          38.2231448,
          38.2098684,
          38.2130046,
          38.2164889,
          38.2168599,
          38.2168859,
          38.2090652,
          38.256897917,
          38.2123075,
          38.2137723,
          38.2134763,
          38.214903,
          38.2157865,
          38.2164012,
          38.2244446,
          38.2237005,
          38.2250285,
          38.2224889,
          38.2241173,
          38.2328985,
          38.2200063,
          38.2257245,
          38.232406343,
          38.2241684,
          38.2210686,
          38.2252813,
          38.2214541,
          38.2216011,
          38.2411161,
          38.244593,
          38.2468508,
          38.2162684,
          38.180226084,
          38.2116397,
          38.2117655,
          38.2137182,
          38.2155309,
          38.2144633,
          38.2387014,
          38.2224096,
          38.2198545,
          38.2226649,
          38.273803062,
          38.2034993,
          38.2206004,
          38.2114914,
          38.20755,
          38.203831,
          38.2217893,
          38.2166094,
          38.2070773,
          38.2118998,
          38.2139084,
          38.2080086,
          38.215357,
          38.2129359,
          38.2234283,
          38.2159459,
          38.2140078,
          38.2423884,
          38.2404678,
          38.2449778,
          38.2434799,
          38.215682731,
          38.214187829,
          38.213105,
          38.2412862,
          38.2415372,
          38.2426648,
          38.2134076,
          38.2126155,
          38.2224304,
          38.2125239,
          38.2138669,
          38.2148191,
          38.2009659,
          38.2158417,
          38.223550622,
          38.2172638,
          38.2146255,
          38.2103091,
          38.2133787,
          38.2132683,
          38.2439471,
          38.2177691,
          38.2181905,
          38.2135892,
          38.2162046,
          38.2168864,
          38.2158193,
          38.2234782,
          38.2175814,
          38.2175011,
          38.2165995,
          38.233400549,
          38.2141337,
          38.2491015,
          38.2175301,
          38.2221583,
          38.2160937,
          38.2168022,
          38.2187108,
          38.2192182,
          38.2199392,
          38.2253965,
          38.2176882,
          38.2101397,
          38.2145081,
          38.2145541,
          38.2134661,
          38.21518,
          38.2136086,
          38.2108337,
          38.2154394,
          38.21521,
          38.2141518,
          38.2146718,
          38.2143669,
          38.2199791,
          38.2182322,
          38.2172256,
          38.2147387,
          38.2366966,
          38.2384377,
          38.237768,
          38.2160388,
          38.2145182,
          38.2146108,
          38.2135844,
          38.2120178,
          38.2141769,
          38.212542,
          38.2112734,
          38.2121557,
          38.219990195,
          38.2134641,
          38.2171974,
          38.218794,
          38.2175095,
          38.21216,
          38.2144478,
          38.2156034,
          38.2191345,
          38.2140549,
          38.2131872,
          38.2154912,
          38.215655,
          38.2158887,
          38.2408226,
          38.2130338,
          38.2120216,
          38.2129028,
          38.2128179,
          38.2137698,
          38.2137426,
          38.2111043,
          38.2479126,
          38.2202835,
          38.2202609,
          38.232589,
          38.223848724,
          38.2085337,
          38.2132848,
          38.222196398,
          38.219188667,
          38.2327126,
          38.2154073,
          38.2232814,
          38.2167229,
          38.2142446,
          38.2161311,
          38.2197344,
          38.2152423,
          38.2144948,
          38.2167173,
          38.2401952,
          38.240682,
          38.2451441,
          38.2404615,
          38.2216029,
          38.2424431,
          38.2142606,
          38.196521881,
          38.222064,
          38.2174222,
          38.241198,
          38.2403753,
          38.2247889,
          38.2403308,
          38.23937,
          38.2403041,
          38.2469704,
          38.235847471,
          38.2422852,
          38.2443616,
          38.241066,
          38.246229287,
          38.2395772,
          38.240847,
          38.2405047,
          38.2420771,
          38.2425774,
          38.2399152,
          38.2434888,
          38.2427839,
          38.2386757,
          38.2368947,
          38.2384544,
          38.2454104,
          38.2408432,
          38.2369479,
          38.2412867,
          38.243841,
          38.2424088,
          38.240205764,
          38.2372449,
          38.2381597,
          38.2404958,
          38.2390831,
          38.2405846,
          38.2390472,
          38.2416593,
          38.2424011,
          38.2385872,
          38.239978,
          38.2406754,
          38.2414831,
          38.2401014,
          38.2454208,
          38.2378273,
          38.2399272,
          38.2403618,
          38.2396617,
          38.2399429,
          38.24219,
          38.2412046,
          38.2401578,
          38.2384984,
          38.2371188,
          38.2399709,
          38.2399859,
          38.2389107,
          38.2395442,
          38.2402433,
          38.2388184,
          38.2133354,
          38.2204709,
          38.258588517,
          38.2233391,
          38.2248278,
          38.225393998,
          38.2168348,
          38.2232956,
          38.2170596,
          38.2148031,
          38.2166379,
          38.2160497,
          38.2165581,
          38.2151647,
          38.2176949,
          38.2151744,
          38.228698692,
          38.2136762,
          38.216657,
          38.282712263,
          38.2241872,
          38.243643304,
          38.2185524,
          38.2152204,
          38.2146662,
          38.2139254,
          38.2140416,
          38.241837318,
          38.227648814,
          38.2134613,
          38.2462301,
          38.2431529,
          38.2270866,
          38.2158813,
          38.2457705,
          38.2134471,
          38.2464455,
          38.2232541,
          38.2233363,
          38.2148659,
          38.2223778,
          38.2210515,
          38.197037161,
          38.2127177,
          38.212421084,
          38.2259501,
          38.2136063,
          38.2241481,
          38.2169912,
          38.2142092,
          38.2112221,
          38.2407951,
          38.2160683,
          38.2276662,
          38.2095609,
          38.276517606,
          38.2415037,
          38.210598,
          38.2420451,
          38.210218,
          38.2434191,
          38.2162788,
          38.2165207,
          38.2142418,
          38.2408437,
          38.223832712,
          38.243544,
          38.2411509,
          38.242278,
          38.2411674,
          38.2421494,
          38.2106438,
          38.2417809,
          38.2424357,
          38.2421903,
          38.2422218,
          38.2461591,
          38.2412137,
          38.24397,
          38.2431981,
          38.241143,
          38.2433416,
          38.2425102,
          38.294251758,
          38.2186213,
          38.2222616,
          38.2209813,
          38.2421598,
          38.2241478,
          38.2246099,
          38.2429075,
          38.2412328,
          38.2440679,
          38.247899112,
          38.2421527,
          38.2398188,
          38.248923,
          38.2396634,
          38.2408353,
          38.2138069,
          38.2407417,
          38.243661,
          38.3181798,
          38.3073349,
          38.311709829,
          38.296390011,
          38.3117152,
          38.3095154,
          38.3073975,
          38.3116608,
          38.3094981,
          38.3084223,
          38.3116842,
          38.2131177,
          38.207137,
          38.2173721,
          38.2424604,
          38.2124364
         ],
         "yaxis": "y"
        },
        {
         "hovertemplate": "<b>%{text}</b><br>Lat: %{y:.2f}<br>Lon: %{x:.2f}<extra></extra>",
         "marker": {
          "color": "red",
          "size": 16,
          "symbol": "triangle-down"
         },
         "mode": "markers+text",
         "name": "Stations",
         "text": [
          "KJ09",
          "KJ05",
          "KJ05",
          "KJ05",
          "KJ09",
          "KJ14",
          "KJ13",
          "KJ14",
          "KJ12",
          "KJ14",
          "KJ13",
          "KJ14",
          "KJ12",
          "KJ12",
          "KJ14",
          "KJ02",
          "KJ08",
          "KJ02",
          "KJ02",
          "KJ02",
          "KJ06",
          "KJ06",
          "KJ11",
          "KJ11",
          "KJ02",
          "KJ02",
          "KJ02",
          "KJ02",
          "KJ01",
          "KJ02",
          "KJ02",
          "KJ02",
          "KJ02",
          "KJ01",
          "KJ01",
          "KJ01",
          "KJ01",
          "KJ02",
          "KJ02",
          "KJ02",
          "KJ02",
          "KJ08",
          "KJ02",
          "KJ02",
          "KJ04",
          "KJ04",
          "KJ02",
          "KJ02",
          "KJ02",
          "KJ06",
          "KJ02",
          "KJ02",
          "KJ02",
          "KJ02",
          "KJ02",
          "KJ02",
          "KJ02",
          "KJ02",
          "KJ02",
          "KJ02",
          "KJ02",
          "KJ02",
          "KJ02",
          "KJ02",
          "KJ02",
          "KJ02",
          "KJ02",
          "KJ02",
          "KJ02",
          "KJ02",
          "KJ02",
          "KJ02",
          "KJ02",
          "KJ02",
          "KJ02",
          "KJ02",
          "KJ02",
          "KJ06",
          "KJ06",
          "KJ14",
          "KJ02",
          "KJ02",
          "KJ02",
          "KJ02",
          "KJ02",
          "KJ13",
          "KJ12",
          "KJ02",
          "KJ14",
          "KJ02",
          "KJ02",
          "KJ06",
          "KJ05",
          "KJ02",
          "KJ02",
          "KJ02",
          "KJ02",
          "KJ02",
          "KJ02",
          "KJ02",
          "KJ02",
          "KJ02",
          "KJ02",
          "KJ02",
          "KJ02",
          "KJ02",
          "KJ04",
          "KJ02",
          "KJ02",
          "KJ04",
          "KJ02",
          "KJ02",
          "KJ02",
          "KJ02",
          "KJ13",
          "KJ02",
          "KJ02",
          "KJ13",
          "KJ13",
          "KJ04",
          "KJ02",
          "KJ02",
          "KJ02",
          "KJ02",
          "KJ12",
          "KJ02",
          "KJ02",
          "KJ02",
          "KJ04",
          "KJ02",
          "KJ02",
          "KJ02",
          "KJ02",
          "KJ02",
          "KJ13",
          "KJ02",
          "KJ13",
          "KJ09",
          "KJ13",
          "KJ01",
          "KJ06",
          "KJ04",
          "KJ04",
          "KJ01",
          "KJ09",
          "KJ14",
          "KJ02",
          "KJ02",
          "KJ02",
          "KJ02",
          "KJ02",
          "KJ02",
          "KJ02",
          "KJ02",
          "KJ02",
          "KJ13",
          "KJ02",
          "KJ02",
          "KJ02",
          "KJ02",
          "KJ04",
          "KJ04",
          "KJ04",
          "KJ04",
          "KJ04",
          "KJ04",
          "KJ04",
          "KJ04",
          "KJ04",
          "KJ04",
          "KJ04",
          "KJ04",
          "KJ04",
          "KJ04",
          "KJ04",
          "KJ04",
          "KJ04",
          "KJ04",
          "KJ04",
          "KJ04",
          "KJ04",
          "KJ04",
          "KJ04",
          "KJ04",
          "KJ04",
          "KJ04",
          "KJ04",
          "KJ04",
          "KJ04",
          "KJ04",
          "KJ04",
          "KJ04",
          "KJ04",
          "KJ04",
          "KJ04",
          "KJ04",
          "KJ04",
          "KJ04",
          "KJ04",
          "KJ04",
          "KJ04",
          "KJ04",
          "KJ04",
          "KJ04",
          "KJ04",
          "KJ14",
          "KJ02",
          "KJ02",
          "KJ02",
          "KJ02",
          "KJ14",
          "KJ02",
          "KJ02",
          "KJ02",
          "KJ02",
          "KJ10",
          "KJ12",
          "KJ04",
          "KJ02",
          "KJ02",
          "KJ02",
          "KJ11",
          "KJ12",
          "KJ11",
          "KJ02",
          "KJ02",
          "KJ02",
          "KJ02",
          "KJ02",
          "KJ02",
          "KJ02",
          "KJ02",
          "KJ02",
          "KJ02",
          "KJ02",
          "KJ02",
          "KJ02",
          "KJ02",
          "KJ02",
          "KJ02",
          "KJ02",
          "KJ02",
          "KJ02",
          "KJ02",
          "KJ02",
          "KJ02",
          "KJ02",
          "KJ02",
          "KJ02",
          "KJ02",
          "KJ02",
          "KJ06",
          "KJ02",
          "KJ02",
          "KJ02",
          "KJ02",
          "KJ02",
          "KJ02",
          "KJ02",
          "KJ02",
          "KJ02",
          "KJ02",
          "KJ02",
          "KJ02",
          "KJ02",
          "KJ02",
          "KJ02",
          "KJ02",
          "KJ02",
          "KJ02",
          "KJ02",
          "KJ02",
          "KJ02",
          "KJ02",
          "KJ02",
          "KJ02",
          "KJ02",
          "KJ02",
          "KJ02",
          "KJ02",
          "KJ06",
          "KJ02",
          "KJ02",
          "KJ01",
          "KJ11",
          "KJ11",
          "KJ10",
          "KJ14",
          "KJ12",
          "KJ02",
          "KJ02",
          "KJ06",
          "KJ11",
          "KJ02",
          "KJ02",
          "KJ02",
          "KJ02",
          "KJ01",
          "KJ02",
          "KJ11",
          "KJ07",
          "KJ05",
          "KJ02",
          "KJ02",
          "KJ02",
          "KJ02",
          "KJ02",
          "KJ02",
          "KJ02",
          "KJ02",
          "KJ02",
          "KJ15",
          "KJ13",
          "KJ13",
          "KJ13",
          "KJ02",
          "KJ02",
          "KJ02",
          "KJ02",
          "KJ02",
          "KJ13",
          "KJ02",
          "KJ02",
          "KJ02",
          "KJ11",
          "KJ02",
          "KJ02",
          "KJ02",
          "KJ02",
          "KJ02",
          "KJ02",
          "KJ02",
          "KJ02",
          "KJ11",
          "KJ02",
          "KJ02",
          "KJ02",
          "KJ05",
          "KJ02",
          "KJ11",
          "KJ11",
          "KJ02",
          "KJ04",
          "KJ02",
          "KJ02",
          "KJ02",
          "KJ02",
          "KJ02",
          "KJ05",
          "KJ02",
          "KJ08",
          "KJ02",
          "KJ01",
          "KJ02",
          "KJ02",
          "KJ02",
          "KJ02",
          "KJ02",
          "KJ02",
          "KJ02",
          "KJ02",
          "KJ02",
          "KJ02",
          "KJ02",
          "KJ02",
          "KJ02",
          "KJ04",
          "KJ02",
          "KJ06",
          "KJ11",
          "KJ14",
          "KJ14",
          "KJ14",
          "KJ14",
          "KJ11",
          "KJ02",
          "KJ02",
          "KJ02",
          "KJ02",
          "KJ14",
          "KJ02",
          "KJ11",
          "KJ02",
          "KJ13",
          "KJ04",
          "KJ02",
          "KJ04",
          "KJ11",
          "KJ02",
          "KJ02",
          "KJ02",
          "KJ05",
          "KJ09",
          "KJ02",
          "KJ05",
          "KJ11",
          "KJ11",
          "KJ06",
          "KJ02",
          "KJ11",
          "KJ14",
          "KJ13",
          "KJ13",
          "KJ06",
          "KJ13",
          "KJ11",
          "KJ02",
          "KJ02",
          "KJ02",
          "KJ13",
          "KJ13",
          "KJ06",
          "KJ02",
          "KJ02",
          "KJ02",
          "KJ02",
          "KJ02",
          "KJ01",
          "KJ13",
          "KJ13",
          "KJ02",
          "KJ02",
          "KJ02",
          "KJ02",
          "KJ02",
          "KJ02",
          "KJ02",
          "KJ02",
          "KJ13",
          "KJ02",
          "KJ02",
          "KJ02",
          "KJ02",
          "KJ02",
          "KJ02",
          "KJ02",
          "KJ02",
          "KJ02",
          "KJ02",
          "KJ02",
          "KJ02",
          "KJ02",
          "KJ02",
          "KJ04",
          "KJ02",
          "KJ02",
          "KJ02",
          "KJ04",
          "KJ04",
          "KJ14",
          "KJ14",
          "KJ14",
          "KJ04",
          "KJ05",
          "KJ10",
          "KJ04",
          "KJ04",
          "KJ04",
          "KJ02",
          "KJ02",
          "KJ11",
          "KJ02",
          "KJ02",
          "KJ02",
          "KJ14",
          "KJ05",
          "KJ02",
          "KJ06",
          "KJ06",
          "KJ05",
          "KJ02",
          "KJ02",
          "KJ05",
          "KJ02",
          "KJ02",
          "KJ06",
          "KJ09",
          "KJ04",
          "KJ02",
          "KJ02",
          "KJ02",
          "KJ04",
          "KJ10",
          "KJ14",
          "KJ10",
          "KJ10",
          "KJ02",
          "KJ02",
          "KJ02",
          "KJ14",
          "KJ14",
          "KJ14",
          "KJ02",
          "KJ04",
          "KJ02",
          "KJ02",
          "KJ02",
          "KJ02",
          "KJ05",
          "KJ02",
          "KJ10",
          "KJ02",
          "KJ02",
          "KJ02",
          "KJ02",
          "KJ02",
          "KJ10",
          "KJ02",
          "KJ02",
          "KJ02",
          "KJ02",
          "KJ02",
          "KJ02",
          "KJ02",
          "KJ02",
          "KJ02",
          "KJ02",
          "KJ09",
          "KJ02",
          "KJ14",
          "KJ02",
          "KJ02",
          "KJ02",
          "KJ02",
          "KJ02",
          "KJ02",
          "KJ02",
          "KJ02",
          "KJ02",
          "KJ04",
          "KJ04",
          "KJ04",
          "KJ04",
          "KJ04",
          "KJ04",
          "KJ04",
          "KJ04",
          "KJ04",
          "KJ04",
          "KJ04",
          "KJ04",
          "KJ04",
          "KJ04",
          "KJ04",
          "KJ04",
          "KJ14",
          "KJ14",
          "KJ10",
          "KJ10",
          "KJ10",
          "KJ02",
          "KJ02",
          "KJ02",
          "KJ02",
          "KJ02",
          "KJ02",
          "KJ02",
          "KJ02",
          "KJ02",
          "KJ09",
          "KJ14",
          "KJ02",
          "KJ02",
          "KJ02",
          "KJ02",
          "KJ04",
          "KJ02",
          "KJ02",
          "KJ04",
          "KJ02",
          "KJ02",
          "KJ02",
          "KJ02",
          "KJ02",
          "KJ10",
          "KJ02",
          "KJ02",
          "KJ02",
          "KJ02",
          "KJ02",
          "KJ02",
          "KJ02",
          "KJ10",
          "KJ02",
          "KJ02",
          "KJ07",
          "KJ07",
          "KJ06",
          "KJ06",
          "KJ07",
          "KJ06",
          "KJ08",
          "KJ02",
          "KJ02",
          "KJ02",
          "KJ02",
          "KJ06",
          "KJ02",
          "KJ02",
          "KJ02",
          "KJ02",
          "KJ02",
          "KJ12",
          "KJ10",
          "KJ14",
          "KJ10",
          "KJ06",
          "KJ12",
          "KJ06",
          "KJ01",
          "KJ02",
          "KJ02",
          "KJ10",
          "KJ10",
          "KJ02",
          "KJ10",
          "KJ10",
          "KJ10",
          "KJ14",
          "KJ10",
          "KJ12",
          "KJ10",
          "KJ10",
          "KJ14",
          "KJ10",
          "KJ10",
          "KJ10",
          "KJ10",
          "KJ14",
          "KJ10",
          "KJ10",
          "KJ10",
          "KJ10",
          "KJ10",
          "KJ10",
          "KJ14",
          "KJ10",
          "KJ10",
          "KJ10",
          "KJ10",
          "KJ10",
          "KJ10",
          "KJ10",
          "KJ10",
          "KJ10",
          "KJ10",
          "KJ10",
          "KJ10",
          "KJ10",
          "KJ12",
          "KJ10",
          "KJ10",
          "KJ10",
          "KJ10",
          "KJ12",
          "KJ10",
          "KJ10",
          "KJ10",
          "KJ10",
          "KJ10",
          "KJ10",
          "KJ10",
          "KJ10",
          "KJ10",
          "KJ14",
          "KJ10",
          "KJ12",
          "KJ10",
          "KJ10",
          "KJ10",
          "KJ14",
          "KJ10",
          "KJ10",
          "KJ02",
          "KJ02",
          "KJ14",
          "KJ03",
          "KJ03",
          "KJ02",
          "KJ02",
          "KJ02",
          "KJ02",
          "KJ02",
          "KJ02",
          "KJ02",
          "KJ02",
          "KJ02",
          "KJ02",
          "KJ04",
          "KJ04",
          "KJ10",
          "KJ02",
          "KJ02",
          "KJ14",
          "KJ02",
          "KJ14",
          "KJ02",
          "KJ02",
          "KJ02",
          "KJ02",
          "KJ02",
          "KJ02",
          "KJ14",
          "KJ14",
          "KJ02",
          "KJ14",
          "KJ10",
          "KJ02",
          "KJ02",
          "KJ14",
          "KJ02",
          "KJ14",
          "KJ02",
          "KJ02",
          "KJ02",
          "KJ02",
          "KJ02",
          "KJ05",
          "KJ02",
          "KJ02",
          "KJ02",
          "KJ02",
          "KJ02",
          "KJ02",
          "KJ02",
          "KJ02",
          "KJ10",
          "KJ06",
          "KJ06",
          "KJ02",
          "KJ06",
          "KJ14",
          "KJ10",
          "KJ02",
          "KJ14",
          "KJ02",
          "KJ14",
          "KJ06",
          "KJ06",
          "KJ06",
          "KJ14",
          "KJ14",
          "KJ14",
          "KJ10",
          "KJ10",
          "KJ10",
          "KJ10",
          "KJ06",
          "KJ14",
          "KJ10",
          "KJ14",
          "KJ14",
          "KJ14",
          "KJ14",
          "KJ14",
          "KJ14",
          "KJ12",
          "KJ14",
          "KJ10",
          "KJ04",
          "KJ10",
          "KJ04",
          "KJ02",
          "KJ02",
          "KJ14",
          "KJ02",
          "KJ02",
          "KJ14",
          "KJ10",
          "KJ14",
          "KJ14",
          "KJ14",
          "KJ10",
          "KJ10",
          "KJ14",
          "KJ10",
          "KJ10",
          "KJ02",
          "KJ10",
          "KJ14",
          "KJ14",
          "KJ14",
          "KJ02",
          "KJ14",
          "KJ14",
          "KJ14",
          "KJ04",
          "KJ14",
          "KJ04",
          "KJ04",
          "KJ14",
          "KJ02",
          "KJ02",
          "KJ02",
          "KJ10",
          "KJ02"
         ],
         "textfont": {
          "color": "#333333",
          "size": 12
         },
         "textposition": "top center",
         "type": "scatter",
         "x": [
          126.364433,
          126.378906,
          126.378906,
          126.378906,
          126.364433,
          126.362021,
          126.356779,
          126.362021,
          126.366364,
          126.362021,
          126.356779,
          126.362021,
          126.366364,
          126.366364,
          126.362021,
          126.401842,
          126.372253,
          126.401842,
          126.401842,
          126.401842,
          126.379951,
          126.379951,
          126.372777,
          126.372777,
          126.401842,
          126.401842,
          126.401842,
          126.401842,
          126.408419,
          126.401842,
          126.401842,
          126.401842,
          126.401842,
          126.408419,
          126.408419,
          126.408419,
          126.408419,
          126.401842,
          126.401842,
          126.401842,
          126.401842,
          126.372253,
          126.401842,
          126.401842,
          126.417561,
          126.417561,
          126.401842,
          126.401842,
          126.401842,
          126.379951,
          126.401842,
          126.401842,
          126.401842,
          126.401842,
          126.401842,
          126.401842,
          126.401842,
          126.401842,
          126.401842,
          126.401842,
          126.401842,
          126.401842,
          126.401842,
          126.401842,
          126.401842,
          126.401842,
          126.401842,
          126.401842,
          126.401842,
          126.401842,
          126.401842,
          126.401842,
          126.401842,
          126.401842,
          126.401842,
          126.401842,
          126.401842,
          126.379951,
          126.379951,
          126.362021,
          126.401842,
          126.401842,
          126.401842,
          126.401842,
          126.401842,
          126.356779,
          126.366364,
          126.401842,
          126.362021,
          126.401842,
          126.401842,
          126.379951,
          126.378906,
          126.401842,
          126.401842,
          126.401842,
          126.401842,
          126.401842,
          126.401842,
          126.401842,
          126.401842,
          126.401842,
          126.401842,
          126.401842,
          126.401842,
          126.401842,
          126.417561,
          126.401842,
          126.401842,
          126.417561,
          126.401842,
          126.401842,
          126.401842,
          126.401842,
          126.356779,
          126.401842,
          126.401842,
          126.356779,
          126.356779,
          126.417561,
          126.401842,
          126.401842,
          126.401842,
          126.401842,
          126.366364,
          126.401842,
          126.401842,
          126.401842,
          126.417561,
          126.401842,
          126.401842,
          126.401842,
          126.401842,
          126.401842,
          126.356779,
          126.401842,
          126.356779,
          126.364433,
          126.356779,
          126.408419,
          126.379951,
          126.417561,
          126.417561,
          126.408419,
          126.364433,
          126.362021,
          126.401842,
          126.401842,
          126.401842,
          126.401842,
          126.401842,
          126.401842,
          126.401842,
          126.401842,
          126.401842,
          126.356779,
          126.401842,
          126.401842,
          126.401842,
          126.401842,
          126.417561,
          126.417561,
          126.417561,
          126.417561,
          126.417561,
          126.417561,
          126.417561,
          126.417561,
          126.417561,
          126.417561,
          126.417561,
          126.417561,
          126.417561,
          126.417561,
          126.417561,
          126.417561,
          126.417561,
          126.417561,
          126.417561,
          126.417561,
          126.417561,
          126.417561,
          126.417561,
          126.417561,
          126.417561,
          126.417561,
          126.417561,
          126.417561,
          126.417561,
          126.417561,
          126.417561,
          126.417561,
          126.417561,
          126.417561,
          126.417561,
          126.417561,
          126.417561,
          126.417561,
          126.417561,
          126.417561,
          126.417561,
          126.417561,
          126.417561,
          126.417561,
          126.417561,
          126.362021,
          126.401842,
          126.401842,
          126.401842,
          126.401842,
          126.362021,
          126.401842,
          126.401842,
          126.401842,
          126.401842,
          126.359078,
          126.366364,
          126.417561,
          126.401842,
          126.401842,
          126.401842,
          126.372777,
          126.366364,
          126.372777,
          126.401842,
          126.401842,
          126.401842,
          126.401842,
          126.401842,
          126.401842,
          126.401842,
          126.401842,
          126.401842,
          126.401842,
          126.401842,
          126.401842,
          126.401842,
          126.401842,
          126.401842,
          126.401842,
          126.401842,
          126.401842,
          126.401842,
          126.401842,
          126.401842,
          126.401842,
          126.401842,
          126.401842,
          126.401842,
          126.401842,
          126.401842,
          126.379951,
          126.401842,
          126.401842,
          126.401842,
          126.401842,
          126.401842,
          126.401842,
          126.401842,
          126.401842,
          126.401842,
          126.401842,
          126.401842,
          126.401842,
          126.401842,
          126.401842,
          126.401842,
          126.401842,
          126.401842,
          126.401842,
          126.401842,
          126.401842,
          126.401842,
          126.401842,
          126.401842,
          126.401842,
          126.401842,
          126.401842,
          126.401842,
          126.401842,
          126.379951,
          126.401842,
          126.401842,
          126.408419,
          126.372777,
          126.372777,
          126.359078,
          126.362021,
          126.366364,
          126.401842,
          126.401842,
          126.379951,
          126.372777,
          126.401842,
          126.401842,
          126.401842,
          126.401842,
          126.408419,
          126.401842,
          126.372777,
          126.381069,
          126.378906,
          126.401842,
          126.401842,
          126.401842,
          126.401842,
          126.401842,
          126.401842,
          126.401842,
          126.401842,
          126.401842,
          126.369522,
          126.356779,
          126.356779,
          126.356779,
          126.401842,
          126.401842,
          126.401842,
          126.401842,
          126.401842,
          126.356779,
          126.401842,
          126.401842,
          126.401842,
          126.372777,
          126.401842,
          126.401842,
          126.401842,
          126.401842,
          126.401842,
          126.401842,
          126.401842,
          126.401842,
          126.372777,
          126.401842,
          126.401842,
          126.401842,
          126.378906,
          126.401842,
          126.372777,
          126.372777,
          126.401842,
          126.417561,
          126.401842,
          126.401842,
          126.401842,
          126.401842,
          126.401842,
          126.378906,
          126.401842,
          126.372253,
          126.401842,
          126.408419,
          126.401842,
          126.401842,
          126.401842,
          126.401842,
          126.401842,
          126.401842,
          126.401842,
          126.401842,
          126.401842,
          126.401842,
          126.401842,
          126.401842,
          126.401842,
          126.417561,
          126.401842,
          126.379951,
          126.372777,
          126.362021,
          126.362021,
          126.362021,
          126.362021,
          126.372777,
          126.401842,
          126.401842,
          126.401842,
          126.401842,
          126.362021,
          126.401842,
          126.372777,
          126.401842,
          126.356779,
          126.417561,
          126.401842,
          126.417561,
          126.372777,
          126.401842,
          126.401842,
          126.401842,
          126.378906,
          126.364433,
          126.401842,
          126.378906,
          126.372777,
          126.372777,
          126.379951,
          126.401842,
          126.372777,
          126.362021,
          126.356779,
          126.356779,
          126.379951,
          126.356779,
          126.372777,
          126.401842,
          126.401842,
          126.401842,
          126.356779,
          126.356779,
          126.379951,
          126.401842,
          126.401842,
          126.401842,
          126.401842,
          126.401842,
          126.408419,
          126.356779,
          126.356779,
          126.401842,
          126.401842,
          126.401842,
          126.401842,
          126.401842,
          126.401842,
          126.401842,
          126.401842,
          126.356779,
          126.401842,
          126.401842,
          126.401842,
          126.401842,
          126.401842,
          126.401842,
          126.401842,
          126.401842,
          126.401842,
          126.401842,
          126.401842,
          126.401842,
          126.401842,
          126.401842,
          126.417561,
          126.401842,
          126.401842,
          126.401842,
          126.417561,
          126.417561,
          126.362021,
          126.362021,
          126.362021,
          126.417561,
          126.378906,
          126.359078,
          126.417561,
          126.417561,
          126.417561,
          126.401842,
          126.401842,
          126.372777,
          126.401842,
          126.401842,
          126.401842,
          126.362021,
          126.378906,
          126.401842,
          126.379951,
          126.379951,
          126.378906,
          126.401842,
          126.401842,
          126.378906,
          126.401842,
          126.401842,
          126.379951,
          126.364433,
          126.417561,
          126.401842,
          126.401842,
          126.401842,
          126.417561,
          126.359078,
          126.362021,
          126.359078,
          126.359078,
          126.401842,
          126.401842,
          126.401842,
          126.362021,
          126.362021,
          126.362021,
          126.401842,
          126.417561,
          126.401842,
          126.401842,
          126.401842,
          126.401842,
          126.378906,
          126.401842,
          126.359078,
          126.401842,
          126.401842,
          126.401842,
          126.401842,
          126.401842,
          126.359078,
          126.401842,
          126.401842,
          126.401842,
          126.401842,
          126.401842,
          126.401842,
          126.401842,
          126.401842,
          126.401842,
          126.401842,
          126.364433,
          126.401842,
          126.362021,
          126.401842,
          126.401842,
          126.401842,
          126.401842,
          126.401842,
          126.401842,
          126.401842,
          126.401842,
          126.401842,
          126.417561,
          126.417561,
          126.417561,
          126.417561,
          126.417561,
          126.417561,
          126.417561,
          126.417561,
          126.417561,
          126.417561,
          126.417561,
          126.417561,
          126.417561,
          126.417561,
          126.417561,
          126.417561,
          126.362021,
          126.362021,
          126.359078,
          126.359078,
          126.359078,
          126.401842,
          126.401842,
          126.401842,
          126.401842,
          126.401842,
          126.401842,
          126.401842,
          126.401842,
          126.401842,
          126.364433,
          126.362021,
          126.401842,
          126.401842,
          126.401842,
          126.401842,
          126.417561,
          126.401842,
          126.401842,
          126.417561,
          126.401842,
          126.401842,
          126.401842,
          126.401842,
          126.401842,
          126.359078,
          126.401842,
          126.401842,
          126.401842,
          126.401842,
          126.401842,
          126.401842,
          126.401842,
          126.359078,
          126.401842,
          126.401842,
          126.381069,
          126.381069,
          126.379951,
          126.379951,
          126.381069,
          126.379951,
          126.372253,
          126.401842,
          126.401842,
          126.401842,
          126.401842,
          126.379951,
          126.401842,
          126.401842,
          126.401842,
          126.401842,
          126.401842,
          126.366364,
          126.359078,
          126.362021,
          126.359078,
          126.379951,
          126.366364,
          126.379951,
          126.408419,
          126.401842,
          126.401842,
          126.359078,
          126.359078,
          126.401842,
          126.359078,
          126.359078,
          126.359078,
          126.362021,
          126.359078,
          126.366364,
          126.359078,
          126.359078,
          126.362021,
          126.359078,
          126.359078,
          126.359078,
          126.359078,
          126.362021,
          126.359078,
          126.359078,
          126.359078,
          126.359078,
          126.359078,
          126.359078,
          126.362021,
          126.359078,
          126.359078,
          126.359078,
          126.359078,
          126.359078,
          126.359078,
          126.359078,
          126.359078,
          126.359078,
          126.359078,
          126.359078,
          126.359078,
          126.359078,
          126.366364,
          126.359078,
          126.359078,
          126.359078,
          126.359078,
          126.366364,
          126.359078,
          126.359078,
          126.359078,
          126.359078,
          126.359078,
          126.359078,
          126.359078,
          126.359078,
          126.359078,
          126.362021,
          126.359078,
          126.366364,
          126.359078,
          126.359078,
          126.359078,
          126.362021,
          126.359078,
          126.359078,
          126.401842,
          126.401842,
          126.362021,
          126.390728,
          126.390728,
          126.401842,
          126.401842,
          126.401842,
          126.401842,
          126.401842,
          126.401842,
          126.401842,
          126.401842,
          126.401842,
          126.401842,
          126.417561,
          126.417561,
          126.359078,
          126.401842,
          126.401842,
          126.362021,
          126.401842,
          126.362021,
          126.401842,
          126.401842,
          126.401842,
          126.401842,
          126.401842,
          126.401842,
          126.362021,
          126.362021,
          126.401842,
          126.362021,
          126.359078,
          126.401842,
          126.401842,
          126.362021,
          126.401842,
          126.362021,
          126.401842,
          126.401842,
          126.401842,
          126.401842,
          126.401842,
          126.378906,
          126.401842,
          126.401842,
          126.401842,
          126.401842,
          126.401842,
          126.401842,
          126.401842,
          126.401842,
          126.359078,
          126.379951,
          126.379951,
          126.401842,
          126.379951,
          126.362021,
          126.359078,
          126.401842,
          126.362021,
          126.401842,
          126.362021,
          126.379951,
          126.379951,
          126.379951,
          126.362021,
          126.362021,
          126.362021,
          126.359078,
          126.359078,
          126.359078,
          126.359078,
          126.379951,
          126.362021,
          126.359078,
          126.362021,
          126.362021,
          126.362021,
          126.362021,
          126.362021,
          126.362021,
          126.366364,
          126.362021,
          126.359078,
          126.417561,
          126.359078,
          126.417561,
          126.401842,
          126.401842,
          126.362021,
          126.401842,
          126.401842,
          126.362021,
          126.359078,
          126.362021,
          126.362021,
          126.362021,
          126.359078,
          126.359078,
          126.362021,
          126.359078,
          126.359078,
          126.401842,
          126.359078,
          126.362021,
          126.362021,
          126.362021,
          126.401842,
          126.362021,
          126.362021,
          126.362021,
          126.417561,
          126.362021,
          126.417561,
          126.417561,
          126.362021,
          126.401842,
          126.401842,
          126.401842,
          126.359078,
          126.401842
         ],
         "y": [
          38.22482,
          38.20397,
          38.20397,
          38.20397,
          38.22482,
          38.24528,
          38.240449,
          38.24528,
          38.236119,
          38.24528,
          38.240449,
          38.24528,
          38.236119,
          38.236119,
          38.24528,
          38.210773,
          38.22405,
          38.210773,
          38.210773,
          38.210773,
          38.212581,
          38.212581,
          38.231774,
          38.231774,
          38.210773,
          38.210773,
          38.210773,
          38.210773,
          38.192293,
          38.210773,
          38.210773,
          38.210773,
          38.210773,
          38.192293,
          38.192293,
          38.192293,
          38.192293,
          38.210773,
          38.210773,
          38.210773,
          38.210773,
          38.22405,
          38.210773,
          38.210773,
          38.210271,
          38.210271,
          38.210773,
          38.210773,
          38.210773,
          38.212581,
          38.210773,
          38.210773,
          38.210773,
          38.210773,
          38.210773,
          38.210773,
          38.210773,
          38.210773,
          38.210773,
          38.210773,
          38.210773,
          38.210773,
          38.210773,
          38.210773,
          38.210773,
          38.210773,
          38.210773,
          38.210773,
          38.210773,
          38.210773,
          38.210773,
          38.210773,
          38.210773,
          38.210773,
          38.210773,
          38.210773,
          38.210773,
          38.212581,
          38.212581,
          38.24528,
          38.210773,
          38.210773,
          38.210773,
          38.210773,
          38.210773,
          38.240449,
          38.236119,
          38.210773,
          38.24528,
          38.210773,
          38.210773,
          38.212581,
          38.20397,
          38.210773,
          38.210773,
          38.210773,
          38.210773,
          38.210773,
          38.210773,
          38.210773,
          38.210773,
          38.210773,
          38.210773,
          38.210773,
          38.210773,
          38.210773,
          38.210271,
          38.210773,
          38.210773,
          38.210271,
          38.210773,
          38.210773,
          38.210773,
          38.210773,
          38.240449,
          38.210773,
          38.210773,
          38.240449,
          38.240449,
          38.210271,
          38.210773,
          38.210773,
          38.210773,
          38.210773,
          38.236119,
          38.210773,
          38.210773,
          38.210773,
          38.210271,
          38.210773,
          38.210773,
          38.210773,
          38.210773,
          38.210773,
          38.240449,
          38.210773,
          38.240449,
          38.22482,
          38.240449,
          38.192293,
          38.212581,
          38.210271,
          38.210271,
          38.192293,
          38.22482,
          38.24528,
          38.210773,
          38.210773,
          38.210773,
          38.210773,
          38.210773,
          38.210773,
          38.210773,
          38.210773,
          38.210773,
          38.240449,
          38.210773,
          38.210773,
          38.210773,
          38.210773,
          38.210271,
          38.210271,
          38.210271,
          38.210271,
          38.210271,
          38.210271,
          38.210271,
          38.210271,
          38.210271,
          38.210271,
          38.210271,
          38.210271,
          38.210271,
          38.210271,
          38.210271,
          38.210271,
          38.210271,
          38.210271,
          38.210271,
          38.210271,
          38.210271,
          38.210271,
          38.210271,
          38.210271,
          38.210271,
          38.210271,
          38.210271,
          38.210271,
          38.210271,
          38.210271,
          38.210271,
          38.210271,
          38.210271,
          38.210271,
          38.210271,
          38.210271,
          38.210271,
          38.210271,
          38.210271,
          38.210271,
          38.210271,
          38.210271,
          38.210271,
          38.210271,
          38.210271,
          38.24528,
          38.210773,
          38.210773,
          38.210773,
          38.210773,
          38.24528,
          38.210773,
          38.210773,
          38.210773,
          38.210773,
          38.231261,
          38.236119,
          38.210271,
          38.210773,
          38.210773,
          38.210773,
          38.231774,
          38.236119,
          38.231774,
          38.210773,
          38.210773,
          38.210773,
          38.210773,
          38.210773,
          38.210773,
          38.210773,
          38.210773,
          38.210773,
          38.210773,
          38.210773,
          38.210773,
          38.210773,
          38.210773,
          38.210773,
          38.210773,
          38.210773,
          38.210773,
          38.210773,
          38.210773,
          38.210773,
          38.210773,
          38.210773,
          38.210773,
          38.210773,
          38.210773,
          38.210773,
          38.212581,
          38.210773,
          38.210773,
          38.210773,
          38.210773,
          38.210773,
          38.210773,
          38.210773,
          38.210773,
          38.210773,
          38.210773,
          38.210773,
          38.210773,
          38.210773,
          38.210773,
          38.210773,
          38.210773,
          38.210773,
          38.210773,
          38.210773,
          38.210773,
          38.210773,
          38.210773,
          38.210773,
          38.210773,
          38.210773,
          38.210773,
          38.210773,
          38.210773,
          38.212581,
          38.210773,
          38.210773,
          38.192293,
          38.231774,
          38.231774,
          38.231261,
          38.24528,
          38.236119,
          38.210773,
          38.210773,
          38.212581,
          38.231774,
          38.210773,
          38.210773,
          38.210773,
          38.210773,
          38.192293,
          38.210773,
          38.231774,
          38.220451,
          38.20397,
          38.210773,
          38.210773,
          38.210773,
          38.210773,
          38.210773,
          38.210773,
          38.210773,
          38.210773,
          38.210773,
          38.243717,
          38.240449,
          38.240449,
          38.240449,
          38.210773,
          38.210773,
          38.210773,
          38.210773,
          38.210773,
          38.240449,
          38.210773,
          38.210773,
          38.210773,
          38.231774,
          38.210773,
          38.210773,
          38.210773,
          38.210773,
          38.210773,
          38.210773,
          38.210773,
          38.210773,
          38.231774,
          38.210773,
          38.210773,
          38.210773,
          38.20397,
          38.210773,
          38.231774,
          38.231774,
          38.210773,
          38.210271,
          38.210773,
          38.210773,
          38.210773,
          38.210773,
          38.210773,
          38.20397,
          38.210773,
          38.22405,
          38.210773,
          38.192293,
          38.210773,
          38.210773,
          38.210773,
          38.210773,
          38.210773,
          38.210773,
          38.210773,
          38.210773,
          38.210773,
          38.210773,
          38.210773,
          38.210773,
          38.210773,
          38.210271,
          38.210773,
          38.212581,
          38.231774,
          38.24528,
          38.24528,
          38.24528,
          38.24528,
          38.231774,
          38.210773,
          38.210773,
          38.210773,
          38.210773,
          38.24528,
          38.210773,
          38.231774,
          38.210773,
          38.240449,
          38.210271,
          38.210773,
          38.210271,
          38.231774,
          38.210773,
          38.210773,
          38.210773,
          38.20397,
          38.22482,
          38.210773,
          38.20397,
          38.231774,
          38.231774,
          38.212581,
          38.210773,
          38.231774,
          38.24528,
          38.240449,
          38.240449,
          38.212581,
          38.240449,
          38.231774,
          38.210773,
          38.210773,
          38.210773,
          38.240449,
          38.240449,
          38.212581,
          38.210773,
          38.210773,
          38.210773,
          38.210773,
          38.210773,
          38.192293,
          38.240449,
          38.240449,
          38.210773,
          38.210773,
          38.210773,
          38.210773,
          38.210773,
          38.210773,
          38.210773,
          38.210773,
          38.240449,
          38.210773,
          38.210773,
          38.210773,
          38.210773,
          38.210773,
          38.210773,
          38.210773,
          38.210773,
          38.210773,
          38.210773,
          38.210773,
          38.210773,
          38.210773,
          38.210773,
          38.210271,
          38.210773,
          38.210773,
          38.210773,
          38.210271,
          38.210271,
          38.24528,
          38.24528,
          38.24528,
          38.210271,
          38.20397,
          38.231261,
          38.210271,
          38.210271,
          38.210271,
          38.210773,
          38.210773,
          38.231774,
          38.210773,
          38.210773,
          38.210773,
          38.24528,
          38.20397,
          38.210773,
          38.212581,
          38.212581,
          38.20397,
          38.210773,
          38.210773,
          38.20397,
          38.210773,
          38.210773,
          38.212581,
          38.22482,
          38.210271,
          38.210773,
          38.210773,
          38.210773,
          38.210271,
          38.231261,
          38.24528,
          38.231261,
          38.231261,
          38.210773,
          38.210773,
          38.210773,
          38.24528,
          38.24528,
          38.24528,
          38.210773,
          38.210271,
          38.210773,
          38.210773,
          38.210773,
          38.210773,
          38.20397,
          38.210773,
          38.231261,
          38.210773,
          38.210773,
          38.210773,
          38.210773,
          38.210773,
          38.231261,
          38.210773,
          38.210773,
          38.210773,
          38.210773,
          38.210773,
          38.210773,
          38.210773,
          38.210773,
          38.210773,
          38.210773,
          38.22482,
          38.210773,
          38.24528,
          38.210773,
          38.210773,
          38.210773,
          38.210773,
          38.210773,
          38.210773,
          38.210773,
          38.210773,
          38.210773,
          38.210271,
          38.210271,
          38.210271,
          38.210271,
          38.210271,
          38.210271,
          38.210271,
          38.210271,
          38.210271,
          38.210271,
          38.210271,
          38.210271,
          38.210271,
          38.210271,
          38.210271,
          38.210271,
          38.24528,
          38.24528,
          38.231261,
          38.231261,
          38.231261,
          38.210773,
          38.210773,
          38.210773,
          38.210773,
          38.210773,
          38.210773,
          38.210773,
          38.210773,
          38.210773,
          38.22482,
          38.24528,
          38.210773,
          38.210773,
          38.210773,
          38.210773,
          38.210271,
          38.210773,
          38.210773,
          38.210271,
          38.210773,
          38.210773,
          38.210773,
          38.210773,
          38.210773,
          38.231261,
          38.210773,
          38.210773,
          38.210773,
          38.210773,
          38.210773,
          38.210773,
          38.210773,
          38.231261,
          38.210773,
          38.210773,
          38.220451,
          38.220451,
          38.212581,
          38.212581,
          38.220451,
          38.212581,
          38.22405,
          38.210773,
          38.210773,
          38.210773,
          38.210773,
          38.212581,
          38.210773,
          38.210773,
          38.210773,
          38.210773,
          38.210773,
          38.236119,
          38.231261,
          38.24528,
          38.231261,
          38.212581,
          38.236119,
          38.212581,
          38.192293,
          38.210773,
          38.210773,
          38.231261,
          38.231261,
          38.210773,
          38.231261,
          38.231261,
          38.231261,
          38.24528,
          38.231261,
          38.236119,
          38.231261,
          38.231261,
          38.24528,
          38.231261,
          38.231261,
          38.231261,
          38.231261,
          38.24528,
          38.231261,
          38.231261,
          38.231261,
          38.231261,
          38.231261,
          38.231261,
          38.24528,
          38.231261,
          38.231261,
          38.231261,
          38.231261,
          38.231261,
          38.231261,
          38.231261,
          38.231261,
          38.231261,
          38.231261,
          38.231261,
          38.231261,
          38.231261,
          38.236119,
          38.231261,
          38.231261,
          38.231261,
          38.231261,
          38.236119,
          38.231261,
          38.231261,
          38.231261,
          38.231261,
          38.231261,
          38.231261,
          38.231261,
          38.231261,
          38.231261,
          38.24528,
          38.231261,
          38.236119,
          38.231261,
          38.231261,
          38.231261,
          38.24528,
          38.231261,
          38.231261,
          38.210773,
          38.210773,
          38.24528,
          38.20593,
          38.20593,
          38.210773,
          38.210773,
          38.210773,
          38.210773,
          38.210773,
          38.210773,
          38.210773,
          38.210773,
          38.210773,
          38.210773,
          38.210271,
          38.210271,
          38.231261,
          38.210773,
          38.210773,
          38.24528,
          38.210773,
          38.24528,
          38.210773,
          38.210773,
          38.210773,
          38.210773,
          38.210773,
          38.210773,
          38.24528,
          38.24528,
          38.210773,
          38.24528,
          38.231261,
          38.210773,
          38.210773,
          38.24528,
          38.210773,
          38.24528,
          38.210773,
          38.210773,
          38.210773,
          38.210773,
          38.210773,
          38.20397,
          38.210773,
          38.210773,
          38.210773,
          38.210773,
          38.210773,
          38.210773,
          38.210773,
          38.210773,
          38.231261,
          38.212581,
          38.212581,
          38.210773,
          38.212581,
          38.24528,
          38.231261,
          38.210773,
          38.24528,
          38.210773,
          38.24528,
          38.212581,
          38.212581,
          38.212581,
          38.24528,
          38.24528,
          38.24528,
          38.231261,
          38.231261,
          38.231261,
          38.231261,
          38.212581,
          38.24528,
          38.231261,
          38.24528,
          38.24528,
          38.24528,
          38.24528,
          38.24528,
          38.24528,
          38.236119,
          38.24528,
          38.231261,
          38.210271,
          38.231261,
          38.210271,
          38.210773,
          38.210773,
          38.24528,
          38.210773,
          38.210773,
          38.24528,
          38.231261,
          38.24528,
          38.24528,
          38.24528,
          38.231261,
          38.231261,
          38.24528,
          38.231261,
          38.231261,
          38.210773,
          38.231261,
          38.24528,
          38.24528,
          38.24528,
          38.210773,
          38.24528,
          38.24528,
          38.24528,
          38.210271,
          38.24528,
          38.210271,
          38.210271,
          38.24528,
          38.210773,
          38.210773,
          38.210773,
          38.231261,
          38.210773
         ]
        }
       ],
       "layout": {
        "coloraxis": {
         "colorbar": {
          "title": {
           "text": "depth_m"
          }
         },
         "colorscale": [
          [
           0,
           "#440154"
          ],
          [
           0.1111111111111111,
           "#482878"
          ],
          [
           0.2222222222222222,
           "#3e4989"
          ],
          [
           0.3333333333333333,
           "#31688e"
          ],
          [
           0.4444444444444444,
           "#26828e"
          ],
          [
           0.5555555555555556,
           "#1f9e89"
          ],
          [
           0.6666666666666666,
           "#35b779"
          ],
          [
           0.7777777777777778,
           "#6ece58"
          ],
          [
           0.8888888888888888,
           "#b5de2b"
          ],
          [
           1,
           "#fde725"
          ]
         ]
        },
        "height": 720,
        "legend": {
         "bgcolor": "rgba(255,255,255,0.5)",
         "itemsizing": "constant",
         "tracegroupgap": 0,
         "x": 0.01,
         "xanchor": "left",
         "y": 0.99,
         "yanchor": "top"
        },
        "showlegend": true,
        "template": {
         "data": {
          "bar": [
           {
            "error_x": {
             "color": "#2a3f5f"
            },
            "error_y": {
             "color": "#2a3f5f"
            },
            "marker": {
             "line": {
              "color": "white",
              "width": 0.5
             },
             "pattern": {
              "fillmode": "overlay",
              "size": 10,
              "solidity": 0.2
             }
            },
            "type": "bar"
           }
          ],
          "barpolar": [
           {
            "marker": {
             "line": {
              "color": "white",
              "width": 0.5
             },
             "pattern": {
              "fillmode": "overlay",
              "size": 10,
              "solidity": 0.2
             }
            },
            "type": "barpolar"
           }
          ],
          "carpet": [
           {
            "aaxis": {
             "endlinecolor": "#2a3f5f",
             "gridcolor": "#C8D4E3",
             "linecolor": "#C8D4E3",
             "minorgridcolor": "#C8D4E3",
             "startlinecolor": "#2a3f5f"
            },
            "baxis": {
             "endlinecolor": "#2a3f5f",
             "gridcolor": "#C8D4E3",
             "linecolor": "#C8D4E3",
             "minorgridcolor": "#C8D4E3",
             "startlinecolor": "#2a3f5f"
            },
            "type": "carpet"
           }
          ],
          "choropleth": [
           {
            "colorbar": {
             "outlinewidth": 0,
             "ticks": ""
            },
            "type": "choropleth"
           }
          ],
          "contour": [
           {
            "colorbar": {
             "outlinewidth": 0,
             "ticks": ""
            },
            "colorscale": [
             [
              0,
              "#0d0887"
             ],
             [
              0.1111111111111111,
              "#46039f"
             ],
             [
              0.2222222222222222,
              "#7201a8"
             ],
             [
              0.3333333333333333,
              "#9c179e"
             ],
             [
              0.4444444444444444,
              "#bd3786"
             ],
             [
              0.5555555555555556,
              "#d8576b"
             ],
             [
              0.6666666666666666,
              "#ed7953"
             ],
             [
              0.7777777777777778,
              "#fb9f3a"
             ],
             [
              0.8888888888888888,
              "#fdca26"
             ],
             [
              1,
              "#f0f921"
             ]
            ],
            "type": "contour"
           }
          ],
          "contourcarpet": [
           {
            "colorbar": {
             "outlinewidth": 0,
             "ticks": ""
            },
            "type": "contourcarpet"
           }
          ],
          "heatmap": [
           {
            "colorbar": {
             "outlinewidth": 0,
             "ticks": ""
            },
            "colorscale": [
             [
              0,
              "#0d0887"
             ],
             [
              0.1111111111111111,
              "#46039f"
             ],
             [
              0.2222222222222222,
              "#7201a8"
             ],
             [
              0.3333333333333333,
              "#9c179e"
             ],
             [
              0.4444444444444444,
              "#bd3786"
             ],
             [
              0.5555555555555556,
              "#d8576b"
             ],
             [
              0.6666666666666666,
              "#ed7953"
             ],
             [
              0.7777777777777778,
              "#fb9f3a"
             ],
             [
              0.8888888888888888,
              "#fdca26"
             ],
             [
              1,
              "#f0f921"
             ]
            ],
            "type": "heatmap"
           }
          ],
          "heatmapgl": [
           {
            "colorbar": {
             "outlinewidth": 0,
             "ticks": ""
            },
            "colorscale": [
             [
              0,
              "#0d0887"
             ],
             [
              0.1111111111111111,
              "#46039f"
             ],
             [
              0.2222222222222222,
              "#7201a8"
             ],
             [
              0.3333333333333333,
              "#9c179e"
             ],
             [
              0.4444444444444444,
              "#bd3786"
             ],
             [
              0.5555555555555556,
              "#d8576b"
             ],
             [
              0.6666666666666666,
              "#ed7953"
             ],
             [
              0.7777777777777778,
              "#fb9f3a"
             ],
             [
              0.8888888888888888,
              "#fdca26"
             ],
             [
              1,
              "#f0f921"
             ]
            ],
            "type": "heatmapgl"
           }
          ],
          "histogram": [
           {
            "marker": {
             "pattern": {
              "fillmode": "overlay",
              "size": 10,
              "solidity": 0.2
             }
            },
            "type": "histogram"
           }
          ],
          "histogram2d": [
           {
            "colorbar": {
             "outlinewidth": 0,
             "ticks": ""
            },
            "colorscale": [
             [
              0,
              "#0d0887"
             ],
             [
              0.1111111111111111,
              "#46039f"
             ],
             [
              0.2222222222222222,
              "#7201a8"
             ],
             [
              0.3333333333333333,
              "#9c179e"
             ],
             [
              0.4444444444444444,
              "#bd3786"
             ],
             [
              0.5555555555555556,
              "#d8576b"
             ],
             [
              0.6666666666666666,
              "#ed7953"
             ],
             [
              0.7777777777777778,
              "#fb9f3a"
             ],
             [
              0.8888888888888888,
              "#fdca26"
             ],
             [
              1,
              "#f0f921"
             ]
            ],
            "type": "histogram2d"
           }
          ],
          "histogram2dcontour": [
           {
            "colorbar": {
             "outlinewidth": 0,
             "ticks": ""
            },
            "colorscale": [
             [
              0,
              "#0d0887"
             ],
             [
              0.1111111111111111,
              "#46039f"
             ],
             [
              0.2222222222222222,
              "#7201a8"
             ],
             [
              0.3333333333333333,
              "#9c179e"
             ],
             [
              0.4444444444444444,
              "#bd3786"
             ],
             [
              0.5555555555555556,
              "#d8576b"
             ],
             [
              0.6666666666666666,
              "#ed7953"
             ],
             [
              0.7777777777777778,
              "#fb9f3a"
             ],
             [
              0.8888888888888888,
              "#fdca26"
             ],
             [
              1,
              "#f0f921"
             ]
            ],
            "type": "histogram2dcontour"
           }
          ],
          "mesh3d": [
           {
            "colorbar": {
             "outlinewidth": 0,
             "ticks": ""
            },
            "type": "mesh3d"
           }
          ],
          "parcoords": [
           {
            "line": {
             "colorbar": {
              "outlinewidth": 0,
              "ticks": ""
             }
            },
            "type": "parcoords"
           }
          ],
          "pie": [
           {
            "automargin": true,
            "type": "pie"
           }
          ],
          "scatter": [
           {
            "fillpattern": {
             "fillmode": "overlay",
             "size": 10,
             "solidity": 0.2
            },
            "type": "scatter"
           }
          ],
          "scatter3d": [
           {
            "line": {
             "colorbar": {
              "outlinewidth": 0,
              "ticks": ""
             }
            },
            "marker": {
             "colorbar": {
              "outlinewidth": 0,
              "ticks": ""
             }
            },
            "type": "scatter3d"
           }
          ],
          "scattercarpet": [
           {
            "marker": {
             "colorbar": {
              "outlinewidth": 0,
              "ticks": ""
             }
            },
            "type": "scattercarpet"
           }
          ],
          "scattergeo": [
           {
            "marker": {
             "colorbar": {
              "outlinewidth": 0,
              "ticks": ""
             }
            },
            "type": "scattergeo"
           }
          ],
          "scattergl": [
           {
            "marker": {
             "colorbar": {
              "outlinewidth": 0,
              "ticks": ""
             }
            },
            "type": "scattergl"
           }
          ],
          "scattermapbox": [
           {
            "marker": {
             "colorbar": {
              "outlinewidth": 0,
              "ticks": ""
             }
            },
            "type": "scattermapbox"
           }
          ],
          "scatterpolar": [
           {
            "marker": {
             "colorbar": {
              "outlinewidth": 0,
              "ticks": ""
             }
            },
            "type": "scatterpolar"
           }
          ],
          "scatterpolargl": [
           {
            "marker": {
             "colorbar": {
              "outlinewidth": 0,
              "ticks": ""
             }
            },
            "type": "scatterpolargl"
           }
          ],
          "scatterternary": [
           {
            "marker": {
             "colorbar": {
              "outlinewidth": 0,
              "ticks": ""
             }
            },
            "type": "scatterternary"
           }
          ],
          "surface": [
           {
            "colorbar": {
             "outlinewidth": 0,
             "ticks": ""
            },
            "colorscale": [
             [
              0,
              "#0d0887"
             ],
             [
              0.1111111111111111,
              "#46039f"
             ],
             [
              0.2222222222222222,
              "#7201a8"
             ],
             [
              0.3333333333333333,
              "#9c179e"
             ],
             [
              0.4444444444444444,
              "#bd3786"
             ],
             [
              0.5555555555555556,
              "#d8576b"
             ],
             [
              0.6666666666666666,
              "#ed7953"
             ],
             [
              0.7777777777777778,
              "#fb9f3a"
             ],
             [
              0.8888888888888888,
              "#fdca26"
             ],
             [
              1,
              "#f0f921"
             ]
            ],
            "type": "surface"
           }
          ],
          "table": [
           {
            "cells": {
             "fill": {
              "color": "#EBF0F8"
             },
             "line": {
              "color": "white"
             }
            },
            "header": {
             "fill": {
              "color": "#C8D4E3"
             },
             "line": {
              "color": "white"
             }
            },
            "type": "table"
           }
          ]
         },
         "layout": {
          "annotationdefaults": {
           "arrowcolor": "#2a3f5f",
           "arrowhead": 0,
           "arrowwidth": 1
          },
          "autotypenumbers": "strict",
          "coloraxis": {
           "colorbar": {
            "outlinewidth": 0,
            "ticks": ""
           }
          },
          "colorscale": {
           "diverging": [
            [
             0,
             "#8e0152"
            ],
            [
             0.1,
             "#c51b7d"
            ],
            [
             0.2,
             "#de77ae"
            ],
            [
             0.3,
             "#f1b6da"
            ],
            [
             0.4,
             "#fde0ef"
            ],
            [
             0.5,
             "#f7f7f7"
            ],
            [
             0.6,
             "#e6f5d0"
            ],
            [
             0.7,
             "#b8e186"
            ],
            [
             0.8,
             "#7fbc41"
            ],
            [
             0.9,
             "#4d9221"
            ],
            [
             1,
             "#276419"
            ]
           ],
           "sequential": [
            [
             0,
             "#0d0887"
            ],
            [
             0.1111111111111111,
             "#46039f"
            ],
            [
             0.2222222222222222,
             "#7201a8"
            ],
            [
             0.3333333333333333,
             "#9c179e"
            ],
            [
             0.4444444444444444,
             "#bd3786"
            ],
            [
             0.5555555555555556,
             "#d8576b"
            ],
            [
             0.6666666666666666,
             "#ed7953"
            ],
            [
             0.7777777777777778,
             "#fb9f3a"
            ],
            [
             0.8888888888888888,
             "#fdca26"
            ],
            [
             1,
             "#f0f921"
            ]
           ],
           "sequentialminus": [
            [
             0,
             "#0d0887"
            ],
            [
             0.1111111111111111,
             "#46039f"
            ],
            [
             0.2222222222222222,
             "#7201a8"
            ],
            [
             0.3333333333333333,
             "#9c179e"
            ],
            [
             0.4444444444444444,
             "#bd3786"
            ],
            [
             0.5555555555555556,
             "#d8576b"
            ],
            [
             0.6666666666666666,
             "#ed7953"
            ],
            [
             0.7777777777777778,
             "#fb9f3a"
            ],
            [
             0.8888888888888888,
             "#fdca26"
            ],
            [
             1,
             "#f0f921"
            ]
           ]
          },
          "colorway": [
           "#636efa",
           "#EF553B",
           "#00cc96",
           "#ab63fa",
           "#FFA15A",
           "#19d3f3",
           "#FF6692",
           "#B6E880",
           "#FF97FF",
           "#FECB52"
          ],
          "font": {
           "color": "#2a3f5f"
          },
          "geo": {
           "bgcolor": "white",
           "lakecolor": "white",
           "landcolor": "white",
           "showlakes": true,
           "showland": true,
           "subunitcolor": "#C8D4E3"
          },
          "hoverlabel": {
           "align": "left"
          },
          "hovermode": "closest",
          "mapbox": {
           "style": "light"
          },
          "paper_bgcolor": "white",
          "plot_bgcolor": "white",
          "polar": {
           "angularaxis": {
            "gridcolor": "#EBF0F8",
            "linecolor": "#EBF0F8",
            "ticks": ""
           },
           "bgcolor": "white",
           "radialaxis": {
            "gridcolor": "#EBF0F8",
            "linecolor": "#EBF0F8",
            "ticks": ""
           }
          },
          "scene": {
           "xaxis": {
            "backgroundcolor": "white",
            "gridcolor": "#DFE8F3",
            "gridwidth": 2,
            "linecolor": "#EBF0F8",
            "showbackground": true,
            "ticks": "",
            "zerolinecolor": "#EBF0F8"
           },
           "yaxis": {
            "backgroundcolor": "white",
            "gridcolor": "#DFE8F3",
            "gridwidth": 2,
            "linecolor": "#EBF0F8",
            "showbackground": true,
            "ticks": "",
            "zerolinecolor": "#EBF0F8"
           },
           "zaxis": {
            "backgroundcolor": "white",
            "gridcolor": "#DFE8F3",
            "gridwidth": 2,
            "linecolor": "#EBF0F8",
            "showbackground": true,
            "ticks": "",
            "zerolinecolor": "#EBF0F8"
           }
          },
          "shapedefaults": {
           "line": {
            "color": "#2a3f5f"
           }
          },
          "ternary": {
           "aaxis": {
            "gridcolor": "#DFE8F3",
            "linecolor": "#A2B1C6",
            "ticks": ""
           },
           "baxis": {
            "gridcolor": "#DFE8F3",
            "linecolor": "#A2B1C6",
            "ticks": ""
           },
           "bgcolor": "white",
           "caxis": {
            "gridcolor": "#DFE8F3",
            "linecolor": "#A2B1C6",
            "ticks": ""
           }
          },
          "title": {
           "x": 0.05
          },
          "xaxis": {
           "automargin": true,
           "gridcolor": "#EBF0F8",
           "linecolor": "#EBF0F8",
           "ticks": "",
           "title": {
            "standoff": 15
           },
           "zerolinecolor": "#EBF0F8",
           "zerolinewidth": 2
          },
          "yaxis": {
           "automargin": true,
           "gridcolor": "#EBF0F8",
           "linecolor": "#EBF0F8",
           "ticks": "",
           "title": {
            "standoff": 15
           },
           "zerolinecolor": "#EBF0F8",
           "zerolinewidth": 2
          }
         }
        },
        "title": {
         "text": "Earthquake Locations (2D)"
        },
        "width": 960,
        "xaxis": {
         "anchor": "y",
         "domain": [
          0,
          1
         ],
         "range": [
          126.33477232364511,
          126.44453328439512
         ],
         "scaleanchor": "y",
         "scaleratio": 1,
         "title": {
          "text": "Longitude"
         }
        },
        "yaxis": {
         "anchor": "x",
         "domain": [
          0,
          1
         ],
         "range": [
          38.16793943689761,
          38.27770039764762
         ],
         "scaleratio": 1,
         "title": {
          "text": "Latitude"
         }
        }
       }
      }
     },
     "metadata": {},
     "output_type": "display_data"
    }
   ],
   "source": [
    "# 2D plot\n",
    "lqt_ready_2.plot_hypocenter_2d()"
   ]
  },
  {
   "cell_type": "markdown",
   "metadata": {},
   "source": [
    "A. 3D Hypocenter Plot\n",
    "\n",
    "To plot your hypocenter in 3D we can use `plot_hypocenter_3D` class method."
   ]
  },
  {
   "cell_type": "code",
   "execution_count": 8,
   "metadata": {},
   "outputs": [
    {
     "data": {
      "application/vnd.plotly.v1+json": {
       "config": {
        "plotlyServerURL": "https://plot.ly"
       },
       "data": [
        {
         "customdata": [
          [
           2000,
           873.3,
           0.431428820071198
          ],
          [
           2001,
           -1258.86,
           1.0601077244456525
          ],
          [
           2002,
           -1366.21,
           1.3525485401063475
          ],
          [
           2003,
           -1030.06,
           0.7975739448335712
          ],
          [
           2005,
           265.14,
           0.9644863837837434
          ],
          [
           2006,
           121.14,
           2.020023343050088
          ],
          [
           2007,
           108.44,
           1.0443654113941223
          ],
          [
           2008,
           393.28,
           0.6456726701919218
          ],
          [
           2009,
           296.92,
           0.774851296154786
          ],
          [
           2010,
           142.22,
           1.6027164048141431
          ],
          [
           2011,
           403.04,
           0.5927815465142681
          ],
          [
           2012,
           385.08,
           0.7583362329342513
          ],
          [
           2013,
           256.33,
           0.7253675380587881
          ],
          [
           2014,
           191.3,
           0.654783393997814
          ],
          [
           2015,
           -251.04,
           1.0933645886260883
          ],
          [
           2016,
           525,
           0.0159507172540154
          ],
          [
           2017,
           -203.19,
           0.8054443503492426
          ],
          [
           2018,
           -267.5,
           1.1675946264328
          ],
          [
           2019,
           116.28,
           0.6592267112182286
          ],
          [
           2020,
           -311.44,
           0.9353618819371904
          ],
          [
           2021,
           906.696,
           0.3546812264761048
          ],
          [
           2022,
           1005.655,
           1.0023562463679276
          ],
          [
           2023,
           496.726,
           0.6728887271342519
          ],
          [
           2024,
           -1708.631,
           0.8442364181878226
          ],
          [
           2025,
           -449.89,
           0.3903965890065173
          ],
          [
           2026,
           -470.75,
           0.3960490311056102
          ],
          [
           2027,
           -455.17,
           0.3886139152688956
          ],
          [
           2028,
           -6826.19,
           1.2369329950770274
          ],
          [
           2029,
           1571.131,
           0.2081600800927479
          ],
          [
           2030,
           -634.95,
           0.9516704160029272
          ],
          [
           2031,
           -217.68,
           0.5733196080375906
          ],
          [
           2032,
           -360.13,
           0.5399171191809096
          ],
          [
           2033,
           -4507.23,
           1.4569134231416054
          ],
          [
           2034,
           -4391.01,
           1.3617477587196465
          ],
          [
           2035,
           -4622.56,
           1.293996665114424
          ],
          [
           2036,
           -4960.119,
           1.2576643737414566
          ],
          [
           2037,
           -540.13,
           1.0786630517841234
          ],
          [
           2038,
           -517.66,
           0.6722554144273518
          ],
          [
           2039,
           -427.63,
           0.9359037071263936
          ],
          [
           2040,
           -85.59,
           0.5947334654317729
          ],
          [
           2041,
           -1821.726,
           0.7162590362716204
          ],
          [
           2042,
           -296.14,
           0.8679064099773441
          ],
          [
           2043,
           -339.73,
           0.5355819654587863
          ],
          [
           2044,
           -882.02,
           0.9048736346305848
          ],
          [
           2045,
           -973.512,
           0.6853893976800487
          ],
          [
           2046,
           414.91,
           0.3401796698478403
          ],
          [
           2047,
           -92.76,
           0.3492548372855868
          ],
          [
           2048,
           -230.87,
           0.7319223442495266
          ],
          [
           2049,
           -218,
           1.4144269013849895
          ],
          [
           2050,
           -260.72,
           0.3349312867442586
          ],
          [
           2051,
           -348.39,
           0.6172595795447258
          ],
          [
           2052,
           -452.72,
           0.61578548331725
          ],
          [
           2053,
           -433.14,
           0.4252443866801023
          ],
          [
           2054,
           -513.09,
           0.2764627432349424
          ],
          [
           2055,
           -315.71,
           0.6708036415050351
          ],
          [
           2056,
           -538.17,
           1.0676094142903212
          ],
          [
           2057,
           -890.11,
           0.5043523206478726
          ],
          [
           2058,
           -1004.55,
           0.7067462266553841
          ],
          [
           2059,
           -880.33,
           0.9205446964409364
          ],
          [
           2060,
           -485.01,
           0.9411395457999214
          ],
          [
           2061,
           -345.64,
           0.78692506289803
          ],
          [
           2062,
           -586.65,
           0.3681330785911259
          ],
          [
           2063,
           -442.57,
           0.3460856660338791
          ],
          [
           2064,
           -381.24,
           0.4705798930186731
          ],
          [
           2065,
           -83.58,
           0.3638388551383311
          ],
          [
           2066,
           -24.83,
           0.3892277401845421
          ],
          [
           2067,
           32.01,
           0.4264322496271528
          ],
          [
           2068,
           -339.67,
           0.9294830720260414
          ],
          [
           2069,
           -161.22,
           1.5198238795348056
          ],
          [
           2070,
           -61.85,
           0.8929080408023164
          ],
          [
           2071,
           380.6,
           0.7387301597960381
          ],
          [
           2072,
           -79.75,
           0.1899934103792606
          ],
          [
           2073,
           170.43,
           0.4029833504537734
          ],
          [
           2074,
           -229.52,
           1.1483473682598682
          ],
          [
           2075,
           -98.89,
           0.5452823640934881
          ],
          [
           2076,
           -1086.607,
           0.5985335821327382
          ],
          [
           2077,
           -269.98,
           0.4736629751376888
          ],
          [
           2078,
           -166.82,
           0.2883360689190581
          ],
          [
           2079,
           -1850,
           1.31226391252512
          ],
          [
           2080,
           977.381,
           -0.0927394174459994
          ],
          [
           2081,
           -438.44,
           0.9838946197776092
          ],
          [
           2082,
           -746.26,
           0.5776952759464233
          ],
          [
           2083,
           -736.65,
           0.5325998386550852
          ],
          [
           2084,
           -408.3,
           0.5098484786481876
          ],
          [
           2085,
           445.61,
           0.7248844636016418
          ],
          [
           2087,
           269.64,
           1.135445662575748
          ],
          [
           2088,
           67.47,
           0.7213718971351186
          ],
          [
           2089,
           -724.28,
           1.0302507923751012
          ],
          [
           2090,
           -602.01,
           1.240886593465221
          ],
          [
           2091,
           -971.53,
           0.708017184764735
          ],
          [
           2092,
           -453.34,
           0.5985100772679184
          ],
          [
           2093,
           235.09,
           0.2512914030808009
          ],
          [
           2094,
           -1470.68,
           0.4005660720965398
          ],
          [
           2095,
           -518.89,
           1.3156938119418609
          ],
          [
           2096,
           -480.95,
           0.5707964115824513
          ],
          [
           2097,
           -72.44,
           0.2288566822850466
          ],
          [
           2098,
           796.13,
           0.8719323290044994
          ],
          [
           2099,
           119.23,
           0.5268979281145834
          ],
          [
           2100,
           -183.11,
           0.8198159773378748
          ],
          [
           2101,
           -43.09,
           0.3522542600208078
          ],
          [
           2102,
           -33.2,
           0.2462466879842644
          ],
          [
           2103,
           -2.46,
           0.2906884047817586
          ],
          [
           2105,
           110.37,
           0.50953455322463
          ],
          [
           2106,
           -314.25,
           0.5087445847081726
          ],
          [
           2107,
           -605.53,
           0.8825882391457771
          ],
          [
           2108,
           9.27,
           0.2109376936874802
          ],
          [
           2109,
           -1112.54,
           0.8307244897527095
          ],
          [
           2110,
           185.46,
           0.6372540234369213
          ],
          [
           2111,
           183.21,
           0.8469281394261223
          ],
          [
           2112,
           153.36,
           0.6962478858697416
          ],
          [
           2113,
           -165.88,
           0.784974951054723
          ],
          [
           2114,
           532.39,
           0.8082149881675704
          ],
          [
           2115,
           182.25,
           0.7998191799972911
          ],
          [
           2116,
           491.23,
           0.4549186293677865
          ],
          [
           2117,
           561.15,
           0.7345575217802196
          ],
          [
           2118,
           161.62,
           0.7874989495938118
          ],
          [
           2119,
           -619.22,
           0.4557794828180563
          ],
          [
           2120,
           468.452,
           0.4057826389319077
          ],
          [
           2121,
           -367.22,
           0.5924995946119056
          ],
          [
           2122,
           -11.08,
           0.7102351355117804
          ],
          [
           2123,
           62.24,
           0.024835940542303
          ],
          [
           2124,
           -803.869,
           0.6895839506145212
          ],
          [
           2125,
           -1145.1,
           0.9193671566625924
          ],
          [
           2126,
           79.76,
           0.3685711876765527
          ],
          [
           2127,
           95.58,
           0.8597316246823379
          ],
          [
           2128,
           -1227.976,
           0.5703990051336856
          ],
          [
           2129,
           697.62,
           -0.1750558205034229
          ],
          [
           2130,
           -623.07,
           0.616879387424544
          ],
          [
           2132,
           -201.19,
           0.0837333730657947
          ],
          [
           2133,
           -209.13,
           0.5375673399665697
          ],
          [
           2134,
           168.02,
           0.9483548869138244
          ],
          [
           2135,
           -765.87,
           0.807043142154936
          ],
          [
           2136,
           416.75,
           0.5428437868792146
          ],
          [
           2137,
           2306.25,
           -0.1769806026475269
          ],
          [
           2138,
           169.41,
           0.5179848515647194
          ],
          [
           2139,
           16.071,
           0.1256524141225146
          ],
          [
           2140,
           -2245.76,
           0.4517204751590054
          ],
          [
           2141,
           818.66,
           0.5571435133578548
          ],
          [
           2142,
           -445.82,
           0.8880733830602399
          ],
          [
           2143,
           -9879.762,
           1.428590275357477
          ],
          [
           2144,
           -3682.21,
           0.5507176275800649
          ],
          [
           2145,
           1655.952,
           0.4616713032751871
          ],
          [
           2146,
           -299.82,
           0.5667674004107877
          ],
          [
           2147,
           -1050.16,
           0.4148186692694864
          ],
          [
           2148,
           -604.83,
           0.2787873094314017
          ],
          [
           2149,
           -958.99,
           0.565486140841255
          ],
          [
           2150,
           -954.5,
           0.5664598532135416
          ],
          [
           2151,
           -39.32,
           0.9373844888607588
          ],
          [
           2152,
           -339.43,
           0.972443138918484
          ],
          [
           2153,
           -402.66,
           0.5420413315626726
          ],
          [
           2154,
           22.7,
           0.20495926138884
          ],
          [
           2155,
           146.65,
           0.6096269588495709
          ],
          [
           2156,
           -36.17,
           0.4160963051513082
          ],
          [
           2157,
           -723.02,
           0.4033769629360515
          ],
          [
           2158,
           -734.57,
           0.7727607265711836
          ],
          [
           2159,
           -565.2,
           0.5675750980253707
          ],
          [
           2160,
           -375.46,
           0.7036863959010535
          ],
          [
           2161,
           -560.05,
           1.1245065701216506
          ],
          [
           2162,
           -532.02,
           1.1827105750862614
          ],
          [
           2164,
           16.071,
           0.3319940220158575
          ],
          [
           2165,
           787.11,
           0.3466389803249008
          ],
          [
           2166,
           991.94,
           0.3038492932889465
          ],
          [
           2167,
           -516.38,
           1.3349829237522863
          ],
          [
           2168,
           170.35,
           1.2812768229122833
          ],
          [
           2169,
           -605.952,
           1.2384251941000466
          ],
          [
           2170,
           -607.16,
           1.1311612688691115
          ],
          [
           2171,
           650.9,
           1.014948626363208
          ],
          [
           2172,
           894.71,
           1.1583752804919882
          ],
          [
           2173,
           -372.49,
           1.4104624168152498
          ],
          [
           2174,
           977.381,
           0.8735330260886762
          ],
          [
           2175,
           -676.637,
           1.2332989057130543
          ],
          [
           2176,
           -610.36,
           1.237050727691658
          ],
          [
           2177,
           -438.11,
           0.8413646666110504
          ],
          [
           2178,
           -469.82,
           0.906765324203417
          ],
          [
           2179,
           1344.91,
           0.4341852488831161
          ],
          [
           2180,
           644.01,
           0.0224125479140493
          ],
          [
           2181,
           -737.65,
           0.8427954935401072
          ],
          [
           2182,
           -830.77,
           0.7022005222218759
          ],
          [
           2183,
           749.59,
           0.0046241537886411
          ],
          [
           2184,
           -1199.13,
           1.0726443868939637
          ],
          [
           2185,
           1278.71,
           0.2916918192017137
          ],
          [
           2186,
           -410.53,
           0.9538549543372355
          ],
          [
           2187,
           -385.53,
           0.6840627400168398
          ],
          [
           2188,
           834.7,
           0.4485967159598747
          ],
          [
           2189,
           -504.91,
           1.4615454233074354
          ],
          [
           2190,
           1161.51,
           0.3310521328511289
          ],
          [
           2191,
           -482.97,
           1.2145822164637012
          ],
          [
           2192,
           -84.4,
           0.6185378889499944
          ],
          [
           2193,
           -382.13,
           0.6533882775374069
          ],
          [
           2194,
           -739.97,
           0.986688938803983
          ],
          [
           2195,
           1629.85,
           0.4256287227427524
          ],
          [
           2196,
           72.619,
           0.5392197485895185
          ],
          [
           2197,
           930.58,
           0.552276677554767
          ],
          [
           2198,
           -888.69,
           0.7182388035297587
          ],
          [
           2199,
           291.83,
           0.4492798133382045
          ],
          [
           2200,
           1178.72,
           0.401448169416648
          ],
          [
           2201,
           -741.96,
           1.383040614646923
          ],
          [
           2202,
           -433.23,
           0.5913966317959067
          ],
          [
           2203,
           737.61,
           -0.0844758055455408
          ],
          [
           2204,
           -422.73,
           0.5126295793297349
          ],
          [
           2205,
           -209.74,
           0.6550712270331225
          ],
          [
           2206,
           230.75,
           0.6069394459317312
          ],
          [
           2207,
           -34.35,
           0.7001489240642238
          ],
          [
           2208,
           104.61,
           0.3404903610380332
          ],
          [
           2209,
           -138.68,
           0.4649338944668493
          ],
          [
           2210,
           134.73,
           0.5041783518619116
          ],
          [
           2211,
           -606.7,
           0.6247422715673112
          ],
          [
           2212,
           -768.95,
           1.1408098888942648
          ],
          [
           2213,
           -530.62,
           0.6768741551801085
          ],
          [
           2214,
           -209.38,
           0.540528452040836
          ],
          [
           2215,
           683.91,
           0.0709331381204769
          ],
          [
           2216,
           453.34,
           0.7019561148368441
          ],
          [
           2217,
           -598.41,
           1.3917381441604757
          ],
          [
           2218,
           -844.37,
           0.5898198812778555
          ],
          [
           2219,
           -240.67,
           0.7647135553387354
          ],
          [
           2220,
           -190.67,
           0.147122513254704
          ],
          [
           2221,
           478.98,
           0.959397655153559
          ],
          [
           2222,
           507.07,
           0.776294721377754
          ],
          [
           2223,
           214.13,
           1.2449345144273396
          ],
          [
           2224,
           -1005.54,
           0.8710315693882951
          ],
          [
           2225,
           -990.53,
           0.7325593440403857
          ],
          [
           2226,
           -942.74,
           0.32628444688714
          ],
          [
           2227,
           -762.7,
           0.3337166202642905
          ],
          [
           2228,
           -838.31,
           0.172530781238394
          ],
          [
           2229,
           -468.94,
           0.098635293357586
          ],
          [
           2230,
           -672.2,
           0.564314403329659
          ],
          [
           2231,
           -992.7,
           0.8102546896122167
          ],
          [
           2232,
           -664.8,
           0.3992150460987034
          ],
          [
           2233,
           -1015.14,
           0.6540428584485172
          ],
          [
           2234,
           -1012.23,
           0.2361461693406434
          ],
          [
           2235,
           2.21,
           0.6303436002868619
          ],
          [
           2236,
           -971.64,
           0.2889348697575418
          ],
          [
           2237,
           -465.48,
           0.2456272355042124
          ],
          [
           2238,
           -578.5,
           0.6084708468679754
          ],
          [
           2239,
           -957.82,
           0.1157233695122705
          ],
          [
           2240,
           -1016.06,
           0.7050577116362664
          ],
          [
           2241,
           -953.39,
           0.1455613178732315
          ],
          [
           2242,
           -990.36,
           0.2627750351359346
          ],
          [
           2243,
           -715.15,
           0.3335345947951591
          ],
          [
           2244,
           -939.29,
           0.1254489152631599
          ],
          [
           2245,
           432.77,
           0.2155560026969718
          ],
          [
           2246,
           -18.11,
           0.5226566857917643
          ],
          [
           2248,
           118.4,
           0.0384710668470518
          ],
          [
           2249,
           -224.75,
           0.5188177190781236
          ],
          [
           2250,
           -184.26,
           0.360780191215019
          ],
          [
           2251,
           -6939.286,
           0.9437034481663256
          ],
          [
           2252,
           -989.87,
           0.3020755524149461
          ],
          [
           2253,
           -963.5,
           0.2557659295722558
          ],
          [
           2254,
           -938.08,
           0.4609418411322039
          ],
          [
           2255,
           -990.71,
           0.7680113579278309
          ],
          [
           2256,
           -985.77,
           0.4444867988259382
          ],
          [
           2257,
           -934.08,
           0.6136170962346892
          ],
          [
           2258,
           -1014.88,
           0.4162029676840486
          ],
          [
           2259,
           -844.26,
           0.2540281013354679
          ],
          [
           2260,
           -955.41,
           0.4841331357678031
          ],
          [
           2261,
           -1011.12,
           0.3689000804811204
          ],
          [
           2262,
           -1013.39,
           1.0967145953067048
          ],
          [
           2263,
           -917.36,
           0.4999450111712242
          ],
          [
           2264,
           -923.39,
           0.3813959022296211
          ],
          [
           2265,
           -1010.67,
           0.386266096471755
          ],
          [
           2266,
           -1091.18,
           1.5470708545970249
          ],
          [
           2267,
           -939.47,
           0.4463423047663122
          ],
          [
           2268,
           -963.7,
           0.5978151440746675
          ],
          [
           2269,
           -992.34,
           0.6315700386130567
          ],
          [
           2270,
           -892.39,
           0.3200761985852587
          ],
          [
           2271,
           -1424.02,
           0.3733279484401439
          ],
          [
           2272,
           -197.26,
           0.1273944287822823
          ],
          [
           2273,
           -948.77,
           0.8951150130580512
          ],
          [
           2274,
           -1180.32,
           0.970746546754345
          ],
          [
           2275,
           -897.48,
           0.1053943264547605
          ],
          [
           2276,
           -903.2,
           0.1469163942962925
          ],
          [
           2277,
           -881.26,
           0.2515262435555101
          ],
          [
           2278,
           -1002.74,
           0.8358357824896716
          ],
          [
           2279,
           -992.92,
           0.5485098190871494
          ],
          [
           2280,
           -407.64,
           0.7255718796221036
          ],
          [
           2281,
           -960.5,
           0.4293035339361548
          ],
          [
           2282,
           -973.89,
           0.6910475906259155
          ],
          [
           2283,
           -13725,
           1.486184011003478
          ],
          [
           2284,
           368.07,
           0.6175410501029148
          ],
          [
           2285,
           177.53,
           0.5380753107800373
          ],
          [
           2286,
           -3320.238,
           1.0679243475145883
          ],
          [
           2287,
           -64.81,
           -0.0403940865618643
          ],
          [
           2289,
           -479.38,
           0.9472647646862064
          ],
          [
           2290,
           -442.14,
           0.7827353670840296
          ],
          [
           2291,
           -1172.52,
           0.4053747079643104
          ],
          [
           2292,
           -68.45,
           0.0542112240984611
          ],
          [
           2293,
           -771.88,
           0.4231882240396025
          ],
          [
           2294,
           -395.31,
           0.4883358066603822
          ],
          [
           2295,
           737.054,
           0.4747052814147929
          ],
          [
           2296,
           -779.61,
           0.5049705900413821
          ],
          [
           2297,
           -14177.381,
           1.6135635095055498
          ],
          [
           2298,
           -983.46,
           0.6055303601257984
          ],
          [
           2299,
           107.76,
           1.219389755765132
          ],
          [
           2300,
           -1312.798,
           0.9398294927879256
          ],
          [
           2301,
           -906.37,
           0.986628423256544
          ],
          [
           2302,
           -74.39,
           0.7977248442246285
          ],
          [
           2303,
           -758.74,
           0.8957202304379557
          ],
          [
           2304,
           -593.6,
           0.6415556606032098
          ],
          [
           2305,
           -1195.37,
           0.0821407740627311
          ],
          [
           2306,
           72.56,
           0.4663487708636715
          ],
          [
           2307,
           5.34,
           0.4861952250920058
          ],
          [
           2308,
           165.18,
           0.3068210064544781
          ],
          [
           2309,
           -4.9,
           0.0343215378833612
          ],
          [
           2310,
           -34.24,
           0.4340655312782182
          ],
          [
           2311,
           -251.13,
           0.986051126892674
          ],
          [
           2312,
           74.98,
           1.66641472550924
          ],
          [
           2313,
           109.53,
           1.2436068249642125
          ],
          [
           2314,
           84.57,
           0.7481400694310079
          ],
          [
           2315,
           -300.96,
           0.265291830227353
          ],
          [
           2316,
           -824.29,
           0.4214045927703456
          ],
          [
           2317,
           -287.76,
           0.6202954168317207
          ],
          [
           2318,
           -101.7,
           0.5971030445528545
          ],
          [
           2319,
           -297.38,
           1.0533769828591213
          ],
          [
           2320,
           -1001.786,
           0.9261416482250056
          ],
          [
           2321,
           -539.71,
           0.3507927095298022
          ],
          [
           2322,
           -23.4,
           0.737059587242368
          ],
          [
           2323,
           637.83,
           0.4339417496731883
          ],
          [
           2324,
           -250.79,
           0.7913531311198492
          ],
          [
           2325,
           -771.84,
           0.9792080650346886
          ],
          [
           2326,
           1165.8,
           0.4983903599759616
          ],
          [
           2327,
           -210.35,
           0.5110724774033013
          ],
          [
           2328,
           116.12,
           0.4211599363674079
          ],
          [
           2329,
           -483.15,
           0.9050248606746968
          ],
          [
           2330,
           51.07,
           0.5889594393178799
          ],
          [
           2331,
           -417.77,
           0.7546775158135555
          ],
          [
           2332,
           363.89,
           0.5204554350872188
          ],
          [
           2333,
           233.17,
           0.9916744869335136
          ],
          [
           2334,
           -650.52,
           0.9411478652782082
          ],
          [
           2335,
           -381.32,
           1.0637704753429498
          ],
          [
           2336,
           -234.57,
           1.6490845227561568
          ],
          [
           2337,
           -8748.81,
           1.5756372960228102
          ],
          [
           2338,
           721.81,
           0.3448976669884871
          ],
          [
           2339,
           274.92,
           0.4843423966274942
          ],
          [
           2340,
           164.9,
           0.6337847726730566
          ],
          [
           2341,
           -588.12,
           0.7563699187298605
          ],
          [
           2342,
           -658.39,
           0.3238075470573669
          ],
          [
           2343,
           -935.37,
           0.3543106306767338
          ],
          [
           2344,
           -338.51,
           0.8799904694839018
          ],
          [
           2345,
           -443.04,
           0.6791519596427982
          ],
          [
           2346,
           -662.95,
           1.3568938239881063
          ],
          [
           2347,
           1169.48,
           0.7701921580254254
          ],
          [
           2348,
           -525.28,
           0.9933088027129564
          ],
          [
           2349,
           -573.01,
           0.8145740444945595
          ],
          [
           2350,
           -8748.81,
           1.417211022332233
          ],
          [
           2351,
           -572.81,
           1.7752210982968517
          ],
          [
           2352,
           -3998.81,
           0.6878120656290942
          ],
          [
           2353,
           -231.9,
           0.7210780866700839
          ],
          [
           2354,
           -35.78,
           -0.0359882261274222
          ],
          [
           2355,
           183.92,
           -0.0122331245633677
          ],
          [
           2356,
           120.3,
           0.6012930450572309
          ],
          [
           2357,
           -45.56,
           0.8180301162057448
          ],
          [
           2359,
           654.28,
           0.5061862272036493
          ],
          [
           2360,
           -209.19,
           0.4573399867137517
          ],
          [
           2361,
           -579.23,
           2.076877432189012
          ],
          [
           2362,
           1501.07,
           0.555519676446381
          ],
          [
           2363,
           -163.39,
           0.3580274414665547
          ],
          [
           2364,
           1458.15,
           0.3624808438219355
          ],
          [
           2365,
           53.08,
           0.6680809720410785
          ],
          [
           2366,
           -848.13,
           0.3456524086153028
          ],
          [
           2367,
           -433.08,
           0.7112156355679957
          ],
          [
           2368,
           -1355.66,
           0.5021343990198037
          ],
          [
           2369,
           13.17,
           0.572884300780439
          ],
          [
           2372,
           692.81,
           -0.1049493774430692
          ],
          [
           2374,
           115.19,
           0.518176047241405
          ],
          [
           2375,
           -422.5,
           0.3409611378301145
          ],
          [
           2376,
           -864.83,
           0.7510804382247951
          ],
          [
           2377,
           -640.64,
           0.6049337249771352
          ],
          [
           2378,
           -428.35,
           0.1642880677862983
          ],
          [
           2379,
           -331.77,
           0.5665370634845797
          ],
          [
           2380,
           -881.4,
           0.3350041363730733
          ],
          [
           2381,
           64.16,
           1.2623726090183478
          ],
          [
           2382,
           -719.23,
           0.5489666282288148
          ],
          [
           2383,
           2334.524,
           1.0029988653795223
          ],
          [
           2384,
           -6543.452,
           0.796617034996328
          ],
          [
           2385,
           -585.3,
           0.9332155718589848
          ],
          [
           2386,
           738.58,
           0.5833342230484764
          ],
          [
           2388,
           -699.34,
           0.5301032885600074
          ],
          [
           2389,
           -716.53,
           0.8830253830118959
          ],
          [
           2390,
           -842.77,
           0.4816950410255751
          ],
          [
           2391,
           -3098.7,
           0.957897723470566
          ],
          [
           2392,
           -2698.214,
           0.7037919979374667
          ],
          [
           2393,
           -53.63,
           0.4073233957824671
          ],
          [
           2394,
           -2914.39,
           1.097174758117491
          ],
          [
           2395,
           -3230.02,
           1.4433495555167042
          ],
          [
           2396,
           -2932.39,
           0.960857889350084
          ],
          [
           2397,
           -1907.26,
           0.6113181588349308
          ],
          [
           2398,
           -766.01,
           0.4806348638215141
          ],
          [
           2399,
           850.149,
           0.1323025394404826
          ],
          [
           2400,
           1599.405,
           0.1584007126158439
          ],
          [
           2403,
           -3665.25,
           0.9064173010435486
          ],
          [
           2405,
           -3142.88,
           1.3578588456497194
          ],
          [
           2406,
           -361.79,
           0.8036277414464408
          ],
          [
           2407,
           925.15,
           0.4832553567411377
          ],
          [
           2408,
           -826.02,
           0.6479116735372923
          ],
          [
           2411,
           9.94,
           0.3579307533833216
          ],
          [
           2412,
           -619.82,
           0.7853284474789568
          ],
          [
           2413,
           -845.44,
           0.7723481600625073
          ],
          [
           2414,
           -543.07,
           0.7379919548835989
          ],
          [
           2415,
           -577.7,
           0.7486739708340764
          ],
          [
           2416,
           3.09,
           0.7359280191997408
          ],
          [
           2417,
           -14064.286,
           1.487120311142368
          ],
          [
           2418,
           -153.571,
           1.7916439029480582
          ],
          [
           2419,
           -2415.476,
           1.6752209513202816
          ],
          [
           2420,
           378.39,
           0.997259176700009
          ],
          [
           2421,
           -813.22,
           0.7222922948369028
          ],
          [
           2422,
           -560.2,
           0.9752687295695424
          ],
          [
           2423,
           -786.68,
           0.7275717895034184
          ],
          [
           2424,
           -705.08,
           0.8888243770553759
          ],
          [
           2425,
           -716.21,
           0.9106965980682568
          ],
          [
           2426,
           -557.06,
           0.6419021527813493
          ],
          [
           2428,
           525,
           1.4508061768874445
          ],
          [
           2429,
           52.67,
           -0.0320259880440536
          ],
          [
           2430,
           133.11,
           0.0692495256815384
          ],
          [
           2431,
           -1082.5,
           1.280990153687018
          ],
          [
           2432,
           -749.42,
           0.3907264509249559
          ],
          [
           2433,
           -1136.33,
           0.3416375114771401
          ],
          [
           2434,
           -1073.21,
           0.537215224572873
          ],
          [
           2435,
           286.75,
           0.090225526143989
          ],
          [
           2436,
           -167.76,
           0.2031188263743475
          ],
          [
           2437,
           267.86,
           0.4378591552822986
          ],
          [
           2438,
           -80.2,
           0.7014095615407676
          ],
          [
           2439,
           -60.82,
           0.7346861118263597
          ],
          [
           2440,
           1673.22,
           0.5979662796950329
          ],
          [
           2441,
           -996.41,
           0.5890951143358176
          ],
          [
           2442,
           -917.02,
           0.3371017709651633
          ],
          [
           2443,
           -1567.262,
           0.7851062723340565
          ],
          [
           2444,
           83.45,
           0.2947425875878142
          ],
          [
           2445,
           -681.53,
           0.6428844700570924
          ],
          [
           2446,
           -1023.65,
           0.7766475570979345
          ],
          [
           2447,
           -371.73,
           1.353091752060779
          ],
          [
           2448,
           -697.08,
           0.6930771623131031
          ],
          [
           2449,
           424.03,
           0.472665820027915
          ],
          [
           2450,
           172.67,
           0.3998092757629417
          ],
          [
           2451,
           754.4,
           0.3146965254048286
          ],
          [
           2452,
           5.02,
           0.6645776478523189
          ],
          [
           2453,
           -10105.952,
           1.1295249183546092
          ],
          [
           2455,
           -894.48,
           0.2649362357333409
          ],
          [
           2456,
           -911.08,
           0.5899792806737247
          ],
          [
           2457,
           324.45,
           -0.0692791679191238
          ],
          [
           2458,
           -788.95,
           0.1055985273587616
          ],
          [
           2459,
           -525.94,
           0.140823520636582
          ],
          [
           2460,
           231.37,
           0.850788306598341
          ],
          [
           2461,
           623.06,
           0.0830026066534816
          ],
          [
           2462,
           424.9,
           0.7742357666066138
          ],
          [
           2463,
           818.33,
           -0.1006403565185518
          ],
          [
           2464,
           -2358.929,
           0.7840645300724711
          ],
          [
           2465,
           -1311.93,
           0.9084717896219914
          ],
          [
           2466,
           -373.87,
           1.120657032065055
          ],
          [
           2467,
           -382.06,
           0.5917464494492926
          ],
          [
           2468,
           -3236.23,
           1.2131045232158622
          ],
          [
           2469,
           -3248.68,
           1.0044016829838434
          ],
          [
           2470,
           -628.25,
           1.0577057408110493
          ],
          [
           2471,
           -1695.84,
           0.7125779644272754
          ],
          [
           2472,
           -3622.05,
           1.6936036253715372
          ],
          [
           2473,
           -398.9,
           0.9199339305533956
          ],
          [
           2474,
           -123.51,
           0.3641892634282664
          ],
          [
           2475,
           -656.59,
           0.4948837477708316
          ],
          [
           2477,
           -713.35,
           0.8846716435498543
          ],
          [
           2478,
           -162.1,
           0.5980742052676344
          ],
          [
           2479,
           2.2,
           0.2556812867364115
          ],
          [
           2480,
           -77,
           0.1357087901834939
          ],
          [
           2481,
           -1081.2,
           0.8718960593318741
          ],
          [
           2482,
           574.33,
           0.4083977401262704
          ],
          [
           2483,
           1113.04,
           0.3385612837838874
          ],
          [
           2484,
           1009.52,
           0.0133848881052793
          ],
          [
           2485,
           -3.64,
           1.1571294221625532
          ],
          [
           2486,
           270.536,
           0.2667238777181477
          ],
          [
           2487,
           397.768,
           0.1538717665951852
          ],
          [
           2488,
           85.91,
           0.5467296008023315
          ],
          [
           2489,
           319.16,
           0.8432715781704054
          ],
          [
           2490,
           609.22,
           -0.1837376216177286
          ],
          [
           2491,
           102.92,
           0.3559184959452075
          ],
          [
           2492,
           -12.05,
           0.1675174750252228
          ],
          [
           2493,
           -220.39,
           0.3699340001702538
          ],
          [
           2494,
           1395.97,
           0.4733466557678412
          ],
          [
           2495,
           -190.28,
           0.8658426432460118
          ],
          [
           2496,
           -9.72,
           0.5902442012938112
          ],
          [
           2497,
           -582.8,
           1.6240983044327066
          ],
          [
           2498,
           -1032.07,
           1.3102457251587882
          ],
          [
           2499,
           435.26,
           0.6013481717398399
          ],
          [
           2500,
           16.071,
           0.3132332419580859
          ],
          [
           2501,
           -598.31,
           0.5696854936204021
          ],
          [
           2502,
           -699.03,
           0.3873794869974682
          ],
          [
           2503,
           -269.11,
           0.7334026256009043
          ],
          [
           2504,
           -416.02,
           0.6339422244556099
          ],
          [
           2505,
           -472.01,
           0.8915167983664141
          ],
          [
           2506,
           407.01,
           0.5642823501022933
          ],
          [
           2507,
           -161.5,
           0.3173309310141103
          ],
          [
           2508,
           -207.45,
           0.7423225158860252
          ],
          [
           2509,
           -435.53,
           0.458107582902624
          ],
          [
           2510,
           -630.2,
           0.5821051753129733
          ],
          [
           2511,
           -151.36,
           0.5496556887614918
          ],
          [
           2512,
           244.64,
           0.5778933241824369
          ],
          [
           2513,
           605.72,
           0.7710622181233697
          ],
          [
           2514,
           -82.77,
           0.7182776160474678
          ],
          [
           2515,
           -70.08,
           0.5892080298681082
          ],
          [
           2516,
           -211.89,
           0.5364699482432744
          ],
          [
           2517,
           -662.5,
           0.586774706475798
          ],
          [
           2518,
           -1057.88,
           1.0254708412545392
          ],
          [
           2519,
           339.76,
           0.5083989756074878
          ],
          [
           2520,
           -214.58,
           0.4312370735718085
          ],
          [
           2521,
           -473.32,
           0.8972723355972398
          ],
          [
           2522,
           -286.34,
           0.6847619532968316
          ],
          [
           2523,
           -151.51,
           0.6967632091902196
          ],
          [
           2524,
           -181.22,
           0.4272291999980648
          ],
          [
           2525,
           -235.92,
           0.8299296936899561
          ],
          [
           2526,
           -279.78,
           0.3250074163584209
          ],
          [
           2527,
           713.25,
           -0.0709743873004189
          ],
          [
           2528,
           -143.4,
           0.2884236886283293
          ],
          [
           2529,
           -1271.22,
           0.9741155849178132
          ],
          [
           2530,
           -1092.38,
           0.8484892294840316
          ],
          [
           2531,
           -1150.29,
           1.326706014560969
          ],
          [
           2532,
           -898.13,
           1.2938967220355655
          ],
          [
           2533,
           -1318.32,
           0.9679362739658082
          ],
          [
           2534,
           -892.2,
           1.114235472374994
          ],
          [
           2535,
           -1074.95,
           1.110878915863191
          ],
          [
           2536,
           -1085.81,
           1.0397853637440564
          ],
          [
           2537,
           -1158.18,
           1.047357690639723
          ],
          [
           2538,
           -874.62,
           1.2819900244826528
          ],
          [
           2539,
           -1306.45,
           1.1874896885118291
          ],
          [
           2540,
           -1213.57,
           1.0076045618645129
          ],
          [
           2541,
           -576.97,
           0.8452552055394715
          ],
          [
           2542,
           -52.19,
           0.9333012538749584
          ],
          [
           2543,
           -826.81,
           0.7670598697449194
          ],
          [
           2544,
           -879.63,
           1.095450931833977
          ],
          [
           2547,
           689.32,
           0.1881532948810527
          ],
          [
           2548,
           59.39,
           0.7074265516155371
          ],
          [
           2549,
           139.37,
           0.8857347749868305
          ],
          [
           2550,
           -630.68,
           1.0202558546124694
          ],
          [
           2551,
           -866.27,
           0.6693462168059856
          ],
          [
           2552,
           -734.36,
           0.8704852265329084
          ],
          [
           2553,
           -1004.76,
           0.5209334821778953
          ],
          [
           2554,
           -1008.59,
           0.5140194862591425
          ],
          [
           2555,
           -907.68,
           0.5115563746362248
          ],
          [
           2556,
           -1064.62,
           0.6260101370016695
          ],
          [
           2557,
           -949.52,
           0.5463333264219763
          ],
          [
           2558,
           -935.2,
           0.4514359491544386
          ],
          [
           2559,
           -2726.488,
           1.0481762808612345
          ],
          [
           2561,
           -990.25,
           0.5816582733734537
          ],
          [
           2562,
           -278.67,
           0.8823882259263565
          ],
          [
           2563,
           -167.8,
           0.5281357893037573
          ],
          [
           2564,
           -244.83,
           0.8270990725580214
          ],
          [
           2565,
           -1145.91,
           1.172346438686079
          ],
          [
           2566,
           -781.94,
           0.3535727422355101
          ],
          [
           2567,
           -573.77,
           0.6834327110589307
          ],
          [
           2568,
           -1128.79,
           1.5824341556778272
          ],
          [
           2569,
           -582.47,
           1.271593230245804
          ],
          [
           2570,
           -829.3,
           0.8469281213596362
          ],
          [
           2571,
           -41.86,
           0.5167110111110063
          ],
          [
           2572,
           183.66,
           0.538045161706016
          ],
          [
           2573,
           -37.05,
           0.3981918763106602
          ],
          [
           2574,
           117.72,
           0.9475463833310248
          ],
          [
           2575,
           -689.59,
           0.8919091993160801
          ],
          [
           2576,
           -622.5,
           0.8953225242564082
          ],
          [
           2577,
           -137.94,
           0.6394732112649617
          ],
          [
           2578,
           -570.54,
           0.9480169033848584
          ],
          [
           2579,
           33.26,
           0.4536947423910522
          ],
          [
           2580,
           23.13,
           0.3251788741083219
          ],
          [
           2581,
           -327.66,
           0.2300055806697472
          ],
          [
           2582,
           649.73,
           0.2603555581651253
          ],
          [
           2583,
           294.25,
           0.3811731946805299
          ],
          [
           2584,
           -492.93,
           0.5550525799009467
          ],
          [
           2585,
           445.26,
           0.6194819785977543
          ],
          [
           2586,
           327.083,
           0.3606864295261305
          ],
          [
           2587,
           -564.76,
           0.611635379820104
          ],
          [
           2588,
           -570.97,
           0.4528344429658926
          ],
          [
           2589,
           -916.964,
           0.9362469865236004
          ],
          [
           2590,
           -97.024,
           0.3196437960354972
          ],
          [
           2591,
           336.3,
           0.9013441261848668
          ],
          [
           2592,
           -209.05,
           0.4348388221001471
          ],
          [
           2593,
           764.08,
           0.6078559141255138
          ],
          [
           2595,
           -550.35,
           0.577974991745088
          ],
          [
           2596,
           -1259.41,
           0.6249719558606168
          ],
          [
           2597,
           -543.24,
           0.3915826897253947
          ],
          [
           2598,
           585.49,
           0.2477310655764721
          ],
          [
           2599,
           -569.07,
           0.3728682673711514
          ],
          [
           2600,
           -785.58,
           0.5181486799160187
          ],
          [
           2601,
           -403.47,
           0.6404406226160511
          ],
          [
           2602,
           195.78,
           1.278143727249991
          ],
          [
           2603,
           669.2,
           0.2734802898652315
          ],
          [
           2604,
           -244.83,
           1.001657497884623
          ],
          [
           2605,
           415.63,
           0.8200098045348483
          ],
          [
           2606,
           261.62,
           0.720416725801778
          ],
          [
           2607,
           257.96,
           0.665820416309697
          ],
          [
           2608,
           -1204.69,
           0.6137320301903095
          ],
          [
           2609,
           -3122.321,
           0.9835011892282974
          ],
          [
           2610,
           278.27,
           0.3366543371217263
          ],
          [
           2611,
           -80.59,
           0.1694326763158322
          ],
          [
           2612,
           312.03,
           0.8811393007879307
          ],
          [
           2613,
           311.85,
           0.4930705077241741
          ],
          [
           2614,
           -268.54,
           0.8184802015837302
          ],
          [
           2615,
           -32.67,
           0.3735800782856069
          ],
          [
           2616,
           750.28,
           -0.0053261672679063
          ],
          [
           2617,
           68.75,
           0.7963152964349369
          ],
          [
           2618,
           913.38,
           0.0865438557892428
          ],
          [
           2619,
           440.179,
           0.4729361703154939
          ],
          [
           2620,
           176.63,
           0.5675501960557989
          ],
          [
           2621,
           608.43,
           -0.1415896039300817
          ],
          [
           2622,
           575.34,
           0.2185591257059282
          ],
          [
           2623,
           553.274,
           0.1137482294589569
          ],
          [
           2624,
           8.39,
           0.8246491234006363
          ],
          [
           2625,
           296.89,
           0.5104414299822331
          ],
          [
           2626,
           91.02,
           1.24666409156535
          ],
          [
           2627,
           354.95,
           0.4306138448269658
          ],
          [
           2628,
           379.87,
           0.5039512617387985
          ],
          [
           2629,
           133.31,
           0.8623010103804347
          ],
          [
           2630,
           167.9,
           0.3817000175390515
          ],
          [
           2631,
           520.37,
           0.270561777437555
          ],
          [
           2632,
           415.87,
           0.2447648508978703
          ],
          [
           2633,
           750.98,
           -0.1116718998873516
          ],
          [
           2634,
           896.59,
           -0.1382341777736879
          ],
          [
           2635,
           794.7,
           0.2063986645843627
          ],
          [
           2636,
           419.8,
           0.3127029199946216
          ],
          [
           2637,
           995.77,
           -0.0574060812699599
          ],
          [
           2638,
           555.34,
           0.4895900152337917
          ],
          [
           2639,
           809.22,
           -0.0737006259356105
          ],
          [
           2640,
           614.53,
           0.1930210535171328
          ],
          [
           2641,
           609.821,
           -0.0791972504162661
          ],
          [
           2642,
           881.36,
           0.1177319039250228
          ],
          [
           2643,
           167.65,
           0.7117401115836746
          ],
          [
           2644,
           -4.15,
           0.9186549915573056
          ],
          [
           2645,
           -1.89,
           0.3953291768537443
          ],
          [
           2646,
           -47.52,
           0.6826255299503154
          ],
          [
           2647,
           -12.21,
           2.171243526133633
          ],
          [
           2648,
           342.5,
           0.3404729570919311
          ],
          [
           2650,
           625.31,
           -0.0441098674682329
          ],
          [
           2651,
           -71.75,
           0.6727662267148613
          ],
          [
           2652,
           441.05,
           0.6311386310117939
          ],
          [
           2653,
           133.13,
           1.0758053908822918
          ],
          [
           2654,
           257.81,
           0.6627244232746801
          ],
          [
           2655,
           71.89,
           0.5760629834070556
          ],
          [
           2656,
           625.3,
           -0.0656142456738955
          ],
          [
           2657,
           554.11,
           0.3102565676512512
          ],
          [
           2658,
           59.32,
           0.6106794523294319
          ],
          [
           2659,
           75.74,
           0.1278715792389135
          ],
          [
           2660,
           480.41,
           0.372346669442626
          ],
          [
           2661,
           137.97,
           0.5011226703257883
          ],
          [
           2662,
           225.48,
           0.6291679573492361
          ],
          [
           2663,
           456.13,
           0.1632249715699814
          ],
          [
           2664,
           111,
           0.3613951012233105
          ],
          [
           2665,
           421.8,
           0.3895231550224389
          ],
          [
           2666,
           903.9,
           -0.120818231494705
          ],
          [
           2667,
           71.26,
           0.5888968391041915
          ],
          [
           2668,
           43.09,
           0.6044850043438439
          ],
          [
           2669,
           565.29,
           0.256660511020792
          ],
          [
           2670,
           67.75,
           0.2543227181138592
          ],
          [
           2671,
           89.41,
           0.7918356785819656
          ],
          [
           2672,
           223.33,
           0.4711085091902482
          ],
          [
           2673,
           -267.53,
           0.3231298102648701
          ],
          [
           2674,
           166.34,
           0.8892306499593428
          ],
          [
           2675,
           -1793.452,
           0.5949590753940566
          ],
          [
           2676,
           -271.08,
           0.8584179564497934
          ],
          [
           2677,
           -425.06,
           1.0130323126025471
          ],
          [
           2678,
           934.97,
           0.0032872223654516
          ],
          [
           2680,
           -5.39,
           0.0635891900026042
          ],
          [
           2681,
           801.01,
           0.2882693183828317
          ],
          [
           2682,
           -91.92,
           0.3828903962449388
          ],
          [
           2683,
           93.17,
           0.4630322948228205
          ],
          [
           2684,
           -190.44,
           0.739123135128243
          ],
          [
           2685,
           -233.12,
           0.2974424241915558
          ],
          [
           2686,
           -238.44,
           0.4606507158179767
          ],
          [
           2687,
           94.35,
           0.1904872952956697
          ],
          [
           2688,
           -313.49,
           0.2487583079561171
          ],
          [
           2689,
           -569.58,
           1.080579939080999
          ],
          [
           2690,
           -747.321,
           1.0582591234167662
          ],
          [
           2691,
           -774.24,
           0.1050458807153145
          ],
          [
           2692,
           60.58,
           0.2270692836288539
          ],
          [
           2693,
           1599.405,
           0.6591084501129121
          ],
          [
           2694,
           192.13,
           0.2582277876708234
          ],
          [
           2695,
           298.81,
           0.8411006014253424
          ],
          [
           2696,
           -57.85,
           0.3867366887428822
          ],
          [
           2698,
           -279.01,
           0.3930783451394841
          ],
          [
           2699,
           -211.85,
           0.5876144823331035
          ],
          [
           2700,
           -196.76,
           0.345850111928649
          ],
          [
           2701,
           -338.15,
           0.333123875106379
          ],
          [
           2702,
           2306.25,
           -0.0824194683894106
          ],
          [
           2703,
           270.536,
           0.9635664897636752
          ],
          [
           2704,
           -807.21,
           1.73567260598079
          ],
          [
           2705,
           887.79,
           0.7751767839761117
          ],
          [
           2706,
           818.57,
           0.1223036929706866
          ],
          [
           2707,
           -1.45,
           0.1629133380805356
          ],
          [
           2708,
           7.08,
           0.4668168657486369
          ],
          [
           2709,
           851.69,
           0.2065848937207528
          ],
          [
           2710,
           49.06,
           0.4560590592565106
          ],
          [
           2711,
           1581.49,
           0.1035411187312433
          ],
          [
           2712,
           194.82,
           0.4232517709202721
          ],
          [
           2713,
           235.51,
           0.2745245092763912
          ],
          [
           2714,
           -432.14,
           0.8271366991416897
          ],
          [
           2715,
           -761.66,
           1.3094231966283054
          ],
          [
           2716,
           -759.99,
           0.8741850586791005
          ],
          [
           2717,
           -634.226,
           0.7053624738509754
          ],
          [
           2718,
           -977.8,
           1.3893727610731634
          ],
          [
           2719,
           -916.964,
           0.7722369195195924
          ],
          [
           2720,
           15.7,
           0.9987565273717802
          ],
          [
           2721,
           -884.45,
           0.8860145524006828
          ],
          [
           2722,
           370.44,
           0.6312865449742215
          ],
          [
           2723,
           -130.62,
           0.7436079076607545
          ],
          [
           2724,
           -14.86,
           -0.1314707680933082
          ],
          [
           2725,
           -452.9,
           0.8318023586335501
          ],
          [
           2726,
           26.4,
           0.9469730524447372
          ],
          [
           2727,
           -95.29,
           0.479305324133529
          ],
          [
           2729,
           1454.24,
           0.717204143890319
          ],
          [
           2730,
           -194.52,
           0.6438778994052727
          ],
          [
           2731,
           -1284.524,
           0.7448612613077161
          ],
          [
           2732,
           -6.39,
           0.7705349077035102
          ],
          [
           2733,
           -357.73,
           0.6654058141174772
          ],
          [
           2734,
           638.19,
           0.6329390827789361
          ],
          [
           2735,
           -924.37,
           0.6573509428783453
          ],
          [
           2736,
           775.4,
           0.49218598817182
          ],
          [
           2737,
           -115.07,
           0.8364675571556379
          ],
          [
           2738,
           -32.19,
           0.6473978800894251
          ],
          [
           2739,
           -500.42,
           0.6060814849005043
          ],
          [
           2740,
           664.94,
           0.5555024029722606
          ],
          [
           2741,
           779.464,
           0.3113410538945809
          ],
          [
           2742,
           595.6,
           0.4371541403335595
          ],
          [
           2743,
           636.49,
           0.7500761104982825
          ],
          [
           2744,
           1027.57,
           0.5625062275125021
          ],
          [
           2745,
           723.51,
           0.3744105396788706
          ],
          [
           2746,
           778.93,
           0.680147654708982
          ],
          [
           2747,
           -199.73,
           0.8974500793938036
          ],
          [
           2748,
           707.81,
           0.5711468096987176
          ],
          [
           2749,
           1048.4,
           0.2705172811664749
          ],
          [
           2750,
           431.49,
           0.6999284576453508
          ],
          [
           2751,
           623.16,
           0.5428532702600553
          ],
          [
           2752,
           874.68,
           0.6701879917246725
          ],
          [
           2753,
           593.58,
           0.6140043992620701
          ],
          [
           2754,
           1556.44,
           0.7068004204969238
          ],
          [
           2755,
           756.47,
           0.3490286481155191
          ],
          [
           2756,
           627.78,
           0.4563107778124831
          ],
          [
           2757,
           889.74,
           0.314675466299005
          ],
          [
           2758,
           951.69,
           0.621491759389194
          ],
          [
           2759,
           -379.762,
           1.07600423172416
          ],
          [
           2761,
           -398.99,
           0.2967170139136295
          ],
          [
           2762,
           -175.47,
           0.4702711150764553
          ],
          [
           2763,
           -96.48,
           0.695498630543189
          ],
          [
           2764,
           771.49,
           0.5221786469825789
          ],
          [
           2765,
           10.37,
           -0.0358983297606343
          ],
          [
           2766,
           -137.26,
           0.239129900642415
          ],
          [
           2767,
           950.17,
           0.4512703306070751
          ],
          [
           2768,
           656,
           0.4523415142533808
          ],
          [
           2769,
           926.01,
           0.3164528774619057
          ],
          [
           2770,
           949.107,
           0.4486359859266198
          ],
          [
           2771,
           535.69,
           0.613389859960078
          ],
          [
           2772,
           664.06,
           -0.0361165593890717
          ],
          [
           2774,
           550.86,
           0.7267892650313801
          ],
          [
           2775,
           151.48,
           0.5686600133694473
          ],
          [
           2776,
           177.64,
           0.9507456224769708
          ],
          [
           2777,
           24.52,
           0.7251903909218864
          ],
          [
           2778,
           217.52,
           0.8339469878546417
          ],
          [
           2779,
           992.14,
           0.3660828347969111
          ],
          [
           2780,
           -1911.07,
           2.1668014680279093
          ],
          [
           2781,
           -555.43,
           1.0167209715384296
          ],
          [
           2782,
           -5129.762,
           1.0836047940494256
          ],
          [
           2783,
           2108.333,
           0.3153881582724622
          ],
          [
           2784,
           -4228.36,
           0.9073781934392412
          ],
          [
           2785,
           -1295.02,
           0.9751727118400816
          ],
          [
           2786,
           -2160.03,
           0.8123204944685352
          ],
          [
           2787,
           -1943.12,
           1.4695740188520023
          ],
          [
           2788,
           -1511.22,
           1.1794771228752028
          ],
          [
           2789,
           -610.86,
           0.5863871545156893
          ],
          [
           2790,
           -3768.88,
           1.2729989831871773
          ],
          [
           2791,
           3.4,
           0.7620096673460433
          ],
          [
           2792,
           -78.51,
           0.7845175858848688
          ],
          [
           2793,
           -27.54,
           1.338410102010564
          ],
          [
           2794,
           207.54,
           0.6402822372518617
          ],
          [
           2795,
           -346.07,
           0.6026931784670477
          ]
         ],
         "hovertemplate": "<b>Earthquake: %{customdata[0]}</b><br>Source Lon: %{x:.3f}<br>Source Lat: %{y:.3f}<br>Source Elev (m): %{customdata[1]:.3f}<br>Magnitude: %{customdata[2]:.3f}<br><extra></extra>",
         "legendgroup": "",
         "marker": {
          "color": [
           873.3,
           -1258.86,
           -1366.21,
           -1030.06,
           265.14,
           121.14,
           108.44,
           393.28,
           296.92,
           142.22,
           403.04,
           385.08,
           256.33,
           191.3,
           -251.04,
           525,
           -203.19,
           -267.5,
           116.28,
           -311.44,
           906.696,
           1005.655,
           496.726,
           -1708.631,
           -449.89,
           -470.75,
           -455.17,
           -6826.19,
           1571.131,
           -634.95,
           -217.68,
           -360.13,
           -4507.23,
           -4391.01,
           -4622.56,
           -4960.119,
           -540.13,
           -517.66,
           -427.63,
           -85.59,
           -1821.726,
           -296.14,
           -339.73,
           -882.02,
           -973.512,
           414.91,
           -92.76,
           -230.87,
           -218,
           -260.72,
           -348.39,
           -452.72,
           -433.14,
           -513.09,
           -315.71,
           -538.17,
           -890.11,
           -1004.55,
           -880.33,
           -485.01,
           -345.64,
           -586.65,
           -442.57,
           -381.24,
           -83.58,
           -24.83,
           32.01,
           -339.67,
           -161.22,
           -61.85,
           380.6,
           -79.75,
           170.43,
           -229.52,
           -98.89,
           -1086.607,
           -269.98,
           -166.82,
           -1850,
           977.381,
           -438.44,
           -746.26,
           -736.65,
           -408.3,
           445.61,
           269.64,
           67.47,
           -724.28,
           -602.01,
           -971.53,
           -453.34,
           235.09,
           -1470.68,
           -518.89,
           -480.95,
           -72.44,
           796.13,
           119.23,
           -183.11,
           -43.09,
           -33.2,
           -2.46,
           110.37,
           -314.25,
           -605.53,
           9.27,
           -1112.54,
           185.46,
           183.21,
           153.36,
           -165.88,
           532.39,
           182.25,
           491.23,
           561.15,
           161.62,
           -619.22,
           468.452,
           -367.22,
           -11.08,
           62.24,
           -803.869,
           -1145.1,
           79.76,
           95.58,
           -1227.976,
           697.62,
           -623.07,
           -201.19,
           -209.13,
           168.02,
           -765.87,
           416.75,
           2306.25,
           169.41,
           16.071,
           -2245.76,
           818.66,
           -445.82,
           -9879.762,
           -3682.21,
           1655.952,
           -299.82,
           -1050.16,
           -604.83,
           -958.99,
           -954.5,
           -39.32,
           -339.43,
           -402.66,
           22.7,
           146.65,
           -36.17,
           -723.02,
           -734.57,
           -565.2,
           -375.46,
           -560.05,
           -532.02,
           16.071,
           787.11,
           991.94,
           -516.38,
           170.35,
           -605.952,
           -607.16,
           650.9,
           894.71,
           -372.49,
           977.381,
           -676.637,
           -610.36,
           -438.11,
           -469.82,
           1344.91,
           644.01,
           -737.65,
           -830.77,
           749.59,
           -1199.13,
           1278.71,
           -410.53,
           -385.53,
           834.7,
           -504.91,
           1161.51,
           -482.97,
           -84.4,
           -382.13,
           -739.97,
           1629.85,
           72.619,
           930.58,
           -888.69,
           291.83,
           1178.72,
           -741.96,
           -433.23,
           737.61,
           -422.73,
           -209.74,
           230.75,
           -34.35,
           104.61,
           -138.68,
           134.73,
           -606.7,
           -768.95,
           -530.62,
           -209.38,
           683.91,
           453.34,
           -598.41,
           -844.37,
           -240.67,
           -190.67,
           478.98,
           507.07,
           214.13,
           -1005.54,
           -990.53,
           -942.74,
           -762.7,
           -838.31,
           -468.94,
           -672.2,
           -992.7,
           -664.8,
           -1015.14,
           -1012.23,
           2.21,
           -971.64,
           -465.48,
           -578.5,
           -957.82,
           -1016.06,
           -953.39,
           -990.36,
           -715.15,
           -939.29,
           432.77,
           -18.11,
           118.4,
           -224.75,
           -184.26,
           -6939.286,
           -989.87,
           -963.5,
           -938.08,
           -990.71,
           -985.77,
           -934.08,
           -1014.88,
           -844.26,
           -955.41,
           -1011.12,
           -1013.39,
           -917.36,
           -923.39,
           -1010.67,
           -1091.18,
           -939.47,
           -963.7,
           -992.34,
           -892.39,
           -1424.02,
           -197.26,
           -948.77,
           -1180.32,
           -897.48,
           -903.2,
           -881.26,
           -1002.74,
           -992.92,
           -407.64,
           -960.5,
           -973.89,
           -13725,
           368.07,
           177.53,
           -3320.238,
           -64.81,
           -479.38,
           -442.14,
           -1172.52,
           -68.45,
           -771.88,
           -395.31,
           737.054,
           -779.61,
           -14177.381,
           -983.46,
           107.76,
           -1312.798,
           -906.37,
           -74.39,
           -758.74,
           -593.6,
           -1195.37,
           72.56,
           5.34,
           165.18,
           -4.9,
           -34.24,
           -251.13,
           74.98,
           109.53,
           84.57,
           -300.96,
           -824.29,
           -287.76,
           -101.7,
           -297.38,
           -1001.786,
           -539.71,
           -23.4,
           637.83,
           -250.79,
           -771.84,
           1165.8,
           -210.35,
           116.12,
           -483.15,
           51.07,
           -417.77,
           363.89,
           233.17,
           -650.52,
           -381.32,
           -234.57,
           -8748.81,
           721.81,
           274.92,
           164.9,
           -588.12,
           -658.39,
           -935.37,
           -338.51,
           -443.04,
           -662.95,
           1169.48,
           -525.28,
           -573.01,
           -8748.81,
           -572.81,
           -3998.81,
           -231.9,
           -35.78,
           183.92,
           120.3,
           -45.56,
           654.28,
           -209.19,
           -579.23,
           1501.07,
           -163.39,
           1458.15,
           53.08,
           -848.13,
           -433.08,
           -1355.66,
           13.17,
           692.81,
           115.19,
           -422.5,
           -864.83,
           -640.64,
           -428.35,
           -331.77,
           -881.4,
           64.16,
           -719.23,
           2334.524,
           -6543.452,
           -585.3,
           738.58,
           -699.34,
           -716.53,
           -842.77,
           -3098.7,
           -2698.214,
           -53.63,
           -2914.39,
           -3230.02,
           -2932.39,
           -1907.26,
           -766.01,
           850.149,
           1599.405,
           -3665.25,
           -3142.88,
           -361.79,
           925.15,
           -826.02,
           9.94,
           -619.82,
           -845.44,
           -543.07,
           -577.7,
           3.09,
           -14064.286,
           -153.571,
           -2415.476,
           378.39,
           -813.22,
           -560.2,
           -786.68,
           -705.08,
           -716.21,
           -557.06,
           525,
           52.67,
           133.11,
           -1082.5,
           -749.42,
           -1136.33,
           -1073.21,
           286.75,
           -167.76,
           267.86,
           -80.2,
           -60.82,
           1673.22,
           -996.41,
           -917.02,
           -1567.262,
           83.45,
           -681.53,
           -1023.65,
           -371.73,
           -697.08,
           424.03,
           172.67,
           754.4,
           5.02,
           -10105.952,
           -894.48,
           -911.08,
           324.45,
           -788.95,
           -525.94,
           231.37,
           623.06,
           424.9,
           818.33,
           -2358.929,
           -1311.93,
           -373.87,
           -382.06,
           -3236.23,
           -3248.68,
           -628.25,
           -1695.84,
           -3622.05,
           -398.9,
           -123.51,
           -656.59,
           -713.35,
           -162.1,
           2.2,
           -77,
           -1081.2,
           574.33,
           1113.04,
           1009.52,
           -3.64,
           270.536,
           397.768,
           85.91,
           319.16,
           609.22,
           102.92,
           -12.05,
           -220.39,
           1395.97,
           -190.28,
           -9.72,
           -582.8,
           -1032.07,
           435.26,
           16.071,
           -598.31,
           -699.03,
           -269.11,
           -416.02,
           -472.01,
           407.01,
           -161.5,
           -207.45,
           -435.53,
           -630.2,
           -151.36,
           244.64,
           605.72,
           -82.77,
           -70.08,
           -211.89,
           -662.5,
           -1057.88,
           339.76,
           -214.58,
           -473.32,
           -286.34,
           -151.51,
           -181.22,
           -235.92,
           -279.78,
           713.25,
           -143.4,
           -1271.22,
           -1092.38,
           -1150.29,
           -898.13,
           -1318.32,
           -892.2,
           -1074.95,
           -1085.81,
           -1158.18,
           -874.62,
           -1306.45,
           -1213.57,
           -576.97,
           -52.19,
           -826.81,
           -879.63,
           689.32,
           59.39,
           139.37,
           -630.68,
           -866.27,
           -734.36,
           -1004.76,
           -1008.59,
           -907.68,
           -1064.62,
           -949.52,
           -935.2,
           -2726.488,
           -990.25,
           -278.67,
           -167.8,
           -244.83,
           -1145.91,
           -781.94,
           -573.77,
           -1128.79,
           -582.47,
           -829.3,
           -41.86,
           183.66,
           -37.05,
           117.72,
           -689.59,
           -622.5,
           -137.94,
           -570.54,
           33.26,
           23.13,
           -327.66,
           649.73,
           294.25,
           -492.93,
           445.26,
           327.083,
           -564.76,
           -570.97,
           -916.964,
           -97.024,
           336.3,
           -209.05,
           764.08,
           -550.35,
           -1259.41,
           -543.24,
           585.49,
           -569.07,
           -785.58,
           -403.47,
           195.78,
           669.2,
           -244.83,
           415.63,
           261.62,
           257.96,
           -1204.69,
           -3122.321,
           278.27,
           -80.59,
           312.03,
           311.85,
           -268.54,
           -32.67,
           750.28,
           68.75,
           913.38,
           440.179,
           176.63,
           608.43,
           575.34,
           553.274,
           8.39,
           296.89,
           91.02,
           354.95,
           379.87,
           133.31,
           167.9,
           520.37,
           415.87,
           750.98,
           896.59,
           794.7,
           419.8,
           995.77,
           555.34,
           809.22,
           614.53,
           609.821,
           881.36,
           167.65,
           -4.15,
           -1.89,
           -47.52,
           -12.21,
           342.5,
           625.31,
           -71.75,
           441.05,
           133.13,
           257.81,
           71.89,
           625.3,
           554.11,
           59.32,
           75.74,
           480.41,
           137.97,
           225.48,
           456.13,
           111,
           421.8,
           903.9,
           71.26,
           43.09,
           565.29,
           67.75,
           89.41,
           223.33,
           -267.53,
           166.34,
           -1793.452,
           -271.08,
           -425.06,
           934.97,
           -5.39,
           801.01,
           -91.92,
           93.17,
           -190.44,
           -233.12,
           -238.44,
           94.35,
           -313.49,
           -569.58,
           -747.321,
           -774.24,
           60.58,
           1599.405,
           192.13,
           298.81,
           -57.85,
           -279.01,
           -211.85,
           -196.76,
           -338.15,
           2306.25,
           270.536,
           -807.21,
           887.79,
           818.57,
           -1.45,
           7.08,
           851.69,
           49.06,
           1581.49,
           194.82,
           235.51,
           -432.14,
           -761.66,
           -759.99,
           -634.226,
           -977.8,
           -916.964,
           15.7,
           -884.45,
           370.44,
           -130.62,
           -14.86,
           -452.9,
           26.4,
           -95.29,
           1454.24,
           -194.52,
           -1284.524,
           -6.39,
           -357.73,
           638.19,
           -924.37,
           775.4,
           -115.07,
           -32.19,
           -500.42,
           664.94,
           779.464,
           595.6,
           636.49,
           1027.57,
           723.51,
           778.93,
           -199.73,
           707.81,
           1048.4,
           431.49,
           623.16,
           874.68,
           593.58,
           1556.44,
           756.47,
           627.78,
           889.74,
           951.69,
           -379.762,
           -398.99,
           -175.47,
           -96.48,
           771.49,
           10.37,
           -137.26,
           950.17,
           656,
           926.01,
           949.107,
           535.69,
           664.06,
           550.86,
           151.48,
           177.64,
           24.52,
           217.52,
           992.14,
           -1911.07,
           -555.43,
           -5129.762,
           2108.333,
           -4228.36,
           -1295.02,
           -2160.03,
           -1943.12,
           -1511.22,
           -610.86,
           -3768.88,
           3.4,
           -78.51,
           -27.54,
           207.54,
           -346.07
          ],
          "coloraxis": "coloraxis",
          "size": [
           0.26121926379333965,
           0.5281763496061278,
           0.6523560339859846,
           0.4166961452522154,
           0.48757248288339333,
           0.9357870939555013,
           0.5214916621019866,
           0.35219402608228434,
           0.40704738492157877,
           0.7585852770251673,
           0.32973477042076427,
           0.40003456308408647,
           0.3860350052084138,
           0.35606272958091095,
           0.5422982733466973,
           0.08479402862903412,
           0.420038170101481,
           0.5738187115779918,
           0.35794950358947086,
           0.4752052918028508,
           0.22862979119177923,
           0.503653232667202,
           0.3637508306737612,
           0.43651051760794535,
           0.24379567163332694,
           0.24619587857521694,
           0.2430386915873303,
           0.6032619912864049,
           0.16641224583391515,
           0.48213041478339635,
           0.32147061149344797,
           0.30728685087729324,
           0.6966726872765974,
           0.6562623151983384,
           0.6274930430251674,
           0.6120651949482874,
           0.5360555325691848,
           0.36348190592781243,
           0.47543536803496744,
           0.3305636173604885,
           0.38216724524970747,
           0.4465615499956643,
           0.30544600653504506,
           0.4622590109655616,
           0.36905901352575654,
           0.22247196838224406,
           0.22632557351450872,
           0.38881838468332763,
           0.6786315569705735,
           0.22024333775886507,
           0.3401289228549742,
           0.3395029746477791,
           0.25859315640528757,
           0.19541573199961654,
           0.3628654369069707,
           0.5313618060381308,
           0.29218490470439684,
           0.37812780330983653,
           0.46891344292339254,
           0.47765867189381356,
           0.41217429082240087,
           0.2343418760325833,
           0.22497984246498448,
           0.27784405630312076,
           0.2325184119862945,
           0.2432993411964393,
           0.25909756084526975,
           0.47270896187829387,
           0.7233864707183877,
           0.45717803872967533,
           0.3917091999888866,
           0.15869809927691947,
           0.24914041142402124,
           0.5656457127450744,
           0.30956510474674503,
           0.33217726794297087,
           0.2791532311650209,
           0.20045752424281502,
           0.6352498980757324,
           0.03864073572510513,
           0.4958138380261185,
           0.32332865944972355,
           0.30417970051538884,
           0.29451874844039855,
           0.3858298764083013,
           0.5601672376006379,
           0.38433832881365154,
           0.5154981453250481,
           0.6049408150815766,
           0.37866749260225846,
           0.33216728702875364,
           0.18472717927930818,
           0.24811395804479183,
           0.6367063426081525,
           0.3203991819164251,
           0.17520068229812288,
           0.44827108343750455,
           0.30175848769773883,
           0.4261408206478536,
           0.22759922393755244,
           0.18258503257841457,
           0.20145640097048936,
           0.29438544570723485,
           0.2940499999151621,
           0.4527959222673185,
           0.16759170903143017,
           0.4307729224482384,
           0.3486192005416716,
           0.43765350817530324,
           0.37366987344690705,
           0.4113462112239352,
           0.4212146711621607,
           0.41764954361201473,
           0.27119378495586366,
           0.3899373649915553,
           0.41241798139134894,
           0.2715593307484723,
           0.2503290784673597,
           0.3296150446630359,
           0.37960930512974683,
           0.08856697742584055,
           0.37084015429552425,
           0.4684134220296294,
           0.2345279111037458,
           0.4430902757977945,
           0.32023043048114147,
           0.0036865692628693966,
           0.33996748117187253,
           0.11357670312034496,
           0.3062890597839404,
           0.48072253553471195,
           0.42071706802266057,
           0.30852960719446176,
           0.0028692454614197955,
           0.2979737115189588,
           0.13137686304730065,
           0.2698357468196777,
           0.31460172649430707,
           0.45512508907167587,
           0.6846457766535676,
           0.31187309073276276,
           0.2740611853652306,
           0.31868833545154374,
           0.2541660647404018,
           0.19640281684255897,
           0.31814427183103383,
           0.31855774111641433,
           0.47606415512131683,
           0.4909511745310951,
           0.3081888591093766,
           0.1650530762682359,
           0.3368878690137922,
           0.2547085896276976,
           0.24930755182029882,
           0.4061596624930957,
           0.3190313095833409,
           0.3768285017179226,
           0.5555221505416276,
           0.5802374248094132,
           0.21899608160520923,
           0.22521479733565367,
           0.2070449333964052,
           0.6448971138285611,
           0.6220917929074133,
           0.60389562651715,
           0.558347947577639,
           0.5090003582723345,
           0.5699038836613338,
           0.6769481105559996,
           0.4489507904006101,
           0.6017188411990725,
           0.6033119843042845,
           0.4352910804250225,
           0.4630622826072723,
           0.2623897312573501,
           0.08753792773240042,
           0.43589865511000986,
           0.3761975524296307,
           0.0799844090379353,
           0.5334998157662495,
           0.20188248269130082,
           0.48305803933627284,
           0.3684956724287718,
           0.26850929917402216,
           0.6986395820732101,
           0.21859612546730642,
           0.5937711388293827,
           0.3406717337417768,
           0.35547031869826756,
           0.4970003948819657,
           0.25875635773834316,
           0.3069907251133875,
           0.31253511300675185,
           0.3830079174818163,
           0.26879936407706945,
           0.24848852466113733,
           0.6653039399887125,
           0.3291466915227124,
           0.04214972852871979,
           0.2956996923660366,
           0.35618495265499844,
           0.3357466654333339,
           0.3753263785098208,
           0.2226038977569129,
           0.27544658549662404,
           0.2921110320170848,
           0.34330631220665225,
           0.5624450589426095,
           0.3654431703553306,
           0.3075464422801731,
           0.1081413156833812,
           0.3760937692697295,
           0.6689971880308415,
           0.3284771530342664,
           0.4027425772906132,
           0.14049375094756186,
           0.4854116466343103,
           0.40766030924340824,
           0.6066596912457497,
           0.4478885922158546,
           0.38908887508255663,
           0.2165716141592907,
           0.21972755168513097,
           0.1512829107702942,
           0.11990453309273666,
           0.31764671476453027,
           0.4220807933587257,
           0.24754026937680862,
           0.3557482746011025,
           0.17829603066736466,
           0.3456848147796606,
           0.20071179415025356,
           0.1823219933262247,
           0.3363969470449899,
           0.1271606744721593,
           0.3774108060546108,
           0.1398308176655282,
           0.18960349519615158,
           0.21965025787354464,
           0.13129045095031192,
           0.16955279012700716,
           0.29995752112665236,
           0.09435688632476708,
           0.29832737359144035,
           0.23121960586799384,
           0.4787473864972164,
           0.2062917465288081,
           0.18662720573834687,
           0.2737514325064238,
           0.4041429293028169,
           0.26676409746075735,
           0.33858220843080145,
           0.25475388193623166,
           0.1858892685203044,
           0.2835991948363934,
           0.23466756946358772,
           0.5437207928788274,
           0.2903134207306633,
           0.23997369336182006,
           0.24204173294955836,
           0.7349564041282917,
           0.267552004379701,
           0.3318721962617278,
           0.34620559955422825,
           0.21393539420162966,
           0.23654778322371203,
           0.13211657795387519,
           0.4581151894400954,
           0.49023074746284157,
           0.12277463381661775,
           0.1404062262730652,
           0.18482690002438654,
           0.43294334013571145,
           0.31093558492940215,
           0.3861217751443438,
           0.26031679961141513,
           0.37146166246034745,
           0.7091019111319894,
           0.34024844421863604,
           0.3065047603698797,
           0.5314955367155735,
           0.06086823038335067,
           0.4802596349171793,
           0.41039521254068173,
           0.2501558579861811,
           0.10104065840751614,
           0.25772004426068473,
           0.28538378274972487,
           0.27959582760705826,
           0.29244744158036023,
           0.7631913031503885,
           0.3351483227216658,
           0.5958125731337792,
           0.4771023816605813,
           0.4969746980531421,
           0.416760221939706,
           0.4583721840153839,
           0.3504458126868318,
           0.11290043486039872,
           0.2760473870776104,
           0.28447482363965754,
           0.20830681745362703,
           0.09259486416697758,
           0.2623388953493824,
           0.4967295596305281,
           0.7856336127425101,
           0.6060959120136575,
           0.39570494731941414,
           0.1906722065502593,
           0.2569626576162591,
           0.3414180360564811,
           0.33156981612485803,
           0.5253182623587321,
           0.4712900869101929,
           0.22697860304963616,
           0.3909998216759458,
           0.26228633373752286,
           0.41405458962048647,
           0.49382377761854523,
           0.28965326631852245,
           0.2950384972953864,
           0.25685876871542396,
           0.4623232263603429,
           0.32811178197354235,
           0.3984809552668715,
           0.299022799969095,
           0.49911741740423904,
           0.4776622046092641,
           0.529731670293361,
           0.7782746566978322,
           0.7470866249803136,
           0.2244753802333119,
           0.28368805366224087,
           0.34714604617394773,
           0.3991996034470699,
           0.2155198436039158,
           0.22847242441213042,
           0.45169282653160725,
           0.36641039867678354,
           0.654201179916653,
           0.40506896648132434,
           0.4998113999360882,
           0.4239149290104203,
           0.6798137833972198,
           0.8318362640405405,
           0.3700877554973243,
           0.38421356753252506,
           0.06273909904761235,
           0.0728262717562891,
           0.33334902378781506,
           0.42538248713263227,
           0.2929636398367141,
           0.2722219704036216,
           0.9599291509697567,
           0.3139121936235428,
           0.2300507006515016,
           0.2319417571295732,
           0.361709304737318,
           0.22479586756608919,
           0.3800256566819068,
           0.29124310454175334,
           0.3212857661678075,
           0.033455997831041764,
           0.29805489929273776,
           0.2228038045767661,
           0.3969535215580954,
           0.3348949724351008,
           0.14778279211345646,
           0.31859052705659413,
           0.2202742720314732,
           0.6140644616010955,
           0.31112956064002817,
           0.5039261091665238,
           0.41628981085836414,
           0.4742939001850607,
           0.3257231359860635,
           0.3031195858315173,
           0.4529815474756212,
           0.28256390215710697,
           0.48477472786986003,
           0.37687334370594,
           0.25098333289821373,
           0.5439161926641743,
           0.6909130370826768,
           0.48603170858166694,
           0.33760600639119875,
           0.2821137171503063,
           0.1342007180594885,
           0.14528283359963742,
           0.46291450088928016,
           0.6546109588494881,
           0.4192667801035359,
           0.2832264619049785,
           0.3531447782135332,
           0.2300096438119081,
           0.41149631706429673,
           0.405984473613536,
           0.3913957346717172,
           0.39593165885957043,
           0.390519321845338,
           0.7094994939915144,
           0.8388099099511204,
           0.7893730166944595,
           0.5014888545478403,
           0.384729158991899,
           0.49215101031476427,
           0.3869710005757828,
           0.45544398504068234,
           0.46473162669880624,
           0.350592944301221,
           0.6940793560052481,
           0.06442159153252403,
           0.10742640021984358,
           0.6219700640241368,
           0.24393574150978412,
           0.2230910143693552,
           0.30613954037312985,
           0.11633347808821151,
           0.16427156894442074,
           0.26394978892597926,
           0.37586168533284736,
           0.3899919684206559,
           0.33193637325970643,
           0.3281693939073201,
           0.22116499448757604,
           0.4114019744216378,
           0.20317793611303372,
           0.35101006750266966,
           0.40781013452778575,
           0.6525866990827848,
           0.37232348323926934,
           0.27872980734666736,
           0.24779259821807362,
           0.21165101363011704,
           0.3602216817081672,
           0.5576531010324786,
           0.19052120980264775,
           0.32854483909451987,
           0.048602704867949556,
           0.12286134402412298,
           0.13781899806307737,
           0.4392926581004484,
           0.11326639642724048,
           0.4067860114712079,
           0.03528574535511382,
           0.4109596174785532,
           0.46378690217381585,
           0.5538875140775066,
           0.3292952352398054,
           0.5931436632127786,
           0.5045217902001495,
           0.5271563908532543,
           0.3806041449048476,
           0.7971788855728696,
           0.4686540922750453,
           0.23266720650647787,
           0.2881642470928996,
           0.4536806021323688,
           0.33198220189519256,
           0.18659126369442797,
           0.13564712061184825,
           0.4482556821793423,
           0.2514395337237632,
           0.22178475011494306,
           0.08370449585248636,
           0.5693748525348759,
           0.1912802995246346,
           0.14335969887527208,
           0.3101796475468706,
           0.4361008158070212,
           0,
           0.22915517521459047,
           0.14915410128163004,
           0.2351066046932654,
           0.2790189118860168,
           0.4456852089119086,
           0.32865733282735854,
           0.7676647126028456,
           0.634392911442029,
           0.3333724323329999,
           0.21102965687400124,
           0.31992745076772233,
           0.24251451402754234,
           0.38944695929112366,
           0.34721290521555703,
           0.4565872728812218,
           0.31763310394331634,
           0.21276966615592824,
           0.39323462879890686,
           0.2725479161928576,
           0.3252012431731956,
           0.311422157688334,
           0.32341275703844274,
           0.4054384217097614,
           0.3830243985129891,
           0.3282173414386171,
           0.30582307230701455,
           0.3271840748264702,
           0.5134684258409141,
           0.2939032432835856,
           0.2611378421226972,
           0.4590312572995587,
           0.36879258065694587,
           0.37388869614149556,
           0.2594359713551115,
           0.4304354267262541,
           0.2160293463242024,
           0.04788286072701374,
           0.2004947303620025,
           0.49166134836873077,
           0.43831639673359746,
           0.6413824745717377,
           0.6274506040107618,
           0.489037416131463,
           0.5511607153105951,
           0.5497354145115354,
           0.5195468279982213,
           0.5227622791718222,
           0.6223946410091997,
           0.5822667885815724,
           0.505881834582497,
           0.436943127165172,
           0.4743302834979597,
           0.40373889711607114,
           0.543184201121445,
           0.15791672762989514,
           0.37841669095582625,
           0.45413204160055576,
           0.5112539764187488,
           0.3622465679617228,
           0.4476565976387918,
           0.299225793989286,
           0.29628989111589743,
           0.2952439754722988,
           0.34384468825077263,
           0.31001137682388974,
           0.26971492801616986,
           0.5231098786514435,
           0.3250114743761386,
           0.4527109902840612,
           0.3022841229837382,
           0.4292334548401873,
           0.5758364824028727,
           0.22815909347871852,
           0.36822814206722987,
           0.749972788065406,
           0.6179798310450798,
           0.43765350050369783,
           0.2974327982913198,
           0.3064919581128218,
           0.24710579889751128,
           0.4803792191631404,
           0.4567538988221658,
           0.4582033053040149,
           0.34956153837315074,
           0.4805790169637568,
           0.27067408356553574,
           0.21610215274562852,
           0.17568854114393523,
           0.1885761082155735,
           0.23987912464338496,
           0.3137138495536293,
           0.3410726242748587,
           0.23117979166864283,
           0.33774070852478594,
           0.27030877302963424,
           0.47558113540024755,
           0.21375178230726014,
           0.4607602692669546,
           0.2626672592611846,
           0.33613582701733163,
           0.32344743568660334,
           0.3434038434728856,
           0.24429932777510097,
           0.18321534658052963,
           0.23635258800127393,
           0.2980432782547472,
           0.34997233204424744,
           0.620761380702139,
           0.1941492873096316,
           0.5033565218065048,
           0.426223125848959,
           0.3839327326439276,
           0.3607494007765394,
           0.3386310130489298,
           0.4956467748843729,
           0.22097499982717497,
           0.14996735674754186,
           0.4521806568928299,
           0.2873942876185693,
           0.4255736077190523,
           0.23665484558626773,
           0.07575918580605258,
           0.41616168305502,
           0.1147701235967731,
           0.2788446066892547,
           0.31902073541394915,
           0.017897390697204495,
           0.17082801180413032,
           0.12632196709859259,
           0.4281931283986698,
           0.29477053446194973,
           0.6073941247844591,
           0.26087319934820563,
           0.2920146023181378,
           0.4441813187984746,
           0.2401028304080796,
           0.19290999398011208,
           0.1819557973559814,
           0.030601400693219285,
           0.01932221151135632,
           0.16566429270911315,
           0.2108044652779037,
           0.05364439560929442,
           0.28591635965572426,
           0.04672521297357887,
           0.15998373298173046,
           0.04439117115516745,
           0.12801356215433243,
           0.380248365902385,
           0.46811101404392785,
           0.24589020553298357,
           0.367885387260317,
           0.9999999999575369,
           0.2225965074870935,
           0.059290391465294454,
           0.36369881309412905,
           0.3460224101466797,
           0.5348420787356207,
           0.35943474352850086,
           0.3226355360500492,
           0.05015894757867023,
           0.209765666158173,
           0.33733479126657595,
           0.1323191912346934,
           0.23613110090826625,
           0.29081349231537157,
           0.3451855993448796,
           0.14733136760108326,
           0.2314807162419994,
           0.24342478374538126,
           0.026717576988006895,
           0.32808519992903407,
           0.33470443136274414,
           0.18700707351323434,
           0.18601437218776268,
           0.41425949464172485,
           0.2780685235656538,
           0.21523205497634432,
           0.4556165014552352,
           0.3306594185360051,
           0.4425324504267748,
           0.5081866304162074,
           0.07941670537525022,
           0.10502284141254757,
           0.200429179839172,
           0.24060830311938916,
           0.27463910572305394,
           0.39187606983095025,
           0.20432437272302734,
           0.27362781142585046,
           0.1589078185423411,
           0.1836515464119305,
           0.5368695039670555,
           0.5273913747325188,
           0.12262667265787816,
           0.17444169590121542,
           0.35789928615761396,
           0.18767258909558257,
           0.435178949936866,
           0.24224156141593756,
           0.2449344306995783,
           0.3275406704017986,
           0.2248798186896583,
           0.21947585321253285,
           0.04302291477821752,
           0.48718186658444435,
           0.8150427146093083,
           0.40718559741708965,
           0.1299548893916375,
           0.14719903809614004,
           0.27624615507428524,
           0.16574337153170163,
           0.27167804780856825,
           0.12198770279374821,
           0.257747028290144,
           0.1945926961293211,
           0.4292494322859952,
           0.6340436396309858,
           0.44922766420531934,
           0.37754021779745517,
           0.6679927710360514,
           0.4059372373360752,
           0.5021246773327223,
           0.45425084400120663,
           0.3460852191260903,
           0.3937804470853513,
           0.022194170671857666,
           0.4312306199044682,
           0.4801357646086058,
           0.281549152253811,
           0.38256856804567163,
           0.35143190924398754,
           0.39431266096235207,
           0.40521450891099414,
           0.3605733474809119,
           0.34678693931022947,
           0.35715299261035127,
           0.2870186924452656,
           0.4332116117804941,
           0.35292660515158064,
           0.33538234785397253,
           0.31390485875628227,
           0.21022617355727433,
           0.26365041712447573,
           0.39652705201823135,
           0.3168789057233383,
           0.23700748594350432,
           0.3668332025141273,
           0.4591067329766043,
           0.32054797211654446,
           0.19289109944623406,
           0.37523276144665485,
           0.3085336341400062,
           0.3626040124021825,
           0.3387466696315776,
           0.37815081574099296,
           0.22622952638891955,
           0.27178493552450694,
           0.21164207126306545,
           0.3419260412091188,
           0.5349265128900298,
           0.20401634041517291,
           0.2777129393544779,
           0.3733517157719565,
           0.2997545306230462,
           0.06277727190809149,
           0.1795630180080038,
           0.26964460110611604,
           0.27009945979884187,
           0.21239681665222596,
           0.26852597445262505,
           0.3384857166712736,
           0.0626846046573848,
           0.38663871576205844,
           0.31949199919228594,
           0.4817377179982012,
           0.3859597828920639,
           0.43214129777679355,
           0.23347127721862446,
           0.9981137606091766,
           0.509752952481778,
           0.5381539537263185,
           0.21194470297377255,
           0.46332252640429084,
           0.4921102381287328,
           0.4229579998952635,
           0.7020487794469946,
           0.5788643980172418,
           0.3270195079209295,
           0.6185767585163064,
           0.40159442033183707,
           0.41115199940603103,
           0.6463524028704307,
           0.3499050765741415,
           0.3339435650269644
          ],
          "sizemode": "area",
          "sizeref": 0.0024999999998938423,
          "symbol": "circle"
         },
         "mode": "markers",
         "name": "",
         "scene": "scene",
         "showlegend": false,
         "type": "scatter3d",
         "x": [
          126.3693848,
          126.3575602,
          126.3576335,
          126.348315,
          126.3640869,
          126.3634684,
          126.3647542,
          126.3714844,
          126.3662191,
          126.3628418,
          126.3634603,
          126.3657633,
          126.3642334,
          126.3648682,
          126.3975423,
          126.3904962,
          126.4,
          126.3973958,
          126.3955973,
          126.3740723,
          126.3702202,
          126.383672,
          126.362991,
          126.4000388,
          126.3941976,
          126.3945068,
          126.3918213,
          126.4027227,
          126.3870052,
          126.4022298,
          126.3944336,
          126.3905355,
          126.4455973,
          126.4487549,
          126.4412191,
          126.4368612,
          126.3967285,
          126.4033122,
          126.4008545,
          126.3936686,
          126.3967846,
          126.3998942,
          126.3990479,
          126.4133219,
          126.4180508,
          126.3992594,
          126.3963623,
          126.3994222,
          126.3761882,
          126.4,
          126.3995524,
          126.4007731,
          126.4005127,
          126.3995768,
          126.399821,
          126.4015137,
          126.4069499,
          126.4039225,
          126.4074463,
          126.3993001,
          126.3995117,
          126.4015951,
          126.4022868,
          126.4003092,
          126.3955241,
          126.395752,
          126.3977376,
          126.3992513,
          126.4017741,
          126.4002279,
          126.3937744,
          126.3962891,
          126.3961751,
          126.3981527,
          126.3986491,
          126.3995253,
          126.3722249,
          126.3711263,
          126.4066074,
          126.4036297,
          126.403068,
          126.4083415,
          126.4061523,
          126.3993164,
          126.3582031,
          126.4093669,
          126.3599365,
          126.413387,
          126.3979167,
          126.3832357,
          126.3731527,
          126.389388,
          126.3988444,
          126.3992513,
          126.4007812,
          126.3951335,
          126.400179,
          126.3959066,
          126.4007161,
          126.3955404,
          126.3953288,
          126.3963704,
          126.3942627,
          126.416569,
          126.4045736,
          126.4051107,
          126.4206868,
          126.4034668,
          126.4035889,
          126.4039551,
          126.3984782,
          126.3560384,
          126.4016764,
          126.3986735,
          126.3544027,
          126.3618001,
          126.4159098,
          126.4292384,
          126.3971436,
          126.3973226,
          126.3984945,
          126.3760184,
          126.4068197,
          126.3984212,
          126.398234,
          126.4128524,
          126.4041667,
          126.4054036,
          126.3995605,
          126.398348,
          126.3639974,
          126.4054199,
          126.3565755,
          126.3504457,
          126.3611654,
          126.3562298,
          126.346403,
          126.4141927,
          126.4145833,
          126.473411,
          126.360498,
          126.3141294,
          126.4116862,
          126.4076742,
          126.4134196,
          126.40389,
          126.4052979,
          126.3969889,
          126.4059001,
          126.4011882,
          126.3952393,
          126.3619873,
          126.3960856,
          126.4043864,
          126.404362,
          126.4056071,
          126.4077067,
          126.4258789,
          126.416512,
          126.4324963,
          126.4373779,
          126.4339274,
          126.4205811,
          126.4353027,
          126.4231983,
          126.3992676,
          126.4351074,
          126.43632,
          126.4169027,
          126.4166339,
          126.4187188,
          126.4181559,
          126.4192952,
          126.4179932,
          126.4336426,
          126.4364176,
          126.4283854,
          126.3993327,
          126.4308268,
          126.4200114,
          126.4360189,
          126.4264893,
          126.4332438,
          126.4317464,
          126.4162109,
          126.4344482,
          126.4177002,
          126.4286296,
          126.405957,
          126.4248372,
          126.439209,
          126.4123198,
          126.4342611,
          126.4161168,
          126.4056641,
          126.4348714,
          126.417806,
          126.415625,
          126.436792,
          126.4165934,
          126.3631104,
          126.3963542,
          126.396818,
          126.3987549,
          126.4031901,
          126.3601156,
          126.404305,
          126.4097656,
          126.4004232,
          126.3968099,
          126.3530599,
          126.3656657,
          126.3993734,
          126.4027018,
          126.3997721,
          126.399821,
          126.3660645,
          126.3656657,
          126.3634684,
          126.4075114,
          126.4078776,
          126.4072347,
          126.4027344,
          126.4084473,
          126.4002848,
          126.4020508,
          126.4074626,
          126.4024495,
          126.408431,
          126.4101481,
          126.4037679,
          126.4076579,
          126.4016846,
          126.4023112,
          126.4064209,
          126.4079508,
          126.406486,
          126.4069906,
          126.4022868,
          126.4042887,
          126.4009521,
          126.4041423,
          126.3941569,
          126.3990804,
          126.3984782,
          126.3231318,
          126.407959,
          126.4067546,
          126.4056722,
          126.4076497,
          126.4073161,
          126.4055257,
          126.4082845,
          126.4032959,
          126.4065267,
          126.4086182,
          126.4067057,
          126.4050618,
          126.4054199,
          126.4081868,
          126.4071777,
          126.4084147,
          126.4051514,
          126.407137,
          126.4043294,
          126.4160807,
          126.3979411,
          126.4081217,
          126.4055339,
          126.4058268,
          126.4102946,
          126.4062581,
          126.4086019,
          126.4078857,
          126.3738932,
          126.4049723,
          126.40625,
          126.3667686,
          126.3658854,
          126.3632406,
          126.3032715,
          126.3589193,
          126.3992757,
          126.3994222,
          126.3684896,
          126.3655273,
          126.4040039,
          126.4018473,
          126.4195349,
          126.4050456,
          126.4016659,
          126.4084798,
          126.3612467,
          126.3831351,
          126.3691895,
          126.4048747,
          126.3977295,
          126.4117676,
          126.4049561,
          126.3945964,
          126.397347,
          126.3968424,
          126.3968669,
          126.396696,
          126.3622233,
          126.3600179,
          126.3609701,
          126.3612874,
          126.3969727,
          126.410262,
          126.3986328,
          126.395166,
          126.4019938,
          126.3331923,
          126.404126,
          126.3983561,
          126.4010579,
          126.3627604,
          126.4075602,
          126.4034587,
          126.3986572,
          126.3955811,
          126.392863,
          126.3963135,
          126.4025472,
          126.3902913,
          126.3617025,
          126.4030843,
          126.4012044,
          126.4023926,
          126.3318245,
          126.400651,
          126.366097,
          126.358016,
          126.4135986,
          126.4141276,
          126.4051188,
          126.4009603,
          126.4031413,
          126.4032145,
          126.4047689,
          126.3668783,
          126.4030924,
          126.3231226,
          126.4002523,
          126.3732296,
          126.3988444,
          126.3955322,
          126.3939372,
          126.3940267,
          126.3960775,
          126.4010661,
          126.4035889,
          126.3985677,
          126.4027181,
          126.3980632,
          126.4019613,
          126.3979818,
          126.394694,
          126.4013346,
          126.366862,
          126.3587077,
          126.3652995,
          126.3539958,
          126.4013672,
          126.4053548,
          126.4035238,
          126.3998535,
          126.3599691,
          126.4051676,
          126.3602132,
          126.404541,
          126.3489418,
          126.4270219,
          126.4016032,
          126.4095296,
          126.4064046,
          126.404069,
          126.3945719,
          126.3598796,
          126.3529175,
          126.3967448,
          126.3587972,
          126.361971,
          126.3604655,
          126.3486003,
          126.4034912,
          126.3758973,
          126.3441239,
          126.3593018,
          126.3596354,
          126.4051107,
          126.4105469,
          126.4108968,
          126.3736084,
          126.4048747,
          126.4119222,
          126.4035482,
          126.3977458,
          126.3961914,
          126.489639,
          126.3424508,
          126.3882944,
          126.4063965,
          126.4118896,
          126.4018962,
          126.4055827,
          126.4052572,
          126.4056722,
          126.4124023,
          126.3577433,
          126.3951904,
          126.3960693,
          126.4049316,
          126.4064372,
          126.4054281,
          126.4044271,
          126.4021729,
          126.4040771,
          126.4018229,
          126.4056152,
          126.4035889,
          126.4039144,
          126.4082357,
          126.4099121,
          126.4160902,
          126.4046387,
          126.4005941,
          126.4058594,
          126.4037028,
          126.4038249,
          126.3582682,
          126.3663574,
          126.350236,
          126.4053141,
          126.3121441,
          126.4151449,
          126.4176839,
          126.4164958,
          126.4047607,
          126.4132894,
          126.3546631,
          126.3943522,
          126.3923258,
          126.3936035,
          126.3342796,
          126.3756185,
          126.4029134,
          126.3709961,
          126.3619873,
          126.3611491,
          126.4033447,
          126.4037516,
          126.3584961,
          126.4040365,
          126.3993652,
          126.3673747,
          126.4176025,
          126.3996419,
          126.3955729,
          126.3946452,
          126.4060059,
          126.3572347,
          126.3525879,
          126.3492188,
          126.3641357,
          126.3962386,
          126.4007363,
          126.3961019,
          126.3579671,
          126.3550537,
          126.3595703,
          126.3977051,
          126.4170654,
          126.4032389,
          126.3954915,
          126.3993327,
          126.399585,
          126.374471,
          126.3905192,
          126.3659857,
          126.4078044,
          126.4040853,
          126.4037923,
          126.401945,
          126.4013184,
          126.3569336,
          126.3979736,
          126.3982422,
          126.4005371,
          126.4084391,
          126.3991374,
          126.4003825,
          126.4045085,
          126.3986816,
          126.3986247,
          126.4007812,
          126.3681443,
          126.4075928,
          126.366805,
          126.3986003,
          126.3994303,
          126.3978434,
          126.399943,
          126.3989014,
          126.39882,
          126.3984375,
          126.4014079,
          126.3993734,
          126.4045898,
          126.4075033,
          126.4073486,
          126.4062174,
          126.4048096,
          126.4068522,
          126.4138102,
          126.4062663,
          126.4065348,
          126.4064372,
          126.4069743,
          126.4089355,
          126.4025228,
          126.403776,
          126.4052816,
          126.4062744,
          126.3536051,
          126.3606283,
          126.3582926,
          126.4035563,
          126.4064941,
          126.4027995,
          126.408195,
          126.4093343,
          126.4049154,
          126.4092285,
          126.4059408,
          126.4079753,
          126.3635416,
          126.4073242,
          126.3985514,
          126.3961019,
          126.3990072,
          126.4043701,
          126.3975993,
          126.3960449,
          126.4067383,
          126.4057129,
          126.4036621,
          126.3969401,
          126.393571,
          126.395516,
          126.361141,
          126.4025065,
          126.3975586,
          126.3954997,
          126.3987386,
          126.3960286,
          126.3954427,
          126.3953044,
          126.3500326,
          126.4105306,
          126.395459,
          126.3825521,
          126.3776984,
          126.3616211,
          126.3627116,
          126.3722538,
          126.3725324,
          126.3800537,
          126.3966146,
          126.400529,
          126.4039632,
          126.3676188,
          126.4031494,
          126.4015055,
          126.4037923,
          126.405013,
          126.3999512,
          126.3613688,
          126.3551351,
          126.3547282,
          126.3560465,
          126.3986247,
          126.3592448,
          126.3681559,
          126.388106,
          126.3968262,
          126.3960938,
          126.3553711,
          126.3525798,
          126.3978597,
          126.3589355,
          126.3580078,
          126.3597656,
          126.3519206,
          126.361329,
          126.3601237,
          126.3535645,
          126.3577718,
          126.3564038,
          126.3601725,
          126.3571452,
          126.3615967,
          126.3623128,
          126.3685303,
          126.3617106,
          126.3583252,
          126.3517822,
          126.3565999,
          126.3609131,
          126.3515137,
          126.3532633,
          126.3575928,
          126.3509684,
          126.3550944,
          126.3536214,
          126.3566081,
          126.3531477,
          126.3527995,
          126.360848,
          126.3594076,
          126.3565348,
          126.3583252,
          126.3612305,
          126.3560954,
          126.354484,
          126.3554118,
          126.3571533,
          126.3595459,
          126.3642741,
          126.3622152,
          126.3552165,
          126.3547526,
          126.3575439,
          126.3613688,
          126.3563395,
          126.3618734,
          126.3598389,
          126.3565104,
          126.3649495,
          126.356901,
          126.3545166,
          126.360498,
          126.3590495,
          126.3542969,
          126.3677002,
          126.3606608,
          126.3613932,
          126.398055,
          126.3979899,
          126.3811673,
          126.3903239,
          126.3901693,
          126.3974445,
          126.3985677,
          126.4003011,
          126.3996989,
          126.3963379,
          126.4003255,
          126.4010986,
          126.4003337,
          126.3945557,
          126.4128011,
          126.4168783,
          126.3433656,
          126.3948568,
          126.3953288,
          126.4083593,
          126.4031576,
          126.2989322,
          126.3999349,
          126.3987956,
          126.3981689,
          126.3980225,
          126.3996663,
          126.3487857,
          126.3640703,
          126.399292,
          126.3524658,
          126.3493571,
          126.3980469,
          126.3979248,
          126.3496012,
          126.39646,
          126.3448242,
          126.3995443,
          126.3992513,
          126.4009928,
          126.4021159,
          126.4017334,
          126.3728508,
          126.4028646,
          126.4060518,
          126.4102946,
          126.3971924,
          126.4019857,
          126.3983154,
          126.395931,
          126.3953532,
          126.3605876,
          126.3719401,
          126.404069,
          126.3745036,
          126.3250116,
          126.3583903,
          126.4034424,
          126.3542806,
          126.4104411,
          126.3518636,
          126.372404,
          126.3707845,
          126.374821,
          126.3547933,
          126.3700711,
          126.3557861,
          126.3553223,
          126.3496582,
          126.3542399,
          126.3534342,
          126.3762044,
          126.3546061,
          126.3495605,
          126.3575033,
          126.3548014,
          126.3508952,
          126.3561279,
          126.3446045,
          126.3545573,
          126.3555176,
          126.3519287,
          126.3522949,
          126.4339442,
          126.4176432,
          126.4055257,
          126.4065592,
          126.353597,
          126.4030192,
          126.402946,
          126.3492432,
          126.3551351,
          126.3499023,
          126.3700208,
          126.3578206,
          126.3572021,
          126.3543294,
          126.3608073,
          126.3614909,
          126.3958252,
          126.3620036,
          126.3492025,
          126.4184652,
          126.4186198,
          126.4121133,
          126.4099656,
          126.4078206,
          126.4165853,
          126.4168294,
          126.4163737,
          126.4229004,
          126.4198812,
          126.4142741,
          126.3951904,
          126.398999,
          126.3999674,
          126.3523275,
          126.4054036
         ],
         "y": [
          38.2443639,
          38.201387,
          38.2019114,
          38.206830855,
          38.2404327,
          38.2405093,
          38.2399249,
          38.245665,
          38.2416789,
          38.2394341,
          38.2430016,
          38.2424685,
          38.2405764,
          38.2408755,
          38.2220436,
          38.22633679,
          38.2269913,
          38.2226031,
          38.2186419,
          38.213062,
          38.21767965,
          38.233159701,
          38.222723851,
          38.222254263,
          38.2097056,
          38.2087255,
          38.208402,
          38.107121396,
          38.201989319,
          38.2211522,
          38.2135429,
          38.206926,
          38.2062386,
          38.2108253,
          38.2082174,
          38.198535608,
          38.2147507,
          38.2202777,
          38.2124184,
          38.2076487,
          38.215136884,
          38.2145505,
          38.2141904,
          38.211731,
          38.205881868,
          38.2260465,
          38.218735,
          38.2161346,
          38.2104836,
          38.206515,
          38.2134666,
          38.2131744,
          38.2125041,
          38.2135496,
          38.2125722,
          38.2125402,
          38.2130468,
          38.213236,
          38.212399,
          38.2131396,
          38.212532,
          38.21191,
          38.212263,
          38.213102,
          38.2157712,
          38.2161217,
          38.214856,
          38.2129697,
          38.2184191,
          38.2154915,
          38.2128156,
          38.2126119,
          38.2142268,
          38.2114415,
          38.2104996,
          38.206937926,
          38.2114655,
          38.2093531,
          38.33904703,
          38.197921264,
          38.223158,
          38.2134687,
          38.2122368,
          38.2138036,
          38.2412506,
          38.2231959,
          38.2409284,
          38.2129056,
          38.2162974,
          38.2047015,
          38.213633,
          38.2187818,
          38.209154,
          38.2149679,
          38.2185511,
          38.2153872,
          38.223525,
          38.2171336,
          38.218187,
          38.2172048,
          38.2149452,
          38.2210571,
          38.2151019,
          38.2177361,
          38.2145551,
          38.2210411,
          38.2018232,
          38.2242254,
          38.2238981,
          38.2234815,
          38.2165718,
          38.2414246,
          38.2152522,
          38.2161985,
          38.2425863,
          38.240318,
          38.2047358,
          38.196332346,
          38.2125343,
          38.2142858,
          38.2134163,
          38.245723915,
          38.2129262,
          38.2162651,
          38.2178149,
          38.217084322,
          38.2150256,
          38.2179601,
          38.2138074,
          38.2136014,
          38.242099,
          38.2157626,
          38.2409238,
          38.229807734,
          38.2428019,
          38.199463619,
          38.2005053,
          38.2270365,
          38.2169167,
          38.173993344,
          38.2060534,
          38.269930307,
          38.2176404,
          38.2143631,
          38.2128347,
          38.2160271,
          38.2133059,
          38.2140673,
          38.2141314,
          38.2179873,
          38.2141337,
          38.2400757,
          38.2157926,
          38.2154948,
          38.2148109,
          38.2195063,
          38.2197718,
          38.2077649,
          38.2166824,
          38.201808737,
          38.2067284,
          38.1990486,
          38.2206685,
          38.2030823,
          38.219840325,
          38.1716894,
          38.2027901,
          38.2024373,
          38.2161977,
          38.232954437,
          38.21231023,
          38.2185671,
          38.2184504,
          38.2169856,
          38.1971654,
          38.2009504,
          38.2119909,
          38.1695107,
          38.201311,
          38.2203178,
          38.1968541,
          38.2073263,
          38.2046125,
          38.200504,
          38.2168365,
          38.1986707,
          38.217469,
          38.2061195,
          38.2198095,
          38.2104561,
          38.1938622,
          38.211066483,
          38.1988945,
          38.219278912,
          38.2220484,
          38.1987671,
          38.2133586,
          38.2200035,
          38.2035601,
          38.2198873,
          38.2481832,
          38.2157585,
          38.2142362,
          38.2190971,
          38.2226443,
          38.241053,
          38.2117706,
          38.2151276,
          38.2213542,
          38.2173322,
          38.2401479,
          38.2425214,
          38.2149348,
          38.2139798,
          38.217983,
          38.2192632,
          38.2427358,
          38.2421204,
          38.2415736,
          38.2133146,
          38.2126752,
          38.2137349,
          38.214812,
          38.2189484,
          38.2173597,
          38.2144338,
          38.2134969,
          38.2156375,
          38.2123329,
          38.2125465,
          38.2244504,
          38.2156916,
          38.2210373,
          38.2137601,
          38.2126584,
          38.2129618,
          38.2192413,
          38.2123199,
          38.2162549,
          38.2138796,
          38.2198967,
          38.2226735,
          38.2226262,
          38.2199173,
          38.2166725,
          38.136493362,
          38.2127543,
          38.2124517,
          38.2146011,
          38.2130572,
          38.2103714,
          38.2146535,
          38.2127803,
          38.213413,
          38.2134066,
          38.210746,
          38.213339,
          38.2146403,
          38.2146383,
          38.2127533,
          38.2140846,
          38.2132289,
          38.213692,
          38.213014,
          38.2158768,
          38.2133578,
          38.2195508,
          38.2151306,
          38.2154772,
          38.2141622,
          38.2127635,
          38.2158068,
          38.2143064,
          38.2152425,
          38.2133649,
          38.2131152,
          38.2136907,
          38.108142419,
          38.2415225,
          38.2394862,
          38.252404026,
          38.2450358,
          38.2180603,
          38.217922,
          38.2158287,
          38.2416903,
          38.2143316,
          38.2148689,
          38.212858872,
          38.2163434,
          38.090709987,
          38.213574,
          38.239419,
          38.229329782,
          38.2146797,
          38.2177378,
          38.2141609,
          38.214519,
          38.217365,
          38.2155385,
          38.2129148,
          38.2139829,
          38.2137202,
          38.2138629,
          38.2468923,
          38.2406548,
          38.240731,
          38.2420428,
          38.2145373,
          38.2124771,
          38.2204056,
          38.2225914,
          38.2120867,
          38.272706783,
          38.21496,
          38.2206037,
          38.2202843,
          38.2355619,
          38.2143069,
          38.2243055,
          38.2177259,
          38.2168694,
          38.2197416,
          38.2155401,
          38.2153643,
          38.2201345,
          38.240034,
          38.2135615,
          38.2161407,
          38.2173269,
          38.147450888,
          38.222079,
          38.2410108,
          38.2415326,
          38.2164169,
          38.2138379,
          38.2112089,
          38.2161797,
          38.221035,
          38.2215747,
          38.2303436,
          38.2054212,
          38.2134137,
          38.140868979,
          38.2155075,
          38.145349492,
          38.2160304,
          38.2123436,
          38.2150406,
          38.2147476,
          38.2136742,
          38.2206037,
          38.2144313,
          38.2213399,
          38.2275818,
          38.2166496,
          38.2281375,
          38.2195752,
          38.223409,
          38.2200109,
          38.2142069,
          38.241391,
          38.2473938,
          38.2438049,
          38.2177078,
          38.2144516,
          38.2149378,
          38.2142825,
          38.2460335,
          38.2120374,
          38.2393443,
          38.213927,
          38.296260173,
          38.214925257,
          38.217377,
          38.2291682,
          38.214522,
          38.2150536,
          38.2185562,
          38.2035594,
          38.22024118,
          38.2133563,
          38.2031654,
          38.2076141,
          38.2039152,
          38.2026952,
          38.2150251,
          38.238476332,
          38.256321738,
          38.2084119,
          38.2034828,
          38.2226784,
          38.2306099,
          38.211805,
          38.2106631,
          38.2156662,
          38.2113627,
          38.2156998,
          38.2122037,
          38.213237,
          38.234194521,
          38.274367756,
          38.237271636,
          38.2231448,
          38.2098684,
          38.2130046,
          38.2164889,
          38.2168599,
          38.2168859,
          38.2090652,
          38.256897917,
          38.2123075,
          38.2137723,
          38.2134763,
          38.214903,
          38.2157865,
          38.2164012,
          38.2244446,
          38.2237005,
          38.2250285,
          38.2224889,
          38.2241173,
          38.2328985,
          38.2200063,
          38.2257245,
          38.232406343,
          38.2241684,
          38.2210686,
          38.2252813,
          38.2214541,
          38.2216011,
          38.2411161,
          38.244593,
          38.2468508,
          38.2162684,
          38.180226084,
          38.2116397,
          38.2117655,
          38.2137182,
          38.2155309,
          38.2144633,
          38.2387014,
          38.2224096,
          38.2198545,
          38.2226649,
          38.273803062,
          38.2034993,
          38.2206004,
          38.2114914,
          38.20755,
          38.203831,
          38.2217893,
          38.2166094,
          38.2070773,
          38.2118998,
          38.2139084,
          38.2080086,
          38.215357,
          38.2129359,
          38.2234283,
          38.2159459,
          38.2140078,
          38.2423884,
          38.2404678,
          38.2449778,
          38.2434799,
          38.215682731,
          38.214187829,
          38.213105,
          38.2412862,
          38.2415372,
          38.2426648,
          38.2134076,
          38.2126155,
          38.2224304,
          38.2125239,
          38.2138669,
          38.2148191,
          38.2009659,
          38.2158417,
          38.223550622,
          38.2172638,
          38.2146255,
          38.2103091,
          38.2133787,
          38.2132683,
          38.2439471,
          38.2177691,
          38.2181905,
          38.2135892,
          38.2162046,
          38.2168864,
          38.2158193,
          38.2234782,
          38.2175814,
          38.2175011,
          38.2165995,
          38.233400549,
          38.2141337,
          38.2491015,
          38.2175301,
          38.2221583,
          38.2160937,
          38.2168022,
          38.2187108,
          38.2192182,
          38.2199392,
          38.2253965,
          38.2176882,
          38.2101397,
          38.2145081,
          38.2145541,
          38.2134661,
          38.21518,
          38.2136086,
          38.2108337,
          38.2154394,
          38.21521,
          38.2141518,
          38.2146718,
          38.2143669,
          38.2199791,
          38.2182322,
          38.2172256,
          38.2147387,
          38.2366966,
          38.2384377,
          38.237768,
          38.2160388,
          38.2145182,
          38.2146108,
          38.2135844,
          38.2120178,
          38.2141769,
          38.212542,
          38.2112734,
          38.2121557,
          38.219990195,
          38.2134641,
          38.2171974,
          38.218794,
          38.2175095,
          38.21216,
          38.2144478,
          38.2156034,
          38.2191345,
          38.2140549,
          38.2131872,
          38.2154912,
          38.215655,
          38.2158887,
          38.2408226,
          38.2130338,
          38.2120216,
          38.2129028,
          38.2128179,
          38.2137698,
          38.2137426,
          38.2111043,
          38.2479126,
          38.2202835,
          38.2202609,
          38.232589,
          38.223848724,
          38.2085337,
          38.2132848,
          38.222196398,
          38.219188667,
          38.2327126,
          38.2154073,
          38.2232814,
          38.2167229,
          38.2142446,
          38.2161311,
          38.2197344,
          38.2152423,
          38.2144948,
          38.2167173,
          38.2401952,
          38.240682,
          38.2451441,
          38.2404615,
          38.2216029,
          38.2424431,
          38.2142606,
          38.196521881,
          38.222064,
          38.2174222,
          38.241198,
          38.2403753,
          38.2247889,
          38.2403308,
          38.23937,
          38.2403041,
          38.2469704,
          38.235847471,
          38.2422852,
          38.2443616,
          38.241066,
          38.246229287,
          38.2395772,
          38.240847,
          38.2405047,
          38.2420771,
          38.2425774,
          38.2399152,
          38.2434888,
          38.2427839,
          38.2386757,
          38.2368947,
          38.2384544,
          38.2454104,
          38.2408432,
          38.2369479,
          38.2412867,
          38.243841,
          38.2424088,
          38.240205764,
          38.2372449,
          38.2381597,
          38.2404958,
          38.2390831,
          38.2405846,
          38.2390472,
          38.2416593,
          38.2424011,
          38.2385872,
          38.239978,
          38.2406754,
          38.2414831,
          38.2401014,
          38.2454208,
          38.2378273,
          38.2399272,
          38.2403618,
          38.2396617,
          38.2399429,
          38.24219,
          38.2412046,
          38.2401578,
          38.2384984,
          38.2371188,
          38.2399709,
          38.2399859,
          38.2389107,
          38.2395442,
          38.2402433,
          38.2388184,
          38.2133354,
          38.2204709,
          38.258588517,
          38.2233391,
          38.2248278,
          38.225393998,
          38.2168348,
          38.2232956,
          38.2170596,
          38.2148031,
          38.2166379,
          38.2160497,
          38.2165581,
          38.2151647,
          38.2176949,
          38.2151744,
          38.228698692,
          38.2136762,
          38.216657,
          38.282712263,
          38.2241872,
          38.243643304,
          38.2185524,
          38.2152204,
          38.2146662,
          38.2139254,
          38.2140416,
          38.241837318,
          38.227648814,
          38.2134613,
          38.2462301,
          38.2431529,
          38.2270866,
          38.2158813,
          38.2457705,
          38.2134471,
          38.2464455,
          38.2232541,
          38.2233363,
          38.2148659,
          38.2223778,
          38.2210515,
          38.197037161,
          38.2127177,
          38.212421084,
          38.2259501,
          38.2136063,
          38.2241481,
          38.2169912,
          38.2142092,
          38.2112221,
          38.2407951,
          38.2160683,
          38.2276662,
          38.2095609,
          38.276517606,
          38.2415037,
          38.210598,
          38.2420451,
          38.210218,
          38.2434191,
          38.2162788,
          38.2165207,
          38.2142418,
          38.2408437,
          38.223832712,
          38.243544,
          38.2411509,
          38.242278,
          38.2411674,
          38.2421494,
          38.2106438,
          38.2417809,
          38.2424357,
          38.2421903,
          38.2422218,
          38.2461591,
          38.2412137,
          38.24397,
          38.2431981,
          38.241143,
          38.2433416,
          38.2425102,
          38.294251758,
          38.2186213,
          38.2222616,
          38.2209813,
          38.2421598,
          38.2241478,
          38.2246099,
          38.2429075,
          38.2412328,
          38.2440679,
          38.247899112,
          38.2421527,
          38.2398188,
          38.248923,
          38.2396634,
          38.2408353,
          38.2138069,
          38.2407417,
          38.243661,
          38.3181798,
          38.3073349,
          38.311709829,
          38.296390011,
          38.3117152,
          38.3095154,
          38.3073975,
          38.3116608,
          38.3094981,
          38.3084223,
          38.3116842,
          38.2131177,
          38.207137,
          38.2173721,
          38.2424604,
          38.2124364
         ],
         "z": [
          873.3,
          -1258.86,
          -1366.21,
          -1030.06,
          265.14,
          121.14,
          108.44,
          393.28,
          296.92,
          142.22,
          403.04,
          385.08,
          256.33,
          191.3,
          -251.04,
          525,
          -203.19,
          -267.5,
          116.28,
          -311.44,
          906.696,
          1005.655,
          496.726,
          -1708.631,
          -449.89,
          -470.75,
          -455.17,
          -6826.19,
          1571.131,
          -634.95,
          -217.68,
          -360.13,
          -4507.23,
          -4391.01,
          -4622.56,
          -4960.119,
          -540.13,
          -517.66,
          -427.63,
          -85.59,
          -1821.726,
          -296.14,
          -339.73,
          -882.02,
          -973.512,
          414.91,
          -92.76,
          -230.87,
          -218,
          -260.72,
          -348.39,
          -452.72,
          -433.14,
          -513.09,
          -315.71,
          -538.17,
          -890.11,
          -1004.55,
          -880.33,
          -485.01,
          -345.64,
          -586.65,
          -442.57,
          -381.24,
          -83.58,
          -24.83,
          32.01,
          -339.67,
          -161.22,
          -61.85,
          380.6,
          -79.75,
          170.43,
          -229.52,
          -98.89,
          -1086.607,
          -269.98,
          -166.82,
          -1850,
          977.381,
          -438.44,
          -746.26,
          -736.65,
          -408.3,
          445.61,
          269.64,
          67.47,
          -724.28,
          -602.01,
          -971.53,
          -453.34,
          235.09,
          -1470.68,
          -518.89,
          -480.95,
          -72.44,
          796.13,
          119.23,
          -183.11,
          -43.09,
          -33.2,
          -2.46,
          110.37,
          -314.25,
          -605.53,
          9.27,
          -1112.54,
          185.46,
          183.21,
          153.36,
          -165.88,
          532.39,
          182.25,
          491.23,
          561.15,
          161.62,
          -619.22,
          468.452,
          -367.22,
          -11.08,
          62.24,
          -803.869,
          -1145.1,
          79.76,
          95.58,
          -1227.976,
          697.62,
          -623.07,
          -201.19,
          -209.13,
          168.02,
          -765.87,
          416.75,
          2306.25,
          169.41,
          16.071,
          -2245.76,
          818.66,
          -445.82,
          -9879.762,
          -3682.21,
          1655.952,
          -299.82,
          -1050.16,
          -604.83,
          -958.99,
          -954.5,
          -39.32,
          -339.43,
          -402.66,
          22.7,
          146.65,
          -36.17,
          -723.02,
          -734.57,
          -565.2,
          -375.46,
          -560.05,
          -532.02,
          16.071,
          787.11,
          991.94,
          -516.38,
          170.35,
          -605.952,
          -607.16,
          650.9,
          894.71,
          -372.49,
          977.381,
          -676.637,
          -610.36,
          -438.11,
          -469.82,
          1344.91,
          644.01,
          -737.65,
          -830.77,
          749.59,
          -1199.13,
          1278.71,
          -410.53,
          -385.53,
          834.7,
          -504.91,
          1161.51,
          -482.97,
          -84.4,
          -382.13,
          -739.97,
          1629.85,
          72.619,
          930.58,
          -888.69,
          291.83,
          1178.72,
          -741.96,
          -433.23,
          737.61,
          -422.73,
          -209.74,
          230.75,
          -34.35,
          104.61,
          -138.68,
          134.73,
          -606.7,
          -768.95,
          -530.62,
          -209.38,
          683.91,
          453.34,
          -598.41,
          -844.37,
          -240.67,
          -190.67,
          478.98,
          507.07,
          214.13,
          -1005.54,
          -990.53,
          -942.74,
          -762.7,
          -838.31,
          -468.94,
          -672.2,
          -992.7,
          -664.8,
          -1015.14,
          -1012.23,
          2.21,
          -971.64,
          -465.48,
          -578.5,
          -957.82,
          -1016.06,
          -953.39,
          -990.36,
          -715.15,
          -939.29,
          432.77,
          -18.11,
          118.4,
          -224.75,
          -184.26,
          -6939.286,
          -989.87,
          -963.5,
          -938.08,
          -990.71,
          -985.77,
          -934.08,
          -1014.88,
          -844.26,
          -955.41,
          -1011.12,
          -1013.39,
          -917.36,
          -923.39,
          -1010.67,
          -1091.18,
          -939.47,
          -963.7,
          -992.34,
          -892.39,
          -1424.02,
          -197.26,
          -948.77,
          -1180.32,
          -897.48,
          -903.2,
          -881.26,
          -1002.74,
          -992.92,
          -407.64,
          -960.5,
          -973.89,
          -13725,
          368.07,
          177.53,
          -3320.238,
          -64.81,
          -479.38,
          -442.14,
          -1172.52,
          -68.45,
          -771.88,
          -395.31,
          737.054,
          -779.61,
          -14177.381,
          -983.46,
          107.76,
          -1312.798,
          -906.37,
          -74.39,
          -758.74,
          -593.6,
          -1195.37,
          72.56,
          5.34,
          165.18,
          -4.9,
          -34.24,
          -251.13,
          74.98,
          109.53,
          84.57,
          -300.96,
          -824.29,
          -287.76,
          -101.7,
          -297.38,
          -1001.786,
          -539.71,
          -23.4,
          637.83,
          -250.79,
          -771.84,
          1165.8,
          -210.35,
          116.12,
          -483.15,
          51.07,
          -417.77,
          363.89,
          233.17,
          -650.52,
          -381.32,
          -234.57,
          -8748.81,
          721.81,
          274.92,
          164.9,
          -588.12,
          -658.39,
          -935.37,
          -338.51,
          -443.04,
          -662.95,
          1169.48,
          -525.28,
          -573.01,
          -8748.81,
          -572.81,
          -3998.81,
          -231.9,
          -35.78,
          183.92,
          120.3,
          -45.56,
          654.28,
          -209.19,
          -579.23,
          1501.07,
          -163.39,
          1458.15,
          53.08,
          -848.13,
          -433.08,
          -1355.66,
          13.17,
          692.81,
          115.19,
          -422.5,
          -864.83,
          -640.64,
          -428.35,
          -331.77,
          -881.4,
          64.16,
          -719.23,
          2334.524,
          -6543.452,
          -585.3,
          738.58,
          -699.34,
          -716.53,
          -842.77,
          -3098.7,
          -2698.214,
          -53.63,
          -2914.39,
          -3230.02,
          -2932.39,
          -1907.26,
          -766.01,
          850.149,
          1599.405,
          -3665.25,
          -3142.88,
          -361.79,
          925.15,
          -826.02,
          9.94,
          -619.82,
          -845.44,
          -543.07,
          -577.7,
          3.09,
          -14064.286,
          -153.571,
          -2415.476,
          378.39,
          -813.22,
          -560.2,
          -786.68,
          -705.08,
          -716.21,
          -557.06,
          525,
          52.67,
          133.11,
          -1082.5,
          -749.42,
          -1136.33,
          -1073.21,
          286.75,
          -167.76,
          267.86,
          -80.2,
          -60.82,
          1673.22,
          -996.41,
          -917.02,
          -1567.262,
          83.45,
          -681.53,
          -1023.65,
          -371.73,
          -697.08,
          424.03,
          172.67,
          754.4,
          5.02,
          -10105.952,
          -894.48,
          -911.08,
          324.45,
          -788.95,
          -525.94,
          231.37,
          623.06,
          424.9,
          818.33,
          -2358.929,
          -1311.93,
          -373.87,
          -382.06,
          -3236.23,
          -3248.68,
          -628.25,
          -1695.84,
          -3622.05,
          -398.9,
          -123.51,
          -656.59,
          -713.35,
          -162.1,
          2.2,
          -77,
          -1081.2,
          574.33,
          1113.04,
          1009.52,
          -3.64,
          270.536,
          397.768,
          85.91,
          319.16,
          609.22,
          102.92,
          -12.05,
          -220.39,
          1395.97,
          -190.28,
          -9.72,
          -582.8,
          -1032.07,
          435.26,
          16.071,
          -598.31,
          -699.03,
          -269.11,
          -416.02,
          -472.01,
          407.01,
          -161.5,
          -207.45,
          -435.53,
          -630.2,
          -151.36,
          244.64,
          605.72,
          -82.77,
          -70.08,
          -211.89,
          -662.5,
          -1057.88,
          339.76,
          -214.58,
          -473.32,
          -286.34,
          -151.51,
          -181.22,
          -235.92,
          -279.78,
          713.25,
          -143.4,
          -1271.22,
          -1092.38,
          -1150.29,
          -898.13,
          -1318.32,
          -892.2,
          -1074.95,
          -1085.81,
          -1158.18,
          -874.62,
          -1306.45,
          -1213.57,
          -576.97,
          -52.19,
          -826.81,
          -879.63,
          689.32,
          59.39,
          139.37,
          -630.68,
          -866.27,
          -734.36,
          -1004.76,
          -1008.59,
          -907.68,
          -1064.62,
          -949.52,
          -935.2,
          -2726.488,
          -990.25,
          -278.67,
          -167.8,
          -244.83,
          -1145.91,
          -781.94,
          -573.77,
          -1128.79,
          -582.47,
          -829.3,
          -41.86,
          183.66,
          -37.05,
          117.72,
          -689.59,
          -622.5,
          -137.94,
          -570.54,
          33.26,
          23.13,
          -327.66,
          649.73,
          294.25,
          -492.93,
          445.26,
          327.083,
          -564.76,
          -570.97,
          -916.964,
          -97.024,
          336.3,
          -209.05,
          764.08,
          -550.35,
          -1259.41,
          -543.24,
          585.49,
          -569.07,
          -785.58,
          -403.47,
          195.78,
          669.2,
          -244.83,
          415.63,
          261.62,
          257.96,
          -1204.69,
          -3122.321,
          278.27,
          -80.59,
          312.03,
          311.85,
          -268.54,
          -32.67,
          750.28,
          68.75,
          913.38,
          440.179,
          176.63,
          608.43,
          575.34,
          553.274,
          8.39,
          296.89,
          91.02,
          354.95,
          379.87,
          133.31,
          167.9,
          520.37,
          415.87,
          750.98,
          896.59,
          794.7,
          419.8,
          995.77,
          555.34,
          809.22,
          614.53,
          609.821,
          881.36,
          167.65,
          -4.15,
          -1.89,
          -47.52,
          -12.21,
          342.5,
          625.31,
          -71.75,
          441.05,
          133.13,
          257.81,
          71.89,
          625.3,
          554.11,
          59.32,
          75.74,
          480.41,
          137.97,
          225.48,
          456.13,
          111,
          421.8,
          903.9,
          71.26,
          43.09,
          565.29,
          67.75,
          89.41,
          223.33,
          -267.53,
          166.34,
          -1793.452,
          -271.08,
          -425.06,
          934.97,
          -5.39,
          801.01,
          -91.92,
          93.17,
          -190.44,
          -233.12,
          -238.44,
          94.35,
          -313.49,
          -569.58,
          -747.321,
          -774.24,
          60.58,
          1599.405,
          192.13,
          298.81,
          -57.85,
          -279.01,
          -211.85,
          -196.76,
          -338.15,
          2306.25,
          270.536,
          -807.21,
          887.79,
          818.57,
          -1.45,
          7.08,
          851.69,
          49.06,
          1581.49,
          194.82,
          235.51,
          -432.14,
          -761.66,
          -759.99,
          -634.226,
          -977.8,
          -916.964,
          15.7,
          -884.45,
          370.44,
          -130.62,
          -14.86,
          -452.9,
          26.4,
          -95.29,
          1454.24,
          -194.52,
          -1284.524,
          -6.39,
          -357.73,
          638.19,
          -924.37,
          775.4,
          -115.07,
          -32.19,
          -500.42,
          664.94,
          779.464,
          595.6,
          636.49,
          1027.57,
          723.51,
          778.93,
          -199.73,
          707.81,
          1048.4,
          431.49,
          623.16,
          874.68,
          593.58,
          1556.44,
          756.47,
          627.78,
          889.74,
          951.69,
          -379.762,
          -398.99,
          -175.47,
          -96.48,
          771.49,
          10.37,
          -137.26,
          950.17,
          656,
          926.01,
          949.107,
          535.69,
          664.06,
          550.86,
          151.48,
          177.64,
          24.52,
          217.52,
          992.14,
          -1911.07,
          -555.43,
          -5129.762,
          2108.333,
          -4228.36,
          -1295.02,
          -2160.03,
          -1943.12,
          -1511.22,
          -610.86,
          -3768.88,
          3.4,
          -78.51,
          -27.54,
          207.54,
          -346.07
         ]
        },
        {
         "hovertemplate": "<b>%{text}</b><br>Lat: %{y:.2f}<br>Lon: %{x:.2f}<extra></extra>",
         "marker": {
          "color": "red",
          "size": 12,
          "symbol": "circle"
         },
         "mode": "markers+text",
         "name": "Stations",
         "text": [
          "KJ09",
          "KJ05",
          "KJ05",
          "KJ05",
          "KJ09",
          "KJ14",
          "KJ13",
          "KJ14",
          "KJ12",
          "KJ14",
          "KJ13",
          "KJ14",
          "KJ12",
          "KJ12",
          "KJ14",
          "KJ02",
          "KJ08",
          "KJ02",
          "KJ02",
          "KJ02",
          "KJ06",
          "KJ06",
          "KJ11",
          "KJ11",
          "KJ02",
          "KJ02",
          "KJ02",
          "KJ02",
          "KJ01",
          "KJ02",
          "KJ02",
          "KJ02",
          "KJ02",
          "KJ01",
          "KJ01",
          "KJ01",
          "KJ01",
          "KJ02",
          "KJ02",
          "KJ02",
          "KJ02",
          "KJ08",
          "KJ02",
          "KJ02",
          "KJ04",
          "KJ04",
          "KJ02",
          "KJ02",
          "KJ02",
          "KJ06",
          "KJ02",
          "KJ02",
          "KJ02",
          "KJ02",
          "KJ02",
          "KJ02",
          "KJ02",
          "KJ02",
          "KJ02",
          "KJ02",
          "KJ02",
          "KJ02",
          "KJ02",
          "KJ02",
          "KJ02",
          "KJ02",
          "KJ02",
          "KJ02",
          "KJ02",
          "KJ02",
          "KJ02",
          "KJ02",
          "KJ02",
          "KJ02",
          "KJ02",
          "KJ02",
          "KJ02",
          "KJ06",
          "KJ06",
          "KJ14",
          "KJ02",
          "KJ02",
          "KJ02",
          "KJ02",
          "KJ02",
          "KJ13",
          "KJ12",
          "KJ02",
          "KJ14",
          "KJ02",
          "KJ02",
          "KJ06",
          "KJ05",
          "KJ02",
          "KJ02",
          "KJ02",
          "KJ02",
          "KJ02",
          "KJ02",
          "KJ02",
          "KJ02",
          "KJ02",
          "KJ02",
          "KJ02",
          "KJ02",
          "KJ02",
          "KJ04",
          "KJ02",
          "KJ02",
          "KJ04",
          "KJ02",
          "KJ02",
          "KJ02",
          "KJ02",
          "KJ13",
          "KJ02",
          "KJ02",
          "KJ13",
          "KJ13",
          "KJ04",
          "KJ02",
          "KJ02",
          "KJ02",
          "KJ02",
          "KJ12",
          "KJ02",
          "KJ02",
          "KJ02",
          "KJ04",
          "KJ02",
          "KJ02",
          "KJ02",
          "KJ02",
          "KJ02",
          "KJ13",
          "KJ02",
          "KJ13",
          "KJ09",
          "KJ13",
          "KJ01",
          "KJ06",
          "KJ04",
          "KJ04",
          "KJ01",
          "KJ09",
          "KJ14",
          "KJ02",
          "KJ02",
          "KJ02",
          "KJ02",
          "KJ02",
          "KJ02",
          "KJ02",
          "KJ02",
          "KJ02",
          "KJ13",
          "KJ02",
          "KJ02",
          "KJ02",
          "KJ02",
          "KJ04",
          "KJ04",
          "KJ04",
          "KJ04",
          "KJ04",
          "KJ04",
          "KJ04",
          "KJ04",
          "KJ04",
          "KJ04",
          "KJ04",
          "KJ04",
          "KJ04",
          "KJ04",
          "KJ04",
          "KJ04",
          "KJ04",
          "KJ04",
          "KJ04",
          "KJ04",
          "KJ04",
          "KJ04",
          "KJ04",
          "KJ04",
          "KJ04",
          "KJ04",
          "KJ04",
          "KJ04",
          "KJ04",
          "KJ04",
          "KJ04",
          "KJ04",
          "KJ04",
          "KJ04",
          "KJ04",
          "KJ04",
          "KJ04",
          "KJ04",
          "KJ04",
          "KJ04",
          "KJ04",
          "KJ04",
          "KJ04",
          "KJ04",
          "KJ04",
          "KJ14",
          "KJ02",
          "KJ02",
          "KJ02",
          "KJ02",
          "KJ14",
          "KJ02",
          "KJ02",
          "KJ02",
          "KJ02",
          "KJ10",
          "KJ12",
          "KJ04",
          "KJ02",
          "KJ02",
          "KJ02",
          "KJ11",
          "KJ12",
          "KJ11",
          "KJ02",
          "KJ02",
          "KJ02",
          "KJ02",
          "KJ02",
          "KJ02",
          "KJ02",
          "KJ02",
          "KJ02",
          "KJ02",
          "KJ02",
          "KJ02",
          "KJ02",
          "KJ02",
          "KJ02",
          "KJ02",
          "KJ02",
          "KJ02",
          "KJ02",
          "KJ02",
          "KJ02",
          "KJ02",
          "KJ02",
          "KJ02",
          "KJ02",
          "KJ02",
          "KJ02",
          "KJ06",
          "KJ02",
          "KJ02",
          "KJ02",
          "KJ02",
          "KJ02",
          "KJ02",
          "KJ02",
          "KJ02",
          "KJ02",
          "KJ02",
          "KJ02",
          "KJ02",
          "KJ02",
          "KJ02",
          "KJ02",
          "KJ02",
          "KJ02",
          "KJ02",
          "KJ02",
          "KJ02",
          "KJ02",
          "KJ02",
          "KJ02",
          "KJ02",
          "KJ02",
          "KJ02",
          "KJ02",
          "KJ02",
          "KJ06",
          "KJ02",
          "KJ02",
          "KJ01",
          "KJ11",
          "KJ11",
          "KJ10",
          "KJ14",
          "KJ12",
          "KJ02",
          "KJ02",
          "KJ06",
          "KJ11",
          "KJ02",
          "KJ02",
          "KJ02",
          "KJ02",
          "KJ01",
          "KJ02",
          "KJ11",
          "KJ07",
          "KJ05",
          "KJ02",
          "KJ02",
          "KJ02",
          "KJ02",
          "KJ02",
          "KJ02",
          "KJ02",
          "KJ02",
          "KJ02",
          "KJ15",
          "KJ13",
          "KJ13",
          "KJ13",
          "KJ02",
          "KJ02",
          "KJ02",
          "KJ02",
          "KJ02",
          "KJ13",
          "KJ02",
          "KJ02",
          "KJ02",
          "KJ11",
          "KJ02",
          "KJ02",
          "KJ02",
          "KJ02",
          "KJ02",
          "KJ02",
          "KJ02",
          "KJ02",
          "KJ11",
          "KJ02",
          "KJ02",
          "KJ02",
          "KJ05",
          "KJ02",
          "KJ11",
          "KJ11",
          "KJ02",
          "KJ04",
          "KJ02",
          "KJ02",
          "KJ02",
          "KJ02",
          "KJ02",
          "KJ05",
          "KJ02",
          "KJ08",
          "KJ02",
          "KJ01",
          "KJ02",
          "KJ02",
          "KJ02",
          "KJ02",
          "KJ02",
          "KJ02",
          "KJ02",
          "KJ02",
          "KJ02",
          "KJ02",
          "KJ02",
          "KJ02",
          "KJ02",
          "KJ04",
          "KJ02",
          "KJ06",
          "KJ11",
          "KJ14",
          "KJ14",
          "KJ14",
          "KJ14",
          "KJ11",
          "KJ02",
          "KJ02",
          "KJ02",
          "KJ02",
          "KJ14",
          "KJ02",
          "KJ11",
          "KJ02",
          "KJ13",
          "KJ04",
          "KJ02",
          "KJ04",
          "KJ11",
          "KJ02",
          "KJ02",
          "KJ02",
          "KJ05",
          "KJ09",
          "KJ02",
          "KJ05",
          "KJ11",
          "KJ11",
          "KJ06",
          "KJ02",
          "KJ11",
          "KJ14",
          "KJ13",
          "KJ13",
          "KJ06",
          "KJ13",
          "KJ11",
          "KJ02",
          "KJ02",
          "KJ02",
          "KJ13",
          "KJ13",
          "KJ06",
          "KJ02",
          "KJ02",
          "KJ02",
          "KJ02",
          "KJ02",
          "KJ01",
          "KJ13",
          "KJ13",
          "KJ02",
          "KJ02",
          "KJ02",
          "KJ02",
          "KJ02",
          "KJ02",
          "KJ02",
          "KJ02",
          "KJ13",
          "KJ02",
          "KJ02",
          "KJ02",
          "KJ02",
          "KJ02",
          "KJ02",
          "KJ02",
          "KJ02",
          "KJ02",
          "KJ02",
          "KJ02",
          "KJ02",
          "KJ02",
          "KJ02",
          "KJ04",
          "KJ02",
          "KJ02",
          "KJ02",
          "KJ04",
          "KJ04",
          "KJ14",
          "KJ14",
          "KJ14",
          "KJ04",
          "KJ05",
          "KJ10",
          "KJ04",
          "KJ04",
          "KJ04",
          "KJ02",
          "KJ02",
          "KJ11",
          "KJ02",
          "KJ02",
          "KJ02",
          "KJ14",
          "KJ05",
          "KJ02",
          "KJ06",
          "KJ06",
          "KJ05",
          "KJ02",
          "KJ02",
          "KJ05",
          "KJ02",
          "KJ02",
          "KJ06",
          "KJ09",
          "KJ04",
          "KJ02",
          "KJ02",
          "KJ02",
          "KJ04",
          "KJ10",
          "KJ14",
          "KJ10",
          "KJ10",
          "KJ02",
          "KJ02",
          "KJ02",
          "KJ14",
          "KJ14",
          "KJ14",
          "KJ02",
          "KJ04",
          "KJ02",
          "KJ02",
          "KJ02",
          "KJ02",
          "KJ05",
          "KJ02",
          "KJ10",
          "KJ02",
          "KJ02",
          "KJ02",
          "KJ02",
          "KJ02",
          "KJ10",
          "KJ02",
          "KJ02",
          "KJ02",
          "KJ02",
          "KJ02",
          "KJ02",
          "KJ02",
          "KJ02",
          "KJ02",
          "KJ02",
          "KJ09",
          "KJ02",
          "KJ14",
          "KJ02",
          "KJ02",
          "KJ02",
          "KJ02",
          "KJ02",
          "KJ02",
          "KJ02",
          "KJ02",
          "KJ02",
          "KJ04",
          "KJ04",
          "KJ04",
          "KJ04",
          "KJ04",
          "KJ04",
          "KJ04",
          "KJ04",
          "KJ04",
          "KJ04",
          "KJ04",
          "KJ04",
          "KJ04",
          "KJ04",
          "KJ04",
          "KJ04",
          "KJ14",
          "KJ14",
          "KJ10",
          "KJ10",
          "KJ10",
          "KJ02",
          "KJ02",
          "KJ02",
          "KJ02",
          "KJ02",
          "KJ02",
          "KJ02",
          "KJ02",
          "KJ02",
          "KJ09",
          "KJ14",
          "KJ02",
          "KJ02",
          "KJ02",
          "KJ02",
          "KJ04",
          "KJ02",
          "KJ02",
          "KJ04",
          "KJ02",
          "KJ02",
          "KJ02",
          "KJ02",
          "KJ02",
          "KJ10",
          "KJ02",
          "KJ02",
          "KJ02",
          "KJ02",
          "KJ02",
          "KJ02",
          "KJ02",
          "KJ10",
          "KJ02",
          "KJ02",
          "KJ07",
          "KJ07",
          "KJ06",
          "KJ06",
          "KJ07",
          "KJ06",
          "KJ08",
          "KJ02",
          "KJ02",
          "KJ02",
          "KJ02",
          "KJ06",
          "KJ02",
          "KJ02",
          "KJ02",
          "KJ02",
          "KJ02",
          "KJ12",
          "KJ10",
          "KJ14",
          "KJ10",
          "KJ06",
          "KJ12",
          "KJ06",
          "KJ01",
          "KJ02",
          "KJ02",
          "KJ10",
          "KJ10",
          "KJ02",
          "KJ10",
          "KJ10",
          "KJ10",
          "KJ14",
          "KJ10",
          "KJ12",
          "KJ10",
          "KJ10",
          "KJ14",
          "KJ10",
          "KJ10",
          "KJ10",
          "KJ10",
          "KJ14",
          "KJ10",
          "KJ10",
          "KJ10",
          "KJ10",
          "KJ10",
          "KJ10",
          "KJ14",
          "KJ10",
          "KJ10",
          "KJ10",
          "KJ10",
          "KJ10",
          "KJ10",
          "KJ10",
          "KJ10",
          "KJ10",
          "KJ10",
          "KJ10",
          "KJ10",
          "KJ10",
          "KJ12",
          "KJ10",
          "KJ10",
          "KJ10",
          "KJ10",
          "KJ12",
          "KJ10",
          "KJ10",
          "KJ10",
          "KJ10",
          "KJ10",
          "KJ10",
          "KJ10",
          "KJ10",
          "KJ10",
          "KJ14",
          "KJ10",
          "KJ12",
          "KJ10",
          "KJ10",
          "KJ10",
          "KJ14",
          "KJ10",
          "KJ10",
          "KJ02",
          "KJ02",
          "KJ14",
          "KJ03",
          "KJ03",
          "KJ02",
          "KJ02",
          "KJ02",
          "KJ02",
          "KJ02",
          "KJ02",
          "KJ02",
          "KJ02",
          "KJ02",
          "KJ02",
          "KJ04",
          "KJ04",
          "KJ10",
          "KJ02",
          "KJ02",
          "KJ14",
          "KJ02",
          "KJ14",
          "KJ02",
          "KJ02",
          "KJ02",
          "KJ02",
          "KJ02",
          "KJ02",
          "KJ14",
          "KJ14",
          "KJ02",
          "KJ14",
          "KJ10",
          "KJ02",
          "KJ02",
          "KJ14",
          "KJ02",
          "KJ14",
          "KJ02",
          "KJ02",
          "KJ02",
          "KJ02",
          "KJ02",
          "KJ05",
          "KJ02",
          "KJ02",
          "KJ02",
          "KJ02",
          "KJ02",
          "KJ02",
          "KJ02",
          "KJ02",
          "KJ10",
          "KJ06",
          "KJ06",
          "KJ02",
          "KJ06",
          "KJ14",
          "KJ10",
          "KJ02",
          "KJ14",
          "KJ02",
          "KJ14",
          "KJ06",
          "KJ06",
          "KJ06",
          "KJ14",
          "KJ14",
          "KJ14",
          "KJ10",
          "KJ10",
          "KJ10",
          "KJ10",
          "KJ06",
          "KJ14",
          "KJ10",
          "KJ14",
          "KJ14",
          "KJ14",
          "KJ14",
          "KJ14",
          "KJ14",
          "KJ12",
          "KJ14",
          "KJ10",
          "KJ04",
          "KJ10",
          "KJ04",
          "KJ02",
          "KJ02",
          "KJ14",
          "KJ02",
          "KJ02",
          "KJ14",
          "KJ10",
          "KJ14",
          "KJ14",
          "KJ14",
          "KJ10",
          "KJ10",
          "KJ14",
          "KJ10",
          "KJ10",
          "KJ02",
          "KJ10",
          "KJ14",
          "KJ14",
          "KJ14",
          "KJ02",
          "KJ14",
          "KJ14",
          "KJ14",
          "KJ04",
          "KJ14",
          "KJ04",
          "KJ04",
          "KJ14",
          "KJ02",
          "KJ02",
          "KJ02",
          "KJ10",
          "KJ02"
         ],
         "textfont": {
          "color": "#333333",
          "size": 12
         },
         "textposition": "top center",
         "type": "scatter3d",
         "x": [
          126.364433,
          126.378906,
          126.378906,
          126.378906,
          126.364433,
          126.362021,
          126.356779,
          126.362021,
          126.366364,
          126.362021,
          126.356779,
          126.362021,
          126.366364,
          126.366364,
          126.362021,
          126.401842,
          126.372253,
          126.401842,
          126.401842,
          126.401842,
          126.379951,
          126.379951,
          126.372777,
          126.372777,
          126.401842,
          126.401842,
          126.401842,
          126.401842,
          126.408419,
          126.401842,
          126.401842,
          126.401842,
          126.401842,
          126.408419,
          126.408419,
          126.408419,
          126.408419,
          126.401842,
          126.401842,
          126.401842,
          126.401842,
          126.372253,
          126.401842,
          126.401842,
          126.417561,
          126.417561,
          126.401842,
          126.401842,
          126.401842,
          126.379951,
          126.401842,
          126.401842,
          126.401842,
          126.401842,
          126.401842,
          126.401842,
          126.401842,
          126.401842,
          126.401842,
          126.401842,
          126.401842,
          126.401842,
          126.401842,
          126.401842,
          126.401842,
          126.401842,
          126.401842,
          126.401842,
          126.401842,
          126.401842,
          126.401842,
          126.401842,
          126.401842,
          126.401842,
          126.401842,
          126.401842,
          126.401842,
          126.379951,
          126.379951,
          126.362021,
          126.401842,
          126.401842,
          126.401842,
          126.401842,
          126.401842,
          126.356779,
          126.366364,
          126.401842,
          126.362021,
          126.401842,
          126.401842,
          126.379951,
          126.378906,
          126.401842,
          126.401842,
          126.401842,
          126.401842,
          126.401842,
          126.401842,
          126.401842,
          126.401842,
          126.401842,
          126.401842,
          126.401842,
          126.401842,
          126.401842,
          126.417561,
          126.401842,
          126.401842,
          126.417561,
          126.401842,
          126.401842,
          126.401842,
          126.401842,
          126.356779,
          126.401842,
          126.401842,
          126.356779,
          126.356779,
          126.417561,
          126.401842,
          126.401842,
          126.401842,
          126.401842,
          126.366364,
          126.401842,
          126.401842,
          126.401842,
          126.417561,
          126.401842,
          126.401842,
          126.401842,
          126.401842,
          126.401842,
          126.356779,
          126.401842,
          126.356779,
          126.364433,
          126.356779,
          126.408419,
          126.379951,
          126.417561,
          126.417561,
          126.408419,
          126.364433,
          126.362021,
          126.401842,
          126.401842,
          126.401842,
          126.401842,
          126.401842,
          126.401842,
          126.401842,
          126.401842,
          126.401842,
          126.356779,
          126.401842,
          126.401842,
          126.401842,
          126.401842,
          126.417561,
          126.417561,
          126.417561,
          126.417561,
          126.417561,
          126.417561,
          126.417561,
          126.417561,
          126.417561,
          126.417561,
          126.417561,
          126.417561,
          126.417561,
          126.417561,
          126.417561,
          126.417561,
          126.417561,
          126.417561,
          126.417561,
          126.417561,
          126.417561,
          126.417561,
          126.417561,
          126.417561,
          126.417561,
          126.417561,
          126.417561,
          126.417561,
          126.417561,
          126.417561,
          126.417561,
          126.417561,
          126.417561,
          126.417561,
          126.417561,
          126.417561,
          126.417561,
          126.417561,
          126.417561,
          126.417561,
          126.417561,
          126.417561,
          126.417561,
          126.417561,
          126.417561,
          126.362021,
          126.401842,
          126.401842,
          126.401842,
          126.401842,
          126.362021,
          126.401842,
          126.401842,
          126.401842,
          126.401842,
          126.359078,
          126.366364,
          126.417561,
          126.401842,
          126.401842,
          126.401842,
          126.372777,
          126.366364,
          126.372777,
          126.401842,
          126.401842,
          126.401842,
          126.401842,
          126.401842,
          126.401842,
          126.401842,
          126.401842,
          126.401842,
          126.401842,
          126.401842,
          126.401842,
          126.401842,
          126.401842,
          126.401842,
          126.401842,
          126.401842,
          126.401842,
          126.401842,
          126.401842,
          126.401842,
          126.401842,
          126.401842,
          126.401842,
          126.401842,
          126.401842,
          126.401842,
          126.379951,
          126.401842,
          126.401842,
          126.401842,
          126.401842,
          126.401842,
          126.401842,
          126.401842,
          126.401842,
          126.401842,
          126.401842,
          126.401842,
          126.401842,
          126.401842,
          126.401842,
          126.401842,
          126.401842,
          126.401842,
          126.401842,
          126.401842,
          126.401842,
          126.401842,
          126.401842,
          126.401842,
          126.401842,
          126.401842,
          126.401842,
          126.401842,
          126.401842,
          126.379951,
          126.401842,
          126.401842,
          126.408419,
          126.372777,
          126.372777,
          126.359078,
          126.362021,
          126.366364,
          126.401842,
          126.401842,
          126.379951,
          126.372777,
          126.401842,
          126.401842,
          126.401842,
          126.401842,
          126.408419,
          126.401842,
          126.372777,
          126.381069,
          126.378906,
          126.401842,
          126.401842,
          126.401842,
          126.401842,
          126.401842,
          126.401842,
          126.401842,
          126.401842,
          126.401842,
          126.369522,
          126.356779,
          126.356779,
          126.356779,
          126.401842,
          126.401842,
          126.401842,
          126.401842,
          126.401842,
          126.356779,
          126.401842,
          126.401842,
          126.401842,
          126.372777,
          126.401842,
          126.401842,
          126.401842,
          126.401842,
          126.401842,
          126.401842,
          126.401842,
          126.401842,
          126.372777,
          126.401842,
          126.401842,
          126.401842,
          126.378906,
          126.401842,
          126.372777,
          126.372777,
          126.401842,
          126.417561,
          126.401842,
          126.401842,
          126.401842,
          126.401842,
          126.401842,
          126.378906,
          126.401842,
          126.372253,
          126.401842,
          126.408419,
          126.401842,
          126.401842,
          126.401842,
          126.401842,
          126.401842,
          126.401842,
          126.401842,
          126.401842,
          126.401842,
          126.401842,
          126.401842,
          126.401842,
          126.401842,
          126.417561,
          126.401842,
          126.379951,
          126.372777,
          126.362021,
          126.362021,
          126.362021,
          126.362021,
          126.372777,
          126.401842,
          126.401842,
          126.401842,
          126.401842,
          126.362021,
          126.401842,
          126.372777,
          126.401842,
          126.356779,
          126.417561,
          126.401842,
          126.417561,
          126.372777,
          126.401842,
          126.401842,
          126.401842,
          126.378906,
          126.364433,
          126.401842,
          126.378906,
          126.372777,
          126.372777,
          126.379951,
          126.401842,
          126.372777,
          126.362021,
          126.356779,
          126.356779,
          126.379951,
          126.356779,
          126.372777,
          126.401842,
          126.401842,
          126.401842,
          126.356779,
          126.356779,
          126.379951,
          126.401842,
          126.401842,
          126.401842,
          126.401842,
          126.401842,
          126.408419,
          126.356779,
          126.356779,
          126.401842,
          126.401842,
          126.401842,
          126.401842,
          126.401842,
          126.401842,
          126.401842,
          126.401842,
          126.356779,
          126.401842,
          126.401842,
          126.401842,
          126.401842,
          126.401842,
          126.401842,
          126.401842,
          126.401842,
          126.401842,
          126.401842,
          126.401842,
          126.401842,
          126.401842,
          126.401842,
          126.417561,
          126.401842,
          126.401842,
          126.401842,
          126.417561,
          126.417561,
          126.362021,
          126.362021,
          126.362021,
          126.417561,
          126.378906,
          126.359078,
          126.417561,
          126.417561,
          126.417561,
          126.401842,
          126.401842,
          126.372777,
          126.401842,
          126.401842,
          126.401842,
          126.362021,
          126.378906,
          126.401842,
          126.379951,
          126.379951,
          126.378906,
          126.401842,
          126.401842,
          126.378906,
          126.401842,
          126.401842,
          126.379951,
          126.364433,
          126.417561,
          126.401842,
          126.401842,
          126.401842,
          126.417561,
          126.359078,
          126.362021,
          126.359078,
          126.359078,
          126.401842,
          126.401842,
          126.401842,
          126.362021,
          126.362021,
          126.362021,
          126.401842,
          126.417561,
          126.401842,
          126.401842,
          126.401842,
          126.401842,
          126.378906,
          126.401842,
          126.359078,
          126.401842,
          126.401842,
          126.401842,
          126.401842,
          126.401842,
          126.359078,
          126.401842,
          126.401842,
          126.401842,
          126.401842,
          126.401842,
          126.401842,
          126.401842,
          126.401842,
          126.401842,
          126.401842,
          126.364433,
          126.401842,
          126.362021,
          126.401842,
          126.401842,
          126.401842,
          126.401842,
          126.401842,
          126.401842,
          126.401842,
          126.401842,
          126.401842,
          126.417561,
          126.417561,
          126.417561,
          126.417561,
          126.417561,
          126.417561,
          126.417561,
          126.417561,
          126.417561,
          126.417561,
          126.417561,
          126.417561,
          126.417561,
          126.417561,
          126.417561,
          126.417561,
          126.362021,
          126.362021,
          126.359078,
          126.359078,
          126.359078,
          126.401842,
          126.401842,
          126.401842,
          126.401842,
          126.401842,
          126.401842,
          126.401842,
          126.401842,
          126.401842,
          126.364433,
          126.362021,
          126.401842,
          126.401842,
          126.401842,
          126.401842,
          126.417561,
          126.401842,
          126.401842,
          126.417561,
          126.401842,
          126.401842,
          126.401842,
          126.401842,
          126.401842,
          126.359078,
          126.401842,
          126.401842,
          126.401842,
          126.401842,
          126.401842,
          126.401842,
          126.401842,
          126.359078,
          126.401842,
          126.401842,
          126.381069,
          126.381069,
          126.379951,
          126.379951,
          126.381069,
          126.379951,
          126.372253,
          126.401842,
          126.401842,
          126.401842,
          126.401842,
          126.379951,
          126.401842,
          126.401842,
          126.401842,
          126.401842,
          126.401842,
          126.366364,
          126.359078,
          126.362021,
          126.359078,
          126.379951,
          126.366364,
          126.379951,
          126.408419,
          126.401842,
          126.401842,
          126.359078,
          126.359078,
          126.401842,
          126.359078,
          126.359078,
          126.359078,
          126.362021,
          126.359078,
          126.366364,
          126.359078,
          126.359078,
          126.362021,
          126.359078,
          126.359078,
          126.359078,
          126.359078,
          126.362021,
          126.359078,
          126.359078,
          126.359078,
          126.359078,
          126.359078,
          126.359078,
          126.362021,
          126.359078,
          126.359078,
          126.359078,
          126.359078,
          126.359078,
          126.359078,
          126.359078,
          126.359078,
          126.359078,
          126.359078,
          126.359078,
          126.359078,
          126.359078,
          126.366364,
          126.359078,
          126.359078,
          126.359078,
          126.359078,
          126.366364,
          126.359078,
          126.359078,
          126.359078,
          126.359078,
          126.359078,
          126.359078,
          126.359078,
          126.359078,
          126.359078,
          126.362021,
          126.359078,
          126.366364,
          126.359078,
          126.359078,
          126.359078,
          126.362021,
          126.359078,
          126.359078,
          126.401842,
          126.401842,
          126.362021,
          126.390728,
          126.390728,
          126.401842,
          126.401842,
          126.401842,
          126.401842,
          126.401842,
          126.401842,
          126.401842,
          126.401842,
          126.401842,
          126.401842,
          126.417561,
          126.417561,
          126.359078,
          126.401842,
          126.401842,
          126.362021,
          126.401842,
          126.362021,
          126.401842,
          126.401842,
          126.401842,
          126.401842,
          126.401842,
          126.401842,
          126.362021,
          126.362021,
          126.401842,
          126.362021,
          126.359078,
          126.401842,
          126.401842,
          126.362021,
          126.401842,
          126.362021,
          126.401842,
          126.401842,
          126.401842,
          126.401842,
          126.401842,
          126.378906,
          126.401842,
          126.401842,
          126.401842,
          126.401842,
          126.401842,
          126.401842,
          126.401842,
          126.401842,
          126.359078,
          126.379951,
          126.379951,
          126.401842,
          126.379951,
          126.362021,
          126.359078,
          126.401842,
          126.362021,
          126.401842,
          126.362021,
          126.379951,
          126.379951,
          126.379951,
          126.362021,
          126.362021,
          126.362021,
          126.359078,
          126.359078,
          126.359078,
          126.359078,
          126.379951,
          126.362021,
          126.359078,
          126.362021,
          126.362021,
          126.362021,
          126.362021,
          126.362021,
          126.362021,
          126.366364,
          126.362021,
          126.359078,
          126.417561,
          126.359078,
          126.417561,
          126.401842,
          126.401842,
          126.362021,
          126.401842,
          126.401842,
          126.362021,
          126.359078,
          126.362021,
          126.362021,
          126.362021,
          126.359078,
          126.359078,
          126.362021,
          126.359078,
          126.359078,
          126.401842,
          126.359078,
          126.362021,
          126.362021,
          126.362021,
          126.401842,
          126.362021,
          126.362021,
          126.362021,
          126.417561,
          126.362021,
          126.417561,
          126.417561,
          126.362021,
          126.401842,
          126.401842,
          126.401842,
          126.359078,
          126.401842
         ],
         "y": [
          38.22482,
          38.20397,
          38.20397,
          38.20397,
          38.22482,
          38.24528,
          38.240449,
          38.24528,
          38.236119,
          38.24528,
          38.240449,
          38.24528,
          38.236119,
          38.236119,
          38.24528,
          38.210773,
          38.22405,
          38.210773,
          38.210773,
          38.210773,
          38.212581,
          38.212581,
          38.231774,
          38.231774,
          38.210773,
          38.210773,
          38.210773,
          38.210773,
          38.192293,
          38.210773,
          38.210773,
          38.210773,
          38.210773,
          38.192293,
          38.192293,
          38.192293,
          38.192293,
          38.210773,
          38.210773,
          38.210773,
          38.210773,
          38.22405,
          38.210773,
          38.210773,
          38.210271,
          38.210271,
          38.210773,
          38.210773,
          38.210773,
          38.212581,
          38.210773,
          38.210773,
          38.210773,
          38.210773,
          38.210773,
          38.210773,
          38.210773,
          38.210773,
          38.210773,
          38.210773,
          38.210773,
          38.210773,
          38.210773,
          38.210773,
          38.210773,
          38.210773,
          38.210773,
          38.210773,
          38.210773,
          38.210773,
          38.210773,
          38.210773,
          38.210773,
          38.210773,
          38.210773,
          38.210773,
          38.210773,
          38.212581,
          38.212581,
          38.24528,
          38.210773,
          38.210773,
          38.210773,
          38.210773,
          38.210773,
          38.240449,
          38.236119,
          38.210773,
          38.24528,
          38.210773,
          38.210773,
          38.212581,
          38.20397,
          38.210773,
          38.210773,
          38.210773,
          38.210773,
          38.210773,
          38.210773,
          38.210773,
          38.210773,
          38.210773,
          38.210773,
          38.210773,
          38.210773,
          38.210773,
          38.210271,
          38.210773,
          38.210773,
          38.210271,
          38.210773,
          38.210773,
          38.210773,
          38.210773,
          38.240449,
          38.210773,
          38.210773,
          38.240449,
          38.240449,
          38.210271,
          38.210773,
          38.210773,
          38.210773,
          38.210773,
          38.236119,
          38.210773,
          38.210773,
          38.210773,
          38.210271,
          38.210773,
          38.210773,
          38.210773,
          38.210773,
          38.210773,
          38.240449,
          38.210773,
          38.240449,
          38.22482,
          38.240449,
          38.192293,
          38.212581,
          38.210271,
          38.210271,
          38.192293,
          38.22482,
          38.24528,
          38.210773,
          38.210773,
          38.210773,
          38.210773,
          38.210773,
          38.210773,
          38.210773,
          38.210773,
          38.210773,
          38.240449,
          38.210773,
          38.210773,
          38.210773,
          38.210773,
          38.210271,
          38.210271,
          38.210271,
          38.210271,
          38.210271,
          38.210271,
          38.210271,
          38.210271,
          38.210271,
          38.210271,
          38.210271,
          38.210271,
          38.210271,
          38.210271,
          38.210271,
          38.210271,
          38.210271,
          38.210271,
          38.210271,
          38.210271,
          38.210271,
          38.210271,
          38.210271,
          38.210271,
          38.210271,
          38.210271,
          38.210271,
          38.210271,
          38.210271,
          38.210271,
          38.210271,
          38.210271,
          38.210271,
          38.210271,
          38.210271,
          38.210271,
          38.210271,
          38.210271,
          38.210271,
          38.210271,
          38.210271,
          38.210271,
          38.210271,
          38.210271,
          38.210271,
          38.24528,
          38.210773,
          38.210773,
          38.210773,
          38.210773,
          38.24528,
          38.210773,
          38.210773,
          38.210773,
          38.210773,
          38.231261,
          38.236119,
          38.210271,
          38.210773,
          38.210773,
          38.210773,
          38.231774,
          38.236119,
          38.231774,
          38.210773,
          38.210773,
          38.210773,
          38.210773,
          38.210773,
          38.210773,
          38.210773,
          38.210773,
          38.210773,
          38.210773,
          38.210773,
          38.210773,
          38.210773,
          38.210773,
          38.210773,
          38.210773,
          38.210773,
          38.210773,
          38.210773,
          38.210773,
          38.210773,
          38.210773,
          38.210773,
          38.210773,
          38.210773,
          38.210773,
          38.210773,
          38.212581,
          38.210773,
          38.210773,
          38.210773,
          38.210773,
          38.210773,
          38.210773,
          38.210773,
          38.210773,
          38.210773,
          38.210773,
          38.210773,
          38.210773,
          38.210773,
          38.210773,
          38.210773,
          38.210773,
          38.210773,
          38.210773,
          38.210773,
          38.210773,
          38.210773,
          38.210773,
          38.210773,
          38.210773,
          38.210773,
          38.210773,
          38.210773,
          38.210773,
          38.212581,
          38.210773,
          38.210773,
          38.192293,
          38.231774,
          38.231774,
          38.231261,
          38.24528,
          38.236119,
          38.210773,
          38.210773,
          38.212581,
          38.231774,
          38.210773,
          38.210773,
          38.210773,
          38.210773,
          38.192293,
          38.210773,
          38.231774,
          38.220451,
          38.20397,
          38.210773,
          38.210773,
          38.210773,
          38.210773,
          38.210773,
          38.210773,
          38.210773,
          38.210773,
          38.210773,
          38.243717,
          38.240449,
          38.240449,
          38.240449,
          38.210773,
          38.210773,
          38.210773,
          38.210773,
          38.210773,
          38.240449,
          38.210773,
          38.210773,
          38.210773,
          38.231774,
          38.210773,
          38.210773,
          38.210773,
          38.210773,
          38.210773,
          38.210773,
          38.210773,
          38.210773,
          38.231774,
          38.210773,
          38.210773,
          38.210773,
          38.20397,
          38.210773,
          38.231774,
          38.231774,
          38.210773,
          38.210271,
          38.210773,
          38.210773,
          38.210773,
          38.210773,
          38.210773,
          38.20397,
          38.210773,
          38.22405,
          38.210773,
          38.192293,
          38.210773,
          38.210773,
          38.210773,
          38.210773,
          38.210773,
          38.210773,
          38.210773,
          38.210773,
          38.210773,
          38.210773,
          38.210773,
          38.210773,
          38.210773,
          38.210271,
          38.210773,
          38.212581,
          38.231774,
          38.24528,
          38.24528,
          38.24528,
          38.24528,
          38.231774,
          38.210773,
          38.210773,
          38.210773,
          38.210773,
          38.24528,
          38.210773,
          38.231774,
          38.210773,
          38.240449,
          38.210271,
          38.210773,
          38.210271,
          38.231774,
          38.210773,
          38.210773,
          38.210773,
          38.20397,
          38.22482,
          38.210773,
          38.20397,
          38.231774,
          38.231774,
          38.212581,
          38.210773,
          38.231774,
          38.24528,
          38.240449,
          38.240449,
          38.212581,
          38.240449,
          38.231774,
          38.210773,
          38.210773,
          38.210773,
          38.240449,
          38.240449,
          38.212581,
          38.210773,
          38.210773,
          38.210773,
          38.210773,
          38.210773,
          38.192293,
          38.240449,
          38.240449,
          38.210773,
          38.210773,
          38.210773,
          38.210773,
          38.210773,
          38.210773,
          38.210773,
          38.210773,
          38.240449,
          38.210773,
          38.210773,
          38.210773,
          38.210773,
          38.210773,
          38.210773,
          38.210773,
          38.210773,
          38.210773,
          38.210773,
          38.210773,
          38.210773,
          38.210773,
          38.210773,
          38.210271,
          38.210773,
          38.210773,
          38.210773,
          38.210271,
          38.210271,
          38.24528,
          38.24528,
          38.24528,
          38.210271,
          38.20397,
          38.231261,
          38.210271,
          38.210271,
          38.210271,
          38.210773,
          38.210773,
          38.231774,
          38.210773,
          38.210773,
          38.210773,
          38.24528,
          38.20397,
          38.210773,
          38.212581,
          38.212581,
          38.20397,
          38.210773,
          38.210773,
          38.20397,
          38.210773,
          38.210773,
          38.212581,
          38.22482,
          38.210271,
          38.210773,
          38.210773,
          38.210773,
          38.210271,
          38.231261,
          38.24528,
          38.231261,
          38.231261,
          38.210773,
          38.210773,
          38.210773,
          38.24528,
          38.24528,
          38.24528,
          38.210773,
          38.210271,
          38.210773,
          38.210773,
          38.210773,
          38.210773,
          38.20397,
          38.210773,
          38.231261,
          38.210773,
          38.210773,
          38.210773,
          38.210773,
          38.210773,
          38.231261,
          38.210773,
          38.210773,
          38.210773,
          38.210773,
          38.210773,
          38.210773,
          38.210773,
          38.210773,
          38.210773,
          38.210773,
          38.22482,
          38.210773,
          38.24528,
          38.210773,
          38.210773,
          38.210773,
          38.210773,
          38.210773,
          38.210773,
          38.210773,
          38.210773,
          38.210773,
          38.210271,
          38.210271,
          38.210271,
          38.210271,
          38.210271,
          38.210271,
          38.210271,
          38.210271,
          38.210271,
          38.210271,
          38.210271,
          38.210271,
          38.210271,
          38.210271,
          38.210271,
          38.210271,
          38.24528,
          38.24528,
          38.231261,
          38.231261,
          38.231261,
          38.210773,
          38.210773,
          38.210773,
          38.210773,
          38.210773,
          38.210773,
          38.210773,
          38.210773,
          38.210773,
          38.22482,
          38.24528,
          38.210773,
          38.210773,
          38.210773,
          38.210773,
          38.210271,
          38.210773,
          38.210773,
          38.210271,
          38.210773,
          38.210773,
          38.210773,
          38.210773,
          38.210773,
          38.231261,
          38.210773,
          38.210773,
          38.210773,
          38.210773,
          38.210773,
          38.210773,
          38.210773,
          38.231261,
          38.210773,
          38.210773,
          38.220451,
          38.220451,
          38.212581,
          38.212581,
          38.220451,
          38.212581,
          38.22405,
          38.210773,
          38.210773,
          38.210773,
          38.210773,
          38.212581,
          38.210773,
          38.210773,
          38.210773,
          38.210773,
          38.210773,
          38.236119,
          38.231261,
          38.24528,
          38.231261,
          38.212581,
          38.236119,
          38.212581,
          38.192293,
          38.210773,
          38.210773,
          38.231261,
          38.231261,
          38.210773,
          38.231261,
          38.231261,
          38.231261,
          38.24528,
          38.231261,
          38.236119,
          38.231261,
          38.231261,
          38.24528,
          38.231261,
          38.231261,
          38.231261,
          38.231261,
          38.24528,
          38.231261,
          38.231261,
          38.231261,
          38.231261,
          38.231261,
          38.231261,
          38.24528,
          38.231261,
          38.231261,
          38.231261,
          38.231261,
          38.231261,
          38.231261,
          38.231261,
          38.231261,
          38.231261,
          38.231261,
          38.231261,
          38.231261,
          38.231261,
          38.236119,
          38.231261,
          38.231261,
          38.231261,
          38.231261,
          38.236119,
          38.231261,
          38.231261,
          38.231261,
          38.231261,
          38.231261,
          38.231261,
          38.231261,
          38.231261,
          38.231261,
          38.24528,
          38.231261,
          38.236119,
          38.231261,
          38.231261,
          38.231261,
          38.24528,
          38.231261,
          38.231261,
          38.210773,
          38.210773,
          38.24528,
          38.20593,
          38.20593,
          38.210773,
          38.210773,
          38.210773,
          38.210773,
          38.210773,
          38.210773,
          38.210773,
          38.210773,
          38.210773,
          38.210773,
          38.210271,
          38.210271,
          38.231261,
          38.210773,
          38.210773,
          38.24528,
          38.210773,
          38.24528,
          38.210773,
          38.210773,
          38.210773,
          38.210773,
          38.210773,
          38.210773,
          38.24528,
          38.24528,
          38.210773,
          38.24528,
          38.231261,
          38.210773,
          38.210773,
          38.24528,
          38.210773,
          38.24528,
          38.210773,
          38.210773,
          38.210773,
          38.210773,
          38.210773,
          38.20397,
          38.210773,
          38.210773,
          38.210773,
          38.210773,
          38.210773,
          38.210773,
          38.210773,
          38.210773,
          38.231261,
          38.212581,
          38.212581,
          38.210773,
          38.212581,
          38.24528,
          38.231261,
          38.210773,
          38.24528,
          38.210773,
          38.24528,
          38.212581,
          38.212581,
          38.212581,
          38.24528,
          38.24528,
          38.24528,
          38.231261,
          38.231261,
          38.231261,
          38.231261,
          38.212581,
          38.24528,
          38.231261,
          38.24528,
          38.24528,
          38.24528,
          38.24528,
          38.24528,
          38.24528,
          38.236119,
          38.24528,
          38.231261,
          38.210271,
          38.231261,
          38.210271,
          38.210773,
          38.210773,
          38.24528,
          38.210773,
          38.210773,
          38.24528,
          38.231261,
          38.24528,
          38.24528,
          38.24528,
          38.231261,
          38.231261,
          38.24528,
          38.231261,
          38.231261,
          38.210773,
          38.231261,
          38.24528,
          38.24528,
          38.24528,
          38.210773,
          38.24528,
          38.24528,
          38.24528,
          38.210271,
          38.24528,
          38.210271,
          38.210271,
          38.24528,
          38.210773,
          38.210773,
          38.210773,
          38.231261,
          38.210773
         ],
         "z": [
          2258,
          2013,
          2013,
          2013,
          2258,
          2632,
          2570,
          2632,
          2467,
          2632,
          2570,
          2632,
          2467,
          2467,
          2632,
          1753,
          2167,
          1753,
          1753,
          1753,
          1943,
          1943,
          2382,
          2382,
          1753,
          1753,
          1753,
          1753,
          1504,
          1753,
          1753,
          1753,
          1753,
          1504,
          1504,
          1504,
          1504,
          1753,
          1753,
          1753,
          1753,
          2167,
          1753,
          1753,
          1719,
          1719,
          1753,
          1753,
          1753,
          1943,
          1753,
          1753,
          1753,
          1753,
          1753,
          1753,
          1753,
          1753,
          1753,
          1753,
          1753,
          1753,
          1753,
          1753,
          1753,
          1753,
          1753,
          1753,
          1753,
          1753,
          1753,
          1753,
          1753,
          1753,
          1753,
          1753,
          1753,
          1943,
          1943,
          2632,
          1753,
          1753,
          1753,
          1753,
          1753,
          2570,
          2467,
          1753,
          2632,
          1753,
          1753,
          1943,
          2013,
          1753,
          1753,
          1753,
          1753,
          1753,
          1753,
          1753,
          1753,
          1753,
          1753,
          1753,
          1753,
          1753,
          1719,
          1753,
          1753,
          1719,
          1753,
          1753,
          1753,
          1753,
          2570,
          1753,
          1753,
          2570,
          2570,
          1719,
          1753,
          1753,
          1753,
          1753,
          2467,
          1753,
          1753,
          1753,
          1719,
          1753,
          1753,
          1753,
          1753,
          1753,
          2570,
          1753,
          2570,
          2258,
          2570,
          1504,
          1943,
          1719,
          1719,
          1504,
          2258,
          2632,
          1753,
          1753,
          1753,
          1753,
          1753,
          1753,
          1753,
          1753,
          1753,
          2570,
          1753,
          1753,
          1753,
          1753,
          1719,
          1719,
          1719,
          1719,
          1719,
          1719,
          1719,
          1719,
          1719,
          1719,
          1719,
          1719,
          1719,
          1719,
          1719,
          1719,
          1719,
          1719,
          1719,
          1719,
          1719,
          1719,
          1719,
          1719,
          1719,
          1719,
          1719,
          1719,
          1719,
          1719,
          1719,
          1719,
          1719,
          1719,
          1719,
          1719,
          1719,
          1719,
          1719,
          1719,
          1719,
          1719,
          1719,
          1719,
          1719,
          2632,
          1753,
          1753,
          1753,
          1753,
          2632,
          1753,
          1753,
          1753,
          1753,
          2412,
          2467,
          1719,
          1753,
          1753,
          1753,
          2382,
          2467,
          2382,
          1753,
          1753,
          1753,
          1753,
          1753,
          1753,
          1753,
          1753,
          1753,
          1753,
          1753,
          1753,
          1753,
          1753,
          1753,
          1753,
          1753,
          1753,
          1753,
          1753,
          1753,
          1753,
          1753,
          1753,
          1753,
          1753,
          1753,
          1943,
          1753,
          1753,
          1753,
          1753,
          1753,
          1753,
          1753,
          1753,
          1753,
          1753,
          1753,
          1753,
          1753,
          1753,
          1753,
          1753,
          1753,
          1753,
          1753,
          1753,
          1753,
          1753,
          1753,
          1753,
          1753,
          1753,
          1753,
          1753,
          1943,
          1753,
          1753,
          1504,
          2382,
          2382,
          2412,
          2632,
          2467,
          1753,
          1753,
          1943,
          2382,
          1753,
          1753,
          1753,
          1753,
          1504,
          1753,
          2382,
          2185,
          2013,
          1753,
          1753,
          1753,
          1753,
          1753,
          1753,
          1753,
          1753,
          1753,
          2610,
          2570,
          2570,
          2570,
          1753,
          1753,
          1753,
          1753,
          1753,
          2570,
          1753,
          1753,
          1753,
          2382,
          1753,
          1753,
          1753,
          1753,
          1753,
          1753,
          1753,
          1753,
          2382,
          1753,
          1753,
          1753,
          2013,
          1753,
          2382,
          2382,
          1753,
          1719,
          1753,
          1753,
          1753,
          1753,
          1753,
          2013,
          1753,
          2167,
          1753,
          1504,
          1753,
          1753,
          1753,
          1753,
          1753,
          1753,
          1753,
          1753,
          1753,
          1753,
          1753,
          1753,
          1753,
          1719,
          1753,
          1943,
          2382,
          2632,
          2632,
          2632,
          2632,
          2382,
          1753,
          1753,
          1753,
          1753,
          2632,
          1753,
          2382,
          1753,
          2570,
          1719,
          1753,
          1719,
          2382,
          1753,
          1753,
          1753,
          2013,
          2258,
          1753,
          2013,
          2382,
          2382,
          1943,
          1753,
          2382,
          2632,
          2570,
          2570,
          1943,
          2570,
          2382,
          1753,
          1753,
          1753,
          2570,
          2570,
          1943,
          1753,
          1753,
          1753,
          1753,
          1753,
          1504,
          2570,
          2570,
          1753,
          1753,
          1753,
          1753,
          1753,
          1753,
          1753,
          1753,
          2570,
          1753,
          1753,
          1753,
          1753,
          1753,
          1753,
          1753,
          1753,
          1753,
          1753,
          1753,
          1753,
          1753,
          1753,
          1719,
          1753,
          1753,
          1753,
          1719,
          1719,
          2632,
          2632,
          2632,
          1719,
          2013,
          2412,
          1719,
          1719,
          1719,
          1753,
          1753,
          2382,
          1753,
          1753,
          1753,
          2632,
          2013,
          1753,
          1943,
          1943,
          2013,
          1753,
          1753,
          2013,
          1753,
          1753,
          1943,
          2258,
          1719,
          1753,
          1753,
          1753,
          1719,
          2412,
          2632,
          2412,
          2412,
          1753,
          1753,
          1753,
          2632,
          2632,
          2632,
          1753,
          1719,
          1753,
          1753,
          1753,
          1753,
          2013,
          1753,
          2412,
          1753,
          1753,
          1753,
          1753,
          1753,
          2412,
          1753,
          1753,
          1753,
          1753,
          1753,
          1753,
          1753,
          1753,
          1753,
          1753,
          2258,
          1753,
          2632,
          1753,
          1753,
          1753,
          1753,
          1753,
          1753,
          1753,
          1753,
          1753,
          1719,
          1719,
          1719,
          1719,
          1719,
          1719,
          1719,
          1719,
          1719,
          1719,
          1719,
          1719,
          1719,
          1719,
          1719,
          1719,
          2632,
          2632,
          2412,
          2412,
          2412,
          1753,
          1753,
          1753,
          1753,
          1753,
          1753,
          1753,
          1753,
          1753,
          2258,
          2632,
          1753,
          1753,
          1753,
          1753,
          1719,
          1753,
          1753,
          1719,
          1753,
          1753,
          1753,
          1753,
          1753,
          2412,
          1753,
          1753,
          1753,
          1753,
          1753,
          1753,
          1753,
          2412,
          1753,
          1753,
          2185,
          2185,
          1943,
          1943,
          2185,
          1943,
          2167,
          1753,
          1753,
          1753,
          1753,
          1943,
          1753,
          1753,
          1753,
          1753,
          1753,
          2467,
          2412,
          2632,
          2412,
          1943,
          2467,
          1943,
          1504,
          1753,
          1753,
          2412,
          2412,
          1753,
          2412,
          2412,
          2412,
          2632,
          2412,
          2467,
          2412,
          2412,
          2632,
          2412,
          2412,
          2412,
          2412,
          2632,
          2412,
          2412,
          2412,
          2412,
          2412,
          2412,
          2632,
          2412,
          2412,
          2412,
          2412,
          2412,
          2412,
          2412,
          2412,
          2412,
          2412,
          2412,
          2412,
          2412,
          2467,
          2412,
          2412,
          2412,
          2412,
          2467,
          2412,
          2412,
          2412,
          2412,
          2412,
          2412,
          2412,
          2412,
          2412,
          2632,
          2412,
          2467,
          2412,
          2412,
          2412,
          2632,
          2412,
          2412,
          1753,
          1753,
          2632,
          1899,
          1899,
          1753,
          1753,
          1753,
          1753,
          1753,
          1753,
          1753,
          1753,
          1753,
          1753,
          1719,
          1719,
          2412,
          1753,
          1753,
          2632,
          1753,
          2632,
          1753,
          1753,
          1753,
          1753,
          1753,
          1753,
          2632,
          2632,
          1753,
          2632,
          2412,
          1753,
          1753,
          2632,
          1753,
          2632,
          1753,
          1753,
          1753,
          1753,
          1753,
          2013,
          1753,
          1753,
          1753,
          1753,
          1753,
          1753,
          1753,
          1753,
          2412,
          1943,
          1943,
          1753,
          1943,
          2632,
          2412,
          1753,
          2632,
          1753,
          2632,
          1943,
          1943,
          1943,
          2632,
          2632,
          2632,
          2412,
          2412,
          2412,
          2412,
          1943,
          2632,
          2412,
          2632,
          2632,
          2632,
          2632,
          2632,
          2632,
          2467,
          2632,
          2412,
          1719,
          2412,
          1719,
          1753,
          1753,
          2632,
          1753,
          1753,
          2632,
          2412,
          2632,
          2632,
          2632,
          2412,
          2412,
          2632,
          2412,
          2412,
          1753,
          2412,
          2632,
          2632,
          2632,
          1753,
          2632,
          2632,
          2632,
          1719,
          2632,
          1719,
          1719,
          2632,
          1753,
          1753,
          1753,
          2412,
          1753
         ]
        }
       ],
       "layout": {
        "coloraxis": {
         "colorbar": {
          "title": {
           "text": "elev_m"
          }
         },
         "colorscale": [
          [
           0,
           "#440154"
          ],
          [
           0.1111111111111111,
           "#482878"
          ],
          [
           0.2222222222222222,
           "#3e4989"
          ],
          [
           0.3333333333333333,
           "#31688e"
          ],
          [
           0.4444444444444444,
           "#26828e"
          ],
          [
           0.5555555555555556,
           "#1f9e89"
          ],
          [
           0.6666666666666666,
           "#35b779"
          ],
          [
           0.7777777777777778,
           "#6ece58"
          ],
          [
           0.8888888888888888,
           "#b5de2b"
          ],
          [
           1,
           "#fde725"
          ]
         ]
        },
        "height": 720,
        "legend": {
         "bgcolor": "rgba(255,255,255,0.5)",
         "itemsizing": "constant",
         "tracegroupgap": 0,
         "x": 0.01,
         "xanchor": "left",
         "y": 0.99,
         "yanchor": "top"
        },
        "scene": {
         "aspectmode": "manual",
         "aspectratio": {
          "x": 1,
          "y": 1,
          "z": 1
         },
         "camera": {
          "eye": {
           "x": 0.5,
           "y": 0.5,
           "z": 0.5
          },
          "up": {
           "x": 0,
           "y": 0,
           "z": 1
          }
         },
         "domain": {
          "x": [
           0,
           1
          ],
          "y": [
           0,
           1
          ]
         },
         "xaxis": {
          "title": {
           "text": "Longitude"
          }
         },
         "yaxis": {
          "title": {
           "text": "Latitude"
          }
         },
         "zaxis": {
          "title": {
           "text": "Elev (m)"
          }
         }
        },
        "showlegend": true,
        "template": {
         "data": {
          "bar": [
           {
            "error_x": {
             "color": "#2a3f5f"
            },
            "error_y": {
             "color": "#2a3f5f"
            },
            "marker": {
             "line": {
              "color": "white",
              "width": 0.5
             },
             "pattern": {
              "fillmode": "overlay",
              "size": 10,
              "solidity": 0.2
             }
            },
            "type": "bar"
           }
          ],
          "barpolar": [
           {
            "marker": {
             "line": {
              "color": "white",
              "width": 0.5
             },
             "pattern": {
              "fillmode": "overlay",
              "size": 10,
              "solidity": 0.2
             }
            },
            "type": "barpolar"
           }
          ],
          "carpet": [
           {
            "aaxis": {
             "endlinecolor": "#2a3f5f",
             "gridcolor": "#C8D4E3",
             "linecolor": "#C8D4E3",
             "minorgridcolor": "#C8D4E3",
             "startlinecolor": "#2a3f5f"
            },
            "baxis": {
             "endlinecolor": "#2a3f5f",
             "gridcolor": "#C8D4E3",
             "linecolor": "#C8D4E3",
             "minorgridcolor": "#C8D4E3",
             "startlinecolor": "#2a3f5f"
            },
            "type": "carpet"
           }
          ],
          "choropleth": [
           {
            "colorbar": {
             "outlinewidth": 0,
             "ticks": ""
            },
            "type": "choropleth"
           }
          ],
          "contour": [
           {
            "colorbar": {
             "outlinewidth": 0,
             "ticks": ""
            },
            "colorscale": [
             [
              0,
              "#0d0887"
             ],
             [
              0.1111111111111111,
              "#46039f"
             ],
             [
              0.2222222222222222,
              "#7201a8"
             ],
             [
              0.3333333333333333,
              "#9c179e"
             ],
             [
              0.4444444444444444,
              "#bd3786"
             ],
             [
              0.5555555555555556,
              "#d8576b"
             ],
             [
              0.6666666666666666,
              "#ed7953"
             ],
             [
              0.7777777777777778,
              "#fb9f3a"
             ],
             [
              0.8888888888888888,
              "#fdca26"
             ],
             [
              1,
              "#f0f921"
             ]
            ],
            "type": "contour"
           }
          ],
          "contourcarpet": [
           {
            "colorbar": {
             "outlinewidth": 0,
             "ticks": ""
            },
            "type": "contourcarpet"
           }
          ],
          "heatmap": [
           {
            "colorbar": {
             "outlinewidth": 0,
             "ticks": ""
            },
            "colorscale": [
             [
              0,
              "#0d0887"
             ],
             [
              0.1111111111111111,
              "#46039f"
             ],
             [
              0.2222222222222222,
              "#7201a8"
             ],
             [
              0.3333333333333333,
              "#9c179e"
             ],
             [
              0.4444444444444444,
              "#bd3786"
             ],
             [
              0.5555555555555556,
              "#d8576b"
             ],
             [
              0.6666666666666666,
              "#ed7953"
             ],
             [
              0.7777777777777778,
              "#fb9f3a"
             ],
             [
              0.8888888888888888,
              "#fdca26"
             ],
             [
              1,
              "#f0f921"
             ]
            ],
            "type": "heatmap"
           }
          ],
          "heatmapgl": [
           {
            "colorbar": {
             "outlinewidth": 0,
             "ticks": ""
            },
            "colorscale": [
             [
              0,
              "#0d0887"
             ],
             [
              0.1111111111111111,
              "#46039f"
             ],
             [
              0.2222222222222222,
              "#7201a8"
             ],
             [
              0.3333333333333333,
              "#9c179e"
             ],
             [
              0.4444444444444444,
              "#bd3786"
             ],
             [
              0.5555555555555556,
              "#d8576b"
             ],
             [
              0.6666666666666666,
              "#ed7953"
             ],
             [
              0.7777777777777778,
              "#fb9f3a"
             ],
             [
              0.8888888888888888,
              "#fdca26"
             ],
             [
              1,
              "#f0f921"
             ]
            ],
            "type": "heatmapgl"
           }
          ],
          "histogram": [
           {
            "marker": {
             "pattern": {
              "fillmode": "overlay",
              "size": 10,
              "solidity": 0.2
             }
            },
            "type": "histogram"
           }
          ],
          "histogram2d": [
           {
            "colorbar": {
             "outlinewidth": 0,
             "ticks": ""
            },
            "colorscale": [
             [
              0,
              "#0d0887"
             ],
             [
              0.1111111111111111,
              "#46039f"
             ],
             [
              0.2222222222222222,
              "#7201a8"
             ],
             [
              0.3333333333333333,
              "#9c179e"
             ],
             [
              0.4444444444444444,
              "#bd3786"
             ],
             [
              0.5555555555555556,
              "#d8576b"
             ],
             [
              0.6666666666666666,
              "#ed7953"
             ],
             [
              0.7777777777777778,
              "#fb9f3a"
             ],
             [
              0.8888888888888888,
              "#fdca26"
             ],
             [
              1,
              "#f0f921"
             ]
            ],
            "type": "histogram2d"
           }
          ],
          "histogram2dcontour": [
           {
            "colorbar": {
             "outlinewidth": 0,
             "ticks": ""
            },
            "colorscale": [
             [
              0,
              "#0d0887"
             ],
             [
              0.1111111111111111,
              "#46039f"
             ],
             [
              0.2222222222222222,
              "#7201a8"
             ],
             [
              0.3333333333333333,
              "#9c179e"
             ],
             [
              0.4444444444444444,
              "#bd3786"
             ],
             [
              0.5555555555555556,
              "#d8576b"
             ],
             [
              0.6666666666666666,
              "#ed7953"
             ],
             [
              0.7777777777777778,
              "#fb9f3a"
             ],
             [
              0.8888888888888888,
              "#fdca26"
             ],
             [
              1,
              "#f0f921"
             ]
            ],
            "type": "histogram2dcontour"
           }
          ],
          "mesh3d": [
           {
            "colorbar": {
             "outlinewidth": 0,
             "ticks": ""
            },
            "type": "mesh3d"
           }
          ],
          "parcoords": [
           {
            "line": {
             "colorbar": {
              "outlinewidth": 0,
              "ticks": ""
             }
            },
            "type": "parcoords"
           }
          ],
          "pie": [
           {
            "automargin": true,
            "type": "pie"
           }
          ],
          "scatter": [
           {
            "fillpattern": {
             "fillmode": "overlay",
             "size": 10,
             "solidity": 0.2
            },
            "type": "scatter"
           }
          ],
          "scatter3d": [
           {
            "line": {
             "colorbar": {
              "outlinewidth": 0,
              "ticks": ""
             }
            },
            "marker": {
             "colorbar": {
              "outlinewidth": 0,
              "ticks": ""
             }
            },
            "type": "scatter3d"
           }
          ],
          "scattercarpet": [
           {
            "marker": {
             "colorbar": {
              "outlinewidth": 0,
              "ticks": ""
             }
            },
            "type": "scattercarpet"
           }
          ],
          "scattergeo": [
           {
            "marker": {
             "colorbar": {
              "outlinewidth": 0,
              "ticks": ""
             }
            },
            "type": "scattergeo"
           }
          ],
          "scattergl": [
           {
            "marker": {
             "colorbar": {
              "outlinewidth": 0,
              "ticks": ""
             }
            },
            "type": "scattergl"
           }
          ],
          "scattermapbox": [
           {
            "marker": {
             "colorbar": {
              "outlinewidth": 0,
              "ticks": ""
             }
            },
            "type": "scattermapbox"
           }
          ],
          "scatterpolar": [
           {
            "marker": {
             "colorbar": {
              "outlinewidth": 0,
              "ticks": ""
             }
            },
            "type": "scatterpolar"
           }
          ],
          "scatterpolargl": [
           {
            "marker": {
             "colorbar": {
              "outlinewidth": 0,
              "ticks": ""
             }
            },
            "type": "scatterpolargl"
           }
          ],
          "scatterternary": [
           {
            "marker": {
             "colorbar": {
              "outlinewidth": 0,
              "ticks": ""
             }
            },
            "type": "scatterternary"
           }
          ],
          "surface": [
           {
            "colorbar": {
             "outlinewidth": 0,
             "ticks": ""
            },
            "colorscale": [
             [
              0,
              "#0d0887"
             ],
             [
              0.1111111111111111,
              "#46039f"
             ],
             [
              0.2222222222222222,
              "#7201a8"
             ],
             [
              0.3333333333333333,
              "#9c179e"
             ],
             [
              0.4444444444444444,
              "#bd3786"
             ],
             [
              0.5555555555555556,
              "#d8576b"
             ],
             [
              0.6666666666666666,
              "#ed7953"
             ],
             [
              0.7777777777777778,
              "#fb9f3a"
             ],
             [
              0.8888888888888888,
              "#fdca26"
             ],
             [
              1,
              "#f0f921"
             ]
            ],
            "type": "surface"
           }
          ],
          "table": [
           {
            "cells": {
             "fill": {
              "color": "#EBF0F8"
             },
             "line": {
              "color": "white"
             }
            },
            "header": {
             "fill": {
              "color": "#C8D4E3"
             },
             "line": {
              "color": "white"
             }
            },
            "type": "table"
           }
          ]
         },
         "layout": {
          "annotationdefaults": {
           "arrowcolor": "#2a3f5f",
           "arrowhead": 0,
           "arrowwidth": 1
          },
          "autotypenumbers": "strict",
          "coloraxis": {
           "colorbar": {
            "outlinewidth": 0,
            "ticks": ""
           }
          },
          "colorscale": {
           "diverging": [
            [
             0,
             "#8e0152"
            ],
            [
             0.1,
             "#c51b7d"
            ],
            [
             0.2,
             "#de77ae"
            ],
            [
             0.3,
             "#f1b6da"
            ],
            [
             0.4,
             "#fde0ef"
            ],
            [
             0.5,
             "#f7f7f7"
            ],
            [
             0.6,
             "#e6f5d0"
            ],
            [
             0.7,
             "#b8e186"
            ],
            [
             0.8,
             "#7fbc41"
            ],
            [
             0.9,
             "#4d9221"
            ],
            [
             1,
             "#276419"
            ]
           ],
           "sequential": [
            [
             0,
             "#0d0887"
            ],
            [
             0.1111111111111111,
             "#46039f"
            ],
            [
             0.2222222222222222,
             "#7201a8"
            ],
            [
             0.3333333333333333,
             "#9c179e"
            ],
            [
             0.4444444444444444,
             "#bd3786"
            ],
            [
             0.5555555555555556,
             "#d8576b"
            ],
            [
             0.6666666666666666,
             "#ed7953"
            ],
            [
             0.7777777777777778,
             "#fb9f3a"
            ],
            [
             0.8888888888888888,
             "#fdca26"
            ],
            [
             1,
             "#f0f921"
            ]
           ],
           "sequentialminus": [
            [
             0,
             "#0d0887"
            ],
            [
             0.1111111111111111,
             "#46039f"
            ],
            [
             0.2222222222222222,
             "#7201a8"
            ],
            [
             0.3333333333333333,
             "#9c179e"
            ],
            [
             0.4444444444444444,
             "#bd3786"
            ],
            [
             0.5555555555555556,
             "#d8576b"
            ],
            [
             0.6666666666666666,
             "#ed7953"
            ],
            [
             0.7777777777777778,
             "#fb9f3a"
            ],
            [
             0.8888888888888888,
             "#fdca26"
            ],
            [
             1,
             "#f0f921"
            ]
           ]
          },
          "colorway": [
           "#636efa",
           "#EF553B",
           "#00cc96",
           "#ab63fa",
           "#FFA15A",
           "#19d3f3",
           "#FF6692",
           "#B6E880",
           "#FF97FF",
           "#FECB52"
          ],
          "font": {
           "color": "#2a3f5f"
          },
          "geo": {
           "bgcolor": "white",
           "lakecolor": "white",
           "landcolor": "white",
           "showlakes": true,
           "showland": true,
           "subunitcolor": "#C8D4E3"
          },
          "hoverlabel": {
           "align": "left"
          },
          "hovermode": "closest",
          "mapbox": {
           "style": "light"
          },
          "paper_bgcolor": "white",
          "plot_bgcolor": "white",
          "polar": {
           "angularaxis": {
            "gridcolor": "#EBF0F8",
            "linecolor": "#EBF0F8",
            "ticks": ""
           },
           "bgcolor": "white",
           "radialaxis": {
            "gridcolor": "#EBF0F8",
            "linecolor": "#EBF0F8",
            "ticks": ""
           }
          },
          "scene": {
           "xaxis": {
            "backgroundcolor": "white",
            "gridcolor": "#DFE8F3",
            "gridwidth": 2,
            "linecolor": "#EBF0F8",
            "showbackground": true,
            "ticks": "",
            "zerolinecolor": "#EBF0F8"
           },
           "yaxis": {
            "backgroundcolor": "white",
            "gridcolor": "#DFE8F3",
            "gridwidth": 2,
            "linecolor": "#EBF0F8",
            "showbackground": true,
            "ticks": "",
            "zerolinecolor": "#EBF0F8"
           },
           "zaxis": {
            "backgroundcolor": "white",
            "gridcolor": "#DFE8F3",
            "gridwidth": 2,
            "linecolor": "#EBF0F8",
            "showbackground": true,
            "ticks": "",
            "zerolinecolor": "#EBF0F8"
           }
          },
          "shapedefaults": {
           "line": {
            "color": "#2a3f5f"
           }
          },
          "ternary": {
           "aaxis": {
            "gridcolor": "#DFE8F3",
            "linecolor": "#A2B1C6",
            "ticks": ""
           },
           "baxis": {
            "gridcolor": "#DFE8F3",
            "linecolor": "#A2B1C6",
            "ticks": ""
           },
           "bgcolor": "white",
           "caxis": {
            "gridcolor": "#DFE8F3",
            "linecolor": "#A2B1C6",
            "ticks": ""
           }
          },
          "title": {
           "x": 0.05
          },
          "xaxis": {
           "automargin": true,
           "gridcolor": "#EBF0F8",
           "linecolor": "#EBF0F8",
           "ticks": "",
           "title": {
            "standoff": 15
           },
           "zerolinecolor": "#EBF0F8",
           "zerolinewidth": 2
          },
          "yaxis": {
           "automargin": true,
           "gridcolor": "#EBF0F8",
           "linecolor": "#EBF0F8",
           "ticks": "",
           "title": {
            "standoff": 15
           },
           "zerolinecolor": "#EBF0F8",
           "zerolinewidth": 2
          }
         }
        },
        "title": {
         "text": "Earthquake Locations (3D)"
        },
        "width": 960
       }
      }
     },
     "metadata": {},
     "output_type": "display_data"
    }
   ],
   "source": [
    "# 3D Plot\n",
    "lqt_ready_2.plot_hypocenter_3d()"
   ]
  },
  {
   "cell_type": "markdown",
   "metadata": {},
   "source": [
    "### 6. Plotting Earthquake Intensities\n",
    "\n",
    "With `LqtAnalysis` class instances object you can also calculate and plot the earthquake intensity in specific time interval (e.g., `yearly`, `monthly`, `weekly`, `daily`, and `hourly`) by using `plot_intensity` class method."
   ]
  },
  {
   "cell_type": "markdown",
   "metadata": {},
   "source": [
    "**A. Yearly, Monthly, and Weekly Intensities**\n",
    "\n",
    "If you have a long period dataset that spans months or years, the `plot_intensity` class method provides you options to view earthquake intensities at yearly and monthly intervals, allowing you to analyze the historical trends in your earthquake data over time."
   ]
  },
  {
   "cell_type": "code",
   "execution_count": 9,
   "metadata": {},
   "outputs": [
    {
     "data": {
      "application/vnd.plotly.v1+json": {
       "config": {
        "plotlyServerURL": "https://plot.ly"
       },
       "data": [
        {
         "marker": {
          "color": "skyblue"
         },
         "name": "Intensity",
         "type": "bar",
         "x": [
          "2024"
         ],
         "y": [
          796
         ]
        }
       ],
       "layout": {
        "bargap": 0.2,
        "height": 720,
        "legend": {
         "bgcolor": "rgba(255,255,255,0.5)",
         "x": 0.99,
         "xanchor": "right",
         "y": 0.99,
         "yanchor": "top"
        },
        "showlegend": true,
        "template": {
         "data": {
          "bar": [
           {
            "error_x": {
             "color": "#2a3f5f"
            },
            "error_y": {
             "color": "#2a3f5f"
            },
            "marker": {
             "line": {
              "color": "white",
              "width": 0.5
             },
             "pattern": {
              "fillmode": "overlay",
              "size": 10,
              "solidity": 0.2
             }
            },
            "type": "bar"
           }
          ],
          "barpolar": [
           {
            "marker": {
             "line": {
              "color": "white",
              "width": 0.5
             },
             "pattern": {
              "fillmode": "overlay",
              "size": 10,
              "solidity": 0.2
             }
            },
            "type": "barpolar"
           }
          ],
          "carpet": [
           {
            "aaxis": {
             "endlinecolor": "#2a3f5f",
             "gridcolor": "#C8D4E3",
             "linecolor": "#C8D4E3",
             "minorgridcolor": "#C8D4E3",
             "startlinecolor": "#2a3f5f"
            },
            "baxis": {
             "endlinecolor": "#2a3f5f",
             "gridcolor": "#C8D4E3",
             "linecolor": "#C8D4E3",
             "minorgridcolor": "#C8D4E3",
             "startlinecolor": "#2a3f5f"
            },
            "type": "carpet"
           }
          ],
          "choropleth": [
           {
            "colorbar": {
             "outlinewidth": 0,
             "ticks": ""
            },
            "type": "choropleth"
           }
          ],
          "contour": [
           {
            "colorbar": {
             "outlinewidth": 0,
             "ticks": ""
            },
            "colorscale": [
             [
              0,
              "#0d0887"
             ],
             [
              0.1111111111111111,
              "#46039f"
             ],
             [
              0.2222222222222222,
              "#7201a8"
             ],
             [
              0.3333333333333333,
              "#9c179e"
             ],
             [
              0.4444444444444444,
              "#bd3786"
             ],
             [
              0.5555555555555556,
              "#d8576b"
             ],
             [
              0.6666666666666666,
              "#ed7953"
             ],
             [
              0.7777777777777778,
              "#fb9f3a"
             ],
             [
              0.8888888888888888,
              "#fdca26"
             ],
             [
              1,
              "#f0f921"
             ]
            ],
            "type": "contour"
           }
          ],
          "contourcarpet": [
           {
            "colorbar": {
             "outlinewidth": 0,
             "ticks": ""
            },
            "type": "contourcarpet"
           }
          ],
          "heatmap": [
           {
            "colorbar": {
             "outlinewidth": 0,
             "ticks": ""
            },
            "colorscale": [
             [
              0,
              "#0d0887"
             ],
             [
              0.1111111111111111,
              "#46039f"
             ],
             [
              0.2222222222222222,
              "#7201a8"
             ],
             [
              0.3333333333333333,
              "#9c179e"
             ],
             [
              0.4444444444444444,
              "#bd3786"
             ],
             [
              0.5555555555555556,
              "#d8576b"
             ],
             [
              0.6666666666666666,
              "#ed7953"
             ],
             [
              0.7777777777777778,
              "#fb9f3a"
             ],
             [
              0.8888888888888888,
              "#fdca26"
             ],
             [
              1,
              "#f0f921"
             ]
            ],
            "type": "heatmap"
           }
          ],
          "heatmapgl": [
           {
            "colorbar": {
             "outlinewidth": 0,
             "ticks": ""
            },
            "colorscale": [
             [
              0,
              "#0d0887"
             ],
             [
              0.1111111111111111,
              "#46039f"
             ],
             [
              0.2222222222222222,
              "#7201a8"
             ],
             [
              0.3333333333333333,
              "#9c179e"
             ],
             [
              0.4444444444444444,
              "#bd3786"
             ],
             [
              0.5555555555555556,
              "#d8576b"
             ],
             [
              0.6666666666666666,
              "#ed7953"
             ],
             [
              0.7777777777777778,
              "#fb9f3a"
             ],
             [
              0.8888888888888888,
              "#fdca26"
             ],
             [
              1,
              "#f0f921"
             ]
            ],
            "type": "heatmapgl"
           }
          ],
          "histogram": [
           {
            "marker": {
             "pattern": {
              "fillmode": "overlay",
              "size": 10,
              "solidity": 0.2
             }
            },
            "type": "histogram"
           }
          ],
          "histogram2d": [
           {
            "colorbar": {
             "outlinewidth": 0,
             "ticks": ""
            },
            "colorscale": [
             [
              0,
              "#0d0887"
             ],
             [
              0.1111111111111111,
              "#46039f"
             ],
             [
              0.2222222222222222,
              "#7201a8"
             ],
             [
              0.3333333333333333,
              "#9c179e"
             ],
             [
              0.4444444444444444,
              "#bd3786"
             ],
             [
              0.5555555555555556,
              "#d8576b"
             ],
             [
              0.6666666666666666,
              "#ed7953"
             ],
             [
              0.7777777777777778,
              "#fb9f3a"
             ],
             [
              0.8888888888888888,
              "#fdca26"
             ],
             [
              1,
              "#f0f921"
             ]
            ],
            "type": "histogram2d"
           }
          ],
          "histogram2dcontour": [
           {
            "colorbar": {
             "outlinewidth": 0,
             "ticks": ""
            },
            "colorscale": [
             [
              0,
              "#0d0887"
             ],
             [
              0.1111111111111111,
              "#46039f"
             ],
             [
              0.2222222222222222,
              "#7201a8"
             ],
             [
              0.3333333333333333,
              "#9c179e"
             ],
             [
              0.4444444444444444,
              "#bd3786"
             ],
             [
              0.5555555555555556,
              "#d8576b"
             ],
             [
              0.6666666666666666,
              "#ed7953"
             ],
             [
              0.7777777777777778,
              "#fb9f3a"
             ],
             [
              0.8888888888888888,
              "#fdca26"
             ],
             [
              1,
              "#f0f921"
             ]
            ],
            "type": "histogram2dcontour"
           }
          ],
          "mesh3d": [
           {
            "colorbar": {
             "outlinewidth": 0,
             "ticks": ""
            },
            "type": "mesh3d"
           }
          ],
          "parcoords": [
           {
            "line": {
             "colorbar": {
              "outlinewidth": 0,
              "ticks": ""
             }
            },
            "type": "parcoords"
           }
          ],
          "pie": [
           {
            "automargin": true,
            "type": "pie"
           }
          ],
          "scatter": [
           {
            "fillpattern": {
             "fillmode": "overlay",
             "size": 10,
             "solidity": 0.2
            },
            "type": "scatter"
           }
          ],
          "scatter3d": [
           {
            "line": {
             "colorbar": {
              "outlinewidth": 0,
              "ticks": ""
             }
            },
            "marker": {
             "colorbar": {
              "outlinewidth": 0,
              "ticks": ""
             }
            },
            "type": "scatter3d"
           }
          ],
          "scattercarpet": [
           {
            "marker": {
             "colorbar": {
              "outlinewidth": 0,
              "ticks": ""
             }
            },
            "type": "scattercarpet"
           }
          ],
          "scattergeo": [
           {
            "marker": {
             "colorbar": {
              "outlinewidth": 0,
              "ticks": ""
             }
            },
            "type": "scattergeo"
           }
          ],
          "scattergl": [
           {
            "marker": {
             "colorbar": {
              "outlinewidth": 0,
              "ticks": ""
             }
            },
            "type": "scattergl"
           }
          ],
          "scattermapbox": [
           {
            "marker": {
             "colorbar": {
              "outlinewidth": 0,
              "ticks": ""
             }
            },
            "type": "scattermapbox"
           }
          ],
          "scatterpolar": [
           {
            "marker": {
             "colorbar": {
              "outlinewidth": 0,
              "ticks": ""
             }
            },
            "type": "scatterpolar"
           }
          ],
          "scatterpolargl": [
           {
            "marker": {
             "colorbar": {
              "outlinewidth": 0,
              "ticks": ""
             }
            },
            "type": "scatterpolargl"
           }
          ],
          "scatterternary": [
           {
            "marker": {
             "colorbar": {
              "outlinewidth": 0,
              "ticks": ""
             }
            },
            "type": "scatterternary"
           }
          ],
          "surface": [
           {
            "colorbar": {
             "outlinewidth": 0,
             "ticks": ""
            },
            "colorscale": [
             [
              0,
              "#0d0887"
             ],
             [
              0.1111111111111111,
              "#46039f"
             ],
             [
              0.2222222222222222,
              "#7201a8"
             ],
             [
              0.3333333333333333,
              "#9c179e"
             ],
             [
              0.4444444444444444,
              "#bd3786"
             ],
             [
              0.5555555555555556,
              "#d8576b"
             ],
             [
              0.6666666666666666,
              "#ed7953"
             ],
             [
              0.7777777777777778,
              "#fb9f3a"
             ],
             [
              0.8888888888888888,
              "#fdca26"
             ],
             [
              1,
              "#f0f921"
             ]
            ],
            "type": "surface"
           }
          ],
          "table": [
           {
            "cells": {
             "fill": {
              "color": "#EBF0F8"
             },
             "line": {
              "color": "white"
             }
            },
            "header": {
             "fill": {
              "color": "#C8D4E3"
             },
             "line": {
              "color": "white"
             }
            },
            "type": "table"
           }
          ]
         },
         "layout": {
          "annotationdefaults": {
           "arrowcolor": "#2a3f5f",
           "arrowhead": 0,
           "arrowwidth": 1
          },
          "autotypenumbers": "strict",
          "coloraxis": {
           "colorbar": {
            "outlinewidth": 0,
            "ticks": ""
           }
          },
          "colorscale": {
           "diverging": [
            [
             0,
             "#8e0152"
            ],
            [
             0.1,
             "#c51b7d"
            ],
            [
             0.2,
             "#de77ae"
            ],
            [
             0.3,
             "#f1b6da"
            ],
            [
             0.4,
             "#fde0ef"
            ],
            [
             0.5,
             "#f7f7f7"
            ],
            [
             0.6,
             "#e6f5d0"
            ],
            [
             0.7,
             "#b8e186"
            ],
            [
             0.8,
             "#7fbc41"
            ],
            [
             0.9,
             "#4d9221"
            ],
            [
             1,
             "#276419"
            ]
           ],
           "sequential": [
            [
             0,
             "#0d0887"
            ],
            [
             0.1111111111111111,
             "#46039f"
            ],
            [
             0.2222222222222222,
             "#7201a8"
            ],
            [
             0.3333333333333333,
             "#9c179e"
            ],
            [
             0.4444444444444444,
             "#bd3786"
            ],
            [
             0.5555555555555556,
             "#d8576b"
            ],
            [
             0.6666666666666666,
             "#ed7953"
            ],
            [
             0.7777777777777778,
             "#fb9f3a"
            ],
            [
             0.8888888888888888,
             "#fdca26"
            ],
            [
             1,
             "#f0f921"
            ]
           ],
           "sequentialminus": [
            [
             0,
             "#0d0887"
            ],
            [
             0.1111111111111111,
             "#46039f"
            ],
            [
             0.2222222222222222,
             "#7201a8"
            ],
            [
             0.3333333333333333,
             "#9c179e"
            ],
            [
             0.4444444444444444,
             "#bd3786"
            ],
            [
             0.5555555555555556,
             "#d8576b"
            ],
            [
             0.6666666666666666,
             "#ed7953"
            ],
            [
             0.7777777777777778,
             "#fb9f3a"
            ],
            [
             0.8888888888888888,
             "#fdca26"
            ],
            [
             1,
             "#f0f921"
            ]
           ]
          },
          "colorway": [
           "#636efa",
           "#EF553B",
           "#00cc96",
           "#ab63fa",
           "#FFA15A",
           "#19d3f3",
           "#FF6692",
           "#B6E880",
           "#FF97FF",
           "#FECB52"
          ],
          "font": {
           "color": "#2a3f5f"
          },
          "geo": {
           "bgcolor": "white",
           "lakecolor": "white",
           "landcolor": "white",
           "showlakes": true,
           "showland": true,
           "subunitcolor": "#C8D4E3"
          },
          "hoverlabel": {
           "align": "left"
          },
          "hovermode": "closest",
          "mapbox": {
           "style": "light"
          },
          "paper_bgcolor": "white",
          "plot_bgcolor": "white",
          "polar": {
           "angularaxis": {
            "gridcolor": "#EBF0F8",
            "linecolor": "#EBF0F8",
            "ticks": ""
           },
           "bgcolor": "white",
           "radialaxis": {
            "gridcolor": "#EBF0F8",
            "linecolor": "#EBF0F8",
            "ticks": ""
           }
          },
          "scene": {
           "xaxis": {
            "backgroundcolor": "white",
            "gridcolor": "#DFE8F3",
            "gridwidth": 2,
            "linecolor": "#EBF0F8",
            "showbackground": true,
            "ticks": "",
            "zerolinecolor": "#EBF0F8"
           },
           "yaxis": {
            "backgroundcolor": "white",
            "gridcolor": "#DFE8F3",
            "gridwidth": 2,
            "linecolor": "#EBF0F8",
            "showbackground": true,
            "ticks": "",
            "zerolinecolor": "#EBF0F8"
           },
           "zaxis": {
            "backgroundcolor": "white",
            "gridcolor": "#DFE8F3",
            "gridwidth": 2,
            "linecolor": "#EBF0F8",
            "showbackground": true,
            "ticks": "",
            "zerolinecolor": "#EBF0F8"
           }
          },
          "shapedefaults": {
           "line": {
            "color": "#2a3f5f"
           }
          },
          "ternary": {
           "aaxis": {
            "gridcolor": "#DFE8F3",
            "linecolor": "#A2B1C6",
            "ticks": ""
           },
           "baxis": {
            "gridcolor": "#DFE8F3",
            "linecolor": "#A2B1C6",
            "ticks": ""
           },
           "bgcolor": "white",
           "caxis": {
            "gridcolor": "#DFE8F3",
            "linecolor": "#A2B1C6",
            "ticks": ""
           }
          },
          "title": {
           "x": 0.05
          },
          "xaxis": {
           "automargin": true,
           "gridcolor": "#EBF0F8",
           "linecolor": "#EBF0F8",
           "ticks": "",
           "title": {
            "standoff": 15
           },
           "zerolinecolor": "#EBF0F8",
           "zerolinewidth": 2
          },
          "yaxis": {
           "automargin": true,
           "gridcolor": "#EBF0F8",
           "linecolor": "#EBF0F8",
           "ticks": "",
           "title": {
            "standoff": 15
           },
           "zerolinecolor": "#EBF0F8",
           "zerolinewidth": 2
          }
         }
        },
        "title": {
         "text": "Histogram of Earthquakes intensity (Yearly)"
        },
        "width": 960,
        "xaxis": {
         "tickangle": 45,
         "title": {
          "text": "Yearly Intensities"
         }
        },
        "yaxis": {
         "title": {
          "text": "Count"
         }
        }
       }
      }
     },
     "metadata": {},
     "output_type": "display_data"
    }
   ],
   "source": [
    "# Plot earthquakes intensity by Year\n",
    "lqt_ready_2.plot_intensity(interval='yearly')"
   ]
  },
  {
   "cell_type": "markdown",
   "metadata": {},
   "source": [
    "Since our example datasets only in year 2024, so only one bar of histogram appears in the plot."
   ]
  },
  {
   "cell_type": "code",
   "execution_count": 10,
   "metadata": {},
   "outputs": [
    {
     "data": {
      "application/vnd.plotly.v1+json": {
       "config": {
        "plotlyServerURL": "https://plot.ly"
       },
       "data": [
        {
         "marker": {
          "color": "skyblue"
         },
         "name": "Intensity",
         "type": "bar",
         "x": [
          "2024_03",
          "2024_04",
          "2024_05",
          "2024_06",
          "2024_07",
          "2024_08",
          "2024_09",
          "2024_10",
          "2024_11"
         ],
         "y": [
          49,
          82,
          90,
          104,
          36,
          111,
          113,
          134,
          77
         ]
        }
       ],
       "layout": {
        "bargap": 0.2,
        "height": 720,
        "legend": {
         "bgcolor": "rgba(255,255,255,0.5)",
         "x": 0.99,
         "xanchor": "right",
         "y": 0.99,
         "yanchor": "top"
        },
        "showlegend": true,
        "template": {
         "data": {
          "bar": [
           {
            "error_x": {
             "color": "#2a3f5f"
            },
            "error_y": {
             "color": "#2a3f5f"
            },
            "marker": {
             "line": {
              "color": "white",
              "width": 0.5
             },
             "pattern": {
              "fillmode": "overlay",
              "size": 10,
              "solidity": 0.2
             }
            },
            "type": "bar"
           }
          ],
          "barpolar": [
           {
            "marker": {
             "line": {
              "color": "white",
              "width": 0.5
             },
             "pattern": {
              "fillmode": "overlay",
              "size": 10,
              "solidity": 0.2
             }
            },
            "type": "barpolar"
           }
          ],
          "carpet": [
           {
            "aaxis": {
             "endlinecolor": "#2a3f5f",
             "gridcolor": "#C8D4E3",
             "linecolor": "#C8D4E3",
             "minorgridcolor": "#C8D4E3",
             "startlinecolor": "#2a3f5f"
            },
            "baxis": {
             "endlinecolor": "#2a3f5f",
             "gridcolor": "#C8D4E3",
             "linecolor": "#C8D4E3",
             "minorgridcolor": "#C8D4E3",
             "startlinecolor": "#2a3f5f"
            },
            "type": "carpet"
           }
          ],
          "choropleth": [
           {
            "colorbar": {
             "outlinewidth": 0,
             "ticks": ""
            },
            "type": "choropleth"
           }
          ],
          "contour": [
           {
            "colorbar": {
             "outlinewidth": 0,
             "ticks": ""
            },
            "colorscale": [
             [
              0,
              "#0d0887"
             ],
             [
              0.1111111111111111,
              "#46039f"
             ],
             [
              0.2222222222222222,
              "#7201a8"
             ],
             [
              0.3333333333333333,
              "#9c179e"
             ],
             [
              0.4444444444444444,
              "#bd3786"
             ],
             [
              0.5555555555555556,
              "#d8576b"
             ],
             [
              0.6666666666666666,
              "#ed7953"
             ],
             [
              0.7777777777777778,
              "#fb9f3a"
             ],
             [
              0.8888888888888888,
              "#fdca26"
             ],
             [
              1,
              "#f0f921"
             ]
            ],
            "type": "contour"
           }
          ],
          "contourcarpet": [
           {
            "colorbar": {
             "outlinewidth": 0,
             "ticks": ""
            },
            "type": "contourcarpet"
           }
          ],
          "heatmap": [
           {
            "colorbar": {
             "outlinewidth": 0,
             "ticks": ""
            },
            "colorscale": [
             [
              0,
              "#0d0887"
             ],
             [
              0.1111111111111111,
              "#46039f"
             ],
             [
              0.2222222222222222,
              "#7201a8"
             ],
             [
              0.3333333333333333,
              "#9c179e"
             ],
             [
              0.4444444444444444,
              "#bd3786"
             ],
             [
              0.5555555555555556,
              "#d8576b"
             ],
             [
              0.6666666666666666,
              "#ed7953"
             ],
             [
              0.7777777777777778,
              "#fb9f3a"
             ],
             [
              0.8888888888888888,
              "#fdca26"
             ],
             [
              1,
              "#f0f921"
             ]
            ],
            "type": "heatmap"
           }
          ],
          "heatmapgl": [
           {
            "colorbar": {
             "outlinewidth": 0,
             "ticks": ""
            },
            "colorscale": [
             [
              0,
              "#0d0887"
             ],
             [
              0.1111111111111111,
              "#46039f"
             ],
             [
              0.2222222222222222,
              "#7201a8"
             ],
             [
              0.3333333333333333,
              "#9c179e"
             ],
             [
              0.4444444444444444,
              "#bd3786"
             ],
             [
              0.5555555555555556,
              "#d8576b"
             ],
             [
              0.6666666666666666,
              "#ed7953"
             ],
             [
              0.7777777777777778,
              "#fb9f3a"
             ],
             [
              0.8888888888888888,
              "#fdca26"
             ],
             [
              1,
              "#f0f921"
             ]
            ],
            "type": "heatmapgl"
           }
          ],
          "histogram": [
           {
            "marker": {
             "pattern": {
              "fillmode": "overlay",
              "size": 10,
              "solidity": 0.2
             }
            },
            "type": "histogram"
           }
          ],
          "histogram2d": [
           {
            "colorbar": {
             "outlinewidth": 0,
             "ticks": ""
            },
            "colorscale": [
             [
              0,
              "#0d0887"
             ],
             [
              0.1111111111111111,
              "#46039f"
             ],
             [
              0.2222222222222222,
              "#7201a8"
             ],
             [
              0.3333333333333333,
              "#9c179e"
             ],
             [
              0.4444444444444444,
              "#bd3786"
             ],
             [
              0.5555555555555556,
              "#d8576b"
             ],
             [
              0.6666666666666666,
              "#ed7953"
             ],
             [
              0.7777777777777778,
              "#fb9f3a"
             ],
             [
              0.8888888888888888,
              "#fdca26"
             ],
             [
              1,
              "#f0f921"
             ]
            ],
            "type": "histogram2d"
           }
          ],
          "histogram2dcontour": [
           {
            "colorbar": {
             "outlinewidth": 0,
             "ticks": ""
            },
            "colorscale": [
             [
              0,
              "#0d0887"
             ],
             [
              0.1111111111111111,
              "#46039f"
             ],
             [
              0.2222222222222222,
              "#7201a8"
             ],
             [
              0.3333333333333333,
              "#9c179e"
             ],
             [
              0.4444444444444444,
              "#bd3786"
             ],
             [
              0.5555555555555556,
              "#d8576b"
             ],
             [
              0.6666666666666666,
              "#ed7953"
             ],
             [
              0.7777777777777778,
              "#fb9f3a"
             ],
             [
              0.8888888888888888,
              "#fdca26"
             ],
             [
              1,
              "#f0f921"
             ]
            ],
            "type": "histogram2dcontour"
           }
          ],
          "mesh3d": [
           {
            "colorbar": {
             "outlinewidth": 0,
             "ticks": ""
            },
            "type": "mesh3d"
           }
          ],
          "parcoords": [
           {
            "line": {
             "colorbar": {
              "outlinewidth": 0,
              "ticks": ""
             }
            },
            "type": "parcoords"
           }
          ],
          "pie": [
           {
            "automargin": true,
            "type": "pie"
           }
          ],
          "scatter": [
           {
            "fillpattern": {
             "fillmode": "overlay",
             "size": 10,
             "solidity": 0.2
            },
            "type": "scatter"
           }
          ],
          "scatter3d": [
           {
            "line": {
             "colorbar": {
              "outlinewidth": 0,
              "ticks": ""
             }
            },
            "marker": {
             "colorbar": {
              "outlinewidth": 0,
              "ticks": ""
             }
            },
            "type": "scatter3d"
           }
          ],
          "scattercarpet": [
           {
            "marker": {
             "colorbar": {
              "outlinewidth": 0,
              "ticks": ""
             }
            },
            "type": "scattercarpet"
           }
          ],
          "scattergeo": [
           {
            "marker": {
             "colorbar": {
              "outlinewidth": 0,
              "ticks": ""
             }
            },
            "type": "scattergeo"
           }
          ],
          "scattergl": [
           {
            "marker": {
             "colorbar": {
              "outlinewidth": 0,
              "ticks": ""
             }
            },
            "type": "scattergl"
           }
          ],
          "scattermapbox": [
           {
            "marker": {
             "colorbar": {
              "outlinewidth": 0,
              "ticks": ""
             }
            },
            "type": "scattermapbox"
           }
          ],
          "scatterpolar": [
           {
            "marker": {
             "colorbar": {
              "outlinewidth": 0,
              "ticks": ""
             }
            },
            "type": "scatterpolar"
           }
          ],
          "scatterpolargl": [
           {
            "marker": {
             "colorbar": {
              "outlinewidth": 0,
              "ticks": ""
             }
            },
            "type": "scatterpolargl"
           }
          ],
          "scatterternary": [
           {
            "marker": {
             "colorbar": {
              "outlinewidth": 0,
              "ticks": ""
             }
            },
            "type": "scatterternary"
           }
          ],
          "surface": [
           {
            "colorbar": {
             "outlinewidth": 0,
             "ticks": ""
            },
            "colorscale": [
             [
              0,
              "#0d0887"
             ],
             [
              0.1111111111111111,
              "#46039f"
             ],
             [
              0.2222222222222222,
              "#7201a8"
             ],
             [
              0.3333333333333333,
              "#9c179e"
             ],
             [
              0.4444444444444444,
              "#bd3786"
             ],
             [
              0.5555555555555556,
              "#d8576b"
             ],
             [
              0.6666666666666666,
              "#ed7953"
             ],
             [
              0.7777777777777778,
              "#fb9f3a"
             ],
             [
              0.8888888888888888,
              "#fdca26"
             ],
             [
              1,
              "#f0f921"
             ]
            ],
            "type": "surface"
           }
          ],
          "table": [
           {
            "cells": {
             "fill": {
              "color": "#EBF0F8"
             },
             "line": {
              "color": "white"
             }
            },
            "header": {
             "fill": {
              "color": "#C8D4E3"
             },
             "line": {
              "color": "white"
             }
            },
            "type": "table"
           }
          ]
         },
         "layout": {
          "annotationdefaults": {
           "arrowcolor": "#2a3f5f",
           "arrowhead": 0,
           "arrowwidth": 1
          },
          "autotypenumbers": "strict",
          "coloraxis": {
           "colorbar": {
            "outlinewidth": 0,
            "ticks": ""
           }
          },
          "colorscale": {
           "diverging": [
            [
             0,
             "#8e0152"
            ],
            [
             0.1,
             "#c51b7d"
            ],
            [
             0.2,
             "#de77ae"
            ],
            [
             0.3,
             "#f1b6da"
            ],
            [
             0.4,
             "#fde0ef"
            ],
            [
             0.5,
             "#f7f7f7"
            ],
            [
             0.6,
             "#e6f5d0"
            ],
            [
             0.7,
             "#b8e186"
            ],
            [
             0.8,
             "#7fbc41"
            ],
            [
             0.9,
             "#4d9221"
            ],
            [
             1,
             "#276419"
            ]
           ],
           "sequential": [
            [
             0,
             "#0d0887"
            ],
            [
             0.1111111111111111,
             "#46039f"
            ],
            [
             0.2222222222222222,
             "#7201a8"
            ],
            [
             0.3333333333333333,
             "#9c179e"
            ],
            [
             0.4444444444444444,
             "#bd3786"
            ],
            [
             0.5555555555555556,
             "#d8576b"
            ],
            [
             0.6666666666666666,
             "#ed7953"
            ],
            [
             0.7777777777777778,
             "#fb9f3a"
            ],
            [
             0.8888888888888888,
             "#fdca26"
            ],
            [
             1,
             "#f0f921"
            ]
           ],
           "sequentialminus": [
            [
             0,
             "#0d0887"
            ],
            [
             0.1111111111111111,
             "#46039f"
            ],
            [
             0.2222222222222222,
             "#7201a8"
            ],
            [
             0.3333333333333333,
             "#9c179e"
            ],
            [
             0.4444444444444444,
             "#bd3786"
            ],
            [
             0.5555555555555556,
             "#d8576b"
            ],
            [
             0.6666666666666666,
             "#ed7953"
            ],
            [
             0.7777777777777778,
             "#fb9f3a"
            ],
            [
             0.8888888888888888,
             "#fdca26"
            ],
            [
             1,
             "#f0f921"
            ]
           ]
          },
          "colorway": [
           "#636efa",
           "#EF553B",
           "#00cc96",
           "#ab63fa",
           "#FFA15A",
           "#19d3f3",
           "#FF6692",
           "#B6E880",
           "#FF97FF",
           "#FECB52"
          ],
          "font": {
           "color": "#2a3f5f"
          },
          "geo": {
           "bgcolor": "white",
           "lakecolor": "white",
           "landcolor": "white",
           "showlakes": true,
           "showland": true,
           "subunitcolor": "#C8D4E3"
          },
          "hoverlabel": {
           "align": "left"
          },
          "hovermode": "closest",
          "mapbox": {
           "style": "light"
          },
          "paper_bgcolor": "white",
          "plot_bgcolor": "white",
          "polar": {
           "angularaxis": {
            "gridcolor": "#EBF0F8",
            "linecolor": "#EBF0F8",
            "ticks": ""
           },
           "bgcolor": "white",
           "radialaxis": {
            "gridcolor": "#EBF0F8",
            "linecolor": "#EBF0F8",
            "ticks": ""
           }
          },
          "scene": {
           "xaxis": {
            "backgroundcolor": "white",
            "gridcolor": "#DFE8F3",
            "gridwidth": 2,
            "linecolor": "#EBF0F8",
            "showbackground": true,
            "ticks": "",
            "zerolinecolor": "#EBF0F8"
           },
           "yaxis": {
            "backgroundcolor": "white",
            "gridcolor": "#DFE8F3",
            "gridwidth": 2,
            "linecolor": "#EBF0F8",
            "showbackground": true,
            "ticks": "",
            "zerolinecolor": "#EBF0F8"
           },
           "zaxis": {
            "backgroundcolor": "white",
            "gridcolor": "#DFE8F3",
            "gridwidth": 2,
            "linecolor": "#EBF0F8",
            "showbackground": true,
            "ticks": "",
            "zerolinecolor": "#EBF0F8"
           }
          },
          "shapedefaults": {
           "line": {
            "color": "#2a3f5f"
           }
          },
          "ternary": {
           "aaxis": {
            "gridcolor": "#DFE8F3",
            "linecolor": "#A2B1C6",
            "ticks": ""
           },
           "baxis": {
            "gridcolor": "#DFE8F3",
            "linecolor": "#A2B1C6",
            "ticks": ""
           },
           "bgcolor": "white",
           "caxis": {
            "gridcolor": "#DFE8F3",
            "linecolor": "#A2B1C6",
            "ticks": ""
           }
          },
          "title": {
           "x": 0.05
          },
          "xaxis": {
           "automargin": true,
           "gridcolor": "#EBF0F8",
           "linecolor": "#EBF0F8",
           "ticks": "",
           "title": {
            "standoff": 15
           },
           "zerolinecolor": "#EBF0F8",
           "zerolinewidth": 2
          },
          "yaxis": {
           "automargin": true,
           "gridcolor": "#EBF0F8",
           "linecolor": "#EBF0F8",
           "ticks": "",
           "title": {
            "standoff": 15
           },
           "zerolinecolor": "#EBF0F8",
           "zerolinewidth": 2
          }
         }
        },
        "title": {
         "text": "Histogram of Earthquakes intensity (Monthly)"
        },
        "width": 960,
        "xaxis": {
         "tickangle": 45,
         "title": {
          "text": "Monthly Intensities"
         }
        },
        "yaxis": {
         "title": {
          "text": "Count"
         }
        }
       }
      }
     },
     "metadata": {},
     "output_type": "display_data"
    }
   ],
   "source": [
    "# Plot earthquakes intensity by Month\n",
    "lqt_ready_2.plot_intensity(interval='monthly')"
   ]
  },
  {
   "cell_type": "code",
   "execution_count": 11,
   "metadata": {},
   "outputs": [
    {
     "data": {
      "application/vnd.plotly.v1+json": {
       "config": {
        "plotlyServerURL": "https://plot.ly"
       },
       "data": [
        {
         "marker": {
          "color": "skyblue"
         },
         "name": "Intensity",
         "type": "bar",
         "x": [
          "2024_10",
          "2024_11",
          "2024_12",
          "2024_13",
          "2024_14",
          "2024_15",
          "2024_16",
          "2024_17",
          "2024_18",
          "2024_19",
          "2024_20",
          "2024_21",
          "2024_22",
          "2024_23",
          "2024_24",
          "2024_25",
          "2024_26",
          "2024_27",
          "2024_28",
          "2024_29",
          "2024_30",
          "2024_31",
          "2024_32",
          "2024_33",
          "2024_34",
          "2024_35",
          "2024_36",
          "2024_37",
          "2024_38",
          "2024_39",
          "2024_40",
          "2024_41",
          "2024_42",
          "2024_43",
          "2024_44",
          "2024_45",
          "2024_46",
          "2024_47",
          "2024_48"
         ],
         "y": [
          5,
          26,
          10,
          8,
          36,
          6,
          19,
          10,
          23,
          9,
          3,
          59,
          70,
          15,
          6,
          12,
          8,
          9,
          10,
          6,
          11,
          17,
          12,
          39,
          23,
          22,
          19,
          16,
          56,
          20,
          19,
          72,
          33,
          6,
          6,
          9,
          4,
          57,
          5
         ]
        }
       ],
       "layout": {
        "bargap": 0.2,
        "height": 720,
        "legend": {
         "bgcolor": "rgba(255,255,255,0.5)",
         "x": 0.99,
         "xanchor": "right",
         "y": 0.99,
         "yanchor": "top"
        },
        "showlegend": true,
        "template": {
         "data": {
          "bar": [
           {
            "error_x": {
             "color": "#2a3f5f"
            },
            "error_y": {
             "color": "#2a3f5f"
            },
            "marker": {
             "line": {
              "color": "white",
              "width": 0.5
             },
             "pattern": {
              "fillmode": "overlay",
              "size": 10,
              "solidity": 0.2
             }
            },
            "type": "bar"
           }
          ],
          "barpolar": [
           {
            "marker": {
             "line": {
              "color": "white",
              "width": 0.5
             },
             "pattern": {
              "fillmode": "overlay",
              "size": 10,
              "solidity": 0.2
             }
            },
            "type": "barpolar"
           }
          ],
          "carpet": [
           {
            "aaxis": {
             "endlinecolor": "#2a3f5f",
             "gridcolor": "#C8D4E3",
             "linecolor": "#C8D4E3",
             "minorgridcolor": "#C8D4E3",
             "startlinecolor": "#2a3f5f"
            },
            "baxis": {
             "endlinecolor": "#2a3f5f",
             "gridcolor": "#C8D4E3",
             "linecolor": "#C8D4E3",
             "minorgridcolor": "#C8D4E3",
             "startlinecolor": "#2a3f5f"
            },
            "type": "carpet"
           }
          ],
          "choropleth": [
           {
            "colorbar": {
             "outlinewidth": 0,
             "ticks": ""
            },
            "type": "choropleth"
           }
          ],
          "contour": [
           {
            "colorbar": {
             "outlinewidth": 0,
             "ticks": ""
            },
            "colorscale": [
             [
              0,
              "#0d0887"
             ],
             [
              0.1111111111111111,
              "#46039f"
             ],
             [
              0.2222222222222222,
              "#7201a8"
             ],
             [
              0.3333333333333333,
              "#9c179e"
             ],
             [
              0.4444444444444444,
              "#bd3786"
             ],
             [
              0.5555555555555556,
              "#d8576b"
             ],
             [
              0.6666666666666666,
              "#ed7953"
             ],
             [
              0.7777777777777778,
              "#fb9f3a"
             ],
             [
              0.8888888888888888,
              "#fdca26"
             ],
             [
              1,
              "#f0f921"
             ]
            ],
            "type": "contour"
           }
          ],
          "contourcarpet": [
           {
            "colorbar": {
             "outlinewidth": 0,
             "ticks": ""
            },
            "type": "contourcarpet"
           }
          ],
          "heatmap": [
           {
            "colorbar": {
             "outlinewidth": 0,
             "ticks": ""
            },
            "colorscale": [
             [
              0,
              "#0d0887"
             ],
             [
              0.1111111111111111,
              "#46039f"
             ],
             [
              0.2222222222222222,
              "#7201a8"
             ],
             [
              0.3333333333333333,
              "#9c179e"
             ],
             [
              0.4444444444444444,
              "#bd3786"
             ],
             [
              0.5555555555555556,
              "#d8576b"
             ],
             [
              0.6666666666666666,
              "#ed7953"
             ],
             [
              0.7777777777777778,
              "#fb9f3a"
             ],
             [
              0.8888888888888888,
              "#fdca26"
             ],
             [
              1,
              "#f0f921"
             ]
            ],
            "type": "heatmap"
           }
          ],
          "heatmapgl": [
           {
            "colorbar": {
             "outlinewidth": 0,
             "ticks": ""
            },
            "colorscale": [
             [
              0,
              "#0d0887"
             ],
             [
              0.1111111111111111,
              "#46039f"
             ],
             [
              0.2222222222222222,
              "#7201a8"
             ],
             [
              0.3333333333333333,
              "#9c179e"
             ],
             [
              0.4444444444444444,
              "#bd3786"
             ],
             [
              0.5555555555555556,
              "#d8576b"
             ],
             [
              0.6666666666666666,
              "#ed7953"
             ],
             [
              0.7777777777777778,
              "#fb9f3a"
             ],
             [
              0.8888888888888888,
              "#fdca26"
             ],
             [
              1,
              "#f0f921"
             ]
            ],
            "type": "heatmapgl"
           }
          ],
          "histogram": [
           {
            "marker": {
             "pattern": {
              "fillmode": "overlay",
              "size": 10,
              "solidity": 0.2
             }
            },
            "type": "histogram"
           }
          ],
          "histogram2d": [
           {
            "colorbar": {
             "outlinewidth": 0,
             "ticks": ""
            },
            "colorscale": [
             [
              0,
              "#0d0887"
             ],
             [
              0.1111111111111111,
              "#46039f"
             ],
             [
              0.2222222222222222,
              "#7201a8"
             ],
             [
              0.3333333333333333,
              "#9c179e"
             ],
             [
              0.4444444444444444,
              "#bd3786"
             ],
             [
              0.5555555555555556,
              "#d8576b"
             ],
             [
              0.6666666666666666,
              "#ed7953"
             ],
             [
              0.7777777777777778,
              "#fb9f3a"
             ],
             [
              0.8888888888888888,
              "#fdca26"
             ],
             [
              1,
              "#f0f921"
             ]
            ],
            "type": "histogram2d"
           }
          ],
          "histogram2dcontour": [
           {
            "colorbar": {
             "outlinewidth": 0,
             "ticks": ""
            },
            "colorscale": [
             [
              0,
              "#0d0887"
             ],
             [
              0.1111111111111111,
              "#46039f"
             ],
             [
              0.2222222222222222,
              "#7201a8"
             ],
             [
              0.3333333333333333,
              "#9c179e"
             ],
             [
              0.4444444444444444,
              "#bd3786"
             ],
             [
              0.5555555555555556,
              "#d8576b"
             ],
             [
              0.6666666666666666,
              "#ed7953"
             ],
             [
              0.7777777777777778,
              "#fb9f3a"
             ],
             [
              0.8888888888888888,
              "#fdca26"
             ],
             [
              1,
              "#f0f921"
             ]
            ],
            "type": "histogram2dcontour"
           }
          ],
          "mesh3d": [
           {
            "colorbar": {
             "outlinewidth": 0,
             "ticks": ""
            },
            "type": "mesh3d"
           }
          ],
          "parcoords": [
           {
            "line": {
             "colorbar": {
              "outlinewidth": 0,
              "ticks": ""
             }
            },
            "type": "parcoords"
           }
          ],
          "pie": [
           {
            "automargin": true,
            "type": "pie"
           }
          ],
          "scatter": [
           {
            "fillpattern": {
             "fillmode": "overlay",
             "size": 10,
             "solidity": 0.2
            },
            "type": "scatter"
           }
          ],
          "scatter3d": [
           {
            "line": {
             "colorbar": {
              "outlinewidth": 0,
              "ticks": ""
             }
            },
            "marker": {
             "colorbar": {
              "outlinewidth": 0,
              "ticks": ""
             }
            },
            "type": "scatter3d"
           }
          ],
          "scattercarpet": [
           {
            "marker": {
             "colorbar": {
              "outlinewidth": 0,
              "ticks": ""
             }
            },
            "type": "scattercarpet"
           }
          ],
          "scattergeo": [
           {
            "marker": {
             "colorbar": {
              "outlinewidth": 0,
              "ticks": ""
             }
            },
            "type": "scattergeo"
           }
          ],
          "scattergl": [
           {
            "marker": {
             "colorbar": {
              "outlinewidth": 0,
              "ticks": ""
             }
            },
            "type": "scattergl"
           }
          ],
          "scattermapbox": [
           {
            "marker": {
             "colorbar": {
              "outlinewidth": 0,
              "ticks": ""
             }
            },
            "type": "scattermapbox"
           }
          ],
          "scatterpolar": [
           {
            "marker": {
             "colorbar": {
              "outlinewidth": 0,
              "ticks": ""
             }
            },
            "type": "scatterpolar"
           }
          ],
          "scatterpolargl": [
           {
            "marker": {
             "colorbar": {
              "outlinewidth": 0,
              "ticks": ""
             }
            },
            "type": "scatterpolargl"
           }
          ],
          "scatterternary": [
           {
            "marker": {
             "colorbar": {
              "outlinewidth": 0,
              "ticks": ""
             }
            },
            "type": "scatterternary"
           }
          ],
          "surface": [
           {
            "colorbar": {
             "outlinewidth": 0,
             "ticks": ""
            },
            "colorscale": [
             [
              0,
              "#0d0887"
             ],
             [
              0.1111111111111111,
              "#46039f"
             ],
             [
              0.2222222222222222,
              "#7201a8"
             ],
             [
              0.3333333333333333,
              "#9c179e"
             ],
             [
              0.4444444444444444,
              "#bd3786"
             ],
             [
              0.5555555555555556,
              "#d8576b"
             ],
             [
              0.6666666666666666,
              "#ed7953"
             ],
             [
              0.7777777777777778,
              "#fb9f3a"
             ],
             [
              0.8888888888888888,
              "#fdca26"
             ],
             [
              1,
              "#f0f921"
             ]
            ],
            "type": "surface"
           }
          ],
          "table": [
           {
            "cells": {
             "fill": {
              "color": "#EBF0F8"
             },
             "line": {
              "color": "white"
             }
            },
            "header": {
             "fill": {
              "color": "#C8D4E3"
             },
             "line": {
              "color": "white"
             }
            },
            "type": "table"
           }
          ]
         },
         "layout": {
          "annotationdefaults": {
           "arrowcolor": "#2a3f5f",
           "arrowhead": 0,
           "arrowwidth": 1
          },
          "autotypenumbers": "strict",
          "coloraxis": {
           "colorbar": {
            "outlinewidth": 0,
            "ticks": ""
           }
          },
          "colorscale": {
           "diverging": [
            [
             0,
             "#8e0152"
            ],
            [
             0.1,
             "#c51b7d"
            ],
            [
             0.2,
             "#de77ae"
            ],
            [
             0.3,
             "#f1b6da"
            ],
            [
             0.4,
             "#fde0ef"
            ],
            [
             0.5,
             "#f7f7f7"
            ],
            [
             0.6,
             "#e6f5d0"
            ],
            [
             0.7,
             "#b8e186"
            ],
            [
             0.8,
             "#7fbc41"
            ],
            [
             0.9,
             "#4d9221"
            ],
            [
             1,
             "#276419"
            ]
           ],
           "sequential": [
            [
             0,
             "#0d0887"
            ],
            [
             0.1111111111111111,
             "#46039f"
            ],
            [
             0.2222222222222222,
             "#7201a8"
            ],
            [
             0.3333333333333333,
             "#9c179e"
            ],
            [
             0.4444444444444444,
             "#bd3786"
            ],
            [
             0.5555555555555556,
             "#d8576b"
            ],
            [
             0.6666666666666666,
             "#ed7953"
            ],
            [
             0.7777777777777778,
             "#fb9f3a"
            ],
            [
             0.8888888888888888,
             "#fdca26"
            ],
            [
             1,
             "#f0f921"
            ]
           ],
           "sequentialminus": [
            [
             0,
             "#0d0887"
            ],
            [
             0.1111111111111111,
             "#46039f"
            ],
            [
             0.2222222222222222,
             "#7201a8"
            ],
            [
             0.3333333333333333,
             "#9c179e"
            ],
            [
             0.4444444444444444,
             "#bd3786"
            ],
            [
             0.5555555555555556,
             "#d8576b"
            ],
            [
             0.6666666666666666,
             "#ed7953"
            ],
            [
             0.7777777777777778,
             "#fb9f3a"
            ],
            [
             0.8888888888888888,
             "#fdca26"
            ],
            [
             1,
             "#f0f921"
            ]
           ]
          },
          "colorway": [
           "#636efa",
           "#EF553B",
           "#00cc96",
           "#ab63fa",
           "#FFA15A",
           "#19d3f3",
           "#FF6692",
           "#B6E880",
           "#FF97FF",
           "#FECB52"
          ],
          "font": {
           "color": "#2a3f5f"
          },
          "geo": {
           "bgcolor": "white",
           "lakecolor": "white",
           "landcolor": "white",
           "showlakes": true,
           "showland": true,
           "subunitcolor": "#C8D4E3"
          },
          "hoverlabel": {
           "align": "left"
          },
          "hovermode": "closest",
          "mapbox": {
           "style": "light"
          },
          "paper_bgcolor": "white",
          "plot_bgcolor": "white",
          "polar": {
           "angularaxis": {
            "gridcolor": "#EBF0F8",
            "linecolor": "#EBF0F8",
            "ticks": ""
           },
           "bgcolor": "white",
           "radialaxis": {
            "gridcolor": "#EBF0F8",
            "linecolor": "#EBF0F8",
            "ticks": ""
           }
          },
          "scene": {
           "xaxis": {
            "backgroundcolor": "white",
            "gridcolor": "#DFE8F3",
            "gridwidth": 2,
            "linecolor": "#EBF0F8",
            "showbackground": true,
            "ticks": "",
            "zerolinecolor": "#EBF0F8"
           },
           "yaxis": {
            "backgroundcolor": "white",
            "gridcolor": "#DFE8F3",
            "gridwidth": 2,
            "linecolor": "#EBF0F8",
            "showbackground": true,
            "ticks": "",
            "zerolinecolor": "#EBF0F8"
           },
           "zaxis": {
            "backgroundcolor": "white",
            "gridcolor": "#DFE8F3",
            "gridwidth": 2,
            "linecolor": "#EBF0F8",
            "showbackground": true,
            "ticks": "",
            "zerolinecolor": "#EBF0F8"
           }
          },
          "shapedefaults": {
           "line": {
            "color": "#2a3f5f"
           }
          },
          "ternary": {
           "aaxis": {
            "gridcolor": "#DFE8F3",
            "linecolor": "#A2B1C6",
            "ticks": ""
           },
           "baxis": {
            "gridcolor": "#DFE8F3",
            "linecolor": "#A2B1C6",
            "ticks": ""
           },
           "bgcolor": "white",
           "caxis": {
            "gridcolor": "#DFE8F3",
            "linecolor": "#A2B1C6",
            "ticks": ""
           }
          },
          "title": {
           "x": 0.05
          },
          "xaxis": {
           "automargin": true,
           "gridcolor": "#EBF0F8",
           "linecolor": "#EBF0F8",
           "ticks": "",
           "title": {
            "standoff": 15
           },
           "zerolinecolor": "#EBF0F8",
           "zerolinewidth": 2
          },
          "yaxis": {
           "automargin": true,
           "gridcolor": "#EBF0F8",
           "linecolor": "#EBF0F8",
           "ticks": "",
           "title": {
            "standoff": 15
           },
           "zerolinecolor": "#EBF0F8",
           "zerolinewidth": 2
          }
         }
        },
        "title": {
         "text": "Histogram of Earthquakes intensity (Weekly)"
        },
        "width": 960,
        "xaxis": {
         "tickangle": 45,
         "title": {
          "text": "Weekly Intensities"
         }
        },
        "yaxis": {
         "title": {
          "text": "Count"
         }
        }
       }
      }
     },
     "metadata": {},
     "output_type": "display_data"
    }
   ],
   "source": [
    "# Plot earthquakes intensity by Week\n",
    "lqt_ready_2.plot_intensity(interval='weekly')"
   ]
  },
  {
   "cell_type": "markdown",
   "metadata": {},
   "source": [
    "**A. Daily and Hourly Intensities**\n",
    "\n",
    "Suppose you want higher-resolution detail and need to view earthquake intensities in Daily or Hourly intervals — the `plot_intensity` function can definitely handle that. However, the resulting histogram may be difficult to interpret. That's why the `LqtAnalysis` class also includes the `window_time` class method, which allows you to trim or narrow your dataset to a specific time period or interval."
   ]
  },
  {
   "cell_type": "markdown",
   "metadata": {},
   "source": [
    "**DATA WINDOWING**"
   ]
  },
  {
   "cell_type": "code",
   "execution_count": 12,
   "metadata": {},
   "outputs": [
    {
     "data": {
      "text/html": [
       "<div>\n",
       "<style scoped>\n",
       "    .dataframe tbody tr th:only-of-type {\n",
       "        vertical-align: middle;\n",
       "    }\n",
       "\n",
       "    .dataframe tbody tr th {\n",
       "        vertical-align: top;\n",
       "    }\n",
       "\n",
       "    .dataframe thead th {\n",
       "        text-align: right;\n",
       "    }\n",
       "</style>\n",
       "<table border=\"1\" class=\"dataframe\">\n",
       "  <thead>\n",
       "    <tr style=\"text-align: right;\">\n",
       "      <th></th>\n",
       "      <th>Unnamed: 0</th>\n",
       "      <th>source_id</th>\n",
       "      <th>source_lat</th>\n",
       "      <th>source_lon</th>\n",
       "      <th>source_depth_m</th>\n",
       "      <th>magnitude</th>\n",
       "      <th>network_code</th>\n",
       "      <th>station_code</th>\n",
       "      <th>station_lat</th>\n",
       "      <th>station_lon</th>\n",
       "      <th>...</th>\n",
       "      <th>s_p_lag_time_sec</th>\n",
       "      <th>coda_time</th>\n",
       "      <th>source_err_rms_s</th>\n",
       "      <th>n_phases</th>\n",
       "      <th>gap_degree</th>\n",
       "      <th>x_horizontal_err_m</th>\n",
       "      <th>y_horizontal_err_m</th>\n",
       "      <th>z_depth_err_m</th>\n",
       "      <th>earthquake_type</th>\n",
       "      <th>remarks</th>\n",
       "    </tr>\n",
       "  </thead>\n",
       "  <tbody>\n",
       "    <tr>\n",
       "      <th>266</th>\n",
       "      <td>266</td>\n",
       "      <td>2049</td>\n",
       "      <td>38.210484</td>\n",
       "      <td>126.376188</td>\n",
       "      <td>218.0</td>\n",
       "      <td>1.414427</td>\n",
       "      <td>KJ</td>\n",
       "      <td>KJ06</td>\n",
       "      <td>38.212581</td>\n",
       "      <td>126.379951</td>\n",
       "      <td>...</td>\n",
       "      <td>0.458986</td>\n",
       "      <td>NaN</td>\n",
       "      <td>0.012359</td>\n",
       "      <td>24.0</td>\n",
       "      <td>159.671</td>\n",
       "      <td>267.290148</td>\n",
       "      <td>160.704179</td>\n",
       "      <td>150.29097</td>\n",
       "      <td>very_local_earthquake</td>\n",
       "      <td>NaN</td>\n",
       "    </tr>\n",
       "    <tr>\n",
       "      <th>267</th>\n",
       "      <td>267</td>\n",
       "      <td>2049</td>\n",
       "      <td>38.210484</td>\n",
       "      <td>126.376188</td>\n",
       "      <td>218.0</td>\n",
       "      <td>1.414427</td>\n",
       "      <td>KJ</td>\n",
       "      <td>KJ05</td>\n",
       "      <td>38.203970</td>\n",
       "      <td>126.378906</td>\n",
       "      <td>...</td>\n",
       "      <td>0.519529</td>\n",
       "      <td>NaN</td>\n",
       "      <td>0.012359</td>\n",
       "      <td>24.0</td>\n",
       "      <td>159.671</td>\n",
       "      <td>267.290148</td>\n",
       "      <td>160.704179</td>\n",
       "      <td>150.29097</td>\n",
       "      <td>very_local_earthquake</td>\n",
       "      <td>NaN</td>\n",
       "    </tr>\n",
       "    <tr>\n",
       "      <th>268</th>\n",
       "      <td>268</td>\n",
       "      <td>2049</td>\n",
       "      <td>38.210484</td>\n",
       "      <td>126.376188</td>\n",
       "      <td>218.0</td>\n",
       "      <td>1.414427</td>\n",
       "      <td>KJ</td>\n",
       "      <td>KJ07</td>\n",
       "      <td>38.220451</td>\n",
       "      <td>126.381069</td>\n",
       "      <td>...</td>\n",
       "      <td>0.553817</td>\n",
       "      <td>NaN</td>\n",
       "      <td>0.012359</td>\n",
       "      <td>24.0</td>\n",
       "      <td>159.671</td>\n",
       "      <td>267.290148</td>\n",
       "      <td>160.704179</td>\n",
       "      <td>150.29097</td>\n",
       "      <td>very_local_earthquake</td>\n",
       "      <td>NaN</td>\n",
       "    </tr>\n",
       "    <tr>\n",
       "      <th>269</th>\n",
       "      <td>269</td>\n",
       "      <td>2049</td>\n",
       "      <td>38.210484</td>\n",
       "      <td>126.376188</td>\n",
       "      <td>218.0</td>\n",
       "      <td>1.414427</td>\n",
       "      <td>KJ</td>\n",
       "      <td>KJ08</td>\n",
       "      <td>38.224050</td>\n",
       "      <td>126.372253</td>\n",
       "      <td>...</td>\n",
       "      <td>0.580234</td>\n",
       "      <td>NaN</td>\n",
       "      <td>0.012359</td>\n",
       "      <td>24.0</td>\n",
       "      <td>159.671</td>\n",
       "      <td>267.290148</td>\n",
       "      <td>160.704179</td>\n",
       "      <td>150.29097</td>\n",
       "      <td>very_local_earthquake</td>\n",
       "      <td>NaN</td>\n",
       "    </tr>\n",
       "    <tr>\n",
       "      <th>270</th>\n",
       "      <td>270</td>\n",
       "      <td>2049</td>\n",
       "      <td>38.210484</td>\n",
       "      <td>126.376188</td>\n",
       "      <td>218.0</td>\n",
       "      <td>1.414427</td>\n",
       "      <td>KJ</td>\n",
       "      <td>KJ02</td>\n",
       "      <td>38.210773</td>\n",
       "      <td>126.401842</td>\n",
       "      <td>...</td>\n",
       "      <td>0.721065</td>\n",
       "      <td>NaN</td>\n",
       "      <td>0.012359</td>\n",
       "      <td>24.0</td>\n",
       "      <td>159.671</td>\n",
       "      <td>267.290148</td>\n",
       "      <td>160.704179</td>\n",
       "      <td>150.29097</td>\n",
       "      <td>very_local_earthquake</td>\n",
       "      <td>NaN</td>\n",
       "    </tr>\n",
       "    <tr>\n",
       "      <th>271</th>\n",
       "      <td>271</td>\n",
       "      <td>2049</td>\n",
       "      <td>38.210484</td>\n",
       "      <td>126.376188</td>\n",
       "      <td>218.0</td>\n",
       "      <td>1.414427</td>\n",
       "      <td>KJ</td>\n",
       "      <td>KJ09</td>\n",
       "      <td>38.224820</td>\n",
       "      <td>126.364433</td>\n",
       "      <td>...</td>\n",
       "      <td>0.686675</td>\n",
       "      <td>NaN</td>\n",
       "      <td>0.012359</td>\n",
       "      <td>24.0</td>\n",
       "      <td>159.671</td>\n",
       "      <td>267.290148</td>\n",
       "      <td>160.704179</td>\n",
       "      <td>150.29097</td>\n",
       "      <td>very_local_earthquake</td>\n",
       "      <td>NaN</td>\n",
       "    </tr>\n",
       "    <tr>\n",
       "      <th>272</th>\n",
       "      <td>272</td>\n",
       "      <td>2049</td>\n",
       "      <td>38.210484</td>\n",
       "      <td>126.376188</td>\n",
       "      <td>218.0</td>\n",
       "      <td>1.414427</td>\n",
       "      <td>KJ</td>\n",
       "      <td>KJ11</td>\n",
       "      <td>38.231774</td>\n",
       "      <td>126.372777</td>\n",
       "      <td>...</td>\n",
       "      <td>0.767830</td>\n",
       "      <td>NaN</td>\n",
       "      <td>0.012359</td>\n",
       "      <td>24.0</td>\n",
       "      <td>159.671</td>\n",
       "      <td>267.290148</td>\n",
       "      <td>160.704179</td>\n",
       "      <td>150.29097</td>\n",
       "      <td>very_local_earthquake</td>\n",
       "      <td>NaN</td>\n",
       "    </tr>\n",
       "    <tr>\n",
       "      <th>273</th>\n",
       "      <td>273</td>\n",
       "      <td>2049</td>\n",
       "      <td>38.210484</td>\n",
       "      <td>126.376188</td>\n",
       "      <td>218.0</td>\n",
       "      <td>1.414427</td>\n",
       "      <td>KJ</td>\n",
       "      <td>KJ01</td>\n",
       "      <td>38.192293</td>\n",
       "      <td>126.408419</td>\n",
       "      <td>...</td>\n",
       "      <td>0.773701</td>\n",
       "      <td>NaN</td>\n",
       "      <td>0.012359</td>\n",
       "      <td>24.0</td>\n",
       "      <td>159.671</td>\n",
       "      <td>267.290148</td>\n",
       "      <td>160.704179</td>\n",
       "      <td>150.29097</td>\n",
       "      <td>very_local_earthquake</td>\n",
       "      <td>NaN</td>\n",
       "    </tr>\n",
       "    <tr>\n",
       "      <th>274</th>\n",
       "      <td>274</td>\n",
       "      <td>2049</td>\n",
       "      <td>38.210484</td>\n",
       "      <td>126.376188</td>\n",
       "      <td>218.0</td>\n",
       "      <td>1.414427</td>\n",
       "      <td>KJ</td>\n",
       "      <td>KJ12</td>\n",
       "      <td>38.236119</td>\n",
       "      <td>126.366364</td>\n",
       "      <td>...</td>\n",
       "      <td>0.888177</td>\n",
       "      <td>NaN</td>\n",
       "      <td>0.012359</td>\n",
       "      <td>24.0</td>\n",
       "      <td>159.671</td>\n",
       "      <td>267.290148</td>\n",
       "      <td>160.704179</td>\n",
       "      <td>150.29097</td>\n",
       "      <td>very_local_earthquake</td>\n",
       "      <td>NaN</td>\n",
       "    </tr>\n",
       "    <tr>\n",
       "      <th>275</th>\n",
       "      <td>275</td>\n",
       "      <td>2049</td>\n",
       "      <td>38.210484</td>\n",
       "      <td>126.376188</td>\n",
       "      <td>218.0</td>\n",
       "      <td>1.414427</td>\n",
       "      <td>KJ</td>\n",
       "      <td>KJ13</td>\n",
       "      <td>38.240449</td>\n",
       "      <td>126.356779</td>\n",
       "      <td>...</td>\n",
       "      <td>0.969030</td>\n",
       "      <td>NaN</td>\n",
       "      <td>0.012359</td>\n",
       "      <td>24.0</td>\n",
       "      <td>159.671</td>\n",
       "      <td>267.290148</td>\n",
       "      <td>160.704179</td>\n",
       "      <td>150.29097</td>\n",
       "      <td>very_local_earthquake</td>\n",
       "      <td>NaN</td>\n",
       "    </tr>\n",
       "  </tbody>\n",
       "</table>\n",
       "<p>10 rows × 28 columns</p>\n",
       "</div>"
      ],
      "text/plain": [
       "     Unnamed: 0  source_id  source_lat  source_lon  source_depth_m  magnitude  \\\n",
       "266         266       2049   38.210484  126.376188           218.0   1.414427   \n",
       "267         267       2049   38.210484  126.376188           218.0   1.414427   \n",
       "268         268       2049   38.210484  126.376188           218.0   1.414427   \n",
       "269         269       2049   38.210484  126.376188           218.0   1.414427   \n",
       "270         270       2049   38.210484  126.376188           218.0   1.414427   \n",
       "271         271       2049   38.210484  126.376188           218.0   1.414427   \n",
       "272         272       2049   38.210484  126.376188           218.0   1.414427   \n",
       "273         273       2049   38.210484  126.376188           218.0   1.414427   \n",
       "274         274       2049   38.210484  126.376188           218.0   1.414427   \n",
       "275         275       2049   38.210484  126.376188           218.0   1.414427   \n",
       "\n",
       "    network_code station_code  station_lat  station_lon  ...  \\\n",
       "266           KJ         KJ06    38.212581   126.379951  ...   \n",
       "267           KJ         KJ05    38.203970   126.378906  ...   \n",
       "268           KJ         KJ07    38.220451   126.381069  ...   \n",
       "269           KJ         KJ08    38.224050   126.372253  ...   \n",
       "270           KJ         KJ02    38.210773   126.401842  ...   \n",
       "271           KJ         KJ09    38.224820   126.364433  ...   \n",
       "272           KJ         KJ11    38.231774   126.372777  ...   \n",
       "273           KJ         KJ01    38.192293   126.408419  ...   \n",
       "274           KJ         KJ12    38.236119   126.366364  ...   \n",
       "275           KJ         KJ13    38.240449   126.356779  ...   \n",
       "\n",
       "     s_p_lag_time_sec coda_time source_err_rms_s  n_phases gap_degree  \\\n",
       "266          0.458986       NaN         0.012359      24.0    159.671   \n",
       "267          0.519529       NaN         0.012359      24.0    159.671   \n",
       "268          0.553817       NaN         0.012359      24.0    159.671   \n",
       "269          0.580234       NaN         0.012359      24.0    159.671   \n",
       "270          0.721065       NaN         0.012359      24.0    159.671   \n",
       "271          0.686675       NaN         0.012359      24.0    159.671   \n",
       "272          0.767830       NaN         0.012359      24.0    159.671   \n",
       "273          0.773701       NaN         0.012359      24.0    159.671   \n",
       "274          0.888177       NaN         0.012359      24.0    159.671   \n",
       "275          0.969030       NaN         0.012359      24.0    159.671   \n",
       "\n",
       "    x_horizontal_err_m y_horizontal_err_m  z_depth_err_m  \\\n",
       "266         267.290148         160.704179      150.29097   \n",
       "267         267.290148         160.704179      150.29097   \n",
       "268         267.290148         160.704179      150.29097   \n",
       "269         267.290148         160.704179      150.29097   \n",
       "270         267.290148         160.704179      150.29097   \n",
       "271         267.290148         160.704179      150.29097   \n",
       "272         267.290148         160.704179      150.29097   \n",
       "273         267.290148         160.704179      150.29097   \n",
       "274         267.290148         160.704179      150.29097   \n",
       "275         267.290148         160.704179      150.29097   \n",
       "\n",
       "           earthquake_type  remarks  \n",
       "266  very_local_earthquake      NaN  \n",
       "267  very_local_earthquake      NaN  \n",
       "268  very_local_earthquake      NaN  \n",
       "269  very_local_earthquake      NaN  \n",
       "270  very_local_earthquake      NaN  \n",
       "271  very_local_earthquake      NaN  \n",
       "272  very_local_earthquake      NaN  \n",
       "273  very_local_earthquake      NaN  \n",
       "274  very_local_earthquake      NaN  \n",
       "275  very_local_earthquake      NaN  \n",
       "\n",
       "[10 rows x 28 columns]"
      ]
     },
     "execution_count": 12,
     "metadata": {},
     "output_type": "execute_result"
    }
   ],
   "source": [
    "# Trim and create new windowed `LqtAnalysis` class instance using `window_time` class method.\n",
    "windowed_lqt_df = lqt_ready_2.window_time('2024-04-01 00:00:00', '2024-05-01 00:00:00') # the return is a subset pandas DataFrame\n",
    "\n",
    "# And then, you can make new `LqtAnalysis` class instance object, this approach make sure you will not modify the original DataFrame so you are safe\n",
    "windowed_lqt_analysis = LqtAnalysis(windowed_lqt_df)\n",
    "windowed_lqt_analysis.head(10)"
   ]
  },
  {
   "cell_type": "markdown",
   "metadata": {},
   "source": [
    "**PLOTTING WITH TIME WINDOWED DATA**"
   ]
  },
  {
   "cell_type": "code",
   "execution_count": 13,
   "metadata": {},
   "outputs": [
    {
     "data": {
      "application/vnd.plotly.v1+json": {
       "config": {
        "plotlyServerURL": "https://plot.ly"
       },
       "data": [
        {
         "marker": {
          "color": "skyblue"
         },
         "name": "Intensity",
         "type": "bar",
         "x": [
          "2024_04_01",
          "2024_04_04",
          "2024_04_05",
          "2024_04_06",
          "2024_04_07",
          "2024_04_09",
          "2024_04_10",
          "2024_04_11",
          "2024_04_14",
          "2024_04_15",
          "2024_04_16",
          "2024_04_17",
          "2024_04_19",
          "2024_04_21",
          "2024_04_22",
          "2024_04_23",
          "2024_04_24",
          "2024_04_25",
          "2024_04_28",
          "2024_04_30"
         ],
         "y": [
          1,
          26,
          5,
          1,
          3,
          1,
          2,
          2,
          1,
          1,
          7,
          7,
          3,
          1,
          4,
          2,
          1,
          2,
          1,
          11
         ]
        }
       ],
       "layout": {
        "bargap": 0.2,
        "height": 720,
        "legend": {
         "bgcolor": "rgba(255,255,255,0.5)",
         "x": 0.99,
         "xanchor": "right",
         "y": 0.99,
         "yanchor": "top"
        },
        "showlegend": true,
        "template": {
         "data": {
          "bar": [
           {
            "error_x": {
             "color": "#2a3f5f"
            },
            "error_y": {
             "color": "#2a3f5f"
            },
            "marker": {
             "line": {
              "color": "white",
              "width": 0.5
             },
             "pattern": {
              "fillmode": "overlay",
              "size": 10,
              "solidity": 0.2
             }
            },
            "type": "bar"
           }
          ],
          "barpolar": [
           {
            "marker": {
             "line": {
              "color": "white",
              "width": 0.5
             },
             "pattern": {
              "fillmode": "overlay",
              "size": 10,
              "solidity": 0.2
             }
            },
            "type": "barpolar"
           }
          ],
          "carpet": [
           {
            "aaxis": {
             "endlinecolor": "#2a3f5f",
             "gridcolor": "#C8D4E3",
             "linecolor": "#C8D4E3",
             "minorgridcolor": "#C8D4E3",
             "startlinecolor": "#2a3f5f"
            },
            "baxis": {
             "endlinecolor": "#2a3f5f",
             "gridcolor": "#C8D4E3",
             "linecolor": "#C8D4E3",
             "minorgridcolor": "#C8D4E3",
             "startlinecolor": "#2a3f5f"
            },
            "type": "carpet"
           }
          ],
          "choropleth": [
           {
            "colorbar": {
             "outlinewidth": 0,
             "ticks": ""
            },
            "type": "choropleth"
           }
          ],
          "contour": [
           {
            "colorbar": {
             "outlinewidth": 0,
             "ticks": ""
            },
            "colorscale": [
             [
              0,
              "#0d0887"
             ],
             [
              0.1111111111111111,
              "#46039f"
             ],
             [
              0.2222222222222222,
              "#7201a8"
             ],
             [
              0.3333333333333333,
              "#9c179e"
             ],
             [
              0.4444444444444444,
              "#bd3786"
             ],
             [
              0.5555555555555556,
              "#d8576b"
             ],
             [
              0.6666666666666666,
              "#ed7953"
             ],
             [
              0.7777777777777778,
              "#fb9f3a"
             ],
             [
              0.8888888888888888,
              "#fdca26"
             ],
             [
              1,
              "#f0f921"
             ]
            ],
            "type": "contour"
           }
          ],
          "contourcarpet": [
           {
            "colorbar": {
             "outlinewidth": 0,
             "ticks": ""
            },
            "type": "contourcarpet"
           }
          ],
          "heatmap": [
           {
            "colorbar": {
             "outlinewidth": 0,
             "ticks": ""
            },
            "colorscale": [
             [
              0,
              "#0d0887"
             ],
             [
              0.1111111111111111,
              "#46039f"
             ],
             [
              0.2222222222222222,
              "#7201a8"
             ],
             [
              0.3333333333333333,
              "#9c179e"
             ],
             [
              0.4444444444444444,
              "#bd3786"
             ],
             [
              0.5555555555555556,
              "#d8576b"
             ],
             [
              0.6666666666666666,
              "#ed7953"
             ],
             [
              0.7777777777777778,
              "#fb9f3a"
             ],
             [
              0.8888888888888888,
              "#fdca26"
             ],
             [
              1,
              "#f0f921"
             ]
            ],
            "type": "heatmap"
           }
          ],
          "heatmapgl": [
           {
            "colorbar": {
             "outlinewidth": 0,
             "ticks": ""
            },
            "colorscale": [
             [
              0,
              "#0d0887"
             ],
             [
              0.1111111111111111,
              "#46039f"
             ],
             [
              0.2222222222222222,
              "#7201a8"
             ],
             [
              0.3333333333333333,
              "#9c179e"
             ],
             [
              0.4444444444444444,
              "#bd3786"
             ],
             [
              0.5555555555555556,
              "#d8576b"
             ],
             [
              0.6666666666666666,
              "#ed7953"
             ],
             [
              0.7777777777777778,
              "#fb9f3a"
             ],
             [
              0.8888888888888888,
              "#fdca26"
             ],
             [
              1,
              "#f0f921"
             ]
            ],
            "type": "heatmapgl"
           }
          ],
          "histogram": [
           {
            "marker": {
             "pattern": {
              "fillmode": "overlay",
              "size": 10,
              "solidity": 0.2
             }
            },
            "type": "histogram"
           }
          ],
          "histogram2d": [
           {
            "colorbar": {
             "outlinewidth": 0,
             "ticks": ""
            },
            "colorscale": [
             [
              0,
              "#0d0887"
             ],
             [
              0.1111111111111111,
              "#46039f"
             ],
             [
              0.2222222222222222,
              "#7201a8"
             ],
             [
              0.3333333333333333,
              "#9c179e"
             ],
             [
              0.4444444444444444,
              "#bd3786"
             ],
             [
              0.5555555555555556,
              "#d8576b"
             ],
             [
              0.6666666666666666,
              "#ed7953"
             ],
             [
              0.7777777777777778,
              "#fb9f3a"
             ],
             [
              0.8888888888888888,
              "#fdca26"
             ],
             [
              1,
              "#f0f921"
             ]
            ],
            "type": "histogram2d"
           }
          ],
          "histogram2dcontour": [
           {
            "colorbar": {
             "outlinewidth": 0,
             "ticks": ""
            },
            "colorscale": [
             [
              0,
              "#0d0887"
             ],
             [
              0.1111111111111111,
              "#46039f"
             ],
             [
              0.2222222222222222,
              "#7201a8"
             ],
             [
              0.3333333333333333,
              "#9c179e"
             ],
             [
              0.4444444444444444,
              "#bd3786"
             ],
             [
              0.5555555555555556,
              "#d8576b"
             ],
             [
              0.6666666666666666,
              "#ed7953"
             ],
             [
              0.7777777777777778,
              "#fb9f3a"
             ],
             [
              0.8888888888888888,
              "#fdca26"
             ],
             [
              1,
              "#f0f921"
             ]
            ],
            "type": "histogram2dcontour"
           }
          ],
          "mesh3d": [
           {
            "colorbar": {
             "outlinewidth": 0,
             "ticks": ""
            },
            "type": "mesh3d"
           }
          ],
          "parcoords": [
           {
            "line": {
             "colorbar": {
              "outlinewidth": 0,
              "ticks": ""
             }
            },
            "type": "parcoords"
           }
          ],
          "pie": [
           {
            "automargin": true,
            "type": "pie"
           }
          ],
          "scatter": [
           {
            "fillpattern": {
             "fillmode": "overlay",
             "size": 10,
             "solidity": 0.2
            },
            "type": "scatter"
           }
          ],
          "scatter3d": [
           {
            "line": {
             "colorbar": {
              "outlinewidth": 0,
              "ticks": ""
             }
            },
            "marker": {
             "colorbar": {
              "outlinewidth": 0,
              "ticks": ""
             }
            },
            "type": "scatter3d"
           }
          ],
          "scattercarpet": [
           {
            "marker": {
             "colorbar": {
              "outlinewidth": 0,
              "ticks": ""
             }
            },
            "type": "scattercarpet"
           }
          ],
          "scattergeo": [
           {
            "marker": {
             "colorbar": {
              "outlinewidth": 0,
              "ticks": ""
             }
            },
            "type": "scattergeo"
           }
          ],
          "scattergl": [
           {
            "marker": {
             "colorbar": {
              "outlinewidth": 0,
              "ticks": ""
             }
            },
            "type": "scattergl"
           }
          ],
          "scattermapbox": [
           {
            "marker": {
             "colorbar": {
              "outlinewidth": 0,
              "ticks": ""
             }
            },
            "type": "scattermapbox"
           }
          ],
          "scatterpolar": [
           {
            "marker": {
             "colorbar": {
              "outlinewidth": 0,
              "ticks": ""
             }
            },
            "type": "scatterpolar"
           }
          ],
          "scatterpolargl": [
           {
            "marker": {
             "colorbar": {
              "outlinewidth": 0,
              "ticks": ""
             }
            },
            "type": "scatterpolargl"
           }
          ],
          "scatterternary": [
           {
            "marker": {
             "colorbar": {
              "outlinewidth": 0,
              "ticks": ""
             }
            },
            "type": "scatterternary"
           }
          ],
          "surface": [
           {
            "colorbar": {
             "outlinewidth": 0,
             "ticks": ""
            },
            "colorscale": [
             [
              0,
              "#0d0887"
             ],
             [
              0.1111111111111111,
              "#46039f"
             ],
             [
              0.2222222222222222,
              "#7201a8"
             ],
             [
              0.3333333333333333,
              "#9c179e"
             ],
             [
              0.4444444444444444,
              "#bd3786"
             ],
             [
              0.5555555555555556,
              "#d8576b"
             ],
             [
              0.6666666666666666,
              "#ed7953"
             ],
             [
              0.7777777777777778,
              "#fb9f3a"
             ],
             [
              0.8888888888888888,
              "#fdca26"
             ],
             [
              1,
              "#f0f921"
             ]
            ],
            "type": "surface"
           }
          ],
          "table": [
           {
            "cells": {
             "fill": {
              "color": "#EBF0F8"
             },
             "line": {
              "color": "white"
             }
            },
            "header": {
             "fill": {
              "color": "#C8D4E3"
             },
             "line": {
              "color": "white"
             }
            },
            "type": "table"
           }
          ]
         },
         "layout": {
          "annotationdefaults": {
           "arrowcolor": "#2a3f5f",
           "arrowhead": 0,
           "arrowwidth": 1
          },
          "autotypenumbers": "strict",
          "coloraxis": {
           "colorbar": {
            "outlinewidth": 0,
            "ticks": ""
           }
          },
          "colorscale": {
           "diverging": [
            [
             0,
             "#8e0152"
            ],
            [
             0.1,
             "#c51b7d"
            ],
            [
             0.2,
             "#de77ae"
            ],
            [
             0.3,
             "#f1b6da"
            ],
            [
             0.4,
             "#fde0ef"
            ],
            [
             0.5,
             "#f7f7f7"
            ],
            [
             0.6,
             "#e6f5d0"
            ],
            [
             0.7,
             "#b8e186"
            ],
            [
             0.8,
             "#7fbc41"
            ],
            [
             0.9,
             "#4d9221"
            ],
            [
             1,
             "#276419"
            ]
           ],
           "sequential": [
            [
             0,
             "#0d0887"
            ],
            [
             0.1111111111111111,
             "#46039f"
            ],
            [
             0.2222222222222222,
             "#7201a8"
            ],
            [
             0.3333333333333333,
             "#9c179e"
            ],
            [
             0.4444444444444444,
             "#bd3786"
            ],
            [
             0.5555555555555556,
             "#d8576b"
            ],
            [
             0.6666666666666666,
             "#ed7953"
            ],
            [
             0.7777777777777778,
             "#fb9f3a"
            ],
            [
             0.8888888888888888,
             "#fdca26"
            ],
            [
             1,
             "#f0f921"
            ]
           ],
           "sequentialminus": [
            [
             0,
             "#0d0887"
            ],
            [
             0.1111111111111111,
             "#46039f"
            ],
            [
             0.2222222222222222,
             "#7201a8"
            ],
            [
             0.3333333333333333,
             "#9c179e"
            ],
            [
             0.4444444444444444,
             "#bd3786"
            ],
            [
             0.5555555555555556,
             "#d8576b"
            ],
            [
             0.6666666666666666,
             "#ed7953"
            ],
            [
             0.7777777777777778,
             "#fb9f3a"
            ],
            [
             0.8888888888888888,
             "#fdca26"
            ],
            [
             1,
             "#f0f921"
            ]
           ]
          },
          "colorway": [
           "#636efa",
           "#EF553B",
           "#00cc96",
           "#ab63fa",
           "#FFA15A",
           "#19d3f3",
           "#FF6692",
           "#B6E880",
           "#FF97FF",
           "#FECB52"
          ],
          "font": {
           "color": "#2a3f5f"
          },
          "geo": {
           "bgcolor": "white",
           "lakecolor": "white",
           "landcolor": "white",
           "showlakes": true,
           "showland": true,
           "subunitcolor": "#C8D4E3"
          },
          "hoverlabel": {
           "align": "left"
          },
          "hovermode": "closest",
          "mapbox": {
           "style": "light"
          },
          "paper_bgcolor": "white",
          "plot_bgcolor": "white",
          "polar": {
           "angularaxis": {
            "gridcolor": "#EBF0F8",
            "linecolor": "#EBF0F8",
            "ticks": ""
           },
           "bgcolor": "white",
           "radialaxis": {
            "gridcolor": "#EBF0F8",
            "linecolor": "#EBF0F8",
            "ticks": ""
           }
          },
          "scene": {
           "xaxis": {
            "backgroundcolor": "white",
            "gridcolor": "#DFE8F3",
            "gridwidth": 2,
            "linecolor": "#EBF0F8",
            "showbackground": true,
            "ticks": "",
            "zerolinecolor": "#EBF0F8"
           },
           "yaxis": {
            "backgroundcolor": "white",
            "gridcolor": "#DFE8F3",
            "gridwidth": 2,
            "linecolor": "#EBF0F8",
            "showbackground": true,
            "ticks": "",
            "zerolinecolor": "#EBF0F8"
           },
           "zaxis": {
            "backgroundcolor": "white",
            "gridcolor": "#DFE8F3",
            "gridwidth": 2,
            "linecolor": "#EBF0F8",
            "showbackground": true,
            "ticks": "",
            "zerolinecolor": "#EBF0F8"
           }
          },
          "shapedefaults": {
           "line": {
            "color": "#2a3f5f"
           }
          },
          "ternary": {
           "aaxis": {
            "gridcolor": "#DFE8F3",
            "linecolor": "#A2B1C6",
            "ticks": ""
           },
           "baxis": {
            "gridcolor": "#DFE8F3",
            "linecolor": "#A2B1C6",
            "ticks": ""
           },
           "bgcolor": "white",
           "caxis": {
            "gridcolor": "#DFE8F3",
            "linecolor": "#A2B1C6",
            "ticks": ""
           }
          },
          "title": {
           "x": 0.05
          },
          "xaxis": {
           "automargin": true,
           "gridcolor": "#EBF0F8",
           "linecolor": "#EBF0F8",
           "ticks": "",
           "title": {
            "standoff": 15
           },
           "zerolinecolor": "#EBF0F8",
           "zerolinewidth": 2
          },
          "yaxis": {
           "automargin": true,
           "gridcolor": "#EBF0F8",
           "linecolor": "#EBF0F8",
           "ticks": "",
           "title": {
            "standoff": 15
           },
           "zerolinecolor": "#EBF0F8",
           "zerolinewidth": 2
          }
         }
        },
        "title": {
         "text": "Histogram of Earthquakes intensity (Daily)"
        },
        "width": 960,
        "xaxis": {
         "tickangle": 45,
         "title": {
          "text": "Daily Intensities"
         }
        },
        "yaxis": {
         "title": {
          "text": "Count"
         }
        }
       }
      }
     },
     "metadata": {},
     "output_type": "display_data"
    }
   ],
   "source": [
    "# Plot new daily intensities using the windowed dataframe\n",
    "windowed_lqt_analysis.plot_intensity(interval='daily')"
   ]
  },
  {
   "cell_type": "markdown",
   "metadata": {},
   "source": [
    "For `hourly` intensities, you may want even more detailed insights, so at this resolution, it's reasonable to window your data to a narrower range, for example, just 2 days."
   ]
  },
  {
   "cell_type": "code",
   "execution_count": 14,
   "metadata": {},
   "outputs": [
    {
     "data": {
      "application/vnd.plotly.v1+json": {
       "config": {
        "plotlyServerURL": "https://plot.ly"
       },
       "data": [
        {
         "marker": {
          "color": "skyblue"
         },
         "name": "Intensity",
         "type": "bar",
         "x": [
          "2024_04_01 : 00:--:--",
          "2024_04_04 : 04:--:--",
          "2024_04_04 : 05:--:--",
          "2024_04_04 : 14:--:--",
          "2024_04_04 : 18:--:--",
          "2024_04_04 : 19:--:--",
          "2024_04_05 : 00:--:--",
          "2024_04_05 : 05:--:--",
          "2024_04_05 : 17:--:--",
          "2024_04_05 : 19:--:--",
          "2024_04_06 : 15:--:--",
          "2024_04_07 : 03:--:--",
          "2024_04_07 : 23:--:--",
          "2024_04_09 : 04:--:--",
          "2024_04_10 : 03:--:--",
          "2024_04_10 : 07:--:--",
          "2024_04_11 : 18:--:--",
          "2024_04_11 : 22:--:--",
          "2024_04_14 : 07:--:--",
          "2024_04_15 : 14:--:--",
          "2024_04_16 : 11:--:--",
          "2024_04_16 : 12:--:--",
          "2024_04_16 : 19:--:--",
          "2024_04_16 : 20:--:--",
          "2024_04_17 : 07:--:--",
          "2024_04_17 : 08:--:--",
          "2024_04_19 : 17:--:--",
          "2024_04_19 : 20:--:--",
          "2024_04_21 : 09:--:--",
          "2024_04_22 : 04:--:--",
          "2024_04_22 : 23:--:--",
          "2024_04_23 : 00:--:--",
          "2024_04_23 : 20:--:--",
          "2024_04_24 : 20:--:--",
          "2024_04_25 : 07:--:--",
          "2024_04_25 : 15:--:--",
          "2024_04_28 : 00:--:--",
          "2024_04_30 : 02:--:--",
          "2024_04_30 : 05:--:--",
          "2024_04_30 : 10:--:--",
          "2024_04_30 : 19:--:--"
         ],
         "y": [
          1,
          11,
          5,
          5,
          4,
          1,
          1,
          2,
          1,
          1,
          1,
          1,
          2,
          1,
          1,
          1,
          1,
          1,
          1,
          1,
          1,
          1,
          2,
          3,
          2,
          5,
          1,
          2,
          1,
          3,
          1,
          1,
          1,
          1,
          1,
          1,
          1,
          4,
          1,
          4,
          2
         ]
        }
       ],
       "layout": {
        "bargap": 0.2,
        "height": 720,
        "legend": {
         "bgcolor": "rgba(255,255,255,0.5)",
         "x": 0.99,
         "xanchor": "right",
         "y": 0.99,
         "yanchor": "top"
        },
        "showlegend": true,
        "template": {
         "data": {
          "bar": [
           {
            "error_x": {
             "color": "#2a3f5f"
            },
            "error_y": {
             "color": "#2a3f5f"
            },
            "marker": {
             "line": {
              "color": "white",
              "width": 0.5
             },
             "pattern": {
              "fillmode": "overlay",
              "size": 10,
              "solidity": 0.2
             }
            },
            "type": "bar"
           }
          ],
          "barpolar": [
           {
            "marker": {
             "line": {
              "color": "white",
              "width": 0.5
             },
             "pattern": {
              "fillmode": "overlay",
              "size": 10,
              "solidity": 0.2
             }
            },
            "type": "barpolar"
           }
          ],
          "carpet": [
           {
            "aaxis": {
             "endlinecolor": "#2a3f5f",
             "gridcolor": "#C8D4E3",
             "linecolor": "#C8D4E3",
             "minorgridcolor": "#C8D4E3",
             "startlinecolor": "#2a3f5f"
            },
            "baxis": {
             "endlinecolor": "#2a3f5f",
             "gridcolor": "#C8D4E3",
             "linecolor": "#C8D4E3",
             "minorgridcolor": "#C8D4E3",
             "startlinecolor": "#2a3f5f"
            },
            "type": "carpet"
           }
          ],
          "choropleth": [
           {
            "colorbar": {
             "outlinewidth": 0,
             "ticks": ""
            },
            "type": "choropleth"
           }
          ],
          "contour": [
           {
            "colorbar": {
             "outlinewidth": 0,
             "ticks": ""
            },
            "colorscale": [
             [
              0,
              "#0d0887"
             ],
             [
              0.1111111111111111,
              "#46039f"
             ],
             [
              0.2222222222222222,
              "#7201a8"
             ],
             [
              0.3333333333333333,
              "#9c179e"
             ],
             [
              0.4444444444444444,
              "#bd3786"
             ],
             [
              0.5555555555555556,
              "#d8576b"
             ],
             [
              0.6666666666666666,
              "#ed7953"
             ],
             [
              0.7777777777777778,
              "#fb9f3a"
             ],
             [
              0.8888888888888888,
              "#fdca26"
             ],
             [
              1,
              "#f0f921"
             ]
            ],
            "type": "contour"
           }
          ],
          "contourcarpet": [
           {
            "colorbar": {
             "outlinewidth": 0,
             "ticks": ""
            },
            "type": "contourcarpet"
           }
          ],
          "heatmap": [
           {
            "colorbar": {
             "outlinewidth": 0,
             "ticks": ""
            },
            "colorscale": [
             [
              0,
              "#0d0887"
             ],
             [
              0.1111111111111111,
              "#46039f"
             ],
             [
              0.2222222222222222,
              "#7201a8"
             ],
             [
              0.3333333333333333,
              "#9c179e"
             ],
             [
              0.4444444444444444,
              "#bd3786"
             ],
             [
              0.5555555555555556,
              "#d8576b"
             ],
             [
              0.6666666666666666,
              "#ed7953"
             ],
             [
              0.7777777777777778,
              "#fb9f3a"
             ],
             [
              0.8888888888888888,
              "#fdca26"
             ],
             [
              1,
              "#f0f921"
             ]
            ],
            "type": "heatmap"
           }
          ],
          "heatmapgl": [
           {
            "colorbar": {
             "outlinewidth": 0,
             "ticks": ""
            },
            "colorscale": [
             [
              0,
              "#0d0887"
             ],
             [
              0.1111111111111111,
              "#46039f"
             ],
             [
              0.2222222222222222,
              "#7201a8"
             ],
             [
              0.3333333333333333,
              "#9c179e"
             ],
             [
              0.4444444444444444,
              "#bd3786"
             ],
             [
              0.5555555555555556,
              "#d8576b"
             ],
             [
              0.6666666666666666,
              "#ed7953"
             ],
             [
              0.7777777777777778,
              "#fb9f3a"
             ],
             [
              0.8888888888888888,
              "#fdca26"
             ],
             [
              1,
              "#f0f921"
             ]
            ],
            "type": "heatmapgl"
           }
          ],
          "histogram": [
           {
            "marker": {
             "pattern": {
              "fillmode": "overlay",
              "size": 10,
              "solidity": 0.2
             }
            },
            "type": "histogram"
           }
          ],
          "histogram2d": [
           {
            "colorbar": {
             "outlinewidth": 0,
             "ticks": ""
            },
            "colorscale": [
             [
              0,
              "#0d0887"
             ],
             [
              0.1111111111111111,
              "#46039f"
             ],
             [
              0.2222222222222222,
              "#7201a8"
             ],
             [
              0.3333333333333333,
              "#9c179e"
             ],
             [
              0.4444444444444444,
              "#bd3786"
             ],
             [
              0.5555555555555556,
              "#d8576b"
             ],
             [
              0.6666666666666666,
              "#ed7953"
             ],
             [
              0.7777777777777778,
              "#fb9f3a"
             ],
             [
              0.8888888888888888,
              "#fdca26"
             ],
             [
              1,
              "#f0f921"
             ]
            ],
            "type": "histogram2d"
           }
          ],
          "histogram2dcontour": [
           {
            "colorbar": {
             "outlinewidth": 0,
             "ticks": ""
            },
            "colorscale": [
             [
              0,
              "#0d0887"
             ],
             [
              0.1111111111111111,
              "#46039f"
             ],
             [
              0.2222222222222222,
              "#7201a8"
             ],
             [
              0.3333333333333333,
              "#9c179e"
             ],
             [
              0.4444444444444444,
              "#bd3786"
             ],
             [
              0.5555555555555556,
              "#d8576b"
             ],
             [
              0.6666666666666666,
              "#ed7953"
             ],
             [
              0.7777777777777778,
              "#fb9f3a"
             ],
             [
              0.8888888888888888,
              "#fdca26"
             ],
             [
              1,
              "#f0f921"
             ]
            ],
            "type": "histogram2dcontour"
           }
          ],
          "mesh3d": [
           {
            "colorbar": {
             "outlinewidth": 0,
             "ticks": ""
            },
            "type": "mesh3d"
           }
          ],
          "parcoords": [
           {
            "line": {
             "colorbar": {
              "outlinewidth": 0,
              "ticks": ""
             }
            },
            "type": "parcoords"
           }
          ],
          "pie": [
           {
            "automargin": true,
            "type": "pie"
           }
          ],
          "scatter": [
           {
            "fillpattern": {
             "fillmode": "overlay",
             "size": 10,
             "solidity": 0.2
            },
            "type": "scatter"
           }
          ],
          "scatter3d": [
           {
            "line": {
             "colorbar": {
              "outlinewidth": 0,
              "ticks": ""
             }
            },
            "marker": {
             "colorbar": {
              "outlinewidth": 0,
              "ticks": ""
             }
            },
            "type": "scatter3d"
           }
          ],
          "scattercarpet": [
           {
            "marker": {
             "colorbar": {
              "outlinewidth": 0,
              "ticks": ""
             }
            },
            "type": "scattercarpet"
           }
          ],
          "scattergeo": [
           {
            "marker": {
             "colorbar": {
              "outlinewidth": 0,
              "ticks": ""
             }
            },
            "type": "scattergeo"
           }
          ],
          "scattergl": [
           {
            "marker": {
             "colorbar": {
              "outlinewidth": 0,
              "ticks": ""
             }
            },
            "type": "scattergl"
           }
          ],
          "scattermapbox": [
           {
            "marker": {
             "colorbar": {
              "outlinewidth": 0,
              "ticks": ""
             }
            },
            "type": "scattermapbox"
           }
          ],
          "scatterpolar": [
           {
            "marker": {
             "colorbar": {
              "outlinewidth": 0,
              "ticks": ""
             }
            },
            "type": "scatterpolar"
           }
          ],
          "scatterpolargl": [
           {
            "marker": {
             "colorbar": {
              "outlinewidth": 0,
              "ticks": ""
             }
            },
            "type": "scatterpolargl"
           }
          ],
          "scatterternary": [
           {
            "marker": {
             "colorbar": {
              "outlinewidth": 0,
              "ticks": ""
             }
            },
            "type": "scatterternary"
           }
          ],
          "surface": [
           {
            "colorbar": {
             "outlinewidth": 0,
             "ticks": ""
            },
            "colorscale": [
             [
              0,
              "#0d0887"
             ],
             [
              0.1111111111111111,
              "#46039f"
             ],
             [
              0.2222222222222222,
              "#7201a8"
             ],
             [
              0.3333333333333333,
              "#9c179e"
             ],
             [
              0.4444444444444444,
              "#bd3786"
             ],
             [
              0.5555555555555556,
              "#d8576b"
             ],
             [
              0.6666666666666666,
              "#ed7953"
             ],
             [
              0.7777777777777778,
              "#fb9f3a"
             ],
             [
              0.8888888888888888,
              "#fdca26"
             ],
             [
              1,
              "#f0f921"
             ]
            ],
            "type": "surface"
           }
          ],
          "table": [
           {
            "cells": {
             "fill": {
              "color": "#EBF0F8"
             },
             "line": {
              "color": "white"
             }
            },
            "header": {
             "fill": {
              "color": "#C8D4E3"
             },
             "line": {
              "color": "white"
             }
            },
            "type": "table"
           }
          ]
         },
         "layout": {
          "annotationdefaults": {
           "arrowcolor": "#2a3f5f",
           "arrowhead": 0,
           "arrowwidth": 1
          },
          "autotypenumbers": "strict",
          "coloraxis": {
           "colorbar": {
            "outlinewidth": 0,
            "ticks": ""
           }
          },
          "colorscale": {
           "diverging": [
            [
             0,
             "#8e0152"
            ],
            [
             0.1,
             "#c51b7d"
            ],
            [
             0.2,
             "#de77ae"
            ],
            [
             0.3,
             "#f1b6da"
            ],
            [
             0.4,
             "#fde0ef"
            ],
            [
             0.5,
             "#f7f7f7"
            ],
            [
             0.6,
             "#e6f5d0"
            ],
            [
             0.7,
             "#b8e186"
            ],
            [
             0.8,
             "#7fbc41"
            ],
            [
             0.9,
             "#4d9221"
            ],
            [
             1,
             "#276419"
            ]
           ],
           "sequential": [
            [
             0,
             "#0d0887"
            ],
            [
             0.1111111111111111,
             "#46039f"
            ],
            [
             0.2222222222222222,
             "#7201a8"
            ],
            [
             0.3333333333333333,
             "#9c179e"
            ],
            [
             0.4444444444444444,
             "#bd3786"
            ],
            [
             0.5555555555555556,
             "#d8576b"
            ],
            [
             0.6666666666666666,
             "#ed7953"
            ],
            [
             0.7777777777777778,
             "#fb9f3a"
            ],
            [
             0.8888888888888888,
             "#fdca26"
            ],
            [
             1,
             "#f0f921"
            ]
           ],
           "sequentialminus": [
            [
             0,
             "#0d0887"
            ],
            [
             0.1111111111111111,
             "#46039f"
            ],
            [
             0.2222222222222222,
             "#7201a8"
            ],
            [
             0.3333333333333333,
             "#9c179e"
            ],
            [
             0.4444444444444444,
             "#bd3786"
            ],
            [
             0.5555555555555556,
             "#d8576b"
            ],
            [
             0.6666666666666666,
             "#ed7953"
            ],
            [
             0.7777777777777778,
             "#fb9f3a"
            ],
            [
             0.8888888888888888,
             "#fdca26"
            ],
            [
             1,
             "#f0f921"
            ]
           ]
          },
          "colorway": [
           "#636efa",
           "#EF553B",
           "#00cc96",
           "#ab63fa",
           "#FFA15A",
           "#19d3f3",
           "#FF6692",
           "#B6E880",
           "#FF97FF",
           "#FECB52"
          ],
          "font": {
           "color": "#2a3f5f"
          },
          "geo": {
           "bgcolor": "white",
           "lakecolor": "white",
           "landcolor": "white",
           "showlakes": true,
           "showland": true,
           "subunitcolor": "#C8D4E3"
          },
          "hoverlabel": {
           "align": "left"
          },
          "hovermode": "closest",
          "mapbox": {
           "style": "light"
          },
          "paper_bgcolor": "white",
          "plot_bgcolor": "white",
          "polar": {
           "angularaxis": {
            "gridcolor": "#EBF0F8",
            "linecolor": "#EBF0F8",
            "ticks": ""
           },
           "bgcolor": "white",
           "radialaxis": {
            "gridcolor": "#EBF0F8",
            "linecolor": "#EBF0F8",
            "ticks": ""
           }
          },
          "scene": {
           "xaxis": {
            "backgroundcolor": "white",
            "gridcolor": "#DFE8F3",
            "gridwidth": 2,
            "linecolor": "#EBF0F8",
            "showbackground": true,
            "ticks": "",
            "zerolinecolor": "#EBF0F8"
           },
           "yaxis": {
            "backgroundcolor": "white",
            "gridcolor": "#DFE8F3",
            "gridwidth": 2,
            "linecolor": "#EBF0F8",
            "showbackground": true,
            "ticks": "",
            "zerolinecolor": "#EBF0F8"
           },
           "zaxis": {
            "backgroundcolor": "white",
            "gridcolor": "#DFE8F3",
            "gridwidth": 2,
            "linecolor": "#EBF0F8",
            "showbackground": true,
            "ticks": "",
            "zerolinecolor": "#EBF0F8"
           }
          },
          "shapedefaults": {
           "line": {
            "color": "#2a3f5f"
           }
          },
          "ternary": {
           "aaxis": {
            "gridcolor": "#DFE8F3",
            "linecolor": "#A2B1C6",
            "ticks": ""
           },
           "baxis": {
            "gridcolor": "#DFE8F3",
            "linecolor": "#A2B1C6",
            "ticks": ""
           },
           "bgcolor": "white",
           "caxis": {
            "gridcolor": "#DFE8F3",
            "linecolor": "#A2B1C6",
            "ticks": ""
           }
          },
          "title": {
           "x": 0.05
          },
          "xaxis": {
           "automargin": true,
           "gridcolor": "#EBF0F8",
           "linecolor": "#EBF0F8",
           "ticks": "",
           "title": {
            "standoff": 15
           },
           "zerolinecolor": "#EBF0F8",
           "zerolinewidth": 2
          },
          "yaxis": {
           "automargin": true,
           "gridcolor": "#EBF0F8",
           "linecolor": "#EBF0F8",
           "ticks": "",
           "title": {
            "standoff": 15
           },
           "zerolinecolor": "#EBF0F8",
           "zerolinewidth": 2
          }
         }
        },
        "title": {
         "text": "Histogram of Earthquakes intensity (Hourly)"
        },
        "width": 960,
        "xaxis": {
         "tickangle": 45,
         "title": {
          "text": "Hourly Intensities"
         }
        },
        "yaxis": {
         "title": {
          "text": "Count"
         }
        }
       }
      }
     },
     "metadata": {},
     "output_type": "display_data"
    }
   ],
   "source": [
    "# Trim and create new windowed `LqtAnalysis` class instance using `window_time` class method.\n",
    "windowed_lqt_df_2 = lqt_ready_2.window_time('2024-04-01 00:00:00', '2024-04-03 00:00:00')\n",
    "windowed_lqt_analysis_2 = LqtAnalysis(windowed_lqt_df)\n",
    "\n",
    "# Plot new daily intensities using the windowed dataframe\n",
    "windowed_lqt_analysis_2.plot_intensity(interval='hourly')"
   ]
  },
  {
   "cell_type": "markdown",
   "metadata": {},
   "source": [
    "### 7. Gutenberg-Richter Analysis\n",
    "\n",
    "Creating a Gutenberg-Richter plot is useful tools for understanding the relationship between earthquake magnitude and the frequency of earthquake occurrences. From this plot, we can derive the `b-value`, `a-value`, and `magnitude completeness`, which are crucial for interpreting the data, assessing seismic hazard, and evaluating the perceptibility of the sensors used for magnitude monitoring.\n",
    "\n",
    "To do this, `LqtAnalysis` class provides the `gutenberg_richter` method, which performs the calculations, creates the plot, and fits the trend-line automatically with systematic search."
   ]
  },
  {
   "cell_type": "code",
   "execution_count": 15,
   "metadata": {},
   "outputs": [
    {
     "data": {
      "application/vnd.plotly.v1+json": {
       "config": {
        "plotlyServerURL": "https://plot.ly"
       },
       "data": [
        {
         "hovertemplate": "Magnitude: %{x:.3f}<br>Log10(Count): %{y:.2f}",
         "marker": {
          "color": "blue",
          "size": 8,
          "symbol": "circle"
         },
         "mode": "markers",
         "name": "Cumulative (N >= M)",
         "type": "scatter",
         "x": [
          -0.5,
          -0.4,
          -0.30000000000000004,
          -0.20000000000000007,
          -0.10000000000000009,
          -1.1102230246251565e-16,
          0.09999999999999987,
          0.19999999999999984,
          0.2999999999999998,
          0.3999999999999998,
          0.4999999999999998,
          0.5999999999999996,
          0.6999999999999997,
          0.7999999999999998,
          0.8999999999999997,
          0.9999999999999996,
          1.0999999999999996,
          1.1999999999999997,
          1.2999999999999996,
          1.3999999999999995,
          1.4999999999999996,
          1.5999999999999996,
          1.6999999999999993,
          1.7999999999999994,
          1.8999999999999995,
          1.9999999999999996,
          2.0999999999999996
         ],
         "y": [
          2.884228769632604,
          2.884228769632604,
          2.884228769632604,
          2.884228769632604,
          2.8785217955012063,
          2.8686444383948255,
          2.857935264719429,
          2.8394780473741985,
          2.8095597146352675,
          2.7489628612561616,
          2.6866362692622934,
          2.5888317255942073,
          2.48572142648158,
          2.3541084391474008,
          2.220108088040055,
          2.0530784434834195,
          1.9084850188786497,
          1.8129133566428555,
          1.6434526764861874,
          1.462397997898956,
          1.255272505103306,
          1.146128035678238,
          0.8450980400142568,
          0.6020599913279624,
          0.6020599913279624,
          0.6020599913279624,
          0.3010299956639812
         ]
        },
        {
         "hovertemplate": "Magnitude: %{x:.3f}<br>Log10(Count): %{y:.2f}",
         "marker": {
          "color": "green",
          "size": 8,
          "symbol": "triangle-up"
         },
         "mode": "markers",
         "name": "Non-Cumulative (per bin)",
         "type": "scatter",
         "x": [
          -0.15000000000000008,
          -0.050000000000000086,
          0.04999999999999989,
          0.14999999999999986,
          0.24999999999999983,
          0.3499999999999998,
          0.4499999999999998,
          0.5499999999999998,
          0.6499999999999997,
          0.7499999999999998,
          0.8499999999999999,
          0.9499999999999997,
          1.0499999999999996,
          1.1499999999999997,
          1.2499999999999998,
          1.3499999999999996,
          1.4499999999999995,
          1.5499999999999996,
          1.6499999999999997,
          1.7499999999999993,
          2.0499999999999994,
          2.1499999999999995
         ],
         "y": [
          1,
          1.2304489213782739,
          1.255272505103306,
          1.4771212547196624,
          1.662757831681574,
          1.9242792860618816,
          1.8750612633917,
          1.9912260756924949,
          1.9138138523837167,
          1.9030899869919435,
          1.7781512503836436,
          1.724275869600789,
          1.505149978319906,
          1.2041199826559248,
          1.3222192947339193,
          1.1760912590556813,
          1.0413926851582251,
          0.6020599913279624,
          0.8450980400142568,
          0.47712125471966244,
          0.3010299956639812,
          0.3010299956639812
         ]
        },
        {
         "line": {
          "color": "red"
         },
         "mode": "lines",
         "name": "Fit: b_val=1.57, a_val = 3.61, R^2 = 0.98",
         "type": "scatter",
         "x": [
          -0.5,
          -0.4,
          -0.30000000000000004,
          -0.20000000000000007,
          -0.10000000000000009,
          -1.1102230246251565e-16,
          0.09999999999999987,
          0.19999999999999984,
          0.2999999999999998,
          0.3999999999999998,
          0.4999999999999998,
          0.5999999999999996,
          0.6999999999999997,
          0.7999999999999998,
          0.8999999999999997,
          0.9999999999999996,
          1.0999999999999996,
          1.1999999999999997,
          1.2999999999999996,
          1.3999999999999995,
          1.4999999999999996,
          1.5999999999999996,
          1.6999999999999993,
          1.7999999999999994,
          1.8999999999999995,
          1.9999999999999996,
          2.0999999999999996
         ],
         "y": [
          4.397208423066363,
          4.2402066357489145,
          4.083204848431466,
          3.926203061114017,
          3.7692012737965683,
          3.6121994864791196,
          3.455197699161671,
          3.298195911844222,
          3.1411941245267734,
          2.9841923372093246,
          2.827190549891876,
          2.670188762574427,
          2.5131869752569784,
          2.3561851879395297,
          2.199183400622081,
          2.042181613304632,
          1.8851798259871833,
          1.7281780386697343,
          1.5711762513522856,
          1.4141744640348373,
          1.257172676717388,
          1.1001708893999393,
          0.943169102082491,
          0.7861673147650419,
          0.6291655274475931,
          0.4721637401301444,
          0.3151619528126952
         ]
        },
        {
         "hovertemplate": "<b>Magnitude Completeness</b><br>Log10(N >= M): %{y:.2f}<br>Magnitude: %{x:.2f}<extra></extra>",
         "marker": {
          "color": "red",
          "size": 12,
          "symbol": "triangle-down"
         },
         "mode": "markers+text",
         "name": "Magnitude Completeness: 0.60",
         "text": "MC",
         "textfont": {
          "color": "#333333",
          "size": 12
         },
         "textposition": "top center",
         "type": "scatter",
         "x": [
          0.5999999999999996
         ],
         "y": [
          2.670188762574427
         ]
        }
       ],
       "layout": {
        "height": 720,
        "legend": {
         "bgcolor": "rgba(255,255,255,0.5)",
         "x": 0.99,
         "xanchor": "right",
         "y": 0.99,
         "yanchor": "top"
        },
        "showlegend": true,
        "template": {
         "data": {
          "bar": [
           {
            "error_x": {
             "color": "#2a3f5f"
            },
            "error_y": {
             "color": "#2a3f5f"
            },
            "marker": {
             "line": {
              "color": "white",
              "width": 0.5
             },
             "pattern": {
              "fillmode": "overlay",
              "size": 10,
              "solidity": 0.2
             }
            },
            "type": "bar"
           }
          ],
          "barpolar": [
           {
            "marker": {
             "line": {
              "color": "white",
              "width": 0.5
             },
             "pattern": {
              "fillmode": "overlay",
              "size": 10,
              "solidity": 0.2
             }
            },
            "type": "barpolar"
           }
          ],
          "carpet": [
           {
            "aaxis": {
             "endlinecolor": "#2a3f5f",
             "gridcolor": "#C8D4E3",
             "linecolor": "#C8D4E3",
             "minorgridcolor": "#C8D4E3",
             "startlinecolor": "#2a3f5f"
            },
            "baxis": {
             "endlinecolor": "#2a3f5f",
             "gridcolor": "#C8D4E3",
             "linecolor": "#C8D4E3",
             "minorgridcolor": "#C8D4E3",
             "startlinecolor": "#2a3f5f"
            },
            "type": "carpet"
           }
          ],
          "choropleth": [
           {
            "colorbar": {
             "outlinewidth": 0,
             "ticks": ""
            },
            "type": "choropleth"
           }
          ],
          "contour": [
           {
            "colorbar": {
             "outlinewidth": 0,
             "ticks": ""
            },
            "colorscale": [
             [
              0,
              "#0d0887"
             ],
             [
              0.1111111111111111,
              "#46039f"
             ],
             [
              0.2222222222222222,
              "#7201a8"
             ],
             [
              0.3333333333333333,
              "#9c179e"
             ],
             [
              0.4444444444444444,
              "#bd3786"
             ],
             [
              0.5555555555555556,
              "#d8576b"
             ],
             [
              0.6666666666666666,
              "#ed7953"
             ],
             [
              0.7777777777777778,
              "#fb9f3a"
             ],
             [
              0.8888888888888888,
              "#fdca26"
             ],
             [
              1,
              "#f0f921"
             ]
            ],
            "type": "contour"
           }
          ],
          "contourcarpet": [
           {
            "colorbar": {
             "outlinewidth": 0,
             "ticks": ""
            },
            "type": "contourcarpet"
           }
          ],
          "heatmap": [
           {
            "colorbar": {
             "outlinewidth": 0,
             "ticks": ""
            },
            "colorscale": [
             [
              0,
              "#0d0887"
             ],
             [
              0.1111111111111111,
              "#46039f"
             ],
             [
              0.2222222222222222,
              "#7201a8"
             ],
             [
              0.3333333333333333,
              "#9c179e"
             ],
             [
              0.4444444444444444,
              "#bd3786"
             ],
             [
              0.5555555555555556,
              "#d8576b"
             ],
             [
              0.6666666666666666,
              "#ed7953"
             ],
             [
              0.7777777777777778,
              "#fb9f3a"
             ],
             [
              0.8888888888888888,
              "#fdca26"
             ],
             [
              1,
              "#f0f921"
             ]
            ],
            "type": "heatmap"
           }
          ],
          "heatmapgl": [
           {
            "colorbar": {
             "outlinewidth": 0,
             "ticks": ""
            },
            "colorscale": [
             [
              0,
              "#0d0887"
             ],
             [
              0.1111111111111111,
              "#46039f"
             ],
             [
              0.2222222222222222,
              "#7201a8"
             ],
             [
              0.3333333333333333,
              "#9c179e"
             ],
             [
              0.4444444444444444,
              "#bd3786"
             ],
             [
              0.5555555555555556,
              "#d8576b"
             ],
             [
              0.6666666666666666,
              "#ed7953"
             ],
             [
              0.7777777777777778,
              "#fb9f3a"
             ],
             [
              0.8888888888888888,
              "#fdca26"
             ],
             [
              1,
              "#f0f921"
             ]
            ],
            "type": "heatmapgl"
           }
          ],
          "histogram": [
           {
            "marker": {
             "pattern": {
              "fillmode": "overlay",
              "size": 10,
              "solidity": 0.2
             }
            },
            "type": "histogram"
           }
          ],
          "histogram2d": [
           {
            "colorbar": {
             "outlinewidth": 0,
             "ticks": ""
            },
            "colorscale": [
             [
              0,
              "#0d0887"
             ],
             [
              0.1111111111111111,
              "#46039f"
             ],
             [
              0.2222222222222222,
              "#7201a8"
             ],
             [
              0.3333333333333333,
              "#9c179e"
             ],
             [
              0.4444444444444444,
              "#bd3786"
             ],
             [
              0.5555555555555556,
              "#d8576b"
             ],
             [
              0.6666666666666666,
              "#ed7953"
             ],
             [
              0.7777777777777778,
              "#fb9f3a"
             ],
             [
              0.8888888888888888,
              "#fdca26"
             ],
             [
              1,
              "#f0f921"
             ]
            ],
            "type": "histogram2d"
           }
          ],
          "histogram2dcontour": [
           {
            "colorbar": {
             "outlinewidth": 0,
             "ticks": ""
            },
            "colorscale": [
             [
              0,
              "#0d0887"
             ],
             [
              0.1111111111111111,
              "#46039f"
             ],
             [
              0.2222222222222222,
              "#7201a8"
             ],
             [
              0.3333333333333333,
              "#9c179e"
             ],
             [
              0.4444444444444444,
              "#bd3786"
             ],
             [
              0.5555555555555556,
              "#d8576b"
             ],
             [
              0.6666666666666666,
              "#ed7953"
             ],
             [
              0.7777777777777778,
              "#fb9f3a"
             ],
             [
              0.8888888888888888,
              "#fdca26"
             ],
             [
              1,
              "#f0f921"
             ]
            ],
            "type": "histogram2dcontour"
           }
          ],
          "mesh3d": [
           {
            "colorbar": {
             "outlinewidth": 0,
             "ticks": ""
            },
            "type": "mesh3d"
           }
          ],
          "parcoords": [
           {
            "line": {
             "colorbar": {
              "outlinewidth": 0,
              "ticks": ""
             }
            },
            "type": "parcoords"
           }
          ],
          "pie": [
           {
            "automargin": true,
            "type": "pie"
           }
          ],
          "scatter": [
           {
            "fillpattern": {
             "fillmode": "overlay",
             "size": 10,
             "solidity": 0.2
            },
            "type": "scatter"
           }
          ],
          "scatter3d": [
           {
            "line": {
             "colorbar": {
              "outlinewidth": 0,
              "ticks": ""
             }
            },
            "marker": {
             "colorbar": {
              "outlinewidth": 0,
              "ticks": ""
             }
            },
            "type": "scatter3d"
           }
          ],
          "scattercarpet": [
           {
            "marker": {
             "colorbar": {
              "outlinewidth": 0,
              "ticks": ""
             }
            },
            "type": "scattercarpet"
           }
          ],
          "scattergeo": [
           {
            "marker": {
             "colorbar": {
              "outlinewidth": 0,
              "ticks": ""
             }
            },
            "type": "scattergeo"
           }
          ],
          "scattergl": [
           {
            "marker": {
             "colorbar": {
              "outlinewidth": 0,
              "ticks": ""
             }
            },
            "type": "scattergl"
           }
          ],
          "scattermapbox": [
           {
            "marker": {
             "colorbar": {
              "outlinewidth": 0,
              "ticks": ""
             }
            },
            "type": "scattermapbox"
           }
          ],
          "scatterpolar": [
           {
            "marker": {
             "colorbar": {
              "outlinewidth": 0,
              "ticks": ""
             }
            },
            "type": "scatterpolar"
           }
          ],
          "scatterpolargl": [
           {
            "marker": {
             "colorbar": {
              "outlinewidth": 0,
              "ticks": ""
             }
            },
            "type": "scatterpolargl"
           }
          ],
          "scatterternary": [
           {
            "marker": {
             "colorbar": {
              "outlinewidth": 0,
              "ticks": ""
             }
            },
            "type": "scatterternary"
           }
          ],
          "surface": [
           {
            "colorbar": {
             "outlinewidth": 0,
             "ticks": ""
            },
            "colorscale": [
             [
              0,
              "#0d0887"
             ],
             [
              0.1111111111111111,
              "#46039f"
             ],
             [
              0.2222222222222222,
              "#7201a8"
             ],
             [
              0.3333333333333333,
              "#9c179e"
             ],
             [
              0.4444444444444444,
              "#bd3786"
             ],
             [
              0.5555555555555556,
              "#d8576b"
             ],
             [
              0.6666666666666666,
              "#ed7953"
             ],
             [
              0.7777777777777778,
              "#fb9f3a"
             ],
             [
              0.8888888888888888,
              "#fdca26"
             ],
             [
              1,
              "#f0f921"
             ]
            ],
            "type": "surface"
           }
          ],
          "table": [
           {
            "cells": {
             "fill": {
              "color": "#EBF0F8"
             },
             "line": {
              "color": "white"
             }
            },
            "header": {
             "fill": {
              "color": "#C8D4E3"
             },
             "line": {
              "color": "white"
             }
            },
            "type": "table"
           }
          ]
         },
         "layout": {
          "annotationdefaults": {
           "arrowcolor": "#2a3f5f",
           "arrowhead": 0,
           "arrowwidth": 1
          },
          "autotypenumbers": "strict",
          "coloraxis": {
           "colorbar": {
            "outlinewidth": 0,
            "ticks": ""
           }
          },
          "colorscale": {
           "diverging": [
            [
             0,
             "#8e0152"
            ],
            [
             0.1,
             "#c51b7d"
            ],
            [
             0.2,
             "#de77ae"
            ],
            [
             0.3,
             "#f1b6da"
            ],
            [
             0.4,
             "#fde0ef"
            ],
            [
             0.5,
             "#f7f7f7"
            ],
            [
             0.6,
             "#e6f5d0"
            ],
            [
             0.7,
             "#b8e186"
            ],
            [
             0.8,
             "#7fbc41"
            ],
            [
             0.9,
             "#4d9221"
            ],
            [
             1,
             "#276419"
            ]
           ],
           "sequential": [
            [
             0,
             "#0d0887"
            ],
            [
             0.1111111111111111,
             "#46039f"
            ],
            [
             0.2222222222222222,
             "#7201a8"
            ],
            [
             0.3333333333333333,
             "#9c179e"
            ],
            [
             0.4444444444444444,
             "#bd3786"
            ],
            [
             0.5555555555555556,
             "#d8576b"
            ],
            [
             0.6666666666666666,
             "#ed7953"
            ],
            [
             0.7777777777777778,
             "#fb9f3a"
            ],
            [
             0.8888888888888888,
             "#fdca26"
            ],
            [
             1,
             "#f0f921"
            ]
           ],
           "sequentialminus": [
            [
             0,
             "#0d0887"
            ],
            [
             0.1111111111111111,
             "#46039f"
            ],
            [
             0.2222222222222222,
             "#7201a8"
            ],
            [
             0.3333333333333333,
             "#9c179e"
            ],
            [
             0.4444444444444444,
             "#bd3786"
            ],
            [
             0.5555555555555556,
             "#d8576b"
            ],
            [
             0.6666666666666666,
             "#ed7953"
            ],
            [
             0.7777777777777778,
             "#fb9f3a"
            ],
            [
             0.8888888888888888,
             "#fdca26"
            ],
            [
             1,
             "#f0f921"
            ]
           ]
          },
          "colorway": [
           "#636efa",
           "#EF553B",
           "#00cc96",
           "#ab63fa",
           "#FFA15A",
           "#19d3f3",
           "#FF6692",
           "#B6E880",
           "#FF97FF",
           "#FECB52"
          ],
          "font": {
           "color": "#2a3f5f"
          },
          "geo": {
           "bgcolor": "white",
           "lakecolor": "white",
           "landcolor": "white",
           "showlakes": true,
           "showland": true,
           "subunitcolor": "#C8D4E3"
          },
          "hoverlabel": {
           "align": "left"
          },
          "hovermode": "closest",
          "mapbox": {
           "style": "light"
          },
          "paper_bgcolor": "white",
          "plot_bgcolor": "white",
          "polar": {
           "angularaxis": {
            "gridcolor": "#EBF0F8",
            "linecolor": "#EBF0F8",
            "ticks": ""
           },
           "bgcolor": "white",
           "radialaxis": {
            "gridcolor": "#EBF0F8",
            "linecolor": "#EBF0F8",
            "ticks": ""
           }
          },
          "scene": {
           "xaxis": {
            "backgroundcolor": "white",
            "gridcolor": "#DFE8F3",
            "gridwidth": 2,
            "linecolor": "#EBF0F8",
            "showbackground": true,
            "ticks": "",
            "zerolinecolor": "#EBF0F8"
           },
           "yaxis": {
            "backgroundcolor": "white",
            "gridcolor": "#DFE8F3",
            "gridwidth": 2,
            "linecolor": "#EBF0F8",
            "showbackground": true,
            "ticks": "",
            "zerolinecolor": "#EBF0F8"
           },
           "zaxis": {
            "backgroundcolor": "white",
            "gridcolor": "#DFE8F3",
            "gridwidth": 2,
            "linecolor": "#EBF0F8",
            "showbackground": true,
            "ticks": "",
            "zerolinecolor": "#EBF0F8"
           }
          },
          "shapedefaults": {
           "line": {
            "color": "#2a3f5f"
           }
          },
          "ternary": {
           "aaxis": {
            "gridcolor": "#DFE8F3",
            "linecolor": "#A2B1C6",
            "ticks": ""
           },
           "baxis": {
            "gridcolor": "#DFE8F3",
            "linecolor": "#A2B1C6",
            "ticks": ""
           },
           "bgcolor": "white",
           "caxis": {
            "gridcolor": "#DFE8F3",
            "linecolor": "#A2B1C6",
            "ticks": ""
           }
          },
          "title": {
           "x": 0.05
          },
          "xaxis": {
           "automargin": true,
           "gridcolor": "#EBF0F8",
           "linecolor": "#EBF0F8",
           "ticks": "",
           "title": {
            "standoff": 15
           },
           "zerolinecolor": "#EBF0F8",
           "zerolinewidth": 2
          },
          "yaxis": {
           "automargin": true,
           "gridcolor": "#EBF0F8",
           "linecolor": "#EBF0F8",
           "ticks": "",
           "title": {
            "standoff": 15
           },
           "zerolinecolor": "#EBF0F8",
           "zerolinewidth": 2
          }
         }
        },
        "title": {
         "text": "Gutenberg-Richter Analysis (bin_width = 0.1)"
        },
        "width": 960,
        "xaxis": {
         "title": {
          "text": "Magnitude"
         }
        },
        "yaxis": {
         "title": {
          "text": "Log10(Count)"
         }
        }
       }
      }
     },
     "metadata": {},
     "output_type": "display_data"
    },
    {
     "data": {
      "text/plain": [
       "{'b_value': 1.570017873174488,\n",
       " 'a_value': 3.6121994864791196,\n",
       " 'b_value_stderr': 0.04266426122064275,\n",
       " 'r_squared': 0.9796397623084806,\n",
       " 'result_data':     magnitude  log_cumulative_count  log_non_cumulative_count\n",
       " 0       -0.45              2.884229                  1.000000\n",
       " 1       -0.35              2.884229                  1.230449\n",
       " 2       -0.25              2.884229                  1.255273\n",
       " 3       -0.15              2.884229                  1.477121\n",
       " 4       -0.05              2.878522                  1.662758\n",
       " 5        0.05              2.868644                  1.924279\n",
       " 6        0.15              2.857935                  1.875061\n",
       " 7        0.25              2.839478                  1.991226\n",
       " 8        0.35              2.809560                  1.913814\n",
       " 9        0.45              2.748963                  1.903090\n",
       " 10       0.55              2.686636                  1.778151\n",
       " 11       0.65              2.588832                  1.724276\n",
       " 12       0.75              2.485721                  1.505150\n",
       " 13       0.85              2.354108                  1.204120\n",
       " 14       0.95              2.220108                  1.322219\n",
       " 15       1.05              2.053078                  1.176091\n",
       " 16       1.15              1.908485                  1.041393\n",
       " 17       1.25              1.812913                  0.602060\n",
       " 18       1.35              1.643453                  0.845098\n",
       " 19       1.45              1.462398                  0.477121\n",
       " 20       1.55              1.255273                  0.301030\n",
       " 21       1.65              1.146128                  0.301030\n",
       " 22       1.75              0.845098                       NaN\n",
       " 23       1.85              0.602060                       NaN\n",
       " 24       1.95              0.602060                       NaN\n",
       " 25       2.05              0.602060                       NaN\n",
       " 26       2.15              0.301030                       NaN}"
      ]
     },
     "execution_count": 15,
     "metadata": {},
     "output_type": "execute_result"
    }
   ],
   "source": [
    "# Create Gutenberg-richter plot\n",
    "lqt_ready_2.gutenberg_richter(min_magnitude=-0.5,bin_width=0.1, plot=True)"
   ]
  },
  {
   "cell_type": "markdown",
   "metadata": {},
   "source": [
    "### 8. Select a Region from the Datasets.\n",
    "\n",
    "When performing spatial data analysis, it is common to select a specific region of interest or conduct cluster analysis to gain more insights specific to that area. Using the `area_rectangle` and `area_circular` methods from the `LqtAnalysis` class, you can easily accomplish this. \n",
    "\n",
    "Simply provide the borders of the rectangular area or the center and radius for the circular area, and the methods will return a new DataFrame containing the subset of the dataset confined to the specified region."
   ]
  },
  {
   "cell_type": "markdown",
   "metadata": {},
   "source": [
    "##### A. Select Rectangle Area"
   ]
  },
  {
   "cell_type": "code",
   "execution_count": 16,
   "metadata": {},
   "outputs": [
    {
     "data": {
      "text/html": [
       "<div>\n",
       "<style scoped>\n",
       "    .dataframe tbody tr th:only-of-type {\n",
       "        vertical-align: middle;\n",
       "    }\n",
       "\n",
       "    .dataframe tbody tr th {\n",
       "        vertical-align: top;\n",
       "    }\n",
       "\n",
       "    .dataframe thead th {\n",
       "        text-align: right;\n",
       "    }\n",
       "</style>\n",
       "<table border=\"1\" class=\"dataframe\">\n",
       "  <thead>\n",
       "    <tr style=\"text-align: right;\">\n",
       "      <th></th>\n",
       "      <th>Unnamed: 0</th>\n",
       "      <th>source_id</th>\n",
       "      <th>source_lat</th>\n",
       "      <th>source_lon</th>\n",
       "      <th>source_depth_m</th>\n",
       "      <th>magnitude</th>\n",
       "      <th>network_code</th>\n",
       "      <th>station_code</th>\n",
       "      <th>station_lat</th>\n",
       "      <th>station_lon</th>\n",
       "      <th>...</th>\n",
       "      <th>s_p_lag_time_sec</th>\n",
       "      <th>coda_time</th>\n",
       "      <th>source_err_rms_s</th>\n",
       "      <th>n_phases</th>\n",
       "      <th>gap_degree</th>\n",
       "      <th>x_horizontal_err_m</th>\n",
       "      <th>y_horizontal_err_m</th>\n",
       "      <th>z_depth_err_m</th>\n",
       "      <th>earthquake_type</th>\n",
       "      <th>remarks</th>\n",
       "    </tr>\n",
       "  </thead>\n",
       "  <tbody>\n",
       "    <tr>\n",
       "      <th>0</th>\n",
       "      <td>0</td>\n",
       "      <td>2000</td>\n",
       "      <td>38.244364</td>\n",
       "      <td>126.369385</td>\n",
       "      <td>-873.300</td>\n",
       "      <td>0.431429</td>\n",
       "      <td>KJ</td>\n",
       "      <td>KJ09</td>\n",
       "      <td>38.224820</td>\n",
       "      <td>126.364433</td>\n",
       "      <td>...</td>\n",
       "      <td>0.537087</td>\n",
       "      <td>NaN</td>\n",
       "      <td>0.010497</td>\n",
       "      <td>6.0</td>\n",
       "      <td>321.498</td>\n",
       "      <td>1001.074098</td>\n",
       "      <td>553.533887</td>\n",
       "      <td>1125.534873</td>\n",
       "      <td>very_local_earthquake</td>\n",
       "      <td>NaN</td>\n",
       "    </tr>\n",
       "    <tr>\n",
       "      <th>1</th>\n",
       "      <td>1</td>\n",
       "      <td>2000</td>\n",
       "      <td>38.244364</td>\n",
       "      <td>126.369385</td>\n",
       "      <td>-873.300</td>\n",
       "      <td>0.431429</td>\n",
       "      <td>KJ</td>\n",
       "      <td>KJ06</td>\n",
       "      <td>38.212581</td>\n",
       "      <td>126.379951</td>\n",
       "      <td>...</td>\n",
       "      <td>0.819840</td>\n",
       "      <td>NaN</td>\n",
       "      <td>0.010497</td>\n",
       "      <td>6.0</td>\n",
       "      <td>321.498</td>\n",
       "      <td>1001.074098</td>\n",
       "      <td>553.533887</td>\n",
       "      <td>1125.534873</td>\n",
       "      <td>very_local_earthquake</td>\n",
       "      <td>NaN</td>\n",
       "    </tr>\n",
       "    <tr>\n",
       "      <th>2</th>\n",
       "      <td>2</td>\n",
       "      <td>2000</td>\n",
       "      <td>38.244364</td>\n",
       "      <td>126.369385</td>\n",
       "      <td>-873.300</td>\n",
       "      <td>0.431429</td>\n",
       "      <td>KJ</td>\n",
       "      <td>KJ05</td>\n",
       "      <td>38.203970</td>\n",
       "      <td>126.378906</td>\n",
       "      <td>...</td>\n",
       "      <td>0.994110</td>\n",
       "      <td>NaN</td>\n",
       "      <td>0.010497</td>\n",
       "      <td>6.0</td>\n",
       "      <td>321.498</td>\n",
       "      <td>1001.074098</td>\n",
       "      <td>553.533887</td>\n",
       "      <td>1125.534873</td>\n",
       "      <td>very_local_earthquake</td>\n",
       "      <td>NaN</td>\n",
       "    </tr>\n",
       "    <tr>\n",
       "      <th>20</th>\n",
       "      <td>20</td>\n",
       "      <td>2004</td>\n",
       "      <td>38.233423</td>\n",
       "      <td>126.379041</td>\n",
       "      <td>-2730.357</td>\n",
       "      <td>NaN</td>\n",
       "      <td>KJ</td>\n",
       "      <td>KJ09</td>\n",
       "      <td>38.224820</td>\n",
       "      <td>126.364433</td>\n",
       "      <td>...</td>\n",
       "      <td>0.470382</td>\n",
       "      <td>NaN</td>\n",
       "      <td>0.022159</td>\n",
       "      <td>8.0</td>\n",
       "      <td>297.885</td>\n",
       "      <td>963.236835</td>\n",
       "      <td>773.610154</td>\n",
       "      <td>1210.829402</td>\n",
       "      <td>very_local_earthquake</td>\n",
       "      <td>NaN</td>\n",
       "    </tr>\n",
       "    <tr>\n",
       "      <th>21</th>\n",
       "      <td>21</td>\n",
       "      <td>2004</td>\n",
       "      <td>38.233423</td>\n",
       "      <td>126.379041</td>\n",
       "      <td>-2730.357</td>\n",
       "      <td>NaN</td>\n",
       "      <td>KJ</td>\n",
       "      <td>KJ06</td>\n",
       "      <td>38.212581</td>\n",
       "      <td>126.379951</td>\n",
       "      <td>...</td>\n",
       "      <td>0.642059</td>\n",
       "      <td>NaN</td>\n",
       "      <td>0.022159</td>\n",
       "      <td>8.0</td>\n",
       "      <td>297.885</td>\n",
       "      <td>963.236835</td>\n",
       "      <td>773.610154</td>\n",
       "      <td>1210.829402</td>\n",
       "      <td>very_local_earthquake</td>\n",
       "      <td>NaN</td>\n",
       "    </tr>\n",
       "    <tr>\n",
       "      <th>22</th>\n",
       "      <td>22</td>\n",
       "      <td>2004</td>\n",
       "      <td>38.233423</td>\n",
       "      <td>126.379041</td>\n",
       "      <td>-2730.357</td>\n",
       "      <td>NaN</td>\n",
       "      <td>KJ</td>\n",
       "      <td>KJ05</td>\n",
       "      <td>38.203970</td>\n",
       "      <td>126.378906</td>\n",
       "      <td>...</td>\n",
       "      <td>0.907295</td>\n",
       "      <td>NaN</td>\n",
       "      <td>0.022159</td>\n",
       "      <td>8.0</td>\n",
       "      <td>297.885</td>\n",
       "      <td>963.236835</td>\n",
       "      <td>773.610154</td>\n",
       "      <td>1210.829402</td>\n",
       "      <td>very_local_earthquake</td>\n",
       "      <td>NaN</td>\n",
       "    </tr>\n",
       "    <tr>\n",
       "      <th>23</th>\n",
       "      <td>23</td>\n",
       "      <td>2004</td>\n",
       "      <td>38.233423</td>\n",
       "      <td>126.379041</td>\n",
       "      <td>-2730.357</td>\n",
       "      <td>NaN</td>\n",
       "      <td>KJ</td>\n",
       "      <td>KJ02</td>\n",
       "      <td>38.210773</td>\n",
       "      <td>126.401842</td>\n",
       "      <td>...</td>\n",
       "      <td>1.504001</td>\n",
       "      <td>NaN</td>\n",
       "      <td>0.022159</td>\n",
       "      <td>8.0</td>\n",
       "      <td>297.885</td>\n",
       "      <td>963.236835</td>\n",
       "      <td>773.610154</td>\n",
       "      <td>1210.829402</td>\n",
       "      <td>very_local_earthquake</td>\n",
       "      <td>NaN</td>\n",
       "    </tr>\n",
       "    <tr>\n",
       "      <th>24</th>\n",
       "      <td>24</td>\n",
       "      <td>2005</td>\n",
       "      <td>38.240433</td>\n",
       "      <td>126.364087</td>\n",
       "      <td>-265.140</td>\n",
       "      <td>0.964486</td>\n",
       "      <td>KJ</td>\n",
       "      <td>KJ14</td>\n",
       "      <td>38.245280</td>\n",
       "      <td>126.362021</td>\n",
       "      <td>...</td>\n",
       "      <td>0.465420</td>\n",
       "      <td>NaN</td>\n",
       "      <td>0.025924</td>\n",
       "      <td>14.0</td>\n",
       "      <td>160.259</td>\n",
       "      <td>612.538733</td>\n",
       "      <td>440.734299</td>\n",
       "      <td>306.344851</td>\n",
       "      <td>very_local_earthquake</td>\n",
       "      <td>NaN</td>\n",
       "    </tr>\n",
       "    <tr>\n",
       "      <th>25</th>\n",
       "      <td>25</td>\n",
       "      <td>2005</td>\n",
       "      <td>38.240433</td>\n",
       "      <td>126.364087</td>\n",
       "      <td>-265.140</td>\n",
       "      <td>0.964486</td>\n",
       "      <td>KJ</td>\n",
       "      <td>KJ12</td>\n",
       "      <td>38.236119</td>\n",
       "      <td>126.366364</td>\n",
       "      <td>...</td>\n",
       "      <td>0.476112</td>\n",
       "      <td>NaN</td>\n",
       "      <td>0.025924</td>\n",
       "      <td>14.0</td>\n",
       "      <td>160.259</td>\n",
       "      <td>612.538733</td>\n",
       "      <td>440.734299</td>\n",
       "      <td>306.344851</td>\n",
       "      <td>very_local_earthquake</td>\n",
       "      <td>NaN</td>\n",
       "    </tr>\n",
       "    <tr>\n",
       "      <th>26</th>\n",
       "      <td>26</td>\n",
       "      <td>2005</td>\n",
       "      <td>38.240433</td>\n",
       "      <td>126.364087</td>\n",
       "      <td>-265.140</td>\n",
       "      <td>0.964486</td>\n",
       "      <td>KJ</td>\n",
       "      <td>KJ09</td>\n",
       "      <td>38.224820</td>\n",
       "      <td>126.364433</td>\n",
       "      <td>...</td>\n",
       "      <td>0.497650</td>\n",
       "      <td>NaN</td>\n",
       "      <td>0.025924</td>\n",
       "      <td>14.0</td>\n",
       "      <td>160.259</td>\n",
       "      <td>612.538733</td>\n",
       "      <td>440.734299</td>\n",
       "      <td>306.344851</td>\n",
       "      <td>very_local_earthquake</td>\n",
       "      <td>NaN</td>\n",
       "    </tr>\n",
       "  </tbody>\n",
       "</table>\n",
       "<p>10 rows × 28 columns</p>\n",
       "</div>"
      ],
      "text/plain": [
       "    Unnamed: 0  source_id  source_lat  source_lon  source_depth_m  magnitude  \\\n",
       "0            0       2000   38.244364  126.369385        -873.300   0.431429   \n",
       "1            1       2000   38.244364  126.369385        -873.300   0.431429   \n",
       "2            2       2000   38.244364  126.369385        -873.300   0.431429   \n",
       "20          20       2004   38.233423  126.379041       -2730.357        NaN   \n",
       "21          21       2004   38.233423  126.379041       -2730.357        NaN   \n",
       "22          22       2004   38.233423  126.379041       -2730.357        NaN   \n",
       "23          23       2004   38.233423  126.379041       -2730.357        NaN   \n",
       "24          24       2005   38.240433  126.364087        -265.140   0.964486   \n",
       "25          25       2005   38.240433  126.364087        -265.140   0.964486   \n",
       "26          26       2005   38.240433  126.364087        -265.140   0.964486   \n",
       "\n",
       "   network_code station_code  station_lat  station_lon  ...  s_p_lag_time_sec  \\\n",
       "0            KJ         KJ09    38.224820   126.364433  ...          0.537087   \n",
       "1            KJ         KJ06    38.212581   126.379951  ...          0.819840   \n",
       "2            KJ         KJ05    38.203970   126.378906  ...          0.994110   \n",
       "20           KJ         KJ09    38.224820   126.364433  ...          0.470382   \n",
       "21           KJ         KJ06    38.212581   126.379951  ...          0.642059   \n",
       "22           KJ         KJ05    38.203970   126.378906  ...          0.907295   \n",
       "23           KJ         KJ02    38.210773   126.401842  ...          1.504001   \n",
       "24           KJ         KJ14    38.245280   126.362021  ...          0.465420   \n",
       "25           KJ         KJ12    38.236119   126.366364  ...          0.476112   \n",
       "26           KJ         KJ09    38.224820   126.364433  ...          0.497650   \n",
       "\n",
       "   coda_time source_err_rms_s  n_phases gap_degree x_horizontal_err_m  \\\n",
       "0        NaN         0.010497       6.0    321.498        1001.074098   \n",
       "1        NaN         0.010497       6.0    321.498        1001.074098   \n",
       "2        NaN         0.010497       6.0    321.498        1001.074098   \n",
       "20       NaN         0.022159       8.0    297.885         963.236835   \n",
       "21       NaN         0.022159       8.0    297.885         963.236835   \n",
       "22       NaN         0.022159       8.0    297.885         963.236835   \n",
       "23       NaN         0.022159       8.0    297.885         963.236835   \n",
       "24       NaN         0.025924      14.0    160.259         612.538733   \n",
       "25       NaN         0.025924      14.0    160.259         612.538733   \n",
       "26       NaN         0.025924      14.0    160.259         612.538733   \n",
       "\n",
       "   y_horizontal_err_m  z_depth_err_m        earthquake_type  remarks  \n",
       "0          553.533887    1125.534873  very_local_earthquake      NaN  \n",
       "1          553.533887    1125.534873  very_local_earthquake      NaN  \n",
       "2          553.533887    1125.534873  very_local_earthquake      NaN  \n",
       "20         773.610154    1210.829402  very_local_earthquake      NaN  \n",
       "21         773.610154    1210.829402  very_local_earthquake      NaN  \n",
       "22         773.610154    1210.829402  very_local_earthquake      NaN  \n",
       "23         773.610154    1210.829402  very_local_earthquake      NaN  \n",
       "24         440.734299     306.344851  very_local_earthquake      NaN  \n",
       "25         440.734299     306.344851  very_local_earthquake      NaN  \n",
       "26         440.734299     306.344851  very_local_earthquake      NaN  \n",
       "\n",
       "[10 rows x 28 columns]"
      ]
     },
     "execution_count": 16,
     "metadata": {},
     "output_type": "execute_result"
    }
   ],
   "source": [
    "# Draw area rectangle by providing the rectangle borders\n",
    "subset_area_df = lqt_ready_2.area_rectangle(\n",
    "                                        min_latitude=38.225,\n",
    "                                        max_latitude=38.260,\n",
    "                                        min_longitude=126.340,\n",
    "                                        max_longitude=126.380,\n",
    ")\n",
    "\n",
    "# Make new LqtAnalysis class instance using this subset df\n",
    "new_subset_area_lqt = LqtAnalysis(subset_area_df)\n",
    "new_subset_area_lqt.head(10)"
   ]
  },
  {
   "cell_type": "markdown",
   "metadata": {},
   "source": [
    "And performs some analysis using this new subsets of data."
   ]
  },
  {
   "cell_type": "code",
   "execution_count": 17,
   "metadata": {},
   "outputs": [
    {
     "data": {
      "text/plain": [
       "0.5588407291318986"
      ]
     },
     "execution_count": 17,
     "metadata": {},
     "output_type": "execute_result"
    }
   ],
   "source": [
    "# Calculate statistic from clustered data\n",
    "new_subset_area_lqt.compute_statistic(\"magnitude\", Statistic.MEAN) "
   ]
  },
  {
   "cell_type": "code",
   "execution_count": 18,
   "metadata": {},
   "outputs": [
    {
     "data": {
      "application/vnd.plotly.v1+json": {
       "config": {
        "plotlyServerURL": "https://plot.ly"
       },
       "data": [
        {
         "marker": {
          "color": "skyblue"
         },
         "name": "Intensity",
         "type": "bar",
         "x": [
          "2024_03",
          "2024_04",
          "2024_05",
          "2024_06",
          "2024_07",
          "2024_08",
          "2024_09",
          "2024_10",
          "2024_11"
         ],
         "y": [
          12,
          6,
          9,
          13,
          3,
          19,
          19,
          72,
          36
         ]
        }
       ],
       "layout": {
        "bargap": 0.2,
        "height": 720,
        "legend": {
         "bgcolor": "rgba(255,255,255,0.5)",
         "x": 0.99,
         "xanchor": "right",
         "y": 0.99,
         "yanchor": "top"
        },
        "showlegend": true,
        "template": {
         "data": {
          "bar": [
           {
            "error_x": {
             "color": "#2a3f5f"
            },
            "error_y": {
             "color": "#2a3f5f"
            },
            "marker": {
             "line": {
              "color": "white",
              "width": 0.5
             },
             "pattern": {
              "fillmode": "overlay",
              "size": 10,
              "solidity": 0.2
             }
            },
            "type": "bar"
           }
          ],
          "barpolar": [
           {
            "marker": {
             "line": {
              "color": "white",
              "width": 0.5
             },
             "pattern": {
              "fillmode": "overlay",
              "size": 10,
              "solidity": 0.2
             }
            },
            "type": "barpolar"
           }
          ],
          "carpet": [
           {
            "aaxis": {
             "endlinecolor": "#2a3f5f",
             "gridcolor": "#C8D4E3",
             "linecolor": "#C8D4E3",
             "minorgridcolor": "#C8D4E3",
             "startlinecolor": "#2a3f5f"
            },
            "baxis": {
             "endlinecolor": "#2a3f5f",
             "gridcolor": "#C8D4E3",
             "linecolor": "#C8D4E3",
             "minorgridcolor": "#C8D4E3",
             "startlinecolor": "#2a3f5f"
            },
            "type": "carpet"
           }
          ],
          "choropleth": [
           {
            "colorbar": {
             "outlinewidth": 0,
             "ticks": ""
            },
            "type": "choropleth"
           }
          ],
          "contour": [
           {
            "colorbar": {
             "outlinewidth": 0,
             "ticks": ""
            },
            "colorscale": [
             [
              0,
              "#0d0887"
             ],
             [
              0.1111111111111111,
              "#46039f"
             ],
             [
              0.2222222222222222,
              "#7201a8"
             ],
             [
              0.3333333333333333,
              "#9c179e"
             ],
             [
              0.4444444444444444,
              "#bd3786"
             ],
             [
              0.5555555555555556,
              "#d8576b"
             ],
             [
              0.6666666666666666,
              "#ed7953"
             ],
             [
              0.7777777777777778,
              "#fb9f3a"
             ],
             [
              0.8888888888888888,
              "#fdca26"
             ],
             [
              1,
              "#f0f921"
             ]
            ],
            "type": "contour"
           }
          ],
          "contourcarpet": [
           {
            "colorbar": {
             "outlinewidth": 0,
             "ticks": ""
            },
            "type": "contourcarpet"
           }
          ],
          "heatmap": [
           {
            "colorbar": {
             "outlinewidth": 0,
             "ticks": ""
            },
            "colorscale": [
             [
              0,
              "#0d0887"
             ],
             [
              0.1111111111111111,
              "#46039f"
             ],
             [
              0.2222222222222222,
              "#7201a8"
             ],
             [
              0.3333333333333333,
              "#9c179e"
             ],
             [
              0.4444444444444444,
              "#bd3786"
             ],
             [
              0.5555555555555556,
              "#d8576b"
             ],
             [
              0.6666666666666666,
              "#ed7953"
             ],
             [
              0.7777777777777778,
              "#fb9f3a"
             ],
             [
              0.8888888888888888,
              "#fdca26"
             ],
             [
              1,
              "#f0f921"
             ]
            ],
            "type": "heatmap"
           }
          ],
          "heatmapgl": [
           {
            "colorbar": {
             "outlinewidth": 0,
             "ticks": ""
            },
            "colorscale": [
             [
              0,
              "#0d0887"
             ],
             [
              0.1111111111111111,
              "#46039f"
             ],
             [
              0.2222222222222222,
              "#7201a8"
             ],
             [
              0.3333333333333333,
              "#9c179e"
             ],
             [
              0.4444444444444444,
              "#bd3786"
             ],
             [
              0.5555555555555556,
              "#d8576b"
             ],
             [
              0.6666666666666666,
              "#ed7953"
             ],
             [
              0.7777777777777778,
              "#fb9f3a"
             ],
             [
              0.8888888888888888,
              "#fdca26"
             ],
             [
              1,
              "#f0f921"
             ]
            ],
            "type": "heatmapgl"
           }
          ],
          "histogram": [
           {
            "marker": {
             "pattern": {
              "fillmode": "overlay",
              "size": 10,
              "solidity": 0.2
             }
            },
            "type": "histogram"
           }
          ],
          "histogram2d": [
           {
            "colorbar": {
             "outlinewidth": 0,
             "ticks": ""
            },
            "colorscale": [
             [
              0,
              "#0d0887"
             ],
             [
              0.1111111111111111,
              "#46039f"
             ],
             [
              0.2222222222222222,
              "#7201a8"
             ],
             [
              0.3333333333333333,
              "#9c179e"
             ],
             [
              0.4444444444444444,
              "#bd3786"
             ],
             [
              0.5555555555555556,
              "#d8576b"
             ],
             [
              0.6666666666666666,
              "#ed7953"
             ],
             [
              0.7777777777777778,
              "#fb9f3a"
             ],
             [
              0.8888888888888888,
              "#fdca26"
             ],
             [
              1,
              "#f0f921"
             ]
            ],
            "type": "histogram2d"
           }
          ],
          "histogram2dcontour": [
           {
            "colorbar": {
             "outlinewidth": 0,
             "ticks": ""
            },
            "colorscale": [
             [
              0,
              "#0d0887"
             ],
             [
              0.1111111111111111,
              "#46039f"
             ],
             [
              0.2222222222222222,
              "#7201a8"
             ],
             [
              0.3333333333333333,
              "#9c179e"
             ],
             [
              0.4444444444444444,
              "#bd3786"
             ],
             [
              0.5555555555555556,
              "#d8576b"
             ],
             [
              0.6666666666666666,
              "#ed7953"
             ],
             [
              0.7777777777777778,
              "#fb9f3a"
             ],
             [
              0.8888888888888888,
              "#fdca26"
             ],
             [
              1,
              "#f0f921"
             ]
            ],
            "type": "histogram2dcontour"
           }
          ],
          "mesh3d": [
           {
            "colorbar": {
             "outlinewidth": 0,
             "ticks": ""
            },
            "type": "mesh3d"
           }
          ],
          "parcoords": [
           {
            "line": {
             "colorbar": {
              "outlinewidth": 0,
              "ticks": ""
             }
            },
            "type": "parcoords"
           }
          ],
          "pie": [
           {
            "automargin": true,
            "type": "pie"
           }
          ],
          "scatter": [
           {
            "fillpattern": {
             "fillmode": "overlay",
             "size": 10,
             "solidity": 0.2
            },
            "type": "scatter"
           }
          ],
          "scatter3d": [
           {
            "line": {
             "colorbar": {
              "outlinewidth": 0,
              "ticks": ""
             }
            },
            "marker": {
             "colorbar": {
              "outlinewidth": 0,
              "ticks": ""
             }
            },
            "type": "scatter3d"
           }
          ],
          "scattercarpet": [
           {
            "marker": {
             "colorbar": {
              "outlinewidth": 0,
              "ticks": ""
             }
            },
            "type": "scattercarpet"
           }
          ],
          "scattergeo": [
           {
            "marker": {
             "colorbar": {
              "outlinewidth": 0,
              "ticks": ""
             }
            },
            "type": "scattergeo"
           }
          ],
          "scattergl": [
           {
            "marker": {
             "colorbar": {
              "outlinewidth": 0,
              "ticks": ""
             }
            },
            "type": "scattergl"
           }
          ],
          "scattermapbox": [
           {
            "marker": {
             "colorbar": {
              "outlinewidth": 0,
              "ticks": ""
             }
            },
            "type": "scattermapbox"
           }
          ],
          "scatterpolar": [
           {
            "marker": {
             "colorbar": {
              "outlinewidth": 0,
              "ticks": ""
             }
            },
            "type": "scatterpolar"
           }
          ],
          "scatterpolargl": [
           {
            "marker": {
             "colorbar": {
              "outlinewidth": 0,
              "ticks": ""
             }
            },
            "type": "scatterpolargl"
           }
          ],
          "scatterternary": [
           {
            "marker": {
             "colorbar": {
              "outlinewidth": 0,
              "ticks": ""
             }
            },
            "type": "scatterternary"
           }
          ],
          "surface": [
           {
            "colorbar": {
             "outlinewidth": 0,
             "ticks": ""
            },
            "colorscale": [
             [
              0,
              "#0d0887"
             ],
             [
              0.1111111111111111,
              "#46039f"
             ],
             [
              0.2222222222222222,
              "#7201a8"
             ],
             [
              0.3333333333333333,
              "#9c179e"
             ],
             [
              0.4444444444444444,
              "#bd3786"
             ],
             [
              0.5555555555555556,
              "#d8576b"
             ],
             [
              0.6666666666666666,
              "#ed7953"
             ],
             [
              0.7777777777777778,
              "#fb9f3a"
             ],
             [
              0.8888888888888888,
              "#fdca26"
             ],
             [
              1,
              "#f0f921"
             ]
            ],
            "type": "surface"
           }
          ],
          "table": [
           {
            "cells": {
             "fill": {
              "color": "#EBF0F8"
             },
             "line": {
              "color": "white"
             }
            },
            "header": {
             "fill": {
              "color": "#C8D4E3"
             },
             "line": {
              "color": "white"
             }
            },
            "type": "table"
           }
          ]
         },
         "layout": {
          "annotationdefaults": {
           "arrowcolor": "#2a3f5f",
           "arrowhead": 0,
           "arrowwidth": 1
          },
          "autotypenumbers": "strict",
          "coloraxis": {
           "colorbar": {
            "outlinewidth": 0,
            "ticks": ""
           }
          },
          "colorscale": {
           "diverging": [
            [
             0,
             "#8e0152"
            ],
            [
             0.1,
             "#c51b7d"
            ],
            [
             0.2,
             "#de77ae"
            ],
            [
             0.3,
             "#f1b6da"
            ],
            [
             0.4,
             "#fde0ef"
            ],
            [
             0.5,
             "#f7f7f7"
            ],
            [
             0.6,
             "#e6f5d0"
            ],
            [
             0.7,
             "#b8e186"
            ],
            [
             0.8,
             "#7fbc41"
            ],
            [
             0.9,
             "#4d9221"
            ],
            [
             1,
             "#276419"
            ]
           ],
           "sequential": [
            [
             0,
             "#0d0887"
            ],
            [
             0.1111111111111111,
             "#46039f"
            ],
            [
             0.2222222222222222,
             "#7201a8"
            ],
            [
             0.3333333333333333,
             "#9c179e"
            ],
            [
             0.4444444444444444,
             "#bd3786"
            ],
            [
             0.5555555555555556,
             "#d8576b"
            ],
            [
             0.6666666666666666,
             "#ed7953"
            ],
            [
             0.7777777777777778,
             "#fb9f3a"
            ],
            [
             0.8888888888888888,
             "#fdca26"
            ],
            [
             1,
             "#f0f921"
            ]
           ],
           "sequentialminus": [
            [
             0,
             "#0d0887"
            ],
            [
             0.1111111111111111,
             "#46039f"
            ],
            [
             0.2222222222222222,
             "#7201a8"
            ],
            [
             0.3333333333333333,
             "#9c179e"
            ],
            [
             0.4444444444444444,
             "#bd3786"
            ],
            [
             0.5555555555555556,
             "#d8576b"
            ],
            [
             0.6666666666666666,
             "#ed7953"
            ],
            [
             0.7777777777777778,
             "#fb9f3a"
            ],
            [
             0.8888888888888888,
             "#fdca26"
            ],
            [
             1,
             "#f0f921"
            ]
           ]
          },
          "colorway": [
           "#636efa",
           "#EF553B",
           "#00cc96",
           "#ab63fa",
           "#FFA15A",
           "#19d3f3",
           "#FF6692",
           "#B6E880",
           "#FF97FF",
           "#FECB52"
          ],
          "font": {
           "color": "#2a3f5f"
          },
          "geo": {
           "bgcolor": "white",
           "lakecolor": "white",
           "landcolor": "white",
           "showlakes": true,
           "showland": true,
           "subunitcolor": "#C8D4E3"
          },
          "hoverlabel": {
           "align": "left"
          },
          "hovermode": "closest",
          "mapbox": {
           "style": "light"
          },
          "paper_bgcolor": "white",
          "plot_bgcolor": "white",
          "polar": {
           "angularaxis": {
            "gridcolor": "#EBF0F8",
            "linecolor": "#EBF0F8",
            "ticks": ""
           },
           "bgcolor": "white",
           "radialaxis": {
            "gridcolor": "#EBF0F8",
            "linecolor": "#EBF0F8",
            "ticks": ""
           }
          },
          "scene": {
           "xaxis": {
            "backgroundcolor": "white",
            "gridcolor": "#DFE8F3",
            "gridwidth": 2,
            "linecolor": "#EBF0F8",
            "showbackground": true,
            "ticks": "",
            "zerolinecolor": "#EBF0F8"
           },
           "yaxis": {
            "backgroundcolor": "white",
            "gridcolor": "#DFE8F3",
            "gridwidth": 2,
            "linecolor": "#EBF0F8",
            "showbackground": true,
            "ticks": "",
            "zerolinecolor": "#EBF0F8"
           },
           "zaxis": {
            "backgroundcolor": "white",
            "gridcolor": "#DFE8F3",
            "gridwidth": 2,
            "linecolor": "#EBF0F8",
            "showbackground": true,
            "ticks": "",
            "zerolinecolor": "#EBF0F8"
           }
          },
          "shapedefaults": {
           "line": {
            "color": "#2a3f5f"
           }
          },
          "ternary": {
           "aaxis": {
            "gridcolor": "#DFE8F3",
            "linecolor": "#A2B1C6",
            "ticks": ""
           },
           "baxis": {
            "gridcolor": "#DFE8F3",
            "linecolor": "#A2B1C6",
            "ticks": ""
           },
           "bgcolor": "white",
           "caxis": {
            "gridcolor": "#DFE8F3",
            "linecolor": "#A2B1C6",
            "ticks": ""
           }
          },
          "title": {
           "x": 0.05
          },
          "xaxis": {
           "automargin": true,
           "gridcolor": "#EBF0F8",
           "linecolor": "#EBF0F8",
           "ticks": "",
           "title": {
            "standoff": 15
           },
           "zerolinecolor": "#EBF0F8",
           "zerolinewidth": 2
          },
          "yaxis": {
           "automargin": true,
           "gridcolor": "#EBF0F8",
           "linecolor": "#EBF0F8",
           "ticks": "",
           "title": {
            "standoff": 15
           },
           "zerolinecolor": "#EBF0F8",
           "zerolinewidth": 2
          }
         }
        },
        "title": {
         "text": "Histogram of Earthquakes intensity (Monthly)"
        },
        "width": 960,
        "xaxis": {
         "tickangle": 45,
         "title": {
          "text": "Monthly Intensities"
         }
        },
        "yaxis": {
         "title": {
          "text": "Count"
         }
        }
       }
      }
     },
     "metadata": {},
     "output_type": "display_data"
    }
   ],
   "source": [
    "# Plot Monthly Intensities\n",
    "new_subset_area_lqt.plot_intensity('monthly')"
   ]
  },
  {
   "cell_type": "code",
   "execution_count": 39,
   "metadata": {},
   "outputs": [
    {
     "data": {
      "application/vnd.plotly.v1+json": {
       "config": {
        "plotlyServerURL": "https://plot.ly"
       },
       "data": [
        {
         "customdata": [
          [
           2000,
           -873.3,
           0.431428820071198
          ],
          [
           2005,
           -265.14,
           0.9644863837837434
          ],
          [
           2006,
           -121.14,
           2.020023343050088
          ],
          [
           2007,
           -108.44,
           1.0443654113941223
          ],
          [
           2008,
           -393.28,
           0.6456726701919218
          ],
          [
           2009,
           -296.92,
           0.774851296154786
          ],
          [
           2010,
           -142.22,
           1.6027164048141431
          ],
          [
           2011,
           -403.04,
           0.5927815465142681
          ],
          [
           2012,
           -385.08,
           0.7583362329342513
          ],
          [
           2013,
           -256.33,
           0.7253675380587881
          ],
          [
           2014,
           -191.3,
           0.654783393997814
          ],
          [
           2085,
           -445.61,
           0.7248844636016418
          ],
          [
           2088,
           -67.47,
           0.7213718971351186
          ],
          [
           2114,
           -532.39,
           0.8082149881675704
          ],
          [
           2117,
           -561.15,
           0.7345575217802196
          ],
          [
           2118,
           -161.62,
           0.7874989495938118
          ],
          [
           2124,
           803.869,
           0.6895839506145212
          ],
          [
           2134,
           -168.02,
           0.9483548869138244
          ],
          [
           2136,
           -416.75,
           0.5428437868792146
          ],
          [
           2137,
           -2306.25,
           -0.1769806026475269
          ],
          [
           2138,
           -169.41,
           0.5179848515647194
          ],
          [
           2155,
           -146.65,
           0.6096269588495709
          ],
          [
           2205,
           209.74,
           0.6550712270331225
          ],
          [
           2210,
           -134.73,
           0.5041783518619116
          ],
          [
           2215,
           -683.91,
           0.0709331381204769
          ],
          [
           2216,
           -453.34,
           0.7019561148368441
          ],
          [
           2221,
           -478.98,
           0.959397655153559
          ],
          [
           2222,
           -507.07,
           0.776294721377754
          ],
          [
           2223,
           -214.13,
           1.2449345144273396
          ],
          [
           2284,
           -368.07,
           0.6175410501029148
          ],
          [
           2285,
           -177.53,
           0.5380753107800373
          ],
          [
           2287,
           64.81,
           -0.0403940865618643
          ],
          [
           2292,
           68.45,
           0.0542112240984611
          ],
          [
           2299,
           -107.76,
           1.219389755765132
          ],
          [
           2311,
           251.13,
           0.986051126892674
          ],
          [
           2312,
           -74.98,
           1.66641472550924
          ],
          [
           2313,
           -109.53,
           1.2436068249642125
          ],
          [
           2314,
           -84.57,
           0.7481400694310079
          ],
          [
           2324,
           250.79,
           0.7913531311198492
          ],
          [
           2333,
           -233.17,
           0.9916744869335136
          ],
          [
           2339,
           -274.92,
           0.4843423966274942
          ],
          [
           2340,
           -164.9,
           0.6337847726730566
          ],
          [
           2369,
           -13.17,
           0.572884300780439
          ],
          [
           2372,
           -692.81,
           -0.1049493774430692
          ],
          [
           2374,
           -115.19,
           0.518176047241405
          ],
          [
           2379,
           331.77,
           0.5665370634845797
          ],
          [
           2381,
           -64.16,
           1.2623726090183478
          ],
          [
           2399,
           -850.149,
           0.1323025394404826
          ],
          [
           2400,
           -1599.405,
           0.1584007126158439
          ],
          [
           2428,
           -525,
           1.4508061768874445
          ],
          [
           2449,
           -424.03,
           0.472665820027915
          ],
          [
           2450,
           -172.67,
           0.3998092757629417
          ],
          [
           2451,
           -754.4,
           0.3146965254048286
          ],
          [
           2460,
           -231.37,
           0.850788306598341
          ],
          [
           2482,
           -574.33,
           0.4083977401262704
          ],
          [
           2483,
           -1113.04,
           0.3385612837838874
          ],
          [
           2484,
           -1009.52,
           0.0133848881052793
          ],
          [
           2485,
           3.64,
           1.1571294221625532
          ],
          [
           2489,
           -319.16,
           0.8432715781704054
          ],
          [
           2490,
           -609.22,
           -0.1837376216177286
          ],
          [
           2491,
           -102.92,
           0.3559184959452075
          ],
          [
           2506,
           -407.01,
           0.5642823501022933
          ],
          [
           2517,
           662.5,
           0.586774706475798
          ],
          [
           2519,
           -339.76,
           0.5083989756074878
          ],
          [
           2547,
           -689.32,
           0.1881532948810527
          ],
          [
           2548,
           -59.39,
           0.7074265516155371
          ],
          [
           2549,
           -139.37,
           0.8857347749868305
          ],
          [
           2574,
           -117.72,
           0.9475463833310248
          ],
          [
           2582,
           -649.73,
           0.2603555581651253
          ],
          [
           2602,
           -195.78,
           1.278143727249991
          ],
          [
           2603,
           -669.2,
           0.2734802898652315
          ],
          [
           2604,
           244.83,
           1.001657497884623
          ],
          [
           2605,
           -415.63,
           0.8200098045348483
          ],
          [
           2607,
           -257.96,
           0.665820416309697
          ],
          [
           2612,
           -312.03,
           0.8811393007879307
          ],
          [
           2613,
           -311.85,
           0.4930705077241741
          ],
          [
           2615,
           32.67,
           0.3735800782856069
          ],
          [
           2616,
           -750.28,
           -0.0053261672679063
          ],
          [
           2617,
           -68.75,
           0.7963152964349369
          ],
          [
           2618,
           -913.38,
           0.0865438557892428
          ],
          [
           2619,
           -440.179,
           0.4729361703154939
          ],
          [
           2620,
           -176.63,
           0.5675501960557989
          ],
          [
           2621,
           -608.43,
           -0.1415896039300817
          ],
          [
           2622,
           -575.34,
           0.2185591257059282
          ],
          [
           2623,
           -553.274,
           0.1137482294589569
          ],
          [
           2624,
           -8.39,
           0.8246491234006363
          ],
          [
           2625,
           -296.89,
           0.5104414299822331
          ],
          [
           2626,
           -91.02,
           1.24666409156535
          ],
          [
           2627,
           -354.95,
           0.4306138448269658
          ],
          [
           2628,
           -379.87,
           0.5039512617387985
          ],
          [
           2629,
           -133.31,
           0.8623010103804347
          ],
          [
           2630,
           -167.9,
           0.3817000175390515
          ],
          [
           2631,
           -520.37,
           0.270561777437555
          ],
          [
           2632,
           -415.87,
           0.2447648508978703
          ],
          [
           2633,
           -750.98,
           -0.1116718998873516
          ],
          [
           2634,
           -896.59,
           -0.1382341777736879
          ],
          [
           2635,
           -794.7,
           0.2063986645843627
          ],
          [
           2636,
           -419.8,
           0.3127029199946216
          ],
          [
           2637,
           -995.77,
           -0.0574060812699599
          ],
          [
           2638,
           -555.34,
           0.4895900152337917
          ],
          [
           2639,
           -809.22,
           -0.0737006259356105
          ],
          [
           2640,
           -614.53,
           0.1930210535171328
          ],
          [
           2641,
           -609.821,
           -0.0791972504162661
          ],
          [
           2642,
           -881.36,
           0.1177319039250228
          ],
          [
           2643,
           -167.65,
           0.7117401115836746
          ],
          [
           2644,
           4.15,
           0.9186549915573056
          ],
          [
           2645,
           1.89,
           0.3953291768537443
          ],
          [
           2646,
           47.52,
           0.6826255299503154
          ],
          [
           2647,
           12.21,
           2.171243526133633
          ],
          [
           2648,
           -342.5,
           0.3404729570919311
          ],
          [
           2650,
           -625.31,
           -0.0441098674682329
          ],
          [
           2651,
           71.75,
           0.6727662267148613
          ],
          [
           2652,
           -441.05,
           0.6311386310117939
          ],
          [
           2653,
           -133.13,
           1.0758053908822918
          ],
          [
           2654,
           -257.81,
           0.6627244232746801
          ],
          [
           2655,
           -71.89,
           0.5760629834070556
          ],
          [
           2656,
           -625.3,
           -0.0656142456738955
          ],
          [
           2657,
           -554.11,
           0.3102565676512512
          ],
          [
           2658,
           -59.32,
           0.6106794523294319
          ],
          [
           2659,
           -75.74,
           0.1278715792389135
          ],
          [
           2660,
           -480.41,
           0.372346669442626
          ],
          [
           2661,
           -137.97,
           0.5011226703257883
          ],
          [
           2662,
           -225.48,
           0.6291679573492361
          ],
          [
           2663,
           -456.13,
           0.1632249715699814
          ],
          [
           2664,
           -111,
           0.3613951012233105
          ],
          [
           2665,
           -421.8,
           0.3895231550224389
          ],
          [
           2666,
           -903.9,
           -0.120818231494705
          ],
          [
           2667,
           -71.26,
           0.5888968391041915
          ],
          [
           2668,
           -43.09,
           0.6044850043438439
          ],
          [
           2669,
           -565.29,
           0.256660511020792
          ],
          [
           2670,
           -67.75,
           0.2543227181138592
          ],
          [
           2671,
           -89.41,
           0.7918356785819656
          ],
          [
           2672,
           -223.33,
           0.4711085091902482
          ],
          [
           2690,
           747.321,
           1.0582591234167662
          ],
          [
           2702,
           -2306.25,
           -0.0824194683894106
          ],
          [
           2703,
           -270.536,
           0.9635664897636752
          ],
          [
           2705,
           -887.79,
           0.7751767839761117
          ],
          [
           2706,
           -818.57,
           0.1223036929706866
          ],
          [
           2709,
           -851.69,
           0.2065848937207528
          ],
          [
           2711,
           -1581.49,
           0.1035411187312433
          ],
          [
           2726,
           -26.4,
           0.9469730524447372
          ],
          [
           2732,
           6.39,
           0.7705349077035102
          ],
          [
           2734,
           -638.19,
           0.6329390827789361
          ],
          [
           2736,
           -775.4,
           0.49218598817182
          ],
          [
           2740,
           -664.94,
           0.5555024029722606
          ],
          [
           2742,
           -595.6,
           0.4371541403335595
          ],
          [
           2743,
           -636.49,
           0.7500761104982825
          ],
          [
           2744,
           -1027.57,
           0.5625062275125021
          ],
          [
           2745,
           -723.51,
           0.3744105396788706
          ],
          [
           2746,
           -778.93,
           0.680147654708982
          ],
          [
           2748,
           -707.81,
           0.5711468096987176
          ],
          [
           2749,
           -1048.4,
           0.2705172811664749
          ],
          [
           2750,
           -431.49,
           0.6999284576453508
          ],
          [
           2751,
           -623.16,
           0.5428532702600553
          ],
          [
           2752,
           -874.68,
           0.6701879917246725
          ],
          [
           2753,
           -593.58,
           0.6140043992620701
          ],
          [
           2754,
           -1556.44,
           0.7068004204969238
          ],
          [
           2755,
           -756.47,
           0.3490286481155191
          ],
          [
           2756,
           -627.78,
           0.4563107778124831
          ],
          [
           2757,
           -889.74,
           0.314675466299005
          ],
          [
           2758,
           -951.69,
           0.621491759389194
          ],
          [
           2764,
           -771.49,
           0.5221786469825789
          ],
          [
           2767,
           -950.17,
           0.4512703306070751
          ],
          [
           2768,
           -656,
           0.4523415142533808
          ],
          [
           2769,
           -926.01,
           0.3164528774619057
          ],
          [
           2770,
           -949.107,
           0.4486359859266198
          ],
          [
           2771,
           -535.69,
           0.613389859960078
          ],
          [
           2772,
           -664.06,
           -0.0361165593890717
          ],
          [
           2774,
           -550.86,
           0.7267892650313801
          ],
          [
           2775,
           -151.48,
           0.5686600133694473
          ],
          [
           2776,
           -177.64,
           0.9507456224769708
          ],
          [
           2778,
           -217.52,
           0.8339469878546417
          ],
          [
           2779,
           -992.14,
           0.3660828347969111
          ],
          [
           2794,
           -207.54,
           0.6402822372518617
          ]
         ],
         "hovertemplate": "<b>Earthquake: %{customdata[0]}</b><br>Source Lon: %{x:.3f}<br>Source Lat: %{y:.3f}<br>Source Depth(m): %{customdata[1]:.3f}<br>Magnitude: %{customdata[2]:.3f}<br><extra></extra>",
         "legendgroup": "",
         "marker": {
          "color": [
           -873.3,
           -265.14,
           -121.14,
           -108.44,
           -393.28,
           -296.92,
           -142.22,
           -403.04,
           -385.08,
           -256.33,
           -191.3,
           -445.61,
           -67.47,
           -532.39,
           -561.15,
           -161.62,
           803.869,
           -168.02,
           -416.75,
           -2306.25,
           -169.41,
           -146.65,
           209.74,
           -134.73,
           -683.91,
           -453.34,
           -478.98,
           -507.07,
           -214.13,
           -368.07,
           -177.53,
           64.81,
           68.45,
           -107.76,
           251.13,
           -74.98,
           -109.53,
           -84.57,
           250.79,
           -233.17,
           -274.92,
           -164.9,
           -13.17,
           -692.81,
           -115.19,
           331.77,
           -64.16,
           -850.149,
           -1599.405,
           -525,
           -424.03,
           -172.67,
           -754.4,
           -231.37,
           -574.33,
           -1113.04,
           -1009.52,
           3.64,
           -319.16,
           -609.22,
           -102.92,
           -407.01,
           662.5,
           -339.76,
           -689.32,
           -59.39,
           -139.37,
           -117.72,
           -649.73,
           -195.78,
           -669.2,
           244.83,
           -415.63,
           -257.96,
           -312.03,
           -311.85,
           32.67,
           -750.28,
           -68.75,
           -913.38,
           -440.179,
           -176.63,
           -608.43,
           -575.34,
           -553.274,
           -8.39,
           -296.89,
           -91.02,
           -354.95,
           -379.87,
           -133.31,
           -167.9,
           -520.37,
           -415.87,
           -750.98,
           -896.59,
           -794.7,
           -419.8,
           -995.77,
           -555.34,
           -809.22,
           -614.53,
           -609.821,
           -881.36,
           -167.65,
           4.15,
           1.89,
           47.52,
           12.21,
           -342.5,
           -625.31,
           71.75,
           -441.05,
           -133.13,
           -257.81,
           -71.89,
           -625.3,
           -554.11,
           -59.32,
           -75.74,
           -480.41,
           -137.97,
           -225.48,
           -456.13,
           -111,
           -421.8,
           -903.9,
           -71.26,
           -43.09,
           -565.29,
           -67.75,
           -89.41,
           -223.33,
           747.321,
           -2306.25,
           -270.536,
           -887.79,
           -818.57,
           -851.69,
           -1581.49,
           -26.4,
           6.39,
           -638.19,
           -775.4,
           -664.94,
           -595.6,
           -636.49,
           -1027.57,
           -723.51,
           -778.93,
           -707.81,
           -1048.4,
           -431.49,
           -623.16,
           -874.68,
           -593.58,
           -1556.44,
           -756.47,
           -627.78,
           -889.74,
           -951.69,
           -771.49,
           -950.17,
           -656,
           -926.01,
           -949.107,
           -535.69,
           -664.06,
           -550.86,
           -151.48,
           -177.64,
           -217.52,
           -992.14,
           -207.54
          ],
          "coloraxis": "coloraxis",
          "size": [
           0.26121926379333965,
           0.48757248288339333,
           0.9357870939555013,
           0.5214916621019866,
           0.35219402608228434,
           0.40704738492157877,
           0.7585852770251673,
           0.32973477042076427,
           0.40003456308408647,
           0.3860350052084138,
           0.35606272958091095,
           0.3858298764083013,
           0.38433832881365154,
           0.4212146711621607,
           0.3899373649915553,
           0.41241798139134894,
           0.37084015429552425,
           0.48072253553471195,
           0.30852960719446176,
           0.0028692454614197955,
           0.2979737115189588,
           0.3368878690137922,
           0.35618495265499844,
           0.2921110320170848,
           0.1081413156833812,
           0.3760937692697295,
           0.4854116466343103,
           0.40766030924340824,
           0.6066596912457497,
           0.34024844421863604,
           0.3065047603698797,
           0.06086823038335067,
           0.10104065840751614,
           0.5958125731337792,
           0.4967295596305281,
           0.7856336127425101,
           0.6060959120136575,
           0.39570494731941414,
           0.41405458962048647,
           0.49911741740423904,
           0.28368805366224087,
           0.34714604617394773,
           0.3212857661678075,
           0.033455997831041764,
           0.29805489929273776,
           0.31859052705659413,
           0.6140644616010955,
           0.1342007180594885,
           0.14528283359963742,
           0.6940793560052481,
           0.27872980734666736,
           0.24779259821807362,
           0.21165101363011704,
           0.4392926581004484,
           0.2514395337237632,
           0.22178475011494306,
           0.08370449585248636,
           0.5693748525348759,
           0.4361008158070212,
           0,
           0.22915517521459047,
           0.31763310394331634,
           0.3271840748264702,
           0.2939032432835856,
           0.15791672762989514,
           0.37841669095582625,
           0.45413204160055576,
           0.4803792191631404,
           0.1885761082155735,
           0.620761380702139,
           0.1941492873096316,
           0.5033565218065048,
           0.426223125848959,
           0.3607494007765394,
           0.4521806568928299,
           0.2873942876185693,
           0.23665484558626773,
           0.07575918580605258,
           0.41616168305502,
           0.1147701235967731,
           0.2788446066892547,
           0.31902073541394915,
           0.017897390697204495,
           0.17082801180413032,
           0.12632196709859259,
           0.4281931283986698,
           0.29477053446194973,
           0.6073941247844591,
           0.26087319934820563,
           0.2920146023181378,
           0.4441813187984746,
           0.2401028304080796,
           0.19290999398011208,
           0.1819557973559814,
           0.030601400693219285,
           0.01932221151135632,
           0.16566429270911315,
           0.2108044652779037,
           0.05364439560929442,
           0.28591635965572426,
           0.04672521297357887,
           0.15998373298173046,
           0.04439117115516745,
           0.12801356215433243,
           0.380248365902385,
           0.46811101404392785,
           0.24589020553298357,
           0.367885387260317,
           0.9999999999575369,
           0.2225965074870935,
           0.059290391465294454,
           0.36369881309412905,
           0.3460224101466797,
           0.5348420787356207,
           0.35943474352850086,
           0.3226355360500492,
           0.05015894757867023,
           0.209765666158173,
           0.33733479126657595,
           0.1323191912346934,
           0.23613110090826625,
           0.29081349231537157,
           0.3451855993448796,
           0.14733136760108326,
           0.2314807162419994,
           0.24342478374538126,
           0.026717576988006895,
           0.32808519992903407,
           0.33470443136274414,
           0.18700707351323434,
           0.18601437218776268,
           0.41425949464172485,
           0.2780685235656538,
           0.5273913747325188,
           0.04302291477821752,
           0.48718186658444435,
           0.40718559741708965,
           0.1299548893916375,
           0.16574337153170163,
           0.12198770279374821,
           0.4801357646086058,
           0.40521450891099414,
           0.34678693931022947,
           0.2870186924452656,
           0.31390485875628227,
           0.26365041712447573,
           0.39652705201823135,
           0.3168789057233383,
           0.23700748594350432,
           0.3668332025141273,
           0.32054797211654446,
           0.19289109944623406,
           0.37523276144665485,
           0.3085336341400062,
           0.3626040124021825,
           0.3387466696315776,
           0.37815081574099296,
           0.22622952638891955,
           0.27178493552450694,
           0.21164207126306545,
           0.3419260412091188,
           0.2997545306230462,
           0.26964460110611604,
           0.27009945979884187,
           0.21239681665222596,
           0.26852597445262505,
           0.3384857166712736,
           0.0626846046573848,
           0.38663871576205844,
           0.31949199919228594,
           0.4817377179982012,
           0.43214129777679355,
           0.23347127721862446,
           0.3499050765741415
          ],
          "sizemode": "area",
          "sizeref": 0.0024999999998938423,
          "symbol": "circle"
         },
         "mode": "markers",
         "name": "",
         "orientation": "v",
         "showlegend": false,
         "type": "scatter",
         "x": [
          126.3693848,
          126.3640869,
          126.3634684,
          126.3647542,
          126.3714844,
          126.3662191,
          126.3628418,
          126.3634603,
          126.3657633,
          126.3642334,
          126.3648682,
          126.3582031,
          126.3599365,
          126.3560384,
          126.3544027,
          126.3618001,
          126.3760184,
          126.3639974,
          126.3565755,
          126.3504457,
          126.3611654,
          126.3619873,
          126.3631104,
          126.3601156,
          126.3530599,
          126.3656657,
          126.3660645,
          126.3656657,
          126.3634684,
          126.3658854,
          126.3632406,
          126.3589193,
          126.3655273,
          126.3612467,
          126.3622233,
          126.3600179,
          126.3609701,
          126.3612874,
          126.3627604,
          126.3617025,
          126.366097,
          126.358016,
          126.3587077,
          126.3652995,
          126.3539958,
          126.3599691,
          126.3602132,
          126.3758973,
          126.3441239,
          126.3577433,
          126.3582682,
          126.3663574,
          126.350236,
          126.3546631,
          126.3572347,
          126.3525879,
          126.3492188,
          126.3641357,
          126.3579671,
          126.3550537,
          126.3595703,
          126.3569336,
          126.3681443,
          126.366805,
          126.3536051,
          126.3606283,
          126.3582926,
          126.361141,
          126.3500326,
          126.3613688,
          126.3551351,
          126.3547282,
          126.3560465,
          126.3592448,
          126.3553711,
          126.3525798,
          126.3589355,
          126.3580078,
          126.3597656,
          126.3519206,
          126.361329,
          126.3601237,
          126.3535645,
          126.3577718,
          126.3564038,
          126.3601725,
          126.3571452,
          126.3615967,
          126.3623128,
          126.3685303,
          126.3617106,
          126.3583252,
          126.3517822,
          126.3565999,
          126.3609131,
          126.3515137,
          126.3532633,
          126.3575928,
          126.3509684,
          126.3550944,
          126.3536214,
          126.3566081,
          126.3531477,
          126.3527995,
          126.360848,
          126.3594076,
          126.3565348,
          126.3583252,
          126.3612305,
          126.3560954,
          126.354484,
          126.3554118,
          126.3571533,
          126.3595459,
          126.3642741,
          126.3622152,
          126.3552165,
          126.3547526,
          126.3575439,
          126.3613688,
          126.3563395,
          126.3618734,
          126.3598389,
          126.3565104,
          126.3649495,
          126.356901,
          126.3545166,
          126.360498,
          126.3590495,
          126.3542969,
          126.3677002,
          126.3606608,
          126.3613932,
          126.3433656,
          126.3487857,
          126.3640703,
          126.3524658,
          126.3493571,
          126.3496012,
          126.3448242,
          126.3605876,
          126.3583903,
          126.3542806,
          126.3518636,
          126.3547933,
          126.3557861,
          126.3553223,
          126.3496582,
          126.3542399,
          126.3534342,
          126.3546061,
          126.3495605,
          126.3575033,
          126.3548014,
          126.3508952,
          126.3561279,
          126.3446045,
          126.3545573,
          126.3555176,
          126.3519287,
          126.3522949,
          126.353597,
          126.3492432,
          126.3551351,
          126.3499023,
          126.3700208,
          126.3578206,
          126.3572021,
          126.3543294,
          126.3608073,
          126.3614909,
          126.3620036,
          126.3492025,
          126.3523275
         ],
         "xaxis": "x",
         "y": [
          38.2443639,
          38.2404327,
          38.2405093,
          38.2399249,
          38.245665,
          38.2416789,
          38.2394341,
          38.2430016,
          38.2424685,
          38.2405764,
          38.2408755,
          38.2412506,
          38.2409284,
          38.2414246,
          38.2425863,
          38.240318,
          38.245723915,
          38.242099,
          38.2409238,
          38.229807734,
          38.2428019,
          38.2400757,
          38.2481832,
          38.241053,
          38.2401479,
          38.2425214,
          38.2427358,
          38.2421204,
          38.2415736,
          38.2415225,
          38.2394862,
          38.2450358,
          38.2416903,
          38.239419,
          38.2468923,
          38.2406548,
          38.240731,
          38.2420428,
          38.2355619,
          38.240034,
          38.2410108,
          38.2415326,
          38.241391,
          38.2473938,
          38.2438049,
          38.2460335,
          38.2393443,
          38.238476332,
          38.256321738,
          38.256897917,
          38.2411161,
          38.244593,
          38.2468508,
          38.2387014,
          38.2423884,
          38.2404678,
          38.2449778,
          38.2434799,
          38.2412862,
          38.2415372,
          38.2426648,
          38.2439471,
          38.233400549,
          38.2491015,
          38.2366966,
          38.2384377,
          38.237768,
          38.2408226,
          38.2479126,
          38.2401952,
          38.240682,
          38.2451441,
          38.2404615,
          38.2424431,
          38.241198,
          38.2403753,
          38.2403308,
          38.23937,
          38.2403041,
          38.2469704,
          38.235847471,
          38.2422852,
          38.2443616,
          38.241066,
          38.246229287,
          38.2395772,
          38.240847,
          38.2405047,
          38.2420771,
          38.2425774,
          38.2399152,
          38.2434888,
          38.2427839,
          38.2386757,
          38.2368947,
          38.2384544,
          38.2454104,
          38.2408432,
          38.2369479,
          38.2412867,
          38.243841,
          38.2424088,
          38.240205764,
          38.2372449,
          38.2381597,
          38.2404958,
          38.2390831,
          38.2405846,
          38.2390472,
          38.2416593,
          38.2424011,
          38.2385872,
          38.239978,
          38.2406754,
          38.2414831,
          38.2401014,
          38.2454208,
          38.2378273,
          38.2399272,
          38.2403618,
          38.2396617,
          38.2399429,
          38.24219,
          38.2412046,
          38.2401578,
          38.2384984,
          38.2371188,
          38.2399709,
          38.2399859,
          38.2389107,
          38.2395442,
          38.2402433,
          38.2388184,
          38.228698692,
          38.241837318,
          38.227648814,
          38.2462301,
          38.2431529,
          38.2457705,
          38.2464455,
          38.2407951,
          38.2415037,
          38.2420451,
          38.2434191,
          38.2408437,
          38.243544,
          38.2411509,
          38.242278,
          38.2411674,
          38.2421494,
          38.2417809,
          38.2424357,
          38.2421903,
          38.2422218,
          38.2461591,
          38.2412137,
          38.24397,
          38.2431981,
          38.241143,
          38.2433416,
          38.2425102,
          38.2421598,
          38.2429075,
          38.2412328,
          38.2440679,
          38.247899112,
          38.2421527,
          38.2398188,
          38.248923,
          38.2396634,
          38.2408353,
          38.2407417,
          38.243661,
          38.2424604
         ],
         "yaxis": "y"
        },
        {
         "hovertemplate": "<b>%{text}</b><br>Lat: %{y:.2f}<br>Lon: %{x:.2f}<extra></extra>",
         "marker": {
          "color": "red",
          "size": 16,
          "symbol": "triangle-down"
         },
         "mode": "markers+text",
         "name": "Stations",
         "text": [
          "KJ09",
          "KJ09",
          "KJ14",
          "KJ13",
          "KJ14",
          "KJ12",
          "KJ14",
          "KJ13",
          "KJ14",
          "KJ12",
          "KJ12",
          "KJ14",
          "KJ13",
          "KJ14",
          "KJ13",
          "KJ13",
          "KJ13",
          "KJ12",
          "KJ13",
          "KJ13",
          "KJ09",
          "KJ13",
          "KJ13",
          "KJ14",
          "KJ14",
          "KJ10",
          "KJ12",
          "KJ11",
          "KJ12",
          "KJ11",
          "KJ11",
          "KJ11",
          "KJ14",
          "KJ11",
          "KJ11",
          "KJ15",
          "KJ13",
          "KJ13",
          "KJ13",
          "KJ11",
          "KJ11",
          "KJ11",
          "KJ11",
          "KJ11",
          "KJ14",
          "KJ14",
          "KJ14",
          "KJ14",
          "KJ11",
          "KJ14",
          "KJ11",
          "KJ11",
          "KJ14",
          "KJ13",
          "KJ13",
          "KJ13",
          "KJ13",
          "KJ14",
          "KJ14",
          "KJ14",
          "KJ10",
          "KJ11",
          "KJ09",
          "KJ10",
          "KJ14",
          "KJ10",
          "KJ10",
          "KJ14",
          "KJ14",
          "KJ14",
          "KJ10",
          "KJ09",
          "KJ14",
          "KJ14",
          "KJ14",
          "KJ10",
          "KJ10",
          "KJ10",
          "KJ14",
          "KJ10",
          "KJ10",
          "KJ12",
          "KJ10",
          "KJ14",
          "KJ10",
          "KJ12",
          "KJ10",
          "KJ10",
          "KJ10",
          "KJ10",
          "KJ10",
          "KJ14",
          "KJ10",
          "KJ12",
          "KJ10",
          "KJ10",
          "KJ14",
          "KJ10",
          "KJ10",
          "KJ10",
          "KJ10",
          "KJ14",
          "KJ10",
          "KJ10",
          "KJ10",
          "KJ10",
          "KJ10",
          "KJ10",
          "KJ14",
          "KJ10",
          "KJ10",
          "KJ10",
          "KJ10",
          "KJ10",
          "KJ10",
          "KJ10",
          "KJ10",
          "KJ10",
          "KJ10",
          "KJ10",
          "KJ10",
          "KJ10",
          "KJ12",
          "KJ10",
          "KJ10",
          "KJ10",
          "KJ10",
          "KJ12",
          "KJ10",
          "KJ10",
          "KJ10",
          "KJ10",
          "KJ10",
          "KJ10",
          "KJ10",
          "KJ10",
          "KJ10",
          "KJ14",
          "KJ10",
          "KJ12",
          "KJ10",
          "KJ10",
          "KJ10",
          "KJ14",
          "KJ10",
          "KJ10",
          "KJ10",
          "KJ14",
          "KJ14",
          "KJ14",
          "KJ10",
          "KJ14",
          "KJ14",
          "KJ10",
          "KJ10",
          "KJ14",
          "KJ14",
          "KJ14",
          "KJ14",
          "KJ10",
          "KJ10",
          "KJ10",
          "KJ10",
          "KJ14",
          "KJ10",
          "KJ14",
          "KJ14",
          "KJ14",
          "KJ14",
          "KJ14",
          "KJ14",
          "KJ12",
          "KJ14",
          "KJ10",
          "KJ10",
          "KJ14",
          "KJ14",
          "KJ10",
          "KJ14",
          "KJ14",
          "KJ14",
          "KJ10",
          "KJ10",
          "KJ14",
          "KJ10",
          "KJ10",
          "KJ10",
          "KJ14",
          "KJ10"
         ],
         "textfont": {
          "color": "#333333",
          "size": 12
         },
         "textposition": "top center",
         "type": "scatter",
         "x": [
          126.364433,
          126.364433,
          126.362021,
          126.356779,
          126.362021,
          126.366364,
          126.362021,
          126.356779,
          126.362021,
          126.366364,
          126.366364,
          126.362021,
          126.356779,
          126.362021,
          126.356779,
          126.356779,
          126.356779,
          126.366364,
          126.356779,
          126.356779,
          126.364433,
          126.356779,
          126.356779,
          126.362021,
          126.362021,
          126.359078,
          126.366364,
          126.372777,
          126.366364,
          126.372777,
          126.372777,
          126.372777,
          126.362021,
          126.372777,
          126.372777,
          126.369522,
          126.356779,
          126.356779,
          126.356779,
          126.372777,
          126.372777,
          126.372777,
          126.372777,
          126.372777,
          126.362021,
          126.362021,
          126.362021,
          126.362021,
          126.372777,
          126.362021,
          126.372777,
          126.372777,
          126.362021,
          126.356779,
          126.356779,
          126.356779,
          126.356779,
          126.362021,
          126.362021,
          126.362021,
          126.359078,
          126.372777,
          126.364433,
          126.359078,
          126.362021,
          126.359078,
          126.359078,
          126.362021,
          126.362021,
          126.362021,
          126.359078,
          126.364433,
          126.362021,
          126.362021,
          126.362021,
          126.359078,
          126.359078,
          126.359078,
          126.362021,
          126.359078,
          126.359078,
          126.366364,
          126.359078,
          126.362021,
          126.359078,
          126.366364,
          126.359078,
          126.359078,
          126.359078,
          126.359078,
          126.359078,
          126.362021,
          126.359078,
          126.366364,
          126.359078,
          126.359078,
          126.362021,
          126.359078,
          126.359078,
          126.359078,
          126.359078,
          126.362021,
          126.359078,
          126.359078,
          126.359078,
          126.359078,
          126.359078,
          126.359078,
          126.362021,
          126.359078,
          126.359078,
          126.359078,
          126.359078,
          126.359078,
          126.359078,
          126.359078,
          126.359078,
          126.359078,
          126.359078,
          126.359078,
          126.359078,
          126.359078,
          126.366364,
          126.359078,
          126.359078,
          126.359078,
          126.359078,
          126.366364,
          126.359078,
          126.359078,
          126.359078,
          126.359078,
          126.359078,
          126.359078,
          126.359078,
          126.359078,
          126.359078,
          126.362021,
          126.359078,
          126.366364,
          126.359078,
          126.359078,
          126.359078,
          126.362021,
          126.359078,
          126.359078,
          126.359078,
          126.362021,
          126.362021,
          126.362021,
          126.359078,
          126.362021,
          126.362021,
          126.359078,
          126.359078,
          126.362021,
          126.362021,
          126.362021,
          126.362021,
          126.359078,
          126.359078,
          126.359078,
          126.359078,
          126.362021,
          126.359078,
          126.362021,
          126.362021,
          126.362021,
          126.362021,
          126.362021,
          126.362021,
          126.366364,
          126.362021,
          126.359078,
          126.359078,
          126.362021,
          126.362021,
          126.359078,
          126.362021,
          126.362021,
          126.362021,
          126.359078,
          126.359078,
          126.362021,
          126.359078,
          126.359078,
          126.359078,
          126.362021,
          126.359078
         ],
         "y": [
          38.22482,
          38.22482,
          38.24528,
          38.240449,
          38.24528,
          38.236119,
          38.24528,
          38.240449,
          38.24528,
          38.236119,
          38.236119,
          38.24528,
          38.240449,
          38.24528,
          38.240449,
          38.240449,
          38.240449,
          38.236119,
          38.240449,
          38.240449,
          38.22482,
          38.240449,
          38.240449,
          38.24528,
          38.24528,
          38.231261,
          38.236119,
          38.231774,
          38.236119,
          38.231774,
          38.231774,
          38.231774,
          38.24528,
          38.231774,
          38.231774,
          38.243717,
          38.240449,
          38.240449,
          38.240449,
          38.231774,
          38.231774,
          38.231774,
          38.231774,
          38.231774,
          38.24528,
          38.24528,
          38.24528,
          38.24528,
          38.231774,
          38.24528,
          38.231774,
          38.231774,
          38.24528,
          38.240449,
          38.240449,
          38.240449,
          38.240449,
          38.24528,
          38.24528,
          38.24528,
          38.231261,
          38.231774,
          38.22482,
          38.231261,
          38.24528,
          38.231261,
          38.231261,
          38.24528,
          38.24528,
          38.24528,
          38.231261,
          38.22482,
          38.24528,
          38.24528,
          38.24528,
          38.231261,
          38.231261,
          38.231261,
          38.24528,
          38.231261,
          38.231261,
          38.236119,
          38.231261,
          38.24528,
          38.231261,
          38.236119,
          38.231261,
          38.231261,
          38.231261,
          38.231261,
          38.231261,
          38.24528,
          38.231261,
          38.236119,
          38.231261,
          38.231261,
          38.24528,
          38.231261,
          38.231261,
          38.231261,
          38.231261,
          38.24528,
          38.231261,
          38.231261,
          38.231261,
          38.231261,
          38.231261,
          38.231261,
          38.24528,
          38.231261,
          38.231261,
          38.231261,
          38.231261,
          38.231261,
          38.231261,
          38.231261,
          38.231261,
          38.231261,
          38.231261,
          38.231261,
          38.231261,
          38.231261,
          38.236119,
          38.231261,
          38.231261,
          38.231261,
          38.231261,
          38.236119,
          38.231261,
          38.231261,
          38.231261,
          38.231261,
          38.231261,
          38.231261,
          38.231261,
          38.231261,
          38.231261,
          38.24528,
          38.231261,
          38.236119,
          38.231261,
          38.231261,
          38.231261,
          38.24528,
          38.231261,
          38.231261,
          38.231261,
          38.24528,
          38.24528,
          38.24528,
          38.231261,
          38.24528,
          38.24528,
          38.231261,
          38.231261,
          38.24528,
          38.24528,
          38.24528,
          38.24528,
          38.231261,
          38.231261,
          38.231261,
          38.231261,
          38.24528,
          38.231261,
          38.24528,
          38.24528,
          38.24528,
          38.24528,
          38.24528,
          38.24528,
          38.236119,
          38.24528,
          38.231261,
          38.231261,
          38.24528,
          38.24528,
          38.231261,
          38.24528,
          38.24528,
          38.24528,
          38.231261,
          38.231261,
          38.24528,
          38.231261,
          38.231261,
          38.231261,
          38.24528,
          38.231261
         ]
        }
       ],
       "layout": {
        "coloraxis": {
         "colorbar": {
          "title": {
           "text": "depth_m"
          }
         },
         "colorscale": [
          [
           0,
           "#440154"
          ],
          [
           0.1111111111111111,
           "#482878"
          ],
          [
           0.2222222222222222,
           "#3e4989"
          ],
          [
           0.3333333333333333,
           "#31688e"
          ],
          [
           0.4444444444444444,
           "#26828e"
          ],
          [
           0.5555555555555556,
           "#1f9e89"
          ],
          [
           0.6666666666666666,
           "#35b779"
          ],
          [
           0.7777777777777778,
           "#6ece58"
          ],
          [
           0.8888888888888888,
           "#b5de2b"
          ],
          [
           1,
           "#fde725"
          ]
         ]
        },
        "height": 720,
        "legend": {
         "bgcolor": "rgba(255,255,255,0.5)",
         "itemsizing": "constant",
         "tracegroupgap": 0,
         "x": 0.01,
         "xanchor": "left",
         "y": 0.99,
         "yanchor": "top"
        },
        "showlegend": true,
        "template": {
         "data": {
          "bar": [
           {
            "error_x": {
             "color": "#2a3f5f"
            },
            "error_y": {
             "color": "#2a3f5f"
            },
            "marker": {
             "line": {
              "color": "white",
              "width": 0.5
             },
             "pattern": {
              "fillmode": "overlay",
              "size": 10,
              "solidity": 0.2
             }
            },
            "type": "bar"
           }
          ],
          "barpolar": [
           {
            "marker": {
             "line": {
              "color": "white",
              "width": 0.5
             },
             "pattern": {
              "fillmode": "overlay",
              "size": 10,
              "solidity": 0.2
             }
            },
            "type": "barpolar"
           }
          ],
          "carpet": [
           {
            "aaxis": {
             "endlinecolor": "#2a3f5f",
             "gridcolor": "#C8D4E3",
             "linecolor": "#C8D4E3",
             "minorgridcolor": "#C8D4E3",
             "startlinecolor": "#2a3f5f"
            },
            "baxis": {
             "endlinecolor": "#2a3f5f",
             "gridcolor": "#C8D4E3",
             "linecolor": "#C8D4E3",
             "minorgridcolor": "#C8D4E3",
             "startlinecolor": "#2a3f5f"
            },
            "type": "carpet"
           }
          ],
          "choropleth": [
           {
            "colorbar": {
             "outlinewidth": 0,
             "ticks": ""
            },
            "type": "choropleth"
           }
          ],
          "contour": [
           {
            "colorbar": {
             "outlinewidth": 0,
             "ticks": ""
            },
            "colorscale": [
             [
              0,
              "#0d0887"
             ],
             [
              0.1111111111111111,
              "#46039f"
             ],
             [
              0.2222222222222222,
              "#7201a8"
             ],
             [
              0.3333333333333333,
              "#9c179e"
             ],
             [
              0.4444444444444444,
              "#bd3786"
             ],
             [
              0.5555555555555556,
              "#d8576b"
             ],
             [
              0.6666666666666666,
              "#ed7953"
             ],
             [
              0.7777777777777778,
              "#fb9f3a"
             ],
             [
              0.8888888888888888,
              "#fdca26"
             ],
             [
              1,
              "#f0f921"
             ]
            ],
            "type": "contour"
           }
          ],
          "contourcarpet": [
           {
            "colorbar": {
             "outlinewidth": 0,
             "ticks": ""
            },
            "type": "contourcarpet"
           }
          ],
          "heatmap": [
           {
            "colorbar": {
             "outlinewidth": 0,
             "ticks": ""
            },
            "colorscale": [
             [
              0,
              "#0d0887"
             ],
             [
              0.1111111111111111,
              "#46039f"
             ],
             [
              0.2222222222222222,
              "#7201a8"
             ],
             [
              0.3333333333333333,
              "#9c179e"
             ],
             [
              0.4444444444444444,
              "#bd3786"
             ],
             [
              0.5555555555555556,
              "#d8576b"
             ],
             [
              0.6666666666666666,
              "#ed7953"
             ],
             [
              0.7777777777777778,
              "#fb9f3a"
             ],
             [
              0.8888888888888888,
              "#fdca26"
             ],
             [
              1,
              "#f0f921"
             ]
            ],
            "type": "heatmap"
           }
          ],
          "heatmapgl": [
           {
            "colorbar": {
             "outlinewidth": 0,
             "ticks": ""
            },
            "colorscale": [
             [
              0,
              "#0d0887"
             ],
             [
              0.1111111111111111,
              "#46039f"
             ],
             [
              0.2222222222222222,
              "#7201a8"
             ],
             [
              0.3333333333333333,
              "#9c179e"
             ],
             [
              0.4444444444444444,
              "#bd3786"
             ],
             [
              0.5555555555555556,
              "#d8576b"
             ],
             [
              0.6666666666666666,
              "#ed7953"
             ],
             [
              0.7777777777777778,
              "#fb9f3a"
             ],
             [
              0.8888888888888888,
              "#fdca26"
             ],
             [
              1,
              "#f0f921"
             ]
            ],
            "type": "heatmapgl"
           }
          ],
          "histogram": [
           {
            "marker": {
             "pattern": {
              "fillmode": "overlay",
              "size": 10,
              "solidity": 0.2
             }
            },
            "type": "histogram"
           }
          ],
          "histogram2d": [
           {
            "colorbar": {
             "outlinewidth": 0,
             "ticks": ""
            },
            "colorscale": [
             [
              0,
              "#0d0887"
             ],
             [
              0.1111111111111111,
              "#46039f"
             ],
             [
              0.2222222222222222,
              "#7201a8"
             ],
             [
              0.3333333333333333,
              "#9c179e"
             ],
             [
              0.4444444444444444,
              "#bd3786"
             ],
             [
              0.5555555555555556,
              "#d8576b"
             ],
             [
              0.6666666666666666,
              "#ed7953"
             ],
             [
              0.7777777777777778,
              "#fb9f3a"
             ],
             [
              0.8888888888888888,
              "#fdca26"
             ],
             [
              1,
              "#f0f921"
             ]
            ],
            "type": "histogram2d"
           }
          ],
          "histogram2dcontour": [
           {
            "colorbar": {
             "outlinewidth": 0,
             "ticks": ""
            },
            "colorscale": [
             [
              0,
              "#0d0887"
             ],
             [
              0.1111111111111111,
              "#46039f"
             ],
             [
              0.2222222222222222,
              "#7201a8"
             ],
             [
              0.3333333333333333,
              "#9c179e"
             ],
             [
              0.4444444444444444,
              "#bd3786"
             ],
             [
              0.5555555555555556,
              "#d8576b"
             ],
             [
              0.6666666666666666,
              "#ed7953"
             ],
             [
              0.7777777777777778,
              "#fb9f3a"
             ],
             [
              0.8888888888888888,
              "#fdca26"
             ],
             [
              1,
              "#f0f921"
             ]
            ],
            "type": "histogram2dcontour"
           }
          ],
          "mesh3d": [
           {
            "colorbar": {
             "outlinewidth": 0,
             "ticks": ""
            },
            "type": "mesh3d"
           }
          ],
          "parcoords": [
           {
            "line": {
             "colorbar": {
              "outlinewidth": 0,
              "ticks": ""
             }
            },
            "type": "parcoords"
           }
          ],
          "pie": [
           {
            "automargin": true,
            "type": "pie"
           }
          ],
          "scatter": [
           {
            "fillpattern": {
             "fillmode": "overlay",
             "size": 10,
             "solidity": 0.2
            },
            "type": "scatter"
           }
          ],
          "scatter3d": [
           {
            "line": {
             "colorbar": {
              "outlinewidth": 0,
              "ticks": ""
             }
            },
            "marker": {
             "colorbar": {
              "outlinewidth": 0,
              "ticks": ""
             }
            },
            "type": "scatter3d"
           }
          ],
          "scattercarpet": [
           {
            "marker": {
             "colorbar": {
              "outlinewidth": 0,
              "ticks": ""
             }
            },
            "type": "scattercarpet"
           }
          ],
          "scattergeo": [
           {
            "marker": {
             "colorbar": {
              "outlinewidth": 0,
              "ticks": ""
             }
            },
            "type": "scattergeo"
           }
          ],
          "scattergl": [
           {
            "marker": {
             "colorbar": {
              "outlinewidth": 0,
              "ticks": ""
             }
            },
            "type": "scattergl"
           }
          ],
          "scattermapbox": [
           {
            "marker": {
             "colorbar": {
              "outlinewidth": 0,
              "ticks": ""
             }
            },
            "type": "scattermapbox"
           }
          ],
          "scatterpolar": [
           {
            "marker": {
             "colorbar": {
              "outlinewidth": 0,
              "ticks": ""
             }
            },
            "type": "scatterpolar"
           }
          ],
          "scatterpolargl": [
           {
            "marker": {
             "colorbar": {
              "outlinewidth": 0,
              "ticks": ""
             }
            },
            "type": "scatterpolargl"
           }
          ],
          "scatterternary": [
           {
            "marker": {
             "colorbar": {
              "outlinewidth": 0,
              "ticks": ""
             }
            },
            "type": "scatterternary"
           }
          ],
          "surface": [
           {
            "colorbar": {
             "outlinewidth": 0,
             "ticks": ""
            },
            "colorscale": [
             [
              0,
              "#0d0887"
             ],
             [
              0.1111111111111111,
              "#46039f"
             ],
             [
              0.2222222222222222,
              "#7201a8"
             ],
             [
              0.3333333333333333,
              "#9c179e"
             ],
             [
              0.4444444444444444,
              "#bd3786"
             ],
             [
              0.5555555555555556,
              "#d8576b"
             ],
             [
              0.6666666666666666,
              "#ed7953"
             ],
             [
              0.7777777777777778,
              "#fb9f3a"
             ],
             [
              0.8888888888888888,
              "#fdca26"
             ],
             [
              1,
              "#f0f921"
             ]
            ],
            "type": "surface"
           }
          ],
          "table": [
           {
            "cells": {
             "fill": {
              "color": "#EBF0F8"
             },
             "line": {
              "color": "white"
             }
            },
            "header": {
             "fill": {
              "color": "#C8D4E3"
             },
             "line": {
              "color": "white"
             }
            },
            "type": "table"
           }
          ]
         },
         "layout": {
          "annotationdefaults": {
           "arrowcolor": "#2a3f5f",
           "arrowhead": 0,
           "arrowwidth": 1
          },
          "autotypenumbers": "strict",
          "coloraxis": {
           "colorbar": {
            "outlinewidth": 0,
            "ticks": ""
           }
          },
          "colorscale": {
           "diverging": [
            [
             0,
             "#8e0152"
            ],
            [
             0.1,
             "#c51b7d"
            ],
            [
             0.2,
             "#de77ae"
            ],
            [
             0.3,
             "#f1b6da"
            ],
            [
             0.4,
             "#fde0ef"
            ],
            [
             0.5,
             "#f7f7f7"
            ],
            [
             0.6,
             "#e6f5d0"
            ],
            [
             0.7,
             "#b8e186"
            ],
            [
             0.8,
             "#7fbc41"
            ],
            [
             0.9,
             "#4d9221"
            ],
            [
             1,
             "#276419"
            ]
           ],
           "sequential": [
            [
             0,
             "#0d0887"
            ],
            [
             0.1111111111111111,
             "#46039f"
            ],
            [
             0.2222222222222222,
             "#7201a8"
            ],
            [
             0.3333333333333333,
             "#9c179e"
            ],
            [
             0.4444444444444444,
             "#bd3786"
            ],
            [
             0.5555555555555556,
             "#d8576b"
            ],
            [
             0.6666666666666666,
             "#ed7953"
            ],
            [
             0.7777777777777778,
             "#fb9f3a"
            ],
            [
             0.8888888888888888,
             "#fdca26"
            ],
            [
             1,
             "#f0f921"
            ]
           ],
           "sequentialminus": [
            [
             0,
             "#0d0887"
            ],
            [
             0.1111111111111111,
             "#46039f"
            ],
            [
             0.2222222222222222,
             "#7201a8"
            ],
            [
             0.3333333333333333,
             "#9c179e"
            ],
            [
             0.4444444444444444,
             "#bd3786"
            ],
            [
             0.5555555555555556,
             "#d8576b"
            ],
            [
             0.6666666666666666,
             "#ed7953"
            ],
            [
             0.7777777777777778,
             "#fb9f3a"
            ],
            [
             0.8888888888888888,
             "#fdca26"
            ],
            [
             1,
             "#f0f921"
            ]
           ]
          },
          "colorway": [
           "#636efa",
           "#EF553B",
           "#00cc96",
           "#ab63fa",
           "#FFA15A",
           "#19d3f3",
           "#FF6692",
           "#B6E880",
           "#FF97FF",
           "#FECB52"
          ],
          "font": {
           "color": "#2a3f5f"
          },
          "geo": {
           "bgcolor": "white",
           "lakecolor": "white",
           "landcolor": "white",
           "showlakes": true,
           "showland": true,
           "subunitcolor": "#C8D4E3"
          },
          "hoverlabel": {
           "align": "left"
          },
          "hovermode": "closest",
          "mapbox": {
           "style": "light"
          },
          "paper_bgcolor": "white",
          "plot_bgcolor": "white",
          "polar": {
           "angularaxis": {
            "gridcolor": "#EBF0F8",
            "linecolor": "#EBF0F8",
            "ticks": ""
           },
           "bgcolor": "white",
           "radialaxis": {
            "gridcolor": "#EBF0F8",
            "linecolor": "#EBF0F8",
            "ticks": ""
           }
          },
          "scene": {
           "xaxis": {
            "backgroundcolor": "white",
            "gridcolor": "#DFE8F3",
            "gridwidth": 2,
            "linecolor": "#EBF0F8",
            "showbackground": true,
            "ticks": "",
            "zerolinecolor": "#EBF0F8"
           },
           "yaxis": {
            "backgroundcolor": "white",
            "gridcolor": "#DFE8F3",
            "gridwidth": 2,
            "linecolor": "#EBF0F8",
            "showbackground": true,
            "ticks": "",
            "zerolinecolor": "#EBF0F8"
           },
           "zaxis": {
            "backgroundcolor": "white",
            "gridcolor": "#DFE8F3",
            "gridwidth": 2,
            "linecolor": "#EBF0F8",
            "showbackground": true,
            "ticks": "",
            "zerolinecolor": "#EBF0F8"
           }
          },
          "shapedefaults": {
           "line": {
            "color": "#2a3f5f"
           }
          },
          "ternary": {
           "aaxis": {
            "gridcolor": "#DFE8F3",
            "linecolor": "#A2B1C6",
            "ticks": ""
           },
           "baxis": {
            "gridcolor": "#DFE8F3",
            "linecolor": "#A2B1C6",
            "ticks": ""
           },
           "bgcolor": "white",
           "caxis": {
            "gridcolor": "#DFE8F3",
            "linecolor": "#A2B1C6",
            "ticks": ""
           }
          },
          "title": {
           "x": 0.05
          },
          "xaxis": {
           "automargin": true,
           "gridcolor": "#EBF0F8",
           "linecolor": "#EBF0F8",
           "ticks": "",
           "title": {
            "standoff": 15
           },
           "zerolinecolor": "#EBF0F8",
           "zerolinewidth": 2
          },
          "yaxis": {
           "automargin": true,
           "gridcolor": "#EBF0F8",
           "linecolor": "#EBF0F8",
           "ticks": "",
           "title": {
            "standoff": 15
           },
           "zerolinecolor": "#EBF0F8",
           "zerolinewidth": 2
          }
         }
        },
        "title": {
         "text": "Earthquake Locations (2D)"
        },
        "width": 960,
        "xaxis": {
         "anchor": "y",
         "domain": [
          0,
          1
         ],
         "range": [
          126.34958111710382,
          126.36637895485383
         ],
         "scaleanchor": "y",
         "scaleratio": 1,
         "title": {
          "text": "Longitude"
         }
        },
        "yaxis": {
         "anchor": "x",
         "domain": [
          0,
          1
         ],
         "range": [
          38.233057859262566,
          38.24985569701257
         ],
         "scaleratio": 1,
         "title": {
          "text": "Latitude"
         }
        }
       }
      }
     },
     "metadata": {},
     "output_type": "display_data"
    }
   ],
   "source": [
    "# Plot hypocenters 2D\n",
    "new_subset_area_lqt.plot_hypocenter_2d()"
   ]
  },
  {
   "cell_type": "markdown",
   "metadata": {},
   "source": [
    "##### B. Select Circular Area"
   ]
  },
  {
   "cell_type": "code",
   "execution_count": 41,
   "metadata": {},
   "outputs": [
    {
     "data": {
      "text/html": [
       "<div>\n",
       "<style scoped>\n",
       "    .dataframe tbody tr th:only-of-type {\n",
       "        vertical-align: middle;\n",
       "    }\n",
       "\n",
       "    .dataframe tbody tr th {\n",
       "        vertical-align: top;\n",
       "    }\n",
       "\n",
       "    .dataframe thead th {\n",
       "        text-align: right;\n",
       "    }\n",
       "</style>\n",
       "<table border=\"1\" class=\"dataframe\">\n",
       "  <thead>\n",
       "    <tr style=\"text-align: right;\">\n",
       "      <th></th>\n",
       "      <th>Unnamed: 0</th>\n",
       "      <th>source_id</th>\n",
       "      <th>source_lat</th>\n",
       "      <th>source_lon</th>\n",
       "      <th>source_depth_m</th>\n",
       "      <th>magnitude</th>\n",
       "      <th>network_code</th>\n",
       "      <th>station_code</th>\n",
       "      <th>station_lat</th>\n",
       "      <th>station_lon</th>\n",
       "      <th>...</th>\n",
       "      <th>s_p_lag_time_sec</th>\n",
       "      <th>coda_time</th>\n",
       "      <th>source_err_rms_s</th>\n",
       "      <th>n_phases</th>\n",
       "      <th>gap_degree</th>\n",
       "      <th>x_horizontal_err_m</th>\n",
       "      <th>y_horizontal_err_m</th>\n",
       "      <th>z_depth_err_m</th>\n",
       "      <th>earthquake_type</th>\n",
       "      <th>remarks</th>\n",
       "    </tr>\n",
       "  </thead>\n",
       "  <tbody>\n",
       "    <tr>\n",
       "      <th>0</th>\n",
       "      <td>0</td>\n",
       "      <td>2000</td>\n",
       "      <td>38.244364</td>\n",
       "      <td>126.369385</td>\n",
       "      <td>-873.300</td>\n",
       "      <td>0.431429</td>\n",
       "      <td>KJ</td>\n",
       "      <td>KJ09</td>\n",
       "      <td>38.224820</td>\n",
       "      <td>126.364433</td>\n",
       "      <td>...</td>\n",
       "      <td>0.537087</td>\n",
       "      <td>NaN</td>\n",
       "      <td>0.010497</td>\n",
       "      <td>6.0</td>\n",
       "      <td>321.498</td>\n",
       "      <td>1001.074098</td>\n",
       "      <td>553.533887</td>\n",
       "      <td>1125.534873</td>\n",
       "      <td>very_local_earthquake</td>\n",
       "      <td>NaN</td>\n",
       "    </tr>\n",
       "    <tr>\n",
       "      <th>1</th>\n",
       "      <td>1</td>\n",
       "      <td>2000</td>\n",
       "      <td>38.244364</td>\n",
       "      <td>126.369385</td>\n",
       "      <td>-873.300</td>\n",
       "      <td>0.431429</td>\n",
       "      <td>KJ</td>\n",
       "      <td>KJ06</td>\n",
       "      <td>38.212581</td>\n",
       "      <td>126.379951</td>\n",
       "      <td>...</td>\n",
       "      <td>0.819840</td>\n",
       "      <td>NaN</td>\n",
       "      <td>0.010497</td>\n",
       "      <td>6.0</td>\n",
       "      <td>321.498</td>\n",
       "      <td>1001.074098</td>\n",
       "      <td>553.533887</td>\n",
       "      <td>1125.534873</td>\n",
       "      <td>very_local_earthquake</td>\n",
       "      <td>NaN</td>\n",
       "    </tr>\n",
       "    <tr>\n",
       "      <th>2</th>\n",
       "      <td>2</td>\n",
       "      <td>2000</td>\n",
       "      <td>38.244364</td>\n",
       "      <td>126.369385</td>\n",
       "      <td>-873.300</td>\n",
       "      <td>0.431429</td>\n",
       "      <td>KJ</td>\n",
       "      <td>KJ05</td>\n",
       "      <td>38.203970</td>\n",
       "      <td>126.378906</td>\n",
       "      <td>...</td>\n",
       "      <td>0.994110</td>\n",
       "      <td>NaN</td>\n",
       "      <td>0.010497</td>\n",
       "      <td>6.0</td>\n",
       "      <td>321.498</td>\n",
       "      <td>1001.074098</td>\n",
       "      <td>553.533887</td>\n",
       "      <td>1125.534873</td>\n",
       "      <td>very_local_earthquake</td>\n",
       "      <td>NaN</td>\n",
       "    </tr>\n",
       "    <tr>\n",
       "      <th>20</th>\n",
       "      <td>20</td>\n",
       "      <td>2004</td>\n",
       "      <td>38.233423</td>\n",
       "      <td>126.379041</td>\n",
       "      <td>-2730.357</td>\n",
       "      <td>NaN</td>\n",
       "      <td>KJ</td>\n",
       "      <td>KJ09</td>\n",
       "      <td>38.224820</td>\n",
       "      <td>126.364433</td>\n",
       "      <td>...</td>\n",
       "      <td>0.470382</td>\n",
       "      <td>NaN</td>\n",
       "      <td>0.022159</td>\n",
       "      <td>8.0</td>\n",
       "      <td>297.885</td>\n",
       "      <td>963.236835</td>\n",
       "      <td>773.610154</td>\n",
       "      <td>1210.829402</td>\n",
       "      <td>very_local_earthquake</td>\n",
       "      <td>NaN</td>\n",
       "    </tr>\n",
       "    <tr>\n",
       "      <th>21</th>\n",
       "      <td>21</td>\n",
       "      <td>2004</td>\n",
       "      <td>38.233423</td>\n",
       "      <td>126.379041</td>\n",
       "      <td>-2730.357</td>\n",
       "      <td>NaN</td>\n",
       "      <td>KJ</td>\n",
       "      <td>KJ06</td>\n",
       "      <td>38.212581</td>\n",
       "      <td>126.379951</td>\n",
       "      <td>...</td>\n",
       "      <td>0.642059</td>\n",
       "      <td>NaN</td>\n",
       "      <td>0.022159</td>\n",
       "      <td>8.0</td>\n",
       "      <td>297.885</td>\n",
       "      <td>963.236835</td>\n",
       "      <td>773.610154</td>\n",
       "      <td>1210.829402</td>\n",
       "      <td>very_local_earthquake</td>\n",
       "      <td>NaN</td>\n",
       "    </tr>\n",
       "    <tr>\n",
       "      <th>22</th>\n",
       "      <td>22</td>\n",
       "      <td>2004</td>\n",
       "      <td>38.233423</td>\n",
       "      <td>126.379041</td>\n",
       "      <td>-2730.357</td>\n",
       "      <td>NaN</td>\n",
       "      <td>KJ</td>\n",
       "      <td>KJ05</td>\n",
       "      <td>38.203970</td>\n",
       "      <td>126.378906</td>\n",
       "      <td>...</td>\n",
       "      <td>0.907295</td>\n",
       "      <td>NaN</td>\n",
       "      <td>0.022159</td>\n",
       "      <td>8.0</td>\n",
       "      <td>297.885</td>\n",
       "      <td>963.236835</td>\n",
       "      <td>773.610154</td>\n",
       "      <td>1210.829402</td>\n",
       "      <td>very_local_earthquake</td>\n",
       "      <td>NaN</td>\n",
       "    </tr>\n",
       "    <tr>\n",
       "      <th>23</th>\n",
       "      <td>23</td>\n",
       "      <td>2004</td>\n",
       "      <td>38.233423</td>\n",
       "      <td>126.379041</td>\n",
       "      <td>-2730.357</td>\n",
       "      <td>NaN</td>\n",
       "      <td>KJ</td>\n",
       "      <td>KJ02</td>\n",
       "      <td>38.210773</td>\n",
       "      <td>126.401842</td>\n",
       "      <td>...</td>\n",
       "      <td>1.504001</td>\n",
       "      <td>NaN</td>\n",
       "      <td>0.022159</td>\n",
       "      <td>8.0</td>\n",
       "      <td>297.885</td>\n",
       "      <td>963.236835</td>\n",
       "      <td>773.610154</td>\n",
       "      <td>1210.829402</td>\n",
       "      <td>very_local_earthquake</td>\n",
       "      <td>NaN</td>\n",
       "    </tr>\n",
       "    <tr>\n",
       "      <th>24</th>\n",
       "      <td>24</td>\n",
       "      <td>2005</td>\n",
       "      <td>38.240433</td>\n",
       "      <td>126.364087</td>\n",
       "      <td>-265.140</td>\n",
       "      <td>0.964486</td>\n",
       "      <td>KJ</td>\n",
       "      <td>KJ14</td>\n",
       "      <td>38.245280</td>\n",
       "      <td>126.362021</td>\n",
       "      <td>...</td>\n",
       "      <td>0.465420</td>\n",
       "      <td>NaN</td>\n",
       "      <td>0.025924</td>\n",
       "      <td>14.0</td>\n",
       "      <td>160.259</td>\n",
       "      <td>612.538733</td>\n",
       "      <td>440.734299</td>\n",
       "      <td>306.344851</td>\n",
       "      <td>very_local_earthquake</td>\n",
       "      <td>NaN</td>\n",
       "    </tr>\n",
       "    <tr>\n",
       "      <th>25</th>\n",
       "      <td>25</td>\n",
       "      <td>2005</td>\n",
       "      <td>38.240433</td>\n",
       "      <td>126.364087</td>\n",
       "      <td>-265.140</td>\n",
       "      <td>0.964486</td>\n",
       "      <td>KJ</td>\n",
       "      <td>KJ12</td>\n",
       "      <td>38.236119</td>\n",
       "      <td>126.366364</td>\n",
       "      <td>...</td>\n",
       "      <td>0.476112</td>\n",
       "      <td>NaN</td>\n",
       "      <td>0.025924</td>\n",
       "      <td>14.0</td>\n",
       "      <td>160.259</td>\n",
       "      <td>612.538733</td>\n",
       "      <td>440.734299</td>\n",
       "      <td>306.344851</td>\n",
       "      <td>very_local_earthquake</td>\n",
       "      <td>NaN</td>\n",
       "    </tr>\n",
       "    <tr>\n",
       "      <th>26</th>\n",
       "      <td>26</td>\n",
       "      <td>2005</td>\n",
       "      <td>38.240433</td>\n",
       "      <td>126.364087</td>\n",
       "      <td>-265.140</td>\n",
       "      <td>0.964486</td>\n",
       "      <td>KJ</td>\n",
       "      <td>KJ09</td>\n",
       "      <td>38.224820</td>\n",
       "      <td>126.364433</td>\n",
       "      <td>...</td>\n",
       "      <td>0.497650</td>\n",
       "      <td>NaN</td>\n",
       "      <td>0.025924</td>\n",
       "      <td>14.0</td>\n",
       "      <td>160.259</td>\n",
       "      <td>612.538733</td>\n",
       "      <td>440.734299</td>\n",
       "      <td>306.344851</td>\n",
       "      <td>very_local_earthquake</td>\n",
       "      <td>NaN</td>\n",
       "    </tr>\n",
       "  </tbody>\n",
       "</table>\n",
       "<p>10 rows × 28 columns</p>\n",
       "</div>"
      ],
      "text/plain": [
       "    Unnamed: 0  source_id  source_lat  source_lon  source_depth_m  magnitude  \\\n",
       "0            0       2000   38.244364  126.369385        -873.300   0.431429   \n",
       "1            1       2000   38.244364  126.369385        -873.300   0.431429   \n",
       "2            2       2000   38.244364  126.369385        -873.300   0.431429   \n",
       "20          20       2004   38.233423  126.379041       -2730.357        NaN   \n",
       "21          21       2004   38.233423  126.379041       -2730.357        NaN   \n",
       "22          22       2004   38.233423  126.379041       -2730.357        NaN   \n",
       "23          23       2004   38.233423  126.379041       -2730.357        NaN   \n",
       "24          24       2005   38.240433  126.364087        -265.140   0.964486   \n",
       "25          25       2005   38.240433  126.364087        -265.140   0.964486   \n",
       "26          26       2005   38.240433  126.364087        -265.140   0.964486   \n",
       "\n",
       "   network_code station_code  station_lat  station_lon  ...  s_p_lag_time_sec  \\\n",
       "0            KJ         KJ09    38.224820   126.364433  ...          0.537087   \n",
       "1            KJ         KJ06    38.212581   126.379951  ...          0.819840   \n",
       "2            KJ         KJ05    38.203970   126.378906  ...          0.994110   \n",
       "20           KJ         KJ09    38.224820   126.364433  ...          0.470382   \n",
       "21           KJ         KJ06    38.212581   126.379951  ...          0.642059   \n",
       "22           KJ         KJ05    38.203970   126.378906  ...          0.907295   \n",
       "23           KJ         KJ02    38.210773   126.401842  ...          1.504001   \n",
       "24           KJ         KJ14    38.245280   126.362021  ...          0.465420   \n",
       "25           KJ         KJ12    38.236119   126.366364  ...          0.476112   \n",
       "26           KJ         KJ09    38.224820   126.364433  ...          0.497650   \n",
       "\n",
       "   coda_time source_err_rms_s  n_phases gap_degree x_horizontal_err_m  \\\n",
       "0        NaN         0.010497       6.0    321.498        1001.074098   \n",
       "1        NaN         0.010497       6.0    321.498        1001.074098   \n",
       "2        NaN         0.010497       6.0    321.498        1001.074098   \n",
       "20       NaN         0.022159       8.0    297.885         963.236835   \n",
       "21       NaN         0.022159       8.0    297.885         963.236835   \n",
       "22       NaN         0.022159       8.0    297.885         963.236835   \n",
       "23       NaN         0.022159       8.0    297.885         963.236835   \n",
       "24       NaN         0.025924      14.0    160.259         612.538733   \n",
       "25       NaN         0.025924      14.0    160.259         612.538733   \n",
       "26       NaN         0.025924      14.0    160.259         612.538733   \n",
       "\n",
       "   y_horizontal_err_m  z_depth_err_m        earthquake_type  remarks  \n",
       "0          553.533887    1125.534873  very_local_earthquake      NaN  \n",
       "1          553.533887    1125.534873  very_local_earthquake      NaN  \n",
       "2          553.533887    1125.534873  very_local_earthquake      NaN  \n",
       "20         773.610154    1210.829402  very_local_earthquake      NaN  \n",
       "21         773.610154    1210.829402  very_local_earthquake      NaN  \n",
       "22         773.610154    1210.829402  very_local_earthquake      NaN  \n",
       "23         773.610154    1210.829402  very_local_earthquake      NaN  \n",
       "24         440.734299     306.344851  very_local_earthquake      NaN  \n",
       "25         440.734299     306.344851  very_local_earthquake      NaN  \n",
       "26         440.734299     306.344851  very_local_earthquake      NaN  \n",
       "\n",
       "[10 rows x 28 columns]"
      ]
     },
     "execution_count": 41,
     "metadata": {},
     "output_type": "execute_result"
    }
   ],
   "source": [
    "# Draw circular are by providing the center point and radius\n",
    "new_circular_area_df = lqt_ready_2.area_circular(\n",
    "                                    center_latitude=38.2435,\n",
    "                                    center_longitude=126.3555,\n",
    "                                    radius=3\n",
    "                                    )\n",
    "\n",
    "# Make new LqtAnalysis class instance using this subset df\n",
    "new_circular_area_lqt = LqtAnalysis(new_circular_area_df)\n",
    "new_circular_area_lqt.head(10)"
   ]
  },
  {
   "cell_type": "markdown",
   "metadata": {},
   "source": [
    "Let's create a 2D plot to visualize how it might look."
   ]
  },
  {
   "cell_type": "code",
   "execution_count": 43,
   "metadata": {},
   "outputs": [
    {
     "data": {
      "application/vnd.plotly.v1+json": {
       "config": {
        "plotlyServerURL": "https://plot.ly"
       },
       "data": [
        {
         "customdata": [
          [
           2000,
           -873.3,
           0.431428820071198
          ],
          [
           2005,
           -265.14,
           0.9644863837837434
          ],
          [
           2006,
           -121.14,
           2.020023343050088
          ],
          [
           2007,
           -108.44,
           1.0443654113941223
          ],
          [
           2008,
           -393.28,
           0.6456726701919218
          ],
          [
           2009,
           -296.92,
           0.774851296154786
          ],
          [
           2010,
           -142.22,
           1.6027164048141431
          ],
          [
           2011,
           -403.04,
           0.5927815465142681
          ],
          [
           2012,
           -385.08,
           0.7583362329342513
          ],
          [
           2013,
           -256.33,
           0.7253675380587881
          ],
          [
           2014,
           -191.3,
           0.654783393997814
          ],
          [
           2022,
           -1005.655,
           1.0023562463679276
          ],
          [
           2023,
           -496.726,
           0.6728887271342519
          ],
          [
           2085,
           -445.61,
           0.7248844636016418
          ],
          [
           2088,
           -67.47,
           0.7213718971351186
          ],
          [
           2114,
           -532.39,
           0.8082149881675704
          ],
          [
           2117,
           -561.15,
           0.7345575217802196
          ],
          [
           2118,
           -161.62,
           0.7874989495938118
          ],
          [
           2124,
           803.869,
           0.6895839506145212
          ],
          [
           2134,
           -168.02,
           0.9483548869138244
          ],
          [
           2136,
           -416.75,
           0.5428437868792146
          ],
          [
           2137,
           -2306.25,
           -0.1769806026475269
          ],
          [
           2138,
           -169.41,
           0.5179848515647194
          ],
          [
           2155,
           -146.65,
           0.6096269588495709
          ],
          [
           2205,
           209.74,
           0.6550712270331225
          ],
          [
           2210,
           -134.73,
           0.5041783518619116
          ],
          [
           2215,
           -683.91,
           0.0709331381204769
          ],
          [
           2216,
           -453.34,
           0.7019561148368441
          ],
          [
           2221,
           -478.98,
           0.959397655153559
          ],
          [
           2222,
           -507.07,
           0.776294721377754
          ],
          [
           2223,
           -214.13,
           1.2449345144273396
          ],
          [
           2284,
           -368.07,
           0.6175410501029148
          ],
          [
           2285,
           -177.53,
           0.5380753107800373
          ],
          [
           2287,
           64.81,
           -0.0403940865618643
          ],
          [
           2292,
           68.45,
           0.0542112240984611
          ],
          [
           2299,
           -107.76,
           1.219389755765132
          ],
          [
           2300,
           1312.798,
           0.9398294927879256
          ],
          [
           2311,
           251.13,
           0.986051126892674
          ],
          [
           2312,
           -74.98,
           1.66641472550924
          ],
          [
           2313,
           -109.53,
           1.2436068249642125
          ],
          [
           2314,
           -84.57,
           0.7481400694310079
          ],
          [
           2324,
           250.79,
           0.7913531311198492
          ],
          [
           2333,
           -233.17,
           0.9916744869335136
          ],
          [
           2339,
           -274.92,
           0.4843423966274942
          ],
          [
           2340,
           -164.9,
           0.6337847726730566
          ],
          [
           2369,
           -13.17,
           0.572884300780439
          ],
          [
           2372,
           -692.81,
           -0.1049493774430692
          ],
          [
           2374,
           -115.19,
           0.518176047241405
          ],
          [
           2379,
           331.77,
           0.5665370634845797
          ],
          [
           2381,
           -64.16,
           1.2623726090183478
          ],
          [
           2392,
           2698.214,
           0.7037919979374667
          ],
          [
           2399,
           -850.149,
           0.1323025394404826
          ],
          [
           2400,
           -1599.405,
           0.1584007126158439
          ],
          [
           2419,
           2415.476,
           1.6752209513202816
          ],
          [
           2428,
           -525,
           1.4508061768874445
          ],
          [
           2449,
           -424.03,
           0.472665820027915
          ],
          [
           2450,
           -172.67,
           0.3998092757629417
          ],
          [
           2451,
           -754.4,
           0.3146965254048286
          ],
          [
           2460,
           -231.37,
           0.850788306598341
          ],
          [
           2482,
           -574.33,
           0.4083977401262704
          ],
          [
           2483,
           -1113.04,
           0.3385612837838874
          ],
          [
           2484,
           -1009.52,
           0.0133848881052793
          ],
          [
           2485,
           3.64,
           1.1571294221625532
          ],
          [
           2489,
           -319.16,
           0.8432715781704054
          ],
          [
           2490,
           -609.22,
           -0.1837376216177286
          ],
          [
           2491,
           -102.92,
           0.3559184959452075
          ],
          [
           2500,
           -16.071,
           0.3132332419580859
          ],
          [
           2506,
           -407.01,
           0.5642823501022933
          ],
          [
           2517,
           662.5,
           0.586774706475798
          ],
          [
           2519,
           -339.76,
           0.5083989756074878
          ],
          [
           2547,
           -689.32,
           0.1881532948810527
          ],
          [
           2548,
           -59.39,
           0.7074265516155371
          ],
          [
           2549,
           -139.37,
           0.8857347749868305
          ],
          [
           2559,
           2726.488,
           1.0481762808612345
          ],
          [
           2574,
           -117.72,
           0.9475463833310248
          ],
          [
           2582,
           -649.73,
           0.2603555581651253
          ],
          [
           2585,
           -445.26,
           0.6194819785977543
          ],
          [
           2586,
           -327.083,
           0.3606864295261305
          ],
          [
           2589,
           916.964,
           0.9362469865236004
          ],
          [
           2591,
           -336.3,
           0.9013441261848668
          ],
          [
           2602,
           -195.78,
           1.278143727249991
          ],
          [
           2603,
           -669.2,
           0.2734802898652315
          ],
          [
           2604,
           244.83,
           1.001657497884623
          ],
          [
           2605,
           -415.63,
           0.8200098045348483
          ],
          [
           2607,
           -257.96,
           0.665820416309697
          ],
          [
           2612,
           -312.03,
           0.8811393007879307
          ],
          [
           2613,
           -311.85,
           0.4930705077241741
          ],
          [
           2615,
           32.67,
           0.3735800782856069
          ],
          [
           2616,
           -750.28,
           -0.0053261672679063
          ],
          [
           2617,
           -68.75,
           0.7963152964349369
          ],
          [
           2618,
           -913.38,
           0.0865438557892428
          ],
          [
           2619,
           -440.179,
           0.4729361703154939
          ],
          [
           2620,
           -176.63,
           0.5675501960557989
          ],
          [
           2621,
           -608.43,
           -0.1415896039300817
          ],
          [
           2622,
           -575.34,
           0.2185591257059282
          ],
          [
           2623,
           -553.274,
           0.1137482294589569
          ],
          [
           2624,
           -8.39,
           0.8246491234006363
          ],
          [
           2625,
           -296.89,
           0.5104414299822331
          ],
          [
           2626,
           -91.02,
           1.24666409156535
          ],
          [
           2627,
           -354.95,
           0.4306138448269658
          ],
          [
           2628,
           -379.87,
           0.5039512617387985
          ],
          [
           2629,
           -133.31,
           0.8623010103804347
          ],
          [
           2630,
           -167.9,
           0.3817000175390515
          ],
          [
           2631,
           -520.37,
           0.270561777437555
          ],
          [
           2632,
           -415.87,
           0.2447648508978703
          ],
          [
           2633,
           -750.98,
           -0.1116718998873516
          ],
          [
           2634,
           -896.59,
           -0.1382341777736879
          ],
          [
           2635,
           -794.7,
           0.2063986645843627
          ],
          [
           2636,
           -419.8,
           0.3127029199946216
          ],
          [
           2637,
           -995.77,
           -0.0574060812699599
          ],
          [
           2638,
           -555.34,
           0.4895900152337917
          ],
          [
           2639,
           -809.22,
           -0.0737006259356105
          ],
          [
           2640,
           -614.53,
           0.1930210535171328
          ],
          [
           2641,
           -609.821,
           -0.0791972504162661
          ],
          [
           2642,
           -881.36,
           0.1177319039250228
          ],
          [
           2643,
           -167.65,
           0.7117401115836746
          ],
          [
           2644,
           4.15,
           0.9186549915573056
          ],
          [
           2645,
           1.89,
           0.3953291768537443
          ],
          [
           2646,
           47.52,
           0.6826255299503154
          ],
          [
           2647,
           12.21,
           2.171243526133633
          ],
          [
           2648,
           -342.5,
           0.3404729570919311
          ],
          [
           2650,
           -625.31,
           -0.0441098674682329
          ],
          [
           2651,
           71.75,
           0.6727662267148613
          ],
          [
           2652,
           -441.05,
           0.6311386310117939
          ],
          [
           2653,
           -133.13,
           1.0758053908822918
          ],
          [
           2654,
           -257.81,
           0.6627244232746801
          ],
          [
           2655,
           -71.89,
           0.5760629834070556
          ],
          [
           2656,
           -625.3,
           -0.0656142456738955
          ],
          [
           2657,
           -554.11,
           0.3102565676512512
          ],
          [
           2658,
           -59.32,
           0.6106794523294319
          ],
          [
           2659,
           -75.74,
           0.1278715792389135
          ],
          [
           2660,
           -480.41,
           0.372346669442626
          ],
          [
           2661,
           -137.97,
           0.5011226703257883
          ],
          [
           2662,
           -225.48,
           0.6291679573492361
          ],
          [
           2663,
           -456.13,
           0.1632249715699814
          ],
          [
           2664,
           -111,
           0.3613951012233105
          ],
          [
           2665,
           -421.8,
           0.3895231550224389
          ],
          [
           2666,
           -903.9,
           -0.120818231494705
          ],
          [
           2667,
           -71.26,
           0.5888968391041915
          ],
          [
           2668,
           -43.09,
           0.6044850043438439
          ],
          [
           2669,
           -565.29,
           0.256660511020792
          ],
          [
           2670,
           -67.75,
           0.2543227181138592
          ],
          [
           2671,
           -89.41,
           0.7918356785819656
          ],
          [
           2672,
           -223.33,
           0.4711085091902482
          ],
          [
           2675,
           1793.452,
           0.5949590753940566
          ],
          [
           2690,
           747.321,
           1.0582591234167662
          ],
          [
           2702,
           -2306.25,
           -0.0824194683894106
          ],
          [
           2703,
           -270.536,
           0.9635664897636752
          ],
          [
           2705,
           -887.79,
           0.7751767839761117
          ],
          [
           2706,
           -818.57,
           0.1223036929706866
          ],
          [
           2709,
           -851.69,
           0.2065848937207528
          ],
          [
           2711,
           -1581.49,
           0.1035411187312433
          ],
          [
           2726,
           -26.4,
           0.9469730524447372
          ],
          [
           2732,
           6.39,
           0.7705349077035102
          ],
          [
           2734,
           -638.19,
           0.6329390827789361
          ],
          [
           2736,
           -775.4,
           0.49218598817182
          ],
          [
           2740,
           -664.94,
           0.5555024029722606
          ],
          [
           2741,
           -779.464,
           0.3113410538945809
          ],
          [
           2742,
           -595.6,
           0.4371541403335595
          ],
          [
           2743,
           -636.49,
           0.7500761104982825
          ],
          [
           2744,
           -1027.57,
           0.5625062275125021
          ],
          [
           2745,
           -723.51,
           0.3744105396788706
          ],
          [
           2746,
           -778.93,
           0.680147654708982
          ],
          [
           2748,
           -707.81,
           0.5711468096987176
          ],
          [
           2749,
           -1048.4,
           0.2705172811664749
          ],
          [
           2750,
           -431.49,
           0.6999284576453508
          ],
          [
           2751,
           -623.16,
           0.5428532702600553
          ],
          [
           2752,
           -874.68,
           0.6701879917246725
          ],
          [
           2753,
           -593.58,
           0.6140043992620701
          ],
          [
           2754,
           -1556.44,
           0.7068004204969238
          ],
          [
           2755,
           -756.47,
           0.3490286481155191
          ],
          [
           2756,
           -627.78,
           0.4563107778124831
          ],
          [
           2757,
           -889.74,
           0.314675466299005
          ],
          [
           2758,
           -951.69,
           0.621491759389194
          ],
          [
           2764,
           -771.49,
           0.5221786469825789
          ],
          [
           2767,
           -950.17,
           0.4512703306070751
          ],
          [
           2768,
           -656,
           0.4523415142533808
          ],
          [
           2769,
           -926.01,
           0.3164528774619057
          ],
          [
           2770,
           -949.107,
           0.4486359859266198
          ],
          [
           2771,
           -535.69,
           0.613389859960078
          ],
          [
           2772,
           -664.06,
           -0.0361165593890717
          ],
          [
           2774,
           -550.86,
           0.7267892650313801
          ],
          [
           2775,
           -151.48,
           0.5686600133694473
          ],
          [
           2776,
           -177.64,
           0.9507456224769708
          ],
          [
           2778,
           -217.52,
           0.8339469878546417
          ],
          [
           2779,
           -992.14,
           0.3660828347969111
          ],
          [
           2794,
           -207.54,
           0.6402822372518617
          ]
         ],
         "hovertemplate": "<b>Earthquake: %{customdata[0]}</b><br>Source Lon: %{x:.3f}<br>Source Lat: %{y:.3f}<br>Source Depth(m): %{customdata[1]:.3f}<br>Magnitude: %{customdata[2]:.3f}<br><extra></extra>",
         "legendgroup": "",
         "marker": {
          "color": [
           -873.3,
           -265.14,
           -121.14,
           -108.44,
           -393.28,
           -296.92,
           -142.22,
           -403.04,
           -385.08,
           -256.33,
           -191.3,
           -1005.655,
           -496.726,
           -445.61,
           -67.47,
           -532.39,
           -561.15,
           -161.62,
           803.869,
           -168.02,
           -416.75,
           -2306.25,
           -169.41,
           -146.65,
           209.74,
           -134.73,
           -683.91,
           -453.34,
           -478.98,
           -507.07,
           -214.13,
           -368.07,
           -177.53,
           64.81,
           68.45,
           -107.76,
           1312.798,
           251.13,
           -74.98,
           -109.53,
           -84.57,
           250.79,
           -233.17,
           -274.92,
           -164.9,
           -13.17,
           -692.81,
           -115.19,
           331.77,
           -64.16,
           2698.214,
           -850.149,
           -1599.405,
           2415.476,
           -525,
           -424.03,
           -172.67,
           -754.4,
           -231.37,
           -574.33,
           -1113.04,
           -1009.52,
           3.64,
           -319.16,
           -609.22,
           -102.92,
           -16.071,
           -407.01,
           662.5,
           -339.76,
           -689.32,
           -59.39,
           -139.37,
           2726.488,
           -117.72,
           -649.73,
           -445.26,
           -327.083,
           916.964,
           -336.3,
           -195.78,
           -669.2,
           244.83,
           -415.63,
           -257.96,
           -312.03,
           -311.85,
           32.67,
           -750.28,
           -68.75,
           -913.38,
           -440.179,
           -176.63,
           -608.43,
           -575.34,
           -553.274,
           -8.39,
           -296.89,
           -91.02,
           -354.95,
           -379.87,
           -133.31,
           -167.9,
           -520.37,
           -415.87,
           -750.98,
           -896.59,
           -794.7,
           -419.8,
           -995.77,
           -555.34,
           -809.22,
           -614.53,
           -609.821,
           -881.36,
           -167.65,
           4.15,
           1.89,
           47.52,
           12.21,
           -342.5,
           -625.31,
           71.75,
           -441.05,
           -133.13,
           -257.81,
           -71.89,
           -625.3,
           -554.11,
           -59.32,
           -75.74,
           -480.41,
           -137.97,
           -225.48,
           -456.13,
           -111,
           -421.8,
           -903.9,
           -71.26,
           -43.09,
           -565.29,
           -67.75,
           -89.41,
           -223.33,
           1793.452,
           747.321,
           -2306.25,
           -270.536,
           -887.79,
           -818.57,
           -851.69,
           -1581.49,
           -26.4,
           6.39,
           -638.19,
           -775.4,
           -664.94,
           -779.464,
           -595.6,
           -636.49,
           -1027.57,
           -723.51,
           -778.93,
           -707.81,
           -1048.4,
           -431.49,
           -623.16,
           -874.68,
           -593.58,
           -1556.44,
           -756.47,
           -627.78,
           -889.74,
           -951.69,
           -771.49,
           -950.17,
           -656,
           -926.01,
           -949.107,
           -535.69,
           -664.06,
           -550.86,
           -151.48,
           -177.64,
           -217.52,
           -992.14,
           -207.54
          ],
          "coloraxis": "coloraxis",
          "size": [
           0.26121926379333965,
           0.48757248288339333,
           0.9357870939555013,
           0.5214916621019866,
           0.35219402608228434,
           0.40704738492157877,
           0.7585852770251673,
           0.32973477042076427,
           0.40003456308408647,
           0.3860350052084138,
           0.35606272958091095,
           0.503653232667202,
           0.3637508306737612,
           0.3858298764083013,
           0.38433832881365154,
           0.4212146711621607,
           0.3899373649915553,
           0.41241798139134894,
           0.37084015429552425,
           0.48072253553471195,
           0.30852960719446176,
           0.0028692454614197955,
           0.2979737115189588,
           0.3368878690137922,
           0.35618495265499844,
           0.2921110320170848,
           0.1081413156833812,
           0.3760937692697295,
           0.4854116466343103,
           0.40766030924340824,
           0.6066596912457497,
           0.34024844421863604,
           0.3065047603698797,
           0.06086823038335067,
           0.10104065840751614,
           0.5958125731337792,
           0.4771023816605813,
           0.4967295596305281,
           0.7856336127425101,
           0.6060959120136575,
           0.39570494731941414,
           0.41405458962048647,
           0.49911741740423904,
           0.28368805366224087,
           0.34714604617394773,
           0.3212857661678075,
           0.033455997831041764,
           0.29805489929273776,
           0.31859052705659413,
           0.6140644616010955,
           0.37687334370594,
           0.1342007180594885,
           0.14528283359963742,
           0.7893730166944595,
           0.6940793560052481,
           0.27872980734666736,
           0.24779259821807362,
           0.21165101363011704,
           0.4392926581004484,
           0.2514395337237632,
           0.22178475011494306,
           0.08370449585248636,
           0.5693748525348759,
           0.4361008158070212,
           0,
           0.22915517521459047,
           0.21102965687400124,
           0.31763310394331634,
           0.3271840748264702,
           0.2939032432835856,
           0.15791672762989514,
           0.37841669095582625,
           0.45413204160055576,
           0.5231098786514435,
           0.4803792191631404,
           0.1885761082155735,
           0.3410726242748587,
           0.23117979166864283,
           0.47558113540024755,
           0.4607602692669546,
           0.620761380702139,
           0.1941492873096316,
           0.5033565218065048,
           0.426223125848959,
           0.3607494007765394,
           0.4521806568928299,
           0.2873942876185693,
           0.23665484558626773,
           0.07575918580605258,
           0.41616168305502,
           0.1147701235967731,
           0.2788446066892547,
           0.31902073541394915,
           0.017897390697204495,
           0.17082801180413032,
           0.12632196709859259,
           0.4281931283986698,
           0.29477053446194973,
           0.6073941247844591,
           0.26087319934820563,
           0.2920146023181378,
           0.4441813187984746,
           0.2401028304080796,
           0.19290999398011208,
           0.1819557973559814,
           0.030601400693219285,
           0.01932221151135632,
           0.16566429270911315,
           0.2108044652779037,
           0.05364439560929442,
           0.28591635965572426,
           0.04672521297357887,
           0.15998373298173046,
           0.04439117115516745,
           0.12801356215433243,
           0.380248365902385,
           0.46811101404392785,
           0.24589020553298357,
           0.367885387260317,
           0.9999999999575369,
           0.2225965074870935,
           0.059290391465294454,
           0.36369881309412905,
           0.3460224101466797,
           0.5348420787356207,
           0.35943474352850086,
           0.3226355360500492,
           0.05015894757867023,
           0.209765666158173,
           0.33733479126657595,
           0.1323191912346934,
           0.23613110090826625,
           0.29081349231537157,
           0.3451855993448796,
           0.14733136760108326,
           0.2314807162419994,
           0.24342478374538126,
           0.026717576988006895,
           0.32808519992903407,
           0.33470443136274414,
           0.18700707351323434,
           0.18601437218776268,
           0.41425949464172485,
           0.2780685235656538,
           0.3306594185360051,
           0.5273913747325188,
           0.04302291477821752,
           0.48718186658444435,
           0.40718559741708965,
           0.1299548893916375,
           0.16574337153170163,
           0.12198770279374821,
           0.4801357646086058,
           0.40521450891099414,
           0.34678693931022947,
           0.2870186924452656,
           0.31390485875628227,
           0.21022617355727433,
           0.26365041712447573,
           0.39652705201823135,
           0.3168789057233383,
           0.23700748594350432,
           0.3668332025141273,
           0.32054797211654446,
           0.19289109944623406,
           0.37523276144665485,
           0.3085336341400062,
           0.3626040124021825,
           0.3387466696315776,
           0.37815081574099296,
           0.22622952638891955,
           0.27178493552450694,
           0.21164207126306545,
           0.3419260412091188,
           0.2997545306230462,
           0.26964460110611604,
           0.27009945979884187,
           0.21239681665222596,
           0.26852597445262505,
           0.3384857166712736,
           0.0626846046573848,
           0.38663871576205844,
           0.31949199919228594,
           0.4817377179982012,
           0.43214129777679355,
           0.23347127721862446,
           0.3499050765741415
          ],
          "sizemode": "area",
          "sizeref": 0.0024999999998938423,
          "symbol": "circle"
         },
         "mode": "markers",
         "name": "",
         "orientation": "v",
         "showlegend": false,
         "type": "scatter",
         "x": [
          126.3693848,
          126.3640869,
          126.3634684,
          126.3647542,
          126.3714844,
          126.3662191,
          126.3628418,
          126.3634603,
          126.3657633,
          126.3642334,
          126.3648682,
          126.383672,
          126.362991,
          126.3582031,
          126.3599365,
          126.3560384,
          126.3544027,
          126.3618001,
          126.3760184,
          126.3639974,
          126.3565755,
          126.3504457,
          126.3611654,
          126.3619873,
          126.3631104,
          126.3601156,
          126.3530599,
          126.3656657,
          126.3660645,
          126.3656657,
          126.3634684,
          126.3658854,
          126.3632406,
          126.3589193,
          126.3655273,
          126.3612467,
          126.3831351,
          126.3622233,
          126.3600179,
          126.3609701,
          126.3612874,
          126.3627604,
          126.3617025,
          126.366097,
          126.358016,
          126.3587077,
          126.3652995,
          126.3539958,
          126.3599691,
          126.3602132,
          126.3529175,
          126.3758973,
          126.3441239,
          126.3882944,
          126.3577433,
          126.3582682,
          126.3663574,
          126.350236,
          126.3546631,
          126.3572347,
          126.3525879,
          126.3492188,
          126.3641357,
          126.3579671,
          126.3550537,
          126.3595703,
          126.3659857,
          126.3569336,
          126.3681443,
          126.366805,
          126.3536051,
          126.3606283,
          126.3582926,
          126.3635416,
          126.361141,
          126.3500326,
          126.3825521,
          126.3776984,
          126.3722538,
          126.3800537,
          126.3613688,
          126.3551351,
          126.3547282,
          126.3560465,
          126.3592448,
          126.3553711,
          126.3525798,
          126.3589355,
          126.3580078,
          126.3597656,
          126.3519206,
          126.361329,
          126.3601237,
          126.3535645,
          126.3577718,
          126.3564038,
          126.3601725,
          126.3571452,
          126.3615967,
          126.3623128,
          126.3685303,
          126.3617106,
          126.3583252,
          126.3517822,
          126.3565999,
          126.3609131,
          126.3515137,
          126.3532633,
          126.3575928,
          126.3509684,
          126.3550944,
          126.3536214,
          126.3566081,
          126.3531477,
          126.3527995,
          126.360848,
          126.3594076,
          126.3565348,
          126.3583252,
          126.3612305,
          126.3560954,
          126.354484,
          126.3554118,
          126.3571533,
          126.3595459,
          126.3642741,
          126.3622152,
          126.3552165,
          126.3547526,
          126.3575439,
          126.3613688,
          126.3563395,
          126.3618734,
          126.3598389,
          126.3565104,
          126.3649495,
          126.356901,
          126.3545166,
          126.360498,
          126.3590495,
          126.3542969,
          126.3677002,
          126.3606608,
          126.3613932,
          126.3811673,
          126.3433656,
          126.3487857,
          126.3640703,
          126.3524658,
          126.3493571,
          126.3496012,
          126.3448242,
          126.3605876,
          126.3583903,
          126.3542806,
          126.3518636,
          126.3547933,
          126.3700711,
          126.3557861,
          126.3553223,
          126.3496582,
          126.3542399,
          126.3534342,
          126.3546061,
          126.3495605,
          126.3575033,
          126.3548014,
          126.3508952,
          126.3561279,
          126.3446045,
          126.3545573,
          126.3555176,
          126.3519287,
          126.3522949,
          126.353597,
          126.3492432,
          126.3551351,
          126.3499023,
          126.3700208,
          126.3578206,
          126.3572021,
          126.3543294,
          126.3608073,
          126.3614909,
          126.3620036,
          126.3492025,
          126.3523275
         ],
         "xaxis": "x",
         "y": [
          38.2443639,
          38.2404327,
          38.2405093,
          38.2399249,
          38.245665,
          38.2416789,
          38.2394341,
          38.2430016,
          38.2424685,
          38.2405764,
          38.2408755,
          38.233159701,
          38.222723851,
          38.2412506,
          38.2409284,
          38.2414246,
          38.2425863,
          38.240318,
          38.245723915,
          38.242099,
          38.2409238,
          38.229807734,
          38.2428019,
          38.2400757,
          38.2481832,
          38.241053,
          38.2401479,
          38.2425214,
          38.2427358,
          38.2421204,
          38.2415736,
          38.2415225,
          38.2394862,
          38.2450358,
          38.2416903,
          38.239419,
          38.229329782,
          38.2468923,
          38.2406548,
          38.240731,
          38.2420428,
          38.2355619,
          38.240034,
          38.2410108,
          38.2415326,
          38.241391,
          38.2473938,
          38.2438049,
          38.2460335,
          38.2393443,
          38.22024118,
          38.238476332,
          38.256321738,
          38.237271636,
          38.256897917,
          38.2411161,
          38.244593,
          38.2468508,
          38.2387014,
          38.2423884,
          38.2404678,
          38.2449778,
          38.2434799,
          38.2412862,
          38.2415372,
          38.2426648,
          38.223550622,
          38.2439471,
          38.233400549,
          38.2491015,
          38.2366966,
          38.2384377,
          38.237768,
          38.219990195,
          38.2408226,
          38.2479126,
          38.232589,
          38.223848724,
          38.222196398,
          38.2327126,
          38.2401952,
          38.240682,
          38.2451441,
          38.2404615,
          38.2424431,
          38.241198,
          38.2403753,
          38.2403308,
          38.23937,
          38.2403041,
          38.2469704,
          38.235847471,
          38.2422852,
          38.2443616,
          38.241066,
          38.246229287,
          38.2395772,
          38.240847,
          38.2405047,
          38.2420771,
          38.2425774,
          38.2399152,
          38.2434888,
          38.2427839,
          38.2386757,
          38.2368947,
          38.2384544,
          38.2454104,
          38.2408432,
          38.2369479,
          38.2412867,
          38.243841,
          38.2424088,
          38.240205764,
          38.2372449,
          38.2381597,
          38.2404958,
          38.2390831,
          38.2405846,
          38.2390472,
          38.2416593,
          38.2424011,
          38.2385872,
          38.239978,
          38.2406754,
          38.2414831,
          38.2401014,
          38.2454208,
          38.2378273,
          38.2399272,
          38.2403618,
          38.2396617,
          38.2399429,
          38.24219,
          38.2412046,
          38.2401578,
          38.2384984,
          38.2371188,
          38.2399709,
          38.2399859,
          38.2389107,
          38.2395442,
          38.2402433,
          38.2388184,
          38.258588517,
          38.228698692,
          38.241837318,
          38.227648814,
          38.2462301,
          38.2431529,
          38.2457705,
          38.2464455,
          38.2407951,
          38.2415037,
          38.2420451,
          38.2434191,
          38.2408437,
          38.223832712,
          38.243544,
          38.2411509,
          38.242278,
          38.2411674,
          38.2421494,
          38.2417809,
          38.2424357,
          38.2421903,
          38.2422218,
          38.2461591,
          38.2412137,
          38.24397,
          38.2431981,
          38.241143,
          38.2433416,
          38.2425102,
          38.2421598,
          38.2429075,
          38.2412328,
          38.2440679,
          38.247899112,
          38.2421527,
          38.2398188,
          38.248923,
          38.2396634,
          38.2408353,
          38.2407417,
          38.243661,
          38.2424604
         ],
         "yaxis": "y"
        },
        {
         "hovertemplate": "<b>%{text}</b><br>Lat: %{y:.2f}<br>Lon: %{x:.2f}<extra></extra>",
         "marker": {
          "color": "red",
          "size": 16,
          "symbol": "triangle-down"
         },
         "mode": "markers+text",
         "name": "Stations",
         "text": [
          "KJ09",
          "KJ09",
          "KJ14",
          "KJ13",
          "KJ14",
          "KJ12",
          "KJ14",
          "KJ13",
          "KJ14",
          "KJ12",
          "KJ12",
          "KJ14",
          "KJ11",
          "KJ11",
          "KJ13",
          "KJ12",
          "KJ14",
          "KJ13",
          "KJ13",
          "KJ13",
          "KJ12",
          "KJ13",
          "KJ13",
          "KJ09",
          "KJ13",
          "KJ13",
          "KJ14",
          "KJ14",
          "KJ10",
          "KJ12",
          "KJ11",
          "KJ12",
          "KJ11",
          "KJ11",
          "KJ11",
          "KJ14",
          "KJ11",
          "KJ11",
          "KJ07",
          "KJ15",
          "KJ13",
          "KJ13",
          "KJ13",
          "KJ11",
          "KJ11",
          "KJ11",
          "KJ11",
          "KJ11",
          "KJ14",
          "KJ14",
          "KJ14",
          "KJ14",
          "KJ11",
          "KJ14",
          "KJ11",
          "KJ09",
          "KJ11",
          "KJ14",
          "KJ13",
          "KJ13",
          "KJ13",
          "KJ13",
          "KJ13",
          "KJ13",
          "KJ14",
          "KJ14",
          "KJ14",
          "KJ10",
          "KJ11",
          "KJ09",
          "KJ10",
          "KJ14",
          "KJ10",
          "KJ10",
          "KJ14",
          "KJ14",
          "KJ14",
          "KJ10",
          "KJ10",
          "KJ09",
          "KJ14",
          "KJ14",
          "KJ14",
          "KJ10",
          "KJ10",
          "KJ10",
          "KJ09",
          "KJ14",
          "KJ10",
          "KJ10",
          "KJ07",
          "KJ07",
          "KJ07",
          "KJ08",
          "KJ12",
          "KJ10",
          "KJ14",
          "KJ10",
          "KJ12",
          "KJ10",
          "KJ10",
          "KJ10",
          "KJ10",
          "KJ10",
          "KJ14",
          "KJ10",
          "KJ12",
          "KJ10",
          "KJ10",
          "KJ14",
          "KJ10",
          "KJ10",
          "KJ10",
          "KJ10",
          "KJ14",
          "KJ10",
          "KJ10",
          "KJ10",
          "KJ10",
          "KJ10",
          "KJ10",
          "KJ14",
          "KJ10",
          "KJ10",
          "KJ10",
          "KJ10",
          "KJ10",
          "KJ10",
          "KJ10",
          "KJ10",
          "KJ10",
          "KJ10",
          "KJ10",
          "KJ10",
          "KJ10",
          "KJ12",
          "KJ10",
          "KJ10",
          "KJ10",
          "KJ10",
          "KJ12",
          "KJ10",
          "KJ10",
          "KJ10",
          "KJ10",
          "KJ10",
          "KJ10",
          "KJ10",
          "KJ10",
          "KJ10",
          "KJ14",
          "KJ10",
          "KJ12",
          "KJ10",
          "KJ10",
          "KJ10",
          "KJ14",
          "KJ10",
          "KJ10",
          "KJ14",
          "KJ10",
          "KJ14",
          "KJ14",
          "KJ14",
          "KJ10",
          "KJ14",
          "KJ14",
          "KJ10",
          "KJ10",
          "KJ14",
          "KJ14",
          "KJ14",
          "KJ14",
          "KJ14",
          "KJ10",
          "KJ10",
          "KJ10",
          "KJ10",
          "KJ14",
          "KJ10",
          "KJ14",
          "KJ14",
          "KJ14",
          "KJ14",
          "KJ14",
          "KJ14",
          "KJ12",
          "KJ14",
          "KJ10",
          "KJ10",
          "KJ14",
          "KJ14",
          "KJ10",
          "KJ14",
          "KJ14",
          "KJ14",
          "KJ10",
          "KJ10",
          "KJ14",
          "KJ10",
          "KJ10",
          "KJ10",
          "KJ14",
          "KJ10"
         ],
         "textfont": {
          "color": "#333333",
          "size": 12
         },
         "textposition": "top center",
         "type": "scatter",
         "x": [
          126.364433,
          126.364433,
          126.362021,
          126.356779,
          126.362021,
          126.366364,
          126.362021,
          126.356779,
          126.362021,
          126.366364,
          126.366364,
          126.362021,
          126.372777,
          126.372777,
          126.356779,
          126.366364,
          126.362021,
          126.356779,
          126.356779,
          126.356779,
          126.366364,
          126.356779,
          126.356779,
          126.364433,
          126.356779,
          126.356779,
          126.362021,
          126.362021,
          126.359078,
          126.366364,
          126.372777,
          126.366364,
          126.372777,
          126.372777,
          126.372777,
          126.362021,
          126.372777,
          126.372777,
          126.381069,
          126.369522,
          126.356779,
          126.356779,
          126.356779,
          126.372777,
          126.372777,
          126.372777,
          126.372777,
          126.372777,
          126.362021,
          126.362021,
          126.362021,
          126.362021,
          126.372777,
          126.362021,
          126.372777,
          126.364433,
          126.372777,
          126.362021,
          126.356779,
          126.356779,
          126.356779,
          126.356779,
          126.356779,
          126.356779,
          126.362021,
          126.362021,
          126.362021,
          126.359078,
          126.372777,
          126.364433,
          126.359078,
          126.362021,
          126.359078,
          126.359078,
          126.362021,
          126.362021,
          126.362021,
          126.359078,
          126.359078,
          126.364433,
          126.362021,
          126.362021,
          126.362021,
          126.359078,
          126.359078,
          126.359078,
          126.364433,
          126.362021,
          126.359078,
          126.359078,
          126.381069,
          126.381069,
          126.381069,
          126.372253,
          126.366364,
          126.359078,
          126.362021,
          126.359078,
          126.366364,
          126.359078,
          126.359078,
          126.359078,
          126.359078,
          126.359078,
          126.362021,
          126.359078,
          126.366364,
          126.359078,
          126.359078,
          126.362021,
          126.359078,
          126.359078,
          126.359078,
          126.359078,
          126.362021,
          126.359078,
          126.359078,
          126.359078,
          126.359078,
          126.359078,
          126.359078,
          126.362021,
          126.359078,
          126.359078,
          126.359078,
          126.359078,
          126.359078,
          126.359078,
          126.359078,
          126.359078,
          126.359078,
          126.359078,
          126.359078,
          126.359078,
          126.359078,
          126.366364,
          126.359078,
          126.359078,
          126.359078,
          126.359078,
          126.366364,
          126.359078,
          126.359078,
          126.359078,
          126.359078,
          126.359078,
          126.359078,
          126.359078,
          126.359078,
          126.359078,
          126.362021,
          126.359078,
          126.366364,
          126.359078,
          126.359078,
          126.359078,
          126.362021,
          126.359078,
          126.359078,
          126.362021,
          126.359078,
          126.362021,
          126.362021,
          126.362021,
          126.359078,
          126.362021,
          126.362021,
          126.359078,
          126.359078,
          126.362021,
          126.362021,
          126.362021,
          126.362021,
          126.362021,
          126.359078,
          126.359078,
          126.359078,
          126.359078,
          126.362021,
          126.359078,
          126.362021,
          126.362021,
          126.362021,
          126.362021,
          126.362021,
          126.362021,
          126.366364,
          126.362021,
          126.359078,
          126.359078,
          126.362021,
          126.362021,
          126.359078,
          126.362021,
          126.362021,
          126.362021,
          126.359078,
          126.359078,
          126.362021,
          126.359078,
          126.359078,
          126.359078,
          126.362021,
          126.359078
         ],
         "y": [
          38.22482,
          38.22482,
          38.24528,
          38.240449,
          38.24528,
          38.236119,
          38.24528,
          38.240449,
          38.24528,
          38.236119,
          38.236119,
          38.24528,
          38.231774,
          38.231774,
          38.240449,
          38.236119,
          38.24528,
          38.240449,
          38.240449,
          38.240449,
          38.236119,
          38.240449,
          38.240449,
          38.22482,
          38.240449,
          38.240449,
          38.24528,
          38.24528,
          38.231261,
          38.236119,
          38.231774,
          38.236119,
          38.231774,
          38.231774,
          38.231774,
          38.24528,
          38.231774,
          38.231774,
          38.220451,
          38.243717,
          38.240449,
          38.240449,
          38.240449,
          38.231774,
          38.231774,
          38.231774,
          38.231774,
          38.231774,
          38.24528,
          38.24528,
          38.24528,
          38.24528,
          38.231774,
          38.24528,
          38.231774,
          38.22482,
          38.231774,
          38.24528,
          38.240449,
          38.240449,
          38.240449,
          38.240449,
          38.240449,
          38.240449,
          38.24528,
          38.24528,
          38.24528,
          38.231261,
          38.231774,
          38.22482,
          38.231261,
          38.24528,
          38.231261,
          38.231261,
          38.24528,
          38.24528,
          38.24528,
          38.231261,
          38.231261,
          38.22482,
          38.24528,
          38.24528,
          38.24528,
          38.231261,
          38.231261,
          38.231261,
          38.22482,
          38.24528,
          38.231261,
          38.231261,
          38.220451,
          38.220451,
          38.220451,
          38.22405,
          38.236119,
          38.231261,
          38.24528,
          38.231261,
          38.236119,
          38.231261,
          38.231261,
          38.231261,
          38.231261,
          38.231261,
          38.24528,
          38.231261,
          38.236119,
          38.231261,
          38.231261,
          38.24528,
          38.231261,
          38.231261,
          38.231261,
          38.231261,
          38.24528,
          38.231261,
          38.231261,
          38.231261,
          38.231261,
          38.231261,
          38.231261,
          38.24528,
          38.231261,
          38.231261,
          38.231261,
          38.231261,
          38.231261,
          38.231261,
          38.231261,
          38.231261,
          38.231261,
          38.231261,
          38.231261,
          38.231261,
          38.231261,
          38.236119,
          38.231261,
          38.231261,
          38.231261,
          38.231261,
          38.236119,
          38.231261,
          38.231261,
          38.231261,
          38.231261,
          38.231261,
          38.231261,
          38.231261,
          38.231261,
          38.231261,
          38.24528,
          38.231261,
          38.236119,
          38.231261,
          38.231261,
          38.231261,
          38.24528,
          38.231261,
          38.231261,
          38.24528,
          38.231261,
          38.24528,
          38.24528,
          38.24528,
          38.231261,
          38.24528,
          38.24528,
          38.231261,
          38.231261,
          38.24528,
          38.24528,
          38.24528,
          38.24528,
          38.24528,
          38.231261,
          38.231261,
          38.231261,
          38.231261,
          38.24528,
          38.231261,
          38.24528,
          38.24528,
          38.24528,
          38.24528,
          38.24528,
          38.24528,
          38.236119,
          38.24528,
          38.231261,
          38.231261,
          38.24528,
          38.24528,
          38.231261,
          38.24528,
          38.24528,
          38.24528,
          38.231261,
          38.231261,
          38.24528,
          38.231261,
          38.231261,
          38.231261,
          38.24528,
          38.231261
         ]
        }
       ],
       "layout": {
        "coloraxis": {
         "colorbar": {
          "title": {
           "text": "depth_m"
          }
         },
         "colorscale": [
          [
           0,
           "#440154"
          ],
          [
           0.1111111111111111,
           "#482878"
          ],
          [
           0.2222222222222222,
           "#3e4989"
          ],
          [
           0.3333333333333333,
           "#31688e"
          ],
          [
           0.4444444444444444,
           "#26828e"
          ],
          [
           0.5555555555555556,
           "#1f9e89"
          ],
          [
           0.6666666666666666,
           "#35b779"
          ],
          [
           0.7777777777777778,
           "#6ece58"
          ],
          [
           0.8888888888888888,
           "#b5de2b"
          ],
          [
           1,
           "#fde725"
          ]
         ]
        },
        "height": 720,
        "legend": {
         "bgcolor": "rgba(255,255,255,0.5)",
         "itemsizing": "constant",
         "tracegroupgap": 0,
         "x": 0.01,
         "xanchor": "left",
         "y": 0.99,
         "yanchor": "top"
        },
        "showlegend": true,
        "template": {
         "data": {
          "bar": [
           {
            "error_x": {
             "color": "#2a3f5f"
            },
            "error_y": {
             "color": "#2a3f5f"
            },
            "marker": {
             "line": {
              "color": "white",
              "width": 0.5
             },
             "pattern": {
              "fillmode": "overlay",
              "size": 10,
              "solidity": 0.2
             }
            },
            "type": "bar"
           }
          ],
          "barpolar": [
           {
            "marker": {
             "line": {
              "color": "white",
              "width": 0.5
             },
             "pattern": {
              "fillmode": "overlay",
              "size": 10,
              "solidity": 0.2
             }
            },
            "type": "barpolar"
           }
          ],
          "carpet": [
           {
            "aaxis": {
             "endlinecolor": "#2a3f5f",
             "gridcolor": "#C8D4E3",
             "linecolor": "#C8D4E3",
             "minorgridcolor": "#C8D4E3",
             "startlinecolor": "#2a3f5f"
            },
            "baxis": {
             "endlinecolor": "#2a3f5f",
             "gridcolor": "#C8D4E3",
             "linecolor": "#C8D4E3",
             "minorgridcolor": "#C8D4E3",
             "startlinecolor": "#2a3f5f"
            },
            "type": "carpet"
           }
          ],
          "choropleth": [
           {
            "colorbar": {
             "outlinewidth": 0,
             "ticks": ""
            },
            "type": "choropleth"
           }
          ],
          "contour": [
           {
            "colorbar": {
             "outlinewidth": 0,
             "ticks": ""
            },
            "colorscale": [
             [
              0,
              "#0d0887"
             ],
             [
              0.1111111111111111,
              "#46039f"
             ],
             [
              0.2222222222222222,
              "#7201a8"
             ],
             [
              0.3333333333333333,
              "#9c179e"
             ],
             [
              0.4444444444444444,
              "#bd3786"
             ],
             [
              0.5555555555555556,
              "#d8576b"
             ],
             [
              0.6666666666666666,
              "#ed7953"
             ],
             [
              0.7777777777777778,
              "#fb9f3a"
             ],
             [
              0.8888888888888888,
              "#fdca26"
             ],
             [
              1,
              "#f0f921"
             ]
            ],
            "type": "contour"
           }
          ],
          "contourcarpet": [
           {
            "colorbar": {
             "outlinewidth": 0,
             "ticks": ""
            },
            "type": "contourcarpet"
           }
          ],
          "heatmap": [
           {
            "colorbar": {
             "outlinewidth": 0,
             "ticks": ""
            },
            "colorscale": [
             [
              0,
              "#0d0887"
             ],
             [
              0.1111111111111111,
              "#46039f"
             ],
             [
              0.2222222222222222,
              "#7201a8"
             ],
             [
              0.3333333333333333,
              "#9c179e"
             ],
             [
              0.4444444444444444,
              "#bd3786"
             ],
             [
              0.5555555555555556,
              "#d8576b"
             ],
             [
              0.6666666666666666,
              "#ed7953"
             ],
             [
              0.7777777777777778,
              "#fb9f3a"
             ],
             [
              0.8888888888888888,
              "#fdca26"
             ],
             [
              1,
              "#f0f921"
             ]
            ],
            "type": "heatmap"
           }
          ],
          "heatmapgl": [
           {
            "colorbar": {
             "outlinewidth": 0,
             "ticks": ""
            },
            "colorscale": [
             [
              0,
              "#0d0887"
             ],
             [
              0.1111111111111111,
              "#46039f"
             ],
             [
              0.2222222222222222,
              "#7201a8"
             ],
             [
              0.3333333333333333,
              "#9c179e"
             ],
             [
              0.4444444444444444,
              "#bd3786"
             ],
             [
              0.5555555555555556,
              "#d8576b"
             ],
             [
              0.6666666666666666,
              "#ed7953"
             ],
             [
              0.7777777777777778,
              "#fb9f3a"
             ],
             [
              0.8888888888888888,
              "#fdca26"
             ],
             [
              1,
              "#f0f921"
             ]
            ],
            "type": "heatmapgl"
           }
          ],
          "histogram": [
           {
            "marker": {
             "pattern": {
              "fillmode": "overlay",
              "size": 10,
              "solidity": 0.2
             }
            },
            "type": "histogram"
           }
          ],
          "histogram2d": [
           {
            "colorbar": {
             "outlinewidth": 0,
             "ticks": ""
            },
            "colorscale": [
             [
              0,
              "#0d0887"
             ],
             [
              0.1111111111111111,
              "#46039f"
             ],
             [
              0.2222222222222222,
              "#7201a8"
             ],
             [
              0.3333333333333333,
              "#9c179e"
             ],
             [
              0.4444444444444444,
              "#bd3786"
             ],
             [
              0.5555555555555556,
              "#d8576b"
             ],
             [
              0.6666666666666666,
              "#ed7953"
             ],
             [
              0.7777777777777778,
              "#fb9f3a"
             ],
             [
              0.8888888888888888,
              "#fdca26"
             ],
             [
              1,
              "#f0f921"
             ]
            ],
            "type": "histogram2d"
           }
          ],
          "histogram2dcontour": [
           {
            "colorbar": {
             "outlinewidth": 0,
             "ticks": ""
            },
            "colorscale": [
             [
              0,
              "#0d0887"
             ],
             [
              0.1111111111111111,
              "#46039f"
             ],
             [
              0.2222222222222222,
              "#7201a8"
             ],
             [
              0.3333333333333333,
              "#9c179e"
             ],
             [
              0.4444444444444444,
              "#bd3786"
             ],
             [
              0.5555555555555556,
              "#d8576b"
             ],
             [
              0.6666666666666666,
              "#ed7953"
             ],
             [
              0.7777777777777778,
              "#fb9f3a"
             ],
             [
              0.8888888888888888,
              "#fdca26"
             ],
             [
              1,
              "#f0f921"
             ]
            ],
            "type": "histogram2dcontour"
           }
          ],
          "mesh3d": [
           {
            "colorbar": {
             "outlinewidth": 0,
             "ticks": ""
            },
            "type": "mesh3d"
           }
          ],
          "parcoords": [
           {
            "line": {
             "colorbar": {
              "outlinewidth": 0,
              "ticks": ""
             }
            },
            "type": "parcoords"
           }
          ],
          "pie": [
           {
            "automargin": true,
            "type": "pie"
           }
          ],
          "scatter": [
           {
            "fillpattern": {
             "fillmode": "overlay",
             "size": 10,
             "solidity": 0.2
            },
            "type": "scatter"
           }
          ],
          "scatter3d": [
           {
            "line": {
             "colorbar": {
              "outlinewidth": 0,
              "ticks": ""
             }
            },
            "marker": {
             "colorbar": {
              "outlinewidth": 0,
              "ticks": ""
             }
            },
            "type": "scatter3d"
           }
          ],
          "scattercarpet": [
           {
            "marker": {
             "colorbar": {
              "outlinewidth": 0,
              "ticks": ""
             }
            },
            "type": "scattercarpet"
           }
          ],
          "scattergeo": [
           {
            "marker": {
             "colorbar": {
              "outlinewidth": 0,
              "ticks": ""
             }
            },
            "type": "scattergeo"
           }
          ],
          "scattergl": [
           {
            "marker": {
             "colorbar": {
              "outlinewidth": 0,
              "ticks": ""
             }
            },
            "type": "scattergl"
           }
          ],
          "scattermapbox": [
           {
            "marker": {
             "colorbar": {
              "outlinewidth": 0,
              "ticks": ""
             }
            },
            "type": "scattermapbox"
           }
          ],
          "scatterpolar": [
           {
            "marker": {
             "colorbar": {
              "outlinewidth": 0,
              "ticks": ""
             }
            },
            "type": "scatterpolar"
           }
          ],
          "scatterpolargl": [
           {
            "marker": {
             "colorbar": {
              "outlinewidth": 0,
              "ticks": ""
             }
            },
            "type": "scatterpolargl"
           }
          ],
          "scatterternary": [
           {
            "marker": {
             "colorbar": {
              "outlinewidth": 0,
              "ticks": ""
             }
            },
            "type": "scatterternary"
           }
          ],
          "surface": [
           {
            "colorbar": {
             "outlinewidth": 0,
             "ticks": ""
            },
            "colorscale": [
             [
              0,
              "#0d0887"
             ],
             [
              0.1111111111111111,
              "#46039f"
             ],
             [
              0.2222222222222222,
              "#7201a8"
             ],
             [
              0.3333333333333333,
              "#9c179e"
             ],
             [
              0.4444444444444444,
              "#bd3786"
             ],
             [
              0.5555555555555556,
              "#d8576b"
             ],
             [
              0.6666666666666666,
              "#ed7953"
             ],
             [
              0.7777777777777778,
              "#fb9f3a"
             ],
             [
              0.8888888888888888,
              "#fdca26"
             ],
             [
              1,
              "#f0f921"
             ]
            ],
            "type": "surface"
           }
          ],
          "table": [
           {
            "cells": {
             "fill": {
              "color": "#EBF0F8"
             },
             "line": {
              "color": "white"
             }
            },
            "header": {
             "fill": {
              "color": "#C8D4E3"
             },
             "line": {
              "color": "white"
             }
            },
            "type": "table"
           }
          ]
         },
         "layout": {
          "annotationdefaults": {
           "arrowcolor": "#2a3f5f",
           "arrowhead": 0,
           "arrowwidth": 1
          },
          "autotypenumbers": "strict",
          "coloraxis": {
           "colorbar": {
            "outlinewidth": 0,
            "ticks": ""
           }
          },
          "colorscale": {
           "diverging": [
            [
             0,
             "#8e0152"
            ],
            [
             0.1,
             "#c51b7d"
            ],
            [
             0.2,
             "#de77ae"
            ],
            [
             0.3,
             "#f1b6da"
            ],
            [
             0.4,
             "#fde0ef"
            ],
            [
             0.5,
             "#f7f7f7"
            ],
            [
             0.6,
             "#e6f5d0"
            ],
            [
             0.7,
             "#b8e186"
            ],
            [
             0.8,
             "#7fbc41"
            ],
            [
             0.9,
             "#4d9221"
            ],
            [
             1,
             "#276419"
            ]
           ],
           "sequential": [
            [
             0,
             "#0d0887"
            ],
            [
             0.1111111111111111,
             "#46039f"
            ],
            [
             0.2222222222222222,
             "#7201a8"
            ],
            [
             0.3333333333333333,
             "#9c179e"
            ],
            [
             0.4444444444444444,
             "#bd3786"
            ],
            [
             0.5555555555555556,
             "#d8576b"
            ],
            [
             0.6666666666666666,
             "#ed7953"
            ],
            [
             0.7777777777777778,
             "#fb9f3a"
            ],
            [
             0.8888888888888888,
             "#fdca26"
            ],
            [
             1,
             "#f0f921"
            ]
           ],
           "sequentialminus": [
            [
             0,
             "#0d0887"
            ],
            [
             0.1111111111111111,
             "#46039f"
            ],
            [
             0.2222222222222222,
             "#7201a8"
            ],
            [
             0.3333333333333333,
             "#9c179e"
            ],
            [
             0.4444444444444444,
             "#bd3786"
            ],
            [
             0.5555555555555556,
             "#d8576b"
            ],
            [
             0.6666666666666666,
             "#ed7953"
            ],
            [
             0.7777777777777778,
             "#fb9f3a"
            ],
            [
             0.8888888888888888,
             "#fdca26"
            ],
            [
             1,
             "#f0f921"
            ]
           ]
          },
          "colorway": [
           "#636efa",
           "#EF553B",
           "#00cc96",
           "#ab63fa",
           "#FFA15A",
           "#19d3f3",
           "#FF6692",
           "#B6E880",
           "#FF97FF",
           "#FECB52"
          ],
          "font": {
           "color": "#2a3f5f"
          },
          "geo": {
           "bgcolor": "white",
           "lakecolor": "white",
           "landcolor": "white",
           "showlakes": true,
           "showland": true,
           "subunitcolor": "#C8D4E3"
          },
          "hoverlabel": {
           "align": "left"
          },
          "hovermode": "closest",
          "mapbox": {
           "style": "light"
          },
          "paper_bgcolor": "white",
          "plot_bgcolor": "white",
          "polar": {
           "angularaxis": {
            "gridcolor": "#EBF0F8",
            "linecolor": "#EBF0F8",
            "ticks": ""
           },
           "bgcolor": "white",
           "radialaxis": {
            "gridcolor": "#EBF0F8",
            "linecolor": "#EBF0F8",
            "ticks": ""
           }
          },
          "scene": {
           "xaxis": {
            "backgroundcolor": "white",
            "gridcolor": "#DFE8F3",
            "gridwidth": 2,
            "linecolor": "#EBF0F8",
            "showbackground": true,
            "ticks": "",
            "zerolinecolor": "#EBF0F8"
           },
           "yaxis": {
            "backgroundcolor": "white",
            "gridcolor": "#DFE8F3",
            "gridwidth": 2,
            "linecolor": "#EBF0F8",
            "showbackground": true,
            "ticks": "",
            "zerolinecolor": "#EBF0F8"
           },
           "zaxis": {
            "backgroundcolor": "white",
            "gridcolor": "#DFE8F3",
            "gridwidth": 2,
            "linecolor": "#EBF0F8",
            "showbackground": true,
            "ticks": "",
            "zerolinecolor": "#EBF0F8"
           }
          },
          "shapedefaults": {
           "line": {
            "color": "#2a3f5f"
           }
          },
          "ternary": {
           "aaxis": {
            "gridcolor": "#DFE8F3",
            "linecolor": "#A2B1C6",
            "ticks": ""
           },
           "baxis": {
            "gridcolor": "#DFE8F3",
            "linecolor": "#A2B1C6",
            "ticks": ""
           },
           "bgcolor": "white",
           "caxis": {
            "gridcolor": "#DFE8F3",
            "linecolor": "#A2B1C6",
            "ticks": ""
           }
          },
          "title": {
           "x": 0.05
          },
          "xaxis": {
           "automargin": true,
           "gridcolor": "#EBF0F8",
           "linecolor": "#EBF0F8",
           "ticks": "",
           "title": {
            "standoff": 15
           },
           "zerolinecolor": "#EBF0F8",
           "zerolinewidth": 2
          },
          "yaxis": {
           "automargin": true,
           "gridcolor": "#EBF0F8",
           "linecolor": "#EBF0F8",
           "ticks": "",
           "title": {
            "standoff": 15
           },
           "zerolinecolor": "#EBF0F8",
           "zerolinewidth": 2
          }
         }
        },
        "title": {
         "text": "Earthquake Locations (2D)"
        },
        "width": 960,
        "xaxis": {
         "anchor": "y",
         "domain": [
          0,
          1
         ],
         "range": [
          126.34776503548528,
          126.3702852909853
         ],
         "scaleanchor": "y",
         "scaleratio": 1,
         "title": {
          "text": "Longitude"
         }
        },
        "yaxis": {
         "anchor": "x",
         "domain": [
          0,
          1
         ],
         "range": [
          38.22936133354902,
          38.25188158904902
         ],
         "scaleratio": 1,
         "title": {
          "text": "Latitude"
         }
        }
       }
      }
     },
     "metadata": {},
     "output_type": "display_data"
    }
   ],
   "source": [
    "# Plot hypocenters 2D\n",
    "new_circular_area_lqt.plot_hypocenter_2d()"
   ]
  }
 ],
 "metadata": {
  "kernelspec": {
   "display_name": "base",
   "language": "python",
   "name": "python3"
  },
  "language_info": {
   "codemirror_mode": {
    "name": "ipython",
    "version": 3
   },
   "file_extension": ".py",
   "mimetype": "text/x-python",
   "name": "python",
   "nbconvert_exporter": "python",
   "pygments_lexer": "ipython3",
   "version": "3.12.3"
  }
 },
 "nbformat": 4,
 "nbformat_minor": 2
}
