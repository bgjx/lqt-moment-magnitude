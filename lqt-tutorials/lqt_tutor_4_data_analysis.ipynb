{
 "cells": [
  {
   "cell_type": "markdown",
   "metadata": {},
   "source": [
    "## LQTMOMENT Tutorial 4: Data Analysis with LqtAnalysis"
   ]
  },
  {
   "cell_type": "markdown",
   "metadata": {},
   "source": [
    "Before using `lqt_analysis` module, you need to prepare your `lqtmoment-formatted catalog`, as demonstrated in [lqt_tutor_1_catalog_builder](https://github.com/bgjx/lqt-moment-magnitude/blob/main/lqt-tutorials/lqt_tutor_1_catalog_builder.ipynb). The new data field, `magnitude`, will automatically be included in the catalog after running the program for magnitude calculation. You can then work with this field in `LqtAnalysis` class. However, `LqtAnalysis` can still parse the `lqtmoment-formatted catalog` even if you haven't calculated the moment magnitude first."
   ]
  },
  {
   "cell_type": "markdown",
   "metadata": {},
   "source": [
    "### 1. Import all the necessary modules from the **lqt_analysis** module."
   ]
  },
  {
   "cell_type": "code",
   "execution_count": 1,
   "metadata": {},
   "outputs": [],
   "source": [
    "from lqtmoment.lqt_analysis import load_catalog, LqtAnalysis, Statistic\n",
    "import pandas as pd"
   ]
  },
  {
   "cell_type": "markdown",
   "metadata": {},
   "source": [
    "> **ℹ️ INFO ℹ️**\n",
    "> \n",
    "> From `lqt_analysis`, we need to import `load_catalog` module to load the `lqtmoment-formatted catalog` in `.csv` or `.xlsx` (`.csv` format is preferred). This module will return an `LqtAnalysis` class instance. \n",
    ">\n",
    "> You can absolutely generate `LqtAnalysis` class instance by inputing `lqtmoment-formatted` pandas DataFrame if you prefer to streamline your data in a DataFrame object. \n",
    ">\n",
    "> The last module we need to import is the `Statistic` class, which is a helper `enum class` used to specify the statistical analysis you want `LqtAnalysis` to perform.\n",
    "> \n",
    ">"
   ]
  },
  {
   "cell_type": "markdown",
   "metadata": {},
   "source": [
    "### 2. Create LqtAnalysis Class Object\n",
    "\n",
    "#### A. From A lqtmoment Catalog File (.csv or .xlsx)\n",
    "\n",
    "To create `LqtAnalysis` class instance from a file, first you need to prepare the directory of that file and use `load_catalog` to load the file and it will return the `LqtAnalysis` class object."
   ]
  },
  {
   "cell_type": "code",
   "execution_count": 2,
   "metadata": {},
   "outputs": [
    {
     "data": {
      "text/html": [
       "<div>\n",
       "<style scoped>\n",
       "    .dataframe tbody tr th:only-of-type {\n",
       "        vertical-align: middle;\n",
       "    }\n",
       "\n",
       "    .dataframe tbody tr th {\n",
       "        vertical-align: top;\n",
       "    }\n",
       "\n",
       "    .dataframe thead th {\n",
       "        text-align: right;\n",
       "    }\n",
       "</style>\n",
       "<table border=\"1\" class=\"dataframe\">\n",
       "  <thead>\n",
       "    <tr style=\"text-align: right;\">\n",
       "      <th></th>\n",
       "      <th>Unnamed: 0</th>\n",
       "      <th>source_id</th>\n",
       "      <th>source_lat</th>\n",
       "      <th>source_lon</th>\n",
       "      <th>source_depth_m</th>\n",
       "      <th>magnitude</th>\n",
       "      <th>network_code</th>\n",
       "      <th>station_code</th>\n",
       "      <th>station_lat</th>\n",
       "      <th>station_lon</th>\n",
       "      <th>...</th>\n",
       "      <th>s_p_lag_time_sec</th>\n",
       "      <th>coda_time</th>\n",
       "      <th>source_err_rms_s</th>\n",
       "      <th>n_phases</th>\n",
       "      <th>gap_degree</th>\n",
       "      <th>x_horizontal_err_m</th>\n",
       "      <th>y_horizontal_err_m</th>\n",
       "      <th>z_depth_err_m</th>\n",
       "      <th>earthquake_type</th>\n",
       "      <th>remarks</th>\n",
       "    </tr>\n",
       "  </thead>\n",
       "  <tbody>\n",
       "    <tr>\n",
       "      <th>0</th>\n",
       "      <td>0</td>\n",
       "      <td>2000</td>\n",
       "      <td>38.244364</td>\n",
       "      <td>126.369385</td>\n",
       "      <td>-873.30</td>\n",
       "      <td>0.431429</td>\n",
       "      <td>KJ</td>\n",
       "      <td>KJ09</td>\n",
       "      <td>38.224820</td>\n",
       "      <td>126.364433</td>\n",
       "      <td>...</td>\n",
       "      <td>0.537087</td>\n",
       "      <td>NaN</td>\n",
       "      <td>0.010497</td>\n",
       "      <td>6.0</td>\n",
       "      <td>321.498</td>\n",
       "      <td>1001.074098</td>\n",
       "      <td>553.533887</td>\n",
       "      <td>1125.534873</td>\n",
       "      <td>very_local_earthquake</td>\n",
       "      <td>NaN</td>\n",
       "    </tr>\n",
       "    <tr>\n",
       "      <th>1</th>\n",
       "      <td>1</td>\n",
       "      <td>2000</td>\n",
       "      <td>38.244364</td>\n",
       "      <td>126.369385</td>\n",
       "      <td>-873.30</td>\n",
       "      <td>0.431429</td>\n",
       "      <td>KJ</td>\n",
       "      <td>KJ06</td>\n",
       "      <td>38.212581</td>\n",
       "      <td>126.379951</td>\n",
       "      <td>...</td>\n",
       "      <td>0.819840</td>\n",
       "      <td>NaN</td>\n",
       "      <td>0.010497</td>\n",
       "      <td>6.0</td>\n",
       "      <td>321.498</td>\n",
       "      <td>1001.074098</td>\n",
       "      <td>553.533887</td>\n",
       "      <td>1125.534873</td>\n",
       "      <td>very_local_earthquake</td>\n",
       "      <td>NaN</td>\n",
       "    </tr>\n",
       "    <tr>\n",
       "      <th>2</th>\n",
       "      <td>2</td>\n",
       "      <td>2000</td>\n",
       "      <td>38.244364</td>\n",
       "      <td>126.369385</td>\n",
       "      <td>-873.30</td>\n",
       "      <td>0.431429</td>\n",
       "      <td>KJ</td>\n",
       "      <td>KJ05</td>\n",
       "      <td>38.203970</td>\n",
       "      <td>126.378906</td>\n",
       "      <td>...</td>\n",
       "      <td>0.994110</td>\n",
       "      <td>NaN</td>\n",
       "      <td>0.010497</td>\n",
       "      <td>6.0</td>\n",
       "      <td>321.498</td>\n",
       "      <td>1001.074098</td>\n",
       "      <td>553.533887</td>\n",
       "      <td>1125.534873</td>\n",
       "      <td>very_local_earthquake</td>\n",
       "      <td>NaN</td>\n",
       "    </tr>\n",
       "    <tr>\n",
       "      <th>3</th>\n",
       "      <td>3</td>\n",
       "      <td>2001</td>\n",
       "      <td>38.201387</td>\n",
       "      <td>126.357560</td>\n",
       "      <td>1258.86</td>\n",
       "      <td>1.060108</td>\n",
       "      <td>KJ</td>\n",
       "      <td>KJ05</td>\n",
       "      <td>38.203970</td>\n",
       "      <td>126.378906</td>\n",
       "      <td>...</td>\n",
       "      <td>0.751148</td>\n",
       "      <td>NaN</td>\n",
       "      <td>0.055488</td>\n",
       "      <td>12.0</td>\n",
       "      <td>282.688</td>\n",
       "      <td>454.228142</td>\n",
       "      <td>469.387846</td>\n",
       "      <td>548.388115</td>\n",
       "      <td>very_local_earthquake</td>\n",
       "      <td>NaN</td>\n",
       "    </tr>\n",
       "    <tr>\n",
       "      <th>4</th>\n",
       "      <td>4</td>\n",
       "      <td>2001</td>\n",
       "      <td>38.201387</td>\n",
       "      <td>126.357560</td>\n",
       "      <td>1258.86</td>\n",
       "      <td>1.060108</td>\n",
       "      <td>KJ</td>\n",
       "      <td>KJ06</td>\n",
       "      <td>38.212581</td>\n",
       "      <td>126.379951</td>\n",
       "      <td>...</td>\n",
       "      <td>0.762638</td>\n",
       "      <td>NaN</td>\n",
       "      <td>0.055488</td>\n",
       "      <td>12.0</td>\n",
       "      <td>282.688</td>\n",
       "      <td>454.228142</td>\n",
       "      <td>469.387846</td>\n",
       "      <td>548.388115</td>\n",
       "      <td>very_local_earthquake</td>\n",
       "      <td>NaN</td>\n",
       "    </tr>\n",
       "  </tbody>\n",
       "</table>\n",
       "<p>5 rows × 28 columns</p>\n",
       "</div>"
      ],
      "text/plain": [
       "   Unnamed: 0  source_id  source_lat  source_lon  source_depth_m  magnitude  \\\n",
       "0           0       2000   38.244364  126.369385         -873.30   0.431429   \n",
       "1           1       2000   38.244364  126.369385         -873.30   0.431429   \n",
       "2           2       2000   38.244364  126.369385         -873.30   0.431429   \n",
       "3           3       2001   38.201387  126.357560         1258.86   1.060108   \n",
       "4           4       2001   38.201387  126.357560         1258.86   1.060108   \n",
       "\n",
       "  network_code station_code  station_lat  station_lon  ...  s_p_lag_time_sec  \\\n",
       "0           KJ         KJ09    38.224820   126.364433  ...          0.537087   \n",
       "1           KJ         KJ06    38.212581   126.379951  ...          0.819840   \n",
       "2           KJ         KJ05    38.203970   126.378906  ...          0.994110   \n",
       "3           KJ         KJ05    38.203970   126.378906  ...          0.751148   \n",
       "4           KJ         KJ06    38.212581   126.379951  ...          0.762638   \n",
       "\n",
       "  coda_time source_err_rms_s  n_phases gap_degree x_horizontal_err_m  \\\n",
       "0       NaN         0.010497       6.0    321.498        1001.074098   \n",
       "1       NaN         0.010497       6.0    321.498        1001.074098   \n",
       "2       NaN         0.010497       6.0    321.498        1001.074098   \n",
       "3       NaN         0.055488      12.0    282.688         454.228142   \n",
       "4       NaN         0.055488      12.0    282.688         454.228142   \n",
       "\n",
       "  y_horizontal_err_m  z_depth_err_m        earthquake_type  remarks  \n",
       "0         553.533887    1125.534873  very_local_earthquake      NaN  \n",
       "1         553.533887    1125.534873  very_local_earthquake      NaN  \n",
       "2         553.533887    1125.534873  very_local_earthquake      NaN  \n",
       "3         469.387846     548.388115  very_local_earthquake      NaN  \n",
       "4         469.387846     548.388115  very_local_earthquake      NaN  \n",
       "\n",
       "[5 rows x 28 columns]"
      ]
     },
     "execution_count": 2,
     "metadata": {},
     "output_type": "execute_result"
    }
   ],
   "source": [
    "# Get the lqt catalog directory\n",
    "catalog_dir = r\"C:\\Users\\arham zakki edelo\\lqt-tutorials\\lqt-tutorials\\run lqt moment\\result_test.csv\"\n",
    "\n",
    "# Load the catalog\n",
    "lqt_ready = load_catalog(catalog_dir)\n",
    "\n",
    "# Check first 5 rows using head method\n",
    "lqt_ready.head()"
   ]
  },
  {
   "cell_type": "markdown",
   "metadata": {},
   "source": [
    "#### B. From A Catalog DataFrame\n",
    "\n",
    "Let's say that after using `magnitude_estimator` API, as we have demonstrated in [lqt_tutor_3_moment_mag_calculation](https://github.com/bgjx/lqt-moment-magnitude/blob/main/lqt-tutorials/lqt_tutor_3_moment_mag_calculation.ipynb), you want to use the `merged` catalog as the result of your moment magnitude calculation for immediate data analysis. In that case,  you can directly create `LqtAnalyais` class instance like this:"
   ]
  },
  {
   "cell_type": "code",
   "execution_count": 3,
   "metadata": {},
   "outputs": [
    {
     "data": {
      "text/html": [
       "<div>\n",
       "<style scoped>\n",
       "    .dataframe tbody tr th:only-of-type {\n",
       "        vertical-align: middle;\n",
       "    }\n",
       "\n",
       "    .dataframe tbody tr th {\n",
       "        vertical-align: top;\n",
       "    }\n",
       "\n",
       "    .dataframe thead th {\n",
       "        text-align: right;\n",
       "    }\n",
       "</style>\n",
       "<table border=\"1\" class=\"dataframe\">\n",
       "  <thead>\n",
       "    <tr style=\"text-align: right;\">\n",
       "      <th></th>\n",
       "      <th>Unnamed: 0</th>\n",
       "      <th>source_id</th>\n",
       "      <th>source_lat</th>\n",
       "      <th>source_lon</th>\n",
       "      <th>source_depth_m</th>\n",
       "      <th>magnitude</th>\n",
       "      <th>network_code</th>\n",
       "      <th>station_code</th>\n",
       "      <th>station_lat</th>\n",
       "      <th>station_lon</th>\n",
       "      <th>...</th>\n",
       "      <th>s_p_lag_time_sec</th>\n",
       "      <th>coda_time</th>\n",
       "      <th>source_err_rms_s</th>\n",
       "      <th>n_phases</th>\n",
       "      <th>gap_degree</th>\n",
       "      <th>x_horizontal_err_m</th>\n",
       "      <th>y_horizontal_err_m</th>\n",
       "      <th>z_depth_err_m</th>\n",
       "      <th>earthquake_type</th>\n",
       "      <th>remarks</th>\n",
       "    </tr>\n",
       "  </thead>\n",
       "  <tbody>\n",
       "    <tr>\n",
       "      <th>0</th>\n",
       "      <td>0</td>\n",
       "      <td>2000</td>\n",
       "      <td>38.244364</td>\n",
       "      <td>126.369385</td>\n",
       "      <td>-873.30</td>\n",
       "      <td>0.431429</td>\n",
       "      <td>KJ</td>\n",
       "      <td>KJ09</td>\n",
       "      <td>38.224820</td>\n",
       "      <td>126.364433</td>\n",
       "      <td>...</td>\n",
       "      <td>0.537087</td>\n",
       "      <td>NaN</td>\n",
       "      <td>0.010497</td>\n",
       "      <td>6.0</td>\n",
       "      <td>321.498</td>\n",
       "      <td>1001.074098</td>\n",
       "      <td>553.533887</td>\n",
       "      <td>1125.534873</td>\n",
       "      <td>very_local_earthquake</td>\n",
       "      <td>NaN</td>\n",
       "    </tr>\n",
       "    <tr>\n",
       "      <th>1</th>\n",
       "      <td>1</td>\n",
       "      <td>2000</td>\n",
       "      <td>38.244364</td>\n",
       "      <td>126.369385</td>\n",
       "      <td>-873.30</td>\n",
       "      <td>0.431429</td>\n",
       "      <td>KJ</td>\n",
       "      <td>KJ06</td>\n",
       "      <td>38.212581</td>\n",
       "      <td>126.379951</td>\n",
       "      <td>...</td>\n",
       "      <td>0.819840</td>\n",
       "      <td>NaN</td>\n",
       "      <td>0.010497</td>\n",
       "      <td>6.0</td>\n",
       "      <td>321.498</td>\n",
       "      <td>1001.074098</td>\n",
       "      <td>553.533887</td>\n",
       "      <td>1125.534873</td>\n",
       "      <td>very_local_earthquake</td>\n",
       "      <td>NaN</td>\n",
       "    </tr>\n",
       "    <tr>\n",
       "      <th>2</th>\n",
       "      <td>2</td>\n",
       "      <td>2000</td>\n",
       "      <td>38.244364</td>\n",
       "      <td>126.369385</td>\n",
       "      <td>-873.30</td>\n",
       "      <td>0.431429</td>\n",
       "      <td>KJ</td>\n",
       "      <td>KJ05</td>\n",
       "      <td>38.203970</td>\n",
       "      <td>126.378906</td>\n",
       "      <td>...</td>\n",
       "      <td>0.994110</td>\n",
       "      <td>NaN</td>\n",
       "      <td>0.010497</td>\n",
       "      <td>6.0</td>\n",
       "      <td>321.498</td>\n",
       "      <td>1001.074098</td>\n",
       "      <td>553.533887</td>\n",
       "      <td>1125.534873</td>\n",
       "      <td>very_local_earthquake</td>\n",
       "      <td>NaN</td>\n",
       "    </tr>\n",
       "    <tr>\n",
       "      <th>3</th>\n",
       "      <td>3</td>\n",
       "      <td>2001</td>\n",
       "      <td>38.201387</td>\n",
       "      <td>126.357560</td>\n",
       "      <td>1258.86</td>\n",
       "      <td>1.060108</td>\n",
       "      <td>KJ</td>\n",
       "      <td>KJ05</td>\n",
       "      <td>38.203970</td>\n",
       "      <td>126.378906</td>\n",
       "      <td>...</td>\n",
       "      <td>0.751148</td>\n",
       "      <td>NaN</td>\n",
       "      <td>0.055488</td>\n",
       "      <td>12.0</td>\n",
       "      <td>282.688</td>\n",
       "      <td>454.228142</td>\n",
       "      <td>469.387846</td>\n",
       "      <td>548.388115</td>\n",
       "      <td>very_local_earthquake</td>\n",
       "      <td>NaN</td>\n",
       "    </tr>\n",
       "    <tr>\n",
       "      <th>4</th>\n",
       "      <td>4</td>\n",
       "      <td>2001</td>\n",
       "      <td>38.201387</td>\n",
       "      <td>126.357560</td>\n",
       "      <td>1258.86</td>\n",
       "      <td>1.060108</td>\n",
       "      <td>KJ</td>\n",
       "      <td>KJ06</td>\n",
       "      <td>38.212581</td>\n",
       "      <td>126.379951</td>\n",
       "      <td>...</td>\n",
       "      <td>0.762638</td>\n",
       "      <td>NaN</td>\n",
       "      <td>0.055488</td>\n",
       "      <td>12.0</td>\n",
       "      <td>282.688</td>\n",
       "      <td>454.228142</td>\n",
       "      <td>469.387846</td>\n",
       "      <td>548.388115</td>\n",
       "      <td>very_local_earthquake</td>\n",
       "      <td>NaN</td>\n",
       "    </tr>\n",
       "  </tbody>\n",
       "</table>\n",
       "<p>5 rows × 28 columns</p>\n",
       "</div>"
      ],
      "text/plain": [
       "   Unnamed: 0  source_id  source_lat  source_lon  source_depth_m  magnitude  \\\n",
       "0           0       2000   38.244364  126.369385         -873.30   0.431429   \n",
       "1           1       2000   38.244364  126.369385         -873.30   0.431429   \n",
       "2           2       2000   38.244364  126.369385         -873.30   0.431429   \n",
       "3           3       2001   38.201387  126.357560         1258.86   1.060108   \n",
       "4           4       2001   38.201387  126.357560         1258.86   1.060108   \n",
       "\n",
       "  network_code station_code  station_lat  station_lon  ...  s_p_lag_time_sec  \\\n",
       "0           KJ         KJ09    38.224820   126.364433  ...          0.537087   \n",
       "1           KJ         KJ06    38.212581   126.379951  ...          0.819840   \n",
       "2           KJ         KJ05    38.203970   126.378906  ...          0.994110   \n",
       "3           KJ         KJ05    38.203970   126.378906  ...          0.751148   \n",
       "4           KJ         KJ06    38.212581   126.379951  ...          0.762638   \n",
       "\n",
       "  coda_time source_err_rms_s  n_phases gap_degree x_horizontal_err_m  \\\n",
       "0       NaN         0.010497       6.0    321.498        1001.074098   \n",
       "1       NaN         0.010497       6.0    321.498        1001.074098   \n",
       "2       NaN         0.010497       6.0    321.498        1001.074098   \n",
       "3       NaN         0.055488      12.0    282.688         454.228142   \n",
       "4       NaN         0.055488      12.0    282.688         454.228142   \n",
       "\n",
       "  y_horizontal_err_m  z_depth_err_m        earthquake_type  remarks  \n",
       "0         553.533887    1125.534873  very_local_earthquake      NaN  \n",
       "1         553.533887    1125.534873  very_local_earthquake      NaN  \n",
       "2         553.533887    1125.534873  very_local_earthquake      NaN  \n",
       "3         469.387846     548.388115  very_local_earthquake      NaN  \n",
       "4         469.387846     548.388115  very_local_earthquake      NaN  \n",
       "\n",
       "[5 rows x 28 columns]"
      ]
     },
     "execution_count": 3,
     "metadata": {},
     "output_type": "execute_result"
    }
   ],
   "source": [
    "# Let's pretend this catalog_df is the merged catalog resulting from magnitude_estimator module\n",
    "catalog_df = pd.read_csv(catalog_dir)\n",
    "\n",
    "# Then we can create LqtAnalysis class instance object with.\n",
    "lqt_ready_2 = LqtAnalysis(catalog_df)\n",
    "\n",
    "# Check first 5 rows using head method\n",
    "lqt_ready_2.head(5)"
   ]
  },
  {
   "cell_type": "markdown",
   "metadata": {},
   "source": [
    "### 3. Perform Some Statistics\n",
    "\n",
    "Using the `LqtAnalysis` class instance object, you can perform various statistical analysis to help evaluate your data. You can calculate statistics for any column in your catalog, and we provide the following list of available statistical methods:\n",
    "\n",
    "- **MEAN**\n",
    "- **MEDIAN**\n",
    "- **STD**\n",
    "- **MIN**\n",
    "- **MAX**\n",
    "- **DESCRIBE**"
   ]
  },
  {
   "cell_type": "code",
   "execution_count": 4,
   "metadata": {},
   "outputs": [
    {
     "name": "stdout",
     "output_type": "stream",
     "text": [
      "The mean of magnitude is 0.6425889431226027\n",
      "The maximum value of magnitude is 2.171243526133633\n",
      "Here the statistical description of the data: \n",
      "count    766.000000\n",
      "mean       0.642589\n",
      "std        0.378217\n",
      "min       -0.183738\n",
      "25%        0.386897\n",
      "50%        0.605232\n",
      "75%        0.867390\n",
      "max        2.171244\n",
      "Name: magnitude, dtype: float64\n"
     ]
    }
   ],
   "source": [
    "# Let's do some basic statistic here\n",
    "mean_magnitude = lqt_ready_2.compute_statistic('magnitude', Statistic.MEAN)\n",
    "print(f\"The mean of magnitude is {mean_magnitude}\")\n",
    "\n",
    "max_magnitude = lqt_ready_2.compute_statistic('magnitude', Statistic.MAX)\n",
    "print(f\"The maximum value of magnitude is {max_magnitude}\")\n",
    "\n",
    "# Or you can also use DESCRIBE\n",
    "describe = lqt_ready_2.compute_statistic('magnitude', Statistic.DESCRIBE)\n",
    "print(f\"Here the statistical description of the data: \\n{describe}\")"
   ]
  },
  {
   "cell_type": "markdown",
   "metadata": {},
   "source": [
    "### 4. Plotting Histogram\n",
    "\n",
    "Using the `LqtAnalysis` class instance object, you can also plot the histogram for any given numerical columns:"
   ]
  },
  {
   "cell_type": "code",
   "execution_count": 5,
   "metadata": {},
   "outputs": [
    {
     "data": {
      "application/vnd.plotly.v1+json": {
       "config": {
        "plotlyServerURL": "https://plot.ly"
       },
       "data": [
        {
         "bingroup": "x",
         "hovertemplate": "magnitude=%{x}<br>count=%{y}<extra></extra>",
         "legendgroup": "",
         "marker": {
          "color": "indianred",
          "line": {
           "color": "white",
           "width": 0.5
          },
          "opacity": 0.8,
          "pattern": {
           "shape": ""
          }
         },
         "name": "",
         "orientation": "v",
         "showlegend": false,
         "type": "histogram",
         "x": {
          "bdata": "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",
          "dtype": "f8"
         },
         "xaxis": "x",
         "yaxis": "y"
        }
       ],
       "layout": {
        "barmode": "relative",
        "height": 720,
        "legend": {
         "bgcolor": "rgba(255,255,255,0.5)",
         "tracegroupgap": 0,
         "x": 0.99,
         "xanchor": "right",
         "y": 0.99,
         "yanchor": "top"
        },
        "margin": {
         "t": 60
        },
        "showlegend": true,
        "template": {
         "data": {
          "bar": [
           {
            "error_x": {
             "color": "#2a3f5f"
            },
            "error_y": {
             "color": "#2a3f5f"
            },
            "marker": {
             "line": {
              "color": "white",
              "width": 0.5
             },
             "pattern": {
              "fillmode": "overlay",
              "size": 10,
              "solidity": 0.2
             }
            },
            "type": "bar"
           }
          ],
          "barpolar": [
           {
            "marker": {
             "line": {
              "color": "white",
              "width": 0.5
             },
             "pattern": {
              "fillmode": "overlay",
              "size": 10,
              "solidity": 0.2
             }
            },
            "type": "barpolar"
           }
          ],
          "carpet": [
           {
            "aaxis": {
             "endlinecolor": "#2a3f5f",
             "gridcolor": "#C8D4E3",
             "linecolor": "#C8D4E3",
             "minorgridcolor": "#C8D4E3",
             "startlinecolor": "#2a3f5f"
            },
            "baxis": {
             "endlinecolor": "#2a3f5f",
             "gridcolor": "#C8D4E3",
             "linecolor": "#C8D4E3",
             "minorgridcolor": "#C8D4E3",
             "startlinecolor": "#2a3f5f"
            },
            "type": "carpet"
           }
          ],
          "choropleth": [
           {
            "colorbar": {
             "outlinewidth": 0,
             "ticks": ""
            },
            "type": "choropleth"
           }
          ],
          "contour": [
           {
            "colorbar": {
             "outlinewidth": 0,
             "ticks": ""
            },
            "colorscale": [
             [
              0,
              "#0d0887"
             ],
             [
              0.1111111111111111,
              "#46039f"
             ],
             [
              0.2222222222222222,
              "#7201a8"
             ],
             [
              0.3333333333333333,
              "#9c179e"
             ],
             [
              0.4444444444444444,
              "#bd3786"
             ],
             [
              0.5555555555555556,
              "#d8576b"
             ],
             [
              0.6666666666666666,
              "#ed7953"
             ],
             [
              0.7777777777777778,
              "#fb9f3a"
             ],
             [
              0.8888888888888888,
              "#fdca26"
             ],
             [
              1,
              "#f0f921"
             ]
            ],
            "type": "contour"
           }
          ],
          "contourcarpet": [
           {
            "colorbar": {
             "outlinewidth": 0,
             "ticks": ""
            },
            "type": "contourcarpet"
           }
          ],
          "heatmap": [
           {
            "colorbar": {
             "outlinewidth": 0,
             "ticks": ""
            },
            "colorscale": [
             [
              0,
              "#0d0887"
             ],
             [
              0.1111111111111111,
              "#46039f"
             ],
             [
              0.2222222222222222,
              "#7201a8"
             ],
             [
              0.3333333333333333,
              "#9c179e"
             ],
             [
              0.4444444444444444,
              "#bd3786"
             ],
             [
              0.5555555555555556,
              "#d8576b"
             ],
             [
              0.6666666666666666,
              "#ed7953"
             ],
             [
              0.7777777777777778,
              "#fb9f3a"
             ],
             [
              0.8888888888888888,
              "#fdca26"
             ],
             [
              1,
              "#f0f921"
             ]
            ],
            "type": "heatmap"
           }
          ],
          "histogram": [
           {
            "marker": {
             "pattern": {
              "fillmode": "overlay",
              "size": 10,
              "solidity": 0.2
             }
            },
            "type": "histogram"
           }
          ],
          "histogram2d": [
           {
            "colorbar": {
             "outlinewidth": 0,
             "ticks": ""
            },
            "colorscale": [
             [
              0,
              "#0d0887"
             ],
             [
              0.1111111111111111,
              "#46039f"
             ],
             [
              0.2222222222222222,
              "#7201a8"
             ],
             [
              0.3333333333333333,
              "#9c179e"
             ],
             [
              0.4444444444444444,
              "#bd3786"
             ],
             [
              0.5555555555555556,
              "#d8576b"
             ],
             [
              0.6666666666666666,
              "#ed7953"
             ],
             [
              0.7777777777777778,
              "#fb9f3a"
             ],
             [
              0.8888888888888888,
              "#fdca26"
             ],
             [
              1,
              "#f0f921"
             ]
            ],
            "type": "histogram2d"
           }
          ],
          "histogram2dcontour": [
           {
            "colorbar": {
             "outlinewidth": 0,
             "ticks": ""
            },
            "colorscale": [
             [
              0,
              "#0d0887"
             ],
             [
              0.1111111111111111,
              "#46039f"
             ],
             [
              0.2222222222222222,
              "#7201a8"
             ],
             [
              0.3333333333333333,
              "#9c179e"
             ],
             [
              0.4444444444444444,
              "#bd3786"
             ],
             [
              0.5555555555555556,
              "#d8576b"
             ],
             [
              0.6666666666666666,
              "#ed7953"
             ],
             [
              0.7777777777777778,
              "#fb9f3a"
             ],
             [
              0.8888888888888888,
              "#fdca26"
             ],
             [
              1,
              "#f0f921"
             ]
            ],
            "type": "histogram2dcontour"
           }
          ],
          "mesh3d": [
           {
            "colorbar": {
             "outlinewidth": 0,
             "ticks": ""
            },
            "type": "mesh3d"
           }
          ],
          "parcoords": [
           {
            "line": {
             "colorbar": {
              "outlinewidth": 0,
              "ticks": ""
             }
            },
            "type": "parcoords"
           }
          ],
          "pie": [
           {
            "automargin": true,
            "type": "pie"
           }
          ],
          "scatter": [
           {
            "fillpattern": {
             "fillmode": "overlay",
             "size": 10,
             "solidity": 0.2
            },
            "type": "scatter"
           }
          ],
          "scatter3d": [
           {
            "line": {
             "colorbar": {
              "outlinewidth": 0,
              "ticks": ""
             }
            },
            "marker": {
             "colorbar": {
              "outlinewidth": 0,
              "ticks": ""
             }
            },
            "type": "scatter3d"
           }
          ],
          "scattercarpet": [
           {
            "marker": {
             "colorbar": {
              "outlinewidth": 0,
              "ticks": ""
             }
            },
            "type": "scattercarpet"
           }
          ],
          "scattergeo": [
           {
            "marker": {
             "colorbar": {
              "outlinewidth": 0,
              "ticks": ""
             }
            },
            "type": "scattergeo"
           }
          ],
          "scattergl": [
           {
            "marker": {
             "colorbar": {
              "outlinewidth": 0,
              "ticks": ""
             }
            },
            "type": "scattergl"
           }
          ],
          "scattermap": [
           {
            "marker": {
             "colorbar": {
              "outlinewidth": 0,
              "ticks": ""
             }
            },
            "type": "scattermap"
           }
          ],
          "scattermapbox": [
           {
            "marker": {
             "colorbar": {
              "outlinewidth": 0,
              "ticks": ""
             }
            },
            "type": "scattermapbox"
           }
          ],
          "scatterpolar": [
           {
            "marker": {
             "colorbar": {
              "outlinewidth": 0,
              "ticks": ""
             }
            },
            "type": "scatterpolar"
           }
          ],
          "scatterpolargl": [
           {
            "marker": {
             "colorbar": {
              "outlinewidth": 0,
              "ticks": ""
             }
            },
            "type": "scatterpolargl"
           }
          ],
          "scatterternary": [
           {
            "marker": {
             "colorbar": {
              "outlinewidth": 0,
              "ticks": ""
             }
            },
            "type": "scatterternary"
           }
          ],
          "surface": [
           {
            "colorbar": {
             "outlinewidth": 0,
             "ticks": ""
            },
            "colorscale": [
             [
              0,
              "#0d0887"
             ],
             [
              0.1111111111111111,
              "#46039f"
             ],
             [
              0.2222222222222222,
              "#7201a8"
             ],
             [
              0.3333333333333333,
              "#9c179e"
             ],
             [
              0.4444444444444444,
              "#bd3786"
             ],
             [
              0.5555555555555556,
              "#d8576b"
             ],
             [
              0.6666666666666666,
              "#ed7953"
             ],
             [
              0.7777777777777778,
              "#fb9f3a"
             ],
             [
              0.8888888888888888,
              "#fdca26"
             ],
             [
              1,
              "#f0f921"
             ]
            ],
            "type": "surface"
           }
          ],
          "table": [
           {
            "cells": {
             "fill": {
              "color": "#EBF0F8"
             },
             "line": {
              "color": "white"
             }
            },
            "header": {
             "fill": {
              "color": "#C8D4E3"
             },
             "line": {
              "color": "white"
             }
            },
            "type": "table"
           }
          ]
         },
         "layout": {
          "annotationdefaults": {
           "arrowcolor": "#2a3f5f",
           "arrowhead": 0,
           "arrowwidth": 1
          },
          "autotypenumbers": "strict",
          "coloraxis": {
           "colorbar": {
            "outlinewidth": 0,
            "ticks": ""
           }
          },
          "colorscale": {
           "diverging": [
            [
             0,
             "#8e0152"
            ],
            [
             0.1,
             "#c51b7d"
            ],
            [
             0.2,
             "#de77ae"
            ],
            [
             0.3,
             "#f1b6da"
            ],
            [
             0.4,
             "#fde0ef"
            ],
            [
             0.5,
             "#f7f7f7"
            ],
            [
             0.6,
             "#e6f5d0"
            ],
            [
             0.7,
             "#b8e186"
            ],
            [
             0.8,
             "#7fbc41"
            ],
            [
             0.9,
             "#4d9221"
            ],
            [
             1,
             "#276419"
            ]
           ],
           "sequential": [
            [
             0,
             "#0d0887"
            ],
            [
             0.1111111111111111,
             "#46039f"
            ],
            [
             0.2222222222222222,
             "#7201a8"
            ],
            [
             0.3333333333333333,
             "#9c179e"
            ],
            [
             0.4444444444444444,
             "#bd3786"
            ],
            [
             0.5555555555555556,
             "#d8576b"
            ],
            [
             0.6666666666666666,
             "#ed7953"
            ],
            [
             0.7777777777777778,
             "#fb9f3a"
            ],
            [
             0.8888888888888888,
             "#fdca26"
            ],
            [
             1,
             "#f0f921"
            ]
           ],
           "sequentialminus": [
            [
             0,
             "#0d0887"
            ],
            [
             0.1111111111111111,
             "#46039f"
            ],
            [
             0.2222222222222222,
             "#7201a8"
            ],
            [
             0.3333333333333333,
             "#9c179e"
            ],
            [
             0.4444444444444444,
             "#bd3786"
            ],
            [
             0.5555555555555556,
             "#d8576b"
            ],
            [
             0.6666666666666666,
             "#ed7953"
            ],
            [
             0.7777777777777778,
             "#fb9f3a"
            ],
            [
             0.8888888888888888,
             "#fdca26"
            ],
            [
             1,
             "#f0f921"
            ]
           ]
          },
          "colorway": [
           "#636efa",
           "#EF553B",
           "#00cc96",
           "#ab63fa",
           "#FFA15A",
           "#19d3f3",
           "#FF6692",
           "#B6E880",
           "#FF97FF",
           "#FECB52"
          ],
          "font": {
           "color": "#2a3f5f"
          },
          "geo": {
           "bgcolor": "white",
           "lakecolor": "white",
           "landcolor": "white",
           "showlakes": true,
           "showland": true,
           "subunitcolor": "#C8D4E3"
          },
          "hoverlabel": {
           "align": "left"
          },
          "hovermode": "closest",
          "mapbox": {
           "style": "light"
          },
          "paper_bgcolor": "white",
          "plot_bgcolor": "white",
          "polar": {
           "angularaxis": {
            "gridcolor": "#EBF0F8",
            "linecolor": "#EBF0F8",
            "ticks": ""
           },
           "bgcolor": "white",
           "radialaxis": {
            "gridcolor": "#EBF0F8",
            "linecolor": "#EBF0F8",
            "ticks": ""
           }
          },
          "scene": {
           "xaxis": {
            "backgroundcolor": "white",
            "gridcolor": "#DFE8F3",
            "gridwidth": 2,
            "linecolor": "#EBF0F8",
            "showbackground": true,
            "ticks": "",
            "zerolinecolor": "#EBF0F8"
           },
           "yaxis": {
            "backgroundcolor": "white",
            "gridcolor": "#DFE8F3",
            "gridwidth": 2,
            "linecolor": "#EBF0F8",
            "showbackground": true,
            "ticks": "",
            "zerolinecolor": "#EBF0F8"
           },
           "zaxis": {
            "backgroundcolor": "white",
            "gridcolor": "#DFE8F3",
            "gridwidth": 2,
            "linecolor": "#EBF0F8",
            "showbackground": true,
            "ticks": "",
            "zerolinecolor": "#EBF0F8"
           }
          },
          "shapedefaults": {
           "line": {
            "color": "#2a3f5f"
           }
          },
          "ternary": {
           "aaxis": {
            "gridcolor": "#DFE8F3",
            "linecolor": "#A2B1C6",
            "ticks": ""
           },
           "baxis": {
            "gridcolor": "#DFE8F3",
            "linecolor": "#A2B1C6",
            "ticks": ""
           },
           "bgcolor": "white",
           "caxis": {
            "gridcolor": "#DFE8F3",
            "linecolor": "#A2B1C6",
            "ticks": ""
           }
          },
          "title": {
           "x": 0.05
          },
          "xaxis": {
           "automargin": true,
           "gridcolor": "#EBF0F8",
           "linecolor": "#EBF0F8",
           "ticks": "",
           "title": {
            "standoff": 15
           },
           "zerolinecolor": "#EBF0F8",
           "zerolinewidth": 2
          },
          "yaxis": {
           "automargin": true,
           "gridcolor": "#EBF0F8",
           "linecolor": "#EBF0F8",
           "ticks": "",
           "title": {
            "standoff": 15
           },
           "zerolinecolor": "#EBF0F8",
           "zerolinewidth": 2
          }
         }
        },
        "title": {
         "text": "Histogram of magnitude"
        },
        "width": 960,
        "xaxis": {
         "anchor": "y",
         "domain": [
          0,
          1
         ],
         "title": {
          "text": "magnitude"
         }
        },
        "yaxis": {
         "anchor": "x",
         "domain": [
          0,
          1
         ],
         "title": {
          "text": "Count"
         }
        }
       }
      }
     },
     "metadata": {},
     "output_type": "display_data"
    }
   ],
   "source": [
    "# setting plotly for static render (delete this import and the render setting in your own scripts to experience plotly interactive, this is just for github deployment in this tutorial)\n",
    "# import plotly.io as pio\n",
    "# pio.renderers.default = 'png'  # or 'svg'\n",
    "\n",
    "# Example of using plot_histogram method\n",
    "lqt_ready_2.plot_histogram('magnitude')"
   ]
  },
  {
   "cell_type": "code",
   "execution_count": 6,
   "metadata": {},
   "outputs": [
    {
     "data": {
      "application/vnd.plotly.v1+json": {
       "config": {
        "plotlyServerURL": "https://plot.ly"
       },
       "data": [
        {
         "bingroup": "x",
         "hovertemplate": "source_err_rms_s=%{x}<br>count=%{y}<extra></extra>",
         "legendgroup": "",
         "marker": {
          "color": "indianred",
          "line": {
           "color": "white",
           "width": 0.5
          },
          "opacity": 0.8,
          "pattern": {
           "shape": ""
          }
         },
         "name": "",
         "orientation": "v",
         "showlegend": false,
         "type": "histogram",
         "x": {
          "bdata": "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",
          "dtype": "f8"
         },
         "xaxis": "x",
         "yaxis": "y"
        }
       ],
       "layout": {
        "barmode": "relative",
        "height": 720,
        "legend": {
         "bgcolor": "rgba(255,255,255,0.5)",
         "tracegroupgap": 0,
         "x": 0.99,
         "xanchor": "right",
         "y": 0.99,
         "yanchor": "top"
        },
        "margin": {
         "t": 60
        },
        "showlegend": true,
        "template": {
         "data": {
          "bar": [
           {
            "error_x": {
             "color": "#2a3f5f"
            },
            "error_y": {
             "color": "#2a3f5f"
            },
            "marker": {
             "line": {
              "color": "white",
              "width": 0.5
             },
             "pattern": {
              "fillmode": "overlay",
              "size": 10,
              "solidity": 0.2
             }
            },
            "type": "bar"
           }
          ],
          "barpolar": [
           {
            "marker": {
             "line": {
              "color": "white",
              "width": 0.5
             },
             "pattern": {
              "fillmode": "overlay",
              "size": 10,
              "solidity": 0.2
             }
            },
            "type": "barpolar"
           }
          ],
          "carpet": [
           {
            "aaxis": {
             "endlinecolor": "#2a3f5f",
             "gridcolor": "#C8D4E3",
             "linecolor": "#C8D4E3",
             "minorgridcolor": "#C8D4E3",
             "startlinecolor": "#2a3f5f"
            },
            "baxis": {
             "endlinecolor": "#2a3f5f",
             "gridcolor": "#C8D4E3",
             "linecolor": "#C8D4E3",
             "minorgridcolor": "#C8D4E3",
             "startlinecolor": "#2a3f5f"
            },
            "type": "carpet"
           }
          ],
          "choropleth": [
           {
            "colorbar": {
             "outlinewidth": 0,
             "ticks": ""
            },
            "type": "choropleth"
           }
          ],
          "contour": [
           {
            "colorbar": {
             "outlinewidth": 0,
             "ticks": ""
            },
            "colorscale": [
             [
              0,
              "#0d0887"
             ],
             [
              0.1111111111111111,
              "#46039f"
             ],
             [
              0.2222222222222222,
              "#7201a8"
             ],
             [
              0.3333333333333333,
              "#9c179e"
             ],
             [
              0.4444444444444444,
              "#bd3786"
             ],
             [
              0.5555555555555556,
              "#d8576b"
             ],
             [
              0.6666666666666666,
              "#ed7953"
             ],
             [
              0.7777777777777778,
              "#fb9f3a"
             ],
             [
              0.8888888888888888,
              "#fdca26"
             ],
             [
              1,
              "#f0f921"
             ]
            ],
            "type": "contour"
           }
          ],
          "contourcarpet": [
           {
            "colorbar": {
             "outlinewidth": 0,
             "ticks": ""
            },
            "type": "contourcarpet"
           }
          ],
          "heatmap": [
           {
            "colorbar": {
             "outlinewidth": 0,
             "ticks": ""
            },
            "colorscale": [
             [
              0,
              "#0d0887"
             ],
             [
              0.1111111111111111,
              "#46039f"
             ],
             [
              0.2222222222222222,
              "#7201a8"
             ],
             [
              0.3333333333333333,
              "#9c179e"
             ],
             [
              0.4444444444444444,
              "#bd3786"
             ],
             [
              0.5555555555555556,
              "#d8576b"
             ],
             [
              0.6666666666666666,
              "#ed7953"
             ],
             [
              0.7777777777777778,
              "#fb9f3a"
             ],
             [
              0.8888888888888888,
              "#fdca26"
             ],
             [
              1,
              "#f0f921"
             ]
            ],
            "type": "heatmap"
           }
          ],
          "histogram": [
           {
            "marker": {
             "pattern": {
              "fillmode": "overlay",
              "size": 10,
              "solidity": 0.2
             }
            },
            "type": "histogram"
           }
          ],
          "histogram2d": [
           {
            "colorbar": {
             "outlinewidth": 0,
             "ticks": ""
            },
            "colorscale": [
             [
              0,
              "#0d0887"
             ],
             [
              0.1111111111111111,
              "#46039f"
             ],
             [
              0.2222222222222222,
              "#7201a8"
             ],
             [
              0.3333333333333333,
              "#9c179e"
             ],
             [
              0.4444444444444444,
              "#bd3786"
             ],
             [
              0.5555555555555556,
              "#d8576b"
             ],
             [
              0.6666666666666666,
              "#ed7953"
             ],
             [
              0.7777777777777778,
              "#fb9f3a"
             ],
             [
              0.8888888888888888,
              "#fdca26"
             ],
             [
              1,
              "#f0f921"
             ]
            ],
            "type": "histogram2d"
           }
          ],
          "histogram2dcontour": [
           {
            "colorbar": {
             "outlinewidth": 0,
             "ticks": ""
            },
            "colorscale": [
             [
              0,
              "#0d0887"
             ],
             [
              0.1111111111111111,
              "#46039f"
             ],
             [
              0.2222222222222222,
              "#7201a8"
             ],
             [
              0.3333333333333333,
              "#9c179e"
             ],
             [
              0.4444444444444444,
              "#bd3786"
             ],
             [
              0.5555555555555556,
              "#d8576b"
             ],
             [
              0.6666666666666666,
              "#ed7953"
             ],
             [
              0.7777777777777778,
              "#fb9f3a"
             ],
             [
              0.8888888888888888,
              "#fdca26"
             ],
             [
              1,
              "#f0f921"
             ]
            ],
            "type": "histogram2dcontour"
           }
          ],
          "mesh3d": [
           {
            "colorbar": {
             "outlinewidth": 0,
             "ticks": ""
            },
            "type": "mesh3d"
           }
          ],
          "parcoords": [
           {
            "line": {
             "colorbar": {
              "outlinewidth": 0,
              "ticks": ""
             }
            },
            "type": "parcoords"
           }
          ],
          "pie": [
           {
            "automargin": true,
            "type": "pie"
           }
          ],
          "scatter": [
           {
            "fillpattern": {
             "fillmode": "overlay",
             "size": 10,
             "solidity": 0.2
            },
            "type": "scatter"
           }
          ],
          "scatter3d": [
           {
            "line": {
             "colorbar": {
              "outlinewidth": 0,
              "ticks": ""
             }
            },
            "marker": {
             "colorbar": {
              "outlinewidth": 0,
              "ticks": ""
             }
            },
            "type": "scatter3d"
           }
          ],
          "scattercarpet": [
           {
            "marker": {
             "colorbar": {
              "outlinewidth": 0,
              "ticks": ""
             }
            },
            "type": "scattercarpet"
           }
          ],
          "scattergeo": [
           {
            "marker": {
             "colorbar": {
              "outlinewidth": 0,
              "ticks": ""
             }
            },
            "type": "scattergeo"
           }
          ],
          "scattergl": [
           {
            "marker": {
             "colorbar": {
              "outlinewidth": 0,
              "ticks": ""
             }
            },
            "type": "scattergl"
           }
          ],
          "scattermap": [
           {
            "marker": {
             "colorbar": {
              "outlinewidth": 0,
              "ticks": ""
             }
            },
            "type": "scattermap"
           }
          ],
          "scattermapbox": [
           {
            "marker": {
             "colorbar": {
              "outlinewidth": 0,
              "ticks": ""
             }
            },
            "type": "scattermapbox"
           }
          ],
          "scatterpolar": [
           {
            "marker": {
             "colorbar": {
              "outlinewidth": 0,
              "ticks": ""
             }
            },
            "type": "scatterpolar"
           }
          ],
          "scatterpolargl": [
           {
            "marker": {
             "colorbar": {
              "outlinewidth": 0,
              "ticks": ""
             }
            },
            "type": "scatterpolargl"
           }
          ],
          "scatterternary": [
           {
            "marker": {
             "colorbar": {
              "outlinewidth": 0,
              "ticks": ""
             }
            },
            "type": "scatterternary"
           }
          ],
          "surface": [
           {
            "colorbar": {
             "outlinewidth": 0,
             "ticks": ""
            },
            "colorscale": [
             [
              0,
              "#0d0887"
             ],
             [
              0.1111111111111111,
              "#46039f"
             ],
             [
              0.2222222222222222,
              "#7201a8"
             ],
             [
              0.3333333333333333,
              "#9c179e"
             ],
             [
              0.4444444444444444,
              "#bd3786"
             ],
             [
              0.5555555555555556,
              "#d8576b"
             ],
             [
              0.6666666666666666,
              "#ed7953"
             ],
             [
              0.7777777777777778,
              "#fb9f3a"
             ],
             [
              0.8888888888888888,
              "#fdca26"
             ],
             [
              1,
              "#f0f921"
             ]
            ],
            "type": "surface"
           }
          ],
          "table": [
           {
            "cells": {
             "fill": {
              "color": "#EBF0F8"
             },
             "line": {
              "color": "white"
             }
            },
            "header": {
             "fill": {
              "color": "#C8D4E3"
             },
             "line": {
              "color": "white"
             }
            },
            "type": "table"
           }
          ]
         },
         "layout": {
          "annotationdefaults": {
           "arrowcolor": "#2a3f5f",
           "arrowhead": 0,
           "arrowwidth": 1
          },
          "autotypenumbers": "strict",
          "coloraxis": {
           "colorbar": {
            "outlinewidth": 0,
            "ticks": ""
           }
          },
          "colorscale": {
           "diverging": [
            [
             0,
             "#8e0152"
            ],
            [
             0.1,
             "#c51b7d"
            ],
            [
             0.2,
             "#de77ae"
            ],
            [
             0.3,
             "#f1b6da"
            ],
            [
             0.4,
             "#fde0ef"
            ],
            [
             0.5,
             "#f7f7f7"
            ],
            [
             0.6,
             "#e6f5d0"
            ],
            [
             0.7,
             "#b8e186"
            ],
            [
             0.8,
             "#7fbc41"
            ],
            [
             0.9,
             "#4d9221"
            ],
            [
             1,
             "#276419"
            ]
           ],
           "sequential": [
            [
             0,
             "#0d0887"
            ],
            [
             0.1111111111111111,
             "#46039f"
            ],
            [
             0.2222222222222222,
             "#7201a8"
            ],
            [
             0.3333333333333333,
             "#9c179e"
            ],
            [
             0.4444444444444444,
             "#bd3786"
            ],
            [
             0.5555555555555556,
             "#d8576b"
            ],
            [
             0.6666666666666666,
             "#ed7953"
            ],
            [
             0.7777777777777778,
             "#fb9f3a"
            ],
            [
             0.8888888888888888,
             "#fdca26"
            ],
            [
             1,
             "#f0f921"
            ]
           ],
           "sequentialminus": [
            [
             0,
             "#0d0887"
            ],
            [
             0.1111111111111111,
             "#46039f"
            ],
            [
             0.2222222222222222,
             "#7201a8"
            ],
            [
             0.3333333333333333,
             "#9c179e"
            ],
            [
             0.4444444444444444,
             "#bd3786"
            ],
            [
             0.5555555555555556,
             "#d8576b"
            ],
            [
             0.6666666666666666,
             "#ed7953"
            ],
            [
             0.7777777777777778,
             "#fb9f3a"
            ],
            [
             0.8888888888888888,
             "#fdca26"
            ],
            [
             1,
             "#f0f921"
            ]
           ]
          },
          "colorway": [
           "#636efa",
           "#EF553B",
           "#00cc96",
           "#ab63fa",
           "#FFA15A",
           "#19d3f3",
           "#FF6692",
           "#B6E880",
           "#FF97FF",
           "#FECB52"
          ],
          "font": {
           "color": "#2a3f5f"
          },
          "geo": {
           "bgcolor": "white",
           "lakecolor": "white",
           "landcolor": "white",
           "showlakes": true,
           "showland": true,
           "subunitcolor": "#C8D4E3"
          },
          "hoverlabel": {
           "align": "left"
          },
          "hovermode": "closest",
          "mapbox": {
           "style": "light"
          },
          "paper_bgcolor": "white",
          "plot_bgcolor": "white",
          "polar": {
           "angularaxis": {
            "gridcolor": "#EBF0F8",
            "linecolor": "#EBF0F8",
            "ticks": ""
           },
           "bgcolor": "white",
           "radialaxis": {
            "gridcolor": "#EBF0F8",
            "linecolor": "#EBF0F8",
            "ticks": ""
           }
          },
          "scene": {
           "xaxis": {
            "backgroundcolor": "white",
            "gridcolor": "#DFE8F3",
            "gridwidth": 2,
            "linecolor": "#EBF0F8",
            "showbackground": true,
            "ticks": "",
            "zerolinecolor": "#EBF0F8"
           },
           "yaxis": {
            "backgroundcolor": "white",
            "gridcolor": "#DFE8F3",
            "gridwidth": 2,
            "linecolor": "#EBF0F8",
            "showbackground": true,
            "ticks": "",
            "zerolinecolor": "#EBF0F8"
           },
           "zaxis": {
            "backgroundcolor": "white",
            "gridcolor": "#DFE8F3",
            "gridwidth": 2,
            "linecolor": "#EBF0F8",
            "showbackground": true,
            "ticks": "",
            "zerolinecolor": "#EBF0F8"
           }
          },
          "shapedefaults": {
           "line": {
            "color": "#2a3f5f"
           }
          },
          "ternary": {
           "aaxis": {
            "gridcolor": "#DFE8F3",
            "linecolor": "#A2B1C6",
            "ticks": ""
           },
           "baxis": {
            "gridcolor": "#DFE8F3",
            "linecolor": "#A2B1C6",
            "ticks": ""
           },
           "bgcolor": "white",
           "caxis": {
            "gridcolor": "#DFE8F3",
            "linecolor": "#A2B1C6",
            "ticks": ""
           }
          },
          "title": {
           "x": 0.05
          },
          "xaxis": {
           "automargin": true,
           "gridcolor": "#EBF0F8",
           "linecolor": "#EBF0F8",
           "ticks": "",
           "title": {
            "standoff": 15
           },
           "zerolinecolor": "#EBF0F8",
           "zerolinewidth": 2
          },
          "yaxis": {
           "automargin": true,
           "gridcolor": "#EBF0F8",
           "linecolor": "#EBF0F8",
           "ticks": "",
           "title": {
            "standoff": 15
           },
           "zerolinecolor": "#EBF0F8",
           "zerolinewidth": 2
          }
         }
        },
        "title": {
         "text": "Histogram of source_err_rms_s"
        },
        "width": 960,
        "xaxis": {
         "anchor": "y",
         "domain": [
          0,
          1
         ],
         "title": {
          "text": "source_err_rms_s"
         }
        },
        "yaxis": {
         "anchor": "x",
         "domain": [
          0,
          1
         ],
         "title": {
          "text": "Count"
         }
        }
       }
      }
     },
     "metadata": {},
     "output_type": "display_data"
    }
   ],
   "source": [
    "# Another example using different columns\n",
    "lqt_ready_2.plot_histogram('source_err_rms_s')"
   ]
  },
  {
   "cell_type": "markdown",
   "metadata": {},
   "source": [
    "### 5. Plotting Bar Graph\n",
    "\n",
    "If you want more control over manually populating the data into specific bin bounds, we also provide the `plot_bar` class method. Unlike the histogram, this plot allows you to specify the column data and generate a bar plot using the given bin bounds (min and max values)."
   ]
  },
  {
   "cell_type": "code",
   "execution_count": 7,
   "metadata": {},
   "outputs": [
    {
     "data": {
      "application/vnd.plotly.v1+json": {
       "config": {
        "plotlyServerURL": "https://plot.ly"
       },
       "data": [
        {
         "hovertemplate": "Bin_center: %{x:.3f}<br>count: %{y}<extra></extra>",
         "marker": {
          "color": "#1F77B4",
          "opacity": 0.8
         },
         "name": "magnitude",
         "type": "bar",
         "width": 0.25,
         "x": {
          "bdata": "AAAAAAAA7L8AAAAAAADkvwAAAAAAANi/AAAAAAAAwL8AAAAAAADAPwAAAAAAANg/AAAAAAAA5D8AAAAAAADsPwAAAAAAAPI/AAAAAAAA9j8AAAAAAAD6PwAAAAAAAP4/AAAAAAAAAUAAAAAAAAADQAAAAAAAAAVAAAAAAAAAB0A=",
          "dtype": "f8"
         },
         "y": {
          "bdata": "AAAAAAAAGwBCALsA4QCUADsAJAAMAAIABAAAAAAAAAA=",
          "dtype": "i2"
         }
        }
       ],
       "layout": {
        "bargap": 0.25,
        "height": 720,
        "legend": {
         "bgcolor": "rgba(255,255,255,0.5)",
         "x": 0.99,
         "xanchor": "right",
         "y": 0.99,
         "yanchor": "top"
        },
        "showlegend": true,
        "template": {
         "data": {
          "bar": [
           {
            "error_x": {
             "color": "#2a3f5f"
            },
            "error_y": {
             "color": "#2a3f5f"
            },
            "marker": {
             "line": {
              "color": "white",
              "width": 0.5
             },
             "pattern": {
              "fillmode": "overlay",
              "size": 10,
              "solidity": 0.2
             }
            },
            "type": "bar"
           }
          ],
          "barpolar": [
           {
            "marker": {
             "line": {
              "color": "white",
              "width": 0.5
             },
             "pattern": {
              "fillmode": "overlay",
              "size": 10,
              "solidity": 0.2
             }
            },
            "type": "barpolar"
           }
          ],
          "carpet": [
           {
            "aaxis": {
             "endlinecolor": "#2a3f5f",
             "gridcolor": "#C8D4E3",
             "linecolor": "#C8D4E3",
             "minorgridcolor": "#C8D4E3",
             "startlinecolor": "#2a3f5f"
            },
            "baxis": {
             "endlinecolor": "#2a3f5f",
             "gridcolor": "#C8D4E3",
             "linecolor": "#C8D4E3",
             "minorgridcolor": "#C8D4E3",
             "startlinecolor": "#2a3f5f"
            },
            "type": "carpet"
           }
          ],
          "choropleth": [
           {
            "colorbar": {
             "outlinewidth": 0,
             "ticks": ""
            },
            "type": "choropleth"
           }
          ],
          "contour": [
           {
            "colorbar": {
             "outlinewidth": 0,
             "ticks": ""
            },
            "colorscale": [
             [
              0,
              "#0d0887"
             ],
             [
              0.1111111111111111,
              "#46039f"
             ],
             [
              0.2222222222222222,
              "#7201a8"
             ],
             [
              0.3333333333333333,
              "#9c179e"
             ],
             [
              0.4444444444444444,
              "#bd3786"
             ],
             [
              0.5555555555555556,
              "#d8576b"
             ],
             [
              0.6666666666666666,
              "#ed7953"
             ],
             [
              0.7777777777777778,
              "#fb9f3a"
             ],
             [
              0.8888888888888888,
              "#fdca26"
             ],
             [
              1,
              "#f0f921"
             ]
            ],
            "type": "contour"
           }
          ],
          "contourcarpet": [
           {
            "colorbar": {
             "outlinewidth": 0,
             "ticks": ""
            },
            "type": "contourcarpet"
           }
          ],
          "heatmap": [
           {
            "colorbar": {
             "outlinewidth": 0,
             "ticks": ""
            },
            "colorscale": [
             [
              0,
              "#0d0887"
             ],
             [
              0.1111111111111111,
              "#46039f"
             ],
             [
              0.2222222222222222,
              "#7201a8"
             ],
             [
              0.3333333333333333,
              "#9c179e"
             ],
             [
              0.4444444444444444,
              "#bd3786"
             ],
             [
              0.5555555555555556,
              "#d8576b"
             ],
             [
              0.6666666666666666,
              "#ed7953"
             ],
             [
              0.7777777777777778,
              "#fb9f3a"
             ],
             [
              0.8888888888888888,
              "#fdca26"
             ],
             [
              1,
              "#f0f921"
             ]
            ],
            "type": "heatmap"
           }
          ],
          "histogram": [
           {
            "marker": {
             "pattern": {
              "fillmode": "overlay",
              "size": 10,
              "solidity": 0.2
             }
            },
            "type": "histogram"
           }
          ],
          "histogram2d": [
           {
            "colorbar": {
             "outlinewidth": 0,
             "ticks": ""
            },
            "colorscale": [
             [
              0,
              "#0d0887"
             ],
             [
              0.1111111111111111,
              "#46039f"
             ],
             [
              0.2222222222222222,
              "#7201a8"
             ],
             [
              0.3333333333333333,
              "#9c179e"
             ],
             [
              0.4444444444444444,
              "#bd3786"
             ],
             [
              0.5555555555555556,
              "#d8576b"
             ],
             [
              0.6666666666666666,
              "#ed7953"
             ],
             [
              0.7777777777777778,
              "#fb9f3a"
             ],
             [
              0.8888888888888888,
              "#fdca26"
             ],
             [
              1,
              "#f0f921"
             ]
            ],
            "type": "histogram2d"
           }
          ],
          "histogram2dcontour": [
           {
            "colorbar": {
             "outlinewidth": 0,
             "ticks": ""
            },
            "colorscale": [
             [
              0,
              "#0d0887"
             ],
             [
              0.1111111111111111,
              "#46039f"
             ],
             [
              0.2222222222222222,
              "#7201a8"
             ],
             [
              0.3333333333333333,
              "#9c179e"
             ],
             [
              0.4444444444444444,
              "#bd3786"
             ],
             [
              0.5555555555555556,
              "#d8576b"
             ],
             [
              0.6666666666666666,
              "#ed7953"
             ],
             [
              0.7777777777777778,
              "#fb9f3a"
             ],
             [
              0.8888888888888888,
              "#fdca26"
             ],
             [
              1,
              "#f0f921"
             ]
            ],
            "type": "histogram2dcontour"
           }
          ],
          "mesh3d": [
           {
            "colorbar": {
             "outlinewidth": 0,
             "ticks": ""
            },
            "type": "mesh3d"
           }
          ],
          "parcoords": [
           {
            "line": {
             "colorbar": {
              "outlinewidth": 0,
              "ticks": ""
             }
            },
            "type": "parcoords"
           }
          ],
          "pie": [
           {
            "automargin": true,
            "type": "pie"
           }
          ],
          "scatter": [
           {
            "fillpattern": {
             "fillmode": "overlay",
             "size": 10,
             "solidity": 0.2
            },
            "type": "scatter"
           }
          ],
          "scatter3d": [
           {
            "line": {
             "colorbar": {
              "outlinewidth": 0,
              "ticks": ""
             }
            },
            "marker": {
             "colorbar": {
              "outlinewidth": 0,
              "ticks": ""
             }
            },
            "type": "scatter3d"
           }
          ],
          "scattercarpet": [
           {
            "marker": {
             "colorbar": {
              "outlinewidth": 0,
              "ticks": ""
             }
            },
            "type": "scattercarpet"
           }
          ],
          "scattergeo": [
           {
            "marker": {
             "colorbar": {
              "outlinewidth": 0,
              "ticks": ""
             }
            },
            "type": "scattergeo"
           }
          ],
          "scattergl": [
           {
            "marker": {
             "colorbar": {
              "outlinewidth": 0,
              "ticks": ""
             }
            },
            "type": "scattergl"
           }
          ],
          "scattermap": [
           {
            "marker": {
             "colorbar": {
              "outlinewidth": 0,
              "ticks": ""
             }
            },
            "type": "scattermap"
           }
          ],
          "scattermapbox": [
           {
            "marker": {
             "colorbar": {
              "outlinewidth": 0,
              "ticks": ""
             }
            },
            "type": "scattermapbox"
           }
          ],
          "scatterpolar": [
           {
            "marker": {
             "colorbar": {
              "outlinewidth": 0,
              "ticks": ""
             }
            },
            "type": "scatterpolar"
           }
          ],
          "scatterpolargl": [
           {
            "marker": {
             "colorbar": {
              "outlinewidth": 0,
              "ticks": ""
             }
            },
            "type": "scatterpolargl"
           }
          ],
          "scatterternary": [
           {
            "marker": {
             "colorbar": {
              "outlinewidth": 0,
              "ticks": ""
             }
            },
            "type": "scatterternary"
           }
          ],
          "surface": [
           {
            "colorbar": {
             "outlinewidth": 0,
             "ticks": ""
            },
            "colorscale": [
             [
              0,
              "#0d0887"
             ],
             [
              0.1111111111111111,
              "#46039f"
             ],
             [
              0.2222222222222222,
              "#7201a8"
             ],
             [
              0.3333333333333333,
              "#9c179e"
             ],
             [
              0.4444444444444444,
              "#bd3786"
             ],
             [
              0.5555555555555556,
              "#d8576b"
             ],
             [
              0.6666666666666666,
              "#ed7953"
             ],
             [
              0.7777777777777778,
              "#fb9f3a"
             ],
             [
              0.8888888888888888,
              "#fdca26"
             ],
             [
              1,
              "#f0f921"
             ]
            ],
            "type": "surface"
           }
          ],
          "table": [
           {
            "cells": {
             "fill": {
              "color": "#EBF0F8"
             },
             "line": {
              "color": "white"
             }
            },
            "header": {
             "fill": {
              "color": "#C8D4E3"
             },
             "line": {
              "color": "white"
             }
            },
            "type": "table"
           }
          ]
         },
         "layout": {
          "annotationdefaults": {
           "arrowcolor": "#2a3f5f",
           "arrowhead": 0,
           "arrowwidth": 1
          },
          "autotypenumbers": "strict",
          "coloraxis": {
           "colorbar": {
            "outlinewidth": 0,
            "ticks": ""
           }
          },
          "colorscale": {
           "diverging": [
            [
             0,
             "#8e0152"
            ],
            [
             0.1,
             "#c51b7d"
            ],
            [
             0.2,
             "#de77ae"
            ],
            [
             0.3,
             "#f1b6da"
            ],
            [
             0.4,
             "#fde0ef"
            ],
            [
             0.5,
             "#f7f7f7"
            ],
            [
             0.6,
             "#e6f5d0"
            ],
            [
             0.7,
             "#b8e186"
            ],
            [
             0.8,
             "#7fbc41"
            ],
            [
             0.9,
             "#4d9221"
            ],
            [
             1,
             "#276419"
            ]
           ],
           "sequential": [
            [
             0,
             "#0d0887"
            ],
            [
             0.1111111111111111,
             "#46039f"
            ],
            [
             0.2222222222222222,
             "#7201a8"
            ],
            [
             0.3333333333333333,
             "#9c179e"
            ],
            [
             0.4444444444444444,
             "#bd3786"
            ],
            [
             0.5555555555555556,
             "#d8576b"
            ],
            [
             0.6666666666666666,
             "#ed7953"
            ],
            [
             0.7777777777777778,
             "#fb9f3a"
            ],
            [
             0.8888888888888888,
             "#fdca26"
            ],
            [
             1,
             "#f0f921"
            ]
           ],
           "sequentialminus": [
            [
             0,
             "#0d0887"
            ],
            [
             0.1111111111111111,
             "#46039f"
            ],
            [
             0.2222222222222222,
             "#7201a8"
            ],
            [
             0.3333333333333333,
             "#9c179e"
            ],
            [
             0.4444444444444444,
             "#bd3786"
            ],
            [
             0.5555555555555556,
             "#d8576b"
            ],
            [
             0.6666666666666666,
             "#ed7953"
            ],
            [
             0.7777777777777778,
             "#fb9f3a"
            ],
            [
             0.8888888888888888,
             "#fdca26"
            ],
            [
             1,
             "#f0f921"
            ]
           ]
          },
          "colorway": [
           "#636efa",
           "#EF553B",
           "#00cc96",
           "#ab63fa",
           "#FFA15A",
           "#19d3f3",
           "#FF6692",
           "#B6E880",
           "#FF97FF",
           "#FECB52"
          ],
          "font": {
           "color": "#2a3f5f"
          },
          "geo": {
           "bgcolor": "white",
           "lakecolor": "white",
           "landcolor": "white",
           "showlakes": true,
           "showland": true,
           "subunitcolor": "#C8D4E3"
          },
          "hoverlabel": {
           "align": "left"
          },
          "hovermode": "closest",
          "mapbox": {
           "style": "light"
          },
          "paper_bgcolor": "white",
          "plot_bgcolor": "white",
          "polar": {
           "angularaxis": {
            "gridcolor": "#EBF0F8",
            "linecolor": "#EBF0F8",
            "ticks": ""
           },
           "bgcolor": "white",
           "radialaxis": {
            "gridcolor": "#EBF0F8",
            "linecolor": "#EBF0F8",
            "ticks": ""
           }
          },
          "scene": {
           "xaxis": {
            "backgroundcolor": "white",
            "gridcolor": "#DFE8F3",
            "gridwidth": 2,
            "linecolor": "#EBF0F8",
            "showbackground": true,
            "ticks": "",
            "zerolinecolor": "#EBF0F8"
           },
           "yaxis": {
            "backgroundcolor": "white",
            "gridcolor": "#DFE8F3",
            "gridwidth": 2,
            "linecolor": "#EBF0F8",
            "showbackground": true,
            "ticks": "",
            "zerolinecolor": "#EBF0F8"
           },
           "zaxis": {
            "backgroundcolor": "white",
            "gridcolor": "#DFE8F3",
            "gridwidth": 2,
            "linecolor": "#EBF0F8",
            "showbackground": true,
            "ticks": "",
            "zerolinecolor": "#EBF0F8"
           }
          },
          "shapedefaults": {
           "line": {
            "color": "#2a3f5f"
           }
          },
          "ternary": {
           "aaxis": {
            "gridcolor": "#DFE8F3",
            "linecolor": "#A2B1C6",
            "ticks": ""
           },
           "baxis": {
            "gridcolor": "#DFE8F3",
            "linecolor": "#A2B1C6",
            "ticks": ""
           },
           "bgcolor": "white",
           "caxis": {
            "gridcolor": "#DFE8F3",
            "linecolor": "#A2B1C6",
            "ticks": ""
           }
          },
          "title": {
           "x": 0.05
          },
          "xaxis": {
           "automargin": true,
           "gridcolor": "#EBF0F8",
           "linecolor": "#EBF0F8",
           "ticks": "",
           "title": {
            "standoff": 15
           },
           "zerolinecolor": "#EBF0F8",
           "zerolinewidth": 2
          },
          "yaxis": {
           "automargin": true,
           "gridcolor": "#EBF0F8",
           "linecolor": "#EBF0F8",
           "ticks": "",
           "title": {
            "standoff": 15
           },
           "zerolinecolor": "#EBF0F8",
           "zerolinewidth": 2
          }
         }
        },
        "title": {
         "text": "Bar graph of magnitude"
        },
        "width": 960,
        "xaxis": {
         "tickmode": "array",
         "ticktext": [
          "-0.875",
          "-0.625",
          "-0.375",
          "-0.125",
          "0.125",
          "0.375",
          "0.625",
          "0.875",
          "1.125",
          "1.375",
          "1.625",
          "1.875",
          "2.125",
          "2.375",
          "2.625",
          "2.875"
         ],
         "tickvals": {
          "bdata": "AAAAAAAA7L8AAAAAAADkvwAAAAAAANi/AAAAAAAAwL8AAAAAAADAPwAAAAAAANg/AAAAAAAA5D8AAAAAAADsPwAAAAAAAPI/AAAAAAAA9j8AAAAAAAD6PwAAAAAAAP4/AAAAAAAAAUAAAAAAAAADQAAAAAAAAAVAAAAAAAAAB0A=",
          "dtype": "f8"
         },
         "title": {
          "text": "magnitude"
         }
        },
        "yaxis": {
         "title": {
          "text": "Count"
         }
        }
       }
      }
     },
     "metadata": {},
     "output_type": "display_data"
    }
   ],
   "source": [
    "# Bar Graph plot\n",
    "lqt_ready_2.plot_bar('magnitude', bin_width=0.25, min_bin=-1, max_bin=3)"
   ]
  },
  {
   "cell_type": "code",
   "execution_count": 26,
   "metadata": {},
   "outputs": [
    {
     "data": {
      "application/vnd.plotly.v1+json": {
       "config": {
        "plotlyServerURL": "https://plot.ly"
       },
       "data": [
        {
         "hovertemplate": "Bin_center: %{x:.3f}<br>count: %{y}<extra></extra>",
         "marker": {
          "color": "#1F77B4",
          "opacity": 0.8
         },
         "name": "source_err_rms_s",
         "type": "bar",
         "width": 0.01,
         "x": {
          "bdata": "exSuR+F6dD+4HoXrUbiOP5qZmZmZmZk/7FG4HoXroT8K16NwPQqnPylcj8L1KKw/pHA9CtejsD80MzMzMzOzP8L1KFyPwrU/UrgehetRuD8=",
          "dtype": "f8"
         },
         "y": {
          "bdata": "wwFUAGwANQAqABMAEQAHAAYAAAA=",
          "dtype": "i2"
         }
        }
       ],
       "layout": {
        "bargap": 0.25,
        "height": 720,
        "legend": {
         "bgcolor": "rgba(255,255,255,0.5)",
         "x": 0.99,
         "xanchor": "right",
         "y": 0.99,
         "yanchor": "top"
        },
        "showlegend": true,
        "template": {
         "data": {
          "bar": [
           {
            "error_x": {
             "color": "#2a3f5f"
            },
            "error_y": {
             "color": "#2a3f5f"
            },
            "marker": {
             "line": {
              "color": "white",
              "width": 0.5
             },
             "pattern": {
              "fillmode": "overlay",
              "size": 10,
              "solidity": 0.2
             }
            },
            "type": "bar"
           }
          ],
          "barpolar": [
           {
            "marker": {
             "line": {
              "color": "white",
              "width": 0.5
             },
             "pattern": {
              "fillmode": "overlay",
              "size": 10,
              "solidity": 0.2
             }
            },
            "type": "barpolar"
           }
          ],
          "carpet": [
           {
            "aaxis": {
             "endlinecolor": "#2a3f5f",
             "gridcolor": "#C8D4E3",
             "linecolor": "#C8D4E3",
             "minorgridcolor": "#C8D4E3",
             "startlinecolor": "#2a3f5f"
            },
            "baxis": {
             "endlinecolor": "#2a3f5f",
             "gridcolor": "#C8D4E3",
             "linecolor": "#C8D4E3",
             "minorgridcolor": "#C8D4E3",
             "startlinecolor": "#2a3f5f"
            },
            "type": "carpet"
           }
          ],
          "choropleth": [
           {
            "colorbar": {
             "outlinewidth": 0,
             "ticks": ""
            },
            "type": "choropleth"
           }
          ],
          "contour": [
           {
            "colorbar": {
             "outlinewidth": 0,
             "ticks": ""
            },
            "colorscale": [
             [
              0,
              "#0d0887"
             ],
             [
              0.1111111111111111,
              "#46039f"
             ],
             [
              0.2222222222222222,
              "#7201a8"
             ],
             [
              0.3333333333333333,
              "#9c179e"
             ],
             [
              0.4444444444444444,
              "#bd3786"
             ],
             [
              0.5555555555555556,
              "#d8576b"
             ],
             [
              0.6666666666666666,
              "#ed7953"
             ],
             [
              0.7777777777777778,
              "#fb9f3a"
             ],
             [
              0.8888888888888888,
              "#fdca26"
             ],
             [
              1,
              "#f0f921"
             ]
            ],
            "type": "contour"
           }
          ],
          "contourcarpet": [
           {
            "colorbar": {
             "outlinewidth": 0,
             "ticks": ""
            },
            "type": "contourcarpet"
           }
          ],
          "heatmap": [
           {
            "colorbar": {
             "outlinewidth": 0,
             "ticks": ""
            },
            "colorscale": [
             [
              0,
              "#0d0887"
             ],
             [
              0.1111111111111111,
              "#46039f"
             ],
             [
              0.2222222222222222,
              "#7201a8"
             ],
             [
              0.3333333333333333,
              "#9c179e"
             ],
             [
              0.4444444444444444,
              "#bd3786"
             ],
             [
              0.5555555555555556,
              "#d8576b"
             ],
             [
              0.6666666666666666,
              "#ed7953"
             ],
             [
              0.7777777777777778,
              "#fb9f3a"
             ],
             [
              0.8888888888888888,
              "#fdca26"
             ],
             [
              1,
              "#f0f921"
             ]
            ],
            "type": "heatmap"
           }
          ],
          "histogram": [
           {
            "marker": {
             "pattern": {
              "fillmode": "overlay",
              "size": 10,
              "solidity": 0.2
             }
            },
            "type": "histogram"
           }
          ],
          "histogram2d": [
           {
            "colorbar": {
             "outlinewidth": 0,
             "ticks": ""
            },
            "colorscale": [
             [
              0,
              "#0d0887"
             ],
             [
              0.1111111111111111,
              "#46039f"
             ],
             [
              0.2222222222222222,
              "#7201a8"
             ],
             [
              0.3333333333333333,
              "#9c179e"
             ],
             [
              0.4444444444444444,
              "#bd3786"
             ],
             [
              0.5555555555555556,
              "#d8576b"
             ],
             [
              0.6666666666666666,
              "#ed7953"
             ],
             [
              0.7777777777777778,
              "#fb9f3a"
             ],
             [
              0.8888888888888888,
              "#fdca26"
             ],
             [
              1,
              "#f0f921"
             ]
            ],
            "type": "histogram2d"
           }
          ],
          "histogram2dcontour": [
           {
            "colorbar": {
             "outlinewidth": 0,
             "ticks": ""
            },
            "colorscale": [
             [
              0,
              "#0d0887"
             ],
             [
              0.1111111111111111,
              "#46039f"
             ],
             [
              0.2222222222222222,
              "#7201a8"
             ],
             [
              0.3333333333333333,
              "#9c179e"
             ],
             [
              0.4444444444444444,
              "#bd3786"
             ],
             [
              0.5555555555555556,
              "#d8576b"
             ],
             [
              0.6666666666666666,
              "#ed7953"
             ],
             [
              0.7777777777777778,
              "#fb9f3a"
             ],
             [
              0.8888888888888888,
              "#fdca26"
             ],
             [
              1,
              "#f0f921"
             ]
            ],
            "type": "histogram2dcontour"
           }
          ],
          "mesh3d": [
           {
            "colorbar": {
             "outlinewidth": 0,
             "ticks": ""
            },
            "type": "mesh3d"
           }
          ],
          "parcoords": [
           {
            "line": {
             "colorbar": {
              "outlinewidth": 0,
              "ticks": ""
             }
            },
            "type": "parcoords"
           }
          ],
          "pie": [
           {
            "automargin": true,
            "type": "pie"
           }
          ],
          "scatter": [
           {
            "fillpattern": {
             "fillmode": "overlay",
             "size": 10,
             "solidity": 0.2
            },
            "type": "scatter"
           }
          ],
          "scatter3d": [
           {
            "line": {
             "colorbar": {
              "outlinewidth": 0,
              "ticks": ""
             }
            },
            "marker": {
             "colorbar": {
              "outlinewidth": 0,
              "ticks": ""
             }
            },
            "type": "scatter3d"
           }
          ],
          "scattercarpet": [
           {
            "marker": {
             "colorbar": {
              "outlinewidth": 0,
              "ticks": ""
             }
            },
            "type": "scattercarpet"
           }
          ],
          "scattergeo": [
           {
            "marker": {
             "colorbar": {
              "outlinewidth": 0,
              "ticks": ""
             }
            },
            "type": "scattergeo"
           }
          ],
          "scattergl": [
           {
            "marker": {
             "colorbar": {
              "outlinewidth": 0,
              "ticks": ""
             }
            },
            "type": "scattergl"
           }
          ],
          "scattermap": [
           {
            "marker": {
             "colorbar": {
              "outlinewidth": 0,
              "ticks": ""
             }
            },
            "type": "scattermap"
           }
          ],
          "scattermapbox": [
           {
            "marker": {
             "colorbar": {
              "outlinewidth": 0,
              "ticks": ""
             }
            },
            "type": "scattermapbox"
           }
          ],
          "scatterpolar": [
           {
            "marker": {
             "colorbar": {
              "outlinewidth": 0,
              "ticks": ""
             }
            },
            "type": "scatterpolar"
           }
          ],
          "scatterpolargl": [
           {
            "marker": {
             "colorbar": {
              "outlinewidth": 0,
              "ticks": ""
             }
            },
            "type": "scatterpolargl"
           }
          ],
          "scatterternary": [
           {
            "marker": {
             "colorbar": {
              "outlinewidth": 0,
              "ticks": ""
             }
            },
            "type": "scatterternary"
           }
          ],
          "surface": [
           {
            "colorbar": {
             "outlinewidth": 0,
             "ticks": ""
            },
            "colorscale": [
             [
              0,
              "#0d0887"
             ],
             [
              0.1111111111111111,
              "#46039f"
             ],
             [
              0.2222222222222222,
              "#7201a8"
             ],
             [
              0.3333333333333333,
              "#9c179e"
             ],
             [
              0.4444444444444444,
              "#bd3786"
             ],
             [
              0.5555555555555556,
              "#d8576b"
             ],
             [
              0.6666666666666666,
              "#ed7953"
             ],
             [
              0.7777777777777778,
              "#fb9f3a"
             ],
             [
              0.8888888888888888,
              "#fdca26"
             ],
             [
              1,
              "#f0f921"
             ]
            ],
            "type": "surface"
           }
          ],
          "table": [
           {
            "cells": {
             "fill": {
              "color": "#EBF0F8"
             },
             "line": {
              "color": "white"
             }
            },
            "header": {
             "fill": {
              "color": "#C8D4E3"
             },
             "line": {
              "color": "white"
             }
            },
            "type": "table"
           }
          ]
         },
         "layout": {
          "annotationdefaults": {
           "arrowcolor": "#2a3f5f",
           "arrowhead": 0,
           "arrowwidth": 1
          },
          "autotypenumbers": "strict",
          "coloraxis": {
           "colorbar": {
            "outlinewidth": 0,
            "ticks": ""
           }
          },
          "colorscale": {
           "diverging": [
            [
             0,
             "#8e0152"
            ],
            [
             0.1,
             "#c51b7d"
            ],
            [
             0.2,
             "#de77ae"
            ],
            [
             0.3,
             "#f1b6da"
            ],
            [
             0.4,
             "#fde0ef"
            ],
            [
             0.5,
             "#f7f7f7"
            ],
            [
             0.6,
             "#e6f5d0"
            ],
            [
             0.7,
             "#b8e186"
            ],
            [
             0.8,
             "#7fbc41"
            ],
            [
             0.9,
             "#4d9221"
            ],
            [
             1,
             "#276419"
            ]
           ],
           "sequential": [
            [
             0,
             "#0d0887"
            ],
            [
             0.1111111111111111,
             "#46039f"
            ],
            [
             0.2222222222222222,
             "#7201a8"
            ],
            [
             0.3333333333333333,
             "#9c179e"
            ],
            [
             0.4444444444444444,
             "#bd3786"
            ],
            [
             0.5555555555555556,
             "#d8576b"
            ],
            [
             0.6666666666666666,
             "#ed7953"
            ],
            [
             0.7777777777777778,
             "#fb9f3a"
            ],
            [
             0.8888888888888888,
             "#fdca26"
            ],
            [
             1,
             "#f0f921"
            ]
           ],
           "sequentialminus": [
            [
             0,
             "#0d0887"
            ],
            [
             0.1111111111111111,
             "#46039f"
            ],
            [
             0.2222222222222222,
             "#7201a8"
            ],
            [
             0.3333333333333333,
             "#9c179e"
            ],
            [
             0.4444444444444444,
             "#bd3786"
            ],
            [
             0.5555555555555556,
             "#d8576b"
            ],
            [
             0.6666666666666666,
             "#ed7953"
            ],
            [
             0.7777777777777778,
             "#fb9f3a"
            ],
            [
             0.8888888888888888,
             "#fdca26"
            ],
            [
             1,
             "#f0f921"
            ]
           ]
          },
          "colorway": [
           "#636efa",
           "#EF553B",
           "#00cc96",
           "#ab63fa",
           "#FFA15A",
           "#19d3f3",
           "#FF6692",
           "#B6E880",
           "#FF97FF",
           "#FECB52"
          ],
          "font": {
           "color": "#2a3f5f"
          },
          "geo": {
           "bgcolor": "white",
           "lakecolor": "white",
           "landcolor": "white",
           "showlakes": true,
           "showland": true,
           "subunitcolor": "#C8D4E3"
          },
          "hoverlabel": {
           "align": "left"
          },
          "hovermode": "closest",
          "mapbox": {
           "style": "light"
          },
          "paper_bgcolor": "white",
          "plot_bgcolor": "white",
          "polar": {
           "angularaxis": {
            "gridcolor": "#EBF0F8",
            "linecolor": "#EBF0F8",
            "ticks": ""
           },
           "bgcolor": "white",
           "radialaxis": {
            "gridcolor": "#EBF0F8",
            "linecolor": "#EBF0F8",
            "ticks": ""
           }
          },
          "scene": {
           "xaxis": {
            "backgroundcolor": "white",
            "gridcolor": "#DFE8F3",
            "gridwidth": 2,
            "linecolor": "#EBF0F8",
            "showbackground": true,
            "ticks": "",
            "zerolinecolor": "#EBF0F8"
           },
           "yaxis": {
            "backgroundcolor": "white",
            "gridcolor": "#DFE8F3",
            "gridwidth": 2,
            "linecolor": "#EBF0F8",
            "showbackground": true,
            "ticks": "",
            "zerolinecolor": "#EBF0F8"
           },
           "zaxis": {
            "backgroundcolor": "white",
            "gridcolor": "#DFE8F3",
            "gridwidth": 2,
            "linecolor": "#EBF0F8",
            "showbackground": true,
            "ticks": "",
            "zerolinecolor": "#EBF0F8"
           }
          },
          "shapedefaults": {
           "line": {
            "color": "#2a3f5f"
           }
          },
          "ternary": {
           "aaxis": {
            "gridcolor": "#DFE8F3",
            "linecolor": "#A2B1C6",
            "ticks": ""
           },
           "baxis": {
            "gridcolor": "#DFE8F3",
            "linecolor": "#A2B1C6",
            "ticks": ""
           },
           "bgcolor": "white",
           "caxis": {
            "gridcolor": "#DFE8F3",
            "linecolor": "#A2B1C6",
            "ticks": ""
           }
          },
          "title": {
           "x": 0.05
          },
          "xaxis": {
           "automargin": true,
           "gridcolor": "#EBF0F8",
           "linecolor": "#EBF0F8",
           "ticks": "",
           "title": {
            "standoff": 15
           },
           "zerolinecolor": "#EBF0F8",
           "zerolinewidth": 2
          },
          "yaxis": {
           "automargin": true,
           "gridcolor": "#EBF0F8",
           "linecolor": "#EBF0F8",
           "ticks": "",
           "title": {
            "standoff": 15
           },
           "zerolinecolor": "#EBF0F8",
           "zerolinewidth": 2
          }
         }
        },
        "title": {
         "text": "Bar graph of source_err_rms_s"
        },
        "width": 960,
        "xaxis": {
         "tickmode": "array",
         "ticktext": [
          "0.005",
          "0.015",
          "0.025",
          "0.035",
          "0.045",
          "0.055",
          "0.065",
          "0.075",
          "0.085",
          "0.095"
         ],
         "tickvals": {
          "bdata": "exSuR+F6dD+4HoXrUbiOP5qZmZmZmZk/7FG4HoXroT8K16NwPQqnPylcj8L1KKw/pHA9CtejsD80MzMzMzOzP8L1KFyPwrU/UrgehetRuD8=",
          "dtype": "f8"
         },
         "title": {
          "text": "source_err_rms_s"
         }
        },
        "yaxis": {
         "title": {
          "text": "Count"
         }
        }
       }
      }
     },
     "metadata": {},
     "output_type": "display_data"
    }
   ],
   "source": [
    "# Another example using different columns\n",
    "lqt_ready_2.plot_bar('source_err_rms_s', bin_width=0.01, max_bin=0.1)"
   ]
  },
  {
   "cell_type": "markdown",
   "metadata": {},
   "source": [
    "### 5. Plotting Hypocenters in 2D and 3D Plot\n",
    "\n",
    "We also provide hypocenter plots in both 2D and 3D to make data analysis easier for you."
   ]
  },
  {
   "cell_type": "markdown",
   "metadata": {},
   "source": [
    "A. 2D Hypocenter Plot\n",
    "\n",
    "To plot your hypocenter in 2D plane we can use `plot_hypocenter_2D` class method."
   ]
  },
  {
   "cell_type": "code",
   "execution_count": 8,
   "metadata": {},
   "outputs": [
    {
     "data": {
      "application/vnd.plotly.v1+json": {
       "config": {
        "plotlyServerURL": "https://plot.ly"
       },
       "data": [
        {
         "customdata": {
          "bdata": "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",
          "dtype": "f8",
          "shape": "766, 3"
         },
         "hovertemplate": "<b>Earthquake: %{customdata[0]}</b><br>Source Lon: %{x:.3f}<br>Source Lat: %{y:.3f}<br>Source Depth(m): %{customdata[1]:.3f}<br>Magnitude: %{customdata[2]:.3f}<br><extra></extra>",
         "legendgroup": "",
         "marker": {
          "color": {
           "bdata": "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",
           "dtype": "f8"
          },
          "coloraxis": "coloraxis",
          "size": {
           "bdata": "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",
           "dtype": "f8"
          },
          "sizemode": "area",
          "sizeref": 0.0024999999998938423,
          "symbol": "circle"
         },
         "mode": "markers",
         "name": "",
         "orientation": "v",
         "showlegend": false,
         "type": "scatter",
         "x": {
          "bdata": "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",
          "dtype": "f8"
         },
         "xaxis": "x",
         "y": {
          "bdata": "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",
          "dtype": "f8"
         },
         "yaxis": "y"
        },
        {
         "hovertemplate": "<b>%{text}</b><br>Lat: %{y:.2f}<br>Lon: %{x:.2f}<extra></extra>",
         "marker": {
          "color": "red",
          "size": 16,
          "symbol": "triangle-down"
         },
         "mode": "markers+text",
         "name": "Stations",
         "text": [
          "KJ09",
          "KJ05",
          "KJ05",
          "KJ05",
          "KJ09",
          "KJ14",
          "KJ13",
          "KJ14",
          "KJ12",
          "KJ14",
          "KJ13",
          "KJ14",
          "KJ12",
          "KJ12",
          "KJ14",
          "KJ02",
          "KJ08",
          "KJ02",
          "KJ02",
          "KJ02",
          "KJ06",
          "KJ06",
          "KJ11",
          "KJ11",
          "KJ02",
          "KJ02",
          "KJ02",
          "KJ02",
          "KJ01",
          "KJ02",
          "KJ02",
          "KJ02",
          "KJ02",
          "KJ01",
          "KJ01",
          "KJ01",
          "KJ01",
          "KJ02",
          "KJ02",
          "KJ02",
          "KJ02",
          "KJ08",
          "KJ02",
          "KJ02",
          "KJ04",
          "KJ04",
          "KJ02",
          "KJ02",
          "KJ02",
          "KJ06",
          "KJ02",
          "KJ02",
          "KJ02",
          "KJ02",
          "KJ02",
          "KJ02",
          "KJ02",
          "KJ02",
          "KJ02",
          "KJ02",
          "KJ02",
          "KJ02",
          "KJ02",
          "KJ02",
          "KJ02",
          "KJ02",
          "KJ02",
          "KJ02",
          "KJ02",
          "KJ02",
          "KJ02",
          "KJ02",
          "KJ02",
          "KJ02",
          "KJ02",
          "KJ02",
          "KJ02",
          "KJ06",
          "KJ06",
          "KJ14",
          "KJ02",
          "KJ02",
          "KJ02",
          "KJ02",
          "KJ02",
          "KJ13",
          "KJ12",
          "KJ02",
          "KJ14",
          "KJ02",
          "KJ02",
          "KJ06",
          "KJ05",
          "KJ02",
          "KJ02",
          "KJ02",
          "KJ02",
          "KJ02",
          "KJ02",
          "KJ02",
          "KJ02",
          "KJ02",
          "KJ02",
          "KJ02",
          "KJ02",
          "KJ02",
          "KJ04",
          "KJ02",
          "KJ02",
          "KJ04",
          "KJ02",
          "KJ02",
          "KJ02",
          "KJ02",
          "KJ13",
          "KJ02",
          "KJ02",
          "KJ13",
          "KJ13",
          "KJ04",
          "KJ02",
          "KJ02",
          "KJ02",
          "KJ02",
          "KJ12",
          "KJ02",
          "KJ02",
          "KJ02",
          "KJ04",
          "KJ02",
          "KJ02",
          "KJ02",
          "KJ02",
          "KJ02",
          "KJ13",
          "KJ02",
          "KJ13",
          "KJ09",
          "KJ13",
          "KJ01",
          "KJ06",
          "KJ04",
          "KJ04",
          "KJ01",
          "KJ09",
          "KJ14",
          "KJ02",
          "KJ02",
          "KJ02",
          "KJ02",
          "KJ02",
          "KJ02",
          "KJ02",
          "KJ02",
          "KJ02",
          "KJ13",
          "KJ02",
          "KJ02",
          "KJ02",
          "KJ02",
          "KJ04",
          "KJ04",
          "KJ04",
          "KJ04",
          "KJ04",
          "KJ04",
          "KJ04",
          "KJ04",
          "KJ04",
          "KJ04",
          "KJ04",
          "KJ04",
          "KJ04",
          "KJ04",
          "KJ04",
          "KJ04",
          "KJ04",
          "KJ04",
          "KJ04",
          "KJ04",
          "KJ04",
          "KJ04",
          "KJ04",
          "KJ04",
          "KJ04",
          "KJ04",
          "KJ04",
          "KJ04",
          "KJ04",
          "KJ04",
          "KJ04",
          "KJ04",
          "KJ04",
          "KJ04",
          "KJ04",
          "KJ04",
          "KJ04",
          "KJ04",
          "KJ04",
          "KJ04",
          "KJ04",
          "KJ04",
          "KJ04",
          "KJ04",
          "KJ04",
          "KJ14",
          "KJ02",
          "KJ02",
          "KJ02",
          "KJ02",
          "KJ14",
          "KJ02",
          "KJ02",
          "KJ02",
          "KJ02",
          "KJ10",
          "KJ12",
          "KJ04",
          "KJ02",
          "KJ02",
          "KJ02",
          "KJ11",
          "KJ12",
          "KJ11",
          "KJ02",
          "KJ02",
          "KJ02",
          "KJ02",
          "KJ02",
          "KJ02",
          "KJ02",
          "KJ02",
          "KJ02",
          "KJ02",
          "KJ02",
          "KJ02",
          "KJ02",
          "KJ02",
          "KJ02",
          "KJ02",
          "KJ02",
          "KJ02",
          "KJ02",
          "KJ02",
          "KJ02",
          "KJ02",
          "KJ02",
          "KJ02",
          "KJ02",
          "KJ02",
          "KJ02",
          "KJ06",
          "KJ02",
          "KJ02",
          "KJ02",
          "KJ02",
          "KJ02",
          "KJ02",
          "KJ02",
          "KJ02",
          "KJ02",
          "KJ02",
          "KJ02",
          "KJ02",
          "KJ02",
          "KJ02",
          "KJ02",
          "KJ02",
          "KJ02",
          "KJ02",
          "KJ02",
          "KJ02",
          "KJ02",
          "KJ02",
          "KJ02",
          "KJ02",
          "KJ02",
          "KJ02",
          "KJ02",
          "KJ02",
          "KJ06",
          "KJ02",
          "KJ02",
          "KJ01",
          "KJ11",
          "KJ11",
          "KJ10",
          "KJ14",
          "KJ12",
          "KJ02",
          "KJ02",
          "KJ06",
          "KJ11",
          "KJ02",
          "KJ02",
          "KJ02",
          "KJ02",
          "KJ01",
          "KJ02",
          "KJ11",
          "KJ07",
          "KJ05",
          "KJ02",
          "KJ02",
          "KJ02",
          "KJ02",
          "KJ02",
          "KJ02",
          "KJ02",
          "KJ02",
          "KJ02",
          "KJ15",
          "KJ13",
          "KJ13",
          "KJ13",
          "KJ02",
          "KJ02",
          "KJ02",
          "KJ02",
          "KJ02",
          "KJ13",
          "KJ02",
          "KJ02",
          "KJ02",
          "KJ11",
          "KJ02",
          "KJ02",
          "KJ02",
          "KJ02",
          "KJ02",
          "KJ02",
          "KJ02",
          "KJ02",
          "KJ11",
          "KJ02",
          "KJ02",
          "KJ02",
          "KJ05",
          "KJ02",
          "KJ11",
          "KJ11",
          "KJ02",
          "KJ04",
          "KJ02",
          "KJ02",
          "KJ02",
          "KJ02",
          "KJ02",
          "KJ05",
          "KJ02",
          "KJ08",
          "KJ02",
          "KJ01",
          "KJ02",
          "KJ02",
          "KJ02",
          "KJ02",
          "KJ02",
          "KJ02",
          "KJ02",
          "KJ02",
          "KJ02",
          "KJ02",
          "KJ02",
          "KJ02",
          "KJ02",
          "KJ04",
          "KJ02",
          "KJ06",
          "KJ11",
          "KJ14",
          "KJ14",
          "KJ14",
          "KJ14",
          "KJ11",
          "KJ02",
          "KJ02",
          "KJ02",
          "KJ02",
          "KJ14",
          "KJ02",
          "KJ11",
          "KJ02",
          "KJ13",
          "KJ04",
          "KJ02",
          "KJ04",
          "KJ11",
          "KJ02",
          "KJ02",
          "KJ02",
          "KJ05",
          "KJ09",
          "KJ02",
          "KJ05",
          "KJ11",
          "KJ11",
          "KJ06",
          "KJ02",
          "KJ11",
          "KJ14",
          "KJ13",
          "KJ13",
          "KJ06",
          "KJ13",
          "KJ11",
          "KJ02",
          "KJ02",
          "KJ02",
          "KJ13",
          "KJ13",
          "KJ06",
          "KJ02",
          "KJ02",
          "KJ02",
          "KJ02",
          "KJ02",
          "KJ01",
          "KJ13",
          "KJ13",
          "KJ02",
          "KJ02",
          "KJ02",
          "KJ02",
          "KJ02",
          "KJ02",
          "KJ02",
          "KJ02",
          "KJ13",
          "KJ02",
          "KJ02",
          "KJ02",
          "KJ02",
          "KJ02",
          "KJ02",
          "KJ02",
          "KJ02",
          "KJ02",
          "KJ02",
          "KJ02",
          "KJ02",
          "KJ02",
          "KJ02",
          "KJ04",
          "KJ02",
          "KJ02",
          "KJ02",
          "KJ04",
          "KJ04",
          "KJ14",
          "KJ14",
          "KJ14",
          "KJ04",
          "KJ05",
          "KJ10",
          "KJ04",
          "KJ04",
          "KJ04",
          "KJ02",
          "KJ02",
          "KJ11",
          "KJ02",
          "KJ02",
          "KJ02",
          "KJ14",
          "KJ05",
          "KJ02",
          "KJ06",
          "KJ06",
          "KJ05",
          "KJ02",
          "KJ02",
          "KJ05",
          "KJ02",
          "KJ02",
          "KJ06",
          "KJ09",
          "KJ04",
          "KJ02",
          "KJ02",
          "KJ02",
          "KJ04",
          "KJ10",
          "KJ14",
          "KJ10",
          "KJ10",
          "KJ02",
          "KJ02",
          "KJ02",
          "KJ14",
          "KJ14",
          "KJ14",
          "KJ02",
          "KJ04",
          "KJ02",
          "KJ02",
          "KJ02",
          "KJ02",
          "KJ05",
          "KJ02",
          "KJ10",
          "KJ02",
          "KJ02",
          "KJ02",
          "KJ02",
          "KJ02",
          "KJ10",
          "KJ02",
          "KJ02",
          "KJ02",
          "KJ02",
          "KJ02",
          "KJ02",
          "KJ02",
          "KJ02",
          "KJ02",
          "KJ02",
          "KJ09",
          "KJ02",
          "KJ14",
          "KJ02",
          "KJ02",
          "KJ02",
          "KJ02",
          "KJ02",
          "KJ02",
          "KJ02",
          "KJ02",
          "KJ02",
          "KJ04",
          "KJ04",
          "KJ04",
          "KJ04",
          "KJ04",
          "KJ04",
          "KJ04",
          "KJ04",
          "KJ04",
          "KJ04",
          "KJ04",
          "KJ04",
          "KJ04",
          "KJ04",
          "KJ04",
          "KJ04",
          "KJ14",
          "KJ14",
          "KJ10",
          "KJ10",
          "KJ10",
          "KJ02",
          "KJ02",
          "KJ02",
          "KJ02",
          "KJ02",
          "KJ02",
          "KJ02",
          "KJ02",
          "KJ02",
          "KJ09",
          "KJ14",
          "KJ02",
          "KJ02",
          "KJ02",
          "KJ02",
          "KJ04",
          "KJ02",
          "KJ02",
          "KJ04",
          "KJ02",
          "KJ02",
          "KJ02",
          "KJ02",
          "KJ02",
          "KJ10",
          "KJ02",
          "KJ02",
          "KJ02",
          "KJ02",
          "KJ02",
          "KJ02",
          "KJ02",
          "KJ10",
          "KJ02",
          "KJ02",
          "KJ07",
          "KJ07",
          "KJ06",
          "KJ06",
          "KJ07",
          "KJ06",
          "KJ08",
          "KJ02",
          "KJ02",
          "KJ02",
          "KJ02",
          "KJ06",
          "KJ02",
          "KJ02",
          "KJ02",
          "KJ02",
          "KJ02",
          "KJ12",
          "KJ10",
          "KJ14",
          "KJ10",
          "KJ06",
          "KJ12",
          "KJ06",
          "KJ01",
          "KJ02",
          "KJ02",
          "KJ10",
          "KJ10",
          "KJ02",
          "KJ10",
          "KJ10",
          "KJ10",
          "KJ14",
          "KJ10",
          "KJ12",
          "KJ10",
          "KJ10",
          "KJ14",
          "KJ10",
          "KJ10",
          "KJ10",
          "KJ10",
          "KJ14",
          "KJ10",
          "KJ10",
          "KJ10",
          "KJ10",
          "KJ10",
          "KJ10",
          "KJ14",
          "KJ10",
          "KJ10",
          "KJ10",
          "KJ10",
          "KJ10",
          "KJ10",
          "KJ10",
          "KJ10",
          "KJ10",
          "KJ10",
          "KJ10",
          "KJ10",
          "KJ10",
          "KJ12",
          "KJ10",
          "KJ10",
          "KJ10",
          "KJ10",
          "KJ12",
          "KJ10",
          "KJ10",
          "KJ10",
          "KJ10",
          "KJ10",
          "KJ10",
          "KJ10",
          "KJ10",
          "KJ10",
          "KJ14",
          "KJ10",
          "KJ12",
          "KJ10",
          "KJ10",
          "KJ10",
          "KJ14",
          "KJ10",
          "KJ10",
          "KJ02",
          "KJ02",
          "KJ14",
          "KJ03",
          "KJ03",
          "KJ02",
          "KJ02",
          "KJ02",
          "KJ02",
          "KJ02",
          "KJ02",
          "KJ02",
          "KJ02",
          "KJ02",
          "KJ02",
          "KJ04",
          "KJ04",
          "KJ10",
          "KJ02",
          "KJ02",
          "KJ14",
          "KJ02",
          "KJ14",
          "KJ02",
          "KJ02",
          "KJ02",
          "KJ02",
          "KJ02",
          "KJ02",
          "KJ14",
          "KJ14",
          "KJ02",
          "KJ14",
          "KJ10",
          "KJ02",
          "KJ02",
          "KJ14",
          "KJ02",
          "KJ14",
          "KJ02",
          "KJ02",
          "KJ02",
          "KJ02",
          "KJ02",
          "KJ05",
          "KJ02",
          "KJ02",
          "KJ02",
          "KJ02",
          "KJ02",
          "KJ02",
          "KJ02",
          "KJ02",
          "KJ10",
          "KJ06",
          "KJ06",
          "KJ02",
          "KJ06",
          "KJ14",
          "KJ10",
          "KJ02",
          "KJ14",
          "KJ02",
          "KJ14",
          "KJ06",
          "KJ06",
          "KJ06",
          "KJ14",
          "KJ14",
          "KJ14",
          "KJ10",
          "KJ10",
          "KJ10",
          "KJ10",
          "KJ06",
          "KJ14",
          "KJ10",
          "KJ14",
          "KJ14",
          "KJ14",
          "KJ14",
          "KJ14",
          "KJ14",
          "KJ12",
          "KJ14",
          "KJ10",
          "KJ04",
          "KJ10",
          "KJ04",
          "KJ02",
          "KJ02",
          "KJ14",
          "KJ02",
          "KJ02",
          "KJ14",
          "KJ10",
          "KJ14",
          "KJ14",
          "KJ14",
          "KJ10",
          "KJ10",
          "KJ14",
          "KJ10",
          "KJ10",
          "KJ02",
          "KJ10",
          "KJ14",
          "KJ14",
          "KJ14",
          "KJ02",
          "KJ14",
          "KJ14",
          "KJ14",
          "KJ04",
          "KJ14",
          "KJ04",
          "KJ04",
          "KJ14",
          "KJ02",
          "KJ02",
          "KJ02",
          "KJ10",
          "KJ02"
         ],
         "textfont": {
          "color": "#333333",
          "size": 12
         },
         "textposition": "top center",
         "type": "scatter",
         "x": {
          "bdata": "UyXK3lKXX0CGkPP+P5hfQIaQ8/4/mF9AhpDz/j+YX0BTJcreUpdfQMbdIForl19AkzmWd9WWX0DG3SBaK5dfQKKb/YFyl19Axt0gWiuXX0CTOZZ31ZZfQMbdIForl19Aopv9gXKXX0Cim/2BcpdfQMbdIForl19AMQqCx7eZX0CgNT/+0pdfQDEKgse3mV9AMQqCx7eZX0AxCoLHt5lfQEjF/x1RmF9ASMX/HVGYX0Dd7A+U25dfQN3sD5Tbl19AMQqCx7eZX0AxCoLHt5lfQDEKgse3mV9AMQqCx7eZX0ApBHKJI5pfQDEKgse3mV9AMQqCx7eZX0AxCoLHt5lfQDEKgse3mV9AKQRyiSOaX0ApBHKJI5pfQCkEcokjml9AKQRyiSOaX0AxCoLHt5lfQDEKgse3mV9AMQqCx7eZX0AxCoLHt5lfQKA1P/7Sl19AMQqCx7eZX0AxCoLHt5lfQHLFxVG5ml9AcsXFUbmaX0AxCoLHt5lfQDEKgse3mV9AMQqCx7eZX0BIxf8dUZhfQDEKgse3mV9AMQqCx7eZX0AxCoLHt5lfQDEKgse3mV9AMQqCx7eZX0AxCoLHt5lfQDEKgse3mV9AMQqCx7eZX0AxCoLHt5lfQDEKgse3mV9AMQqCx7eZX0AxCoLHt5lfQDEKgse3mV9AMQqCx7eZX0AxCoLHt5lfQDEKgse3mV9AMQqCx7eZX0AxCoLHt5lfQDEKgse3mV9AMQqCx7eZX0AxCoLHt5lfQDEKgse3mV9AMQqCx7eZX0AxCoLHt5lfQDEKgse3mV9AMQqCx7eZX0AxCoLHt5lfQEjF/x1RmF9ASMX/HVGYX0DG3SBaK5dfQDEKgse3mV9AMQqCx7eZX0AxCoLHt5lfQDEKgse3mV9AMQqCx7eZX0CTOZZ31ZZfQKKb/YFyl19AMQqCx7eZX0DG3SBaK5dfQDEKgse3mV9AMQqCx7eZX0BIxf8dUZhfQIaQ8/4/mF9AMQqCx7eZX0AxCoLHt5lfQDEKgse3mV9AMQqCx7eZX0AxCoLHt5lfQDEKgse3mV9AMQqCx7eZX0AxCoLHt5lfQDEKgse3mV9AMQqCx7eZX0AxCoLHt5lfQDEKgse3mV9AMQqCx7eZX0ByxcVRuZpfQDEKgse3mV9AMQqCx7eZX0ByxcVRuZpfQDEKgse3mV9AMQqCx7eZX0AxCoLHt5lfQDEKgse3mV9AkzmWd9WWX0AxCoLHt5lfQDEKgse3mV9AkzmWd9WWX0CTOZZ31ZZfQHLFxVG5ml9AMQqCx7eZX0AxCoLHt5lfQDEKgse3mV9AMQqCx7eZX0Cim/2BcpdfQDEKgse3mV9AMQqCx7eZX0AxCoLHt5lfQHLFxVG5ml9AMQqCx7eZX0AxCoLHt5lfQDEKgse3mV9AMQqCx7eZX0AxCoLHt5lfQJM5lnfVll9AMQqCx7eZX0CTOZZ31ZZfQFMlyt5Sl19AkzmWd9WWX0ApBHKJI5pfQEjF/x1RmF9AcsXFUbmaX0ByxcVRuZpfQCkEcokjml9AUyXK3lKXX0DG3SBaK5dfQDEKgse3mV9AMQqCx7eZX0AxCoLHt5lfQDEKgse3mV9AMQqCx7eZX0AxCoLHt5lfQDEKgse3mV9AMQqCx7eZX0AxCoLHt5lfQJM5lnfVll9AMQqCx7eZX0AxCoLHt5lfQDEKgse3mV9AMQqCx7eZX0ByxcVRuZpfQHLFxVG5ml9AcsXFUbmaX0ByxcVRuZpfQHLFxVG5ml9AcsXFUbmaX0ByxcVRuZpfQHLFxVG5ml9AcsXFUbmaX0ByxcVRuZpfQHLFxVG5ml9AcsXFUbmaX0ByxcVRuZpfQHLFxVG5ml9AcsXFUbmaX0ByxcVRuZpfQHLFxVG5ml9AcsXFUbmaX0ByxcVRuZpfQHLFxVG5ml9AcsXFUbmaX0ByxcVRuZpfQHLFxVG5ml9AcsXFUbmaX0ByxcVRuZpfQHLFxVG5ml9AcsXFUbmaX0ByxcVRuZpfQHLFxVG5ml9AcsXFUbmaX0ByxcVRuZpfQHLFxVG5ml9AcsXFUbmaX0ByxcVRuZpfQHLFxVG5ml9AcsXFUbmaX0ByxcVRuZpfQHLFxVG5ml9AcsXFUbmaX0ByxcVRuZpfQHLFxVG5ml9AcsXFUbmaX0ByxcVRuZpfQHLFxVG5ml9AcsXFUbmaX0DG3SBaK5dfQDEKgse3mV9AMQqCx7eZX0AxCoLHt5lfQDEKgse3mV9Axt0gWiuXX0AxCoLHt5lfQDEKgse3mV9AMQqCx7eZX0AxCoLHt5lfQKOtSiL7ll9Aopv9gXKXX0ByxcVRuZpfQDEKgse3mV9AMQqCx7eZX0AxCoLHt5lfQN3sD5Tbl19Aopv9gXKXX0Dd7A+U25dfQDEKgse3mV9AMQqCx7eZX0AxCoLHt5lfQDEKgse3mV9AMQqCx7eZX0AxCoLHt5lfQDEKgse3mV9AMQqCx7eZX0AxCoLHt5lfQDEKgse3mV9AMQqCx7eZX0AxCoLHt5lfQDEKgse3mV9AMQqCx7eZX0AxCoLHt5lfQDEKgse3mV9AMQqCx7eZX0AxCoLHt5lfQDEKgse3mV9AMQqCx7eZX0AxCoLHt5lfQDEKgse3mV9AMQqCx7eZX0AxCoLHt5lfQDEKgse3mV9AMQqCx7eZX0AxCoLHt5lfQEjF/x1RmF9AMQqCx7eZX0AxCoLHt5lfQDEKgse3mV9AMQqCx7eZX0AxCoLHt5lfQDEKgse3mV9AMQqCx7eZX0AxCoLHt5lfQDEKgse3mV9AMQqCx7eZX0AxCoLHt5lfQDEKgse3mV9AMQqCx7eZX0AxCoLHt5lfQDEKgse3mV9AMQqCx7eZX0AxCoLHt5lfQDEKgse3mV9AMQqCx7eZX0AxCoLHt5lfQDEKgse3mV9AMQqCx7eZX0AxCoLHt5lfQDEKgse3mV9AMQqCx7eZX0AxCoLHt5lfQDEKgse3mV9AMQqCx7eZX0BIxf8dUZhfQDEKgse3mV9AMQqCx7eZX0ApBHKJI5pfQN3sD5Tbl19A3ewPlNuXX0CjrUoi+5ZfQMbdIForl19Aopv9gXKXX0AxCoLHt5lfQDEKgse3mV9ASMX/HVGYX0Dd7A+U25dfQDEKgse3mV9AMQqCx7eZX0AxCoLHt5lfQDEKgse3mV9AKQRyiSOaX0AxCoLHt5lfQN3sD5Tbl19APiE7b2OYX0CGkPP+P5hfQDEKgse3mV9AMQqCx7eZX0AxCoLHt5lfQDEKgse3mV9AMQqCx7eZX0AxCoLHt5lfQDEKgse3mV9AMQqCx7eZX0AxCoLHt5lfQMNJmj+ml19AkzmWd9WWX0CTOZZ31ZZfQJM5lnfVll9AMQqCx7eZX0AxCoLHt5lfQDEKgse3mV9AMQqCx7eZX0AxCoLHt5lfQJM5lnfVll9AMQqCx7eZX0AxCoLHt5lfQDEKgse3mV9A3ewPlNuXX0AxCoLHt5lfQDEKgse3mV9AMQqCx7eZX0AxCoLHt5lfQDEKgse3mV9AMQqCx7eZX0AxCoLHt5lfQDEKgse3mV9A3ewPlNuXX0AxCoLHt5lfQDEKgse3mV9AMQqCx7eZX0CGkPP+P5hfQDEKgse3mV9A3ewPlNuXX0Dd7A+U25dfQDEKgse3mV9AcsXFUbmaX0AxCoLHt5lfQDEKgse3mV9AMQqCx7eZX0AxCoLHt5lfQDEKgse3mV9AhpDz/j+YX0AxCoLHt5lfQKA1P/7Sl19AMQqCx7eZX0ApBHKJI5pfQDEKgse3mV9AMQqCx7eZX0AxCoLHt5lfQDEKgse3mV9AMQqCx7eZX0AxCoLHt5lfQDEKgse3mV9AMQqCx7eZX0AxCoLHt5lfQDEKgse3mV9AMQqCx7eZX0AxCoLHt5lfQDEKgse3mV9AcsXFUbmaX0AxCoLHt5lfQEjF/x1RmF9A3ewPlNuXX0DG3SBaK5dfQMbdIForl19Axt0gWiuXX0DG3SBaK5dfQN3sD5Tbl19AMQqCx7eZX0AxCoLHt5lfQDEKgse3mV9AMQqCx7eZX0DG3SBaK5dfQDEKgse3mV9A3ewPlNuXX0AxCoLHt5lfQJM5lnfVll9AcsXFUbmaX0AxCoLHt5lfQHLFxVG5ml9A3ewPlNuXX0AxCoLHt5lfQDEKgse3mV9AMQqCx7eZX0CGkPP+P5hfQFMlyt5Sl19AMQqCx7eZX0CGkPP+P5hfQN3sD5Tbl19A3ewPlNuXX0BIxf8dUZhfQDEKgse3mV9A3ewPlNuXX0DG3SBaK5dfQJM5lnfVll9AkzmWd9WWX0BIxf8dUZhfQJM5lnfVll9A3ewPlNuXX0AxCoLHt5lfQDEKgse3mV9AMQqCx7eZX0CTOZZ31ZZfQJM5lnfVll9ASMX/HVGYX0AxCoLHt5lfQDEKgse3mV9AMQqCx7eZX0AxCoLHt5lfQDEKgse3mV9AKQRyiSOaX0CTOZZ31ZZfQJM5lnfVll9AMQqCx7eZX0AxCoLHt5lfQDEKgse3mV9AMQqCx7eZX0AxCoLHt5lfQDEKgse3mV9AMQqCx7eZX0AxCoLHt5lfQJM5lnfVll9AMQqCx7eZX0AxCoLHt5lfQDEKgse3mV9AMQqCx7eZX0AxCoLHt5lfQDEKgse3mV9AMQqCx7eZX0AxCoLHt5lfQDEKgse3mV9AMQqCx7eZX0AxCoLHt5lfQDEKgse3mV9AMQqCx7eZX0AxCoLHt5lfQHLFxVG5ml9AMQqCx7eZX0AxCoLHt5lfQDEKgse3mV9AcsXFUbmaX0ByxcVRuZpfQMbdIForl19Axt0gWiuXX0DG3SBaK5dfQHLFxVG5ml9AhpDz/j+YX0CjrUoi+5ZfQHLFxVG5ml9AcsXFUbmaX0ByxcVRuZpfQDEKgse3mV9AMQqCx7eZX0Dd7A+U25dfQDEKgse3mV9AMQqCx7eZX0AxCoLHt5lfQMbdIForl19AhpDz/j+YX0AxCoLHt5lfQEjF/x1RmF9ASMX/HVGYX0CGkPP+P5hfQDEKgse3mV9AMQqCx7eZX0CGkPP+P5hfQDEKgse3mV9AMQqCx7eZX0BIxf8dUZhfQFMlyt5Sl19AcsXFUbmaX0AxCoLHt5lfQDEKgse3mV9AMQqCx7eZX0ByxcVRuZpfQKOtSiL7ll9Axt0gWiuXX0CjrUoi+5ZfQKOtSiL7ll9AMQqCx7eZX0AxCoLHt5lfQDEKgse3mV9Axt0gWiuXX0DG3SBaK5dfQMbdIForl19AMQqCx7eZX0ByxcVRuZpfQDEKgse3mV9AMQqCx7eZX0AxCoLHt5lfQDEKgse3mV9AhpDz/j+YX0AxCoLHt5lfQKOtSiL7ll9AMQqCx7eZX0AxCoLHt5lfQDEKgse3mV9AMQqCx7eZX0AxCoLHt5lfQKOtSiL7ll9AMQqCx7eZX0AxCoLHt5lfQDEKgse3mV9AMQqCx7eZX0AxCoLHt5lfQDEKgse3mV9AMQqCx7eZX0AxCoLHt5lfQDEKgse3mV9AMQqCx7eZX0BTJcreUpdfQDEKgse3mV9Axt0gWiuXX0AxCoLHt5lfQDEKgse3mV9AMQqCx7eZX0AxCoLHt5lfQDEKgse3mV9AMQqCx7eZX0AxCoLHt5lfQDEKgse3mV9AMQqCx7eZX0ByxcVRuZpfQHLFxVG5ml9AcsXFUbmaX0ByxcVRuZpfQHLFxVG5ml9AcsXFUbmaX0ByxcVRuZpfQHLFxVG5ml9AcsXFUbmaX0ByxcVRuZpfQHLFxVG5ml9AcsXFUbmaX0ByxcVRuZpfQHLFxVG5ml9AcsXFUbmaX0ByxcVRuZpfQMbdIForl19Axt0gWiuXX0CjrUoi+5ZfQKOtSiL7ll9Ao61KIvuWX0AxCoLHt5lfQDEKgse3mV9AMQqCx7eZX0AxCoLHt5lfQDEKgse3mV9AMQqCx7eZX0AxCoLHt5lfQDEKgse3mV9AMQqCx7eZX0BTJcreUpdfQMbdIForl19AMQqCx7eZX0AxCoLHt5lfQDEKgse3mV9AMQqCx7eZX0ByxcVRuZpfQDEKgse3mV9AMQqCx7eZX0ByxcVRuZpfQDEKgse3mV9AMQqCx7eZX0AxCoLHt5lfQDEKgse3mV9AMQqCx7eZX0CjrUoi+5ZfQDEKgse3mV9AMQqCx7eZX0AxCoLHt5lfQDEKgse3mV9AMQqCx7eZX0AxCoLHt5lfQDEKgse3mV9Ao61KIvuWX0AxCoLHt5lfQDEKgse3mV9APiE7b2OYX0A+ITtvY5hfQEjF/x1RmF9ASMX/HVGYX0A+ITtvY5hfQEjF/x1RmF9AoDU//tKXX0AxCoLHt5lfQDEKgse3mV9AMQqCx7eZX0AxCoLHt5lfQEjF/x1RmF9AMQqCx7eZX0AxCoLHt5lfQDEKgse3mV9AMQqCx7eZX0AxCoLHt5lfQKKb/YFyl19Ao61KIvuWX0DG3SBaK5dfQKOtSiL7ll9ASMX/HVGYX0Cim/2BcpdfQEjF/x1RmF9AKQRyiSOaX0AxCoLHt5lfQDEKgse3mV9Ao61KIvuWX0CjrUoi+5ZfQDEKgse3mV9Ao61KIvuWX0CjrUoi+5ZfQKOtSiL7ll9Axt0gWiuXX0CjrUoi+5ZfQKKb/YFyl19Ao61KIvuWX0CjrUoi+5ZfQMbdIForl19Ao61KIvuWX0CjrUoi+5ZfQKOtSiL7ll9Ao61KIvuWX0DG3SBaK5dfQKOtSiL7ll9Ao61KIvuWX0CjrUoi+5ZfQKOtSiL7ll9Ao61KIvuWX0CjrUoi+5ZfQMbdIForl19Ao61KIvuWX0CjrUoi+5ZfQKOtSiL7ll9Ao61KIvuWX0CjrUoi+5ZfQKOtSiL7ll9Ao61KIvuWX0CjrUoi+5ZfQKOtSiL7ll9Ao61KIvuWX0CjrUoi+5ZfQKOtSiL7ll9Ao61KIvuWX0Cim/2BcpdfQKOtSiL7ll9Ao61KIvuWX0CjrUoi+5ZfQKOtSiL7ll9Aopv9gXKXX0CjrUoi+5ZfQKOtSiL7ll9Ao61KIvuWX0CjrUoi+5ZfQKOtSiL7ll9Ao61KIvuWX0CjrUoi+5ZfQKOtSiL7ll9Ao61KIvuWX0DG3SBaK5dfQKOtSiL7ll9Aopv9gXKXX0CjrUoi+5ZfQKOtSiL7ll9Ao61KIvuWX0DG3SBaK5dfQKOtSiL7ll9Ao61KIvuWX0AxCoLHt5lfQDEKgse3mV9Axt0gWiuXX0BqaAOwAZlfQGpoA7ABmV9AMQqCx7eZX0AxCoLHt5lfQDEKgse3mV9AMQqCx7eZX0AxCoLHt5lfQDEKgse3mV9AMQqCx7eZX0AxCoLHt5lfQDEKgse3mV9AMQqCx7eZX0ByxcVRuZpfQHLFxVG5ml9Ao61KIvuWX0AxCoLHt5lfQDEKgse3mV9Axt0gWiuXX0AxCoLHt5lfQMbdIForl19AMQqCx7eZX0AxCoLHt5lfQDEKgse3mV9AMQqCx7eZX0AxCoLHt5lfQDEKgse3mV9Axt0gWiuXX0DG3SBaK5dfQDEKgse3mV9Axt0gWiuXX0CjrUoi+5ZfQDEKgse3mV9AMQqCx7eZX0DG3SBaK5dfQDEKgse3mV9Axt0gWiuXX0AxCoLHt5lfQDEKgse3mV9AMQqCx7eZX0AxCoLHt5lfQDEKgse3mV9AhpDz/j+YX0AxCoLHt5lfQDEKgse3mV9AMQqCx7eZX0AxCoLHt5lfQDEKgse3mV9AMQqCx7eZX0AxCoLHt5lfQDEKgse3mV9Ao61KIvuWX0BIxf8dUZhfQEjF/x1RmF9AMQqCx7eZX0BIxf8dUZhfQMbdIForl19Ao61KIvuWX0AxCoLHt5lfQMbdIForl19AMQqCx7eZX0DG3SBaK5dfQEjF/x1RmF9ASMX/HVGYX0BIxf8dUZhfQMbdIForl19Axt0gWiuXX0DG3SBaK5dfQKOtSiL7ll9Ao61KIvuWX0CjrUoi+5ZfQKOtSiL7ll9ASMX/HVGYX0DG3SBaK5dfQKOtSiL7ll9Axt0gWiuXX0DG3SBaK5dfQMbdIForl19Axt0gWiuXX0DG3SBaK5dfQMbdIForl19Aopv9gXKXX0DG3SBaK5dfQKOtSiL7ll9AcsXFUbmaX0CjrUoi+5ZfQHLFxVG5ml9AMQqCx7eZX0AxCoLHt5lfQMbdIForl19AMQqCx7eZX0AxCoLHt5lfQMbdIForl19Ao61KIvuWX0DG3SBaK5dfQMbdIForl19Axt0gWiuXX0CjrUoi+5ZfQKOtSiL7ll9Axt0gWiuXX0CjrUoi+5ZfQKOtSiL7ll9AMQqCx7eZX0CjrUoi+5ZfQMbdIForl19Axt0gWiuXX0DG3SBaK5dfQDEKgse3mV9Axt0gWiuXX0DG3SBaK5dfQMbdIForl19AcsXFUbmaX0DG3SBaK5dfQHLFxVG5ml9AcsXFUbmaX0DG3SBaK5dfQDEKgse3mV9AMQqCx7eZX0AxCoLHt5lfQKOtSiL7ll9AMQqCx7eZX0A=",
          "dtype": "f8"
         },
         "y": {
          "bdata": "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",
          "dtype": "f8"
         }
        }
       ],
       "layout": {
        "coloraxis": {
         "colorbar": {
          "title": {
           "text": "depth_m"
          }
         },
         "colorscale": [
          [
           0,
           "#440154"
          ],
          [
           0.1111111111111111,
           "#482878"
          ],
          [
           0.2222222222222222,
           "#3e4989"
          ],
          [
           0.3333333333333333,
           "#31688e"
          ],
          [
           0.4444444444444444,
           "#26828e"
          ],
          [
           0.5555555555555556,
           "#1f9e89"
          ],
          [
           0.6666666666666666,
           "#35b779"
          ],
          [
           0.7777777777777778,
           "#6ece58"
          ],
          [
           0.8888888888888888,
           "#b5de2b"
          ],
          [
           1,
           "#fde725"
          ]
         ]
        },
        "height": 720,
        "legend": {
         "bgcolor": "rgba(255,255,255,0.5)",
         "itemsizing": "constant",
         "tracegroupgap": 0,
         "x": 0.01,
         "xanchor": "left",
         "y": 0.99,
         "yanchor": "top"
        },
        "showlegend": true,
        "template": {
         "data": {
          "bar": [
           {
            "error_x": {
             "color": "#2a3f5f"
            },
            "error_y": {
             "color": "#2a3f5f"
            },
            "marker": {
             "line": {
              "color": "white",
              "width": 0.5
             },
             "pattern": {
              "fillmode": "overlay",
              "size": 10,
              "solidity": 0.2
             }
            },
            "type": "bar"
           }
          ],
          "barpolar": [
           {
            "marker": {
             "line": {
              "color": "white",
              "width": 0.5
             },
             "pattern": {
              "fillmode": "overlay",
              "size": 10,
              "solidity": 0.2
             }
            },
            "type": "barpolar"
           }
          ],
          "carpet": [
           {
            "aaxis": {
             "endlinecolor": "#2a3f5f",
             "gridcolor": "#C8D4E3",
             "linecolor": "#C8D4E3",
             "minorgridcolor": "#C8D4E3",
             "startlinecolor": "#2a3f5f"
            },
            "baxis": {
             "endlinecolor": "#2a3f5f",
             "gridcolor": "#C8D4E3",
             "linecolor": "#C8D4E3",
             "minorgridcolor": "#C8D4E3",
             "startlinecolor": "#2a3f5f"
            },
            "type": "carpet"
           }
          ],
          "choropleth": [
           {
            "colorbar": {
             "outlinewidth": 0,
             "ticks": ""
            },
            "type": "choropleth"
           }
          ],
          "contour": [
           {
            "colorbar": {
             "outlinewidth": 0,
             "ticks": ""
            },
            "colorscale": [
             [
              0,
              "#0d0887"
             ],
             [
              0.1111111111111111,
              "#46039f"
             ],
             [
              0.2222222222222222,
              "#7201a8"
             ],
             [
              0.3333333333333333,
              "#9c179e"
             ],
             [
              0.4444444444444444,
              "#bd3786"
             ],
             [
              0.5555555555555556,
              "#d8576b"
             ],
             [
              0.6666666666666666,
              "#ed7953"
             ],
             [
              0.7777777777777778,
              "#fb9f3a"
             ],
             [
              0.8888888888888888,
              "#fdca26"
             ],
             [
              1,
              "#f0f921"
             ]
            ],
            "type": "contour"
           }
          ],
          "contourcarpet": [
           {
            "colorbar": {
             "outlinewidth": 0,
             "ticks": ""
            },
            "type": "contourcarpet"
           }
          ],
          "heatmap": [
           {
            "colorbar": {
             "outlinewidth": 0,
             "ticks": ""
            },
            "colorscale": [
             [
              0,
              "#0d0887"
             ],
             [
              0.1111111111111111,
              "#46039f"
             ],
             [
              0.2222222222222222,
              "#7201a8"
             ],
             [
              0.3333333333333333,
              "#9c179e"
             ],
             [
              0.4444444444444444,
              "#bd3786"
             ],
             [
              0.5555555555555556,
              "#d8576b"
             ],
             [
              0.6666666666666666,
              "#ed7953"
             ],
             [
              0.7777777777777778,
              "#fb9f3a"
             ],
             [
              0.8888888888888888,
              "#fdca26"
             ],
             [
              1,
              "#f0f921"
             ]
            ],
            "type": "heatmap"
           }
          ],
          "histogram": [
           {
            "marker": {
             "pattern": {
              "fillmode": "overlay",
              "size": 10,
              "solidity": 0.2
             }
            },
            "type": "histogram"
           }
          ],
          "histogram2d": [
           {
            "colorbar": {
             "outlinewidth": 0,
             "ticks": ""
            },
            "colorscale": [
             [
              0,
              "#0d0887"
             ],
             [
              0.1111111111111111,
              "#46039f"
             ],
             [
              0.2222222222222222,
              "#7201a8"
             ],
             [
              0.3333333333333333,
              "#9c179e"
             ],
             [
              0.4444444444444444,
              "#bd3786"
             ],
             [
              0.5555555555555556,
              "#d8576b"
             ],
             [
              0.6666666666666666,
              "#ed7953"
             ],
             [
              0.7777777777777778,
              "#fb9f3a"
             ],
             [
              0.8888888888888888,
              "#fdca26"
             ],
             [
              1,
              "#f0f921"
             ]
            ],
            "type": "histogram2d"
           }
          ],
          "histogram2dcontour": [
           {
            "colorbar": {
             "outlinewidth": 0,
             "ticks": ""
            },
            "colorscale": [
             [
              0,
              "#0d0887"
             ],
             [
              0.1111111111111111,
              "#46039f"
             ],
             [
              0.2222222222222222,
              "#7201a8"
             ],
             [
              0.3333333333333333,
              "#9c179e"
             ],
             [
              0.4444444444444444,
              "#bd3786"
             ],
             [
              0.5555555555555556,
              "#d8576b"
             ],
             [
              0.6666666666666666,
              "#ed7953"
             ],
             [
              0.7777777777777778,
              "#fb9f3a"
             ],
             [
              0.8888888888888888,
              "#fdca26"
             ],
             [
              1,
              "#f0f921"
             ]
            ],
            "type": "histogram2dcontour"
           }
          ],
          "mesh3d": [
           {
            "colorbar": {
             "outlinewidth": 0,
             "ticks": ""
            },
            "type": "mesh3d"
           }
          ],
          "parcoords": [
           {
            "line": {
             "colorbar": {
              "outlinewidth": 0,
              "ticks": ""
             }
            },
            "type": "parcoords"
           }
          ],
          "pie": [
           {
            "automargin": true,
            "type": "pie"
           }
          ],
          "scatter": [
           {
            "fillpattern": {
             "fillmode": "overlay",
             "size": 10,
             "solidity": 0.2
            },
            "type": "scatter"
           }
          ],
          "scatter3d": [
           {
            "line": {
             "colorbar": {
              "outlinewidth": 0,
              "ticks": ""
             }
            },
            "marker": {
             "colorbar": {
              "outlinewidth": 0,
              "ticks": ""
             }
            },
            "type": "scatter3d"
           }
          ],
          "scattercarpet": [
           {
            "marker": {
             "colorbar": {
              "outlinewidth": 0,
              "ticks": ""
             }
            },
            "type": "scattercarpet"
           }
          ],
          "scattergeo": [
           {
            "marker": {
             "colorbar": {
              "outlinewidth": 0,
              "ticks": ""
             }
            },
            "type": "scattergeo"
           }
          ],
          "scattergl": [
           {
            "marker": {
             "colorbar": {
              "outlinewidth": 0,
              "ticks": ""
             }
            },
            "type": "scattergl"
           }
          ],
          "scattermap": [
           {
            "marker": {
             "colorbar": {
              "outlinewidth": 0,
              "ticks": ""
             }
            },
            "type": "scattermap"
           }
          ],
          "scattermapbox": [
           {
            "marker": {
             "colorbar": {
              "outlinewidth": 0,
              "ticks": ""
             }
            },
            "type": "scattermapbox"
           }
          ],
          "scatterpolar": [
           {
            "marker": {
             "colorbar": {
              "outlinewidth": 0,
              "ticks": ""
             }
            },
            "type": "scatterpolar"
           }
          ],
          "scatterpolargl": [
           {
            "marker": {
             "colorbar": {
              "outlinewidth": 0,
              "ticks": ""
             }
            },
            "type": "scatterpolargl"
           }
          ],
          "scatterternary": [
           {
            "marker": {
             "colorbar": {
              "outlinewidth": 0,
              "ticks": ""
             }
            },
            "type": "scatterternary"
           }
          ],
          "surface": [
           {
            "colorbar": {
             "outlinewidth": 0,
             "ticks": ""
            },
            "colorscale": [
             [
              0,
              "#0d0887"
             ],
             [
              0.1111111111111111,
              "#46039f"
             ],
             [
              0.2222222222222222,
              "#7201a8"
             ],
             [
              0.3333333333333333,
              "#9c179e"
             ],
             [
              0.4444444444444444,
              "#bd3786"
             ],
             [
              0.5555555555555556,
              "#d8576b"
             ],
             [
              0.6666666666666666,
              "#ed7953"
             ],
             [
              0.7777777777777778,
              "#fb9f3a"
             ],
             [
              0.8888888888888888,
              "#fdca26"
             ],
             [
              1,
              "#f0f921"
             ]
            ],
            "type": "surface"
           }
          ],
          "table": [
           {
            "cells": {
             "fill": {
              "color": "#EBF0F8"
             },
             "line": {
              "color": "white"
             }
            },
            "header": {
             "fill": {
              "color": "#C8D4E3"
             },
             "line": {
              "color": "white"
             }
            },
            "type": "table"
           }
          ]
         },
         "layout": {
          "annotationdefaults": {
           "arrowcolor": "#2a3f5f",
           "arrowhead": 0,
           "arrowwidth": 1
          },
          "autotypenumbers": "strict",
          "coloraxis": {
           "colorbar": {
            "outlinewidth": 0,
            "ticks": ""
           }
          },
          "colorscale": {
           "diverging": [
            [
             0,
             "#8e0152"
            ],
            [
             0.1,
             "#c51b7d"
            ],
            [
             0.2,
             "#de77ae"
            ],
            [
             0.3,
             "#f1b6da"
            ],
            [
             0.4,
             "#fde0ef"
            ],
            [
             0.5,
             "#f7f7f7"
            ],
            [
             0.6,
             "#e6f5d0"
            ],
            [
             0.7,
             "#b8e186"
            ],
            [
             0.8,
             "#7fbc41"
            ],
            [
             0.9,
             "#4d9221"
            ],
            [
             1,
             "#276419"
            ]
           ],
           "sequential": [
            [
             0,
             "#0d0887"
            ],
            [
             0.1111111111111111,
             "#46039f"
            ],
            [
             0.2222222222222222,
             "#7201a8"
            ],
            [
             0.3333333333333333,
             "#9c179e"
            ],
            [
             0.4444444444444444,
             "#bd3786"
            ],
            [
             0.5555555555555556,
             "#d8576b"
            ],
            [
             0.6666666666666666,
             "#ed7953"
            ],
            [
             0.7777777777777778,
             "#fb9f3a"
            ],
            [
             0.8888888888888888,
             "#fdca26"
            ],
            [
             1,
             "#f0f921"
            ]
           ],
           "sequentialminus": [
            [
             0,
             "#0d0887"
            ],
            [
             0.1111111111111111,
             "#46039f"
            ],
            [
             0.2222222222222222,
             "#7201a8"
            ],
            [
             0.3333333333333333,
             "#9c179e"
            ],
            [
             0.4444444444444444,
             "#bd3786"
            ],
            [
             0.5555555555555556,
             "#d8576b"
            ],
            [
             0.6666666666666666,
             "#ed7953"
            ],
            [
             0.7777777777777778,
             "#fb9f3a"
            ],
            [
             0.8888888888888888,
             "#fdca26"
            ],
            [
             1,
             "#f0f921"
            ]
           ]
          },
          "colorway": [
           "#636efa",
           "#EF553B",
           "#00cc96",
           "#ab63fa",
           "#FFA15A",
           "#19d3f3",
           "#FF6692",
           "#B6E880",
           "#FF97FF",
           "#FECB52"
          ],
          "font": {
           "color": "#2a3f5f"
          },
          "geo": {
           "bgcolor": "white",
           "lakecolor": "white",
           "landcolor": "white",
           "showlakes": true,
           "showland": true,
           "subunitcolor": "#C8D4E3"
          },
          "hoverlabel": {
           "align": "left"
          },
          "hovermode": "closest",
          "mapbox": {
           "style": "light"
          },
          "paper_bgcolor": "white",
          "plot_bgcolor": "white",
          "polar": {
           "angularaxis": {
            "gridcolor": "#EBF0F8",
            "linecolor": "#EBF0F8",
            "ticks": ""
           },
           "bgcolor": "white",
           "radialaxis": {
            "gridcolor": "#EBF0F8",
            "linecolor": "#EBF0F8",
            "ticks": ""
           }
          },
          "scene": {
           "xaxis": {
            "backgroundcolor": "white",
            "gridcolor": "#DFE8F3",
            "gridwidth": 2,
            "linecolor": "#EBF0F8",
            "showbackground": true,
            "ticks": "",
            "zerolinecolor": "#EBF0F8"
           },
           "yaxis": {
            "backgroundcolor": "white",
            "gridcolor": "#DFE8F3",
            "gridwidth": 2,
            "linecolor": "#EBF0F8",
            "showbackground": true,
            "ticks": "",
            "zerolinecolor": "#EBF0F8"
           },
           "zaxis": {
            "backgroundcolor": "white",
            "gridcolor": "#DFE8F3",
            "gridwidth": 2,
            "linecolor": "#EBF0F8",
            "showbackground": true,
            "ticks": "",
            "zerolinecolor": "#EBF0F8"
           }
          },
          "shapedefaults": {
           "line": {
            "color": "#2a3f5f"
           }
          },
          "ternary": {
           "aaxis": {
            "gridcolor": "#DFE8F3",
            "linecolor": "#A2B1C6",
            "ticks": ""
           },
           "baxis": {
            "gridcolor": "#DFE8F3",
            "linecolor": "#A2B1C6",
            "ticks": ""
           },
           "bgcolor": "white",
           "caxis": {
            "gridcolor": "#DFE8F3",
            "linecolor": "#A2B1C6",
            "ticks": ""
           }
          },
          "title": {
           "x": 0.05
          },
          "xaxis": {
           "automargin": true,
           "gridcolor": "#EBF0F8",
           "linecolor": "#EBF0F8",
           "ticks": "",
           "title": {
            "standoff": 15
           },
           "zerolinecolor": "#EBF0F8",
           "zerolinewidth": 2
          },
          "yaxis": {
           "automargin": true,
           "gridcolor": "#EBF0F8",
           "linecolor": "#EBF0F8",
           "ticks": "",
           "title": {
            "standoff": 15
           },
           "zerolinecolor": "#EBF0F8",
           "zerolinewidth": 2
          }
         }
        },
        "title": {
         "text": "Earthquake Locations (2D)"
        },
        "width": 960,
        "xaxis": {
         "anchor": "y",
         "domain": [
          0,
          1
         ],
         "range": [
          126.33477232364511,
          126.44453328439512
         ],
         "scaleanchor": "y",
         "scaleratio": 1,
         "title": {
          "text": "Longitude"
         }
        },
        "yaxis": {
         "anchor": "x",
         "domain": [
          0,
          1
         ],
         "range": [
          38.16793943689761,
          38.27770039764762
         ],
         "scaleratio": 1,
         "title": {
          "text": "Latitude"
         }
        }
       }
      }
     },
     "metadata": {},
     "output_type": "display_data"
    }
   ],
   "source": [
    "# 2D plot\n",
    "lqt_ready_2.plot_hypocenter_2d()"
   ]
  },
  {
   "cell_type": "markdown",
   "metadata": {},
   "source": [
    "A. 3D Hypocenter Plot\n",
    "\n",
    "To plot your hypocenter in 3D we can use `plot_hypocenter_3D` class method."
   ]
  },
  {
   "cell_type": "code",
   "execution_count": 9,
   "metadata": {},
   "outputs": [
    {
     "data": {
      "application/vnd.plotly.v1+json": {
       "config": {
        "plotlyServerURL": "https://plot.ly"
       },
       "data": [
        {
         "customdata": {
          "bdata": "AAAAAABAn0BmZmZmZkqLQJB9MKCHnNs/AAAAAABEn0A9CtejcKuTwGmya4Qz9vA/AAAAAABIn0CkcD0K11iVwB8mIPAJpPU/AAAAAABMn0AK16NwPRiQwPB1Jsu5hek/AAAAAABUn0AK16NwPZJwQEA7eYwS3e4/AAAAAABYn0ApXI/C9UheQCh0nP8BKQBAAAAAAABcn0Bcj8L1KBxbQHQucIG4tfA/AAAAAABgn0AUrkfhepR4QEimTLtZqeQ/AAAAAABkn0AfhetRuI5yQMDvB/KUy+g/AAAAAABon0DXo3A9CsdhQPQH9/S5pPk/AAAAAABsn0BxPQrXozB5QEhvfgER+OI/AAAAAABwn0DhehSuRxF4QOBh+lhKROg/AAAAAAB0n0DhehSuRwVwQGhcsfs1Nuc/AAAAAAB4n0CamZmZmelnQGDn5U388+Q/AAAAAAB8n0DhehSuR2FvwIMO7N1rfvE/AAAAAACAn0AAAAAAAGiAQPmg0INiVZA/AAAAAACEn0CuR+F6FGZpwFDv7zozxuk/AAAAAACIn0AAAAAAALhwwDg6+LN3rvI/AAAAAACMn0BSuB6F6xFdQCifqp1iGOU/AAAAAACQn0DXo3A9CndzwEEMmwp87u0/AAAAAACUn0AhsHJokVWMQCAVDuMYs9Y/AAAAAACYn0AK16NwPW2PQBB3EbSmCfA/AAAAAACcn0BWDi2ynQt/QBBwnPBNiOU/AAAAAACgn0AbL90khrKawCCvxhf8A+s/AAAAAACkn0AK16NwPR58wEAwkPlB/Ng/AAAAAACon0AAAAAAAGx9wGCCDQneWNk/AAAAAACsn0AfhetRuHJ8wE9tNuYM39g/AAAAAACwn0A9CtejMKq6wMQvk0B6yvM/AAAAAAC0n0AbL90khoyYQEBhKlD9pMo/AAAAAAC4n0CamZmZmdeDwIi0KYQVdO4/AAAAAAC8n0D2KFyPwjVrwOip1VyiWOI/AAAAAADAn0CuR+F6FIJ2wGDXLUQAR+E/AAAAAADEn0AUrkfhOpuxwBjyF3OET/c/AAAAAADIn0D2KFyPAiexwIiikQS4yfU/AAAAAADMn0DD9Shcjw6ywNDK3Ng1tPQ/AAAAAADQn0A5tMh2HmCzwKQFqa1kH/Q/AAAAAADUn0DXo3A9CuGAwNQPLTA0QvE/AAAAAADYn0DhehSuRy2AwOjHcMkdg+U/AAAAAADcn0CuR+F6FLp6wEgEylTs8u0/AAAAAADgn0D2KFyPwmVVwAC4+3kOCOM/AAAAAADkn0CWQ4ts53acwOgICBKY6+Y/AAAAAADon0AK16NwPYJywEDt2qnjxes/AAAAAADsn0BI4XoUrjt1wOghP8p8I+E/AAAAAADwn0Bcj8L1KJCLwFAIeI259Ow/AAAAAAD0n0BqvHSTGGyOwEjzAb+17uU/AAAAAAD4n0DD9Shcj+55QOCsMPOAxdU/AAAAAAD8n0BxPQrXozBXwCAhB/YwWtY/AAAAAAAAoECkcD0K19tswIhteGjoa+c/AAAAAAACoEAAAAAAAEBrwJR/QBp+ofY/AAAAAAAEoEDsUbgehUtwwI9SvqKDb9U/AAAAAAAGoEAK16NwPcZ1wKAxaSmXwOM/AAAAAAAIoEDsUbgehUt8wGBfBsKDtOM/AAAAAAAKoEAK16NwPRJ7wL9PZjs0N9s/AAAAAAAMoEAfhetRuAiAwN9qMMqQsdE/AAAAAAAOoECPwvUoXLtzwKCoyTI5d+U/AAAAAAAQoECPwvUoXNGAwFR19JvtFPE/AAAAAAASoEB7FK5H4dCLwKgEW3qnI+A/AAAAAAAUoEBmZmZmZmSPwAjNQUOqneY/AAAAAAAWoEBxPQrXo4KLwM8KtyYade0/AAAAAAAYoEBcj8L1KFB+wMjaRa7QHe4/AAAAAAAaoEAK16NwPZp1wNCXMXh9Luk/AAAAAAAcoEAzMzMzM1WCwND6Rwt+j9c/AAAAAAAeoECF61G4Hql7wH+2Tn5EJtY/AAAAAAAgoECkcD0K19N3wIDnqiD7Hd4/AAAAAAAioECF61G4HuVUwF9T9cMiSdc/AAAAAAAkoEAUrkfhetQ4wFB4sncb6dg/AAAAAAAmoEDhehSuRwFAQN/uhn2qSts/AAAAAAAooEAfhetRuDp1wOAykUhTvu0/AAAAAAAqoEDXo3A9CidkwGSCJNgyUfg/AAAAAAAsoEDNzMzMzOxOwLCaMuKzkuw/AAAAAAAuoECamZmZmcl3QCCSnG6to+c/AAAAAAAwoEAAAAAAAPBTwD5oBD60Ucg/AAAAAAAyoED2KFyPwk1lQIADwq16ytk/AAAAAAA0oEBxPQrXo7BswBj7cX2hX/I/AAAAAAA2oEApXI/C9bhYwEC/GwD0cuE/AAAAAAA4oECwcmiRbfqQwMArGuYvJ+M/AAAAAAA6oEBI4XoUrt9wwD+34oJ+UN4/AAAAAAA8oEAK16NwPdpkwH/ukCAZdNI/AAAAAAA+oEAAAAAAAOicwChDwHEI//Q/AAAAAABAoEA1XrpJDIuOQHwM+zzFvbe/AAAAAABCoEDXo3A9Cmd7wEn31JEQfO8/AAAAAABEoECuR+F6FFKHwHDLp816fOI/AAAAAABGoEAzMzMzMwWHwGgcHNEOC+E/AAAAAABIoEDNzMzMzIR5wMCytsGtUOA/AAAAAABKoED2KFyPwtl7QJCFEedAMuc/AAAAAABOoEAK16NwPdpwQMFdMhLJKvI/AAAAAABQoECuR+F6FN5QQKhcToR6Fec/AAAAAABSoEAK16NwPaKGwMjdPkHoe/A/AAAAAABUoECuR+F6FNCCwMWlj+ar2vM/AAAAAABWoEAK16NwPVyOwMBBsqcTqOY/AAAAAABYoEA9CtejcFV8wAgmBpv+JuM/AAAAAABaoEB7FK5H4WJtQCDff4koFdA/AAAAAABcoEAfhetRuPqWwCCt4uDfotk/AAAAAABeoECF61G4HjeAwBhwXfQUDfU/AAAAAABgoEAzMzMzMw9+wBB3Ddb2Q+I/AAAAAABioEBcj8L1KBxSwL9S8f4sS80/AAAAAABkoEDXo3A9CuGIQDDIrKDe5us/AAAAAABmoEAfhetRuM5dQCiiMgtZ3OA/AAAAAABooEDsUbgeheNmwEDxbLfuO+o/AAAAAABqoEDsUbgehYtFwI+gqnNVi9Y/AAAAAABsoECamZmZmZlAwIAD0u8Chc8/AAAAAABuoECuR+F6FK4DwNBM94mjmtI/AAAAAAByoEBI4XoUrpdbQCgESWgbTuA/AAAAAAB0oEAAAAAAAKRzwKjWKrmiR+A/AAAAAAB2oEAK16NwPeyCwBDk3rApPuw/AAAAAAB4oEAK16NwPYoiQH3R8J8BAMs/AAAAAAB6oEBcj8L1KGKRwHAsb4ZLleo/AAAAAAB8oEAfhetRuC5nQOj9vIxiZOQ/AAAAAAB+oEAfhetRuOZmQOC2nAoJGus/AAAAAACAoEDsUbgehStjQKAHd6WpR+Y/AAAAAACCoEBcj8L1KLxkwBCy3smDHuk/AAAAAACEoECF61G4HqOAQMAiyq3l3Ok/AAAAAACGoEAAAAAAAMhmQDCpmWQemOk/AAAAAACIoEBI4XoUrrN+QFBz3gZjHd0/AAAAAACKoEAzMzMzM4mBQJB1osZ+gec/AAAAAACMoECkcD0K1zNkQAh5RP8wM+k/AAAAAACOoED2KFyPwlmDwM8LObV9K90/AAAAAACQoECsHFpkO0d9QNDQ375X+Nk/AAAAAACSoEDsUbgehfN2wGgLuLXB9eI/AAAAAACUoEApXI/C9SgmwIDI7wg/uuY/AAAAAACWoEAfhetRuB5PQOUPlMGXbpk/AAAAAACYoEDLoUW28x6JwBCMd1wSEeY/AAAAAACaoEBmZmZmZuSRwCc83Kt0a+0/AAAAAACcoEBxPQrXo/BTQCBlVJurltc/AAAAAACeoECF61G4HuVXQHAfa+Xrgus/AAAAAACgoECWQ4ts5y+TwDALF2q1QOI/AAAAAACioEApXI/C9cyFQN6wBKg6aMa/AAAAAACkoEDD9Shcj3iDwOgTUtd5veM/AAAAAACooECuR+F6FCZpwDy/5uKMb7U/AAAAAACqoEBcj8L1KCRqwHC7EWzAM+E/AAAAAACsoEBxPQrXowBlQDF+CVnsWO4/AAAAAACuoEApXI/C9e6HwGiHwCNM0+k/AAAAAACwoEAAAAAAAAx6QOh07+75XuE/AAAAAACyoEAAAAAAgASiQEDhMuZMp8a/AAAAAAC0oECF61G4Hi1lQIBnqfdUk+A/AAAAAAC2oEAZBFYOLRIwQEDqqNhgFcA/AAAAAAC4oEDsUbgehYuhwOB07/786Nw/AAAAAAC6oEDhehSuR5WJQOidIaIe1OE/AAAAAAC8oECF61G4Ht17wFAjFt8Ya+w/AAAAAAC+oEDHSzeJ4UvDwDi0AHqB2/Y/AAAAAADAoEBSuB6Fa8SswNAv+ZJ6n+E/AAAAAADCoEArhxbZzt+ZQF9kRMsFjN0/AAAAAADEoECF61G4Hr1ywDCBJmP1IuI/AAAAAADGoEBxPQrXo2iQwIAXkppjjNo/AAAAAADIoEBxPQrXo+aCwI8NI7qm19E/AAAAAADKoEBSuB6F6/eNwGAkKGR2GOI/AAAAAADMoEAAAAAAANSNwGiSAWpwIOI/AAAAAADOoEApXI/C9ahDwIjobcEN/+0/AAAAAADQoEB7FK5H4TZ1wLD72xJBHu8/AAAAAADSoEDD9Shcjyp5wAiLBBBnWOE/AAAAAADUoEAzMzMzM7M2QH+0VuYaPMo/AAAAAADWoEDNzMzMzFRiQGCaYGUQguM/AAAAAADYoED2KFyPwhVCwJ8fp2VSodo/AAAAAADaoEBcj8L1KJiGwBBK8Zvt0Nk/AAAAAADcoEDD9Shcj/SGwLA0CLR0uug/AAAAAADeoECamZmZmamBwPBfgUCTKeI/AAAAAADgoECPwvUoXHd3wNAfIVWZhOY/AAAAAADioEBmZmZmZoCBwDT07Jn6/fE/AAAAAADkoEBcj8L1KKCAwMAPiuxh7PI/AAAAAADooEAZBFYOLRIwQKCjwdpjP9U/AAAAAADqoEB7FK5H4ZiIQEDpAENVL9Y/AAAAAADsoEDsUbgehf+OQOCtZU5EctM/AAAAAADuoEDXo3A9CiOAwKTA4w0XXPU/AAAAAADwoEAzMzMzM0tlQCR/OCAcgPQ/AAAAAADyoEBWDi2yne+CwAQ8s++W0PM/AAAAAAD0oEDhehSuR/mCwBS3BI88GfI/AAAAAAD2oEAzMzMzM1eEQASaVcU6PfA/AAAAAAD4oEBI4XoUrvWLQKBTo4S0iPI/AAAAAAD6oECkcD0K10d3wIBWBwpBkfY/AAAAAAD8oEA1XrpJDIuOQGDbYIj78+s/AAAAAAD+oEBqvHSTGCWFwLiuI6KXu/M/AAAAAAAAoUB7FK5H4RKDwNjbLrT1yvM/AAAAAAACoUD2KFyPwmF7wEhX45d17Oo/AAAAAAAEoUCF61G4Hl19wGg3k7Y4BO0/AAAAAAAGoUBxPQrXowOVQF/zFu2wyds/AAAAAAAIoUCuR+F6FCCEQPRVPqFQ85Y/AAAAAAAKoUAzMzMzMw2HwPARP0Eu+Oo/AAAAAAAMoUBcj8L1KPaJwKCqxTpteOY/AAAAAAAOoUAfhetRuGyHQO3Ds9TG8HI/AAAAAAAQoUDsUbgehbySwCUpHymNKfE/AAAAAAASoUCkcD0K1/qTQNDa/ikUq9I/AAAAAAAUoUAUrkfheqh5wCcxQNP6he4/AAAAAAAWoUAUrkfhehh4wHAaGYvX4+U/AAAAAAAYoUCamZmZmRWKQKAACQDPtdw/AAAAAAAaoUDD9Shcj45/wCSVK3R9Yvc/AAAAAAAcoUDXo3A9CiaSQCB390j1L9U/AAAAAAAeoUDsUbgehS9+wJQ8IMPtbvM/AAAAAAAgoUCamZmZmRlVwEARjPgPy+M/AAAAAAAioUCuR+F6FOJ3wCidc4iO6OQ/AAAAAAAkoUD2KFyPwh+HwCCeb670ku8/AAAAAAAmoUBmZmZmZneZQJ/GGkGAPds/AAAAAAAooUBWDi2ynSdSQBCUMcZJQeE/AAAAAAAqoUBxPQrXoxSNQNAejiNArOE/AAAAAAAsoUDsUbgehcWLwIgcfPHP++Y/AAAAAAAuoUDhehSuRz1yQL+YQh4Awdw/AAAAAAAwoUB7FK5H4WqSQJ+/q6lTsdk/AAAAAAAyoUBI4XoUri+HwCAsDzLvIPY/AAAAAAA0oUBI4XoUrhN7wCjlEKG47OI/AAAAAAA2oUB7FK5H4QyHQAARH9Y0oLW/AAAAAAA4oUBI4XoUrmt6wNDexSV2Z+A/AAAAAAA6oUBI4XoUrjdqwCANFe9X9uQ/AAAAAAA8oUAAAAAAANhsQJC73UUMbOM/AAAAAAA+oUDNzMzMzCxBwAjvZbeeZ+Y/AAAAAABAoUDXo3A9CidaQNC9UBWYytU/AAAAAABCoUD2KFyPwlVhwMBe4hd6wd0/AAAAAABEoUCPwvUoXNdgQJAjk6M6IuA/AAAAAABGoUCamZmZmfWCwGjuGYHj/eM/AAAAAABIoUCamZmZmQeIwHQRvN7BQPI/AAAAAABKoUApXI/C9ZSAwMAyAP3zqOU/AAAAAABMoUBcj8L1KCxqwChVAlMCTOE/AAAAAABOoUDhehSuR1+FQPsabpSsKLI/AAAAAABQoUA9CtejcFV8QGhyjqtsduY/AAAAAABSoUDhehSuR7OCwFg9XDePRPY/AAAAAABUoUApXI/C9WKKwMjOk/HN3+I/AAAAAABWoUA9CtejcBVuwLCb34+IeOg/AAAAAABYoUA9CtejcNVnwH6Wdxfp1MI/AAAAAABaoUBI4XoUru99QMDLF7Zis+4/AAAAAABcoUCF61G4HrF/QBD/Cwdo1+g/AAAAAABeoUBcj8L1KMRqQHQIEnRA6/M/AAAAAABgoUC4HoXrUWyPwBDNCZl93+s/AAAAAABioUAK16NwPfSOwKALIUsgcec/AAAAAABkoUBSuB6F63WNwMC3JCnY4dQ/AAAAAABmoUCamZmZmdWHwICsivScW9U/AAAAAABooUAUrkfhejKKwB5yfBd9FcY/AAAAAABqoUDXo3A9Ck99wD7DM58pQLk/AAAAAABsoUCamZmZmQGFwPDNXhTdDuI/AAAAAABuoUCamZmZmQWPwFAVKj6b7ek/AAAAAABwoUBmZmZmZsaEwAAqxEO9jNk/AAAAAAByoUCF61G4HrmPwOj/5knr7eQ/AAAAAAB0oUCkcD0K16GPwB1mMqUJOs4/AAAAAAB2oUCuR+F6FK4BQPAyj1fGK+Q/AAAAAAB4oUCF61G4Hl2OwCAXEq7ofdI/AAAAAAB6oUBI4XoUrhd9wICtv5e2cM8/AAAAAAB8oUAAAAAAABSCwJDBe9qXeOM/AAAAAAB+oUDD9Shcj+6NwPoocPcLoL0/AAAAAACAoUAUrkfhesCPwNCmqDDVj+Y/AAAAAACCoUCF61G4HsuNwB4C6tXAocI/AAAAAACEoUB7FK5H4fKOwEBNh2FO0dA/AAAAAACGoUAzMzMzM1mGwGC1LnyhWNU/AAAAAACIoUC4HoXrUVqNwH/dL8a1DsA/AAAAAACKoUC4HoXrUQx7QB8eBc9Wl8s/AAAAAACMoUBcj8L1KBwywDBdkIOaueA/AAAAAACQoUCamZmZmZldQP6P5st6sqM/AAAAAACSoUAAAAAAABhswNDTAJ4nmuA/AAAAAACUoUC4HoXrUQhnwF8KlMwFF9c/AAAAAACWoUCoxks3SRu7wMjl35LRMu4/AAAAAACYoUApXI/C9e6OwODForI0VdM/AAAAAACaoUAAAAAAAByOwH9ovA94XtA/AAAAAACcoUBxPQrXo1CNwH9VQTUSgN0/AAAAAACeoUBI4XoUrvWOwPA1KI6Mk+g/AAAAAACgoUBcj8L1KM6OwECDHcJ4ctw/AAAAAACioUBxPQrXozCNwPAFE1LAouM/AAAAAACkoUDXo3A9CrePwF/frMURo9o/AAAAAACmoUCuR+F6FGKKwD8N4BT/QdA/AAAAAACooUDhehSuR9uNwM8WQowJ/N4/AAAAAACqoUApXI/C9ZiPwJ8fShUPnNc/AAAAAACsoUCF61G4HquPwPQ1fpokjPE/AAAAAACuoUB7FK5H4aqMwD/XMVwZ/98/AAAAAACwoUCF61G4HtuMwI/luVvKaNg/AAAAAACyoUCPwvUoXJWPwNCV+W6VuNg/AAAAAAC0oUAfhetRuAyRwIRsUV7NwPg/AAAAAAC2oUD2KFyPwluNwJC5clDfkNw/AAAAAAC4oUCamZmZmR2OwNBVmzlNIeM/AAAAAAC6oUAfhetRuAKPwMg/n17SNeQ/AAAAAAC8oUCF61G4HuOLwEC1SeEgfNQ/AAAAAAC+oUCuR+F6FECWwJ/sTuia5Nc/AAAAAADAoUC4HoXrUahowB4AqOx1TsA/AAAAAADCoUBcj8L1KKaNwDDGZz3IpOw/AAAAAADEoUDhehSuR3GSwKB54A9bEO8/AAAAAADGoUCkcD0K1wuMwP2gTmEf+7o/AAAAAADIoUCamZmZmTmMwD7ZXwoozsI/AAAAAADKoUCuR+F6FIqLwIAGiocBGdA/AAAAAADMoUBSuB6F61WPwKjU064qv+o/AAAAAADOoUCPwvUoXAePwDB00HZkjeE/AAAAAADQoUAK16NwPXp5wFD5u4TiN+c/AAAAAADSoUAAAAAAAASOwF8IlIe1eds/AAAAAADUoUCF61G4Hm+OwBD5NtYPHeY/AAAAAADWoUAAAAAAgM7KwJWRseJox/c/AAAAAADYoUCF61G4HgF3QAAlxHLlwuM/AAAAAADaoUApXI/C9TBmQMC60rbpN+E/AAAAAADcoUDl0CLbefCpwDTWMtc3FvE/AAAAAADeoUCkcD0K1zNQwPRReKGIrqS/AAAAAADioUCuR+F6FPZ9wF9fHzL+T+4/AAAAAADkoUAK16NwPaJ7wACNYQorDOk/AAAAAADmoUCuR+F6FFKSwNBDVcKo8dk/AAAAAADooUDNzMzMzBxRwPx0KNWSwas/AAAAAADqoUDXo3A9Ch+IwL9akw+EFds/AAAAAADsoUApXI/C9bR4wJ+dxNPkQN8/AAAAAADuoUDfT42XbgiHQI+PukKSYd4/AAAAAADwoUB7FK5H4VyIwAhtNRW4KOA/AAAAAADyoUDjpZvEsLDLwHCGdfgn0fk/AAAAAAD0oUBI4XoUrruOwIg2rzSBYOM/AAAAAAD2oUBxPQrXo/BaQDFrIdWegvM/AAAAAAD4oUDVeOkmMYOUwKDk6kwVE+4/AAAAAAD6oUApXI/C9VKMwN8bZsV1ku8/AAAAAAD8oUApXI/C9ZhSwODYpED2huk/AAAAAAD+oUBSuB6F67WHwGAXA3m9qew/AAAAAAAAokDNzMzMzIyCwMBXm7yfh+Q/AAAAAAACokAUrkfheq2SwH5+RIItB7U/AAAAAAAEokCkcD0K1yNSQL/p2IOo2N0/AAAAAAAGokBcj8L1KFwVQB91z5PSHd8/AAAAAAAIokD2KFyPwqVkQJCoHJP0otM/AAAAAAAKokCamZmZmZkTwPzRg7WXkqE/AAAAAAAMokAfhetRuB5BwL9KSsu6x9s/AAAAAAAOokBcj8L1KGRvwPEDxhe7je8/AAAAAAAQokAfhetRuL5SQPkounyiqfo/AAAAAAASokBSuB6F62FbQOnbJEXQ5fM/AAAAAAAUokAUrkfheiRVQDARYXHD8Oc/AAAAAAAWokCPwvUoXM9ywN88rpWK+tA/AAAAAAAYokC4HoXrUcKJwCBNFfhK+No/AAAAAAAaokBcj8L1KPxxwGjUJMZ12eM/AAAAAAAcokDNzMzMzGxZwBBKFth3G+M/AAAAAAAeokCuR+F6FJZywETTu9Kh2vA/AAAAAAAgokA/NV66SU6PwMDgUs/zou0/AAAAAAAiokBI4XoUrt2AwD/ExkNjc9Y/AAAAAAAkokBmZmZmZmY3wGgYzfz9lec/AAAAAAAmokBxPQrXo+6DQIDIzZ2zxds/AAAAAAAookDhehSuR1lvwAjnN83DUuk/AAAAAAAqokAfhetRuB6IwLC16SasVe8/AAAAAAAsokAzMzMzMzeSQFBCL66g5d8/AAAAAAAuokAzMzMzM0tqwPCmCqu0WuA/AAAAAAAwokBI4XoUrgddQGBXRc5I9No/AAAAAAAyokBmZmZmZjJ+wN9FVbL29ew/AAAAAAA0okApXI/C9YhJQChOUXfB2OI/AAAAAAA2okC4HoXrURx6wIhDLnZRJug/AAAAAAA4okAK16NwPb52QKgzFyiSp+A/AAAAAAA6okA9CtejcCVtQE8GNSLMu+8/AAAAAAA8okBcj8L1KFSEwGg+wiDiHe4/AAAAAAA+okCF61G4HtV3wATGoDA0BfE/AAAAAABAokAK16NwPVJtwEg92XOmYvo/AAAAAABCokDhehSuZxbBwNhpDHTPNfk/AAAAAABEokAUrkfheo6GQACqC6rNEtY/AAAAAABGokAfhetRuC5xQM80ZUB3/94/AAAAAABIokDNzMzMzJxkQKCs6gD3R+Q/AAAAAABKokApXI/C9WCCwAjvE7AuNOg/AAAAAABMokCF61G4HpOEwMDMM0pDudQ/AAAAAABOokApXI/C9TqNwN9t2H4GrdY/AAAAAABQokBcj8L1KCh1wJAz58XhKOw/AAAAAABSokBxPQrXo7B7wKDD9eOcu+U/AAAAAABUokCamZmZmbeEwNPFYkzWtfU/AAAAAABWokBSuB6F60WSQBBbSwZqpeg/AAAAAABYokAK16NwPWqAwOBkz4ovye8/AAAAAABaokCuR+F6FOiBwGDJKJb9EOo/AAAAAABcokDhehSuZxbBwKQpB3flrPY/AAAAAABeokAUrkfheuaBwLiqBT1OZ/w/AAAAAABgokCF61G4nj2vwDB69XKOAuY/AAAAAABiokDNzMzMzPxswEiHA1oSE+c/AAAAAABkokCkcD0K1+NBwPlDhHwMbaK/AAAAAABmokA9CtejcP1mQNGjay+uDYm/AAAAAABookAzMzMzMxNeQHCoeunKPeM/AAAAAABqokBI4XoUrsdGwGjlh35NLeo/AAAAAABuokAK16NwPXKEQEDPcHWtMuA/AAAAAABwokCuR+F6FCZqwD+she8ORd0/AAAAAAByokCkcD0K1xmCwAprSOpxnQBAAAAAAAB0okDhehSuR3SXQAjlUzPRxuE/AAAAAAB2okAUrkfhemxkwI/XCu7r6dY/AAAAAAB4okCamZmZmciWQI8RadriMtc/AAAAAAB6okAK16NwPYpKQODhv1jrYOU/AAAAAAB8okDXo3A9CoGKwKBTskcrH9Y/AAAAAAB+okDhehSuRxF7wIBj5UpHwuY/AAAAAACAokBxPQrXoy6VwNCSvyh8EeA/AAAAAACCokDXo3A9ClcqQFDNB3URVeI/AAAAAACIokAUrkfheqaFQMCB2l/23bq/AAAAAACMokBcj8L1KMxcQMgdD+/llOA/AAAAAACOokAAAAAAAGh6wJD8C6pO0tU/AAAAAACQokBxPQrXowaLwDDo2tfZCOg/AAAAAACSokCF61G4HgWEwLDGoPidW+M/AAAAAACUokCamZmZmcV6wH7xITNkB8U/AAAAAACWokC4HoXrUbx0wLBr9FUSIeI/AAAAAACYokAzMzMzM4uLwA/QbzC1cNU/AAAAAACaokAK16NwPQpQQJiZ8Z6tMvQ/AAAAAACcokCkcD0K13mGwCDSWnYikeE/AAAAAACeokA1XrpJDD2iQLeuy4lIDPA/AAAAAACgokDLoUW2c4+5wOjcFwLjfek/AAAAAACiokBmZmZmZkqCwKkSKOfm3O0/AAAAAACkokBxPQrXoxSHQFAvVIisquI/AAAAAACookAfhetRuNqFwMjA+yub9uA/AAAAAACqokAK16NwPWSGwPBdsnK+Qew/AAAAAACsokBcj8L1KFaKwA9q9m8X1N4/AAAAAACuokBmZmZmZjWowH8BZyAZp+4/AAAAAACwokCwcmiRbRSlwFB+yst2heY/AAAAAACyokBxPQrXo9BKwNAB8iWWEdo/AAAAAAC0okDhehSux8SmwAfIgR4HjvE/AAAAAAC2okDXo3A9CjypwAA/GrT1F/c/AAAAAAC4okDhehSux+imwB+XWwtZv+4/AAAAAAC6okDXo3A9Cs2dwOizdBnrj+M/AAAAAAC8okCuR+F6FPCHwICSW7u4wt4/AAAAAAC+okDVeOkmMZGKQD6NCSRK78A/AAAAAADAokCF61G4nv2YQP2PLHx5RsQ/AAAAAADGokAAAAAAgKKswBBXENteAe0/AAAAAADKokD2KFyPwo2owNBlajLKufU/AAAAAADMokBxPQrXo5x2wEB3dYZRt+k/AAAAAADOokAzMzMzM+mMQN96NOCn7d4/AAAAAADQokBcj8L1KNCJwPBBEUOxu+Q/AAAAAADWokDhehSuR+EjQIDlAGRW6NY/AAAAAADYokDD9Shcj16DwGBM0R9pIek/AAAAAADaokDsUbgehWuKwAgEE30Tt+g/AAAAAADcokDD9Shcj/iAwBD13U2hnec/AAAAAADeokCamZmZmQ2CwIApgx0j9ec/AAAAAADgokC4HoXrUbgIQMiI1eq4jOc/AAAAAADiokBU46WbJHjLwFku2ao+y/c/AAAAAADkokCDwMqhRTJjwNjVE8ySqvw/AAAAAADmokDLoUW2896iwPTp93u0zfo/AAAAAADookAK16NwPaZ3QGD/sROM6e8/AAAAAADqokD2KFyPwmmJwPBFD7sEHec/AAAAAADsokCamZmZmYGBwEABSsRmNe8/AAAAAADuokA9CtejcJWIwKAZLaJESOc/AAAAAADwokBxPQrXowiGwKjk6tE/cew/AAAAAADyokBI4XoUrmGGwAcDKTFtJO0/AAAAAAD0okAUrkfhemiBwEixLWJ2iuQ/AAAAAAD4okAAAAAAAGiAQNUPqYmANvc/AAAAAAD6okD2KFyPwlVKQHjnita1ZaC/AAAAAAD8okDsUbgehaNgQP/SEEBWurE/AAAAAAD+okAAAAAAAOqQwBFXCYjvfvQ/AAAAAAAAo0CPwvUoXGuHwM/oGYSpAdk/AAAAAAACo0C4HoXrUcGRwJ9kuJRj3dU/AAAAAAAEo0CkcD0K18SQwGiFjvvdMOE/AAAAAAAGo0AAAAAAAOxxQP2FDSQFGbc/AAAAAAAIo0C4HoXrUfhkwJ9nPTbM/8k/AAAAAAAKo0D2KFyPwr1wQCBEDGjiBdw/AAAAAAAMo0DNzMzMzAxUwOBq/XbyceY/AAAAAAAOo0ApXI/C9WhOwODT43KMguc/AAAAAAAQo0B7FK5H4SSaQKDU7C2KIuM/AAAAAAASo0DhehSuRyOPwHDISf/d2eI/AAAAAAAUo0Bcj8L1KKiMwA8Fbk4Tk9U/AAAAAAAWo0A1XrpJDH2YwFDlcTCXH+k/AAAAAAAYo0DNzMzMzNxUQJ9lmwMQ3dI/AAAAAAAao0AK16NwPUyFwFAMwHOCkuQ/AAAAAAAco0AzMzMzM/2PwCAgSPpL2ug/AAAAAAAeo0BI4XoUrjt3wAhqeYlDpvU/AAAAAAAgo0BxPQrXo8iFwAioNyiwLeY/AAAAAAAio0AUrkfheoB6QCA+vSMoQN4/AAAAAAAko0A9CtejcJVlQJCDAqV5ltk/AAAAAAAmo0AzMzMzM5OHQCDUMeX8I9Q/AAAAAAAoo0AUrkfhehQUQMC05Vc4ROU/AAAAAAAqo0Dl0CLb+bzDwBSahbiIEvI/AAAAAAAuo0CkcD0K1/OLwMAAAB239NA/AAAAAAAwo0BxPQrXo3iMwMj1eToc4eI/AAAAAAAyo0AzMzMzM0d0QP+4gZBHvLG/AAAAAAA0o0CamZmZmaeIwP76gk2BCLs/AAAAAAA2o0DsUbgehW+AwEAj0k+BBsI/AAAAAAA4o0CkcD0K1+tsQFAXFWaoOes/AAAAAAA6o0AUrkfheniDQHk4D6moP7U/AAAAAAA8o0BmZmZmZo56QDABHxaKxug/AAAAAAA+o0BxPQrXo5KJQHyr5/+Qw7m/AAAAAABAo0D4U+Ol222iwAitU38OF+k/AAAAAABCo0AfhetRuH+UwEB7OG4zEu0/AAAAAABEo0BSuB6F6113wIQHbBE27vE/AAAAAABGo0ApXI/C9eB3wCAV/T+W7+I/AAAAAABIo0ApXI/CdUipwAR43UngaPM/AAAAAABKo0CPwvUoXGGpwFBox38HEvA/AAAAAABMo0AAAAAAAKKDwNQy2dpc7PA/AAAAAABOo0CPwvUoXH+awMAXok1wzeY/AAAAAABQo0CamZmZGUyswIC5dR0AGfs/AAAAAABSo0BmZmZmZu54wGikRkgZcO0/AAAAAABUo0BxPQrXo+BewJCj/nvgTtc/AAAAAABWo0AfhetRuISEwD/Z/+EsrN8/AAAAAABao0DNzMzMzEqGwKDYF+g6T+w/AAAAAABco0AzMzMzM0NkwPCUBoRsI+M/AAAAAABeo0CamZmZmZkBQH/aLgsVXdA/AAAAAABgo0AAAAAAAEBTwCAVz9fnXsE/AAAAAABio0DNzMzMzOSQwADvipCS5us/AAAAAABko0BxPQrXo/KBQKCRZkYwI9o/AAAAAABmo0Bcj8L1KGSRQODJYvL8qtU/AAAAAABoo0Bcj8L1KIyPQNLhYUWJaYs/AAAAAABqo0AfhetRuB4NwDjXFiSag/I/AAAAAABso0B/arx0k+hwQN8m9wYBEtE/AAAAAABuo0A/NV66Sdx4QKDrpu4RssM/AAAAAABwo0AK16NwPXpVQNBvZhPPfuE/AAAAAAByo0DD9Shcj/JzQCBsPK0U/Oo/AAAAAAB0o0D2KFyPwgmDQL5M8uG2hMe/AAAAAAB2o0B7FK5H4bpZQEATCF9ex9Y/AAAAAAB4o0CamZmZmRkowD70Xm42ccU/AAAAAAB6o0AUrkfheoxrwIA4Gqj/rNc/AAAAAAB8o0B7FK5H4c+VQABojMVPS94/AAAAAAB+o0ApXI/C9chnwIAph6H7tOs/AAAAAACAo0BxPQrXo3AjwOi8ps5H4+I/AAAAAACCo0BmZmZmZjaCwMBw8IBO/Pk/AAAAAACEo0DhehSuRyCQwCh+tDjE9vQ/AAAAAACGo0Bcj8L1KDR7QGA5ZIU+PuM/AAAAAACIo0AZBFYOLRIwQOC4jnADDNQ/AAAAAACKo0AUrkfherKCwChegxLdOuI/AAAAAACMo0AK16NwPdiFwI/n8lTTytg/AAAAAACOo0D2KFyPwtFwwJA0eMgIeOc/AAAAAACQo0C4HoXrUQB6wAjkMjRBSeQ/AAAAAACSo0Bcj8L1KIB9wCAwmjxOh+w/AAAAAACUo0Bcj8L1KHB5QKjH7NuZDuI/AAAAAACWo0AAAAAAADBkwN+/rWQmT9Q/AAAAAACYo0BmZmZmZu5pwNATGiYbwec/AAAAAACao0AUrkfhejh7wMByp3eiUd0/AAAAAACco0CamZmZmbGDwHCmWQiboOI/AAAAAACeo0DsUbgehetiwJBP6YbHluE/AAAAAACgo0AUrkfhepRuQOAW/iMafuI/AAAAAACio0D2KFyPwu2CQMisQKyKrOg/AAAAAACko0DhehSuR7FUwFDty1Yh/OY/AAAAAACmo0CF61G4HoVRwChfWszK2uI/AAAAAACoo0AUrkfhenxqwNC7XwbDKuE/AAAAAACqo0AAAAAAALSEwKjfzb/bxuI/AAAAAACso0DsUbgehYeQwKQJ4xxUaPA/AAAAAACuo0Bcj8L1KDx1QOC6se3NROA/AAAAAACwo0DD9Shcj9JqwBAT9GFjmds/AAAAAACyo0CF61G4HpV9wKDcH3l0tuw/AAAAAAC0o0A9CtejcOVxwCCPXuaR6eU/AAAAAAC2o0C4HoXrUfBiwGDlkFviS+Y/AAAAAAC4o0DXo3A9CqdmwN/TeCS5V9s/AAAAAAC6o0A9CtejcH1twMgVjLfIjuo/AAAAAAC8o0AUrkfhenxxwEDhDejrzNQ/AAAAAAC+o0AAAAAAAEqGQH0WT6BgK7K/AAAAAADAo0DNzMzMzOxhwB85g6GIddI/AAAAAADCo0B7FK5H4dyTwJHed3L0K+8/AAAAAADEo0DsUbgehRGRwIiMdOLSJus/AAAAAADGo0Bcj8L1KPmRwEAi/xUwOvU/AAAAAADIo0DXo3A9ChGMwK+1mAzNs/Q/AAAAAADKo0DhehSuR5mUwKByKX5V+e4/AAAAAADMo0CamZmZmeGLwKRMHpPo0/E/AAAAAADOo0DNzMzMzMuQwGgsV/goxvE/AAAAAADQo0AK16NwPfeQwDQ+Qvr1ovA/AAAAAADSo0AfhetRuBiSwOgvSCP6wfA/AAAAAADUo0ApXI/C9VSLwEA4z/gHg/Q/AAAAAADWo0DNzMzMzGmUwLTtBzD1//I/AAAAAADYo0DhehSuR/aSwMgiCPYlH/A/AAAAAADao0D2KFyPwgeCwPAaEqVUDOs/AAAAAADco0C4HoXrURhKwP+tVpea3e0/AAAAAADeo0AUrkfhetaJwEAc1CPBi+g/AAAAAADgo0DXo3A9Cn2LwDGYaY73hvE/AAAAAADmo0DD9Shcj4qFQMAKEzxoFcg/AAAAAADoo0BSuB6F67FNQGBY8AE9o+Y/AAAAAADqo0CkcD0K12thQIjyb3TwV+w/AAAAAADso0A9CtejcLWDwDTPkc33UvA/AAAAAADuo0Bcj8L1KBKLwNBB3MFIa+U/AAAAAADwo0B7FK5H4fKGwBCFc9UD2+s/AAAAAADyo0CuR+F6FGaPwAAOq7F8q+A/AAAAAAD0o0AfhetRuISPwPCrX/7YcuA/AAAAAAD2o0A9CtejcF2MwODuY3mrXuA/AAAAAAD4o0AUrkfheqKQwHBfLGlGCOQ/AAAAAAD6o0Bcj8L1KKyNwCBQNgeQe+E/AAAAAAD8o0CamZmZmTmNwJ/ZdptT5Nw/AAAAAAD+o0Dl0CLb+UylwODe631UxfA/AAAAAAACpEAAAAAAAPKOwCjHss/xnOI/AAAAAAAEpEAfhetRuGpxwEhVlzuGPOw/AAAAAAAGpECamZmZmflkwGAE3QZ95uA/AAAAAAAIpEDD9Shcj5puwEgJZnmYd+o/AAAAAAAKpEBxPQrXo+eRwAnS21buwfI/AAAAAAAMpEDsUbgehW+IwL8lKpHvoNY/AAAAAAAOpEBcj8L1KO6BwKB44Eau3uU/AAAAAAAQpEBcj8L1KKORwLBaK3qmUfk/AAAAAAASpED2KFyPwjOCwBiImyRyWPQ/AAAAAAAUpEBmZmZmZuqJwOis6QAJGus/AAAAAAAWpECuR+F6FO5EwECOxofliOA/AAAAAAAYpECF61G4HvVmQECMqXyqN+E/AAAAAAAapEBmZmZmZoZCwOBgksf5e9k/AAAAAAAcpECuR+F6FG5dQNEx+8pMUu4/AAAAAAAepEAfhetRuIyFwDANQimFiuw/AAAAAAAgpEAAAAAAAHSDwMi1IWx7puw/AAAAAAAipECuR+F6FD5hwLCiIYaQduQ/AAAAAAAkpEC4HoXrUdSBwCj7gosnVu4/AAAAAAAmpEDhehSuR6FAQB/zO6xVCd0/AAAAAAAopEDhehSuRyE3QFBNaQ27z9Q/AAAAAAAqpEDD9Shcj3p0wADhb6fScM0/AAAAAAAspECkcD0K102EQJ+q6VuqqdA/AAAAAAAupEAAAAAAAGRyQCDxUEEkZdg/AAAAAAAwpEB7FK5H4c5+wBCFx6D9wuE/AAAAAAAypEBcj8L1KNR7QEA90d7L0uM/AAAAAAA0pEAX2c73U3F0QFA/u4h8Fdc/AAAAAAA2pECuR+F6FKaBwKDsLFyEkuM/AAAAAAA4pED2KFyPwteBwOCdwlA9+9w/AAAAAAA6pEDByqFFtqeMwAkegz289e0/AAAAAAA8pECoxks3iUFYwFDflUALddQ/AAAAAAA+pEDNzMzMzAR1QH/7DKPP1+w/AAAAAABApECamZmZmSFqwADi/DVm1Ns/AAAAAABCpEBxPQrXo+CHQDAt+z6Oc+M/AAAAAABGpEDNzMzMzDKBwMhu7mjFfuI/AAAAAABIpEBxPQrXo62TwAjV6i/F/+M/AAAAAABKpEBSuB6F6/mAwOA3g9ewD9k/AAAAAABMpEBSuB6F60uCQL1Vbcymtc8/AAAAAABOpEDD9Shcj8iBwGDRhN0S3dc/AAAAAABQpEBxPQrXo4yIwFCOVoqslOA/AAAAAABSpEDsUbgehTd5wGBOJVV9fuQ/AAAAAABUpEApXI/C9XhoQCQFQtZGc/Q/AAAAAABWpECamZmZmemEQN+XRHmzgNE/AAAAAABYpEDD9Shcj5puwIRSMwPKBvA/AAAAAABapECuR+F6FPp5QIAMnDOFPeo/AAAAAABcpEBSuB6F61lwQNDrmWCnDec/AAAAAABepECPwvUoXB9wQGjlIZ5mTuU/AAAAAABgpED2KFyPwtKSwCCaxVqxo+M/AAAAAABipEAIrBxapGSowDABanzXeO8/AAAAAABkpEC4HoXrUWRxQNCj/6G+i9U/AAAAAABmpED2KFyPwiVUwH470034r8U/AAAAAABopEAUrkfheoBzQNBXAwxLMuw/AAAAAABqpECamZmZmX1zQE8JU5p3jt8/AAAAAABspEBxPQrXo8hwwDA4R2T9MOo/AAAAAABupED2KFyPwlVAwJAfq2q86Nc/AAAAAABwpEAK16NwPXKHQL+vqCPk0HW/AAAAAABypEAAAAAAADBRQGDDbzdqe+k/AAAAAAB0pEDXo3A9CouMQH3XSPa8J7Y/AAAAAAB2pEC+nxov3YJ7QB9vJhKWRN4/AAAAAAB4pEBcj8L1KBRmQMi8XAdfKeI/AAAAAAB6pEA9CtejcAODQGCpKq+bH8K/AAAAAAB8pEAfhetRuPqBQL0ck9S++cs/AAAAAAB+pEDVeOkmMUqBQEAOgZ2aHr0/AAAAAACApEBI4XoUrscgQCDJ9Y6GY+o/AAAAAACCpEAK16NwPY5yQGCCCUSJVeA/AAAAAACEpEDhehSuR8FWQIDu5QtW8vM/AAAAAACGpEAzMzMzMy92QA8lL18tj9s/AAAAAACIpEBSuB6F6713QEBGfmVeIOA/AAAAAACKpEBSuB6F66lgQACJ3En4l+s/AAAAAACMpEDNzMzMzPxkQGCfDenFbdg/AAAAAACOpEApXI/C9UKAQF8VaVjiUNE/AAAAAACQpEBSuB6F6/15QJ6I6GJ0VM8/AAAAAACSpECkcD0K13eHQAD75ZWHlry/AAAAAACUpEAfhetRuASMQL4cXVSoscG/AAAAAACWpECamZmZmdWIQP/4KX1Fa8o/AAAAAACYpEDNzMzMzDx6QA9mrxtTA9Q/AAAAAACapEBcj8L1KB6PQPq/SnNUZK2/AAAAAACcpEAfhetRuFqBQE8l+FtxVd8/AAAAAACepED2KFyPwkmJQLySFlIL3rK/AAAAAACgpEAK16NwPTSDQJ/UJfTptMg/AAAAAACipEAhsHJokQ6DQH6SeGBFRrS/AAAAAACkpEB7FK5H4YqLQPvEDZWtI74/AAAAAACmpEDNzMzMzPRkQNAa0DKTxuY/AAAAAACopECamZmZmZkQwA93ISefZe0/AAAAAACqpEA9CtejcD3+v59zb78STdk/AAAAAACspEDD9Shcj8JHwAik0X4R2OU/AAAAAACupEDsUbgehWsowFgqA+20XgFAAAAAAACwpEAAAAAAAGh1QN92+BVPytU/AAAAAAC0pEAUrkfheoqDQPX1aYyRlaa/AAAAAAC2pEAAAAAAAPBRwDD/sglNh+U/AAAAAAC4pEDNzMzMzJB7QAADbqRJMuQ/AAAAAAC6pEBcj8L1KKRgQPQyq7Z/NvE/AAAAAAC8pEApXI/C9RxwQPA0h9kJNeU/AAAAAAC+pEApXI/C9fhRQIBsRaMbb+I/AAAAAADApEBmZmZmZoqDQP8yUl8YzLC/AAAAAADCpEB7FK5H4VCBQACb21w+29M/AAAAAADEpEApXI/C9ahNQOACg6KviuM/AAAAAADGpECPwvUoXO9SQP6hdY0YXsA/AAAAAADIpEDD9ShcjwZ+QF/1ASCH1Nc/AAAAAADKpEDXo3A9Cj9hQKCrCmkyCeA/AAAAAADMpECPwvUoXC9sQOgxENckIuQ/AAAAAADOpECuR+F6FIJ8QABNZE2O5MQ/AAAAAADQpEAAAAAAAMBbQB8ULOsYIdc/AAAAAADSpEDNzMzMzFx6QI/K9oby7dg/AAAAAADUpEAzMzMzMz+MQLzCB5Hx7b6/AAAAAADWpEBxPQrXo9BRQOhyFS8+2OI/AAAAAADYpEDsUbgehYtFQAiJku/wV+M/AAAAAADapEC4HoXrUaqBQKCSQDUgbdA/AAAAAADcpEAAAAAAAPBQQFByO8vSRtA/AAAAAADepEAK16NwPVpWQKgY6sa3Vuk/AAAAAADgpEDD9Shcj+prQD+59U2kJt4/AAAAAADipEAUrkfherhwwMDR3KcortQ/AAAAAADkpEB7FK5H4cpkQHCjBdaTdOw/AAAAAADmpEArhxbZzgWcwPDTaJ3nCeM/AAAAAADopEDhehSuR/FwwFAIKO8oeOs/AAAAAADqpEApXI/C9ZB6wP+0xl5hNfA/AAAAAADspED2KFyPwjeNQJPHvBHO7Wo/AAAAAADwpECPwvUoXI8VwH+4cJNhR7A/AAAAAADypECuR+F6FAiJQA8/uScBc9I/AAAAAAD0pEB7FK5H4fpWwIDEdLhGgdg/AAAAAAD2pEB7FK5H4UpXQMBf0DRSot0/AAAAAAD4pECuR+F6FM5nwCj4oo/lpuc/AAAAAAD6pECkcD0K1yNtwM8fFvNLCdM/AAAAAAD8pECuR+F6FM5twABN1CNNe90/AAAAAAD+pEBmZmZmZpZXQD6YzD/jYcg/AAAAAAAApUCkcD0K15dzwCDRo+5P188/AAAAAAACpUBxPQrXo8yBwKQQsTAOSvE/AAAAAAAEpUAhsHJokVqHwFhMXB6h7vA/AAAAAAAGpUBSuB6F6zGIwH91QG5J5Lo/AAAAAAAIpUAK16NwPUpOQH9YjjWbEM0/AAAAAAAKpUCF61G4nv2YQBASuJpqF+U/AAAAAAAMpUBcj8L1KARoQE+8vdfNhtA/AAAAAAAOpUApXI/C9axyQKCR+M5L6uo/AAAAAAAQpUDNzMzMzOxMwL8YlD1LwNg/AAAAAAAUpUBcj8L1KHBxwN/zSBMyKNk/AAAAAAAWpUAzMzMzM3tqwFDaCOO8zeI/AAAAAAAYpUC4HoXrUZhowJBLA4JoItY/AAAAAAAapUBmZmZmZiJ1wOBQRs3mUdU/AAAAAAAcpUAAAAAAgASiQP9FSTlxGbW/AAAAAAAepUB/arx0k+hwQOHOIWSJ1e4/AAAAAAAgpUBI4XoUrjmJwGgCdKNQxfs/AAAAAAAipUC4HoXrUb6LQKh3+Yo/zug/AAAAAAAkpUDD9Shcj5SJQDw3fXlLT78/AAAAAAAmpUAzMzMzMzP3v/6skSFY2sQ/AAAAAAAopUBSuB6F61EcQMAk59hT4N0/AAAAAAAqpUDsUbgehZ2KQB9rMLFfcco/AAAAAAAspUBI4XoUrodIQIBHI1YSMN0/AAAAAAAupUApXI/C9bWYQPrvvbargbo/AAAAAAAwpUAK16NwPVpoQODnhJiOFts/AAAAAAAypUC4HoXrUXBtQB+5Uj/PkdE/AAAAAAA0pUAK16NwPQJ7wIBRBGLnd+o/AAAAAAA2pUDhehSuR82HwBBH4rxl8/Q/AAAAAAA4pUBSuB6F67+HwOi2tfFS+es/AAAAAAA6pUArhxbZztGDwMB/oFJUkuY/AAAAAAA8pUBmZmZmZo6OwAgzrO7eOvY/AAAAAAA+pUDByqFFtqeMwMA2QzMqtug/AAAAAABApUBmZmZmZmYvQHBOtz/Q9e8/AAAAAABCpUCamZmZmaOLwJDpyjA7Wuw/AAAAAABEpUDXo3A9Cid3QDA2Itd/M+Q/AAAAAABGpUCkcD0K11NgwNBljs+iy+c/AAAAAABIpUC4HoXrUbgtwP6dq7wI1MC/AAAAAABKpUBmZmZmZk58wOgi4vofnuo/AAAAAABMpUBmZmZmZmY6QKcwTm6aTe4/AAAAAABOpUDD9Shcj9JXwKDw/DzwrN4/AAAAAABSpUApXI/C9biWQDAR0hpW8+Y/AAAAAABUpUBxPQrXo1BowKgCEtOlmuQ/AAAAAABWpUBqvHSTGBKUwGj3q0jn1ec/AAAAAABYpUCPwvUoXI8ZwCBqoNI4qOg/AAAAAABapUBI4XoUrlt2wIB9RiIBS+U/AAAAAABcpUDsUbgehfGDQCCqnHYJQeQ/AAAAAABepUApXI/C9eKMwEAINdgECeU/AAAAAABgpUAzMzMzMzuIQJDVr6j5f98/AAAAAABipUAUrkfhesRcwFDARJxXxOo/AAAAAABkpUC4HoXrURhAwGB7T8J7t+Q/AAAAAABmpUAfhetRuEZ/wCh7i/8EZeM/AAAAAABopUDsUbgehceEQFCws/msxuE/AAAAAABqpUDByqFFtluIQBBIGAcD7dM/AAAAAABspUDNzMzMzJyCQODKAlxV+ts/AAAAAABupUBSuB6F6+ODQHA7g52fAOg/AAAAAABwpUDhehSuRw6QQBDNXg8NAOI/AAAAAABypUCuR+F6FJyGQJCzzJ9X9tc/AAAAAAB0pUA9CtejcFeIQECjrQPFw+U/AAAAAAB2pUCPwvUoXPdowGg/mTrpt+w/AAAAAAB4pUAUrkfheh6GQADdm6zVRuI/AAAAAAB6pUCamZmZmWGQQOA457YnUNE/AAAAAAB8pUCkcD0K1/d6QFAMZF3QZeY/AAAAAAB+pUDhehSuR3mDQBBlSdINX+E/AAAAAACApUA9CtejcFWLQPAjVBYucuU/AAAAAACCpUBxPQrXo4yCQHDIzY3speM/AAAAAACEpUD2KFyPwlGYQLCqWuobnuY/AAAAAACGpUD2KFyPwqOHQN98QUF8VtY/AAAAAACIpUAK16NwPZ6DQIAV4R4yNN0/AAAAAACKpUBSuB6F682LQNDlJpGkI9Q/AAAAAACMpUDsUbgehb2NQEDsqa9C4+M/AAAAAACOpUDVeOkmMbx3wFTOmTZQN/E/AAAAAACSpUCkcD0K1+94wJBAu1tp/dI/AAAAAACUpUDXo3A9Cu9lwN9v4ATsGN4/AAAAAACWpUAfhetRuB5YwKgQE1iGQeY/AAAAAACYpUBSuB6F6xuIQOi1bv6vteA/AAAAAACapUA9CtejcL0kQPobmxBEYaK/AAAAAACcpUC4HoXrUShhwJ+gYP/Om84/AAAAAACepUCPwvUoXLGNQCAz5/Oc4dw/AAAAAACgpUAAAAAAAICEQE/ZldIp89w/AAAAAACipUCuR+F6FPCMQH8i25HDQNQ/AAAAAACkpUBg5dAi26iNQGBE17Vzttw/AAAAAACmpUDsUbgehb2AQPA/h8XjoOM/AAAAAACopUAUrkfhesCEQPYX16LefaK/AAAAAACspUB7FK5H4TaBQNCYjI/bQec/AAAAAACupUCPwvUoXO9iQNDe/nt2MuI/AAAAAACwpUAUrkfhejRmQPBRaxWCbO4/AAAAAACypUCF61G4HoU4QDBBjHrCNOc/AAAAAAC0pUBxPQrXozBrQGDe7Zexr+o/AAAAAAC2pUCF61G4HgGPQN8ZxbLmbdc/AAAAAAC4pUDhehSuR9ydwFjWEAKcVQFAAAAAAAC6pUA9CtejcFuBwHCjnjV9RPA/AAAAAAC8pUCNl24Swwm0wJSyA/txVvE/AAAAAAC+pUAj2/l+qnigQH/bVNBRL9Q/AAAAAADApUCPwvUoXISwwHGaPf49Ce0/AAAAAADCpUCuR+F6FDyUwMfAKWedNO8/AAAAAADEpUDD9ShcD+CgwPCcs4yH/uk/AAAAAADGpUAUrkfhelyewIhU4Atgg/c/AAAAAADIpUB7FK5H4ZyXwBQRUmcj3/I/AAAAAADKpUB7FK5H4RaDwHAPbv6uw+I/AAAAAADMpUD2KFyPwnGtwDgVii40XvQ/AAAAAADOpUAzMzMzMzMLQEiWDxliYug/AAAAAADQpUBxPQrXo6BTwHBl0J/EGuk/AAAAAADSpUAK16NwPYo7wKRXDLYgavU/AAAAAADUpUDhehSuR/FpQFCbpiwxfeQ/AAAAAADWpUCF61G4HqF1wHA5YTRDSeM/",
          "dtype": "f8",
          "shape": "766, 3"
         },
         "hovertemplate": "<b>Earthquake: %{customdata[0]}</b><br>Source Lon: %{x:.3f}<br>Source Lat: %{y:.3f}<br>Source Elev (m): %{customdata[1]:.3f}<br>Magnitude: %{customdata[2]:.3f}<br><extra></extra>",
         "legendgroup": "",
         "marker": {
          "color": {
           "bdata": "ZmZmZmZKi0A9CtejcKuTwKRwPQrXWJXACtejcD0YkMAK16NwPZJwQClcj8L1SF5AXI/C9SgcW0AUrkfhepR4QB+F61G4jnJA16NwPQrHYUBxPQrXozB5QOF6FK5HEXhA4XoUrkcFcECamZmZmelnQOF6FK5HYW/AAAAAAABogECuR+F6FGZpwAAAAAAAuHDAUrgehesRXUDXo3A9CndzwCGwcmiRVYxACtejcD1tj0BWDi2ynQt/QBsv3SSGsprACtejcD0efMAAAAAAAGx9wB+F61G4cnzAPQrXozCqusAbL90khoyYQJqZmZmZ14PA9ihcj8I1a8CuR+F6FIJ2wBSuR+E6m7HA9ihcjwInscDD9Shcjw6ywDm0yHYeYLPA16NwPQrhgMDhehSuRy2AwK5H4XoUunrA9ihcj8JlVcCWQ4ts53acwArXo3A9gnLASOF6FK47dcBcj8L1KJCLwGq8dJMYbI7Aw/UoXI/ueUBxPQrXozBXwKRwPQrX22zAAAAAAABAa8DsUbgehUtwwArXo3A9xnXA7FG4HoVLfMAK16NwPRJ7wB+F61G4CIDAj8L1KFy7c8CPwvUoXNGAwHsUrkfh0IvAZmZmZmZkj8BxPQrXo4KLwFyPwvUoUH7ACtejcD2adcAzMzMzM1WCwIXrUbgeqXvApHA9CtfTd8CF61G4HuVUwBSuR+F61DjA4XoUrkcBQEAfhetRuDp1wNejcD0KJ2TAzczMzMzsTsCamZmZmcl3QAAAAAAA8FPA9ihcj8JNZUBxPQrXo7BswClcj8L1uFjAsHJokW36kMBI4XoUrt9wwArXo3A92mTAAAAAAADonMA1XrpJDIuOQNejcD0KZ3vArkfhehRSh8AzMzMzMwWHwM3MzMzMhHnA9ihcj8LZe0AK16NwPdpwQK5H4XoU3lBACtejcD2ihsCuR+F6FNCCwArXo3A9XI7APQrXo3BVfMB7FK5H4WJtQB+F61G4+pbAhetRuB43gMAzMzMzMw9+wFyPwvUoHFLA16NwPQrhiEAfhetRuM5dQOxRuB6F42bA7FG4HoWLRcCamZmZmZlAwK5H4XoUrgPASOF6FK6XW0AAAAAAAKRzwArXo3A97ILACtejcD2KIkBcj8L1KGKRwB+F61G4LmdAH4XrUbjmZkDsUbgehStjQFyPwvUovGTAhetRuB6jgEAAAAAAAMhmQEjhehSus35AMzMzMzOJgUCkcD0K1zNkQPYoXI/CWYPArBxaZDtHfUDsUbgehfN2wClcj8L1KCbAH4XrUbgeT0DLoUW28x6JwGZmZmZm5JHAcT0K16PwU0CF61G4HuVXQJZDi2znL5PAKVyPwvXMhUDD9Shcj3iDwK5H4XoUJmnAXI/C9SgkasBxPQrXowBlQClcj8L17ofAAAAAAAAMekAAAAAAgASiQIXrUbgeLWVAGQRWDi0SMEDsUbgehYuhwOF6FK5HlYlAhetRuB7de8DHSzeJ4UvDwFK4HoVrxKzAK4cW2c7fmUCF61G4Hr1ywHE9CtejaJDAcT0K16PmgsBSuB6F6/eNwAAAAAAA1I3AKVyPwvWoQ8B7FK5H4TZ1wMP1KFyPKnnAMzMzMzOzNkDNzMzMzFRiQPYoXI/CFULAXI/C9SiYhsDD9Shcj/SGwJqZmZmZqYHAj8L1KFx3d8BmZmZmZoCBwFyPwvUooIDAGQRWDi0SMEB7FK5H4ZiIQOxRuB6F/45A16NwPQojgMAzMzMzM0tlQFYOLbKd74LA4XoUrkf5gsAzMzMzM1eEQEjhehSu9YtApHA9CtdHd8A1XrpJDIuOQGq8dJMYJYXAexSuR+ESg8D2KFyPwmF7wIXrUbgeXX3AcT0K16MDlUCuR+F6FCCEQDMzMzMzDYfAXI/C9Sj2icAfhetRuGyHQOxRuB6FvJLApHA9Ctf6k0AUrkfheqh5wBSuR+F6GHjAmpmZmZkVikDD9Shcj45/wNejcD0KJpJA7FG4HoUvfsCamZmZmRlVwK5H4XoU4nfA9ihcj8Ifh8BmZmZmZneZQFYOLbKdJ1JAcT0K16MUjUDsUbgehcWLwOF6FK5HPXJAexSuR+FqkkBI4XoUri+HwEjhehSuE3vAexSuR+EMh0BI4XoUrmt6wEjhehSuN2rAAAAAAADYbEDNzMzMzCxBwNejcD0KJ1pA9ihcj8JVYcCPwvUoXNdgQJqZmZmZ9YLAmpmZmZkHiMApXI/C9ZSAwFyPwvUoLGrA4XoUrkdfhUA9CtejcFV8QOF6FK5Hs4LAKVyPwvViisA9CtejcBVuwD0K16Nw1WfASOF6FK7vfUCF61G4HrF/QFyPwvUoxGpAuB6F61Fsj8AK16NwPfSOwFK4HoXrdY3AmpmZmZnVh8AUrkfhejKKwNejcD0KT33AmpmZmZkBhcCamZmZmQWPwGZmZmZmxoTAhetRuB65j8CkcD0K16GPwK5H4XoUrgFAhetRuB5djsBI4XoUrhd9wAAAAAAAFILAw/UoXI/ujcAUrkfhesCPwIXrUbgey43AexSuR+HyjsAzMzMzM1mGwLgehetRWo3AuB6F61EMe0Bcj8L1KBwywJqZmZmZmV1AAAAAAAAYbMC4HoXrUQhnwKjGSzdJG7vAKVyPwvXujsAAAAAAAByOwHE9CtejUI3ASOF6FK71jsBcj8L1KM6OwHE9CtejMI3A16NwPQq3j8CuR+F6FGKKwOF6FK5H243AKVyPwvWYj8CF61G4HquPwHsUrkfhqozAhetRuB7bjMCPwvUoXJWPwB+F61G4DJHA9ihcj8JbjcCamZmZmR2OwB+F61G4Ao/AhetRuB7ji8CuR+F6FECWwLgehetRqGjAXI/C9SimjcDhehSuR3GSwKRwPQrXC4zAmpmZmZk5jMCuR+F6FIqLwFK4HoXrVY/Aj8L1KFwHj8AK16NwPXp5wAAAAAAABI7AhetRuB5vjsAAAAAAgM7KwIXrUbgeAXdAKVyPwvUwZkDl0CLbefCpwKRwPQrXM1DArkfhehT2fcAK16NwPaJ7wK5H4XoUUpLAzczMzMwcUcDXo3A9Ch+IwClcj8L1tHjA30+Nl24Ih0B7FK5H4VyIwOOlm8SwsMvASOF6FK67jsBxPQrXo/BaQNV46SYxg5TAKVyPwvVSjMApXI/C9ZhSwFK4HoXrtYfAzczMzMyMgsAUrkfheq2SwKRwPQrXI1JAXI/C9ShcFUD2KFyPwqVkQJqZmZmZmRPAH4XrUbgeQcBcj8L1KGRvwB+F61G4vlJAUrgehethW0AUrkfheiRVQI/C9Shcz3LAuB6F61HCicBcj8L1KPxxwM3MzMzMbFnArkfhehSWcsA/NV66SU6PwEjhehSu3YDAZmZmZmZmN8BxPQrXo+6DQOF6FK5HWW/AH4XrUbgeiMAzMzMzMzeSQDMzMzMzS2rASOF6FK4HXUBmZmZmZjJ+wClcj8L1iElAuB6F61EcesAK16NwPb52QD0K16NwJW1AXI/C9ShUhMCF61G4HtV3wArXo3A9Um3A4XoUrmcWwcAUrkfheo6GQB+F61G4LnFAzczMzMycZEApXI/C9WCCwIXrUbgek4TAKVyPwvU6jcBcj8L1KCh1wHE9CtejsHvAmpmZmZm3hMBSuB6F60WSQArXo3A9aoDArkfhehTogcDhehSuZxbBwBSuR+F65oHAhetRuJ49r8DNzMzMzPxswKRwPQrX40HAPQrXo3D9ZkAzMzMzMxNeQEjhehSux0bACtejcD1yhECuR+F6FCZqwKRwPQrXGYLA4XoUrkd0l0AUrkfhemxkwJqZmZmZyJZACtejcD2KSkDXo3A9CoGKwOF6FK5HEXvAcT0K16MulcDXo3A9ClcqQBSuR+F6poVAXI/C9SjMXEAAAAAAAGh6wHE9CtejBovAhetRuB4FhMCamZmZmcV6wLgehetRvHTAMzMzMzOLi8AK16NwPQpQQKRwPQrXeYbANV66SQw9okDLoUW2c4+5wGZmZmZmSoLAcT0K16MUh0AfhetRuNqFwArXo3A9ZIbAXI/C9ShWisBmZmZmZjWowLByaJFtFKXAcT0K16PQSsDhehSux8SmwNejcD0KPKnA4XoUrsfopsDXo3A9Cs2dwK5H4XoU8IfA1XjpJjGRikCF61G4nv2YQAAAAACAoqzA9ihcj8KNqMBxPQrXo5x2wDMzMzMz6YxAXI/C9SjQicDhehSuR+EjQMP1KFyPXoPA7FG4HoVrisDD9Shcj/iAwJqZmZmZDYLAuB6F61G4CEBU46WbJHjLwIPAyqFFMmPAy6FFtvPeosAK16NwPaZ3QPYoXI/CaYnAmpmZmZmBgcA9CtejcJWIwHE9CtejCIbASOF6FK5hhsAUrkfhemiBwAAAAAAAaIBA9ihcj8JVSkDsUbgehaNgQAAAAAAA6pDAj8L1KFxrh8C4HoXrUcGRwKRwPQrXxJDAAAAAAADscUC4HoXrUfhkwPYoXI/CvXBAzczMzMwMVMApXI/C9WhOwHsUrkfhJJpA4XoUrkcjj8Bcj8L1KKiMwDVeukkMfZjAzczMzMzcVEAK16NwPUyFwDMzMzMz/Y/ASOF6FK47d8BxPQrXo8iFwBSuR+F6gHpAPQrXo3CVZUAzMzMzM5OHQBSuR+F6FBRA5dAi2/m8w8CkcD0K1/OLwHE9CtejeIzAMzMzMzNHdECamZmZmaeIwOxRuB6Fb4DApHA9CtfrbEAUrkfheniDQGZmZmZmjnpAcT0K16OSiUD4U+Ol222iwB+F61G4f5TAUrgehetdd8ApXI/C9eB3wClcj8J1SKnAj8L1KFxhqcAAAAAAAKKDwI/C9Shcf5rAmpmZmRlMrMBmZmZmZu54wHE9Ctej4F7AH4XrUbiEhMDNzMzMzEqGwDMzMzMzQ2TAmpmZmZmZAUAAAAAAAEBTwM3MzMzM5JDAcT0K16PygUBcj8L1KGSRQFyPwvUojI9AH4XrUbgeDcB/arx0k+hwQD81XrpJ3HhACtejcD16VUDD9Shcj/JzQPYoXI/CCYNAexSuR+G6WUCamZmZmRkowBSuR+F6jGvAexSuR+HPlUApXI/C9chnwHE9CtejcCPAZmZmZmY2gsDhehSuRyCQwFyPwvUoNHtAGQRWDi0SMEAUrkfherKCwArXo3A92IXA9ihcj8LRcMC4HoXrUQB6wFyPwvUogH3AXI/C9ShweUAAAAAAADBkwGZmZmZm7mnAFK5H4Xo4e8CamZmZmbGDwOxRuB6F62LAFK5H4XqUbkD2KFyPwu2CQOF6FK5HsVTAhetRuB6FUcAUrkfhenxqwAAAAAAAtITA7FG4HoWHkMBcj8L1KDx1QMP1KFyP0mrAhetRuB6VfcA9CtejcOVxwLgehetR8GLA16NwPQqnZsA9CtejcH1twBSuR+F6fHHAAAAAAABKhkDNzMzMzOxhwHsUrkfh3JPA7FG4HoURkcBcj8L1KPmRwNejcD0KEYzA4XoUrkeZlMCamZmZmeGLwM3MzMzMy5DACtejcD33kMAfhetRuBiSwClcj8L1VIvAzczMzMxplMDhehSuR/aSwPYoXI/CB4LAuB6F61EYSsAUrkfhetaJwNejcD0KfYvAw/UoXI+KhUBSuB6F67FNQKRwPQrXa2FAPQrXo3C1g8Bcj8L1KBKLwHsUrkfh8obArkfhehRmj8AfhetRuISPwD0K16NwXYzAFK5H4XqikMBcj8L1KKyNwJqZmZmZOY3A5dAi2/lMpcAAAAAAAPKOwB+F61G4anHAmpmZmZn5ZMDD9Shcj5puwHE9Ctej55HA7FG4HoVviMBcj8L1KO6BwFyPwvUoo5HA9ihcj8IzgsBmZmZmZuqJwK5H4XoU7kTAhetRuB71ZkBmZmZmZoZCwK5H4XoUbl1AH4XrUbiMhcAAAAAAAHSDwK5H4XoUPmHAuB6F61HUgcDhehSuR6FAQOF6FK5HITdAw/UoXI96dMCkcD0K102EQAAAAAAAZHJAexSuR+HOfsBcj8L1KNR7QBfZzvdTcXRArkfhehSmgcD2KFyPwteBwMHKoUW2p4zAqMZLN4lBWMDNzMzMzAR1QJqZmZmZIWrAcT0K16Pgh0DNzMzMzDKBwHE9CtejrZPAUrgehev5gMBSuB6F60uCQMP1KFyPyIHAcT0K16OMiMDsUbgehTd5wClcj8L1eGhAmpmZmZnphEDD9Shcj5puwK5H4XoU+nlAUrgehetZcECPwvUoXB9wQPYoXI/C0pLACKwcWqRkqMC4HoXrUWRxQPYoXI/CJVTAFK5H4XqAc0CamZmZmX1zQHE9CtejyHDA9ihcj8JVQMAK16NwPXKHQAAAAAAAMFFA16NwPQqLjEC+nxov3YJ7QFyPwvUoFGZAPQrXo3ADg0AfhetRuPqBQNV46SYxSoFASOF6FK7HIEAK16NwPY5yQOF6FK5HwVZAMzMzMzMvdkBSuB6F6713QFK4HoXrqWBAzczMzMz8ZEApXI/C9UKAQFK4HoXr/XlApHA9Ctd3h0AfhetRuASMQJqZmZmZ1YhAzczMzMw8ekBcj8L1KB6PQB+F61G4WoFA9ihcj8JJiUAK16NwPTSDQCGwcmiRDoNAexSuR+GKi0DNzMzMzPRkQJqZmZmZmRDAPQrXo3A9/r/D9Shcj8JHwOxRuB6FayjAAAAAAABodUAUrkfheoqDQAAAAAAA8FHAzczMzMyQe0Bcj8L1KKRgQClcj8L1HHBAKVyPwvX4UUBmZmZmZoqDQHsUrkfhUIFAKVyPwvWoTUCPwvUoXO9SQMP1KFyPBn5A16NwPQo/YUCPwvUoXC9sQK5H4XoUgnxAAAAAAADAW0DNzMzMzFx6QDMzMzMzP4xAcT0K16PQUUDsUbgehYtFQLgehetRqoFAAAAAAADwUEAK16NwPVpWQMP1KFyP6mtAFK5H4Xq4cMB7FK5H4cpkQCuHFtnOBZzA4XoUrkfxcMApXI/C9ZB6wPYoXI/CN41Aj8L1KFyPFcCuR+F6FAiJQHsUrkfh+lbAexSuR+FKV0CuR+F6FM5nwKRwPQrXI23ArkfhehTObcBmZmZmZpZXQKRwPQrXl3PAcT0K16PMgcAhsHJokVqHwFK4HoXrMYjACtejcD1KTkCF61G4nv2YQFyPwvUoBGhAKVyPwvWsckDNzMzMzOxMwFyPwvUocHHAMzMzMzN7asC4HoXrUZhowGZmZmZmInXAAAAAAIAEokB/arx0k+hwQEjhehSuOYnAuB6F61G+i0DD9Shcj5SJQDMzMzMzM/e/UrgehetRHEDsUbgehZ2KQEjhehSuh0hAKVyPwvW1mEAK16NwPVpoQLgehetRcG1ACtejcD0Ce8DhehSuR82HwFK4HoXrv4fAK4cW2c7Rg8BmZmZmZo6OwMHKoUW2p4zAZmZmZmZmL0CamZmZmaOLwNejcD0KJ3dApHA9CtdTYMC4HoXrUbgtwGZmZmZmTnzAZmZmZmZmOkDD9Shcj9JXwClcj8L1uJZAcT0K16NQaMBqvHSTGBKUwI/C9ShcjxnASOF6FK5bdsDsUbgehfGDQClcj8L14ozAMzMzMzM7iEAUrkfhesRcwLgehetRGEDAH4XrUbhGf8DsUbgehceEQMHKoUW2W4hAzczMzMycgkBSuB6F6+ODQOF6FK5HDpBArkfhehSchkA9CtejcFeIQI/C9Shc92jAFK5H4XoehkCamZmZmWGQQKRwPQrX93pA4XoUrkd5g0A9CtejcFWLQHE9CtejjIJA9ihcj8JRmED2KFyPwqOHQArXo3A9noNAUrgehevNi0DsUbgehb2NQNV46SYxvHfApHA9CtfveMDXo3A9Cu9lwB+F61G4HljAUrgehesbiEA9CtejcL0kQLgehetRKGHAj8L1KFyxjUAAAAAAAICEQK5H4XoU8IxAYOXQItuojUDsUbgehb2AQBSuR+F6wIRAexSuR+E2gUCPwvUoXO9iQBSuR+F6NGZAhetRuB6FOEBxPQrXozBrQIXrUbgeAY9A4XoUrkfcncA9CtejcFuBwI2XbhLDCbTAI9v5fqp4oECPwvUoXISwwK5H4XoUPJTAw/UoXA/goMAUrkfhelyewHsUrkfhnJfAexSuR+EWg8D2KFyPwnGtwDMzMzMzMwtAcT0K16OgU8AK16NwPYo7wOF6FK5H8WlAhetRuB6hdcA=",
           "dtype": "f8"
          },
          "coloraxis": "coloraxis",
          "size": {
           "bdata": "P/fEANG30D8Eh4IW0ubgP54t6sIZ4OQ/3Y8OTyar2j/3eRo3YzTfPybZkcb38e0/v6s7SA+w4D/KrffPWIrWP7RFinkQDdo/MJuBoVRG6D+I69PdXxrVP6zPbZEqmtk/D86eKsy02D/h97dUu8nWP1NxluiBWuE/FJjbuw+1tT87FerG5+HaPzzuAQ+5XOI/TFHiCKXo1j/7est0w2nePxquB7K9Q80/6ZFaYu0d4D+tvmiQsUfXPzQdX8/J79s/uCZJUrI0zz9X/XG3WIPPPw3eA1DkG88/mdZvF+xN4z+dWsEY/0zFP9qz+YY5294/p1O/ePmS1D88kMB3lqrTP0zS+4QkS+Y/sPir0xkA5T/1VkhKbBTkPwpUar8JluM/My+n7l0n4T/3c6mcSUPXPyiaRHeIbd4/beNzTfQn1T8+y/yabXXYPwN6OOV2lNw/rMEwaG2M0z+VN5jRppXdPwDHWLKpntc/+T49IvZ5zD8aIz+EPPjMP6IZk4Fm4tg/DRznhlm35T/YCGsG7zDMPxh+BRqsxNU/hHFAr2q61T9Wum5PyozQP+73B/lhA8k/5k4X9C851z9f32h56gDhP9bGhVAos9I/8CM79T4z2D/cr4CHrQLeP4PSm631kd4/nGPVRhBh2j9pVdIi6v7NP0i70rQjzMw/x27NbzLI0T97eJnPKcPNP9rcycxuJM8/hXGT7w2V0D/JxvIW3UDeP7pWQ2L7Jec/sMYyrWdC3T9jp992wxHZPyR2KiU4UMQ/0c2WP9Xjzz9Hm6sJxRniP3avNyjqz9M/RIqScWRC1T+oS5uDpd3RPw8VbpeXqMk/LLkgmPdT5D8pJXfwt8ijP6t9zvZpu98/pIyMsGqx1D/ZhXQirnfTPy8QJypl2dI/eZM/y2+x2D8CIrnX4+zhP8GmNsr/mNg/STtq9/V+4D+BTxnXrFvjP809MpQWPNg/DrullDpC1T857tfkI6XHPzvjvbsyws8/lgzV+uVf5D+/wf+Ra4HUP5eJWtj5bMY/CNLGMnmw3D/08PzUAlDTP5sUCybkRds/+hC0q/ghzT/O6dRD8l7HP4l63sZSyck/AchuDTbX0j8qkEEXt9HSP1+eeb+b+tw/bHSvJqVzxT/IuHqXyJHbP6JiRejGT9Y/GO0l3IMC3D98HX0LNerXP3CUIg9/U9o/9ChPYS712j/9L8AmxbraP5jjUC09W9E/JiOI2bv02D9t7JZjDmXaP+VAH2M6YdE/A1RQQWQF0D94OkazaRjVP/OHstOES9g/qq+MT1Ostj8xi69X2LvXPyf7J0p8+t0/00oYtgIFzj+Wie5Ql1vcP6luhsanftQ/RwxkzUszbj9NjFX3BsLVPzBIfeFcE70/VkG5bT2a0z8jmCR0KMTeP3evAUgH7do/Pt4v9/K+0z9byXhtPoFnP6qqglQAEtM//54eAfXQwD/Qdvgm/UTRP1C5o0dvItQ/TblJ+8Qg3T9+SoJCnujlPy3HTI269dM/RMkP7TeK0T9AY5jCY2XUP+wI9L1BRNA/Qy2XPbojyT83I7vKeVzUP3rj/gFAY9Q/ss9CytV33j9NzqJ5vmvfP9txt8NdudM/6o9WjnUgxT/sVfUiko/VPw6FnUElTdA/o2TbUk/pzz8BL9cYhf7ZPz7fQ0wCa9Q/6hDFSvUd2D/F9Jhj1sbhPxMYbxNOkeI/mCc5SBAIzD8d4pCm1tPMPz263shygMo/8LWlRf+i5D8NtzQMLejjP7rVwuscU+M/UE/Ug/zd4T+d0o0eu0ngP8sKxhGnPOI/Eqp9FY+p5T+VLJIYnLvcP/vICt9HQeM/hOU771RO4z9gn6oez9vbP0vM8/vPot0/ep6jTP7K0D9/MMW44mi2PxNYBHnD5ds/BlAh5p4T2D9sAAK123m0PwtrpDRuEuE/qK9lAknXyT8jOkFEbOreP4Qkc99uldc/nfSnoEEv0T/oQZZlQVvmP9sK9TT1+ss/hpbSVCwA4z9b7MXQkM3VPxV/YJQGwNY/CH+HvtrO3z+UkYfTdo/QP4ljIm28pdM/bs1NRpMA1D/GYeyjM4PYPxFieT8CNNE/c+ls03jOzz/R2AR9K0rlPz1O60i9ENU/wNshM6aUpT+TjwlnvuzSP/PAvvi7y9Y/Bb7xlN981T+rpkHuWAXYPyf+adZIfsw//i4gt+qg0T+pG1R48rHSPykH3Am7+NU/0pG+x4z/4T++QE7Aa2PXPzUM5kXXrtM/bN80Niavuz/8is+Z6xHYP2+rdspsaOU/rvtwCcUF1T874IrNiMbZP9dazgCz+8E/axTZAvwQ3z/K+AREGxfaP2V2tpXBaeM/i2P06TSq3D9+420G1ebYP8MtB2CeuMs/2kZCTAggzD9o3hkJPV3DPyKERkAQsr4/oxzm4lJU1D+ite8oXwPbP1xNtUhmr88/WEpBaZTE1j9wiVyCZ9LGPxr1jDOzH9Y/Tf7lj+ywyT+9vVa7U1bHPxQUgg+Hh9U/Lf0YDc1GwD/fVkqnfyfYP0VWbOr55cE/35GJZe1EyD/I+g/pfx3MP0npjSAgzsA/C0FF5OezxT+lZ9sHgTLTP9TR6tzFJ7g/dupEsssX0z9Q0rKimpjNP9pDAxTMo94/aFJjmMRnyj//U5h4ZuPHP5dJdrokhdE/rPkQTnrd2T920ZW4qRLRP5TvDbZUq9U/gX3cOeNN0D/IbHw0OMvHP6ihvzx9JtI/zZIjQJYJzj9rO/IlKWbhP5Uy6L1+lNI/NNZxPnW3zj/hi6Q3OfvOP8zv9krDhOc/a5AycZIf0T8GVVnhZD3VP0bC8Yc7KNY/XMTGKDxiyz/TjXGgMkfOP0shyS4y6cA/J4wcX8JR3T+0LfbI8F/fP81PBY0obr8/ELH/ytT4wT95TYNpaKjHP0DZuftXtds/a80bXl7m0z/VLSEbOLbYP+WLO8sHqdA/9wn/IgfG1z/M+bp99rDmP2HFG2mhxtU/Rth2JMad0z81OoXtAgLhP/NIueUeKq8/Tblj6JK83j9HBRNI6kPaP6AFPbeNAtA/9DRt88zduT9e5Gc2fH7QP24Bble6Q9I/VOfq5eXk0T+1vFh5dbfSP9rr8yoQbOg/E4ZZ8xFz1T9R94SH5RDjP6jbhG3YiN4/XvnE9m7O3z+lTeAQM6zaP61/70j4Vd0/OaUgRrRt1j+q+W37Cue8P/VA6ajCqtE/JVUE5NU00j9Foz88zKnKP1/uXwlMtLc/qKP/EynK0D9UdGTHasrfP9LBKxrpI+k/gtAKQSNl4z/di+bXOlPZP9DbsWXyZ8g/M1OwgBNy0D/7IsgIy9nVPzo1JptwONU/TVCaPmjP4D9mVI3lnSneP8m2foaiDc0/4MK1HSQG2T8myWWeTMnQP6pvS9Lef9o/DPe2C8+a3z/jIIHarYnSP3V1PCbp4dI/b7XUwl9w0D83h1kotJbdP6uNQI/I/9Q/p828Q7aA2T8KCqiGMCPTPz1fJy6K8d8/TkDVfgSS3j8WGPLUj/PgP4RUukCg5+g/DDmyNSLo5z+P+234m7vMP6WxL/DxJ9I/EC7QDKQ31j/HZ1h+fIzZPzZ89Xsnlss/w6dxm5U+zT+ioHIHiejcP3XKzplEc9c/c+QXUDfv5D8RW+pipuzZP7MuOfTo/N8/3bIYFWwh2z9s9OHVCMHlP0fKtRVnnuo/FLWgjYSv1z/j086A9JbYPzoKl2qrD7A/YZ17F76ksj/KntQkl1XVP6amoXd3Ods/BwMBkeq/0j8SuAizFWzRP4KMvFa9t+4/aXBbKyMX1D/BK9wlTXLNP6BhuXpEsM0/Cl2gyD4m1z9VdLxpHMbMP969xSFXUtg/S09MHrqj0j85G5cs8o/UP3ooFAElIaE/Ev4321QT0z9lcQrH1YTMP3LwR76vZ9k/cgeNUutu1T9w+YTpi+rCP52AoYXJY9Q/0D9DhfIxzD88zYaDaqbjPyQj8fWL6dM/WRDPpSkg4D9c3NIEfqTaPwotf83UWt4/xBUn2qXY1D+CGfuwT2bTP1laBlGm/dw/8d+y54YV0j/dNoiUjAbfPyHgfF+xHtg/4uOoZRwQ0D8lPWjuwmfhP+LNVKj1G+Y/Q1hLvSQb3z8QiRg5VpvVP8R3OrEmDtI/6yWVN30twT8Hhn29oJjCP8V4iiRkoN0/e5N7rpLy5D+gAjZVRNXaP1WYz+FhINI/AopLjuyZ1j+P5/e89HDNP2nMDab0Vdo/f6Y2Tab72T/sXg2yoAzZPz8vkL3xVtk/bAnywET+2D93G2dIOLTmP+KfWeGH1+o/qIVhM4tC6T9d7bJaMgzgP8ME7Axnn9g/hrJ/82Z/3z/uS/4DIsTYP5s3Oof+Jd0/8aWFuCm+3T+g2n5jHXDWP4rh2+jlNeY/mNjJ9O59sD8V1qvrS4C7P+RjgsMt5+M/ixUOUEk5zz9wuV8RP47MP2qQekzKl9M/8pzR4wfIvT/gsiPM2QbFP6VIzqeN5NA/yLyUKx4O2D/BcITfoPXYP9814A5yPtU/QVOYM7oA1T9qDSxxIk/MPxmmafJoVNo/qedvD7wByj/vZx/u8nbWP3+Msa2PGdo/V69LgP3h5D/q6ALgJdTXPzVbvou11tE/m8zE+Kq3zz/3cdpiYRfLP+3Jjz3fDdc/wFHuUEvY4T8k+6W+/2LIPw2Oy+7gBtU/+lnPJ3TiqD/ptYZO13O/P1NluYwNpME/eIT6814d3D9yCWTMBv+8P7lN7zHICNo/mmGhJPkQoj/3AkORKU3aP4eUSUKvrt0/KgXUTnK54T+OWYVSLBPVP0GDamsI++I/su2g4Qol4D+n8lIUd97gP8inxXzRW9g/RhxTS32C6T8ATt27bf7dPyAEZv0JyM0/af1IdEhx0j86PT9dGgndP2ic/0YyP9U/frik9zjixz/Eh2mF4lzBP2Y2zZk4sNw/nfaQ15UX0D8hYz9UcWPMP83vNmiobbU/7KpZnFE44j/q52lz33vIP+/pHVGcWcI/uU+GvPvZ0z/YmmllE+nbPwAAAAAAAAAAk76g7/RUzT/S0IhJexfDPySXHSX5F84/SgVhI3Lb0T/VmiVBG4bcP8RhBcS4CNU/zYRdlrWQ6D/Mpe5c8kzkP3mGkFP5VdU/nUVhEQUDyz8M9oj8sHnUP0XdRjG3Cs8/NaZr8LLs2D8ImSl6vDjWP/bbMtO5ON0/lhBkzBlU1D/6OtxSCTzLP/EklpPBKtk/mwqp0Gxx0T/nCAPgGNDUP4NaoTNX7tM/Lrela8uy1D8OQnL+s/LZPyi8S8R4g9g/C1/dToMB1T+M73rvmpLTP4+1SXmV8NQ/kH0QVlVu4D9h2IWMT8/SP0qP6n57ttA/G2B8o8Rg3T8kdTsyTJrXP0BlkdrK7dc/mxMYVZma0D9qDzUIQYzbP44nuIDZpss/jg+5MRqEqD/0avayz6nJP47c/Chhd98/AF5RN2AN3D/ZaxCKNIbkPwedAkoTFOQ/vIQzl2NM3z/IKuPLG6PhPyj2WLlul+E/0cVfqyCg4D9DA5T1d7rgP7Piiiqo6uM/UifQ9e2h4j+Jg+UZLzDgP3+6WE7g9ts/xBLIZ21b3j8EJc+r29bZP+GncNXDYeE/37NUhp02xD+tnPqj+jfYP8Zdr9Z/EN0/M2SVTDFc4D8/9546DC/XP5ufrNtnptw/dW7T8YMm0z+Cmh7gafbSP7Omv/xG5dI/QC+8Jo0B1j+xLTb1OdfTP+uixGYCQ9E/Jbig7VC94D/lS1Ht/MzUPwnUc4Q3+dw/MiyUgZ9Y0z8J0LiYj3jbP9VyeKFAbeI/V1djMlE0zT9qUenEDJHXP/0vtO7G/+c/n6N9o33G4z/bK+nTgwLcP5/QWpMjCdM/eDglcpCd0z+EWHWuKaHPPwT1/nqIvt4/nb9wtHQ73T9Mysz0M1PdP+wi0Fs3X9Y/2jNAfs7B3j/VejJkuVLRPzWfUT88qcs/JmE/TfZ8xj9Z4ssMQyPIP6oQq/FbtM4/g6UIQeMT1D8LkrRFItTVP8ZAW6ZMl80/pRNpNIud1T+T/P4qvUzRPwHfyNvrb94/oVY86Tdcyz/pDfOjGH3dP3JuEFaKz9A/IWoD2D+D1T8F8I/fXLPUPw9aQh1U+tU/u0qdSzNFzz+sJti4mXPHP+0s5TXNQM4/omQ5HSQT0z8hoiha8mXWPyiJl/hG3eM/gq7EQ+LZyD9YZOwifxvgP699lFw9R9s/AnSkmFqS2D/iwZinhBbXP1c3nWkhrNU/qMIfQK243z+l476m6EjMP35gWV4hMsM/m0NPI4fw3D8XQZgCq2TSP4ZrzBWZPNs/TdEdu7RKzj/pmGg59GSzP8p0pJxkoto/0vBnJ5NhvT+AXZkMl9jRP2xSVvLVatQ/lrTpjrFTkj+gP/g5sd3FP004unZRK8A/oQe2JoRn2z87qlU7hd3SP91qt83Fb+M/oJ7mgCWy0D9US7oDXrDSP0fzbnt3bdw/Zc4jhrC7zj9rqptRRrHIP9sTe9tTSsc/Z7XBPPlVnz+PVRyqM8mTP3Z6ps98NMU/HhQcBqT7yj+63oI5R3erP6I2hyF0TNI/HIU9+13spz8yNobSWHrEPwFnr4hwuqY/a9tyl79iwD+0H/o9/VXYPwrUDeaH9d0/fN+Vi1R5zz8ZZr0mb4vXP/Yp+v///+8/gTHu1wp+zD/e9p5oT1uuP81U9WLXRtc/b9bQLTsl1j92NpYibR3hP1kRIJX6ANc/ZzH3hA+m1D9wguf+bq6pP36L/PGZ2co/Xr8SquSW1T8VO37T1e/AP+cX/D2LOc4/cLmuMbCc0j90IQ9XhRfWPwHEwhbB28I/YP/0/CihzT/Vc5wWiyjPP5lBkT3aW5s/8sv/EFn/1D9x36EizGvVP8kUbgjZ78c/5vKQplHPxz/oy2JBOoPaPzq8sOvfy9E/k06WVrmMyz+5KVEd0ijdP0Z/Lh+GKdU/fhyAoHNS3D+X3bybEEPgP5a/VzinVLQ/vysz5cbiuj9pY0nSqafJP0OchbxAzM4/ACBS5q+T0T+IkgBefxTZP8KATxFNJ8o/wmdWOR6D0T9O6dtlF1fEPwx72dTkgcc/jEM49Agu4T+TZVXgY+DgP37Rrix2ZL8/+Sx6ARtUxj+zwVNo0ufWP8+1QsinBcg/xrt4z/jZ2z/8twGAxQHPP8twwuwCWs8/uhTfJG321D8PuGal3MjMP4We5+XIF8w/oe7mdxkHpj+ZzQva/C3fP53hgnXUFOo/d8ATLlQP2j+FOfKfXKLAP/4SUAdr18I/rSVsWgSu0T+p8yAsFDfFP09AmFIsY9E/tGgDCpY6vz9Fbklk7X7QPzU89dhp6Mg/tKxfnNJ42z/pdQ7jFUrkP6oZjmMlwNw/rFgXcp4p2D9kDjJgMmDlP/ORpS3g+tk/NRN1xWcR4D/emMohchLdP6OicZ5CJtY/PkuC57Iz2T/YNcqUEbqWP/yAYVBImds/FZKoW4u63j+ZYkm85gTSPxz1DuAAfNg/MVI+Q9x91j+22c4razzZP3/L6NUI79k/PVjPO6IT1z+hHMHYwTHWP+6EuzmY29Y/hShZpoNe0j8VDzYyvbnbPwPrwHhZltY/gxDshed21T+UeppnBBfUPw+KGPaw6Mo/oxbI/6Xf0D8wchkAs2DZP7TvN3a+R9Q/gWuE5EJWzj/Wpfj3MXrXP8SB4DQBYt0/F4pCpNuD1D/I0OfRp7DIPxRGs0XQA9g/EzsW2wO/0z+vm6p15zTXPyaU7IIGrtU/5Aykep8z2D/vb53QFvXMP+/iZ6TsZNE/LCtEXxYXyz/hNSnDHeLVPzII1DQeHuE/CGX3GjUdyj9fBg1+DMbRP7tYSZj+5Nc/46R2oC0v0z+SAMfZKxKwP/0s9cTr+8Y/iczSbdtB0T/yNaA+T0nRP2PdpaLRL8s/tqKZkYcv0T8cCtH+v6nVPxFW9yYZDLA/1jDkT7C+2D9nVPeRjnLUPxBTA3DK1N4/Yu5FqZCz2D/o8kz5M6jbP7fLGgZj4s0/qCDwRIzw7z+TW35s5U/gP9727qOOOOE/xJjqBwEhyz+EBJqGE6fdPxyKsvC7ft8/PG5Ibr4R2z9pfX0AL3fmP2GwSaEOhuI/dCnrOuPt1D9OlXx8YcvjP080ZRW5s9k/D5LIeVBQ2j/hnwA8667kP7LHJUPYZNY/jweg1FRf1T8=",
           "dtype": "f8"
          },
          "sizemode": "area",
          "sizeref": 0.0024999999998938423,
          "symbol": "circle"
         },
         "mode": "markers",
         "name": "",
         "scene": "scene",
         "showlegend": false,
         "type": "scatter3d",
         "x": {
          "bdata": "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",
          "dtype": "f8"
         },
         "y": {
          "bdata": "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",
          "dtype": "f8"
         },
         "z": {
          "bdata": "ZmZmZmZKi0A9CtejcKuTwKRwPQrXWJXACtejcD0YkMAK16NwPZJwQClcj8L1SF5AXI/C9SgcW0AUrkfhepR4QB+F61G4jnJA16NwPQrHYUBxPQrXozB5QOF6FK5HEXhA4XoUrkcFcECamZmZmelnQOF6FK5HYW/AAAAAAABogECuR+F6FGZpwAAAAAAAuHDAUrgehesRXUDXo3A9CndzwCGwcmiRVYxACtejcD1tj0BWDi2ynQt/QBsv3SSGsprACtejcD0efMAAAAAAAGx9wB+F61G4cnzAPQrXozCqusAbL90khoyYQJqZmZmZ14PA9ihcj8I1a8CuR+F6FIJ2wBSuR+E6m7HA9ihcjwInscDD9Shcjw6ywDm0yHYeYLPA16NwPQrhgMDhehSuRy2AwK5H4XoUunrA9ihcj8JlVcCWQ4ts53acwArXo3A9gnLASOF6FK47dcBcj8L1KJCLwGq8dJMYbI7Aw/UoXI/ueUBxPQrXozBXwKRwPQrX22zAAAAAAABAa8DsUbgehUtwwArXo3A9xnXA7FG4HoVLfMAK16NwPRJ7wB+F61G4CIDAj8L1KFy7c8CPwvUoXNGAwHsUrkfh0IvAZmZmZmZkj8BxPQrXo4KLwFyPwvUoUH7ACtejcD2adcAzMzMzM1WCwIXrUbgeqXvApHA9CtfTd8CF61G4HuVUwBSuR+F61DjA4XoUrkcBQEAfhetRuDp1wNejcD0KJ2TAzczMzMzsTsCamZmZmcl3QAAAAAAA8FPA9ihcj8JNZUBxPQrXo7BswClcj8L1uFjAsHJokW36kMBI4XoUrt9wwArXo3A92mTAAAAAAADonMA1XrpJDIuOQNejcD0KZ3vArkfhehRSh8AzMzMzMwWHwM3MzMzMhHnA9ihcj8LZe0AK16NwPdpwQK5H4XoU3lBACtejcD2ihsCuR+F6FNCCwArXo3A9XI7APQrXo3BVfMB7FK5H4WJtQB+F61G4+pbAhetRuB43gMAzMzMzMw9+wFyPwvUoHFLA16NwPQrhiEAfhetRuM5dQOxRuB6F42bA7FG4HoWLRcCamZmZmZlAwK5H4XoUrgPASOF6FK6XW0AAAAAAAKRzwArXo3A97ILACtejcD2KIkBcj8L1KGKRwB+F61G4LmdAH4XrUbjmZkDsUbgehStjQFyPwvUovGTAhetRuB6jgEAAAAAAAMhmQEjhehSus35AMzMzMzOJgUCkcD0K1zNkQPYoXI/CWYPArBxaZDtHfUDsUbgehfN2wClcj8L1KCbAH4XrUbgeT0DLoUW28x6JwGZmZmZm5JHAcT0K16PwU0CF61G4HuVXQJZDi2znL5PAKVyPwvXMhUDD9Shcj3iDwK5H4XoUJmnAXI/C9SgkasBxPQrXowBlQClcj8L17ofAAAAAAAAMekAAAAAAgASiQIXrUbgeLWVAGQRWDi0SMEDsUbgehYuhwOF6FK5HlYlAhetRuB7de8DHSzeJ4UvDwFK4HoVrxKzAK4cW2c7fmUCF61G4Hr1ywHE9CtejaJDAcT0K16PmgsBSuB6F6/eNwAAAAAAA1I3AKVyPwvWoQ8B7FK5H4TZ1wMP1KFyPKnnAMzMzMzOzNkDNzMzMzFRiQPYoXI/CFULAXI/C9SiYhsDD9Shcj/SGwJqZmZmZqYHAj8L1KFx3d8BmZmZmZoCBwFyPwvUooIDAGQRWDi0SMEB7FK5H4ZiIQOxRuB6F/45A16NwPQojgMAzMzMzM0tlQFYOLbKd74LA4XoUrkf5gsAzMzMzM1eEQEjhehSu9YtApHA9CtdHd8A1XrpJDIuOQGq8dJMYJYXAexSuR+ESg8D2KFyPwmF7wIXrUbgeXX3AcT0K16MDlUCuR+F6FCCEQDMzMzMzDYfAXI/C9Sj2icAfhetRuGyHQOxRuB6FvJLApHA9Ctf6k0AUrkfheqh5wBSuR+F6GHjAmpmZmZkVikDD9Shcj45/wNejcD0KJpJA7FG4HoUvfsCamZmZmRlVwK5H4XoU4nfA9ihcj8Ifh8BmZmZmZneZQFYOLbKdJ1JAcT0K16MUjUDsUbgehcWLwOF6FK5HPXJAexSuR+FqkkBI4XoUri+HwEjhehSuE3vAexSuR+EMh0BI4XoUrmt6wEjhehSuN2rAAAAAAADYbEDNzMzMzCxBwNejcD0KJ1pA9ihcj8JVYcCPwvUoXNdgQJqZmZmZ9YLAmpmZmZkHiMApXI/C9ZSAwFyPwvUoLGrA4XoUrkdfhUA9CtejcFV8QOF6FK5Hs4LAKVyPwvViisA9CtejcBVuwD0K16Nw1WfASOF6FK7vfUCF61G4HrF/QFyPwvUoxGpAuB6F61Fsj8AK16NwPfSOwFK4HoXrdY3AmpmZmZnVh8AUrkfhejKKwNejcD0KT33AmpmZmZkBhcCamZmZmQWPwGZmZmZmxoTAhetRuB65j8CkcD0K16GPwK5H4XoUrgFAhetRuB5djsBI4XoUrhd9wAAAAAAAFILAw/UoXI/ujcAUrkfhesCPwIXrUbgey43AexSuR+HyjsAzMzMzM1mGwLgehetRWo3AuB6F61EMe0Bcj8L1KBwywJqZmZmZmV1AAAAAAAAYbMC4HoXrUQhnwKjGSzdJG7vAKVyPwvXujsAAAAAAAByOwHE9CtejUI3ASOF6FK71jsBcj8L1KM6OwHE9CtejMI3A16NwPQq3j8CuR+F6FGKKwOF6FK5H243AKVyPwvWYj8CF61G4HquPwHsUrkfhqozAhetRuB7bjMCPwvUoXJWPwB+F61G4DJHA9ihcj8JbjcCamZmZmR2OwB+F61G4Ao/AhetRuB7ji8CuR+F6FECWwLgehetRqGjAXI/C9SimjcDhehSuR3GSwKRwPQrXC4zAmpmZmZk5jMCuR+F6FIqLwFK4HoXrVY/Aj8L1KFwHj8AK16NwPXp5wAAAAAAABI7AhetRuB5vjsAAAAAAgM7KwIXrUbgeAXdAKVyPwvUwZkDl0CLbefCpwKRwPQrXM1DArkfhehT2fcAK16NwPaJ7wK5H4XoUUpLAzczMzMwcUcDXo3A9Ch+IwClcj8L1tHjA30+Nl24Ih0B7FK5H4VyIwOOlm8SwsMvASOF6FK67jsBxPQrXo/BaQNV46SYxg5TAKVyPwvVSjMApXI/C9ZhSwFK4HoXrtYfAzczMzMyMgsAUrkfheq2SwKRwPQrXI1JAXI/C9ShcFUD2KFyPwqVkQJqZmZmZmRPAH4XrUbgeQcBcj8L1KGRvwB+F61G4vlJAUrgehethW0AUrkfheiRVQI/C9Shcz3LAuB6F61HCicBcj8L1KPxxwM3MzMzMbFnArkfhehSWcsA/NV66SU6PwEjhehSu3YDAZmZmZmZmN8BxPQrXo+6DQOF6FK5HWW/AH4XrUbgeiMAzMzMzMzeSQDMzMzMzS2rASOF6FK4HXUBmZmZmZjJ+wClcj8L1iElAuB6F61EcesAK16NwPb52QD0K16NwJW1AXI/C9ShUhMCF61G4HtV3wArXo3A9Um3A4XoUrmcWwcAUrkfheo6GQB+F61G4LnFAzczMzMycZEApXI/C9WCCwIXrUbgek4TAKVyPwvU6jcBcj8L1KCh1wHE9CtejsHvAmpmZmZm3hMBSuB6F60WSQArXo3A9aoDArkfhehTogcDhehSuZxbBwBSuR+F65oHAhetRuJ49r8DNzMzMzPxswKRwPQrX40HAPQrXo3D9ZkAzMzMzMxNeQEjhehSux0bACtejcD1yhECuR+F6FCZqwKRwPQrXGYLA4XoUrkd0l0AUrkfhemxkwJqZmZmZyJZACtejcD2KSkDXo3A9CoGKwOF6FK5HEXvAcT0K16MulcDXo3A9ClcqQBSuR+F6poVAXI/C9SjMXEAAAAAAAGh6wHE9CtejBovAhetRuB4FhMCamZmZmcV6wLgehetRvHTAMzMzMzOLi8AK16NwPQpQQKRwPQrXeYbANV66SQw9okDLoUW2c4+5wGZmZmZmSoLAcT0K16MUh0AfhetRuNqFwArXo3A9ZIbAXI/C9ShWisBmZmZmZjWowLByaJFtFKXAcT0K16PQSsDhehSux8SmwNejcD0KPKnA4XoUrsfopsDXo3A9Cs2dwK5H4XoU8IfA1XjpJjGRikCF61G4nv2YQAAAAACAoqzA9ihcj8KNqMBxPQrXo5x2wDMzMzMz6YxAXI/C9SjQicDhehSuR+EjQMP1KFyPXoPA7FG4HoVrisDD9Shcj/iAwJqZmZmZDYLAuB6F61G4CEBU46WbJHjLwIPAyqFFMmPAy6FFtvPeosAK16NwPaZ3QPYoXI/CaYnAmpmZmZmBgcA9CtejcJWIwHE9CtejCIbASOF6FK5hhsAUrkfhemiBwAAAAAAAaIBA9ihcj8JVSkDsUbgehaNgQAAAAAAA6pDAj8L1KFxrh8C4HoXrUcGRwKRwPQrXxJDAAAAAAADscUC4HoXrUfhkwPYoXI/CvXBAzczMzMwMVMApXI/C9WhOwHsUrkfhJJpA4XoUrkcjj8Bcj8L1KKiMwDVeukkMfZjAzczMzMzcVEAK16NwPUyFwDMzMzMz/Y/ASOF6FK47d8BxPQrXo8iFwBSuR+F6gHpAPQrXo3CVZUAzMzMzM5OHQBSuR+F6FBRA5dAi2/m8w8CkcD0K1/OLwHE9CtejeIzAMzMzMzNHdECamZmZmaeIwOxRuB6Fb4DApHA9CtfrbEAUrkfheniDQGZmZmZmjnpAcT0K16OSiUD4U+Ol222iwB+F61G4f5TAUrgehetdd8ApXI/C9eB3wClcj8J1SKnAj8L1KFxhqcAAAAAAAKKDwI/C9Shcf5rAmpmZmRlMrMBmZmZmZu54wHE9Ctej4F7AH4XrUbiEhMDNzMzMzEqGwDMzMzMzQ2TAmpmZmZmZAUAAAAAAAEBTwM3MzMzM5JDAcT0K16PygUBcj8L1KGSRQFyPwvUojI9AH4XrUbgeDcB/arx0k+hwQD81XrpJ3HhACtejcD16VUDD9Shcj/JzQPYoXI/CCYNAexSuR+G6WUCamZmZmRkowBSuR+F6jGvAexSuR+HPlUApXI/C9chnwHE9CtejcCPAZmZmZmY2gsDhehSuRyCQwFyPwvUoNHtAGQRWDi0SMEAUrkfherKCwArXo3A92IXA9ihcj8LRcMC4HoXrUQB6wFyPwvUogH3AXI/C9ShweUAAAAAAADBkwGZmZmZm7mnAFK5H4Xo4e8CamZmZmbGDwOxRuB6F62LAFK5H4XqUbkD2KFyPwu2CQOF6FK5HsVTAhetRuB6FUcAUrkfhenxqwAAAAAAAtITA7FG4HoWHkMBcj8L1KDx1QMP1KFyP0mrAhetRuB6VfcA9CtejcOVxwLgehetR8GLA16NwPQqnZsA9CtejcH1twBSuR+F6fHHAAAAAAABKhkDNzMzMzOxhwHsUrkfh3JPA7FG4HoURkcBcj8L1KPmRwNejcD0KEYzA4XoUrkeZlMCamZmZmeGLwM3MzMzMy5DACtejcD33kMAfhetRuBiSwClcj8L1VIvAzczMzMxplMDhehSuR/aSwPYoXI/CB4LAuB6F61EYSsAUrkfhetaJwNejcD0KfYvAw/UoXI+KhUBSuB6F67FNQKRwPQrXa2FAPQrXo3C1g8Bcj8L1KBKLwHsUrkfh8obArkfhehRmj8AfhetRuISPwD0K16NwXYzAFK5H4XqikMBcj8L1KKyNwJqZmZmZOY3A5dAi2/lMpcAAAAAAAPKOwB+F61G4anHAmpmZmZn5ZMDD9Shcj5puwHE9Ctej55HA7FG4HoVviMBcj8L1KO6BwFyPwvUoo5HA9ihcj8IzgsBmZmZmZuqJwK5H4XoU7kTAhetRuB71ZkBmZmZmZoZCwK5H4XoUbl1AH4XrUbiMhcAAAAAAAHSDwK5H4XoUPmHAuB6F61HUgcDhehSuR6FAQOF6FK5HITdAw/UoXI96dMCkcD0K102EQAAAAAAAZHJAexSuR+HOfsBcj8L1KNR7QBfZzvdTcXRArkfhehSmgcD2KFyPwteBwMHKoUW2p4zAqMZLN4lBWMDNzMzMzAR1QJqZmZmZIWrAcT0K16Pgh0DNzMzMzDKBwHE9CtejrZPAUrgehev5gMBSuB6F60uCQMP1KFyPyIHAcT0K16OMiMDsUbgehTd5wClcj8L1eGhAmpmZmZnphEDD9Shcj5puwK5H4XoU+nlAUrgehetZcECPwvUoXB9wQPYoXI/C0pLACKwcWqRkqMC4HoXrUWRxQPYoXI/CJVTAFK5H4XqAc0CamZmZmX1zQHE9CtejyHDA9ihcj8JVQMAK16NwPXKHQAAAAAAAMFFA16NwPQqLjEC+nxov3YJ7QFyPwvUoFGZAPQrXo3ADg0AfhetRuPqBQNV46SYxSoFASOF6FK7HIEAK16NwPY5yQOF6FK5HwVZAMzMzMzMvdkBSuB6F6713QFK4HoXrqWBAzczMzMz8ZEApXI/C9UKAQFK4HoXr/XlApHA9Ctd3h0AfhetRuASMQJqZmZmZ1YhAzczMzMw8ekBcj8L1KB6PQB+F61G4WoFA9ihcj8JJiUAK16NwPTSDQCGwcmiRDoNAexSuR+GKi0DNzMzMzPRkQJqZmZmZmRDAPQrXo3A9/r/D9Shcj8JHwOxRuB6FayjAAAAAAABodUAUrkfheoqDQAAAAAAA8FHAzczMzMyQe0Bcj8L1KKRgQClcj8L1HHBAKVyPwvX4UUBmZmZmZoqDQHsUrkfhUIFAKVyPwvWoTUCPwvUoXO9SQMP1KFyPBn5A16NwPQo/YUCPwvUoXC9sQK5H4XoUgnxAAAAAAADAW0DNzMzMzFx6QDMzMzMzP4xAcT0K16PQUUDsUbgehYtFQLgehetRqoFAAAAAAADwUEAK16NwPVpWQMP1KFyP6mtAFK5H4Xq4cMB7FK5H4cpkQCuHFtnOBZzA4XoUrkfxcMApXI/C9ZB6wPYoXI/CN41Aj8L1KFyPFcCuR+F6FAiJQHsUrkfh+lbAexSuR+FKV0CuR+F6FM5nwKRwPQrXI23ArkfhehTObcBmZmZmZpZXQKRwPQrXl3PAcT0K16PMgcAhsHJokVqHwFK4HoXrMYjACtejcD1KTkCF61G4nv2YQFyPwvUoBGhAKVyPwvWsckDNzMzMzOxMwFyPwvUocHHAMzMzMzN7asC4HoXrUZhowGZmZmZmInXAAAAAAIAEokB/arx0k+hwQEjhehSuOYnAuB6F61G+i0DD9Shcj5SJQDMzMzMzM/e/UrgehetRHEDsUbgehZ2KQEjhehSuh0hAKVyPwvW1mEAK16NwPVpoQLgehetRcG1ACtejcD0Ce8DhehSuR82HwFK4HoXrv4fAK4cW2c7Rg8BmZmZmZo6OwMHKoUW2p4zAZmZmZmZmL0CamZmZmaOLwNejcD0KJ3dApHA9CtdTYMC4HoXrUbgtwGZmZmZmTnzAZmZmZmZmOkDD9Shcj9JXwClcj8L1uJZAcT0K16NQaMBqvHSTGBKUwI/C9ShcjxnASOF6FK5bdsDsUbgehfGDQClcj8L14ozAMzMzMzM7iEAUrkfhesRcwLgehetRGEDAH4XrUbhGf8DsUbgehceEQMHKoUW2W4hAzczMzMycgkBSuB6F6+ODQOF6FK5HDpBArkfhehSchkA9CtejcFeIQI/C9Shc92jAFK5H4XoehkCamZmZmWGQQKRwPQrX93pA4XoUrkd5g0A9CtejcFWLQHE9CtejjIJA9ihcj8JRmED2KFyPwqOHQArXo3A9noNAUrgehevNi0DsUbgehb2NQNV46SYxvHfApHA9CtfveMDXo3A9Cu9lwB+F61G4HljAUrgehesbiEA9CtejcL0kQLgehetRKGHAj8L1KFyxjUAAAAAAAICEQK5H4XoU8IxAYOXQItuojUDsUbgehb2AQBSuR+F6wIRAexSuR+E2gUCPwvUoXO9iQBSuR+F6NGZAhetRuB6FOEBxPQrXozBrQIXrUbgeAY9A4XoUrkfcncA9CtejcFuBwI2XbhLDCbTAI9v5fqp4oECPwvUoXISwwK5H4XoUPJTAw/UoXA/goMAUrkfhelyewHsUrkfhnJfAexSuR+EWg8D2KFyPwnGtwDMzMzMzMwtAcT0K16OgU8AK16NwPYo7wOF6FK5H8WlAhetRuB6hdcA=",
          "dtype": "f8"
         }
        },
        {
         "hovertemplate": "<b>%{text}</b><br>Lat: %{y:.2f}<br>Lon: %{x:.2f}<extra></extra>",
         "marker": {
          "color": "red",
          "size": 12,
          "symbol": "circle"
         },
         "mode": "markers+text",
         "name": "Stations",
         "text": [
          "KJ09",
          "KJ05",
          "KJ05",
          "KJ05",
          "KJ09",
          "KJ14",
          "KJ13",
          "KJ14",
          "KJ12",
          "KJ14",
          "KJ13",
          "KJ14",
          "KJ12",
          "KJ12",
          "KJ14",
          "KJ02",
          "KJ08",
          "KJ02",
          "KJ02",
          "KJ02",
          "KJ06",
          "KJ06",
          "KJ11",
          "KJ11",
          "KJ02",
          "KJ02",
          "KJ02",
          "KJ02",
          "KJ01",
          "KJ02",
          "KJ02",
          "KJ02",
          "KJ02",
          "KJ01",
          "KJ01",
          "KJ01",
          "KJ01",
          "KJ02",
          "KJ02",
          "KJ02",
          "KJ02",
          "KJ08",
          "KJ02",
          "KJ02",
          "KJ04",
          "KJ04",
          "KJ02",
          "KJ02",
          "KJ02",
          "KJ06",
          "KJ02",
          "KJ02",
          "KJ02",
          "KJ02",
          "KJ02",
          "KJ02",
          "KJ02",
          "KJ02",
          "KJ02",
          "KJ02",
          "KJ02",
          "KJ02",
          "KJ02",
          "KJ02",
          "KJ02",
          "KJ02",
          "KJ02",
          "KJ02",
          "KJ02",
          "KJ02",
          "KJ02",
          "KJ02",
          "KJ02",
          "KJ02",
          "KJ02",
          "KJ02",
          "KJ02",
          "KJ06",
          "KJ06",
          "KJ14",
          "KJ02",
          "KJ02",
          "KJ02",
          "KJ02",
          "KJ02",
          "KJ13",
          "KJ12",
          "KJ02",
          "KJ14",
          "KJ02",
          "KJ02",
          "KJ06",
          "KJ05",
          "KJ02",
          "KJ02",
          "KJ02",
          "KJ02",
          "KJ02",
          "KJ02",
          "KJ02",
          "KJ02",
          "KJ02",
          "KJ02",
          "KJ02",
          "KJ02",
          "KJ02",
          "KJ04",
          "KJ02",
          "KJ02",
          "KJ04",
          "KJ02",
          "KJ02",
          "KJ02",
          "KJ02",
          "KJ13",
          "KJ02",
          "KJ02",
          "KJ13",
          "KJ13",
          "KJ04",
          "KJ02",
          "KJ02",
          "KJ02",
          "KJ02",
          "KJ12",
          "KJ02",
          "KJ02",
          "KJ02",
          "KJ04",
          "KJ02",
          "KJ02",
          "KJ02",
          "KJ02",
          "KJ02",
          "KJ13",
          "KJ02",
          "KJ13",
          "KJ09",
          "KJ13",
          "KJ01",
          "KJ06",
          "KJ04",
          "KJ04",
          "KJ01",
          "KJ09",
          "KJ14",
          "KJ02",
          "KJ02",
          "KJ02",
          "KJ02",
          "KJ02",
          "KJ02",
          "KJ02",
          "KJ02",
          "KJ02",
          "KJ13",
          "KJ02",
          "KJ02",
          "KJ02",
          "KJ02",
          "KJ04",
          "KJ04",
          "KJ04",
          "KJ04",
          "KJ04",
          "KJ04",
          "KJ04",
          "KJ04",
          "KJ04",
          "KJ04",
          "KJ04",
          "KJ04",
          "KJ04",
          "KJ04",
          "KJ04",
          "KJ04",
          "KJ04",
          "KJ04",
          "KJ04",
          "KJ04",
          "KJ04",
          "KJ04",
          "KJ04",
          "KJ04",
          "KJ04",
          "KJ04",
          "KJ04",
          "KJ04",
          "KJ04",
          "KJ04",
          "KJ04",
          "KJ04",
          "KJ04",
          "KJ04",
          "KJ04",
          "KJ04",
          "KJ04",
          "KJ04",
          "KJ04",
          "KJ04",
          "KJ04",
          "KJ04",
          "KJ04",
          "KJ04",
          "KJ04",
          "KJ14",
          "KJ02",
          "KJ02",
          "KJ02",
          "KJ02",
          "KJ14",
          "KJ02",
          "KJ02",
          "KJ02",
          "KJ02",
          "KJ10",
          "KJ12",
          "KJ04",
          "KJ02",
          "KJ02",
          "KJ02",
          "KJ11",
          "KJ12",
          "KJ11",
          "KJ02",
          "KJ02",
          "KJ02",
          "KJ02",
          "KJ02",
          "KJ02",
          "KJ02",
          "KJ02",
          "KJ02",
          "KJ02",
          "KJ02",
          "KJ02",
          "KJ02",
          "KJ02",
          "KJ02",
          "KJ02",
          "KJ02",
          "KJ02",
          "KJ02",
          "KJ02",
          "KJ02",
          "KJ02",
          "KJ02",
          "KJ02",
          "KJ02",
          "KJ02",
          "KJ02",
          "KJ06",
          "KJ02",
          "KJ02",
          "KJ02",
          "KJ02",
          "KJ02",
          "KJ02",
          "KJ02",
          "KJ02",
          "KJ02",
          "KJ02",
          "KJ02",
          "KJ02",
          "KJ02",
          "KJ02",
          "KJ02",
          "KJ02",
          "KJ02",
          "KJ02",
          "KJ02",
          "KJ02",
          "KJ02",
          "KJ02",
          "KJ02",
          "KJ02",
          "KJ02",
          "KJ02",
          "KJ02",
          "KJ02",
          "KJ06",
          "KJ02",
          "KJ02",
          "KJ01",
          "KJ11",
          "KJ11",
          "KJ10",
          "KJ14",
          "KJ12",
          "KJ02",
          "KJ02",
          "KJ06",
          "KJ11",
          "KJ02",
          "KJ02",
          "KJ02",
          "KJ02",
          "KJ01",
          "KJ02",
          "KJ11",
          "KJ07",
          "KJ05",
          "KJ02",
          "KJ02",
          "KJ02",
          "KJ02",
          "KJ02",
          "KJ02",
          "KJ02",
          "KJ02",
          "KJ02",
          "KJ15",
          "KJ13",
          "KJ13",
          "KJ13",
          "KJ02",
          "KJ02",
          "KJ02",
          "KJ02",
          "KJ02",
          "KJ13",
          "KJ02",
          "KJ02",
          "KJ02",
          "KJ11",
          "KJ02",
          "KJ02",
          "KJ02",
          "KJ02",
          "KJ02",
          "KJ02",
          "KJ02",
          "KJ02",
          "KJ11",
          "KJ02",
          "KJ02",
          "KJ02",
          "KJ05",
          "KJ02",
          "KJ11",
          "KJ11",
          "KJ02",
          "KJ04",
          "KJ02",
          "KJ02",
          "KJ02",
          "KJ02",
          "KJ02",
          "KJ05",
          "KJ02",
          "KJ08",
          "KJ02",
          "KJ01",
          "KJ02",
          "KJ02",
          "KJ02",
          "KJ02",
          "KJ02",
          "KJ02",
          "KJ02",
          "KJ02",
          "KJ02",
          "KJ02",
          "KJ02",
          "KJ02",
          "KJ02",
          "KJ04",
          "KJ02",
          "KJ06",
          "KJ11",
          "KJ14",
          "KJ14",
          "KJ14",
          "KJ14",
          "KJ11",
          "KJ02",
          "KJ02",
          "KJ02",
          "KJ02",
          "KJ14",
          "KJ02",
          "KJ11",
          "KJ02",
          "KJ13",
          "KJ04",
          "KJ02",
          "KJ04",
          "KJ11",
          "KJ02",
          "KJ02",
          "KJ02",
          "KJ05",
          "KJ09",
          "KJ02",
          "KJ05",
          "KJ11",
          "KJ11",
          "KJ06",
          "KJ02",
          "KJ11",
          "KJ14",
          "KJ13",
          "KJ13",
          "KJ06",
          "KJ13",
          "KJ11",
          "KJ02",
          "KJ02",
          "KJ02",
          "KJ13",
          "KJ13",
          "KJ06",
          "KJ02",
          "KJ02",
          "KJ02",
          "KJ02",
          "KJ02",
          "KJ01",
          "KJ13",
          "KJ13",
          "KJ02",
          "KJ02",
          "KJ02",
          "KJ02",
          "KJ02",
          "KJ02",
          "KJ02",
          "KJ02",
          "KJ13",
          "KJ02",
          "KJ02",
          "KJ02",
          "KJ02",
          "KJ02",
          "KJ02",
          "KJ02",
          "KJ02",
          "KJ02",
          "KJ02",
          "KJ02",
          "KJ02",
          "KJ02",
          "KJ02",
          "KJ04",
          "KJ02",
          "KJ02",
          "KJ02",
          "KJ04",
          "KJ04",
          "KJ14",
          "KJ14",
          "KJ14",
          "KJ04",
          "KJ05",
          "KJ10",
          "KJ04",
          "KJ04",
          "KJ04",
          "KJ02",
          "KJ02",
          "KJ11",
          "KJ02",
          "KJ02",
          "KJ02",
          "KJ14",
          "KJ05",
          "KJ02",
          "KJ06",
          "KJ06",
          "KJ05",
          "KJ02",
          "KJ02",
          "KJ05",
          "KJ02",
          "KJ02",
          "KJ06",
          "KJ09",
          "KJ04",
          "KJ02",
          "KJ02",
          "KJ02",
          "KJ04",
          "KJ10",
          "KJ14",
          "KJ10",
          "KJ10",
          "KJ02",
          "KJ02",
          "KJ02",
          "KJ14",
          "KJ14",
          "KJ14",
          "KJ02",
          "KJ04",
          "KJ02",
          "KJ02",
          "KJ02",
          "KJ02",
          "KJ05",
          "KJ02",
          "KJ10",
          "KJ02",
          "KJ02",
          "KJ02",
          "KJ02",
          "KJ02",
          "KJ10",
          "KJ02",
          "KJ02",
          "KJ02",
          "KJ02",
          "KJ02",
          "KJ02",
          "KJ02",
          "KJ02",
          "KJ02",
          "KJ02",
          "KJ09",
          "KJ02",
          "KJ14",
          "KJ02",
          "KJ02",
          "KJ02",
          "KJ02",
          "KJ02",
          "KJ02",
          "KJ02",
          "KJ02",
          "KJ02",
          "KJ04",
          "KJ04",
          "KJ04",
          "KJ04",
          "KJ04",
          "KJ04",
          "KJ04",
          "KJ04",
          "KJ04",
          "KJ04",
          "KJ04",
          "KJ04",
          "KJ04",
          "KJ04",
          "KJ04",
          "KJ04",
          "KJ14",
          "KJ14",
          "KJ10",
          "KJ10",
          "KJ10",
          "KJ02",
          "KJ02",
          "KJ02",
          "KJ02",
          "KJ02",
          "KJ02",
          "KJ02",
          "KJ02",
          "KJ02",
          "KJ09",
          "KJ14",
          "KJ02",
          "KJ02",
          "KJ02",
          "KJ02",
          "KJ04",
          "KJ02",
          "KJ02",
          "KJ04",
          "KJ02",
          "KJ02",
          "KJ02",
          "KJ02",
          "KJ02",
          "KJ10",
          "KJ02",
          "KJ02",
          "KJ02",
          "KJ02",
          "KJ02",
          "KJ02",
          "KJ02",
          "KJ10",
          "KJ02",
          "KJ02",
          "KJ07",
          "KJ07",
          "KJ06",
          "KJ06",
          "KJ07",
          "KJ06",
          "KJ08",
          "KJ02",
          "KJ02",
          "KJ02",
          "KJ02",
          "KJ06",
          "KJ02",
          "KJ02",
          "KJ02",
          "KJ02",
          "KJ02",
          "KJ12",
          "KJ10",
          "KJ14",
          "KJ10",
          "KJ06",
          "KJ12",
          "KJ06",
          "KJ01",
          "KJ02",
          "KJ02",
          "KJ10",
          "KJ10",
          "KJ02",
          "KJ10",
          "KJ10",
          "KJ10",
          "KJ14",
          "KJ10",
          "KJ12",
          "KJ10",
          "KJ10",
          "KJ14",
          "KJ10",
          "KJ10",
          "KJ10",
          "KJ10",
          "KJ14",
          "KJ10",
          "KJ10",
          "KJ10",
          "KJ10",
          "KJ10",
          "KJ10",
          "KJ14",
          "KJ10",
          "KJ10",
          "KJ10",
          "KJ10",
          "KJ10",
          "KJ10",
          "KJ10",
          "KJ10",
          "KJ10",
          "KJ10",
          "KJ10",
          "KJ10",
          "KJ10",
          "KJ12",
          "KJ10",
          "KJ10",
          "KJ10",
          "KJ10",
          "KJ12",
          "KJ10",
          "KJ10",
          "KJ10",
          "KJ10",
          "KJ10",
          "KJ10",
          "KJ10",
          "KJ10",
          "KJ10",
          "KJ14",
          "KJ10",
          "KJ12",
          "KJ10",
          "KJ10",
          "KJ10",
          "KJ14",
          "KJ10",
          "KJ10",
          "KJ02",
          "KJ02",
          "KJ14",
          "KJ03",
          "KJ03",
          "KJ02",
          "KJ02",
          "KJ02",
          "KJ02",
          "KJ02",
          "KJ02",
          "KJ02",
          "KJ02",
          "KJ02",
          "KJ02",
          "KJ04",
          "KJ04",
          "KJ10",
          "KJ02",
          "KJ02",
          "KJ14",
          "KJ02",
          "KJ14",
          "KJ02",
          "KJ02",
          "KJ02",
          "KJ02",
          "KJ02",
          "KJ02",
          "KJ14",
          "KJ14",
          "KJ02",
          "KJ14",
          "KJ10",
          "KJ02",
          "KJ02",
          "KJ14",
          "KJ02",
          "KJ14",
          "KJ02",
          "KJ02",
          "KJ02",
          "KJ02",
          "KJ02",
          "KJ05",
          "KJ02",
          "KJ02",
          "KJ02",
          "KJ02",
          "KJ02",
          "KJ02",
          "KJ02",
          "KJ02",
          "KJ10",
          "KJ06",
          "KJ06",
          "KJ02",
          "KJ06",
          "KJ14",
          "KJ10",
          "KJ02",
          "KJ14",
          "KJ02",
          "KJ14",
          "KJ06",
          "KJ06",
          "KJ06",
          "KJ14",
          "KJ14",
          "KJ14",
          "KJ10",
          "KJ10",
          "KJ10",
          "KJ10",
          "KJ06",
          "KJ14",
          "KJ10",
          "KJ14",
          "KJ14",
          "KJ14",
          "KJ14",
          "KJ14",
          "KJ14",
          "KJ12",
          "KJ14",
          "KJ10",
          "KJ04",
          "KJ10",
          "KJ04",
          "KJ02",
          "KJ02",
          "KJ14",
          "KJ02",
          "KJ02",
          "KJ14",
          "KJ10",
          "KJ14",
          "KJ14",
          "KJ14",
          "KJ10",
          "KJ10",
          "KJ14",
          "KJ10",
          "KJ10",
          "KJ02",
          "KJ10",
          "KJ14",
          "KJ14",
          "KJ14",
          "KJ02",
          "KJ14",
          "KJ14",
          "KJ14",
          "KJ04",
          "KJ14",
          "KJ04",
          "KJ04",
          "KJ14",
          "KJ02",
          "KJ02",
          "KJ02",
          "KJ10",
          "KJ02"
         ],
         "textfont": {
          "color": "#333333",
          "size": 12
         },
         "textposition": "top center",
         "type": "scatter3d",
         "x": {
          "bdata": "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",
          "dtype": "f8"
         },
         "y": {
          "bdata": "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",
          "dtype": "f8"
         },
         "z": {
          "bdata": "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",
          "dtype": "i2"
         }
        }
       ],
       "layout": {
        "coloraxis": {
         "colorbar": {
          "title": {
           "text": "elev_m"
          }
         },
         "colorscale": [
          [
           0,
           "#440154"
          ],
          [
           0.1111111111111111,
           "#482878"
          ],
          [
           0.2222222222222222,
           "#3e4989"
          ],
          [
           0.3333333333333333,
           "#31688e"
          ],
          [
           0.4444444444444444,
           "#26828e"
          ],
          [
           0.5555555555555556,
           "#1f9e89"
          ],
          [
           0.6666666666666666,
           "#35b779"
          ],
          [
           0.7777777777777778,
           "#6ece58"
          ],
          [
           0.8888888888888888,
           "#b5de2b"
          ],
          [
           1,
           "#fde725"
          ]
         ]
        },
        "height": 720,
        "legend": {
         "bgcolor": "rgba(255,255,255,0.5)",
         "itemsizing": "constant",
         "tracegroupgap": 0,
         "x": 0.01,
         "xanchor": "left",
         "y": 0.99,
         "yanchor": "top"
        },
        "scene": {
         "aspectmode": "manual",
         "aspectratio": {
          "x": 1,
          "y": 1,
          "z": 1
         },
         "camera": {
          "eye": {
           "x": 0.5,
           "y": 0.5,
           "z": 0.5
          },
          "up": {
           "x": 0,
           "y": 0,
           "z": 1
          }
         },
         "domain": {
          "x": [
           0,
           1
          ],
          "y": [
           0,
           1
          ]
         },
         "xaxis": {
          "title": {
           "text": "Longitude"
          }
         },
         "yaxis": {
          "title": {
           "text": "Latitude"
          }
         },
         "zaxis": {
          "title": {
           "text": "Elev (m)"
          }
         }
        },
        "showlegend": true,
        "template": {
         "data": {
          "bar": [
           {
            "error_x": {
             "color": "#2a3f5f"
            },
            "error_y": {
             "color": "#2a3f5f"
            },
            "marker": {
             "line": {
              "color": "white",
              "width": 0.5
             },
             "pattern": {
              "fillmode": "overlay",
              "size": 10,
              "solidity": 0.2
             }
            },
            "type": "bar"
           }
          ],
          "barpolar": [
           {
            "marker": {
             "line": {
              "color": "white",
              "width": 0.5
             },
             "pattern": {
              "fillmode": "overlay",
              "size": 10,
              "solidity": 0.2
             }
            },
            "type": "barpolar"
           }
          ],
          "carpet": [
           {
            "aaxis": {
             "endlinecolor": "#2a3f5f",
             "gridcolor": "#C8D4E3",
             "linecolor": "#C8D4E3",
             "minorgridcolor": "#C8D4E3",
             "startlinecolor": "#2a3f5f"
            },
            "baxis": {
             "endlinecolor": "#2a3f5f",
             "gridcolor": "#C8D4E3",
             "linecolor": "#C8D4E3",
             "minorgridcolor": "#C8D4E3",
             "startlinecolor": "#2a3f5f"
            },
            "type": "carpet"
           }
          ],
          "choropleth": [
           {
            "colorbar": {
             "outlinewidth": 0,
             "ticks": ""
            },
            "type": "choropleth"
           }
          ],
          "contour": [
           {
            "colorbar": {
             "outlinewidth": 0,
             "ticks": ""
            },
            "colorscale": [
             [
              0,
              "#0d0887"
             ],
             [
              0.1111111111111111,
              "#46039f"
             ],
             [
              0.2222222222222222,
              "#7201a8"
             ],
             [
              0.3333333333333333,
              "#9c179e"
             ],
             [
              0.4444444444444444,
              "#bd3786"
             ],
             [
              0.5555555555555556,
              "#d8576b"
             ],
             [
              0.6666666666666666,
              "#ed7953"
             ],
             [
              0.7777777777777778,
              "#fb9f3a"
             ],
             [
              0.8888888888888888,
              "#fdca26"
             ],
             [
              1,
              "#f0f921"
             ]
            ],
            "type": "contour"
           }
          ],
          "contourcarpet": [
           {
            "colorbar": {
             "outlinewidth": 0,
             "ticks": ""
            },
            "type": "contourcarpet"
           }
          ],
          "heatmap": [
           {
            "colorbar": {
             "outlinewidth": 0,
             "ticks": ""
            },
            "colorscale": [
             [
              0,
              "#0d0887"
             ],
             [
              0.1111111111111111,
              "#46039f"
             ],
             [
              0.2222222222222222,
              "#7201a8"
             ],
             [
              0.3333333333333333,
              "#9c179e"
             ],
             [
              0.4444444444444444,
              "#bd3786"
             ],
             [
              0.5555555555555556,
              "#d8576b"
             ],
             [
              0.6666666666666666,
              "#ed7953"
             ],
             [
              0.7777777777777778,
              "#fb9f3a"
             ],
             [
              0.8888888888888888,
              "#fdca26"
             ],
             [
              1,
              "#f0f921"
             ]
            ],
            "type": "heatmap"
           }
          ],
          "histogram": [
           {
            "marker": {
             "pattern": {
              "fillmode": "overlay",
              "size": 10,
              "solidity": 0.2
             }
            },
            "type": "histogram"
           }
          ],
          "histogram2d": [
           {
            "colorbar": {
             "outlinewidth": 0,
             "ticks": ""
            },
            "colorscale": [
             [
              0,
              "#0d0887"
             ],
             [
              0.1111111111111111,
              "#46039f"
             ],
             [
              0.2222222222222222,
              "#7201a8"
             ],
             [
              0.3333333333333333,
              "#9c179e"
             ],
             [
              0.4444444444444444,
              "#bd3786"
             ],
             [
              0.5555555555555556,
              "#d8576b"
             ],
             [
              0.6666666666666666,
              "#ed7953"
             ],
             [
              0.7777777777777778,
              "#fb9f3a"
             ],
             [
              0.8888888888888888,
              "#fdca26"
             ],
             [
              1,
              "#f0f921"
             ]
            ],
            "type": "histogram2d"
           }
          ],
          "histogram2dcontour": [
           {
            "colorbar": {
             "outlinewidth": 0,
             "ticks": ""
            },
            "colorscale": [
             [
              0,
              "#0d0887"
             ],
             [
              0.1111111111111111,
              "#46039f"
             ],
             [
              0.2222222222222222,
              "#7201a8"
             ],
             [
              0.3333333333333333,
              "#9c179e"
             ],
             [
              0.4444444444444444,
              "#bd3786"
             ],
             [
              0.5555555555555556,
              "#d8576b"
             ],
             [
              0.6666666666666666,
              "#ed7953"
             ],
             [
              0.7777777777777778,
              "#fb9f3a"
             ],
             [
              0.8888888888888888,
              "#fdca26"
             ],
             [
              1,
              "#f0f921"
             ]
            ],
            "type": "histogram2dcontour"
           }
          ],
          "mesh3d": [
           {
            "colorbar": {
             "outlinewidth": 0,
             "ticks": ""
            },
            "type": "mesh3d"
           }
          ],
          "parcoords": [
           {
            "line": {
             "colorbar": {
              "outlinewidth": 0,
              "ticks": ""
             }
            },
            "type": "parcoords"
           }
          ],
          "pie": [
           {
            "automargin": true,
            "type": "pie"
           }
          ],
          "scatter": [
           {
            "fillpattern": {
             "fillmode": "overlay",
             "size": 10,
             "solidity": 0.2
            },
            "type": "scatter"
           }
          ],
          "scatter3d": [
           {
            "line": {
             "colorbar": {
              "outlinewidth": 0,
              "ticks": ""
             }
            },
            "marker": {
             "colorbar": {
              "outlinewidth": 0,
              "ticks": ""
             }
            },
            "type": "scatter3d"
           }
          ],
          "scattercarpet": [
           {
            "marker": {
             "colorbar": {
              "outlinewidth": 0,
              "ticks": ""
             }
            },
            "type": "scattercarpet"
           }
          ],
          "scattergeo": [
           {
            "marker": {
             "colorbar": {
              "outlinewidth": 0,
              "ticks": ""
             }
            },
            "type": "scattergeo"
           }
          ],
          "scattergl": [
           {
            "marker": {
             "colorbar": {
              "outlinewidth": 0,
              "ticks": ""
             }
            },
            "type": "scattergl"
           }
          ],
          "scattermap": [
           {
            "marker": {
             "colorbar": {
              "outlinewidth": 0,
              "ticks": ""
             }
            },
            "type": "scattermap"
           }
          ],
          "scattermapbox": [
           {
            "marker": {
             "colorbar": {
              "outlinewidth": 0,
              "ticks": ""
             }
            },
            "type": "scattermapbox"
           }
          ],
          "scatterpolar": [
           {
            "marker": {
             "colorbar": {
              "outlinewidth": 0,
              "ticks": ""
             }
            },
            "type": "scatterpolar"
           }
          ],
          "scatterpolargl": [
           {
            "marker": {
             "colorbar": {
              "outlinewidth": 0,
              "ticks": ""
             }
            },
            "type": "scatterpolargl"
           }
          ],
          "scatterternary": [
           {
            "marker": {
             "colorbar": {
              "outlinewidth": 0,
              "ticks": ""
             }
            },
            "type": "scatterternary"
           }
          ],
          "surface": [
           {
            "colorbar": {
             "outlinewidth": 0,
             "ticks": ""
            },
            "colorscale": [
             [
              0,
              "#0d0887"
             ],
             [
              0.1111111111111111,
              "#46039f"
             ],
             [
              0.2222222222222222,
              "#7201a8"
             ],
             [
              0.3333333333333333,
              "#9c179e"
             ],
             [
              0.4444444444444444,
              "#bd3786"
             ],
             [
              0.5555555555555556,
              "#d8576b"
             ],
             [
              0.6666666666666666,
              "#ed7953"
             ],
             [
              0.7777777777777778,
              "#fb9f3a"
             ],
             [
              0.8888888888888888,
              "#fdca26"
             ],
             [
              1,
              "#f0f921"
             ]
            ],
            "type": "surface"
           }
          ],
          "table": [
           {
            "cells": {
             "fill": {
              "color": "#EBF0F8"
             },
             "line": {
              "color": "white"
             }
            },
            "header": {
             "fill": {
              "color": "#C8D4E3"
             },
             "line": {
              "color": "white"
             }
            },
            "type": "table"
           }
          ]
         },
         "layout": {
          "annotationdefaults": {
           "arrowcolor": "#2a3f5f",
           "arrowhead": 0,
           "arrowwidth": 1
          },
          "autotypenumbers": "strict",
          "coloraxis": {
           "colorbar": {
            "outlinewidth": 0,
            "ticks": ""
           }
          },
          "colorscale": {
           "diverging": [
            [
             0,
             "#8e0152"
            ],
            [
             0.1,
             "#c51b7d"
            ],
            [
             0.2,
             "#de77ae"
            ],
            [
             0.3,
             "#f1b6da"
            ],
            [
             0.4,
             "#fde0ef"
            ],
            [
             0.5,
             "#f7f7f7"
            ],
            [
             0.6,
             "#e6f5d0"
            ],
            [
             0.7,
             "#b8e186"
            ],
            [
             0.8,
             "#7fbc41"
            ],
            [
             0.9,
             "#4d9221"
            ],
            [
             1,
             "#276419"
            ]
           ],
           "sequential": [
            [
             0,
             "#0d0887"
            ],
            [
             0.1111111111111111,
             "#46039f"
            ],
            [
             0.2222222222222222,
             "#7201a8"
            ],
            [
             0.3333333333333333,
             "#9c179e"
            ],
            [
             0.4444444444444444,
             "#bd3786"
            ],
            [
             0.5555555555555556,
             "#d8576b"
            ],
            [
             0.6666666666666666,
             "#ed7953"
            ],
            [
             0.7777777777777778,
             "#fb9f3a"
            ],
            [
             0.8888888888888888,
             "#fdca26"
            ],
            [
             1,
             "#f0f921"
            ]
           ],
           "sequentialminus": [
            [
             0,
             "#0d0887"
            ],
            [
             0.1111111111111111,
             "#46039f"
            ],
            [
             0.2222222222222222,
             "#7201a8"
            ],
            [
             0.3333333333333333,
             "#9c179e"
            ],
            [
             0.4444444444444444,
             "#bd3786"
            ],
            [
             0.5555555555555556,
             "#d8576b"
            ],
            [
             0.6666666666666666,
             "#ed7953"
            ],
            [
             0.7777777777777778,
             "#fb9f3a"
            ],
            [
             0.8888888888888888,
             "#fdca26"
            ],
            [
             1,
             "#f0f921"
            ]
           ]
          },
          "colorway": [
           "#636efa",
           "#EF553B",
           "#00cc96",
           "#ab63fa",
           "#FFA15A",
           "#19d3f3",
           "#FF6692",
           "#B6E880",
           "#FF97FF",
           "#FECB52"
          ],
          "font": {
           "color": "#2a3f5f"
          },
          "geo": {
           "bgcolor": "white",
           "lakecolor": "white",
           "landcolor": "white",
           "showlakes": true,
           "showland": true,
           "subunitcolor": "#C8D4E3"
          },
          "hoverlabel": {
           "align": "left"
          },
          "hovermode": "closest",
          "mapbox": {
           "style": "light"
          },
          "paper_bgcolor": "white",
          "plot_bgcolor": "white",
          "polar": {
           "angularaxis": {
            "gridcolor": "#EBF0F8",
            "linecolor": "#EBF0F8",
            "ticks": ""
           },
           "bgcolor": "white",
           "radialaxis": {
            "gridcolor": "#EBF0F8",
            "linecolor": "#EBF0F8",
            "ticks": ""
           }
          },
          "scene": {
           "xaxis": {
            "backgroundcolor": "white",
            "gridcolor": "#DFE8F3",
            "gridwidth": 2,
            "linecolor": "#EBF0F8",
            "showbackground": true,
            "ticks": "",
            "zerolinecolor": "#EBF0F8"
           },
           "yaxis": {
            "backgroundcolor": "white",
            "gridcolor": "#DFE8F3",
            "gridwidth": 2,
            "linecolor": "#EBF0F8",
            "showbackground": true,
            "ticks": "",
            "zerolinecolor": "#EBF0F8"
           },
           "zaxis": {
            "backgroundcolor": "white",
            "gridcolor": "#DFE8F3",
            "gridwidth": 2,
            "linecolor": "#EBF0F8",
            "showbackground": true,
            "ticks": "",
            "zerolinecolor": "#EBF0F8"
           }
          },
          "shapedefaults": {
           "line": {
            "color": "#2a3f5f"
           }
          },
          "ternary": {
           "aaxis": {
            "gridcolor": "#DFE8F3",
            "linecolor": "#A2B1C6",
            "ticks": ""
           },
           "baxis": {
            "gridcolor": "#DFE8F3",
            "linecolor": "#A2B1C6",
            "ticks": ""
           },
           "bgcolor": "white",
           "caxis": {
            "gridcolor": "#DFE8F3",
            "linecolor": "#A2B1C6",
            "ticks": ""
           }
          },
          "title": {
           "x": 0.05
          },
          "xaxis": {
           "automargin": true,
           "gridcolor": "#EBF0F8",
           "linecolor": "#EBF0F8",
           "ticks": "",
           "title": {
            "standoff": 15
           },
           "zerolinecolor": "#EBF0F8",
           "zerolinewidth": 2
          },
          "yaxis": {
           "automargin": true,
           "gridcolor": "#EBF0F8",
           "linecolor": "#EBF0F8",
           "ticks": "",
           "title": {
            "standoff": 15
           },
           "zerolinecolor": "#EBF0F8",
           "zerolinewidth": 2
          }
         }
        },
        "title": {
         "text": "Earthquake Locations (3D)"
        },
        "width": 960
       }
      }
     },
     "metadata": {},
     "output_type": "display_data"
    }
   ],
   "source": [
    "# 3D Plot\n",
    "lqt_ready_2.plot_hypocenter_3d()"
   ]
  },
  {
   "cell_type": "markdown",
   "metadata": {},
   "source": [
    "### 6. Plotting Earthquake Intensities\n",
    "\n",
    "With `LqtAnalysis` class instances object you can also calculate and plot the earthquake intensity in specific time interval (e.g., `yearly`, `monthly`, `weekly`, `daily`, and `hourly`) by using `plot_intensity` class method."
   ]
  },
  {
   "cell_type": "markdown",
   "metadata": {},
   "source": [
    "**A. Yearly, Monthly, and Weekly Intensities**\n",
    "\n",
    "If you have a long period dataset that spans months or years, the `plot_intensity` class method provides you options to view earthquake intensities at yearly and monthly intervals, allowing you to analyze the historical trends in your earthquake data over time."
   ]
  },
  {
   "cell_type": "code",
   "execution_count": 10,
   "metadata": {},
   "outputs": [
    {
     "data": {
      "application/vnd.plotly.v1+json": {
       "config": {
        "plotlyServerURL": "https://plot.ly"
       },
       "data": [
        {
         "marker": {
          "color": "#FF9900"
         },
         "name": "Intensity",
         "opacity": 0.8,
         "type": "bar",
         "x": [
          "2024"
         ],
         "y": {
          "bdata": "HAM=",
          "dtype": "i2"
         }
        }
       ],
       "layout": {
        "bargap": 0.2,
        "height": 720,
        "legend": {
         "bgcolor": "rgba(255,255,255,0.5)",
         "x": 0.99,
         "xanchor": "right",
         "y": 0.99,
         "yanchor": "top"
        },
        "showlegend": true,
        "template": {
         "data": {
          "bar": [
           {
            "error_x": {
             "color": "#2a3f5f"
            },
            "error_y": {
             "color": "#2a3f5f"
            },
            "marker": {
             "line": {
              "color": "white",
              "width": 0.5
             },
             "pattern": {
              "fillmode": "overlay",
              "size": 10,
              "solidity": 0.2
             }
            },
            "type": "bar"
           }
          ],
          "barpolar": [
           {
            "marker": {
             "line": {
              "color": "white",
              "width": 0.5
             },
             "pattern": {
              "fillmode": "overlay",
              "size": 10,
              "solidity": 0.2
             }
            },
            "type": "barpolar"
           }
          ],
          "carpet": [
           {
            "aaxis": {
             "endlinecolor": "#2a3f5f",
             "gridcolor": "#C8D4E3",
             "linecolor": "#C8D4E3",
             "minorgridcolor": "#C8D4E3",
             "startlinecolor": "#2a3f5f"
            },
            "baxis": {
             "endlinecolor": "#2a3f5f",
             "gridcolor": "#C8D4E3",
             "linecolor": "#C8D4E3",
             "minorgridcolor": "#C8D4E3",
             "startlinecolor": "#2a3f5f"
            },
            "type": "carpet"
           }
          ],
          "choropleth": [
           {
            "colorbar": {
             "outlinewidth": 0,
             "ticks": ""
            },
            "type": "choropleth"
           }
          ],
          "contour": [
           {
            "colorbar": {
             "outlinewidth": 0,
             "ticks": ""
            },
            "colorscale": [
             [
              0,
              "#0d0887"
             ],
             [
              0.1111111111111111,
              "#46039f"
             ],
             [
              0.2222222222222222,
              "#7201a8"
             ],
             [
              0.3333333333333333,
              "#9c179e"
             ],
             [
              0.4444444444444444,
              "#bd3786"
             ],
             [
              0.5555555555555556,
              "#d8576b"
             ],
             [
              0.6666666666666666,
              "#ed7953"
             ],
             [
              0.7777777777777778,
              "#fb9f3a"
             ],
             [
              0.8888888888888888,
              "#fdca26"
             ],
             [
              1,
              "#f0f921"
             ]
            ],
            "type": "contour"
           }
          ],
          "contourcarpet": [
           {
            "colorbar": {
             "outlinewidth": 0,
             "ticks": ""
            },
            "type": "contourcarpet"
           }
          ],
          "heatmap": [
           {
            "colorbar": {
             "outlinewidth": 0,
             "ticks": ""
            },
            "colorscale": [
             [
              0,
              "#0d0887"
             ],
             [
              0.1111111111111111,
              "#46039f"
             ],
             [
              0.2222222222222222,
              "#7201a8"
             ],
             [
              0.3333333333333333,
              "#9c179e"
             ],
             [
              0.4444444444444444,
              "#bd3786"
             ],
             [
              0.5555555555555556,
              "#d8576b"
             ],
             [
              0.6666666666666666,
              "#ed7953"
             ],
             [
              0.7777777777777778,
              "#fb9f3a"
             ],
             [
              0.8888888888888888,
              "#fdca26"
             ],
             [
              1,
              "#f0f921"
             ]
            ],
            "type": "heatmap"
           }
          ],
          "histogram": [
           {
            "marker": {
             "pattern": {
              "fillmode": "overlay",
              "size": 10,
              "solidity": 0.2
             }
            },
            "type": "histogram"
           }
          ],
          "histogram2d": [
           {
            "colorbar": {
             "outlinewidth": 0,
             "ticks": ""
            },
            "colorscale": [
             [
              0,
              "#0d0887"
             ],
             [
              0.1111111111111111,
              "#46039f"
             ],
             [
              0.2222222222222222,
              "#7201a8"
             ],
             [
              0.3333333333333333,
              "#9c179e"
             ],
             [
              0.4444444444444444,
              "#bd3786"
             ],
             [
              0.5555555555555556,
              "#d8576b"
             ],
             [
              0.6666666666666666,
              "#ed7953"
             ],
             [
              0.7777777777777778,
              "#fb9f3a"
             ],
             [
              0.8888888888888888,
              "#fdca26"
             ],
             [
              1,
              "#f0f921"
             ]
            ],
            "type": "histogram2d"
           }
          ],
          "histogram2dcontour": [
           {
            "colorbar": {
             "outlinewidth": 0,
             "ticks": ""
            },
            "colorscale": [
             [
              0,
              "#0d0887"
             ],
             [
              0.1111111111111111,
              "#46039f"
             ],
             [
              0.2222222222222222,
              "#7201a8"
             ],
             [
              0.3333333333333333,
              "#9c179e"
             ],
             [
              0.4444444444444444,
              "#bd3786"
             ],
             [
              0.5555555555555556,
              "#d8576b"
             ],
             [
              0.6666666666666666,
              "#ed7953"
             ],
             [
              0.7777777777777778,
              "#fb9f3a"
             ],
             [
              0.8888888888888888,
              "#fdca26"
             ],
             [
              1,
              "#f0f921"
             ]
            ],
            "type": "histogram2dcontour"
           }
          ],
          "mesh3d": [
           {
            "colorbar": {
             "outlinewidth": 0,
             "ticks": ""
            },
            "type": "mesh3d"
           }
          ],
          "parcoords": [
           {
            "line": {
             "colorbar": {
              "outlinewidth": 0,
              "ticks": ""
             }
            },
            "type": "parcoords"
           }
          ],
          "pie": [
           {
            "automargin": true,
            "type": "pie"
           }
          ],
          "scatter": [
           {
            "fillpattern": {
             "fillmode": "overlay",
             "size": 10,
             "solidity": 0.2
            },
            "type": "scatter"
           }
          ],
          "scatter3d": [
           {
            "line": {
             "colorbar": {
              "outlinewidth": 0,
              "ticks": ""
             }
            },
            "marker": {
             "colorbar": {
              "outlinewidth": 0,
              "ticks": ""
             }
            },
            "type": "scatter3d"
           }
          ],
          "scattercarpet": [
           {
            "marker": {
             "colorbar": {
              "outlinewidth": 0,
              "ticks": ""
             }
            },
            "type": "scattercarpet"
           }
          ],
          "scattergeo": [
           {
            "marker": {
             "colorbar": {
              "outlinewidth": 0,
              "ticks": ""
             }
            },
            "type": "scattergeo"
           }
          ],
          "scattergl": [
           {
            "marker": {
             "colorbar": {
              "outlinewidth": 0,
              "ticks": ""
             }
            },
            "type": "scattergl"
           }
          ],
          "scattermap": [
           {
            "marker": {
             "colorbar": {
              "outlinewidth": 0,
              "ticks": ""
             }
            },
            "type": "scattermap"
           }
          ],
          "scattermapbox": [
           {
            "marker": {
             "colorbar": {
              "outlinewidth": 0,
              "ticks": ""
             }
            },
            "type": "scattermapbox"
           }
          ],
          "scatterpolar": [
           {
            "marker": {
             "colorbar": {
              "outlinewidth": 0,
              "ticks": ""
             }
            },
            "type": "scatterpolar"
           }
          ],
          "scatterpolargl": [
           {
            "marker": {
             "colorbar": {
              "outlinewidth": 0,
              "ticks": ""
             }
            },
            "type": "scatterpolargl"
           }
          ],
          "scatterternary": [
           {
            "marker": {
             "colorbar": {
              "outlinewidth": 0,
              "ticks": ""
             }
            },
            "type": "scatterternary"
           }
          ],
          "surface": [
           {
            "colorbar": {
             "outlinewidth": 0,
             "ticks": ""
            },
            "colorscale": [
             [
              0,
              "#0d0887"
             ],
             [
              0.1111111111111111,
              "#46039f"
             ],
             [
              0.2222222222222222,
              "#7201a8"
             ],
             [
              0.3333333333333333,
              "#9c179e"
             ],
             [
              0.4444444444444444,
              "#bd3786"
             ],
             [
              0.5555555555555556,
              "#d8576b"
             ],
             [
              0.6666666666666666,
              "#ed7953"
             ],
             [
              0.7777777777777778,
              "#fb9f3a"
             ],
             [
              0.8888888888888888,
              "#fdca26"
             ],
             [
              1,
              "#f0f921"
             ]
            ],
            "type": "surface"
           }
          ],
          "table": [
           {
            "cells": {
             "fill": {
              "color": "#EBF0F8"
             },
             "line": {
              "color": "white"
             }
            },
            "header": {
             "fill": {
              "color": "#C8D4E3"
             },
             "line": {
              "color": "white"
             }
            },
            "type": "table"
           }
          ]
         },
         "layout": {
          "annotationdefaults": {
           "arrowcolor": "#2a3f5f",
           "arrowhead": 0,
           "arrowwidth": 1
          },
          "autotypenumbers": "strict",
          "coloraxis": {
           "colorbar": {
            "outlinewidth": 0,
            "ticks": ""
           }
          },
          "colorscale": {
           "diverging": [
            [
             0,
             "#8e0152"
            ],
            [
             0.1,
             "#c51b7d"
            ],
            [
             0.2,
             "#de77ae"
            ],
            [
             0.3,
             "#f1b6da"
            ],
            [
             0.4,
             "#fde0ef"
            ],
            [
             0.5,
             "#f7f7f7"
            ],
            [
             0.6,
             "#e6f5d0"
            ],
            [
             0.7,
             "#b8e186"
            ],
            [
             0.8,
             "#7fbc41"
            ],
            [
             0.9,
             "#4d9221"
            ],
            [
             1,
             "#276419"
            ]
           ],
           "sequential": [
            [
             0,
             "#0d0887"
            ],
            [
             0.1111111111111111,
             "#46039f"
            ],
            [
             0.2222222222222222,
             "#7201a8"
            ],
            [
             0.3333333333333333,
             "#9c179e"
            ],
            [
             0.4444444444444444,
             "#bd3786"
            ],
            [
             0.5555555555555556,
             "#d8576b"
            ],
            [
             0.6666666666666666,
             "#ed7953"
            ],
            [
             0.7777777777777778,
             "#fb9f3a"
            ],
            [
             0.8888888888888888,
             "#fdca26"
            ],
            [
             1,
             "#f0f921"
            ]
           ],
           "sequentialminus": [
            [
             0,
             "#0d0887"
            ],
            [
             0.1111111111111111,
             "#46039f"
            ],
            [
             0.2222222222222222,
             "#7201a8"
            ],
            [
             0.3333333333333333,
             "#9c179e"
            ],
            [
             0.4444444444444444,
             "#bd3786"
            ],
            [
             0.5555555555555556,
             "#d8576b"
            ],
            [
             0.6666666666666666,
             "#ed7953"
            ],
            [
             0.7777777777777778,
             "#fb9f3a"
            ],
            [
             0.8888888888888888,
             "#fdca26"
            ],
            [
             1,
             "#f0f921"
            ]
           ]
          },
          "colorway": [
           "#636efa",
           "#EF553B",
           "#00cc96",
           "#ab63fa",
           "#FFA15A",
           "#19d3f3",
           "#FF6692",
           "#B6E880",
           "#FF97FF",
           "#FECB52"
          ],
          "font": {
           "color": "#2a3f5f"
          },
          "geo": {
           "bgcolor": "white",
           "lakecolor": "white",
           "landcolor": "white",
           "showlakes": true,
           "showland": true,
           "subunitcolor": "#C8D4E3"
          },
          "hoverlabel": {
           "align": "left"
          },
          "hovermode": "closest",
          "mapbox": {
           "style": "light"
          },
          "paper_bgcolor": "white",
          "plot_bgcolor": "white",
          "polar": {
           "angularaxis": {
            "gridcolor": "#EBF0F8",
            "linecolor": "#EBF0F8",
            "ticks": ""
           },
           "bgcolor": "white",
           "radialaxis": {
            "gridcolor": "#EBF0F8",
            "linecolor": "#EBF0F8",
            "ticks": ""
           }
          },
          "scene": {
           "xaxis": {
            "backgroundcolor": "white",
            "gridcolor": "#DFE8F3",
            "gridwidth": 2,
            "linecolor": "#EBF0F8",
            "showbackground": true,
            "ticks": "",
            "zerolinecolor": "#EBF0F8"
           },
           "yaxis": {
            "backgroundcolor": "white",
            "gridcolor": "#DFE8F3",
            "gridwidth": 2,
            "linecolor": "#EBF0F8",
            "showbackground": true,
            "ticks": "",
            "zerolinecolor": "#EBF0F8"
           },
           "zaxis": {
            "backgroundcolor": "white",
            "gridcolor": "#DFE8F3",
            "gridwidth": 2,
            "linecolor": "#EBF0F8",
            "showbackground": true,
            "ticks": "",
            "zerolinecolor": "#EBF0F8"
           }
          },
          "shapedefaults": {
           "line": {
            "color": "#2a3f5f"
           }
          },
          "ternary": {
           "aaxis": {
            "gridcolor": "#DFE8F3",
            "linecolor": "#A2B1C6",
            "ticks": ""
           },
           "baxis": {
            "gridcolor": "#DFE8F3",
            "linecolor": "#A2B1C6",
            "ticks": ""
           },
           "bgcolor": "white",
           "caxis": {
            "gridcolor": "#DFE8F3",
            "linecolor": "#A2B1C6",
            "ticks": ""
           }
          },
          "title": {
           "x": 0.05
          },
          "xaxis": {
           "automargin": true,
           "gridcolor": "#EBF0F8",
           "linecolor": "#EBF0F8",
           "ticks": "",
           "title": {
            "standoff": 15
           },
           "zerolinecolor": "#EBF0F8",
           "zerolinewidth": 2
          },
          "yaxis": {
           "automargin": true,
           "gridcolor": "#EBF0F8",
           "linecolor": "#EBF0F8",
           "ticks": "",
           "title": {
            "standoff": 15
           },
           "zerolinecolor": "#EBF0F8",
           "zerolinewidth": 2
          }
         }
        },
        "title": {
         "text": "Histogram of Earthquakes intensity (Yearly)"
        },
        "width": 960,
        "xaxis": {
         "tickangle": 45,
         "title": {
          "text": "Yearly Intensities"
         }
        },
        "yaxis": {
         "title": {
          "text": "Count"
         }
        }
       }
      }
     },
     "metadata": {},
     "output_type": "display_data"
    }
   ],
   "source": [
    "# Plot earthquakes intensity by Year\n",
    "lqt_ready_2.plot_intensity(interval='yearly')"
   ]
  },
  {
   "cell_type": "markdown",
   "metadata": {},
   "source": [
    "Since our example datasets only in year 2024, so only one bar of histogram appears in the plot."
   ]
  },
  {
   "cell_type": "code",
   "execution_count": 11,
   "metadata": {},
   "outputs": [
    {
     "data": {
      "application/vnd.plotly.v1+json": {
       "config": {
        "plotlyServerURL": "https://plot.ly"
       },
       "data": [
        {
         "marker": {
          "color": "#FF9900"
         },
         "name": "Intensity",
         "opacity": 0.8,
         "type": "bar",
         "x": [
          "2024_03",
          "2024_04",
          "2024_05",
          "2024_06",
          "2024_07",
          "2024_08",
          "2024_09",
          "2024_10",
          "2024_11"
         ],
         "y": {
          "bdata": "MQBSAFoAaAAkAG8AcQCGAE0A",
          "dtype": "i2"
         }
        }
       ],
       "layout": {
        "bargap": 0.2,
        "height": 720,
        "legend": {
         "bgcolor": "rgba(255,255,255,0.5)",
         "x": 0.99,
         "xanchor": "right",
         "y": 0.99,
         "yanchor": "top"
        },
        "showlegend": true,
        "template": {
         "data": {
          "bar": [
           {
            "error_x": {
             "color": "#2a3f5f"
            },
            "error_y": {
             "color": "#2a3f5f"
            },
            "marker": {
             "line": {
              "color": "white",
              "width": 0.5
             },
             "pattern": {
              "fillmode": "overlay",
              "size": 10,
              "solidity": 0.2
             }
            },
            "type": "bar"
           }
          ],
          "barpolar": [
           {
            "marker": {
             "line": {
              "color": "white",
              "width": 0.5
             },
             "pattern": {
              "fillmode": "overlay",
              "size": 10,
              "solidity": 0.2
             }
            },
            "type": "barpolar"
           }
          ],
          "carpet": [
           {
            "aaxis": {
             "endlinecolor": "#2a3f5f",
             "gridcolor": "#C8D4E3",
             "linecolor": "#C8D4E3",
             "minorgridcolor": "#C8D4E3",
             "startlinecolor": "#2a3f5f"
            },
            "baxis": {
             "endlinecolor": "#2a3f5f",
             "gridcolor": "#C8D4E3",
             "linecolor": "#C8D4E3",
             "minorgridcolor": "#C8D4E3",
             "startlinecolor": "#2a3f5f"
            },
            "type": "carpet"
           }
          ],
          "choropleth": [
           {
            "colorbar": {
             "outlinewidth": 0,
             "ticks": ""
            },
            "type": "choropleth"
           }
          ],
          "contour": [
           {
            "colorbar": {
             "outlinewidth": 0,
             "ticks": ""
            },
            "colorscale": [
             [
              0,
              "#0d0887"
             ],
             [
              0.1111111111111111,
              "#46039f"
             ],
             [
              0.2222222222222222,
              "#7201a8"
             ],
             [
              0.3333333333333333,
              "#9c179e"
             ],
             [
              0.4444444444444444,
              "#bd3786"
             ],
             [
              0.5555555555555556,
              "#d8576b"
             ],
             [
              0.6666666666666666,
              "#ed7953"
             ],
             [
              0.7777777777777778,
              "#fb9f3a"
             ],
             [
              0.8888888888888888,
              "#fdca26"
             ],
             [
              1,
              "#f0f921"
             ]
            ],
            "type": "contour"
           }
          ],
          "contourcarpet": [
           {
            "colorbar": {
             "outlinewidth": 0,
             "ticks": ""
            },
            "type": "contourcarpet"
           }
          ],
          "heatmap": [
           {
            "colorbar": {
             "outlinewidth": 0,
             "ticks": ""
            },
            "colorscale": [
             [
              0,
              "#0d0887"
             ],
             [
              0.1111111111111111,
              "#46039f"
             ],
             [
              0.2222222222222222,
              "#7201a8"
             ],
             [
              0.3333333333333333,
              "#9c179e"
             ],
             [
              0.4444444444444444,
              "#bd3786"
             ],
             [
              0.5555555555555556,
              "#d8576b"
             ],
             [
              0.6666666666666666,
              "#ed7953"
             ],
             [
              0.7777777777777778,
              "#fb9f3a"
             ],
             [
              0.8888888888888888,
              "#fdca26"
             ],
             [
              1,
              "#f0f921"
             ]
            ],
            "type": "heatmap"
           }
          ],
          "histogram": [
           {
            "marker": {
             "pattern": {
              "fillmode": "overlay",
              "size": 10,
              "solidity": 0.2
             }
            },
            "type": "histogram"
           }
          ],
          "histogram2d": [
           {
            "colorbar": {
             "outlinewidth": 0,
             "ticks": ""
            },
            "colorscale": [
             [
              0,
              "#0d0887"
             ],
             [
              0.1111111111111111,
              "#46039f"
             ],
             [
              0.2222222222222222,
              "#7201a8"
             ],
             [
              0.3333333333333333,
              "#9c179e"
             ],
             [
              0.4444444444444444,
              "#bd3786"
             ],
             [
              0.5555555555555556,
              "#d8576b"
             ],
             [
              0.6666666666666666,
              "#ed7953"
             ],
             [
              0.7777777777777778,
              "#fb9f3a"
             ],
             [
              0.8888888888888888,
              "#fdca26"
             ],
             [
              1,
              "#f0f921"
             ]
            ],
            "type": "histogram2d"
           }
          ],
          "histogram2dcontour": [
           {
            "colorbar": {
             "outlinewidth": 0,
             "ticks": ""
            },
            "colorscale": [
             [
              0,
              "#0d0887"
             ],
             [
              0.1111111111111111,
              "#46039f"
             ],
             [
              0.2222222222222222,
              "#7201a8"
             ],
             [
              0.3333333333333333,
              "#9c179e"
             ],
             [
              0.4444444444444444,
              "#bd3786"
             ],
             [
              0.5555555555555556,
              "#d8576b"
             ],
             [
              0.6666666666666666,
              "#ed7953"
             ],
             [
              0.7777777777777778,
              "#fb9f3a"
             ],
             [
              0.8888888888888888,
              "#fdca26"
             ],
             [
              1,
              "#f0f921"
             ]
            ],
            "type": "histogram2dcontour"
           }
          ],
          "mesh3d": [
           {
            "colorbar": {
             "outlinewidth": 0,
             "ticks": ""
            },
            "type": "mesh3d"
           }
          ],
          "parcoords": [
           {
            "line": {
             "colorbar": {
              "outlinewidth": 0,
              "ticks": ""
             }
            },
            "type": "parcoords"
           }
          ],
          "pie": [
           {
            "automargin": true,
            "type": "pie"
           }
          ],
          "scatter": [
           {
            "fillpattern": {
             "fillmode": "overlay",
             "size": 10,
             "solidity": 0.2
            },
            "type": "scatter"
           }
          ],
          "scatter3d": [
           {
            "line": {
             "colorbar": {
              "outlinewidth": 0,
              "ticks": ""
             }
            },
            "marker": {
             "colorbar": {
              "outlinewidth": 0,
              "ticks": ""
             }
            },
            "type": "scatter3d"
           }
          ],
          "scattercarpet": [
           {
            "marker": {
             "colorbar": {
              "outlinewidth": 0,
              "ticks": ""
             }
            },
            "type": "scattercarpet"
           }
          ],
          "scattergeo": [
           {
            "marker": {
             "colorbar": {
              "outlinewidth": 0,
              "ticks": ""
             }
            },
            "type": "scattergeo"
           }
          ],
          "scattergl": [
           {
            "marker": {
             "colorbar": {
              "outlinewidth": 0,
              "ticks": ""
             }
            },
            "type": "scattergl"
           }
          ],
          "scattermap": [
           {
            "marker": {
             "colorbar": {
              "outlinewidth": 0,
              "ticks": ""
             }
            },
            "type": "scattermap"
           }
          ],
          "scattermapbox": [
           {
            "marker": {
             "colorbar": {
              "outlinewidth": 0,
              "ticks": ""
             }
            },
            "type": "scattermapbox"
           }
          ],
          "scatterpolar": [
           {
            "marker": {
             "colorbar": {
              "outlinewidth": 0,
              "ticks": ""
             }
            },
            "type": "scatterpolar"
           }
          ],
          "scatterpolargl": [
           {
            "marker": {
             "colorbar": {
              "outlinewidth": 0,
              "ticks": ""
             }
            },
            "type": "scatterpolargl"
           }
          ],
          "scatterternary": [
           {
            "marker": {
             "colorbar": {
              "outlinewidth": 0,
              "ticks": ""
             }
            },
            "type": "scatterternary"
           }
          ],
          "surface": [
           {
            "colorbar": {
             "outlinewidth": 0,
             "ticks": ""
            },
            "colorscale": [
             [
              0,
              "#0d0887"
             ],
             [
              0.1111111111111111,
              "#46039f"
             ],
             [
              0.2222222222222222,
              "#7201a8"
             ],
             [
              0.3333333333333333,
              "#9c179e"
             ],
             [
              0.4444444444444444,
              "#bd3786"
             ],
             [
              0.5555555555555556,
              "#d8576b"
             ],
             [
              0.6666666666666666,
              "#ed7953"
             ],
             [
              0.7777777777777778,
              "#fb9f3a"
             ],
             [
              0.8888888888888888,
              "#fdca26"
             ],
             [
              1,
              "#f0f921"
             ]
            ],
            "type": "surface"
           }
          ],
          "table": [
           {
            "cells": {
             "fill": {
              "color": "#EBF0F8"
             },
             "line": {
              "color": "white"
             }
            },
            "header": {
             "fill": {
              "color": "#C8D4E3"
             },
             "line": {
              "color": "white"
             }
            },
            "type": "table"
           }
          ]
         },
         "layout": {
          "annotationdefaults": {
           "arrowcolor": "#2a3f5f",
           "arrowhead": 0,
           "arrowwidth": 1
          },
          "autotypenumbers": "strict",
          "coloraxis": {
           "colorbar": {
            "outlinewidth": 0,
            "ticks": ""
           }
          },
          "colorscale": {
           "diverging": [
            [
             0,
             "#8e0152"
            ],
            [
             0.1,
             "#c51b7d"
            ],
            [
             0.2,
             "#de77ae"
            ],
            [
             0.3,
             "#f1b6da"
            ],
            [
             0.4,
             "#fde0ef"
            ],
            [
             0.5,
             "#f7f7f7"
            ],
            [
             0.6,
             "#e6f5d0"
            ],
            [
             0.7,
             "#b8e186"
            ],
            [
             0.8,
             "#7fbc41"
            ],
            [
             0.9,
             "#4d9221"
            ],
            [
             1,
             "#276419"
            ]
           ],
           "sequential": [
            [
             0,
             "#0d0887"
            ],
            [
             0.1111111111111111,
             "#46039f"
            ],
            [
             0.2222222222222222,
             "#7201a8"
            ],
            [
             0.3333333333333333,
             "#9c179e"
            ],
            [
             0.4444444444444444,
             "#bd3786"
            ],
            [
             0.5555555555555556,
             "#d8576b"
            ],
            [
             0.6666666666666666,
             "#ed7953"
            ],
            [
             0.7777777777777778,
             "#fb9f3a"
            ],
            [
             0.8888888888888888,
             "#fdca26"
            ],
            [
             1,
             "#f0f921"
            ]
           ],
           "sequentialminus": [
            [
             0,
             "#0d0887"
            ],
            [
             0.1111111111111111,
             "#46039f"
            ],
            [
             0.2222222222222222,
             "#7201a8"
            ],
            [
             0.3333333333333333,
             "#9c179e"
            ],
            [
             0.4444444444444444,
             "#bd3786"
            ],
            [
             0.5555555555555556,
             "#d8576b"
            ],
            [
             0.6666666666666666,
             "#ed7953"
            ],
            [
             0.7777777777777778,
             "#fb9f3a"
            ],
            [
             0.8888888888888888,
             "#fdca26"
            ],
            [
             1,
             "#f0f921"
            ]
           ]
          },
          "colorway": [
           "#636efa",
           "#EF553B",
           "#00cc96",
           "#ab63fa",
           "#FFA15A",
           "#19d3f3",
           "#FF6692",
           "#B6E880",
           "#FF97FF",
           "#FECB52"
          ],
          "font": {
           "color": "#2a3f5f"
          },
          "geo": {
           "bgcolor": "white",
           "lakecolor": "white",
           "landcolor": "white",
           "showlakes": true,
           "showland": true,
           "subunitcolor": "#C8D4E3"
          },
          "hoverlabel": {
           "align": "left"
          },
          "hovermode": "closest",
          "mapbox": {
           "style": "light"
          },
          "paper_bgcolor": "white",
          "plot_bgcolor": "white",
          "polar": {
           "angularaxis": {
            "gridcolor": "#EBF0F8",
            "linecolor": "#EBF0F8",
            "ticks": ""
           },
           "bgcolor": "white",
           "radialaxis": {
            "gridcolor": "#EBF0F8",
            "linecolor": "#EBF0F8",
            "ticks": ""
           }
          },
          "scene": {
           "xaxis": {
            "backgroundcolor": "white",
            "gridcolor": "#DFE8F3",
            "gridwidth": 2,
            "linecolor": "#EBF0F8",
            "showbackground": true,
            "ticks": "",
            "zerolinecolor": "#EBF0F8"
           },
           "yaxis": {
            "backgroundcolor": "white",
            "gridcolor": "#DFE8F3",
            "gridwidth": 2,
            "linecolor": "#EBF0F8",
            "showbackground": true,
            "ticks": "",
            "zerolinecolor": "#EBF0F8"
           },
           "zaxis": {
            "backgroundcolor": "white",
            "gridcolor": "#DFE8F3",
            "gridwidth": 2,
            "linecolor": "#EBF0F8",
            "showbackground": true,
            "ticks": "",
            "zerolinecolor": "#EBF0F8"
           }
          },
          "shapedefaults": {
           "line": {
            "color": "#2a3f5f"
           }
          },
          "ternary": {
           "aaxis": {
            "gridcolor": "#DFE8F3",
            "linecolor": "#A2B1C6",
            "ticks": ""
           },
           "baxis": {
            "gridcolor": "#DFE8F3",
            "linecolor": "#A2B1C6",
            "ticks": ""
           },
           "bgcolor": "white",
           "caxis": {
            "gridcolor": "#DFE8F3",
            "linecolor": "#A2B1C6",
            "ticks": ""
           }
          },
          "title": {
           "x": 0.05
          },
          "xaxis": {
           "automargin": true,
           "gridcolor": "#EBF0F8",
           "linecolor": "#EBF0F8",
           "ticks": "",
           "title": {
            "standoff": 15
           },
           "zerolinecolor": "#EBF0F8",
           "zerolinewidth": 2
          },
          "yaxis": {
           "automargin": true,
           "gridcolor": "#EBF0F8",
           "linecolor": "#EBF0F8",
           "ticks": "",
           "title": {
            "standoff": 15
           },
           "zerolinecolor": "#EBF0F8",
           "zerolinewidth": 2
          }
         }
        },
        "title": {
         "text": "Histogram of Earthquakes intensity (Monthly)"
        },
        "width": 960,
        "xaxis": {
         "tickangle": 45,
         "title": {
          "text": "Monthly Intensities"
         }
        },
        "yaxis": {
         "title": {
          "text": "Count"
         }
        }
       }
      }
     },
     "metadata": {},
     "output_type": "display_data"
    }
   ],
   "source": [
    "# Plot earthquakes intensity by Month\n",
    "lqt_ready_2.plot_intensity(interval='monthly')"
   ]
  },
  {
   "cell_type": "code",
   "execution_count": 12,
   "metadata": {},
   "outputs": [
    {
     "data": {
      "application/vnd.plotly.v1+json": {
       "config": {
        "plotlyServerURL": "https://plot.ly"
       },
       "data": [
        {
         "marker": {
          "color": "#FF9900"
         },
         "name": "Intensity",
         "opacity": 0.8,
         "type": "bar",
         "x": [
          "2024_10",
          "2024_11",
          "2024_12",
          "2024_13",
          "2024_14",
          "2024_15",
          "2024_16",
          "2024_17",
          "2024_18",
          "2024_19",
          "2024_20",
          "2024_21",
          "2024_22",
          "2024_23",
          "2024_24",
          "2024_25",
          "2024_26",
          "2024_27",
          "2024_28",
          "2024_29",
          "2024_30",
          "2024_31",
          "2024_32",
          "2024_33",
          "2024_34",
          "2024_35",
          "2024_36",
          "2024_37",
          "2024_38",
          "2024_39",
          "2024_40",
          "2024_41",
          "2024_42",
          "2024_43",
          "2024_44",
          "2024_45",
          "2024_46",
          "2024_47",
          "2024_48"
         ],
         "y": {
          "bdata": "BRoKCCQGEwoXCQM7Rg8GDAgJCgYLEQwnFxYTEDgUE0ghBgYJBDkF",
          "dtype": "i1"
         }
        }
       ],
       "layout": {
        "bargap": 0.2,
        "height": 720,
        "legend": {
         "bgcolor": "rgba(255,255,255,0.5)",
         "x": 0.99,
         "xanchor": "right",
         "y": 0.99,
         "yanchor": "top"
        },
        "showlegend": true,
        "template": {
         "data": {
          "bar": [
           {
            "error_x": {
             "color": "#2a3f5f"
            },
            "error_y": {
             "color": "#2a3f5f"
            },
            "marker": {
             "line": {
              "color": "white",
              "width": 0.5
             },
             "pattern": {
              "fillmode": "overlay",
              "size": 10,
              "solidity": 0.2
             }
            },
            "type": "bar"
           }
          ],
          "barpolar": [
           {
            "marker": {
             "line": {
              "color": "white",
              "width": 0.5
             },
             "pattern": {
              "fillmode": "overlay",
              "size": 10,
              "solidity": 0.2
             }
            },
            "type": "barpolar"
           }
          ],
          "carpet": [
           {
            "aaxis": {
             "endlinecolor": "#2a3f5f",
             "gridcolor": "#C8D4E3",
             "linecolor": "#C8D4E3",
             "minorgridcolor": "#C8D4E3",
             "startlinecolor": "#2a3f5f"
            },
            "baxis": {
             "endlinecolor": "#2a3f5f",
             "gridcolor": "#C8D4E3",
             "linecolor": "#C8D4E3",
             "minorgridcolor": "#C8D4E3",
             "startlinecolor": "#2a3f5f"
            },
            "type": "carpet"
           }
          ],
          "choropleth": [
           {
            "colorbar": {
             "outlinewidth": 0,
             "ticks": ""
            },
            "type": "choropleth"
           }
          ],
          "contour": [
           {
            "colorbar": {
             "outlinewidth": 0,
             "ticks": ""
            },
            "colorscale": [
             [
              0,
              "#0d0887"
             ],
             [
              0.1111111111111111,
              "#46039f"
             ],
             [
              0.2222222222222222,
              "#7201a8"
             ],
             [
              0.3333333333333333,
              "#9c179e"
             ],
             [
              0.4444444444444444,
              "#bd3786"
             ],
             [
              0.5555555555555556,
              "#d8576b"
             ],
             [
              0.6666666666666666,
              "#ed7953"
             ],
             [
              0.7777777777777778,
              "#fb9f3a"
             ],
             [
              0.8888888888888888,
              "#fdca26"
             ],
             [
              1,
              "#f0f921"
             ]
            ],
            "type": "contour"
           }
          ],
          "contourcarpet": [
           {
            "colorbar": {
             "outlinewidth": 0,
             "ticks": ""
            },
            "type": "contourcarpet"
           }
          ],
          "heatmap": [
           {
            "colorbar": {
             "outlinewidth": 0,
             "ticks": ""
            },
            "colorscale": [
             [
              0,
              "#0d0887"
             ],
             [
              0.1111111111111111,
              "#46039f"
             ],
             [
              0.2222222222222222,
              "#7201a8"
             ],
             [
              0.3333333333333333,
              "#9c179e"
             ],
             [
              0.4444444444444444,
              "#bd3786"
             ],
             [
              0.5555555555555556,
              "#d8576b"
             ],
             [
              0.6666666666666666,
              "#ed7953"
             ],
             [
              0.7777777777777778,
              "#fb9f3a"
             ],
             [
              0.8888888888888888,
              "#fdca26"
             ],
             [
              1,
              "#f0f921"
             ]
            ],
            "type": "heatmap"
           }
          ],
          "histogram": [
           {
            "marker": {
             "pattern": {
              "fillmode": "overlay",
              "size": 10,
              "solidity": 0.2
             }
            },
            "type": "histogram"
           }
          ],
          "histogram2d": [
           {
            "colorbar": {
             "outlinewidth": 0,
             "ticks": ""
            },
            "colorscale": [
             [
              0,
              "#0d0887"
             ],
             [
              0.1111111111111111,
              "#46039f"
             ],
             [
              0.2222222222222222,
              "#7201a8"
             ],
             [
              0.3333333333333333,
              "#9c179e"
             ],
             [
              0.4444444444444444,
              "#bd3786"
             ],
             [
              0.5555555555555556,
              "#d8576b"
             ],
             [
              0.6666666666666666,
              "#ed7953"
             ],
             [
              0.7777777777777778,
              "#fb9f3a"
             ],
             [
              0.8888888888888888,
              "#fdca26"
             ],
             [
              1,
              "#f0f921"
             ]
            ],
            "type": "histogram2d"
           }
          ],
          "histogram2dcontour": [
           {
            "colorbar": {
             "outlinewidth": 0,
             "ticks": ""
            },
            "colorscale": [
             [
              0,
              "#0d0887"
             ],
             [
              0.1111111111111111,
              "#46039f"
             ],
             [
              0.2222222222222222,
              "#7201a8"
             ],
             [
              0.3333333333333333,
              "#9c179e"
             ],
             [
              0.4444444444444444,
              "#bd3786"
             ],
             [
              0.5555555555555556,
              "#d8576b"
             ],
             [
              0.6666666666666666,
              "#ed7953"
             ],
             [
              0.7777777777777778,
              "#fb9f3a"
             ],
             [
              0.8888888888888888,
              "#fdca26"
             ],
             [
              1,
              "#f0f921"
             ]
            ],
            "type": "histogram2dcontour"
           }
          ],
          "mesh3d": [
           {
            "colorbar": {
             "outlinewidth": 0,
             "ticks": ""
            },
            "type": "mesh3d"
           }
          ],
          "parcoords": [
           {
            "line": {
             "colorbar": {
              "outlinewidth": 0,
              "ticks": ""
             }
            },
            "type": "parcoords"
           }
          ],
          "pie": [
           {
            "automargin": true,
            "type": "pie"
           }
          ],
          "scatter": [
           {
            "fillpattern": {
             "fillmode": "overlay",
             "size": 10,
             "solidity": 0.2
            },
            "type": "scatter"
           }
          ],
          "scatter3d": [
           {
            "line": {
             "colorbar": {
              "outlinewidth": 0,
              "ticks": ""
             }
            },
            "marker": {
             "colorbar": {
              "outlinewidth": 0,
              "ticks": ""
             }
            },
            "type": "scatter3d"
           }
          ],
          "scattercarpet": [
           {
            "marker": {
             "colorbar": {
              "outlinewidth": 0,
              "ticks": ""
             }
            },
            "type": "scattercarpet"
           }
          ],
          "scattergeo": [
           {
            "marker": {
             "colorbar": {
              "outlinewidth": 0,
              "ticks": ""
             }
            },
            "type": "scattergeo"
           }
          ],
          "scattergl": [
           {
            "marker": {
             "colorbar": {
              "outlinewidth": 0,
              "ticks": ""
             }
            },
            "type": "scattergl"
           }
          ],
          "scattermap": [
           {
            "marker": {
             "colorbar": {
              "outlinewidth": 0,
              "ticks": ""
             }
            },
            "type": "scattermap"
           }
          ],
          "scattermapbox": [
           {
            "marker": {
             "colorbar": {
              "outlinewidth": 0,
              "ticks": ""
             }
            },
            "type": "scattermapbox"
           }
          ],
          "scatterpolar": [
           {
            "marker": {
             "colorbar": {
              "outlinewidth": 0,
              "ticks": ""
             }
            },
            "type": "scatterpolar"
           }
          ],
          "scatterpolargl": [
           {
            "marker": {
             "colorbar": {
              "outlinewidth": 0,
              "ticks": ""
             }
            },
            "type": "scatterpolargl"
           }
          ],
          "scatterternary": [
           {
            "marker": {
             "colorbar": {
              "outlinewidth": 0,
              "ticks": ""
             }
            },
            "type": "scatterternary"
           }
          ],
          "surface": [
           {
            "colorbar": {
             "outlinewidth": 0,
             "ticks": ""
            },
            "colorscale": [
             [
              0,
              "#0d0887"
             ],
             [
              0.1111111111111111,
              "#46039f"
             ],
             [
              0.2222222222222222,
              "#7201a8"
             ],
             [
              0.3333333333333333,
              "#9c179e"
             ],
             [
              0.4444444444444444,
              "#bd3786"
             ],
             [
              0.5555555555555556,
              "#d8576b"
             ],
             [
              0.6666666666666666,
              "#ed7953"
             ],
             [
              0.7777777777777778,
              "#fb9f3a"
             ],
             [
              0.8888888888888888,
              "#fdca26"
             ],
             [
              1,
              "#f0f921"
             ]
            ],
            "type": "surface"
           }
          ],
          "table": [
           {
            "cells": {
             "fill": {
              "color": "#EBF0F8"
             },
             "line": {
              "color": "white"
             }
            },
            "header": {
             "fill": {
              "color": "#C8D4E3"
             },
             "line": {
              "color": "white"
             }
            },
            "type": "table"
           }
          ]
         },
         "layout": {
          "annotationdefaults": {
           "arrowcolor": "#2a3f5f",
           "arrowhead": 0,
           "arrowwidth": 1
          },
          "autotypenumbers": "strict",
          "coloraxis": {
           "colorbar": {
            "outlinewidth": 0,
            "ticks": ""
           }
          },
          "colorscale": {
           "diverging": [
            [
             0,
             "#8e0152"
            ],
            [
             0.1,
             "#c51b7d"
            ],
            [
             0.2,
             "#de77ae"
            ],
            [
             0.3,
             "#f1b6da"
            ],
            [
             0.4,
             "#fde0ef"
            ],
            [
             0.5,
             "#f7f7f7"
            ],
            [
             0.6,
             "#e6f5d0"
            ],
            [
             0.7,
             "#b8e186"
            ],
            [
             0.8,
             "#7fbc41"
            ],
            [
             0.9,
             "#4d9221"
            ],
            [
             1,
             "#276419"
            ]
           ],
           "sequential": [
            [
             0,
             "#0d0887"
            ],
            [
             0.1111111111111111,
             "#46039f"
            ],
            [
             0.2222222222222222,
             "#7201a8"
            ],
            [
             0.3333333333333333,
             "#9c179e"
            ],
            [
             0.4444444444444444,
             "#bd3786"
            ],
            [
             0.5555555555555556,
             "#d8576b"
            ],
            [
             0.6666666666666666,
             "#ed7953"
            ],
            [
             0.7777777777777778,
             "#fb9f3a"
            ],
            [
             0.8888888888888888,
             "#fdca26"
            ],
            [
             1,
             "#f0f921"
            ]
           ],
           "sequentialminus": [
            [
             0,
             "#0d0887"
            ],
            [
             0.1111111111111111,
             "#46039f"
            ],
            [
             0.2222222222222222,
             "#7201a8"
            ],
            [
             0.3333333333333333,
             "#9c179e"
            ],
            [
             0.4444444444444444,
             "#bd3786"
            ],
            [
             0.5555555555555556,
             "#d8576b"
            ],
            [
             0.6666666666666666,
             "#ed7953"
            ],
            [
             0.7777777777777778,
             "#fb9f3a"
            ],
            [
             0.8888888888888888,
             "#fdca26"
            ],
            [
             1,
             "#f0f921"
            ]
           ]
          },
          "colorway": [
           "#636efa",
           "#EF553B",
           "#00cc96",
           "#ab63fa",
           "#FFA15A",
           "#19d3f3",
           "#FF6692",
           "#B6E880",
           "#FF97FF",
           "#FECB52"
          ],
          "font": {
           "color": "#2a3f5f"
          },
          "geo": {
           "bgcolor": "white",
           "lakecolor": "white",
           "landcolor": "white",
           "showlakes": true,
           "showland": true,
           "subunitcolor": "#C8D4E3"
          },
          "hoverlabel": {
           "align": "left"
          },
          "hovermode": "closest",
          "mapbox": {
           "style": "light"
          },
          "paper_bgcolor": "white",
          "plot_bgcolor": "white",
          "polar": {
           "angularaxis": {
            "gridcolor": "#EBF0F8",
            "linecolor": "#EBF0F8",
            "ticks": ""
           },
           "bgcolor": "white",
           "radialaxis": {
            "gridcolor": "#EBF0F8",
            "linecolor": "#EBF0F8",
            "ticks": ""
           }
          },
          "scene": {
           "xaxis": {
            "backgroundcolor": "white",
            "gridcolor": "#DFE8F3",
            "gridwidth": 2,
            "linecolor": "#EBF0F8",
            "showbackground": true,
            "ticks": "",
            "zerolinecolor": "#EBF0F8"
           },
           "yaxis": {
            "backgroundcolor": "white",
            "gridcolor": "#DFE8F3",
            "gridwidth": 2,
            "linecolor": "#EBF0F8",
            "showbackground": true,
            "ticks": "",
            "zerolinecolor": "#EBF0F8"
           },
           "zaxis": {
            "backgroundcolor": "white",
            "gridcolor": "#DFE8F3",
            "gridwidth": 2,
            "linecolor": "#EBF0F8",
            "showbackground": true,
            "ticks": "",
            "zerolinecolor": "#EBF0F8"
           }
          },
          "shapedefaults": {
           "line": {
            "color": "#2a3f5f"
           }
          },
          "ternary": {
           "aaxis": {
            "gridcolor": "#DFE8F3",
            "linecolor": "#A2B1C6",
            "ticks": ""
           },
           "baxis": {
            "gridcolor": "#DFE8F3",
            "linecolor": "#A2B1C6",
            "ticks": ""
           },
           "bgcolor": "white",
           "caxis": {
            "gridcolor": "#DFE8F3",
            "linecolor": "#A2B1C6",
            "ticks": ""
           }
          },
          "title": {
           "x": 0.05
          },
          "xaxis": {
           "automargin": true,
           "gridcolor": "#EBF0F8",
           "linecolor": "#EBF0F8",
           "ticks": "",
           "title": {
            "standoff": 15
           },
           "zerolinecolor": "#EBF0F8",
           "zerolinewidth": 2
          },
          "yaxis": {
           "automargin": true,
           "gridcolor": "#EBF0F8",
           "linecolor": "#EBF0F8",
           "ticks": "",
           "title": {
            "standoff": 15
           },
           "zerolinecolor": "#EBF0F8",
           "zerolinewidth": 2
          }
         }
        },
        "title": {
         "text": "Histogram of Earthquakes intensity (Weekly)"
        },
        "width": 960,
        "xaxis": {
         "tickangle": 45,
         "title": {
          "text": "Weekly Intensities"
         }
        },
        "yaxis": {
         "title": {
          "text": "Count"
         }
        }
       }
      }
     },
     "metadata": {},
     "output_type": "display_data"
    }
   ],
   "source": [
    "# Plot earthquakes intensity by Week\n",
    "lqt_ready_2.plot_intensity(interval='weekly')"
   ]
  },
  {
   "cell_type": "markdown",
   "metadata": {},
   "source": [
    "**A. Daily and Hourly Intensities**\n",
    "\n",
    "Suppose you want higher-resolution detail and need to view earthquake intensities in Daily or Hourly intervals — the `plot_intensity` function can definitely handle that. However, the resulting histogram may be difficult to interpret. That's why the `LqtAnalysis` class also includes the `window_time` class method, which allows you to trim or narrow your dataset to a specific time period or interval."
   ]
  },
  {
   "cell_type": "markdown",
   "metadata": {},
   "source": [
    "**DATA WINDOWING**"
   ]
  },
  {
   "cell_type": "code",
   "execution_count": 13,
   "metadata": {},
   "outputs": [
    {
     "data": {
      "text/html": [
       "<div>\n",
       "<style scoped>\n",
       "    .dataframe tbody tr th:only-of-type {\n",
       "        vertical-align: middle;\n",
       "    }\n",
       "\n",
       "    .dataframe tbody tr th {\n",
       "        vertical-align: top;\n",
       "    }\n",
       "\n",
       "    .dataframe thead th {\n",
       "        text-align: right;\n",
       "    }\n",
       "</style>\n",
       "<table border=\"1\" class=\"dataframe\">\n",
       "  <thead>\n",
       "    <tr style=\"text-align: right;\">\n",
       "      <th></th>\n",
       "      <th>Unnamed: 0</th>\n",
       "      <th>source_id</th>\n",
       "      <th>source_lat</th>\n",
       "      <th>source_lon</th>\n",
       "      <th>source_depth_m</th>\n",
       "      <th>magnitude</th>\n",
       "      <th>network_code</th>\n",
       "      <th>station_code</th>\n",
       "      <th>station_lat</th>\n",
       "      <th>station_lon</th>\n",
       "      <th>...</th>\n",
       "      <th>s_p_lag_time_sec</th>\n",
       "      <th>coda_time</th>\n",
       "      <th>source_err_rms_s</th>\n",
       "      <th>n_phases</th>\n",
       "      <th>gap_degree</th>\n",
       "      <th>x_horizontal_err_m</th>\n",
       "      <th>y_horizontal_err_m</th>\n",
       "      <th>z_depth_err_m</th>\n",
       "      <th>earthquake_type</th>\n",
       "      <th>remarks</th>\n",
       "    </tr>\n",
       "  </thead>\n",
       "  <tbody>\n",
       "    <tr>\n",
       "      <th>266</th>\n",
       "      <td>266</td>\n",
       "      <td>2049</td>\n",
       "      <td>38.210484</td>\n",
       "      <td>126.376188</td>\n",
       "      <td>218.0</td>\n",
       "      <td>1.414427</td>\n",
       "      <td>KJ</td>\n",
       "      <td>KJ06</td>\n",
       "      <td>38.212581</td>\n",
       "      <td>126.379951</td>\n",
       "      <td>...</td>\n",
       "      <td>0.458986</td>\n",
       "      <td>NaN</td>\n",
       "      <td>0.012359</td>\n",
       "      <td>24.0</td>\n",
       "      <td>159.671</td>\n",
       "      <td>267.290148</td>\n",
       "      <td>160.704179</td>\n",
       "      <td>150.29097</td>\n",
       "      <td>very_local_earthquake</td>\n",
       "      <td>NaN</td>\n",
       "    </tr>\n",
       "    <tr>\n",
       "      <th>267</th>\n",
       "      <td>267</td>\n",
       "      <td>2049</td>\n",
       "      <td>38.210484</td>\n",
       "      <td>126.376188</td>\n",
       "      <td>218.0</td>\n",
       "      <td>1.414427</td>\n",
       "      <td>KJ</td>\n",
       "      <td>KJ05</td>\n",
       "      <td>38.203970</td>\n",
       "      <td>126.378906</td>\n",
       "      <td>...</td>\n",
       "      <td>0.519529</td>\n",
       "      <td>NaN</td>\n",
       "      <td>0.012359</td>\n",
       "      <td>24.0</td>\n",
       "      <td>159.671</td>\n",
       "      <td>267.290148</td>\n",
       "      <td>160.704179</td>\n",
       "      <td>150.29097</td>\n",
       "      <td>very_local_earthquake</td>\n",
       "      <td>NaN</td>\n",
       "    </tr>\n",
       "    <tr>\n",
       "      <th>268</th>\n",
       "      <td>268</td>\n",
       "      <td>2049</td>\n",
       "      <td>38.210484</td>\n",
       "      <td>126.376188</td>\n",
       "      <td>218.0</td>\n",
       "      <td>1.414427</td>\n",
       "      <td>KJ</td>\n",
       "      <td>KJ07</td>\n",
       "      <td>38.220451</td>\n",
       "      <td>126.381069</td>\n",
       "      <td>...</td>\n",
       "      <td>0.553817</td>\n",
       "      <td>NaN</td>\n",
       "      <td>0.012359</td>\n",
       "      <td>24.0</td>\n",
       "      <td>159.671</td>\n",
       "      <td>267.290148</td>\n",
       "      <td>160.704179</td>\n",
       "      <td>150.29097</td>\n",
       "      <td>very_local_earthquake</td>\n",
       "      <td>NaN</td>\n",
       "    </tr>\n",
       "    <tr>\n",
       "      <th>269</th>\n",
       "      <td>269</td>\n",
       "      <td>2049</td>\n",
       "      <td>38.210484</td>\n",
       "      <td>126.376188</td>\n",
       "      <td>218.0</td>\n",
       "      <td>1.414427</td>\n",
       "      <td>KJ</td>\n",
       "      <td>KJ08</td>\n",
       "      <td>38.224050</td>\n",
       "      <td>126.372253</td>\n",
       "      <td>...</td>\n",
       "      <td>0.580234</td>\n",
       "      <td>NaN</td>\n",
       "      <td>0.012359</td>\n",
       "      <td>24.0</td>\n",
       "      <td>159.671</td>\n",
       "      <td>267.290148</td>\n",
       "      <td>160.704179</td>\n",
       "      <td>150.29097</td>\n",
       "      <td>very_local_earthquake</td>\n",
       "      <td>NaN</td>\n",
       "    </tr>\n",
       "    <tr>\n",
       "      <th>270</th>\n",
       "      <td>270</td>\n",
       "      <td>2049</td>\n",
       "      <td>38.210484</td>\n",
       "      <td>126.376188</td>\n",
       "      <td>218.0</td>\n",
       "      <td>1.414427</td>\n",
       "      <td>KJ</td>\n",
       "      <td>KJ02</td>\n",
       "      <td>38.210773</td>\n",
       "      <td>126.401842</td>\n",
       "      <td>...</td>\n",
       "      <td>0.721065</td>\n",
       "      <td>NaN</td>\n",
       "      <td>0.012359</td>\n",
       "      <td>24.0</td>\n",
       "      <td>159.671</td>\n",
       "      <td>267.290148</td>\n",
       "      <td>160.704179</td>\n",
       "      <td>150.29097</td>\n",
       "      <td>very_local_earthquake</td>\n",
       "      <td>NaN</td>\n",
       "    </tr>\n",
       "    <tr>\n",
       "      <th>271</th>\n",
       "      <td>271</td>\n",
       "      <td>2049</td>\n",
       "      <td>38.210484</td>\n",
       "      <td>126.376188</td>\n",
       "      <td>218.0</td>\n",
       "      <td>1.414427</td>\n",
       "      <td>KJ</td>\n",
       "      <td>KJ09</td>\n",
       "      <td>38.224820</td>\n",
       "      <td>126.364433</td>\n",
       "      <td>...</td>\n",
       "      <td>0.686675</td>\n",
       "      <td>NaN</td>\n",
       "      <td>0.012359</td>\n",
       "      <td>24.0</td>\n",
       "      <td>159.671</td>\n",
       "      <td>267.290148</td>\n",
       "      <td>160.704179</td>\n",
       "      <td>150.29097</td>\n",
       "      <td>very_local_earthquake</td>\n",
       "      <td>NaN</td>\n",
       "    </tr>\n",
       "    <tr>\n",
       "      <th>272</th>\n",
       "      <td>272</td>\n",
       "      <td>2049</td>\n",
       "      <td>38.210484</td>\n",
       "      <td>126.376188</td>\n",
       "      <td>218.0</td>\n",
       "      <td>1.414427</td>\n",
       "      <td>KJ</td>\n",
       "      <td>KJ11</td>\n",
       "      <td>38.231774</td>\n",
       "      <td>126.372777</td>\n",
       "      <td>...</td>\n",
       "      <td>0.767830</td>\n",
       "      <td>NaN</td>\n",
       "      <td>0.012359</td>\n",
       "      <td>24.0</td>\n",
       "      <td>159.671</td>\n",
       "      <td>267.290148</td>\n",
       "      <td>160.704179</td>\n",
       "      <td>150.29097</td>\n",
       "      <td>very_local_earthquake</td>\n",
       "      <td>NaN</td>\n",
       "    </tr>\n",
       "    <tr>\n",
       "      <th>273</th>\n",
       "      <td>273</td>\n",
       "      <td>2049</td>\n",
       "      <td>38.210484</td>\n",
       "      <td>126.376188</td>\n",
       "      <td>218.0</td>\n",
       "      <td>1.414427</td>\n",
       "      <td>KJ</td>\n",
       "      <td>KJ01</td>\n",
       "      <td>38.192293</td>\n",
       "      <td>126.408419</td>\n",
       "      <td>...</td>\n",
       "      <td>0.773701</td>\n",
       "      <td>NaN</td>\n",
       "      <td>0.012359</td>\n",
       "      <td>24.0</td>\n",
       "      <td>159.671</td>\n",
       "      <td>267.290148</td>\n",
       "      <td>160.704179</td>\n",
       "      <td>150.29097</td>\n",
       "      <td>very_local_earthquake</td>\n",
       "      <td>NaN</td>\n",
       "    </tr>\n",
       "    <tr>\n",
       "      <th>274</th>\n",
       "      <td>274</td>\n",
       "      <td>2049</td>\n",
       "      <td>38.210484</td>\n",
       "      <td>126.376188</td>\n",
       "      <td>218.0</td>\n",
       "      <td>1.414427</td>\n",
       "      <td>KJ</td>\n",
       "      <td>KJ12</td>\n",
       "      <td>38.236119</td>\n",
       "      <td>126.366364</td>\n",
       "      <td>...</td>\n",
       "      <td>0.888177</td>\n",
       "      <td>NaN</td>\n",
       "      <td>0.012359</td>\n",
       "      <td>24.0</td>\n",
       "      <td>159.671</td>\n",
       "      <td>267.290148</td>\n",
       "      <td>160.704179</td>\n",
       "      <td>150.29097</td>\n",
       "      <td>very_local_earthquake</td>\n",
       "      <td>NaN</td>\n",
       "    </tr>\n",
       "    <tr>\n",
       "      <th>275</th>\n",
       "      <td>275</td>\n",
       "      <td>2049</td>\n",
       "      <td>38.210484</td>\n",
       "      <td>126.376188</td>\n",
       "      <td>218.0</td>\n",
       "      <td>1.414427</td>\n",
       "      <td>KJ</td>\n",
       "      <td>KJ13</td>\n",
       "      <td>38.240449</td>\n",
       "      <td>126.356779</td>\n",
       "      <td>...</td>\n",
       "      <td>0.969030</td>\n",
       "      <td>NaN</td>\n",
       "      <td>0.012359</td>\n",
       "      <td>24.0</td>\n",
       "      <td>159.671</td>\n",
       "      <td>267.290148</td>\n",
       "      <td>160.704179</td>\n",
       "      <td>150.29097</td>\n",
       "      <td>very_local_earthquake</td>\n",
       "      <td>NaN</td>\n",
       "    </tr>\n",
       "  </tbody>\n",
       "</table>\n",
       "<p>10 rows × 28 columns</p>\n",
       "</div>"
      ],
      "text/plain": [
       "     Unnamed: 0  source_id  source_lat  source_lon  source_depth_m  magnitude  \\\n",
       "266         266       2049   38.210484  126.376188           218.0   1.414427   \n",
       "267         267       2049   38.210484  126.376188           218.0   1.414427   \n",
       "268         268       2049   38.210484  126.376188           218.0   1.414427   \n",
       "269         269       2049   38.210484  126.376188           218.0   1.414427   \n",
       "270         270       2049   38.210484  126.376188           218.0   1.414427   \n",
       "271         271       2049   38.210484  126.376188           218.0   1.414427   \n",
       "272         272       2049   38.210484  126.376188           218.0   1.414427   \n",
       "273         273       2049   38.210484  126.376188           218.0   1.414427   \n",
       "274         274       2049   38.210484  126.376188           218.0   1.414427   \n",
       "275         275       2049   38.210484  126.376188           218.0   1.414427   \n",
       "\n",
       "    network_code station_code  station_lat  station_lon  ...  \\\n",
       "266           KJ         KJ06    38.212581   126.379951  ...   \n",
       "267           KJ         KJ05    38.203970   126.378906  ...   \n",
       "268           KJ         KJ07    38.220451   126.381069  ...   \n",
       "269           KJ         KJ08    38.224050   126.372253  ...   \n",
       "270           KJ         KJ02    38.210773   126.401842  ...   \n",
       "271           KJ         KJ09    38.224820   126.364433  ...   \n",
       "272           KJ         KJ11    38.231774   126.372777  ...   \n",
       "273           KJ         KJ01    38.192293   126.408419  ...   \n",
       "274           KJ         KJ12    38.236119   126.366364  ...   \n",
       "275           KJ         KJ13    38.240449   126.356779  ...   \n",
       "\n",
       "     s_p_lag_time_sec coda_time source_err_rms_s  n_phases gap_degree  \\\n",
       "266          0.458986       NaN         0.012359      24.0    159.671   \n",
       "267          0.519529       NaN         0.012359      24.0    159.671   \n",
       "268          0.553817       NaN         0.012359      24.0    159.671   \n",
       "269          0.580234       NaN         0.012359      24.0    159.671   \n",
       "270          0.721065       NaN         0.012359      24.0    159.671   \n",
       "271          0.686675       NaN         0.012359      24.0    159.671   \n",
       "272          0.767830       NaN         0.012359      24.0    159.671   \n",
       "273          0.773701       NaN         0.012359      24.0    159.671   \n",
       "274          0.888177       NaN         0.012359      24.0    159.671   \n",
       "275          0.969030       NaN         0.012359      24.0    159.671   \n",
       "\n",
       "    x_horizontal_err_m y_horizontal_err_m  z_depth_err_m  \\\n",
       "266         267.290148         160.704179      150.29097   \n",
       "267         267.290148         160.704179      150.29097   \n",
       "268         267.290148         160.704179      150.29097   \n",
       "269         267.290148         160.704179      150.29097   \n",
       "270         267.290148         160.704179      150.29097   \n",
       "271         267.290148         160.704179      150.29097   \n",
       "272         267.290148         160.704179      150.29097   \n",
       "273         267.290148         160.704179      150.29097   \n",
       "274         267.290148         160.704179      150.29097   \n",
       "275         267.290148         160.704179      150.29097   \n",
       "\n",
       "           earthquake_type  remarks  \n",
       "266  very_local_earthquake      NaN  \n",
       "267  very_local_earthquake      NaN  \n",
       "268  very_local_earthquake      NaN  \n",
       "269  very_local_earthquake      NaN  \n",
       "270  very_local_earthquake      NaN  \n",
       "271  very_local_earthquake      NaN  \n",
       "272  very_local_earthquake      NaN  \n",
       "273  very_local_earthquake      NaN  \n",
       "274  very_local_earthquake      NaN  \n",
       "275  very_local_earthquake      NaN  \n",
       "\n",
       "[10 rows x 28 columns]"
      ]
     },
     "execution_count": 13,
     "metadata": {},
     "output_type": "execute_result"
    }
   ],
   "source": [
    "# Trim and create new windowed `LqtAnalysis` class instance using `window_time` class method.\n",
    "windowed_lqt_df = lqt_ready_2.window_time('2024-04-01 00:00:00', '2024-05-01 00:00:00') # the return is a subset pandas DataFrame\n",
    "\n",
    "# And then, you can make new `LqtAnalysis` class instance object, this approach make sure you will not modify the original DataFrame so you are safe\n",
    "windowed_lqt_analysis = LqtAnalysis(windowed_lqt_df)\n",
    "windowed_lqt_analysis.head(10)"
   ]
  },
  {
   "cell_type": "markdown",
   "metadata": {},
   "source": [
    "**PLOTTING WITH TIME WINDOWED DATA**"
   ]
  },
  {
   "cell_type": "code",
   "execution_count": 14,
   "metadata": {},
   "outputs": [
    {
     "data": {
      "application/vnd.plotly.v1+json": {
       "config": {
        "plotlyServerURL": "https://plot.ly"
       },
       "data": [
        {
         "marker": {
          "color": "#FF9900"
         },
         "name": "Intensity",
         "opacity": 0.8,
         "type": "bar",
         "x": [
          "2024_04_01",
          "2024_04_04",
          "2024_04_05",
          "2024_04_06",
          "2024_04_07",
          "2024_04_09",
          "2024_04_10",
          "2024_04_11",
          "2024_04_14",
          "2024_04_15",
          "2024_04_16",
          "2024_04_17",
          "2024_04_19",
          "2024_04_21",
          "2024_04_22",
          "2024_04_23",
          "2024_04_24",
          "2024_04_25",
          "2024_04_28",
          "2024_04_30"
         ],
         "y": {
          "bdata": "ARoFAQMBAgIBAQcHAwEEAgECAQs=",
          "dtype": "i1"
         }
        }
       ],
       "layout": {
        "bargap": 0.2,
        "height": 720,
        "legend": {
         "bgcolor": "rgba(255,255,255,0.5)",
         "x": 0.99,
         "xanchor": "right",
         "y": 0.99,
         "yanchor": "top"
        },
        "showlegend": true,
        "template": {
         "data": {
          "bar": [
           {
            "error_x": {
             "color": "#2a3f5f"
            },
            "error_y": {
             "color": "#2a3f5f"
            },
            "marker": {
             "line": {
              "color": "white",
              "width": 0.5
             },
             "pattern": {
              "fillmode": "overlay",
              "size": 10,
              "solidity": 0.2
             }
            },
            "type": "bar"
           }
          ],
          "barpolar": [
           {
            "marker": {
             "line": {
              "color": "white",
              "width": 0.5
             },
             "pattern": {
              "fillmode": "overlay",
              "size": 10,
              "solidity": 0.2
             }
            },
            "type": "barpolar"
           }
          ],
          "carpet": [
           {
            "aaxis": {
             "endlinecolor": "#2a3f5f",
             "gridcolor": "#C8D4E3",
             "linecolor": "#C8D4E3",
             "minorgridcolor": "#C8D4E3",
             "startlinecolor": "#2a3f5f"
            },
            "baxis": {
             "endlinecolor": "#2a3f5f",
             "gridcolor": "#C8D4E3",
             "linecolor": "#C8D4E3",
             "minorgridcolor": "#C8D4E3",
             "startlinecolor": "#2a3f5f"
            },
            "type": "carpet"
           }
          ],
          "choropleth": [
           {
            "colorbar": {
             "outlinewidth": 0,
             "ticks": ""
            },
            "type": "choropleth"
           }
          ],
          "contour": [
           {
            "colorbar": {
             "outlinewidth": 0,
             "ticks": ""
            },
            "colorscale": [
             [
              0,
              "#0d0887"
             ],
             [
              0.1111111111111111,
              "#46039f"
             ],
             [
              0.2222222222222222,
              "#7201a8"
             ],
             [
              0.3333333333333333,
              "#9c179e"
             ],
             [
              0.4444444444444444,
              "#bd3786"
             ],
             [
              0.5555555555555556,
              "#d8576b"
             ],
             [
              0.6666666666666666,
              "#ed7953"
             ],
             [
              0.7777777777777778,
              "#fb9f3a"
             ],
             [
              0.8888888888888888,
              "#fdca26"
             ],
             [
              1,
              "#f0f921"
             ]
            ],
            "type": "contour"
           }
          ],
          "contourcarpet": [
           {
            "colorbar": {
             "outlinewidth": 0,
             "ticks": ""
            },
            "type": "contourcarpet"
           }
          ],
          "heatmap": [
           {
            "colorbar": {
             "outlinewidth": 0,
             "ticks": ""
            },
            "colorscale": [
             [
              0,
              "#0d0887"
             ],
             [
              0.1111111111111111,
              "#46039f"
             ],
             [
              0.2222222222222222,
              "#7201a8"
             ],
             [
              0.3333333333333333,
              "#9c179e"
             ],
             [
              0.4444444444444444,
              "#bd3786"
             ],
             [
              0.5555555555555556,
              "#d8576b"
             ],
             [
              0.6666666666666666,
              "#ed7953"
             ],
             [
              0.7777777777777778,
              "#fb9f3a"
             ],
             [
              0.8888888888888888,
              "#fdca26"
             ],
             [
              1,
              "#f0f921"
             ]
            ],
            "type": "heatmap"
           }
          ],
          "histogram": [
           {
            "marker": {
             "pattern": {
              "fillmode": "overlay",
              "size": 10,
              "solidity": 0.2
             }
            },
            "type": "histogram"
           }
          ],
          "histogram2d": [
           {
            "colorbar": {
             "outlinewidth": 0,
             "ticks": ""
            },
            "colorscale": [
             [
              0,
              "#0d0887"
             ],
             [
              0.1111111111111111,
              "#46039f"
             ],
             [
              0.2222222222222222,
              "#7201a8"
             ],
             [
              0.3333333333333333,
              "#9c179e"
             ],
             [
              0.4444444444444444,
              "#bd3786"
             ],
             [
              0.5555555555555556,
              "#d8576b"
             ],
             [
              0.6666666666666666,
              "#ed7953"
             ],
             [
              0.7777777777777778,
              "#fb9f3a"
             ],
             [
              0.8888888888888888,
              "#fdca26"
             ],
             [
              1,
              "#f0f921"
             ]
            ],
            "type": "histogram2d"
           }
          ],
          "histogram2dcontour": [
           {
            "colorbar": {
             "outlinewidth": 0,
             "ticks": ""
            },
            "colorscale": [
             [
              0,
              "#0d0887"
             ],
             [
              0.1111111111111111,
              "#46039f"
             ],
             [
              0.2222222222222222,
              "#7201a8"
             ],
             [
              0.3333333333333333,
              "#9c179e"
             ],
             [
              0.4444444444444444,
              "#bd3786"
             ],
             [
              0.5555555555555556,
              "#d8576b"
             ],
             [
              0.6666666666666666,
              "#ed7953"
             ],
             [
              0.7777777777777778,
              "#fb9f3a"
             ],
             [
              0.8888888888888888,
              "#fdca26"
             ],
             [
              1,
              "#f0f921"
             ]
            ],
            "type": "histogram2dcontour"
           }
          ],
          "mesh3d": [
           {
            "colorbar": {
             "outlinewidth": 0,
             "ticks": ""
            },
            "type": "mesh3d"
           }
          ],
          "parcoords": [
           {
            "line": {
             "colorbar": {
              "outlinewidth": 0,
              "ticks": ""
             }
            },
            "type": "parcoords"
           }
          ],
          "pie": [
           {
            "automargin": true,
            "type": "pie"
           }
          ],
          "scatter": [
           {
            "fillpattern": {
             "fillmode": "overlay",
             "size": 10,
             "solidity": 0.2
            },
            "type": "scatter"
           }
          ],
          "scatter3d": [
           {
            "line": {
             "colorbar": {
              "outlinewidth": 0,
              "ticks": ""
             }
            },
            "marker": {
             "colorbar": {
              "outlinewidth": 0,
              "ticks": ""
             }
            },
            "type": "scatter3d"
           }
          ],
          "scattercarpet": [
           {
            "marker": {
             "colorbar": {
              "outlinewidth": 0,
              "ticks": ""
             }
            },
            "type": "scattercarpet"
           }
          ],
          "scattergeo": [
           {
            "marker": {
             "colorbar": {
              "outlinewidth": 0,
              "ticks": ""
             }
            },
            "type": "scattergeo"
           }
          ],
          "scattergl": [
           {
            "marker": {
             "colorbar": {
              "outlinewidth": 0,
              "ticks": ""
             }
            },
            "type": "scattergl"
           }
          ],
          "scattermap": [
           {
            "marker": {
             "colorbar": {
              "outlinewidth": 0,
              "ticks": ""
             }
            },
            "type": "scattermap"
           }
          ],
          "scattermapbox": [
           {
            "marker": {
             "colorbar": {
              "outlinewidth": 0,
              "ticks": ""
             }
            },
            "type": "scattermapbox"
           }
          ],
          "scatterpolar": [
           {
            "marker": {
             "colorbar": {
              "outlinewidth": 0,
              "ticks": ""
             }
            },
            "type": "scatterpolar"
           }
          ],
          "scatterpolargl": [
           {
            "marker": {
             "colorbar": {
              "outlinewidth": 0,
              "ticks": ""
             }
            },
            "type": "scatterpolargl"
           }
          ],
          "scatterternary": [
           {
            "marker": {
             "colorbar": {
              "outlinewidth": 0,
              "ticks": ""
             }
            },
            "type": "scatterternary"
           }
          ],
          "surface": [
           {
            "colorbar": {
             "outlinewidth": 0,
             "ticks": ""
            },
            "colorscale": [
             [
              0,
              "#0d0887"
             ],
             [
              0.1111111111111111,
              "#46039f"
             ],
             [
              0.2222222222222222,
              "#7201a8"
             ],
             [
              0.3333333333333333,
              "#9c179e"
             ],
             [
              0.4444444444444444,
              "#bd3786"
             ],
             [
              0.5555555555555556,
              "#d8576b"
             ],
             [
              0.6666666666666666,
              "#ed7953"
             ],
             [
              0.7777777777777778,
              "#fb9f3a"
             ],
             [
              0.8888888888888888,
              "#fdca26"
             ],
             [
              1,
              "#f0f921"
             ]
            ],
            "type": "surface"
           }
          ],
          "table": [
           {
            "cells": {
             "fill": {
              "color": "#EBF0F8"
             },
             "line": {
              "color": "white"
             }
            },
            "header": {
             "fill": {
              "color": "#C8D4E3"
             },
             "line": {
              "color": "white"
             }
            },
            "type": "table"
           }
          ]
         },
         "layout": {
          "annotationdefaults": {
           "arrowcolor": "#2a3f5f",
           "arrowhead": 0,
           "arrowwidth": 1
          },
          "autotypenumbers": "strict",
          "coloraxis": {
           "colorbar": {
            "outlinewidth": 0,
            "ticks": ""
           }
          },
          "colorscale": {
           "diverging": [
            [
             0,
             "#8e0152"
            ],
            [
             0.1,
             "#c51b7d"
            ],
            [
             0.2,
             "#de77ae"
            ],
            [
             0.3,
             "#f1b6da"
            ],
            [
             0.4,
             "#fde0ef"
            ],
            [
             0.5,
             "#f7f7f7"
            ],
            [
             0.6,
             "#e6f5d0"
            ],
            [
             0.7,
             "#b8e186"
            ],
            [
             0.8,
             "#7fbc41"
            ],
            [
             0.9,
             "#4d9221"
            ],
            [
             1,
             "#276419"
            ]
           ],
           "sequential": [
            [
             0,
             "#0d0887"
            ],
            [
             0.1111111111111111,
             "#46039f"
            ],
            [
             0.2222222222222222,
             "#7201a8"
            ],
            [
             0.3333333333333333,
             "#9c179e"
            ],
            [
             0.4444444444444444,
             "#bd3786"
            ],
            [
             0.5555555555555556,
             "#d8576b"
            ],
            [
             0.6666666666666666,
             "#ed7953"
            ],
            [
             0.7777777777777778,
             "#fb9f3a"
            ],
            [
             0.8888888888888888,
             "#fdca26"
            ],
            [
             1,
             "#f0f921"
            ]
           ],
           "sequentialminus": [
            [
             0,
             "#0d0887"
            ],
            [
             0.1111111111111111,
             "#46039f"
            ],
            [
             0.2222222222222222,
             "#7201a8"
            ],
            [
             0.3333333333333333,
             "#9c179e"
            ],
            [
             0.4444444444444444,
             "#bd3786"
            ],
            [
             0.5555555555555556,
             "#d8576b"
            ],
            [
             0.6666666666666666,
             "#ed7953"
            ],
            [
             0.7777777777777778,
             "#fb9f3a"
            ],
            [
             0.8888888888888888,
             "#fdca26"
            ],
            [
             1,
             "#f0f921"
            ]
           ]
          },
          "colorway": [
           "#636efa",
           "#EF553B",
           "#00cc96",
           "#ab63fa",
           "#FFA15A",
           "#19d3f3",
           "#FF6692",
           "#B6E880",
           "#FF97FF",
           "#FECB52"
          ],
          "font": {
           "color": "#2a3f5f"
          },
          "geo": {
           "bgcolor": "white",
           "lakecolor": "white",
           "landcolor": "white",
           "showlakes": true,
           "showland": true,
           "subunitcolor": "#C8D4E3"
          },
          "hoverlabel": {
           "align": "left"
          },
          "hovermode": "closest",
          "mapbox": {
           "style": "light"
          },
          "paper_bgcolor": "white",
          "plot_bgcolor": "white",
          "polar": {
           "angularaxis": {
            "gridcolor": "#EBF0F8",
            "linecolor": "#EBF0F8",
            "ticks": ""
           },
           "bgcolor": "white",
           "radialaxis": {
            "gridcolor": "#EBF0F8",
            "linecolor": "#EBF0F8",
            "ticks": ""
           }
          },
          "scene": {
           "xaxis": {
            "backgroundcolor": "white",
            "gridcolor": "#DFE8F3",
            "gridwidth": 2,
            "linecolor": "#EBF0F8",
            "showbackground": true,
            "ticks": "",
            "zerolinecolor": "#EBF0F8"
           },
           "yaxis": {
            "backgroundcolor": "white",
            "gridcolor": "#DFE8F3",
            "gridwidth": 2,
            "linecolor": "#EBF0F8",
            "showbackground": true,
            "ticks": "",
            "zerolinecolor": "#EBF0F8"
           },
           "zaxis": {
            "backgroundcolor": "white",
            "gridcolor": "#DFE8F3",
            "gridwidth": 2,
            "linecolor": "#EBF0F8",
            "showbackground": true,
            "ticks": "",
            "zerolinecolor": "#EBF0F8"
           }
          },
          "shapedefaults": {
           "line": {
            "color": "#2a3f5f"
           }
          },
          "ternary": {
           "aaxis": {
            "gridcolor": "#DFE8F3",
            "linecolor": "#A2B1C6",
            "ticks": ""
           },
           "baxis": {
            "gridcolor": "#DFE8F3",
            "linecolor": "#A2B1C6",
            "ticks": ""
           },
           "bgcolor": "white",
           "caxis": {
            "gridcolor": "#DFE8F3",
            "linecolor": "#A2B1C6",
            "ticks": ""
           }
          },
          "title": {
           "x": 0.05
          },
          "xaxis": {
           "automargin": true,
           "gridcolor": "#EBF0F8",
           "linecolor": "#EBF0F8",
           "ticks": "",
           "title": {
            "standoff": 15
           },
           "zerolinecolor": "#EBF0F8",
           "zerolinewidth": 2
          },
          "yaxis": {
           "automargin": true,
           "gridcolor": "#EBF0F8",
           "linecolor": "#EBF0F8",
           "ticks": "",
           "title": {
            "standoff": 15
           },
           "zerolinecolor": "#EBF0F8",
           "zerolinewidth": 2
          }
         }
        },
        "title": {
         "text": "Histogram of Earthquakes intensity (Daily)"
        },
        "width": 960,
        "xaxis": {
         "tickangle": 45,
         "title": {
          "text": "Daily Intensities"
         }
        },
        "yaxis": {
         "title": {
          "text": "Count"
         }
        }
       }
      }
     },
     "metadata": {},
     "output_type": "display_data"
    }
   ],
   "source": [
    "# Plot new daily intensities using the windowed dataframe\n",
    "windowed_lqt_analysis.plot_intensity(interval='daily')"
   ]
  },
  {
   "cell_type": "markdown",
   "metadata": {},
   "source": [
    "For `hourly` intensities, you may want even more detailed insights, so at this resolution, it's reasonable to window your data to a narrower range, for example, just 2 days."
   ]
  },
  {
   "cell_type": "code",
   "execution_count": 15,
   "metadata": {},
   "outputs": [
    {
     "data": {
      "application/vnd.plotly.v1+json": {
       "config": {
        "plotlyServerURL": "https://plot.ly"
       },
       "data": [
        {
         "marker": {
          "color": "#FF9900"
         },
         "name": "Intensity",
         "opacity": 0.8,
         "type": "bar",
         "x": [
          "2024_04_01 : 00:--:--",
          "2024_04_04 : 04:--:--",
          "2024_04_04 : 05:--:--",
          "2024_04_04 : 14:--:--",
          "2024_04_04 : 18:--:--",
          "2024_04_04 : 19:--:--",
          "2024_04_05 : 00:--:--",
          "2024_04_05 : 05:--:--",
          "2024_04_05 : 17:--:--",
          "2024_04_05 : 19:--:--",
          "2024_04_06 : 15:--:--",
          "2024_04_07 : 03:--:--",
          "2024_04_07 : 23:--:--",
          "2024_04_09 : 04:--:--",
          "2024_04_10 : 03:--:--",
          "2024_04_10 : 07:--:--",
          "2024_04_11 : 18:--:--",
          "2024_04_11 : 22:--:--",
          "2024_04_14 : 07:--:--",
          "2024_04_15 : 14:--:--",
          "2024_04_16 : 11:--:--",
          "2024_04_16 : 12:--:--",
          "2024_04_16 : 19:--:--",
          "2024_04_16 : 20:--:--",
          "2024_04_17 : 07:--:--",
          "2024_04_17 : 08:--:--",
          "2024_04_19 : 17:--:--",
          "2024_04_19 : 20:--:--",
          "2024_04_21 : 09:--:--",
          "2024_04_22 : 04:--:--",
          "2024_04_22 : 23:--:--",
          "2024_04_23 : 00:--:--",
          "2024_04_23 : 20:--:--",
          "2024_04_24 : 20:--:--",
          "2024_04_25 : 07:--:--",
          "2024_04_25 : 15:--:--",
          "2024_04_28 : 00:--:--",
          "2024_04_30 : 02:--:--",
          "2024_04_30 : 05:--:--",
          "2024_04_30 : 10:--:--",
          "2024_04_30 : 19:--:--"
         ],
         "y": {
          "bdata": "AQsFBQQBAQIBAQEBAgEBAQEBAQEBAQIDAgUBAgEDAQEBAQEBAQQBBAI=",
          "dtype": "i1"
         }
        }
       ],
       "layout": {
        "bargap": 0.2,
        "height": 720,
        "legend": {
         "bgcolor": "rgba(255,255,255,0.5)",
         "x": 0.99,
         "xanchor": "right",
         "y": 0.99,
         "yanchor": "top"
        },
        "showlegend": true,
        "template": {
         "data": {
          "bar": [
           {
            "error_x": {
             "color": "#2a3f5f"
            },
            "error_y": {
             "color": "#2a3f5f"
            },
            "marker": {
             "line": {
              "color": "white",
              "width": 0.5
             },
             "pattern": {
              "fillmode": "overlay",
              "size": 10,
              "solidity": 0.2
             }
            },
            "type": "bar"
           }
          ],
          "barpolar": [
           {
            "marker": {
             "line": {
              "color": "white",
              "width": 0.5
             },
             "pattern": {
              "fillmode": "overlay",
              "size": 10,
              "solidity": 0.2
             }
            },
            "type": "barpolar"
           }
          ],
          "carpet": [
           {
            "aaxis": {
             "endlinecolor": "#2a3f5f",
             "gridcolor": "#C8D4E3",
             "linecolor": "#C8D4E3",
             "minorgridcolor": "#C8D4E3",
             "startlinecolor": "#2a3f5f"
            },
            "baxis": {
             "endlinecolor": "#2a3f5f",
             "gridcolor": "#C8D4E3",
             "linecolor": "#C8D4E3",
             "minorgridcolor": "#C8D4E3",
             "startlinecolor": "#2a3f5f"
            },
            "type": "carpet"
           }
          ],
          "choropleth": [
           {
            "colorbar": {
             "outlinewidth": 0,
             "ticks": ""
            },
            "type": "choropleth"
           }
          ],
          "contour": [
           {
            "colorbar": {
             "outlinewidth": 0,
             "ticks": ""
            },
            "colorscale": [
             [
              0,
              "#0d0887"
             ],
             [
              0.1111111111111111,
              "#46039f"
             ],
             [
              0.2222222222222222,
              "#7201a8"
             ],
             [
              0.3333333333333333,
              "#9c179e"
             ],
             [
              0.4444444444444444,
              "#bd3786"
             ],
             [
              0.5555555555555556,
              "#d8576b"
             ],
             [
              0.6666666666666666,
              "#ed7953"
             ],
             [
              0.7777777777777778,
              "#fb9f3a"
             ],
             [
              0.8888888888888888,
              "#fdca26"
             ],
             [
              1,
              "#f0f921"
             ]
            ],
            "type": "contour"
           }
          ],
          "contourcarpet": [
           {
            "colorbar": {
             "outlinewidth": 0,
             "ticks": ""
            },
            "type": "contourcarpet"
           }
          ],
          "heatmap": [
           {
            "colorbar": {
             "outlinewidth": 0,
             "ticks": ""
            },
            "colorscale": [
             [
              0,
              "#0d0887"
             ],
             [
              0.1111111111111111,
              "#46039f"
             ],
             [
              0.2222222222222222,
              "#7201a8"
             ],
             [
              0.3333333333333333,
              "#9c179e"
             ],
             [
              0.4444444444444444,
              "#bd3786"
             ],
             [
              0.5555555555555556,
              "#d8576b"
             ],
             [
              0.6666666666666666,
              "#ed7953"
             ],
             [
              0.7777777777777778,
              "#fb9f3a"
             ],
             [
              0.8888888888888888,
              "#fdca26"
             ],
             [
              1,
              "#f0f921"
             ]
            ],
            "type": "heatmap"
           }
          ],
          "histogram": [
           {
            "marker": {
             "pattern": {
              "fillmode": "overlay",
              "size": 10,
              "solidity": 0.2
             }
            },
            "type": "histogram"
           }
          ],
          "histogram2d": [
           {
            "colorbar": {
             "outlinewidth": 0,
             "ticks": ""
            },
            "colorscale": [
             [
              0,
              "#0d0887"
             ],
             [
              0.1111111111111111,
              "#46039f"
             ],
             [
              0.2222222222222222,
              "#7201a8"
             ],
             [
              0.3333333333333333,
              "#9c179e"
             ],
             [
              0.4444444444444444,
              "#bd3786"
             ],
             [
              0.5555555555555556,
              "#d8576b"
             ],
             [
              0.6666666666666666,
              "#ed7953"
             ],
             [
              0.7777777777777778,
              "#fb9f3a"
             ],
             [
              0.8888888888888888,
              "#fdca26"
             ],
             [
              1,
              "#f0f921"
             ]
            ],
            "type": "histogram2d"
           }
          ],
          "histogram2dcontour": [
           {
            "colorbar": {
             "outlinewidth": 0,
             "ticks": ""
            },
            "colorscale": [
             [
              0,
              "#0d0887"
             ],
             [
              0.1111111111111111,
              "#46039f"
             ],
             [
              0.2222222222222222,
              "#7201a8"
             ],
             [
              0.3333333333333333,
              "#9c179e"
             ],
             [
              0.4444444444444444,
              "#bd3786"
             ],
             [
              0.5555555555555556,
              "#d8576b"
             ],
             [
              0.6666666666666666,
              "#ed7953"
             ],
             [
              0.7777777777777778,
              "#fb9f3a"
             ],
             [
              0.8888888888888888,
              "#fdca26"
             ],
             [
              1,
              "#f0f921"
             ]
            ],
            "type": "histogram2dcontour"
           }
          ],
          "mesh3d": [
           {
            "colorbar": {
             "outlinewidth": 0,
             "ticks": ""
            },
            "type": "mesh3d"
           }
          ],
          "parcoords": [
           {
            "line": {
             "colorbar": {
              "outlinewidth": 0,
              "ticks": ""
             }
            },
            "type": "parcoords"
           }
          ],
          "pie": [
           {
            "automargin": true,
            "type": "pie"
           }
          ],
          "scatter": [
           {
            "fillpattern": {
             "fillmode": "overlay",
             "size": 10,
             "solidity": 0.2
            },
            "type": "scatter"
           }
          ],
          "scatter3d": [
           {
            "line": {
             "colorbar": {
              "outlinewidth": 0,
              "ticks": ""
             }
            },
            "marker": {
             "colorbar": {
              "outlinewidth": 0,
              "ticks": ""
             }
            },
            "type": "scatter3d"
           }
          ],
          "scattercarpet": [
           {
            "marker": {
             "colorbar": {
              "outlinewidth": 0,
              "ticks": ""
             }
            },
            "type": "scattercarpet"
           }
          ],
          "scattergeo": [
           {
            "marker": {
             "colorbar": {
              "outlinewidth": 0,
              "ticks": ""
             }
            },
            "type": "scattergeo"
           }
          ],
          "scattergl": [
           {
            "marker": {
             "colorbar": {
              "outlinewidth": 0,
              "ticks": ""
             }
            },
            "type": "scattergl"
           }
          ],
          "scattermap": [
           {
            "marker": {
             "colorbar": {
              "outlinewidth": 0,
              "ticks": ""
             }
            },
            "type": "scattermap"
           }
          ],
          "scattermapbox": [
           {
            "marker": {
             "colorbar": {
              "outlinewidth": 0,
              "ticks": ""
             }
            },
            "type": "scattermapbox"
           }
          ],
          "scatterpolar": [
           {
            "marker": {
             "colorbar": {
              "outlinewidth": 0,
              "ticks": ""
             }
            },
            "type": "scatterpolar"
           }
          ],
          "scatterpolargl": [
           {
            "marker": {
             "colorbar": {
              "outlinewidth": 0,
              "ticks": ""
             }
            },
            "type": "scatterpolargl"
           }
          ],
          "scatterternary": [
           {
            "marker": {
             "colorbar": {
              "outlinewidth": 0,
              "ticks": ""
             }
            },
            "type": "scatterternary"
           }
          ],
          "surface": [
           {
            "colorbar": {
             "outlinewidth": 0,
             "ticks": ""
            },
            "colorscale": [
             [
              0,
              "#0d0887"
             ],
             [
              0.1111111111111111,
              "#46039f"
             ],
             [
              0.2222222222222222,
              "#7201a8"
             ],
             [
              0.3333333333333333,
              "#9c179e"
             ],
             [
              0.4444444444444444,
              "#bd3786"
             ],
             [
              0.5555555555555556,
              "#d8576b"
             ],
             [
              0.6666666666666666,
              "#ed7953"
             ],
             [
              0.7777777777777778,
              "#fb9f3a"
             ],
             [
              0.8888888888888888,
              "#fdca26"
             ],
             [
              1,
              "#f0f921"
             ]
            ],
            "type": "surface"
           }
          ],
          "table": [
           {
            "cells": {
             "fill": {
              "color": "#EBF0F8"
             },
             "line": {
              "color": "white"
             }
            },
            "header": {
             "fill": {
              "color": "#C8D4E3"
             },
             "line": {
              "color": "white"
             }
            },
            "type": "table"
           }
          ]
         },
         "layout": {
          "annotationdefaults": {
           "arrowcolor": "#2a3f5f",
           "arrowhead": 0,
           "arrowwidth": 1
          },
          "autotypenumbers": "strict",
          "coloraxis": {
           "colorbar": {
            "outlinewidth": 0,
            "ticks": ""
           }
          },
          "colorscale": {
           "diverging": [
            [
             0,
             "#8e0152"
            ],
            [
             0.1,
             "#c51b7d"
            ],
            [
             0.2,
             "#de77ae"
            ],
            [
             0.3,
             "#f1b6da"
            ],
            [
             0.4,
             "#fde0ef"
            ],
            [
             0.5,
             "#f7f7f7"
            ],
            [
             0.6,
             "#e6f5d0"
            ],
            [
             0.7,
             "#b8e186"
            ],
            [
             0.8,
             "#7fbc41"
            ],
            [
             0.9,
             "#4d9221"
            ],
            [
             1,
             "#276419"
            ]
           ],
           "sequential": [
            [
             0,
             "#0d0887"
            ],
            [
             0.1111111111111111,
             "#46039f"
            ],
            [
             0.2222222222222222,
             "#7201a8"
            ],
            [
             0.3333333333333333,
             "#9c179e"
            ],
            [
             0.4444444444444444,
             "#bd3786"
            ],
            [
             0.5555555555555556,
             "#d8576b"
            ],
            [
             0.6666666666666666,
             "#ed7953"
            ],
            [
             0.7777777777777778,
             "#fb9f3a"
            ],
            [
             0.8888888888888888,
             "#fdca26"
            ],
            [
             1,
             "#f0f921"
            ]
           ],
           "sequentialminus": [
            [
             0,
             "#0d0887"
            ],
            [
             0.1111111111111111,
             "#46039f"
            ],
            [
             0.2222222222222222,
             "#7201a8"
            ],
            [
             0.3333333333333333,
             "#9c179e"
            ],
            [
             0.4444444444444444,
             "#bd3786"
            ],
            [
             0.5555555555555556,
             "#d8576b"
            ],
            [
             0.6666666666666666,
             "#ed7953"
            ],
            [
             0.7777777777777778,
             "#fb9f3a"
            ],
            [
             0.8888888888888888,
             "#fdca26"
            ],
            [
             1,
             "#f0f921"
            ]
           ]
          },
          "colorway": [
           "#636efa",
           "#EF553B",
           "#00cc96",
           "#ab63fa",
           "#FFA15A",
           "#19d3f3",
           "#FF6692",
           "#B6E880",
           "#FF97FF",
           "#FECB52"
          ],
          "font": {
           "color": "#2a3f5f"
          },
          "geo": {
           "bgcolor": "white",
           "lakecolor": "white",
           "landcolor": "white",
           "showlakes": true,
           "showland": true,
           "subunitcolor": "#C8D4E3"
          },
          "hoverlabel": {
           "align": "left"
          },
          "hovermode": "closest",
          "mapbox": {
           "style": "light"
          },
          "paper_bgcolor": "white",
          "plot_bgcolor": "white",
          "polar": {
           "angularaxis": {
            "gridcolor": "#EBF0F8",
            "linecolor": "#EBF0F8",
            "ticks": ""
           },
           "bgcolor": "white",
           "radialaxis": {
            "gridcolor": "#EBF0F8",
            "linecolor": "#EBF0F8",
            "ticks": ""
           }
          },
          "scene": {
           "xaxis": {
            "backgroundcolor": "white",
            "gridcolor": "#DFE8F3",
            "gridwidth": 2,
            "linecolor": "#EBF0F8",
            "showbackground": true,
            "ticks": "",
            "zerolinecolor": "#EBF0F8"
           },
           "yaxis": {
            "backgroundcolor": "white",
            "gridcolor": "#DFE8F3",
            "gridwidth": 2,
            "linecolor": "#EBF0F8",
            "showbackground": true,
            "ticks": "",
            "zerolinecolor": "#EBF0F8"
           },
           "zaxis": {
            "backgroundcolor": "white",
            "gridcolor": "#DFE8F3",
            "gridwidth": 2,
            "linecolor": "#EBF0F8",
            "showbackground": true,
            "ticks": "",
            "zerolinecolor": "#EBF0F8"
           }
          },
          "shapedefaults": {
           "line": {
            "color": "#2a3f5f"
           }
          },
          "ternary": {
           "aaxis": {
            "gridcolor": "#DFE8F3",
            "linecolor": "#A2B1C6",
            "ticks": ""
           },
           "baxis": {
            "gridcolor": "#DFE8F3",
            "linecolor": "#A2B1C6",
            "ticks": ""
           },
           "bgcolor": "white",
           "caxis": {
            "gridcolor": "#DFE8F3",
            "linecolor": "#A2B1C6",
            "ticks": ""
           }
          },
          "title": {
           "x": 0.05
          },
          "xaxis": {
           "automargin": true,
           "gridcolor": "#EBF0F8",
           "linecolor": "#EBF0F8",
           "ticks": "",
           "title": {
            "standoff": 15
           },
           "zerolinecolor": "#EBF0F8",
           "zerolinewidth": 2
          },
          "yaxis": {
           "automargin": true,
           "gridcolor": "#EBF0F8",
           "linecolor": "#EBF0F8",
           "ticks": "",
           "title": {
            "standoff": 15
           },
           "zerolinecolor": "#EBF0F8",
           "zerolinewidth": 2
          }
         }
        },
        "title": {
         "text": "Histogram of Earthquakes intensity (Hourly)"
        },
        "width": 960,
        "xaxis": {
         "tickangle": 45,
         "title": {
          "text": "Hourly Intensities"
         }
        },
        "yaxis": {
         "title": {
          "text": "Count"
         }
        }
       }
      }
     },
     "metadata": {},
     "output_type": "display_data"
    }
   ],
   "source": [
    "# Trim and create new windowed `LqtAnalysis` class instance using `window_time` class method.\n",
    "windowed_lqt_df_2 = lqt_ready_2.window_time('2024-04-01 00:00:00', '2024-04-03 00:00:00')\n",
    "windowed_lqt_analysis_2 = LqtAnalysis(windowed_lqt_df)\n",
    "\n",
    "# Plot new daily intensities using the windowed dataframe\n",
    "windowed_lqt_analysis_2.plot_intensity(interval='hourly')"
   ]
  },
  {
   "cell_type": "markdown",
   "metadata": {},
   "source": [
    "### 7. Gutenberg-Richter Analysis\n",
    "\n",
    "Creating a Gutenberg-Richter plot is useful tools for understanding the relationship between earthquake magnitude and the frequency of earthquake occurrences. From this plot, we can derive the `b-value`, `a-value`, and `magnitude completeness`, which are crucial for interpreting the data, assessing seismic hazard, and evaluating the perceptibility of the sensors used for magnitude monitoring.\n",
    "\n",
    "To do this, `LqtAnalysis` class provides the `gutenberg_richter` method, which performs the calculations, creates the plot, and fits the trend-line automatically with systematic search."
   ]
  },
  {
   "cell_type": "code",
   "execution_count": 16,
   "metadata": {},
   "outputs": [
    {
     "data": {
      "application/vnd.plotly.v1+json": {
       "config": {
        "plotlyServerURL": "https://plot.ly"
       },
       "data": [
        {
         "hovertemplate": "Magnitude: %{x:.3f}<br>Log10(Count): %{y:.2f}",
         "marker": {
          "color": "blue",
          "size": 8,
          "symbol": "circle"
         },
         "mode": "markers",
         "name": "Cumulative (N >= M)",
         "type": "scatter",
         "x": {
          "bdata": "AAAAAAAA4L+amZmZmZnZvzQzMzMzM9O/nJmZmZmZyb+gmZmZmZm5vwAAAAAAAKC8kJmZmZmZuT+UmZmZmZnJPzAzMzMzM9M/lpmZmZmZ2T/8///////fPzAzMzMzM+M/ZGZmZmZm5j+YmZmZmZnpP8rMzMzMzOw//P//////7z+YmZmZmZnxPzIzMzMzM/M/y8zMzMzM9D9kZmZmZmb2P/7///////c/mJmZmZmZ+T8wMzMzMzP7P8rMzMzMzPw/ZGZmZmZm/j/+////////P8zMzMzMzABA",
          "dtype": "f8"
         },
         "y": {
          "bdata": "6gh+iOYSB0DqCH6I5hIHQOoIfojmEgdA6gh+iOYSB0DOAWRvNgcHQIMQ9tr78gZAvnAAKg3dBkD8dDlEQLcGQPojlHH6eQZAQxyYPeD9BUD+1AUoO34FQOcxYmjttQRAi6NN6sHiA0BrASvONtUCQKy8fQfIwgFAKxIXZLRsAED91U+WJ4n+P88zlG+xAf0/boKgCJVL+j/qY2tx+2X3P37JT5+YFfQ/n0TkWYpW8j8/zHgLCwvrP/95n1ATROM//3mfUBNE4z//eZ9QE0TjP/95n1ATRNM/",
          "dtype": "f8"
         }
        },
        {
         "hovertemplate": "Magnitude: %{x:.3f}<br>Log10(Count): %{y:.2f}",
         "marker": {
          "color": "green",
          "size": 8,
          "symbol": "triangle-up"
         },
         "mode": "markers",
         "name": "Non-Cumulative (per bin)",
         "type": "scatter",
         "x": {
          "bdata": "NjMzMzMzw7+mmZmZmZmpv4qZmZmZmak/LjMzMzMzwz/6///////PP2NmZmZmZtY/yczMzMzM3D+YmZmZmZnhP8rMzMzMzOQ//v//////5z8yMzMzMzPrP2RmZmZmZu4/y8zMzMzM8D9lZmZmZmbyP/////////M/mJmZmZmZ9T8xMzMzMzP3P8vMzMzMzPg/ZWZmZmZm+j/9///////7P2VmZmZmZgBAMjMzMzMzAUA=",
          "dtype": "f8"
         },
         "y": {
          "bdata": "AAAAAAAA8D+XfUs166/zP37JT5+YFfQ/f/WT5Umi9z//18P0p5r6P54YoBPZyf4/gDhEPUAA/j+/qqDfD9z/P9jqKUb7nv4/f5t3fA5z/j//07u5TnP8P0N6U0uilvs/f1jHJBgV+D//eZ9QE0TzP59bUGvPJ/U/ABdsEUXR8j9vxVBgi6nwP/95n1ATROM/P8x4CwsL6z/91U+WJ4neP/95n1ATRNM//3mfUBNE0z8=",
          "dtype": "f8"
         }
        },
        {
         "line": {
          "color": "red"
         },
         "mode": "lines",
         "name": "Fit: b_val=1.57, a_val = 3.61, R^2 = 0.98",
         "type": "scatter",
         "x": {
          "bdata": "AAAAAAAA4L+amZmZmZnZvzQzMzMzM9O/nJmZmZmZyb+gmZmZmZm5vwAAAAAAAKC8kJmZmZmZuT+UmZmZmZnJPzAzMzMzM9M/lpmZmZmZ2T/8///////fPzAzMzMzM+M/ZGZmZmZm5j+YmZmZmZnpP8rMzMzMzOw//P//////7z+YmZmZmZnxPzIzMzMzM/M/y8zMzMzM9D9kZmZmZmb2P/7///////c/mJmZmZmZ+T8wMzMzMzP7P8rMzMzMzPw/ZGZmZmZm/j/+////////P8zMzMzMzABA",
          "dtype": "f8"
         },
         "y": {
          "bdata": "JBALzr2WEUCLS3O6+PUQQPKG26YzVRBAsoSHJt1oD0CA+1f/UicOQE5yKNjI5QxAHOn4sD6kC0DqX8mJtGIKQLjWmWIqIQlAhk1qO6DfB0BUxDoUFp4GQCI7C+2LXAVA8LHbxQEbBEC+KKyed9kCQIyffHftlwFAWhZNUGNWAEBPGjtSsin+P+oH3AOepvs/hvV8tYkj+T8k4x1ndaD2P77QvhhhHfQ/Wr5fykya8T/wVwH4cC7uPyQzQ1tIKOk/XA6Fvh8i5D8o041D7jfeP5CJEQqdK9Q/",
          "dtype": "f8"
         }
        },
        {
         "hovertemplate": "<b>Magnitude Completeness</b><br>Log10(N >= M): %{y:.2f}<br>Magnitude: %{x:.2f}<extra></extra>",
         "marker": {
          "color": "red",
          "size": 12,
          "symbol": "triangle-down"
         },
         "mode": "markers+text",
         "name": "Magnitude Completeness: 0.60",
         "text": "MC",
         "textfont": {
          "color": "#333333",
          "size": 12
         },
         "textposition": "top center",
         "type": "scatter",
         "x": [
          0.5999999999999996
         ],
         "y": [
          2.670188762574427
         ]
        }
       ],
       "layout": {
        "height": 720,
        "legend": {
         "bgcolor": "rgba(255,255,255,0.5)",
         "x": 0.99,
         "xanchor": "right",
         "y": 0.99,
         "yanchor": "top"
        },
        "showlegend": true,
        "template": {
         "data": {
          "bar": [
           {
            "error_x": {
             "color": "#2a3f5f"
            },
            "error_y": {
             "color": "#2a3f5f"
            },
            "marker": {
             "line": {
              "color": "white",
              "width": 0.5
             },
             "pattern": {
              "fillmode": "overlay",
              "size": 10,
              "solidity": 0.2
             }
            },
            "type": "bar"
           }
          ],
          "barpolar": [
           {
            "marker": {
             "line": {
              "color": "white",
              "width": 0.5
             },
             "pattern": {
              "fillmode": "overlay",
              "size": 10,
              "solidity": 0.2
             }
            },
            "type": "barpolar"
           }
          ],
          "carpet": [
           {
            "aaxis": {
             "endlinecolor": "#2a3f5f",
             "gridcolor": "#C8D4E3",
             "linecolor": "#C8D4E3",
             "minorgridcolor": "#C8D4E3",
             "startlinecolor": "#2a3f5f"
            },
            "baxis": {
             "endlinecolor": "#2a3f5f",
             "gridcolor": "#C8D4E3",
             "linecolor": "#C8D4E3",
             "minorgridcolor": "#C8D4E3",
             "startlinecolor": "#2a3f5f"
            },
            "type": "carpet"
           }
          ],
          "choropleth": [
           {
            "colorbar": {
             "outlinewidth": 0,
             "ticks": ""
            },
            "type": "choropleth"
           }
          ],
          "contour": [
           {
            "colorbar": {
             "outlinewidth": 0,
             "ticks": ""
            },
            "colorscale": [
             [
              0,
              "#0d0887"
             ],
             [
              0.1111111111111111,
              "#46039f"
             ],
             [
              0.2222222222222222,
              "#7201a8"
             ],
             [
              0.3333333333333333,
              "#9c179e"
             ],
             [
              0.4444444444444444,
              "#bd3786"
             ],
             [
              0.5555555555555556,
              "#d8576b"
             ],
             [
              0.6666666666666666,
              "#ed7953"
             ],
             [
              0.7777777777777778,
              "#fb9f3a"
             ],
             [
              0.8888888888888888,
              "#fdca26"
             ],
             [
              1,
              "#f0f921"
             ]
            ],
            "type": "contour"
           }
          ],
          "contourcarpet": [
           {
            "colorbar": {
             "outlinewidth": 0,
             "ticks": ""
            },
            "type": "contourcarpet"
           }
          ],
          "heatmap": [
           {
            "colorbar": {
             "outlinewidth": 0,
             "ticks": ""
            },
            "colorscale": [
             [
              0,
              "#0d0887"
             ],
             [
              0.1111111111111111,
              "#46039f"
             ],
             [
              0.2222222222222222,
              "#7201a8"
             ],
             [
              0.3333333333333333,
              "#9c179e"
             ],
             [
              0.4444444444444444,
              "#bd3786"
             ],
             [
              0.5555555555555556,
              "#d8576b"
             ],
             [
              0.6666666666666666,
              "#ed7953"
             ],
             [
              0.7777777777777778,
              "#fb9f3a"
             ],
             [
              0.8888888888888888,
              "#fdca26"
             ],
             [
              1,
              "#f0f921"
             ]
            ],
            "type": "heatmap"
           }
          ],
          "histogram": [
           {
            "marker": {
             "pattern": {
              "fillmode": "overlay",
              "size": 10,
              "solidity": 0.2
             }
            },
            "type": "histogram"
           }
          ],
          "histogram2d": [
           {
            "colorbar": {
             "outlinewidth": 0,
             "ticks": ""
            },
            "colorscale": [
             [
              0,
              "#0d0887"
             ],
             [
              0.1111111111111111,
              "#46039f"
             ],
             [
              0.2222222222222222,
              "#7201a8"
             ],
             [
              0.3333333333333333,
              "#9c179e"
             ],
             [
              0.4444444444444444,
              "#bd3786"
             ],
             [
              0.5555555555555556,
              "#d8576b"
             ],
             [
              0.6666666666666666,
              "#ed7953"
             ],
             [
              0.7777777777777778,
              "#fb9f3a"
             ],
             [
              0.8888888888888888,
              "#fdca26"
             ],
             [
              1,
              "#f0f921"
             ]
            ],
            "type": "histogram2d"
           }
          ],
          "histogram2dcontour": [
           {
            "colorbar": {
             "outlinewidth": 0,
             "ticks": ""
            },
            "colorscale": [
             [
              0,
              "#0d0887"
             ],
             [
              0.1111111111111111,
              "#46039f"
             ],
             [
              0.2222222222222222,
              "#7201a8"
             ],
             [
              0.3333333333333333,
              "#9c179e"
             ],
             [
              0.4444444444444444,
              "#bd3786"
             ],
             [
              0.5555555555555556,
              "#d8576b"
             ],
             [
              0.6666666666666666,
              "#ed7953"
             ],
             [
              0.7777777777777778,
              "#fb9f3a"
             ],
             [
              0.8888888888888888,
              "#fdca26"
             ],
             [
              1,
              "#f0f921"
             ]
            ],
            "type": "histogram2dcontour"
           }
          ],
          "mesh3d": [
           {
            "colorbar": {
             "outlinewidth": 0,
             "ticks": ""
            },
            "type": "mesh3d"
           }
          ],
          "parcoords": [
           {
            "line": {
             "colorbar": {
              "outlinewidth": 0,
              "ticks": ""
             }
            },
            "type": "parcoords"
           }
          ],
          "pie": [
           {
            "automargin": true,
            "type": "pie"
           }
          ],
          "scatter": [
           {
            "fillpattern": {
             "fillmode": "overlay",
             "size": 10,
             "solidity": 0.2
            },
            "type": "scatter"
           }
          ],
          "scatter3d": [
           {
            "line": {
             "colorbar": {
              "outlinewidth": 0,
              "ticks": ""
             }
            },
            "marker": {
             "colorbar": {
              "outlinewidth": 0,
              "ticks": ""
             }
            },
            "type": "scatter3d"
           }
          ],
          "scattercarpet": [
           {
            "marker": {
             "colorbar": {
              "outlinewidth": 0,
              "ticks": ""
             }
            },
            "type": "scattercarpet"
           }
          ],
          "scattergeo": [
           {
            "marker": {
             "colorbar": {
              "outlinewidth": 0,
              "ticks": ""
             }
            },
            "type": "scattergeo"
           }
          ],
          "scattergl": [
           {
            "marker": {
             "colorbar": {
              "outlinewidth": 0,
              "ticks": ""
             }
            },
            "type": "scattergl"
           }
          ],
          "scattermap": [
           {
            "marker": {
             "colorbar": {
              "outlinewidth": 0,
              "ticks": ""
             }
            },
            "type": "scattermap"
           }
          ],
          "scattermapbox": [
           {
            "marker": {
             "colorbar": {
              "outlinewidth": 0,
              "ticks": ""
             }
            },
            "type": "scattermapbox"
           }
          ],
          "scatterpolar": [
           {
            "marker": {
             "colorbar": {
              "outlinewidth": 0,
              "ticks": ""
             }
            },
            "type": "scatterpolar"
           }
          ],
          "scatterpolargl": [
           {
            "marker": {
             "colorbar": {
              "outlinewidth": 0,
              "ticks": ""
             }
            },
            "type": "scatterpolargl"
           }
          ],
          "scatterternary": [
           {
            "marker": {
             "colorbar": {
              "outlinewidth": 0,
              "ticks": ""
             }
            },
            "type": "scatterternary"
           }
          ],
          "surface": [
           {
            "colorbar": {
             "outlinewidth": 0,
             "ticks": ""
            },
            "colorscale": [
             [
              0,
              "#0d0887"
             ],
             [
              0.1111111111111111,
              "#46039f"
             ],
             [
              0.2222222222222222,
              "#7201a8"
             ],
             [
              0.3333333333333333,
              "#9c179e"
             ],
             [
              0.4444444444444444,
              "#bd3786"
             ],
             [
              0.5555555555555556,
              "#d8576b"
             ],
             [
              0.6666666666666666,
              "#ed7953"
             ],
             [
              0.7777777777777778,
              "#fb9f3a"
             ],
             [
              0.8888888888888888,
              "#fdca26"
             ],
             [
              1,
              "#f0f921"
             ]
            ],
            "type": "surface"
           }
          ],
          "table": [
           {
            "cells": {
             "fill": {
              "color": "#EBF0F8"
             },
             "line": {
              "color": "white"
             }
            },
            "header": {
             "fill": {
              "color": "#C8D4E3"
             },
             "line": {
              "color": "white"
             }
            },
            "type": "table"
           }
          ]
         },
         "layout": {
          "annotationdefaults": {
           "arrowcolor": "#2a3f5f",
           "arrowhead": 0,
           "arrowwidth": 1
          },
          "autotypenumbers": "strict",
          "coloraxis": {
           "colorbar": {
            "outlinewidth": 0,
            "ticks": ""
           }
          },
          "colorscale": {
           "diverging": [
            [
             0,
             "#8e0152"
            ],
            [
             0.1,
             "#c51b7d"
            ],
            [
             0.2,
             "#de77ae"
            ],
            [
             0.3,
             "#f1b6da"
            ],
            [
             0.4,
             "#fde0ef"
            ],
            [
             0.5,
             "#f7f7f7"
            ],
            [
             0.6,
             "#e6f5d0"
            ],
            [
             0.7,
             "#b8e186"
            ],
            [
             0.8,
             "#7fbc41"
            ],
            [
             0.9,
             "#4d9221"
            ],
            [
             1,
             "#276419"
            ]
           ],
           "sequential": [
            [
             0,
             "#0d0887"
            ],
            [
             0.1111111111111111,
             "#46039f"
            ],
            [
             0.2222222222222222,
             "#7201a8"
            ],
            [
             0.3333333333333333,
             "#9c179e"
            ],
            [
             0.4444444444444444,
             "#bd3786"
            ],
            [
             0.5555555555555556,
             "#d8576b"
            ],
            [
             0.6666666666666666,
             "#ed7953"
            ],
            [
             0.7777777777777778,
             "#fb9f3a"
            ],
            [
             0.8888888888888888,
             "#fdca26"
            ],
            [
             1,
             "#f0f921"
            ]
           ],
           "sequentialminus": [
            [
             0,
             "#0d0887"
            ],
            [
             0.1111111111111111,
             "#46039f"
            ],
            [
             0.2222222222222222,
             "#7201a8"
            ],
            [
             0.3333333333333333,
             "#9c179e"
            ],
            [
             0.4444444444444444,
             "#bd3786"
            ],
            [
             0.5555555555555556,
             "#d8576b"
            ],
            [
             0.6666666666666666,
             "#ed7953"
            ],
            [
             0.7777777777777778,
             "#fb9f3a"
            ],
            [
             0.8888888888888888,
             "#fdca26"
            ],
            [
             1,
             "#f0f921"
            ]
           ]
          },
          "colorway": [
           "#636efa",
           "#EF553B",
           "#00cc96",
           "#ab63fa",
           "#FFA15A",
           "#19d3f3",
           "#FF6692",
           "#B6E880",
           "#FF97FF",
           "#FECB52"
          ],
          "font": {
           "color": "#2a3f5f"
          },
          "geo": {
           "bgcolor": "white",
           "lakecolor": "white",
           "landcolor": "white",
           "showlakes": true,
           "showland": true,
           "subunitcolor": "#C8D4E3"
          },
          "hoverlabel": {
           "align": "left"
          },
          "hovermode": "closest",
          "mapbox": {
           "style": "light"
          },
          "paper_bgcolor": "white",
          "plot_bgcolor": "white",
          "polar": {
           "angularaxis": {
            "gridcolor": "#EBF0F8",
            "linecolor": "#EBF0F8",
            "ticks": ""
           },
           "bgcolor": "white",
           "radialaxis": {
            "gridcolor": "#EBF0F8",
            "linecolor": "#EBF0F8",
            "ticks": ""
           }
          },
          "scene": {
           "xaxis": {
            "backgroundcolor": "white",
            "gridcolor": "#DFE8F3",
            "gridwidth": 2,
            "linecolor": "#EBF0F8",
            "showbackground": true,
            "ticks": "",
            "zerolinecolor": "#EBF0F8"
           },
           "yaxis": {
            "backgroundcolor": "white",
            "gridcolor": "#DFE8F3",
            "gridwidth": 2,
            "linecolor": "#EBF0F8",
            "showbackground": true,
            "ticks": "",
            "zerolinecolor": "#EBF0F8"
           },
           "zaxis": {
            "backgroundcolor": "white",
            "gridcolor": "#DFE8F3",
            "gridwidth": 2,
            "linecolor": "#EBF0F8",
            "showbackground": true,
            "ticks": "",
            "zerolinecolor": "#EBF0F8"
           }
          },
          "shapedefaults": {
           "line": {
            "color": "#2a3f5f"
           }
          },
          "ternary": {
           "aaxis": {
            "gridcolor": "#DFE8F3",
            "linecolor": "#A2B1C6",
            "ticks": ""
           },
           "baxis": {
            "gridcolor": "#DFE8F3",
            "linecolor": "#A2B1C6",
            "ticks": ""
           },
           "bgcolor": "white",
           "caxis": {
            "gridcolor": "#DFE8F3",
            "linecolor": "#A2B1C6",
            "ticks": ""
           }
          },
          "title": {
           "x": 0.05
          },
          "xaxis": {
           "automargin": true,
           "gridcolor": "#EBF0F8",
           "linecolor": "#EBF0F8",
           "ticks": "",
           "title": {
            "standoff": 15
           },
           "zerolinecolor": "#EBF0F8",
           "zerolinewidth": 2
          },
          "yaxis": {
           "automargin": true,
           "gridcolor": "#EBF0F8",
           "linecolor": "#EBF0F8",
           "ticks": "",
           "title": {
            "standoff": 15
           },
           "zerolinecolor": "#EBF0F8",
           "zerolinewidth": 2
          }
         }
        },
        "title": {
         "text": "Gutenberg-Richter Analysis (bin_width = 0.1)"
        },
        "width": 960,
        "xaxis": {
         "title": {
          "text": "Magnitude"
         }
        },
        "yaxis": {
         "title": {
          "text": "Log10(Count)"
         }
        }
       }
      }
     },
     "metadata": {},
     "output_type": "display_data"
    },
    {
     "data": {
      "text/plain": [
       "{'b_value': 1.570017873174488,\n",
       " 'a_value': 3.6121994864791196,\n",
       " 'b_value_stderr': 0.04266426122064275,\n",
       " 'r_squared': 0.9796397623084806,\n",
       " 'result_data':     magnitude  log_cumulative_count  log_non_cumulative_count\n",
       " 0       -0.45              2.884229                  1.000000\n",
       " 1       -0.35              2.884229                  1.230449\n",
       " 2       -0.25              2.884229                  1.255273\n",
       " 3       -0.15              2.884229                  1.477121\n",
       " 4       -0.05              2.878522                  1.662758\n",
       " 5        0.05              2.868644                  1.924279\n",
       " 6        0.15              2.857935                  1.875061\n",
       " 7        0.25              2.839478                  1.991226\n",
       " 8        0.35              2.809560                  1.913814\n",
       " 9        0.45              2.748963                  1.903090\n",
       " 10       0.55              2.686636                  1.778151\n",
       " 11       0.65              2.588832                  1.724276\n",
       " 12       0.75              2.485721                  1.505150\n",
       " 13       0.85              2.354108                  1.204120\n",
       " 14       0.95              2.220108                  1.322219\n",
       " 15       1.05              2.053078                  1.176091\n",
       " 16       1.15              1.908485                  1.041393\n",
       " 17       1.25              1.812913                  0.602060\n",
       " 18       1.35              1.643453                  0.845098\n",
       " 19       1.45              1.462398                  0.477121\n",
       " 20       1.55              1.255273                  0.301030\n",
       " 21       1.65              1.146128                  0.301030\n",
       " 22       1.75              0.845098                       NaN\n",
       " 23       1.85              0.602060                       NaN\n",
       " 24       1.95              0.602060                       NaN\n",
       " 25       2.05              0.602060                       NaN\n",
       " 26       2.15              0.301030                       NaN}"
      ]
     },
     "execution_count": 16,
     "metadata": {},
     "output_type": "execute_result"
    }
   ],
   "source": [
    "# Create Gutenberg-richter plot\n",
    "lqt_ready_2.gutenberg_richter(min_magnitude=-0.5,bin_width=0.1, plot=True)"
   ]
  },
  {
   "cell_type": "markdown",
   "metadata": {},
   "source": [
    "### 8. Select a Region from the Datasets.\n",
    "\n",
    "When performing spatial data analysis, it is common to select a specific region of interest or conduct cluster analysis to gain more insights specific to that area. Using the `area_rectangle` and `area_circular` methods from the `LqtAnalysis` class, you can easily accomplish this. \n",
    "\n",
    "Simply provide the borders of the rectangular area or the center and radius for the circular area, and the methods will return a new DataFrame containing the subset of the dataset confined to the specified region."
   ]
  },
  {
   "cell_type": "markdown",
   "metadata": {},
   "source": [
    "##### A. Select Rectangle Area"
   ]
  },
  {
   "cell_type": "code",
   "execution_count": 17,
   "metadata": {},
   "outputs": [
    {
     "data": {
      "text/html": [
       "<div>\n",
       "<style scoped>\n",
       "    .dataframe tbody tr th:only-of-type {\n",
       "        vertical-align: middle;\n",
       "    }\n",
       "\n",
       "    .dataframe tbody tr th {\n",
       "        vertical-align: top;\n",
       "    }\n",
       "\n",
       "    .dataframe thead th {\n",
       "        text-align: right;\n",
       "    }\n",
       "</style>\n",
       "<table border=\"1\" class=\"dataframe\">\n",
       "  <thead>\n",
       "    <tr style=\"text-align: right;\">\n",
       "      <th></th>\n",
       "      <th>Unnamed: 0</th>\n",
       "      <th>source_id</th>\n",
       "      <th>source_lat</th>\n",
       "      <th>source_lon</th>\n",
       "      <th>source_depth_m</th>\n",
       "      <th>magnitude</th>\n",
       "      <th>network_code</th>\n",
       "      <th>station_code</th>\n",
       "      <th>station_lat</th>\n",
       "      <th>station_lon</th>\n",
       "      <th>...</th>\n",
       "      <th>s_p_lag_time_sec</th>\n",
       "      <th>coda_time</th>\n",
       "      <th>source_err_rms_s</th>\n",
       "      <th>n_phases</th>\n",
       "      <th>gap_degree</th>\n",
       "      <th>x_horizontal_err_m</th>\n",
       "      <th>y_horizontal_err_m</th>\n",
       "      <th>z_depth_err_m</th>\n",
       "      <th>earthquake_type</th>\n",
       "      <th>remarks</th>\n",
       "    </tr>\n",
       "  </thead>\n",
       "  <tbody>\n",
       "    <tr>\n",
       "      <th>0</th>\n",
       "      <td>0</td>\n",
       "      <td>2000</td>\n",
       "      <td>38.244364</td>\n",
       "      <td>126.369385</td>\n",
       "      <td>-873.300</td>\n",
       "      <td>0.431429</td>\n",
       "      <td>KJ</td>\n",
       "      <td>KJ09</td>\n",
       "      <td>38.224820</td>\n",
       "      <td>126.364433</td>\n",
       "      <td>...</td>\n",
       "      <td>0.537087</td>\n",
       "      <td>NaN</td>\n",
       "      <td>0.010497</td>\n",
       "      <td>6.0</td>\n",
       "      <td>321.498</td>\n",
       "      <td>1001.074098</td>\n",
       "      <td>553.533887</td>\n",
       "      <td>1125.534873</td>\n",
       "      <td>very_local_earthquake</td>\n",
       "      <td>NaN</td>\n",
       "    </tr>\n",
       "    <tr>\n",
       "      <th>1</th>\n",
       "      <td>1</td>\n",
       "      <td>2000</td>\n",
       "      <td>38.244364</td>\n",
       "      <td>126.369385</td>\n",
       "      <td>-873.300</td>\n",
       "      <td>0.431429</td>\n",
       "      <td>KJ</td>\n",
       "      <td>KJ06</td>\n",
       "      <td>38.212581</td>\n",
       "      <td>126.379951</td>\n",
       "      <td>...</td>\n",
       "      <td>0.819840</td>\n",
       "      <td>NaN</td>\n",
       "      <td>0.010497</td>\n",
       "      <td>6.0</td>\n",
       "      <td>321.498</td>\n",
       "      <td>1001.074098</td>\n",
       "      <td>553.533887</td>\n",
       "      <td>1125.534873</td>\n",
       "      <td>very_local_earthquake</td>\n",
       "      <td>NaN</td>\n",
       "    </tr>\n",
       "    <tr>\n",
       "      <th>2</th>\n",
       "      <td>2</td>\n",
       "      <td>2000</td>\n",
       "      <td>38.244364</td>\n",
       "      <td>126.369385</td>\n",
       "      <td>-873.300</td>\n",
       "      <td>0.431429</td>\n",
       "      <td>KJ</td>\n",
       "      <td>KJ05</td>\n",
       "      <td>38.203970</td>\n",
       "      <td>126.378906</td>\n",
       "      <td>...</td>\n",
       "      <td>0.994110</td>\n",
       "      <td>NaN</td>\n",
       "      <td>0.010497</td>\n",
       "      <td>6.0</td>\n",
       "      <td>321.498</td>\n",
       "      <td>1001.074098</td>\n",
       "      <td>553.533887</td>\n",
       "      <td>1125.534873</td>\n",
       "      <td>very_local_earthquake</td>\n",
       "      <td>NaN</td>\n",
       "    </tr>\n",
       "    <tr>\n",
       "      <th>20</th>\n",
       "      <td>20</td>\n",
       "      <td>2004</td>\n",
       "      <td>38.233423</td>\n",
       "      <td>126.379041</td>\n",
       "      <td>-2730.357</td>\n",
       "      <td>NaN</td>\n",
       "      <td>KJ</td>\n",
       "      <td>KJ09</td>\n",
       "      <td>38.224820</td>\n",
       "      <td>126.364433</td>\n",
       "      <td>...</td>\n",
       "      <td>0.470382</td>\n",
       "      <td>NaN</td>\n",
       "      <td>0.022159</td>\n",
       "      <td>8.0</td>\n",
       "      <td>297.885</td>\n",
       "      <td>963.236835</td>\n",
       "      <td>773.610154</td>\n",
       "      <td>1210.829402</td>\n",
       "      <td>very_local_earthquake</td>\n",
       "      <td>NaN</td>\n",
       "    </tr>\n",
       "    <tr>\n",
       "      <th>21</th>\n",
       "      <td>21</td>\n",
       "      <td>2004</td>\n",
       "      <td>38.233423</td>\n",
       "      <td>126.379041</td>\n",
       "      <td>-2730.357</td>\n",
       "      <td>NaN</td>\n",
       "      <td>KJ</td>\n",
       "      <td>KJ06</td>\n",
       "      <td>38.212581</td>\n",
       "      <td>126.379951</td>\n",
       "      <td>...</td>\n",
       "      <td>0.642059</td>\n",
       "      <td>NaN</td>\n",
       "      <td>0.022159</td>\n",
       "      <td>8.0</td>\n",
       "      <td>297.885</td>\n",
       "      <td>963.236835</td>\n",
       "      <td>773.610154</td>\n",
       "      <td>1210.829402</td>\n",
       "      <td>very_local_earthquake</td>\n",
       "      <td>NaN</td>\n",
       "    </tr>\n",
       "    <tr>\n",
       "      <th>22</th>\n",
       "      <td>22</td>\n",
       "      <td>2004</td>\n",
       "      <td>38.233423</td>\n",
       "      <td>126.379041</td>\n",
       "      <td>-2730.357</td>\n",
       "      <td>NaN</td>\n",
       "      <td>KJ</td>\n",
       "      <td>KJ05</td>\n",
       "      <td>38.203970</td>\n",
       "      <td>126.378906</td>\n",
       "      <td>...</td>\n",
       "      <td>0.907295</td>\n",
       "      <td>NaN</td>\n",
       "      <td>0.022159</td>\n",
       "      <td>8.0</td>\n",
       "      <td>297.885</td>\n",
       "      <td>963.236835</td>\n",
       "      <td>773.610154</td>\n",
       "      <td>1210.829402</td>\n",
       "      <td>very_local_earthquake</td>\n",
       "      <td>NaN</td>\n",
       "    </tr>\n",
       "    <tr>\n",
       "      <th>23</th>\n",
       "      <td>23</td>\n",
       "      <td>2004</td>\n",
       "      <td>38.233423</td>\n",
       "      <td>126.379041</td>\n",
       "      <td>-2730.357</td>\n",
       "      <td>NaN</td>\n",
       "      <td>KJ</td>\n",
       "      <td>KJ02</td>\n",
       "      <td>38.210773</td>\n",
       "      <td>126.401842</td>\n",
       "      <td>...</td>\n",
       "      <td>1.504001</td>\n",
       "      <td>NaN</td>\n",
       "      <td>0.022159</td>\n",
       "      <td>8.0</td>\n",
       "      <td>297.885</td>\n",
       "      <td>963.236835</td>\n",
       "      <td>773.610154</td>\n",
       "      <td>1210.829402</td>\n",
       "      <td>very_local_earthquake</td>\n",
       "      <td>NaN</td>\n",
       "    </tr>\n",
       "    <tr>\n",
       "      <th>24</th>\n",
       "      <td>24</td>\n",
       "      <td>2005</td>\n",
       "      <td>38.240433</td>\n",
       "      <td>126.364087</td>\n",
       "      <td>-265.140</td>\n",
       "      <td>0.964486</td>\n",
       "      <td>KJ</td>\n",
       "      <td>KJ14</td>\n",
       "      <td>38.245280</td>\n",
       "      <td>126.362021</td>\n",
       "      <td>...</td>\n",
       "      <td>0.465420</td>\n",
       "      <td>NaN</td>\n",
       "      <td>0.025924</td>\n",
       "      <td>14.0</td>\n",
       "      <td>160.259</td>\n",
       "      <td>612.538733</td>\n",
       "      <td>440.734299</td>\n",
       "      <td>306.344851</td>\n",
       "      <td>very_local_earthquake</td>\n",
       "      <td>NaN</td>\n",
       "    </tr>\n",
       "    <tr>\n",
       "      <th>25</th>\n",
       "      <td>25</td>\n",
       "      <td>2005</td>\n",
       "      <td>38.240433</td>\n",
       "      <td>126.364087</td>\n",
       "      <td>-265.140</td>\n",
       "      <td>0.964486</td>\n",
       "      <td>KJ</td>\n",
       "      <td>KJ12</td>\n",
       "      <td>38.236119</td>\n",
       "      <td>126.366364</td>\n",
       "      <td>...</td>\n",
       "      <td>0.476112</td>\n",
       "      <td>NaN</td>\n",
       "      <td>0.025924</td>\n",
       "      <td>14.0</td>\n",
       "      <td>160.259</td>\n",
       "      <td>612.538733</td>\n",
       "      <td>440.734299</td>\n",
       "      <td>306.344851</td>\n",
       "      <td>very_local_earthquake</td>\n",
       "      <td>NaN</td>\n",
       "    </tr>\n",
       "    <tr>\n",
       "      <th>26</th>\n",
       "      <td>26</td>\n",
       "      <td>2005</td>\n",
       "      <td>38.240433</td>\n",
       "      <td>126.364087</td>\n",
       "      <td>-265.140</td>\n",
       "      <td>0.964486</td>\n",
       "      <td>KJ</td>\n",
       "      <td>KJ09</td>\n",
       "      <td>38.224820</td>\n",
       "      <td>126.364433</td>\n",
       "      <td>...</td>\n",
       "      <td>0.497650</td>\n",
       "      <td>NaN</td>\n",
       "      <td>0.025924</td>\n",
       "      <td>14.0</td>\n",
       "      <td>160.259</td>\n",
       "      <td>612.538733</td>\n",
       "      <td>440.734299</td>\n",
       "      <td>306.344851</td>\n",
       "      <td>very_local_earthquake</td>\n",
       "      <td>NaN</td>\n",
       "    </tr>\n",
       "  </tbody>\n",
       "</table>\n",
       "<p>10 rows × 28 columns</p>\n",
       "</div>"
      ],
      "text/plain": [
       "    Unnamed: 0  source_id  source_lat  source_lon  source_depth_m  magnitude  \\\n",
       "0            0       2000   38.244364  126.369385        -873.300   0.431429   \n",
       "1            1       2000   38.244364  126.369385        -873.300   0.431429   \n",
       "2            2       2000   38.244364  126.369385        -873.300   0.431429   \n",
       "20          20       2004   38.233423  126.379041       -2730.357        NaN   \n",
       "21          21       2004   38.233423  126.379041       -2730.357        NaN   \n",
       "22          22       2004   38.233423  126.379041       -2730.357        NaN   \n",
       "23          23       2004   38.233423  126.379041       -2730.357        NaN   \n",
       "24          24       2005   38.240433  126.364087        -265.140   0.964486   \n",
       "25          25       2005   38.240433  126.364087        -265.140   0.964486   \n",
       "26          26       2005   38.240433  126.364087        -265.140   0.964486   \n",
       "\n",
       "   network_code station_code  station_lat  station_lon  ...  s_p_lag_time_sec  \\\n",
       "0            KJ         KJ09    38.224820   126.364433  ...          0.537087   \n",
       "1            KJ         KJ06    38.212581   126.379951  ...          0.819840   \n",
       "2            KJ         KJ05    38.203970   126.378906  ...          0.994110   \n",
       "20           KJ         KJ09    38.224820   126.364433  ...          0.470382   \n",
       "21           KJ         KJ06    38.212581   126.379951  ...          0.642059   \n",
       "22           KJ         KJ05    38.203970   126.378906  ...          0.907295   \n",
       "23           KJ         KJ02    38.210773   126.401842  ...          1.504001   \n",
       "24           KJ         KJ14    38.245280   126.362021  ...          0.465420   \n",
       "25           KJ         KJ12    38.236119   126.366364  ...          0.476112   \n",
       "26           KJ         KJ09    38.224820   126.364433  ...          0.497650   \n",
       "\n",
       "   coda_time source_err_rms_s  n_phases gap_degree x_horizontal_err_m  \\\n",
       "0        NaN         0.010497       6.0    321.498        1001.074098   \n",
       "1        NaN         0.010497       6.0    321.498        1001.074098   \n",
       "2        NaN         0.010497       6.0    321.498        1001.074098   \n",
       "20       NaN         0.022159       8.0    297.885         963.236835   \n",
       "21       NaN         0.022159       8.0    297.885         963.236835   \n",
       "22       NaN         0.022159       8.0    297.885         963.236835   \n",
       "23       NaN         0.022159       8.0    297.885         963.236835   \n",
       "24       NaN         0.025924      14.0    160.259         612.538733   \n",
       "25       NaN         0.025924      14.0    160.259         612.538733   \n",
       "26       NaN         0.025924      14.0    160.259         612.538733   \n",
       "\n",
       "   y_horizontal_err_m  z_depth_err_m        earthquake_type  remarks  \n",
       "0          553.533887    1125.534873  very_local_earthquake      NaN  \n",
       "1          553.533887    1125.534873  very_local_earthquake      NaN  \n",
       "2          553.533887    1125.534873  very_local_earthquake      NaN  \n",
       "20         773.610154    1210.829402  very_local_earthquake      NaN  \n",
       "21         773.610154    1210.829402  very_local_earthquake      NaN  \n",
       "22         773.610154    1210.829402  very_local_earthquake      NaN  \n",
       "23         773.610154    1210.829402  very_local_earthquake      NaN  \n",
       "24         440.734299     306.344851  very_local_earthquake      NaN  \n",
       "25         440.734299     306.344851  very_local_earthquake      NaN  \n",
       "26         440.734299     306.344851  very_local_earthquake      NaN  \n",
       "\n",
       "[10 rows x 28 columns]"
      ]
     },
     "execution_count": 17,
     "metadata": {},
     "output_type": "execute_result"
    }
   ],
   "source": [
    "# Draw area rectangle by providing the rectangle borders\n",
    "subset_area_df = lqt_ready_2.area_rectangle(\n",
    "                                        min_latitude=38.225,\n",
    "                                        max_latitude=38.260,\n",
    "                                        min_longitude=126.340,\n",
    "                                        max_longitude=126.380,\n",
    ")\n",
    "\n",
    "# Make new LqtAnalysis class instance using this subset df\n",
    "new_subset_area_lqt = LqtAnalysis(subset_area_df)\n",
    "new_subset_area_lqt.head(10)"
   ]
  },
  {
   "cell_type": "markdown",
   "metadata": {},
   "source": [
    "And performs some analysis using this new subsets of data."
   ]
  },
  {
   "cell_type": "code",
   "execution_count": 18,
   "metadata": {},
   "outputs": [
    {
     "data": {
      "text/plain": [
       "0.5588407291318986"
      ]
     },
     "execution_count": 18,
     "metadata": {},
     "output_type": "execute_result"
    }
   ],
   "source": [
    "# Calculate statistic from clustered data\n",
    "new_subset_area_lqt.compute_statistic(\"magnitude\", Statistic.MEAN) "
   ]
  },
  {
   "cell_type": "code",
   "execution_count": 19,
   "metadata": {},
   "outputs": [
    {
     "data": {
      "application/vnd.plotly.v1+json": {
       "config": {
        "plotlyServerURL": "https://plot.ly"
       },
       "data": [
        {
         "marker": {
          "color": "#FF9900"
         },
         "name": "Intensity",
         "opacity": 0.8,
         "type": "bar",
         "x": [
          "2024_03",
          "2024_04",
          "2024_05",
          "2024_06",
          "2024_07",
          "2024_08",
          "2024_09",
          "2024_10",
          "2024_11"
         ],
         "y": {
          "bdata": "DAYJDQMTE0gk",
          "dtype": "i1"
         }
        }
       ],
       "layout": {
        "bargap": 0.2,
        "height": 720,
        "legend": {
         "bgcolor": "rgba(255,255,255,0.5)",
         "x": 0.99,
         "xanchor": "right",
         "y": 0.99,
         "yanchor": "top"
        },
        "showlegend": true,
        "template": {
         "data": {
          "bar": [
           {
            "error_x": {
             "color": "#2a3f5f"
            },
            "error_y": {
             "color": "#2a3f5f"
            },
            "marker": {
             "line": {
              "color": "white",
              "width": 0.5
             },
             "pattern": {
              "fillmode": "overlay",
              "size": 10,
              "solidity": 0.2
             }
            },
            "type": "bar"
           }
          ],
          "barpolar": [
           {
            "marker": {
             "line": {
              "color": "white",
              "width": 0.5
             },
             "pattern": {
              "fillmode": "overlay",
              "size": 10,
              "solidity": 0.2
             }
            },
            "type": "barpolar"
           }
          ],
          "carpet": [
           {
            "aaxis": {
             "endlinecolor": "#2a3f5f",
             "gridcolor": "#C8D4E3",
             "linecolor": "#C8D4E3",
             "minorgridcolor": "#C8D4E3",
             "startlinecolor": "#2a3f5f"
            },
            "baxis": {
             "endlinecolor": "#2a3f5f",
             "gridcolor": "#C8D4E3",
             "linecolor": "#C8D4E3",
             "minorgridcolor": "#C8D4E3",
             "startlinecolor": "#2a3f5f"
            },
            "type": "carpet"
           }
          ],
          "choropleth": [
           {
            "colorbar": {
             "outlinewidth": 0,
             "ticks": ""
            },
            "type": "choropleth"
           }
          ],
          "contour": [
           {
            "colorbar": {
             "outlinewidth": 0,
             "ticks": ""
            },
            "colorscale": [
             [
              0,
              "#0d0887"
             ],
             [
              0.1111111111111111,
              "#46039f"
             ],
             [
              0.2222222222222222,
              "#7201a8"
             ],
             [
              0.3333333333333333,
              "#9c179e"
             ],
             [
              0.4444444444444444,
              "#bd3786"
             ],
             [
              0.5555555555555556,
              "#d8576b"
             ],
             [
              0.6666666666666666,
              "#ed7953"
             ],
             [
              0.7777777777777778,
              "#fb9f3a"
             ],
             [
              0.8888888888888888,
              "#fdca26"
             ],
             [
              1,
              "#f0f921"
             ]
            ],
            "type": "contour"
           }
          ],
          "contourcarpet": [
           {
            "colorbar": {
             "outlinewidth": 0,
             "ticks": ""
            },
            "type": "contourcarpet"
           }
          ],
          "heatmap": [
           {
            "colorbar": {
             "outlinewidth": 0,
             "ticks": ""
            },
            "colorscale": [
             [
              0,
              "#0d0887"
             ],
             [
              0.1111111111111111,
              "#46039f"
             ],
             [
              0.2222222222222222,
              "#7201a8"
             ],
             [
              0.3333333333333333,
              "#9c179e"
             ],
             [
              0.4444444444444444,
              "#bd3786"
             ],
             [
              0.5555555555555556,
              "#d8576b"
             ],
             [
              0.6666666666666666,
              "#ed7953"
             ],
             [
              0.7777777777777778,
              "#fb9f3a"
             ],
             [
              0.8888888888888888,
              "#fdca26"
             ],
             [
              1,
              "#f0f921"
             ]
            ],
            "type": "heatmap"
           }
          ],
          "histogram": [
           {
            "marker": {
             "pattern": {
              "fillmode": "overlay",
              "size": 10,
              "solidity": 0.2
             }
            },
            "type": "histogram"
           }
          ],
          "histogram2d": [
           {
            "colorbar": {
             "outlinewidth": 0,
             "ticks": ""
            },
            "colorscale": [
             [
              0,
              "#0d0887"
             ],
             [
              0.1111111111111111,
              "#46039f"
             ],
             [
              0.2222222222222222,
              "#7201a8"
             ],
             [
              0.3333333333333333,
              "#9c179e"
             ],
             [
              0.4444444444444444,
              "#bd3786"
             ],
             [
              0.5555555555555556,
              "#d8576b"
             ],
             [
              0.6666666666666666,
              "#ed7953"
             ],
             [
              0.7777777777777778,
              "#fb9f3a"
             ],
             [
              0.8888888888888888,
              "#fdca26"
             ],
             [
              1,
              "#f0f921"
             ]
            ],
            "type": "histogram2d"
           }
          ],
          "histogram2dcontour": [
           {
            "colorbar": {
             "outlinewidth": 0,
             "ticks": ""
            },
            "colorscale": [
             [
              0,
              "#0d0887"
             ],
             [
              0.1111111111111111,
              "#46039f"
             ],
             [
              0.2222222222222222,
              "#7201a8"
             ],
             [
              0.3333333333333333,
              "#9c179e"
             ],
             [
              0.4444444444444444,
              "#bd3786"
             ],
             [
              0.5555555555555556,
              "#d8576b"
             ],
             [
              0.6666666666666666,
              "#ed7953"
             ],
             [
              0.7777777777777778,
              "#fb9f3a"
             ],
             [
              0.8888888888888888,
              "#fdca26"
             ],
             [
              1,
              "#f0f921"
             ]
            ],
            "type": "histogram2dcontour"
           }
          ],
          "mesh3d": [
           {
            "colorbar": {
             "outlinewidth": 0,
             "ticks": ""
            },
            "type": "mesh3d"
           }
          ],
          "parcoords": [
           {
            "line": {
             "colorbar": {
              "outlinewidth": 0,
              "ticks": ""
             }
            },
            "type": "parcoords"
           }
          ],
          "pie": [
           {
            "automargin": true,
            "type": "pie"
           }
          ],
          "scatter": [
           {
            "fillpattern": {
             "fillmode": "overlay",
             "size": 10,
             "solidity": 0.2
            },
            "type": "scatter"
           }
          ],
          "scatter3d": [
           {
            "line": {
             "colorbar": {
              "outlinewidth": 0,
              "ticks": ""
             }
            },
            "marker": {
             "colorbar": {
              "outlinewidth": 0,
              "ticks": ""
             }
            },
            "type": "scatter3d"
           }
          ],
          "scattercarpet": [
           {
            "marker": {
             "colorbar": {
              "outlinewidth": 0,
              "ticks": ""
             }
            },
            "type": "scattercarpet"
           }
          ],
          "scattergeo": [
           {
            "marker": {
             "colorbar": {
              "outlinewidth": 0,
              "ticks": ""
             }
            },
            "type": "scattergeo"
           }
          ],
          "scattergl": [
           {
            "marker": {
             "colorbar": {
              "outlinewidth": 0,
              "ticks": ""
             }
            },
            "type": "scattergl"
           }
          ],
          "scattermap": [
           {
            "marker": {
             "colorbar": {
              "outlinewidth": 0,
              "ticks": ""
             }
            },
            "type": "scattermap"
           }
          ],
          "scattermapbox": [
           {
            "marker": {
             "colorbar": {
              "outlinewidth": 0,
              "ticks": ""
             }
            },
            "type": "scattermapbox"
           }
          ],
          "scatterpolar": [
           {
            "marker": {
             "colorbar": {
              "outlinewidth": 0,
              "ticks": ""
             }
            },
            "type": "scatterpolar"
           }
          ],
          "scatterpolargl": [
           {
            "marker": {
             "colorbar": {
              "outlinewidth": 0,
              "ticks": ""
             }
            },
            "type": "scatterpolargl"
           }
          ],
          "scatterternary": [
           {
            "marker": {
             "colorbar": {
              "outlinewidth": 0,
              "ticks": ""
             }
            },
            "type": "scatterternary"
           }
          ],
          "surface": [
           {
            "colorbar": {
             "outlinewidth": 0,
             "ticks": ""
            },
            "colorscale": [
             [
              0,
              "#0d0887"
             ],
             [
              0.1111111111111111,
              "#46039f"
             ],
             [
              0.2222222222222222,
              "#7201a8"
             ],
             [
              0.3333333333333333,
              "#9c179e"
             ],
             [
              0.4444444444444444,
              "#bd3786"
             ],
             [
              0.5555555555555556,
              "#d8576b"
             ],
             [
              0.6666666666666666,
              "#ed7953"
             ],
             [
              0.7777777777777778,
              "#fb9f3a"
             ],
             [
              0.8888888888888888,
              "#fdca26"
             ],
             [
              1,
              "#f0f921"
             ]
            ],
            "type": "surface"
           }
          ],
          "table": [
           {
            "cells": {
             "fill": {
              "color": "#EBF0F8"
             },
             "line": {
              "color": "white"
             }
            },
            "header": {
             "fill": {
              "color": "#C8D4E3"
             },
             "line": {
              "color": "white"
             }
            },
            "type": "table"
           }
          ]
         },
         "layout": {
          "annotationdefaults": {
           "arrowcolor": "#2a3f5f",
           "arrowhead": 0,
           "arrowwidth": 1
          },
          "autotypenumbers": "strict",
          "coloraxis": {
           "colorbar": {
            "outlinewidth": 0,
            "ticks": ""
           }
          },
          "colorscale": {
           "diverging": [
            [
             0,
             "#8e0152"
            ],
            [
             0.1,
             "#c51b7d"
            ],
            [
             0.2,
             "#de77ae"
            ],
            [
             0.3,
             "#f1b6da"
            ],
            [
             0.4,
             "#fde0ef"
            ],
            [
             0.5,
             "#f7f7f7"
            ],
            [
             0.6,
             "#e6f5d0"
            ],
            [
             0.7,
             "#b8e186"
            ],
            [
             0.8,
             "#7fbc41"
            ],
            [
             0.9,
             "#4d9221"
            ],
            [
             1,
             "#276419"
            ]
           ],
           "sequential": [
            [
             0,
             "#0d0887"
            ],
            [
             0.1111111111111111,
             "#46039f"
            ],
            [
             0.2222222222222222,
             "#7201a8"
            ],
            [
             0.3333333333333333,
             "#9c179e"
            ],
            [
             0.4444444444444444,
             "#bd3786"
            ],
            [
             0.5555555555555556,
             "#d8576b"
            ],
            [
             0.6666666666666666,
             "#ed7953"
            ],
            [
             0.7777777777777778,
             "#fb9f3a"
            ],
            [
             0.8888888888888888,
             "#fdca26"
            ],
            [
             1,
             "#f0f921"
            ]
           ],
           "sequentialminus": [
            [
             0,
             "#0d0887"
            ],
            [
             0.1111111111111111,
             "#46039f"
            ],
            [
             0.2222222222222222,
             "#7201a8"
            ],
            [
             0.3333333333333333,
             "#9c179e"
            ],
            [
             0.4444444444444444,
             "#bd3786"
            ],
            [
             0.5555555555555556,
             "#d8576b"
            ],
            [
             0.6666666666666666,
             "#ed7953"
            ],
            [
             0.7777777777777778,
             "#fb9f3a"
            ],
            [
             0.8888888888888888,
             "#fdca26"
            ],
            [
             1,
             "#f0f921"
            ]
           ]
          },
          "colorway": [
           "#636efa",
           "#EF553B",
           "#00cc96",
           "#ab63fa",
           "#FFA15A",
           "#19d3f3",
           "#FF6692",
           "#B6E880",
           "#FF97FF",
           "#FECB52"
          ],
          "font": {
           "color": "#2a3f5f"
          },
          "geo": {
           "bgcolor": "white",
           "lakecolor": "white",
           "landcolor": "white",
           "showlakes": true,
           "showland": true,
           "subunitcolor": "#C8D4E3"
          },
          "hoverlabel": {
           "align": "left"
          },
          "hovermode": "closest",
          "mapbox": {
           "style": "light"
          },
          "paper_bgcolor": "white",
          "plot_bgcolor": "white",
          "polar": {
           "angularaxis": {
            "gridcolor": "#EBF0F8",
            "linecolor": "#EBF0F8",
            "ticks": ""
           },
           "bgcolor": "white",
           "radialaxis": {
            "gridcolor": "#EBF0F8",
            "linecolor": "#EBF0F8",
            "ticks": ""
           }
          },
          "scene": {
           "xaxis": {
            "backgroundcolor": "white",
            "gridcolor": "#DFE8F3",
            "gridwidth": 2,
            "linecolor": "#EBF0F8",
            "showbackground": true,
            "ticks": "",
            "zerolinecolor": "#EBF0F8"
           },
           "yaxis": {
            "backgroundcolor": "white",
            "gridcolor": "#DFE8F3",
            "gridwidth": 2,
            "linecolor": "#EBF0F8",
            "showbackground": true,
            "ticks": "",
            "zerolinecolor": "#EBF0F8"
           },
           "zaxis": {
            "backgroundcolor": "white",
            "gridcolor": "#DFE8F3",
            "gridwidth": 2,
            "linecolor": "#EBF0F8",
            "showbackground": true,
            "ticks": "",
            "zerolinecolor": "#EBF0F8"
           }
          },
          "shapedefaults": {
           "line": {
            "color": "#2a3f5f"
           }
          },
          "ternary": {
           "aaxis": {
            "gridcolor": "#DFE8F3",
            "linecolor": "#A2B1C6",
            "ticks": ""
           },
           "baxis": {
            "gridcolor": "#DFE8F3",
            "linecolor": "#A2B1C6",
            "ticks": ""
           },
           "bgcolor": "white",
           "caxis": {
            "gridcolor": "#DFE8F3",
            "linecolor": "#A2B1C6",
            "ticks": ""
           }
          },
          "title": {
           "x": 0.05
          },
          "xaxis": {
           "automargin": true,
           "gridcolor": "#EBF0F8",
           "linecolor": "#EBF0F8",
           "ticks": "",
           "title": {
            "standoff": 15
           },
           "zerolinecolor": "#EBF0F8",
           "zerolinewidth": 2
          },
          "yaxis": {
           "automargin": true,
           "gridcolor": "#EBF0F8",
           "linecolor": "#EBF0F8",
           "ticks": "",
           "title": {
            "standoff": 15
           },
           "zerolinecolor": "#EBF0F8",
           "zerolinewidth": 2
          }
         }
        },
        "title": {
         "text": "Histogram of Earthquakes intensity (Monthly)"
        },
        "width": 960,
        "xaxis": {
         "tickangle": 45,
         "title": {
          "text": "Monthly Intensities"
         }
        },
        "yaxis": {
         "title": {
          "text": "Count"
         }
        }
       }
      }
     },
     "metadata": {},
     "output_type": "display_data"
    }
   ],
   "source": [
    "# Plot Monthly Intensities\n",
    "new_subset_area_lqt.plot_intensity('monthly')"
   ]
  },
  {
   "cell_type": "code",
   "execution_count": 20,
   "metadata": {},
   "outputs": [
    {
     "data": {
      "application/vnd.plotly.v1+json": {
       "config": {
        "plotlyServerURL": "https://plot.ly"
       },
       "data": [
        {
         "customdata": {
          "bdata": "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",
          "dtype": "f8",
          "shape": "174, 3"
         },
         "hovertemplate": "<b>Earthquake: %{customdata[0]}</b><br>Source Lon: %{x:.3f}<br>Source Lat: %{y:.3f}<br>Source Depth(m): %{customdata[1]:.3f}<br>Magnitude: %{customdata[2]:.3f}<br><extra></extra>",
         "legendgroup": "",
         "marker": {
          "color": {
           "bdata": "ZmZmZmZKi8AK16NwPZJwwClcj8L1SF7AXI/C9SgcW8AUrkfhepR4wB+F61G4jnLA16NwPQrHYcBxPQrXozB5wOF6FK5HEXjA4XoUrkcFcMCamZmZmelnwPYoXI/C2XvArkfhehTeUMCF61G4HqOAwDMzMzMziYHApHA9CtczZMDLoUW28x6JQHE9CtejAGXAAAAAAAAMesAAAAAAgASiwIXrUbgeLWXAzczMzMxUYsBI4XoUrjdqQI/C9Shc12DA4XoUrkdfhcA9CtejcFV8wEjhehSu733AhetRuB6xf8Bcj8L1KMRqwIXrUbgeAXfAKVyPwvUwZsCkcD0K1zNQQM3MzMzMHFFAcT0K16PwWsBcj8L1KGRvQB+F61G4vlLAUrgehethW8AUrkfheiRVwOF6FK5HWW9APQrXo3AlbcAfhetRuC5xwM3MzMzMnGTA16NwPQpXKsAUrkfheqaFwFyPwvUozFzAuB6F61G8dEAK16NwPQpQwNV46SYxkYrAhetRuJ79mMAAAAAAAGiAwBSuR+F6gHrAPQrXo3CVZcAzMzMzM5OHwKRwPQrX62zAcT0K16PygcBcj8L1KGSRwFyPwvUojI/AH4XrUbgeDUDD9Shcj/JzwPYoXI/CCYPAexSuR+G6WcBcj8L1KHB5wAAAAAAAtIRAXI/C9Sg8dcDD9Shcj4qFwFK4HoXrsU3ApHA9CtdrYcCuR+F6FG5dwKRwPQrXTYTAKVyPwvV4aMCamZmZmemEwMP1KFyPmm5ArkfhehT6ecCPwvUoXB9wwBSuR+F6gHPAmpmZmZl9c8D2KFyPwlVAQArXo3A9cofAAAAAAAAwUcDXo3A9CouMwL6fGi/dgnvAXI/C9SgUZsA9CtejcAODwB+F61G4+oHA1XjpJjFKgcBI4XoUrscgwArXo3A9jnLA4XoUrkfBVsAzMzMzMy92wFK4HoXrvXfAUrgeheupYMDNzMzMzPxkwClcj8L1QoDAUrgehev9ecCkcD0K13eHwB+F61G4BIzAmpmZmZnViMDNzMzMzDx6wFyPwvUoHo/AH4XrUbhagcD2KFyPwkmJwArXo3A9NIPAIbByaJEOg8B7FK5H4YqLwM3MzMzM9GTAmpmZmZmZEEA9CtejcD3+P8P1KFyPwkdA7FG4HoVrKEAAAAAAAGh1wBSuR+F6ioPAAAAAAADwUUDNzMzMzJB7wFyPwvUopGDAKVyPwvUccMApXI/C9fhRwGZmZmZmioPAexSuR+FQgcApXI/C9ahNwI/C9Shc71LAw/UoXI8GfsDXo3A9Cj9hwI/C9ShcL2zArkfhehSCfMAAAAAAAMBbwM3MzMzMXHrAMzMzMzM/jMBxPQrXo9BRwOxRuB6Fi0XAuB6F61GqgcAAAAAAAPBQwArXo3A9WlbAw/UoXI/qa8AhsHJokVqHQAAAAACABKLAf2q8dJPocMC4HoXrUb6LwMP1KFyPlInA7FG4HoWdisApXI/C9bWYwGZmZmZmZjrAj8L1KFyPGUDsUbgehfGDwDMzMzMzO4jA7FG4HoXHhMDNzMzMzJyCwFK4HoXr44PA4XoUrkcOkMCuR+F6FJyGwD0K16NwV4jAFK5H4XoehsCamZmZmWGQwKRwPQrX93rA4XoUrkd5g8A9CtejcFWLwHE9CtejjILA9ihcj8JRmMD2KFyPwqOHwArXo3A9noPAUrgehevNi8DsUbgehb2NwFK4HoXrG4jAj8L1KFyxjcAAAAAAAICEwK5H4XoU8IzAYOXQItuojcDsUbgehb2AwBSuR+F6wITAexSuR+E2gcCPwvUoXO9iwBSuR+F6NGbAcT0K16Mwa8CF61G4HgGPwOF6FK5H8WnA",
           "dtype": "f8"
          },
          "coloraxis": "coloraxis",
          "size": {
           "bdata": "P/fEANG30D/3eRo3YzTfPybZkcb38e0/v6s7SA+w4D/KrffPWIrWP7RFinkQDdo/MJuBoVRG6D+I69PdXxrVP6zPbZEqmtk/D86eKsy02D/h97dUu8nWP3mTP8tvsdg/waY2yv+Y2D/0KE9hLvXaPyYjiNm79Ng/beyWYw5l2j8xi69X2LvXPyOYJHQoxN4/Pt4v9/K+0z9byXhtPoFnP6qqglQAEtM/7FX1IpKP1T/zwL74u8vWP6kbVHjysdI/bN80Niavuz/8is+Z6xHYP2sU2QL8EN8/yvgERBsX2j9ldraVwWnjP2HFG2mhxtU/Rth2JMad0z/zSLnlHiqvP/Q0bfPM3bk/UfeEh+UQ4z9UdGTHasrfP9LBKxrpI+k/gtAKQSNl4z/di+bXOlPZP6pvS9Lef9o/PV8nLorx3z+lsS/w8SfSPxAu0AykN9Y/ORuXLPKP1D96KBQBJSGhPxL+N9tUE9M/nYChhclj1D88zYaDaqbjP+sllTd9LcE/B4Z9vaCYwj+K4dvo5TXmPzVbvou11tE/m8zE+Kq3zz/3cdpiYRfLP3iE+vNeHdw/nfaQ15UX0D8hYz9UcWPMP83vNmiobbU/7KpZnFE44j/YmmllE+nbPwAAAAAAAAAAk76g7/RUzT+WEGTMGVTUP4+1SXmV8NQ/YdiFjE/P0j/fs1SGnTbEP62c+qP6N9g/xl2v1n8Q3T8E9f56iL7eP1niywxDI8g/KImX+Ebd4z+CrsRD4tnIP1hk7CJ/G+A/r32UXD1H2z/iwZinhBbXP5tDTyOH8Nw/F0GYAqtk0j9N0R27tErOP+mYaDn0ZLM/ynSknGSi2j/S8Gcnk2G9P4BdmQyX2NE/bFJW8tVq1D+WtOmOsVOSP6A/+Dmx3cU/TTi6dlErwD+hB7YmhGfbPzuqVTuF3dI/3Wq3zcVv4z+gnuaAJbLQP1RLugNesNI/R/Nue3dt3D9lziOGsLvOP2uqm1FGscg/2xN721NKxz9ntcE8+VWfP49VHKozyZM/dnqmz3w0xT8eFBwGpPvKP7regjlHd6s/ojaHIXRM0j8chT37XeynPzI2htJYesQ/AWeviHC6pj9r23KXv2LAP7Qf+j39Vdg/CtQN5of13T9835WLVHnPPxlmvSZvi9c/9in6////7z+BMe7XCn7MP972nmhPW64/zVT1YtdG1z9v1tAtOyXWP3Y2liJtHeE/WREglfoA1z9nMfeED6bUP3CC5/5urqk/fov88ZnZyj9evxKq5JbVPxU7ftPV78A/5xf8PYs5zj9wua4xsJzSP3QhD1eFF9Y/AcTCFsHbwj9g//T8KKHNP9VznBaLKM8/mUGRPdpbmz/yy/8QWf/UP3HfoSLMa9U/yRRuCNnvxz/m8pCmUc/HP+jLYkE6g9o/Oryw69/L0T+TZVXgY+DgP6Hu5ncZB6Y/mc0L2vwt3z93wBMuVA/aP4U58p9cosA/qfMgLBQ3xT+0aAMKljq/PxWSqFuLut4/f8vo1Qjv2T+hHMHYwTHWP4UoWaaDXtI/lHqaZwQX1D+jFsj/pd/QPzByGQCzYNk/tO83dr5H1D+Ba4TkQlbOP9al+Pcxetc/F4pCpNuD1D/I0OfRp7DIPxRGs0XQA9g/EzsW2wO/0z+vm6p15zTXPyaU7IIGrtU/5Aykep8z2D/vb53QFvXMP+/iZ6TsZNE/LCtEXxYXyz/hNSnDHeLVP+OkdqAtL9M/iczSbdtB0T/yNaA+T0nRP2PdpaLRL8s/tqKZkYcv0T8cCtH+v6nVPxFW9yYZDLA/1jDkT7C+2D9nVPeRjnLUPxBTA3DK1N4/6PJM+TOo2z+3yxoGY+LNP7LHJUPYZNY/",
           "dtype": "f8"
          },
          "sizemode": "area",
          "sizeref": 0.0024999999998938423,
          "symbol": "circle"
         },
         "mode": "markers",
         "name": "",
         "orientation": "v",
         "showlegend": false,
         "type": "scatter",
         "x": {
          "bdata": "7ugkAKSXX0C7GSQzTZdfQEnI9hBDl19ACAUAIliXX0BZPoFmxpdfQOpqPCJwl19AyyfQzDiXX0A9ef3uQpdfQO7keKpol19AGUebmU+XX0BtliYAWpdfQNr0sczsll9AwAgaMwmXX0CxB0lVyZZfQE2HqYiull9AIUybuyeXX0BvrHqvEJhfQA81wLtLl19Ag8MLItKWX0CGIc2zbZZfQJhce1Udl19AT8THzCqXX0CZNWczPZdfQOIxTSIMl19A3AGNiJiWX0A2sRsRZ5dfQIDuy5ltl19ANrEbEWeXX0BJyPYQQ5dfQF7FmKpql19AFWWAVT+XX0DO2aeI+JZfQOTSncxkl19AbZJ6qh6XX0BZ1qKqLpdfQGCehIgKl19AXpVVIhqXX0A93S9VH5dfQCuSZXc3l19Aahg+IiaXX0B6ihwibpdfQHfc8Lvpll9AshQkEfWWX0CxbycRYZdfQPj6/92nll9AhATWuwmXX0CaZaq7DZdfQOeJjLMOmF9AaBFAIAaWX0A9dydE5ZZfQJiMvt3tll9AculOZnKXX0BweEFEapZfQEXm28yyll9AxV/u7tyWX0DI3dbMkJZfQH9Jz5lZll9Al7PS/02XX0DQ4tbu6JZfQLl0JzO5ll9AOsclMwOXX0D9tQYA2JZfQF0tHK2Pl19AmMCtu3mXX0C5DEl3oZZfQMaguIgUl19AhtkVRO6WX0CqDyTvHJdfQCtiIu9mll9A3XKaqiCXX0BZCpKIupZfQAN+6N2zll9AvVZCd8mWX0CE0Obd/ZZfQGMcbWa+ll9AvI7dqpCWX0Dmd5rM+JZfQKAtjJnpll9AdI5LZgaXX0B68vrdhZZfQCuGqwMgl19A7oBGRAyXX0C0If/MoJZfQJYbsbvlll9A40riUc+WX0DKGvUQDZdfQBl7infbll9A3DV8ZiSXX0AFuwYiMJdfQHKFHACWl19AdWc3RCaXX0BK1dHM7pZfQCgUfZmDll9AcRBjiNKWX0CsTEIzGZdfQCRmUTN/ll9AIRis3ZuWX0A/UunM4pZfQHz7KUR2ll9Aib/c3bmWX0CbCqe7oZZfQEe/x6rSll9AForP+JmWX0DkolpElJZfQO60NSIYl19AxPu7iACXX0CzeFZ30ZZfQErV0czull9AVvSHZh6XX0BjUFxEypZfQCO9qN2vll9AM2ciEb+WX0AkyoOZ25ZfQEx6zswCl19A6ZFQRFCXX0BNh6mILpdfQPmf/N27ll9A8co/RLSWX0CYWM//4ZZfQN1ymqogl19AebEwRM6WX0C1kgzvKJdfQAjVvJkHl19AxSv/ENGWX0BCzCVVW5dfQDi6SnfXll9A57hkZrCWX0CAETRmEpdfQEoJwar6ll9Av6TnzKyWX0DkbmtmiJdfQMA8CREVl19Ay7/xECGXX0CSpLWz+ZVfQP+zQYFSll9AefyD7UyXX0BY/bbMjpZfQAfI4d1bll9AHCm23V+WX0Ckd4WZEZZfQPZVA94Tl19ACG3e3e+WX0DdpomIrJZfQMip5+6Ell9AwRX17rSWX0DF9w8zxZZfQIeCvpm9ll9AznHJzGCWX0ANXNTdq5ZfQG2Seqqell9Ak53I3bGWX0BM3gAzX5ZfQJNthVXhll9AzWTuELWWX0CyFCQRdZZfQF3srMzKll9AfGMIAA6WX0C3AxoRsZZfQMFJ5MzAll9AhkH0/4WWX0AMg+j/i5ZfQK29T1Whll9AbZYmAFqWX0BZCpKIupZfQOTSncxkll9Av7W4a66XX0BytV+I5pZfQABkMmbcll9AuUA4Va2WX0AeaoB3F5dfQE5Tuqoil19AMcIlESuXX0CdS3FVWZZfQNB+pIiMll9A",
          "dtype": "f8"
         },
         "xaxis": "x",
         "y": {
          "bdata": "WWn3UEcfQ0DKsat/xh5DQCLxPALJHkNAf3/v27UeQ0DMYmLzcR9DQA7RjVXvHkNACobOxqUeQ0AWcCqtGh9DQLTnMjUJH0NAPxgdNcseQ0AudCUC1R5DQPiRtkzhHkNAvFbnvdYeQ0CWuVQA5x5DQJR6YBENH0NA8FF/vcIeQ0CSYpnhcx9DQHmymxn9HkNA/elQl9YeQ0Dt8v5Wah1DQA709SEUH0NAOwjwzLoeQ0BUtZN3xB9DQCXNH9PaHkNA/lmYKr0eQ0BCyvTwCh9DQMFIefcRH0NA49gfzf0eQ0DbyTvi6x5DQMRfkzXqHkNA8mvae6ceQ0CyrEVVXR9DQFYhL7XvHkNAQIUjSKUeQ0AuEbkqmh9DQA7Qx8bNHkNAEhH+RdAeQ0C7HStC+x5DQIFXcOQmHkNAy/Yhb7keQ0DM/R9x2R5DQHz1TIrqHkNAPUZ55uUeQ0DYHZyZqh9DQGINvP80H0NANxyWBn4fQ0D0fYLVoh5DQK9nd2SGHkNAYPuUJs8gQ0B49usH4iBDQAAFcuTcHkNAT+rL0k4fQ0DnfpjOmB9DQDRBecSNHkNAA3dFlQYfQ0DbXhymxx5DQH6fu25bH0NA3t1vWSofQ0Dx/Fh34h5DQDti47DqHkNA+PHhow8fQ0AeOpioOR9DQGdpthHgHUNAOfHVjuIfQ0CGCf4STB5DQBXRZSCFHkNAhgSMLm8eQ0CgkWNG0x5DQBeinpm7H0NA/lNgt74eQ0AxXvOqzh5DQFcnwuFgH0NAOzlDccceQ0AI0iBgCB9DQCjueJPfHkNAEiIqnsQeQ0BbHN8owx5DQF/SGK2jHkNAIEzlSMIeQ0A/it+5nB9DQAhl+z8wHkNABCeRMwMfQ0D5Mqw9Rx9DQLkWLUDbHkNAv333cIQfQ0ACbzd3qh5DQHwrEhPUHkNAZISm28geQ0AmzuVh/B5DQNbft8YMH0NAGuiQirUeQ0CdeBikKh9DQGc/94oTH0NAyuzi7IweQ0BBjMaQUh5DQC3LfKyFHkNAlAylm2kfQ0BkuzHz0x5DQI2tDE9UHkNA2rqKe+IeQ0BENpAuNh9DQJ0hZkAHH0NAaVj+D78eQ0BHUncKXh5DQNJcXQR8HkNApen9kMgeQ0Bew2dGmh5DQOt15nnLHkNAphlBGZkeQ0AbIyOx7h5DQNmBzv8GH0NAQp9+BooeQ0A34V6Ztx5DQNL5lXPOHkNAs4QQ6+geQ0CmXIakux5DQAvh4vJpH0NAScz9H3EeQ0DetTrvtR5DQJYa6yzEHkNASM0NPK0eQ0AmNO5yth5DQIm1+BQAH0NAiFLWyt8eQ0CNcKR9vR5DQPwSlh2HHkNAJaKp6FkeQ0Dwvs9dtx5DQCUApNu3HkNADZU1oJQeQ0AmeWRiqR5DQKRK3krAHkNAbtfwmZEeQ0CVY63/RR1DQJXhdYb0HkNANY2pmCMdQ0A5Zcl3hB9DQLq2XKIfH0NAKelhaHUfQ0CJX7GGix9DQL7Es1/SHkNAd67el+keQ0AaVHZV+x5DQGLcaFsoH0NATHlj99MeQ0CKkSVzLB9DQFNzXgjeHkNAKEUr9wIfQ0BB7seS3h5DQH7fZMD+HkNAEyYxrfIeQ0ACcQ0iCB9DQEf0fBcAH0NAa7C6HwEfQ0BwDjIkgh9DQHBsLBfgHkNAQZqxaDofQ0CE+YYdIR9DQGVUGcbdHkNAz+BK0SUfQ0Ak+QCTCh9DQPWzohf/HkNAADrMlxcfQ0B7XGW34B5DQG9A8J09H0NArF95KLsfQ0CtkRPc/h5DQKV752GyHkNAcRx4tdwfQ0AqhlBKrR5DQHac7LDTHkNASCTAn9AeQ0DEJ51IMB9DQJxJQPEIH0NA",
          "dtype": "f8"
         },
         "yaxis": "y"
        },
        {
         "hovertemplate": "<b>%{text}</b><br>Lat: %{y:.2f}<br>Lon: %{x:.2f}<extra></extra>",
         "marker": {
          "color": "red",
          "size": 16,
          "symbol": "triangle-down"
         },
         "mode": "markers+text",
         "name": "Stations",
         "text": [
          "KJ09",
          "KJ09",
          "KJ14",
          "KJ13",
          "KJ14",
          "KJ12",
          "KJ14",
          "KJ13",
          "KJ14",
          "KJ12",
          "KJ12",
          "KJ14",
          "KJ13",
          "KJ14",
          "KJ13",
          "KJ13",
          "KJ13",
          "KJ12",
          "KJ13",
          "KJ13",
          "KJ09",
          "KJ13",
          "KJ13",
          "KJ14",
          "KJ14",
          "KJ10",
          "KJ12",
          "KJ11",
          "KJ12",
          "KJ11",
          "KJ11",
          "KJ11",
          "KJ14",
          "KJ11",
          "KJ11",
          "KJ15",
          "KJ13",
          "KJ13",
          "KJ13",
          "KJ11",
          "KJ11",
          "KJ11",
          "KJ11",
          "KJ11",
          "KJ14",
          "KJ14",
          "KJ14",
          "KJ14",
          "KJ11",
          "KJ14",
          "KJ11",
          "KJ11",
          "KJ14",
          "KJ13",
          "KJ13",
          "KJ13",
          "KJ13",
          "KJ14",
          "KJ14",
          "KJ14",
          "KJ10",
          "KJ11",
          "KJ09",
          "KJ10",
          "KJ14",
          "KJ10",
          "KJ10",
          "KJ14",
          "KJ14",
          "KJ14",
          "KJ10",
          "KJ09",
          "KJ14",
          "KJ14",
          "KJ14",
          "KJ10",
          "KJ10",
          "KJ10",
          "KJ14",
          "KJ10",
          "KJ10",
          "KJ12",
          "KJ10",
          "KJ14",
          "KJ10",
          "KJ12",
          "KJ10",
          "KJ10",
          "KJ10",
          "KJ10",
          "KJ10",
          "KJ14",
          "KJ10",
          "KJ12",
          "KJ10",
          "KJ10",
          "KJ14",
          "KJ10",
          "KJ10",
          "KJ10",
          "KJ10",
          "KJ14",
          "KJ10",
          "KJ10",
          "KJ10",
          "KJ10",
          "KJ10",
          "KJ10",
          "KJ14",
          "KJ10",
          "KJ10",
          "KJ10",
          "KJ10",
          "KJ10",
          "KJ10",
          "KJ10",
          "KJ10",
          "KJ10",
          "KJ10",
          "KJ10",
          "KJ10",
          "KJ10",
          "KJ12",
          "KJ10",
          "KJ10",
          "KJ10",
          "KJ10",
          "KJ12",
          "KJ10",
          "KJ10",
          "KJ10",
          "KJ10",
          "KJ10",
          "KJ10",
          "KJ10",
          "KJ10",
          "KJ10",
          "KJ14",
          "KJ10",
          "KJ12",
          "KJ10",
          "KJ10",
          "KJ10",
          "KJ14",
          "KJ10",
          "KJ10",
          "KJ10",
          "KJ14",
          "KJ14",
          "KJ14",
          "KJ10",
          "KJ14",
          "KJ14",
          "KJ10",
          "KJ10",
          "KJ14",
          "KJ14",
          "KJ14",
          "KJ14",
          "KJ10",
          "KJ10",
          "KJ10",
          "KJ10",
          "KJ14",
          "KJ10",
          "KJ14",
          "KJ14",
          "KJ14",
          "KJ14",
          "KJ14",
          "KJ14",
          "KJ12",
          "KJ14",
          "KJ10",
          "KJ10",
          "KJ14",
          "KJ14",
          "KJ10",
          "KJ14",
          "KJ14",
          "KJ14",
          "KJ10",
          "KJ10",
          "KJ14",
          "KJ10",
          "KJ10",
          "KJ10",
          "KJ14",
          "KJ10"
         ],
         "textfont": {
          "color": "#333333",
          "size": 12
         },
         "textposition": "top center",
         "type": "scatter",
         "x": {
          "bdata": "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",
          "dtype": "f8"
         },
         "y": {
          "bdata": "Tb7Z5sYcQ0BNvtnmxhxDQHMuxVVlH0NAjq1nCMceQ0BzLsVVZR9DQGx7uyU5HkNAcy7FVWUfQ0COrWcIxx5DQHMuxVVlH0NAbHu7JTkeQ0Bse7slOR5DQHMuxVVlH0NAjq1nCMceQ0BzLsVVZR9DQI6tZwjHHkNAjq1nCMceQ0COrWcIxx5DQGx7uyU5HkNAjq1nCMceQ0COrWcIxx5DQE2+2ebGHENAjq1nCMceQ0COrWcIxx5DQHMuxVVlH0NAcy7FVWUfQ0CO69/1mR1DQGx7uyU5HkNAFAg7xaodQ0Bse7slOR5DQBQIO8WqHUNAFAg7xaodQ0AUCDvFqh1DQHMuxVVlH0NAFAg7xaodQ0AUCDvFqh1DQFc9YB4yH0NAjq1nCMceQ0COrWcIxx5DQI6tZwjHHkNAFAg7xaodQ0AUCDvFqh1DQBQIO8WqHUNAFAg7xaodQ0AUCDvFqh1DQHMuxVVlH0NAcy7FVWUfQ0BzLsVVZR9DQHMuxVVlH0NAFAg7xaodQ0BzLsVVZR9DQBQIO8WqHUNAFAg7xaodQ0BzLsVVZR9DQI6tZwjHHkNAjq1nCMceQ0COrWcIxx5DQI6tZwjHHkNAcy7FVWUfQ0BzLsVVZR9DQHMuxVVlH0NAjuvf9ZkdQ0AUCDvFqh1DQE2+2ebGHENAjuvf9ZkdQ0BzLsVVZR9DQI7r3/WZHUNAjuvf9ZkdQ0BzLsVVZR9DQHMuxVVlH0NAcy7FVWUfQ0CO69/1mR1DQE2+2ebGHENAcy7FVWUfQ0BzLsVVZR9DQHMuxVVlH0NAjuvf9ZkdQ0CO69/1mR1DQI7r3/WZHUNAcy7FVWUfQ0CO69/1mR1DQI7r3/WZHUNAbHu7JTkeQ0CO69/1mR1DQHMuxVVlH0NAjuvf9ZkdQ0Bse7slOR5DQI7r3/WZHUNAjuvf9ZkdQ0CO69/1mR1DQI7r3/WZHUNAjuvf9ZkdQ0BzLsVVZR9DQI7r3/WZHUNAbHu7JTkeQ0CO69/1mR1DQI7r3/WZHUNAcy7FVWUfQ0CO69/1mR1DQI7r3/WZHUNAjuvf9ZkdQ0CO69/1mR1DQHMuxVVlH0NAjuvf9ZkdQ0CO69/1mR1DQI7r3/WZHUNAjuvf9ZkdQ0CO69/1mR1DQI7r3/WZHUNAcy7FVWUfQ0CO69/1mR1DQI7r3/WZHUNAjuvf9ZkdQ0CO69/1mR1DQI7r3/WZHUNAjuvf9ZkdQ0CO69/1mR1DQI7r3/WZHUNAjuvf9ZkdQ0CO69/1mR1DQI7r3/WZHUNAjuvf9ZkdQ0CO69/1mR1DQGx7uyU5HkNAjuvf9ZkdQ0CO69/1mR1DQI7r3/WZHUNAjuvf9ZkdQ0Bse7slOR5DQI7r3/WZHUNAjuvf9ZkdQ0CO69/1mR1DQI7r3/WZHUNAjuvf9ZkdQ0CO69/1mR1DQI7r3/WZHUNAjuvf9ZkdQ0CO69/1mR1DQHMuxVVlH0NAjuvf9ZkdQ0Bse7slOR5DQI7r3/WZHUNAjuvf9ZkdQ0CO69/1mR1DQHMuxVVlH0NAjuvf9ZkdQ0CO69/1mR1DQI7r3/WZHUNAcy7FVWUfQ0BzLsVVZR9DQHMuxVVlH0NAjuvf9ZkdQ0BzLsVVZR9DQHMuxVVlH0NAjuvf9ZkdQ0CO69/1mR1DQHMuxVVlH0NAcy7FVWUfQ0BzLsVVZR9DQHMuxVVlH0NAjuvf9ZkdQ0CO69/1mR1DQI7r3/WZHUNAjuvf9ZkdQ0BzLsVVZR9DQI7r3/WZHUNAcy7FVWUfQ0BzLsVVZR9DQHMuxVVlH0NAcy7FVWUfQ0BzLsVVZR9DQHMuxVVlH0NAbHu7JTkeQ0BzLsVVZR9DQI7r3/WZHUNAjuvf9ZkdQ0BzLsVVZR9DQHMuxVVlH0NAjuvf9ZkdQ0BzLsVVZR9DQHMuxVVlH0NAcy7FVWUfQ0CO69/1mR1DQI7r3/WZHUNAcy7FVWUfQ0CO69/1mR1DQI7r3/WZHUNAjuvf9ZkdQ0BzLsVVZR9DQI7r3/WZHUNA",
          "dtype": "f8"
         }
        }
       ],
       "layout": {
        "coloraxis": {
         "colorbar": {
          "title": {
           "text": "depth_m"
          }
         },
         "colorscale": [
          [
           0,
           "#440154"
          ],
          [
           0.1111111111111111,
           "#482878"
          ],
          [
           0.2222222222222222,
           "#3e4989"
          ],
          [
           0.3333333333333333,
           "#31688e"
          ],
          [
           0.4444444444444444,
           "#26828e"
          ],
          [
           0.5555555555555556,
           "#1f9e89"
          ],
          [
           0.6666666666666666,
           "#35b779"
          ],
          [
           0.7777777777777778,
           "#6ece58"
          ],
          [
           0.8888888888888888,
           "#b5de2b"
          ],
          [
           1,
           "#fde725"
          ]
         ]
        },
        "height": 720,
        "legend": {
         "bgcolor": "rgba(255,255,255,0.5)",
         "itemsizing": "constant",
         "tracegroupgap": 0,
         "x": 0.01,
         "xanchor": "left",
         "y": 0.99,
         "yanchor": "top"
        },
        "showlegend": true,
        "template": {
         "data": {
          "bar": [
           {
            "error_x": {
             "color": "#2a3f5f"
            },
            "error_y": {
             "color": "#2a3f5f"
            },
            "marker": {
             "line": {
              "color": "white",
              "width": 0.5
             },
             "pattern": {
              "fillmode": "overlay",
              "size": 10,
              "solidity": 0.2
             }
            },
            "type": "bar"
           }
          ],
          "barpolar": [
           {
            "marker": {
             "line": {
              "color": "white",
              "width": 0.5
             },
             "pattern": {
              "fillmode": "overlay",
              "size": 10,
              "solidity": 0.2
             }
            },
            "type": "barpolar"
           }
          ],
          "carpet": [
           {
            "aaxis": {
             "endlinecolor": "#2a3f5f",
             "gridcolor": "#C8D4E3",
             "linecolor": "#C8D4E3",
             "minorgridcolor": "#C8D4E3",
             "startlinecolor": "#2a3f5f"
            },
            "baxis": {
             "endlinecolor": "#2a3f5f",
             "gridcolor": "#C8D4E3",
             "linecolor": "#C8D4E3",
             "minorgridcolor": "#C8D4E3",
             "startlinecolor": "#2a3f5f"
            },
            "type": "carpet"
           }
          ],
          "choropleth": [
           {
            "colorbar": {
             "outlinewidth": 0,
             "ticks": ""
            },
            "type": "choropleth"
           }
          ],
          "contour": [
           {
            "colorbar": {
             "outlinewidth": 0,
             "ticks": ""
            },
            "colorscale": [
             [
              0,
              "#0d0887"
             ],
             [
              0.1111111111111111,
              "#46039f"
             ],
             [
              0.2222222222222222,
              "#7201a8"
             ],
             [
              0.3333333333333333,
              "#9c179e"
             ],
             [
              0.4444444444444444,
              "#bd3786"
             ],
             [
              0.5555555555555556,
              "#d8576b"
             ],
             [
              0.6666666666666666,
              "#ed7953"
             ],
             [
              0.7777777777777778,
              "#fb9f3a"
             ],
             [
              0.8888888888888888,
              "#fdca26"
             ],
             [
              1,
              "#f0f921"
             ]
            ],
            "type": "contour"
           }
          ],
          "contourcarpet": [
           {
            "colorbar": {
             "outlinewidth": 0,
             "ticks": ""
            },
            "type": "contourcarpet"
           }
          ],
          "heatmap": [
           {
            "colorbar": {
             "outlinewidth": 0,
             "ticks": ""
            },
            "colorscale": [
             [
              0,
              "#0d0887"
             ],
             [
              0.1111111111111111,
              "#46039f"
             ],
             [
              0.2222222222222222,
              "#7201a8"
             ],
             [
              0.3333333333333333,
              "#9c179e"
             ],
             [
              0.4444444444444444,
              "#bd3786"
             ],
             [
              0.5555555555555556,
              "#d8576b"
             ],
             [
              0.6666666666666666,
              "#ed7953"
             ],
             [
              0.7777777777777778,
              "#fb9f3a"
             ],
             [
              0.8888888888888888,
              "#fdca26"
             ],
             [
              1,
              "#f0f921"
             ]
            ],
            "type": "heatmap"
           }
          ],
          "histogram": [
           {
            "marker": {
             "pattern": {
              "fillmode": "overlay",
              "size": 10,
              "solidity": 0.2
             }
            },
            "type": "histogram"
           }
          ],
          "histogram2d": [
           {
            "colorbar": {
             "outlinewidth": 0,
             "ticks": ""
            },
            "colorscale": [
             [
              0,
              "#0d0887"
             ],
             [
              0.1111111111111111,
              "#46039f"
             ],
             [
              0.2222222222222222,
              "#7201a8"
             ],
             [
              0.3333333333333333,
              "#9c179e"
             ],
             [
              0.4444444444444444,
              "#bd3786"
             ],
             [
              0.5555555555555556,
              "#d8576b"
             ],
             [
              0.6666666666666666,
              "#ed7953"
             ],
             [
              0.7777777777777778,
              "#fb9f3a"
             ],
             [
              0.8888888888888888,
              "#fdca26"
             ],
             [
              1,
              "#f0f921"
             ]
            ],
            "type": "histogram2d"
           }
          ],
          "histogram2dcontour": [
           {
            "colorbar": {
             "outlinewidth": 0,
             "ticks": ""
            },
            "colorscale": [
             [
              0,
              "#0d0887"
             ],
             [
              0.1111111111111111,
              "#46039f"
             ],
             [
              0.2222222222222222,
              "#7201a8"
             ],
             [
              0.3333333333333333,
              "#9c179e"
             ],
             [
              0.4444444444444444,
              "#bd3786"
             ],
             [
              0.5555555555555556,
              "#d8576b"
             ],
             [
              0.6666666666666666,
              "#ed7953"
             ],
             [
              0.7777777777777778,
              "#fb9f3a"
             ],
             [
              0.8888888888888888,
              "#fdca26"
             ],
             [
              1,
              "#f0f921"
             ]
            ],
            "type": "histogram2dcontour"
           }
          ],
          "mesh3d": [
           {
            "colorbar": {
             "outlinewidth": 0,
             "ticks": ""
            },
            "type": "mesh3d"
           }
          ],
          "parcoords": [
           {
            "line": {
             "colorbar": {
              "outlinewidth": 0,
              "ticks": ""
             }
            },
            "type": "parcoords"
           }
          ],
          "pie": [
           {
            "automargin": true,
            "type": "pie"
           }
          ],
          "scatter": [
           {
            "fillpattern": {
             "fillmode": "overlay",
             "size": 10,
             "solidity": 0.2
            },
            "type": "scatter"
           }
          ],
          "scatter3d": [
           {
            "line": {
             "colorbar": {
              "outlinewidth": 0,
              "ticks": ""
             }
            },
            "marker": {
             "colorbar": {
              "outlinewidth": 0,
              "ticks": ""
             }
            },
            "type": "scatter3d"
           }
          ],
          "scattercarpet": [
           {
            "marker": {
             "colorbar": {
              "outlinewidth": 0,
              "ticks": ""
             }
            },
            "type": "scattercarpet"
           }
          ],
          "scattergeo": [
           {
            "marker": {
             "colorbar": {
              "outlinewidth": 0,
              "ticks": ""
             }
            },
            "type": "scattergeo"
           }
          ],
          "scattergl": [
           {
            "marker": {
             "colorbar": {
              "outlinewidth": 0,
              "ticks": ""
             }
            },
            "type": "scattergl"
           }
          ],
          "scattermap": [
           {
            "marker": {
             "colorbar": {
              "outlinewidth": 0,
              "ticks": ""
             }
            },
            "type": "scattermap"
           }
          ],
          "scattermapbox": [
           {
            "marker": {
             "colorbar": {
              "outlinewidth": 0,
              "ticks": ""
             }
            },
            "type": "scattermapbox"
           }
          ],
          "scatterpolar": [
           {
            "marker": {
             "colorbar": {
              "outlinewidth": 0,
              "ticks": ""
             }
            },
            "type": "scatterpolar"
           }
          ],
          "scatterpolargl": [
           {
            "marker": {
             "colorbar": {
              "outlinewidth": 0,
              "ticks": ""
             }
            },
            "type": "scatterpolargl"
           }
          ],
          "scatterternary": [
           {
            "marker": {
             "colorbar": {
              "outlinewidth": 0,
              "ticks": ""
             }
            },
            "type": "scatterternary"
           }
          ],
          "surface": [
           {
            "colorbar": {
             "outlinewidth": 0,
             "ticks": ""
            },
            "colorscale": [
             [
              0,
              "#0d0887"
             ],
             [
              0.1111111111111111,
              "#46039f"
             ],
             [
              0.2222222222222222,
              "#7201a8"
             ],
             [
              0.3333333333333333,
              "#9c179e"
             ],
             [
              0.4444444444444444,
              "#bd3786"
             ],
             [
              0.5555555555555556,
              "#d8576b"
             ],
             [
              0.6666666666666666,
              "#ed7953"
             ],
             [
              0.7777777777777778,
              "#fb9f3a"
             ],
             [
              0.8888888888888888,
              "#fdca26"
             ],
             [
              1,
              "#f0f921"
             ]
            ],
            "type": "surface"
           }
          ],
          "table": [
           {
            "cells": {
             "fill": {
              "color": "#EBF0F8"
             },
             "line": {
              "color": "white"
             }
            },
            "header": {
             "fill": {
              "color": "#C8D4E3"
             },
             "line": {
              "color": "white"
             }
            },
            "type": "table"
           }
          ]
         },
         "layout": {
          "annotationdefaults": {
           "arrowcolor": "#2a3f5f",
           "arrowhead": 0,
           "arrowwidth": 1
          },
          "autotypenumbers": "strict",
          "coloraxis": {
           "colorbar": {
            "outlinewidth": 0,
            "ticks": ""
           }
          },
          "colorscale": {
           "diverging": [
            [
             0,
             "#8e0152"
            ],
            [
             0.1,
             "#c51b7d"
            ],
            [
             0.2,
             "#de77ae"
            ],
            [
             0.3,
             "#f1b6da"
            ],
            [
             0.4,
             "#fde0ef"
            ],
            [
             0.5,
             "#f7f7f7"
            ],
            [
             0.6,
             "#e6f5d0"
            ],
            [
             0.7,
             "#b8e186"
            ],
            [
             0.8,
             "#7fbc41"
            ],
            [
             0.9,
             "#4d9221"
            ],
            [
             1,
             "#276419"
            ]
           ],
           "sequential": [
            [
             0,
             "#0d0887"
            ],
            [
             0.1111111111111111,
             "#46039f"
            ],
            [
             0.2222222222222222,
             "#7201a8"
            ],
            [
             0.3333333333333333,
             "#9c179e"
            ],
            [
             0.4444444444444444,
             "#bd3786"
            ],
            [
             0.5555555555555556,
             "#d8576b"
            ],
            [
             0.6666666666666666,
             "#ed7953"
            ],
            [
             0.7777777777777778,
             "#fb9f3a"
            ],
            [
             0.8888888888888888,
             "#fdca26"
            ],
            [
             1,
             "#f0f921"
            ]
           ],
           "sequentialminus": [
            [
             0,
             "#0d0887"
            ],
            [
             0.1111111111111111,
             "#46039f"
            ],
            [
             0.2222222222222222,
             "#7201a8"
            ],
            [
             0.3333333333333333,
             "#9c179e"
            ],
            [
             0.4444444444444444,
             "#bd3786"
            ],
            [
             0.5555555555555556,
             "#d8576b"
            ],
            [
             0.6666666666666666,
             "#ed7953"
            ],
            [
             0.7777777777777778,
             "#fb9f3a"
            ],
            [
             0.8888888888888888,
             "#fdca26"
            ],
            [
             1,
             "#f0f921"
            ]
           ]
          },
          "colorway": [
           "#636efa",
           "#EF553B",
           "#00cc96",
           "#ab63fa",
           "#FFA15A",
           "#19d3f3",
           "#FF6692",
           "#B6E880",
           "#FF97FF",
           "#FECB52"
          ],
          "font": {
           "color": "#2a3f5f"
          },
          "geo": {
           "bgcolor": "white",
           "lakecolor": "white",
           "landcolor": "white",
           "showlakes": true,
           "showland": true,
           "subunitcolor": "#C8D4E3"
          },
          "hoverlabel": {
           "align": "left"
          },
          "hovermode": "closest",
          "mapbox": {
           "style": "light"
          },
          "paper_bgcolor": "white",
          "plot_bgcolor": "white",
          "polar": {
           "angularaxis": {
            "gridcolor": "#EBF0F8",
            "linecolor": "#EBF0F8",
            "ticks": ""
           },
           "bgcolor": "white",
           "radialaxis": {
            "gridcolor": "#EBF0F8",
            "linecolor": "#EBF0F8",
            "ticks": ""
           }
          },
          "scene": {
           "xaxis": {
            "backgroundcolor": "white",
            "gridcolor": "#DFE8F3",
            "gridwidth": 2,
            "linecolor": "#EBF0F8",
            "showbackground": true,
            "ticks": "",
            "zerolinecolor": "#EBF0F8"
           },
           "yaxis": {
            "backgroundcolor": "white",
            "gridcolor": "#DFE8F3",
            "gridwidth": 2,
            "linecolor": "#EBF0F8",
            "showbackground": true,
            "ticks": "",
            "zerolinecolor": "#EBF0F8"
           },
           "zaxis": {
            "backgroundcolor": "white",
            "gridcolor": "#DFE8F3",
            "gridwidth": 2,
            "linecolor": "#EBF0F8",
            "showbackground": true,
            "ticks": "",
            "zerolinecolor": "#EBF0F8"
           }
          },
          "shapedefaults": {
           "line": {
            "color": "#2a3f5f"
           }
          },
          "ternary": {
           "aaxis": {
            "gridcolor": "#DFE8F3",
            "linecolor": "#A2B1C6",
            "ticks": ""
           },
           "baxis": {
            "gridcolor": "#DFE8F3",
            "linecolor": "#A2B1C6",
            "ticks": ""
           },
           "bgcolor": "white",
           "caxis": {
            "gridcolor": "#DFE8F3",
            "linecolor": "#A2B1C6",
            "ticks": ""
           }
          },
          "title": {
           "x": 0.05
          },
          "xaxis": {
           "automargin": true,
           "gridcolor": "#EBF0F8",
           "linecolor": "#EBF0F8",
           "ticks": "",
           "title": {
            "standoff": 15
           },
           "zerolinecolor": "#EBF0F8",
           "zerolinewidth": 2
          },
          "yaxis": {
           "automargin": true,
           "gridcolor": "#EBF0F8",
           "linecolor": "#EBF0F8",
           "ticks": "",
           "title": {
            "standoff": 15
           },
           "zerolinecolor": "#EBF0F8",
           "zerolinewidth": 2
          }
         }
        },
        "title": {
         "text": "Earthquake Locations (2D)"
        },
        "width": 960,
        "xaxis": {
         "anchor": "y",
         "domain": [
          0,
          1
         ],
         "range": [
          126.34958111710382,
          126.36637895485383
         ],
         "scaleanchor": "y",
         "scaleratio": 1,
         "title": {
          "text": "Longitude"
         }
        },
        "yaxis": {
         "anchor": "x",
         "domain": [
          0,
          1
         ],
         "range": [
          38.233057859262566,
          38.24985569701257
         ],
         "scaleratio": 1,
         "title": {
          "text": "Latitude"
         }
        }
       }
      }
     },
     "metadata": {},
     "output_type": "display_data"
    }
   ],
   "source": [
    "# Plot hypocenters 2D\n",
    "new_subset_area_lqt.plot_hypocenter_2d()"
   ]
  },
  {
   "cell_type": "markdown",
   "metadata": {},
   "source": [
    "##### B. Select Circular Area"
   ]
  },
  {
   "cell_type": "code",
   "execution_count": 21,
   "metadata": {},
   "outputs": [
    {
     "data": {
      "text/html": [
       "<div>\n",
       "<style scoped>\n",
       "    .dataframe tbody tr th:only-of-type {\n",
       "        vertical-align: middle;\n",
       "    }\n",
       "\n",
       "    .dataframe tbody tr th {\n",
       "        vertical-align: top;\n",
       "    }\n",
       "\n",
       "    .dataframe thead th {\n",
       "        text-align: right;\n",
       "    }\n",
       "</style>\n",
       "<table border=\"1\" class=\"dataframe\">\n",
       "  <thead>\n",
       "    <tr style=\"text-align: right;\">\n",
       "      <th></th>\n",
       "      <th>Unnamed: 0</th>\n",
       "      <th>source_id</th>\n",
       "      <th>source_lat</th>\n",
       "      <th>source_lon</th>\n",
       "      <th>source_depth_m</th>\n",
       "      <th>magnitude</th>\n",
       "      <th>network_code</th>\n",
       "      <th>station_code</th>\n",
       "      <th>station_lat</th>\n",
       "      <th>station_lon</th>\n",
       "      <th>...</th>\n",
       "      <th>s_p_lag_time_sec</th>\n",
       "      <th>coda_time</th>\n",
       "      <th>source_err_rms_s</th>\n",
       "      <th>n_phases</th>\n",
       "      <th>gap_degree</th>\n",
       "      <th>x_horizontal_err_m</th>\n",
       "      <th>y_horizontal_err_m</th>\n",
       "      <th>z_depth_err_m</th>\n",
       "      <th>earthquake_type</th>\n",
       "      <th>remarks</th>\n",
       "    </tr>\n",
       "  </thead>\n",
       "  <tbody>\n",
       "    <tr>\n",
       "      <th>0</th>\n",
       "      <td>0</td>\n",
       "      <td>2000</td>\n",
       "      <td>38.244364</td>\n",
       "      <td>126.369385</td>\n",
       "      <td>-873.300</td>\n",
       "      <td>0.431429</td>\n",
       "      <td>KJ</td>\n",
       "      <td>KJ09</td>\n",
       "      <td>38.224820</td>\n",
       "      <td>126.364433</td>\n",
       "      <td>...</td>\n",
       "      <td>0.537087</td>\n",
       "      <td>NaN</td>\n",
       "      <td>0.010497</td>\n",
       "      <td>6.0</td>\n",
       "      <td>321.498</td>\n",
       "      <td>1001.074098</td>\n",
       "      <td>553.533887</td>\n",
       "      <td>1125.534873</td>\n",
       "      <td>very_local_earthquake</td>\n",
       "      <td>NaN</td>\n",
       "    </tr>\n",
       "    <tr>\n",
       "      <th>1</th>\n",
       "      <td>1</td>\n",
       "      <td>2000</td>\n",
       "      <td>38.244364</td>\n",
       "      <td>126.369385</td>\n",
       "      <td>-873.300</td>\n",
       "      <td>0.431429</td>\n",
       "      <td>KJ</td>\n",
       "      <td>KJ06</td>\n",
       "      <td>38.212581</td>\n",
       "      <td>126.379951</td>\n",
       "      <td>...</td>\n",
       "      <td>0.819840</td>\n",
       "      <td>NaN</td>\n",
       "      <td>0.010497</td>\n",
       "      <td>6.0</td>\n",
       "      <td>321.498</td>\n",
       "      <td>1001.074098</td>\n",
       "      <td>553.533887</td>\n",
       "      <td>1125.534873</td>\n",
       "      <td>very_local_earthquake</td>\n",
       "      <td>NaN</td>\n",
       "    </tr>\n",
       "    <tr>\n",
       "      <th>2</th>\n",
       "      <td>2</td>\n",
       "      <td>2000</td>\n",
       "      <td>38.244364</td>\n",
       "      <td>126.369385</td>\n",
       "      <td>-873.300</td>\n",
       "      <td>0.431429</td>\n",
       "      <td>KJ</td>\n",
       "      <td>KJ05</td>\n",
       "      <td>38.203970</td>\n",
       "      <td>126.378906</td>\n",
       "      <td>...</td>\n",
       "      <td>0.994110</td>\n",
       "      <td>NaN</td>\n",
       "      <td>0.010497</td>\n",
       "      <td>6.0</td>\n",
       "      <td>321.498</td>\n",
       "      <td>1001.074098</td>\n",
       "      <td>553.533887</td>\n",
       "      <td>1125.534873</td>\n",
       "      <td>very_local_earthquake</td>\n",
       "      <td>NaN</td>\n",
       "    </tr>\n",
       "    <tr>\n",
       "      <th>20</th>\n",
       "      <td>20</td>\n",
       "      <td>2004</td>\n",
       "      <td>38.233423</td>\n",
       "      <td>126.379041</td>\n",
       "      <td>-2730.357</td>\n",
       "      <td>NaN</td>\n",
       "      <td>KJ</td>\n",
       "      <td>KJ09</td>\n",
       "      <td>38.224820</td>\n",
       "      <td>126.364433</td>\n",
       "      <td>...</td>\n",
       "      <td>0.470382</td>\n",
       "      <td>NaN</td>\n",
       "      <td>0.022159</td>\n",
       "      <td>8.0</td>\n",
       "      <td>297.885</td>\n",
       "      <td>963.236835</td>\n",
       "      <td>773.610154</td>\n",
       "      <td>1210.829402</td>\n",
       "      <td>very_local_earthquake</td>\n",
       "      <td>NaN</td>\n",
       "    </tr>\n",
       "    <tr>\n",
       "      <th>21</th>\n",
       "      <td>21</td>\n",
       "      <td>2004</td>\n",
       "      <td>38.233423</td>\n",
       "      <td>126.379041</td>\n",
       "      <td>-2730.357</td>\n",
       "      <td>NaN</td>\n",
       "      <td>KJ</td>\n",
       "      <td>KJ06</td>\n",
       "      <td>38.212581</td>\n",
       "      <td>126.379951</td>\n",
       "      <td>...</td>\n",
       "      <td>0.642059</td>\n",
       "      <td>NaN</td>\n",
       "      <td>0.022159</td>\n",
       "      <td>8.0</td>\n",
       "      <td>297.885</td>\n",
       "      <td>963.236835</td>\n",
       "      <td>773.610154</td>\n",
       "      <td>1210.829402</td>\n",
       "      <td>very_local_earthquake</td>\n",
       "      <td>NaN</td>\n",
       "    </tr>\n",
       "    <tr>\n",
       "      <th>22</th>\n",
       "      <td>22</td>\n",
       "      <td>2004</td>\n",
       "      <td>38.233423</td>\n",
       "      <td>126.379041</td>\n",
       "      <td>-2730.357</td>\n",
       "      <td>NaN</td>\n",
       "      <td>KJ</td>\n",
       "      <td>KJ05</td>\n",
       "      <td>38.203970</td>\n",
       "      <td>126.378906</td>\n",
       "      <td>...</td>\n",
       "      <td>0.907295</td>\n",
       "      <td>NaN</td>\n",
       "      <td>0.022159</td>\n",
       "      <td>8.0</td>\n",
       "      <td>297.885</td>\n",
       "      <td>963.236835</td>\n",
       "      <td>773.610154</td>\n",
       "      <td>1210.829402</td>\n",
       "      <td>very_local_earthquake</td>\n",
       "      <td>NaN</td>\n",
       "    </tr>\n",
       "    <tr>\n",
       "      <th>23</th>\n",
       "      <td>23</td>\n",
       "      <td>2004</td>\n",
       "      <td>38.233423</td>\n",
       "      <td>126.379041</td>\n",
       "      <td>-2730.357</td>\n",
       "      <td>NaN</td>\n",
       "      <td>KJ</td>\n",
       "      <td>KJ02</td>\n",
       "      <td>38.210773</td>\n",
       "      <td>126.401842</td>\n",
       "      <td>...</td>\n",
       "      <td>1.504001</td>\n",
       "      <td>NaN</td>\n",
       "      <td>0.022159</td>\n",
       "      <td>8.0</td>\n",
       "      <td>297.885</td>\n",
       "      <td>963.236835</td>\n",
       "      <td>773.610154</td>\n",
       "      <td>1210.829402</td>\n",
       "      <td>very_local_earthquake</td>\n",
       "      <td>NaN</td>\n",
       "    </tr>\n",
       "    <tr>\n",
       "      <th>24</th>\n",
       "      <td>24</td>\n",
       "      <td>2005</td>\n",
       "      <td>38.240433</td>\n",
       "      <td>126.364087</td>\n",
       "      <td>-265.140</td>\n",
       "      <td>0.964486</td>\n",
       "      <td>KJ</td>\n",
       "      <td>KJ14</td>\n",
       "      <td>38.245280</td>\n",
       "      <td>126.362021</td>\n",
       "      <td>...</td>\n",
       "      <td>0.465420</td>\n",
       "      <td>NaN</td>\n",
       "      <td>0.025924</td>\n",
       "      <td>14.0</td>\n",
       "      <td>160.259</td>\n",
       "      <td>612.538733</td>\n",
       "      <td>440.734299</td>\n",
       "      <td>306.344851</td>\n",
       "      <td>very_local_earthquake</td>\n",
       "      <td>NaN</td>\n",
       "    </tr>\n",
       "    <tr>\n",
       "      <th>25</th>\n",
       "      <td>25</td>\n",
       "      <td>2005</td>\n",
       "      <td>38.240433</td>\n",
       "      <td>126.364087</td>\n",
       "      <td>-265.140</td>\n",
       "      <td>0.964486</td>\n",
       "      <td>KJ</td>\n",
       "      <td>KJ12</td>\n",
       "      <td>38.236119</td>\n",
       "      <td>126.366364</td>\n",
       "      <td>...</td>\n",
       "      <td>0.476112</td>\n",
       "      <td>NaN</td>\n",
       "      <td>0.025924</td>\n",
       "      <td>14.0</td>\n",
       "      <td>160.259</td>\n",
       "      <td>612.538733</td>\n",
       "      <td>440.734299</td>\n",
       "      <td>306.344851</td>\n",
       "      <td>very_local_earthquake</td>\n",
       "      <td>NaN</td>\n",
       "    </tr>\n",
       "    <tr>\n",
       "      <th>26</th>\n",
       "      <td>26</td>\n",
       "      <td>2005</td>\n",
       "      <td>38.240433</td>\n",
       "      <td>126.364087</td>\n",
       "      <td>-265.140</td>\n",
       "      <td>0.964486</td>\n",
       "      <td>KJ</td>\n",
       "      <td>KJ09</td>\n",
       "      <td>38.224820</td>\n",
       "      <td>126.364433</td>\n",
       "      <td>...</td>\n",
       "      <td>0.497650</td>\n",
       "      <td>NaN</td>\n",
       "      <td>0.025924</td>\n",
       "      <td>14.0</td>\n",
       "      <td>160.259</td>\n",
       "      <td>612.538733</td>\n",
       "      <td>440.734299</td>\n",
       "      <td>306.344851</td>\n",
       "      <td>very_local_earthquake</td>\n",
       "      <td>NaN</td>\n",
       "    </tr>\n",
       "  </tbody>\n",
       "</table>\n",
       "<p>10 rows × 28 columns</p>\n",
       "</div>"
      ],
      "text/plain": [
       "    Unnamed: 0  source_id  source_lat  source_lon  source_depth_m  magnitude  \\\n",
       "0            0       2000   38.244364  126.369385        -873.300   0.431429   \n",
       "1            1       2000   38.244364  126.369385        -873.300   0.431429   \n",
       "2            2       2000   38.244364  126.369385        -873.300   0.431429   \n",
       "20          20       2004   38.233423  126.379041       -2730.357        NaN   \n",
       "21          21       2004   38.233423  126.379041       -2730.357        NaN   \n",
       "22          22       2004   38.233423  126.379041       -2730.357        NaN   \n",
       "23          23       2004   38.233423  126.379041       -2730.357        NaN   \n",
       "24          24       2005   38.240433  126.364087        -265.140   0.964486   \n",
       "25          25       2005   38.240433  126.364087        -265.140   0.964486   \n",
       "26          26       2005   38.240433  126.364087        -265.140   0.964486   \n",
       "\n",
       "   network_code station_code  station_lat  station_lon  ...  s_p_lag_time_sec  \\\n",
       "0            KJ         KJ09    38.224820   126.364433  ...          0.537087   \n",
       "1            KJ         KJ06    38.212581   126.379951  ...          0.819840   \n",
       "2            KJ         KJ05    38.203970   126.378906  ...          0.994110   \n",
       "20           KJ         KJ09    38.224820   126.364433  ...          0.470382   \n",
       "21           KJ         KJ06    38.212581   126.379951  ...          0.642059   \n",
       "22           KJ         KJ05    38.203970   126.378906  ...          0.907295   \n",
       "23           KJ         KJ02    38.210773   126.401842  ...          1.504001   \n",
       "24           KJ         KJ14    38.245280   126.362021  ...          0.465420   \n",
       "25           KJ         KJ12    38.236119   126.366364  ...          0.476112   \n",
       "26           KJ         KJ09    38.224820   126.364433  ...          0.497650   \n",
       "\n",
       "   coda_time source_err_rms_s  n_phases gap_degree x_horizontal_err_m  \\\n",
       "0        NaN         0.010497       6.0    321.498        1001.074098   \n",
       "1        NaN         0.010497       6.0    321.498        1001.074098   \n",
       "2        NaN         0.010497       6.0    321.498        1001.074098   \n",
       "20       NaN         0.022159       8.0    297.885         963.236835   \n",
       "21       NaN         0.022159       8.0    297.885         963.236835   \n",
       "22       NaN         0.022159       8.0    297.885         963.236835   \n",
       "23       NaN         0.022159       8.0    297.885         963.236835   \n",
       "24       NaN         0.025924      14.0    160.259         612.538733   \n",
       "25       NaN         0.025924      14.0    160.259         612.538733   \n",
       "26       NaN         0.025924      14.0    160.259         612.538733   \n",
       "\n",
       "   y_horizontal_err_m  z_depth_err_m        earthquake_type  remarks  \n",
       "0          553.533887    1125.534873  very_local_earthquake      NaN  \n",
       "1          553.533887    1125.534873  very_local_earthquake      NaN  \n",
       "2          553.533887    1125.534873  very_local_earthquake      NaN  \n",
       "20         773.610154    1210.829402  very_local_earthquake      NaN  \n",
       "21         773.610154    1210.829402  very_local_earthquake      NaN  \n",
       "22         773.610154    1210.829402  very_local_earthquake      NaN  \n",
       "23         773.610154    1210.829402  very_local_earthquake      NaN  \n",
       "24         440.734299     306.344851  very_local_earthquake      NaN  \n",
       "25         440.734299     306.344851  very_local_earthquake      NaN  \n",
       "26         440.734299     306.344851  very_local_earthquake      NaN  \n",
       "\n",
       "[10 rows x 28 columns]"
      ]
     },
     "execution_count": 21,
     "metadata": {},
     "output_type": "execute_result"
    }
   ],
   "source": [
    "# Draw circular are by providing the center point and radius\n",
    "new_circular_area_df = lqt_ready_2.area_circular(\n",
    "                                    center_latitude=38.2435,\n",
    "                                    center_longitude=126.3555,\n",
    "                                    radius=3\n",
    "                                    )\n",
    "\n",
    "# Make new LqtAnalysis class instance using this subset df\n",
    "new_circular_area_lqt = LqtAnalysis(new_circular_area_df)\n",
    "new_circular_area_lqt.head(10)"
   ]
  },
  {
   "cell_type": "markdown",
   "metadata": {},
   "source": [
    "Let's create a 2D plot to visualize how it might look."
   ]
  },
  {
   "cell_type": "code",
   "execution_count": 22,
   "metadata": {},
   "outputs": [
    {
     "data": {
      "application/vnd.plotly.v1+json": {
       "config": {
        "plotlyServerURL": "https://plot.ly"
       },
       "data": [
        {
         "customdata": {
          "bdata": "AAAAAABAn0BmZmZmZkqLwJB9MKCHnNs/AAAAAABUn0AK16NwPZJwwEA7eYwS3e4/AAAAAABYn0ApXI/C9UhewCh0nP8BKQBAAAAAAABcn0Bcj8L1KBxbwHQucIG4tfA/AAAAAABgn0AUrkfhepR4wEimTLtZqeQ/AAAAAABkn0AfhetRuI5ywMDvB/KUy+g/AAAAAABon0DXo3A9CsdhwPQH9/S5pPk/AAAAAABsn0BxPQrXozB5wEhvfgER+OI/AAAAAABwn0DhehSuRxF4wOBh+lhKROg/AAAAAAB0n0DhehSuRwVwwGhcsfs1Nuc/AAAAAAB4n0CamZmZmelnwGDn5U388+Q/AAAAAACYn0AK16NwPW2PwBB3EbSmCfA/AAAAAACcn0BWDi2ynQt/wBBwnPBNiOU/AAAAAABKoED2KFyPwtl7wJCFEedAMuc/AAAAAABQoECuR+F6FN5QwKhcToR6Fec/AAAAAACEoECF61G4HqOAwMAiyq3l3Ok/AAAAAACKoEAzMzMzM4mBwJB1osZ+gec/AAAAAACMoECkcD0K1zNkwAh5RP8wM+k/AAAAAACYoEDLoUW28x6JQBCMd1wSEeY/AAAAAACsoEBxPQrXowBlwDF+CVnsWO4/AAAAAACwoEAAAAAAAAx6wOh07+75XuE/AAAAAACyoEAAAAAAgASiwEDhMuZMp8a/AAAAAAC0oECF61G4Hi1lwIBnqfdUk+A/AAAAAADWoEDNzMzMzFRiwGCaYGUQguM/AAAAAAA6oUBI4XoUrjdqQCANFe9X9uQ/AAAAAABEoUCPwvUoXNdgwJAjk6M6IuA/AAAAAABOoUDhehSuR1+FwPsabpSsKLI/AAAAAABQoUA9CtejcFV8wGhyjqtsduY/AAAAAABaoUBI4XoUru99wMDLF7Zis+4/AAAAAABcoUCF61G4HrF/wBD/Cwdo1+g/AAAAAABeoUBcj8L1KMRqwHQIEnRA6/M/AAAAAADYoUCF61G4HgF3wAAlxHLlwuM/AAAAAADaoUApXI/C9TBmwMC60rbpN+E/AAAAAADeoUCkcD0K1zNQQPRReKGIrqS/AAAAAADooUDNzMzMzBxRQPx0KNWSwas/AAAAAAD2oUBxPQrXo/BawDFrIdWegvM/AAAAAAD4oUDVeOkmMYOUQKDk6kwVE+4/AAAAAAAOokBcj8L1KGRvQPEDxhe7je8/AAAAAAAQokAfhetRuL5SwPkounyiqfo/AAAAAAASokBSuB6F62FbwOnbJEXQ5fM/AAAAAAAUokAUrkfheiRVwDARYXHD8Oc/AAAAAAAookDhehSuR1lvQAjnN83DUuk/AAAAAAA6okA9CtejcCVtwE8GNSLMu+8/AAAAAABGokAfhetRuC5xwM80ZUB3/94/AAAAAABIokDNzMzMzJxkwKCs6gD3R+Q/AAAAAACCokDXo3A9ClcqwFDNB3URVeI/AAAAAACIokAUrkfheqaFwMCB2l/23bq/AAAAAACMokBcj8L1KMxcwMgdD+/llOA/AAAAAACWokC4HoXrUbx0QLBr9FUSIeI/AAAAAACaokAK16NwPQpQwJiZ8Z6tMvQ/AAAAAACwokCwcmiRbRSlQFB+yst2heY/AAAAAAC+okDVeOkmMZGKwD6NCSRK78A/AAAAAADAokCF61G4nv2YwP2PLHx5RsQ/AAAAAADmokDLoUW2896iQPTp93u0zfo/AAAAAAD4okAAAAAAAGiAwNUPqYmANvc/AAAAAAAio0AUrkfheoB6wCA+vSMoQN4/AAAAAAAko0A9CtejcJVlwJCDAqV5ltk/AAAAAAAmo0AzMzMzM5OHwCDUMeX8I9Q/AAAAAAA4o0CkcD0K1+tswFAXFWaoOes/AAAAAABko0BxPQrXo/KBwKCRZkYwI9o/AAAAAABmo0Bcj8L1KGSRwODJYvL8qtU/AAAAAABoo0Bcj8L1KIyPwNLhYUWJaYs/AAAAAABqo0AfhetRuB4NQDjXFiSag/I/AAAAAAByo0DD9Shcj/JzwCBsPK0U/Oo/AAAAAAB0o0D2KFyPwgmDwL5M8uG2hMe/AAAAAAB2o0B7FK5H4bpZwEATCF9ex9Y/AAAAAACIo0AZBFYOLRIwwOC4jnADDNQ/AAAAAACUo0Bcj8L1KHB5wKjH7NuZDuI/AAAAAACqo0AAAAAAALSEQKjfzb/bxuI/AAAAAACuo0Bcj8L1KDx1wOC6se3NROA/AAAAAADmo0DD9Shcj4qFwMAKEzxoFcg/AAAAAADoo0BSuB6F67FNwGBY8AE9o+Y/AAAAAADqo0CkcD0K12thwIjyb3TwV+w/AAAAAAD+o0Dl0CLb+UylQODe631UxfA/AAAAAAAcpECuR+F6FG5dwNEx+8pMUu4/AAAAAAAspECkcD0K102EwJ+q6VuqqdA/AAAAAAAypEBcj8L1KNR7wEA90d7L0uM/AAAAAAA0pEAX2c73U3F0wFA/u4h8Fdc/AAAAAAA6pEDByqFFtqeMQAkegz289e0/AAAAAAA+pEDNzMzMzAR1wH/7DKPP1+w/AAAAAABUpEApXI/C9XhowCQFQtZGc/Q/AAAAAABWpECamZmZmemEwN+XRHmzgNE/AAAAAABYpEDD9Shcj5puQIRSMwPKBvA/AAAAAABapECuR+F6FPp5wIAMnDOFPeo/AAAAAABepECPwvUoXB9wwGjlIZ5mTuU/AAAAAABopEAUrkfheoBzwNBXAwxLMuw/AAAAAABqpECamZmZmX1zwE8JU5p3jt8/AAAAAABupED2KFyPwlVAQJAfq2q86Nc/AAAAAABwpEAK16NwPXKHwL+vqCPk0HW/AAAAAABypEAAAAAAADBRwGDDbzdqe+k/AAAAAAB0pEDXo3A9CouMwH3XSPa8J7Y/AAAAAAB2pEC+nxov3YJ7wB9vJhKWRN4/AAAAAAB4pEBcj8L1KBRmwMi8XAdfKeI/AAAAAAB6pEA9CtejcAODwGCpKq+bH8K/AAAAAAB8pEAfhetRuPqBwL0ck9S++cs/AAAAAAB+pEDVeOkmMUqBwEAOgZ2aHr0/AAAAAACApEBI4XoUrscgwCDJ9Y6GY+o/AAAAAACCpEAK16NwPY5ywGCCCUSJVeA/AAAAAACEpEDhehSuR8FWwIDu5QtW8vM/AAAAAACGpEAzMzMzMy92wA8lL18tj9s/AAAAAACIpEBSuB6F6713wEBGfmVeIOA/AAAAAACKpEBSuB6F66lgwACJ3En4l+s/AAAAAACMpEDNzMzMzPxkwGCfDenFbdg/AAAAAACOpEApXI/C9UKAwF8VaVjiUNE/AAAAAACQpEBSuB6F6/15wJ6I6GJ0VM8/AAAAAACSpECkcD0K13eHwAD75ZWHlry/AAAAAACUpEAfhetRuASMwL4cXVSoscG/AAAAAACWpECamZmZmdWIwP/4KX1Fa8o/AAAAAACYpEDNzMzMzDx6wA9mrxtTA9Q/AAAAAACapEBcj8L1KB6PwPq/SnNUZK2/AAAAAACcpEAfhetRuFqBwE8l+FtxVd8/AAAAAACepED2KFyPwkmJwLySFlIL3rK/AAAAAACgpEAK16NwPTSDwJ/UJfTptMg/AAAAAACipEAhsHJokQ6DwH6SeGBFRrS/AAAAAACkpEB7FK5H4YqLwPvEDZWtI74/AAAAAACmpEDNzMzMzPRkwNAa0DKTxuY/AAAAAACopECamZmZmZkQQA93ISefZe0/AAAAAACqpEA9CtejcD3+P59zb78STdk/AAAAAACspEDD9Shcj8JHQAik0X4R2OU/AAAAAACupEDsUbgehWsoQFgqA+20XgFAAAAAAACwpEAAAAAAAGh1wN92+BVPytU/AAAAAAC0pEAUrkfheoqDwPX1aYyRlaa/AAAAAAC2pEAAAAAAAPBRQDD/sglNh+U/AAAAAAC4pEDNzMzMzJB7wAADbqRJMuQ/AAAAAAC6pEBcj8L1KKRgwPQyq7Z/NvE/AAAAAAC8pEApXI/C9RxwwPA0h9kJNeU/AAAAAAC+pEApXI/C9fhRwIBsRaMbb+I/AAAAAADApEBmZmZmZoqDwP8yUl8YzLC/AAAAAADCpEB7FK5H4VCBwACb21w+29M/AAAAAADEpEApXI/C9ahNwOACg6KviuM/AAAAAADGpECPwvUoXO9SwP6hdY0YXsA/AAAAAADIpEDD9ShcjwZ+wF/1ASCH1Nc/AAAAAADKpEDXo3A9Cj9hwKCrCmkyCeA/AAAAAADMpECPwvUoXC9swOgxENckIuQ/AAAAAADOpECuR+F6FIJ8wABNZE2O5MQ/AAAAAADQpEAAAAAAAMBbwB8ULOsYIdc/AAAAAADSpEDNzMzMzFx6wI/K9oby7dg/AAAAAADUpEAzMzMzMz+MwLzCB5Hx7b6/AAAAAADWpEBxPQrXo9BRwOhyFS8+2OI/AAAAAADYpEDsUbgehYtFwAiJku/wV+M/AAAAAADapEC4HoXrUaqBwKCSQDUgbdA/AAAAAADcpEAAAAAAAPBQwFByO8vSRtA/AAAAAADepEAK16NwPVpWwKgY6sa3Vuk/AAAAAADgpEDD9Shcj+prwD+59U2kJt4/AAAAAADmpEArhxbZzgWcQPDTaJ3nCeM/AAAAAAAEpUAhsHJokVqHQFhMXB6h7vA/AAAAAAAcpUAAAAAAgASiwP9FSTlxGbW/AAAAAAAepUB/arx0k+hwwOHOIWSJ1e4/AAAAAAAipUC4HoXrUb6LwKh3+Yo/zug/AAAAAAAkpUDD9Shcj5SJwDw3fXlLT78/AAAAAAAqpUDsUbgehZ2KwB9rMLFfcco/AAAAAAAupUApXI/C9bWYwPrvvbargbo/AAAAAABMpUBmZmZmZmY6wKcwTm6aTe4/AAAAAABYpUCPwvUoXI8ZQCBqoNI4qOg/AAAAAABcpUDsUbgehfGDwCCqnHYJQeQ/AAAAAABgpUAzMzMzMzuIwJDVr6j5f98/AAAAAABopUDsUbgehceEwFCws/msxuE/AAAAAABqpUDByqFFtluIwBBIGAcD7dM/AAAAAABspUDNzMzMzJyCwODKAlxV+ts/AAAAAABupUBSuB6F6+ODwHA7g52fAOg/AAAAAABwpUDhehSuRw6QwBDNXg8NAOI/AAAAAABypUCuR+F6FJyGwJCzzJ9X9tc/AAAAAAB0pUA9CtejcFeIwECjrQPFw+U/AAAAAAB4pUAUrkfheh6GwADdm6zVRuI/AAAAAAB6pUCamZmZmWGQwOA457YnUNE/AAAAAAB8pUCkcD0K1/d6wFAMZF3QZeY/AAAAAAB+pUDhehSuR3mDwBBlSdINX+E/AAAAAACApUA9CtejcFWLwPAjVBYucuU/AAAAAACCpUBxPQrXo4yCwHDIzY3speM/AAAAAACEpUD2KFyPwlGYwLCqWuobnuY/AAAAAACGpUD2KFyPwqOHwN98QUF8VtY/AAAAAACIpUAK16NwPZ6DwIAV4R4yNN0/AAAAAACKpUBSuB6F682LwNDlJpGkI9Q/AAAAAACMpUDsUbgehb2NwEDsqa9C4+M/AAAAAACYpUBSuB6F6xuIwOi1bv6vteA/AAAAAACepUCPwvUoXLGNwCAz5/Oc4dw/AAAAAACgpUAAAAAAAICEwE/ZldIp89w/AAAAAACipUCuR+F6FPCMwH8i25HDQNQ/AAAAAACkpUBg5dAi26iNwGBE17Vzttw/AAAAAACmpUDsUbgehb2AwPA/h8XjoOM/AAAAAACopUAUrkfhesCEwPYX16LefaK/AAAAAACspUB7FK5H4TaBwNCYjI/bQec/AAAAAACupUCPwvUoXO9iwNDe/nt2MuI/AAAAAACwpUAUrkfhejRmwPBRaxWCbO4/AAAAAAC0pUBxPQrXozBrwGDe7Zexr+o/AAAAAAC2pUCF61G4HgGPwN8ZxbLmbdc/AAAAAADUpUDhehSuR/FpwFCbpiwxfeQ/",
          "dtype": "f8",
          "shape": "187, 3"
         },
         "hovertemplate": "<b>Earthquake: %{customdata[0]}</b><br>Source Lon: %{x:.3f}<br>Source Lat: %{y:.3f}<br>Source Depth(m): %{customdata[1]:.3f}<br>Magnitude: %{customdata[2]:.3f}<br><extra></extra>",
         "legendgroup": "",
         "marker": {
          "color": {
           "bdata": "ZmZmZmZKi8AK16NwPZJwwClcj8L1SF7AXI/C9SgcW8AUrkfhepR4wB+F61G4jnLA16NwPQrHYcBxPQrXozB5wOF6FK5HEXjA4XoUrkcFcMCamZmZmelnwArXo3A9bY/AVg4tsp0Lf8D2KFyPwtl7wK5H4XoU3lDAhetRuB6jgMAzMzMzM4mBwKRwPQrXM2TAy6FFtvMeiUBxPQrXowBlwAAAAAAADHrAAAAAAIAEosCF61G4Hi1lwM3MzMzMVGLASOF6FK43akCPwvUoXNdgwOF6FK5HX4XAPQrXo3BVfMBI4XoUru99wIXrUbgesX/AXI/C9SjEasCF61G4HgF3wClcj8L1MGbApHA9CtczUEDNzMzMzBxRQHE9Ctej8FrA1XjpJjGDlEBcj8L1KGRvQB+F61G4vlLAUrgehethW8AUrkfheiRVwOF6FK5HWW9APQrXo3AlbcAfhetRuC5xwM3MzMzMnGTA16NwPQpXKsAUrkfheqaFwFyPwvUozFzAuB6F61G8dEAK16NwPQpQwLByaJFtFKVA1XjpJjGRisCF61G4nv2YwMuhRbbz3qJAAAAAAABogMAUrkfheoB6wD0K16NwlWXAMzMzMzOTh8CkcD0K1+tswHE9Ctej8oHAXI/C9ShkkcBcj8L1KIyPwB+F61G4Hg1Aw/UoXI/yc8D2KFyPwgmDwHsUrkfhulnAGQRWDi0SMMBcj8L1KHB5wAAAAAAAtIRAXI/C9Sg8dcDD9Shcj4qFwFK4HoXrsU3ApHA9CtdrYcDl0CLb+UylQK5H4XoUbl3ApHA9CtdNhMBcj8L1KNR7wBfZzvdTcXTAwcqhRbanjEDNzMzMzAR1wClcj8L1eGjAmpmZmZnphMDD9Shcj5puQK5H4XoU+nnAj8L1KFwfcMAUrkfheoBzwJqZmZmZfXPA9ihcj8JVQEAK16NwPXKHwAAAAAAAMFHA16NwPQqLjMC+nxov3YJ7wFyPwvUoFGbAPQrXo3ADg8AfhetRuPqBwNV46SYxSoHASOF6FK7HIMAK16NwPY5ywOF6FK5HwVbAMzMzMzMvdsBSuB6F6713wFK4HoXrqWDAzczMzMz8ZMApXI/C9UKAwFK4HoXr/XnApHA9Ctd3h8AfhetRuASMwJqZmZmZ1YjAzczMzMw8esBcj8L1KB6PwB+F61G4WoHA9ihcj8JJicAK16NwPTSDwCGwcmiRDoPAexSuR+GKi8DNzMzMzPRkwJqZmZmZmRBAPQrXo3A9/j/D9Shcj8JHQOxRuB6FayhAAAAAAABodcAUrkfheoqDwAAAAAAA8FFAzczMzMyQe8Bcj8L1KKRgwClcj8L1HHDAKVyPwvX4UcBmZmZmZoqDwHsUrkfhUIHAKVyPwvWoTcCPwvUoXO9SwMP1KFyPBn7A16NwPQo/YcCPwvUoXC9swK5H4XoUgnzAAAAAAADAW8DNzMzMzFx6wDMzMzMzP4zAcT0K16PQUcDsUbgehYtFwLgehetRqoHAAAAAAADwUMAK16NwPVpWwMP1KFyP6mvAK4cW2c4FnEAhsHJokVqHQAAAAACABKLAf2q8dJPocMC4HoXrUb6LwMP1KFyPlInA7FG4HoWdisApXI/C9bWYwGZmZmZmZjrAj8L1KFyPGUDsUbgehfGDwDMzMzMzO4jA7FG4HoXHhMDByqFFtluIwM3MzMzMnILAUrgehevjg8DhehSuRw6QwK5H4XoUnIbAPQrXo3BXiMAUrkfheh6GwJqZmZmZYZDApHA9Ctf3esDhehSuR3mDwD0K16NwVYvAcT0K16OMgsD2KFyPwlGYwPYoXI/Co4fACtejcD2eg8BSuB6F682LwOxRuB6FvY3AUrgehesbiMCPwvUoXLGNwAAAAAAAgITArkfhehTwjMBg5dAi26iNwOxRuB6FvYDAFK5H4XrAhMB7FK5H4TaBwI/C9Shc72LAFK5H4Xo0ZsBxPQrXozBrwIXrUbgeAY/A4XoUrkfxacA=",
           "dtype": "f8"
          },
          "coloraxis": "coloraxis",
          "size": {
           "bdata": "P/fEANG30D/3eRo3YzTfPybZkcb38e0/v6s7SA+w4D/KrffPWIrWP7RFinkQDdo/MJuBoVRG6D+I69PdXxrVP6zPbZEqmtk/D86eKsy02D/h97dUu8nWP+mRWmLtHeA/rb5okLFH1z95kz/Lb7HYP8GmNsr/mNg/9ChPYS712j8mI4jZu/TYP23slmMOZdo/MYuvV9i71z8jmCR0KMTePz7eL/fyvtM/W8l4bT6BZz+qqoJUABLTP+xV9SKSj9U/88C++LvL1j+pG1R48rHSP2zfNDYmr7s//IrPmesR2D9rFNkC/BDfP8r4BEQbF9o/ZXa2lcFp4z9hxRtpocbVP0bYdiTGndM/80i55R4qrz/0NG3zzN25P1H3hIflEOM/qNuEbdiI3j9UdGTHasrfP9LBKxrpI+k/gtAKQSNl4z/di+bXOlPZP6pvS9Lef9o/PV8nLorx3z+lsS/w8SfSPxAu0AykN9Y/ORuXLPKP1D96KBQBJSGhPxL+N9tUE9M/nYChhclj1D88zYaDaqbjPyHgfF+xHtg/6yWVN30twT8Hhn29oJjCP6iFYTOLQuk/iuHb6OU15j81W76LtdbRP5vMxPiqt88/93HaYmEXyz94hPrzXh3cP532kNeVF9A/IWM/VHFjzD/N7zZoqG21P+yqWZxROOI/2JppZRPp2z8AAAAAAAAAAJO+oO/0VM0/nUVhEQUDyz+WEGTMGVTUP4+1SXmV8NQ/YdiFjE/P0j/fs1SGnTbEP62c+qP6N9g/xl2v1n8Q3T8luKDtUL3gPwT1/nqIvt4/WeLLDEMjyD8LkrRFItTVP8ZAW6ZMl80/Ad/I2+tv3j/pDfOjGH3dPyiJl/hG3eM/gq7EQ+LZyD9YZOwifxvgP699lFw9R9s/4sGYp4QW1z+bQ08jh/DcPxdBmAKrZNI/TdEdu7RKzj/pmGg59GSzP8p0pJxkoto/0vBnJ5NhvT+AXZkMl9jRP2xSVvLVatQ/lrTpjrFTkj+gP/g5sd3FP004unZRK8A/oQe2JoRn2z87qlU7hd3SP91qt83Fb+M/oJ7mgCWy0D9US7oDXrDSP0fzbnt3bdw/Zc4jhrC7zj9rqptRRrHIP9sTe9tTSsc/Z7XBPPlVnz+PVRyqM8mTP3Z6ps98NMU/HhQcBqT7yj+63oI5R3erP6I2hyF0TNI/HIU9+13spz8yNobSWHrEPwFnr4hwuqY/a9tyl79iwD+0H/o9/VXYPwrUDeaH9d0/fN+Vi1R5zz8ZZr0mb4vXP/Yp+v///+8/gTHu1wp+zD/e9p5oT1uuP81U9WLXRtc/b9bQLTsl1j92NpYibR3hP1kRIJX6ANc/ZzH3hA+m1D9wguf+bq6pP36L/PGZ2co/Xr8SquSW1T8VO37T1e/AP+cX/D2LOc4/cLmuMbCc0j90IQ9XhRfWPwHEwhbB28I/YP/0/CihzT/Vc5wWiyjPP5lBkT3aW5s/8sv/EFn/1D9x36EizGvVP8kUbgjZ78c/5vKQplHPxz/oy2JBOoPaPzq8sOvfy9E/Rn8uH4Yp1T+TZVXgY+DgP6Hu5ncZB6Y/mc0L2vwt3z93wBMuVA/aP4U58p9cosA/qfMgLBQ3xT+0aAMKljq/PxWSqFuLut4/f8vo1Qjv2T+hHMHYwTHWP4UoWaaDXtI/lHqaZwQX1D8Pihj2sOjKP6MWyP+l39A/MHIZALNg2T+07zd2vkfUP4FrhORCVs4/1qX49zF61z8XikKk24PUP8jQ59GnsMg/FEazRdAD2D8TOxbbA7/TP6+bqnXnNNc/JpTsggau1T/kDKR6nzPYP+9vndAW9cw/7+JnpOxk0T8sK0RfFhfLP+E1KcMd4tU/46R2oC0v0z+JzNJt20HRP/I1oD5PSdE/Y92lotEvyz+2opmRhy/RPxwK0f6/qdU/EVb3JhkMsD/WMORPsL7YP2dU95GOctQ/EFMDcMrU3j/o8kz5M6jbP7fLGgZj4s0/ssclQ9hk1j8=",
           "dtype": "f8"
          },
          "sizemode": "area",
          "sizeref": 0.0024999999998938423,
          "symbol": "circle"
         },
         "mode": "markers",
         "name": "",
         "orientation": "v",
         "showlegend": false,
         "type": "scatter",
         "x": {
          "bdata": "7ugkAKSXX0C7GSQzTZdfQEnI9hBDl19ACAUAIliXX0BZPoFmxpdfQOpqPCJwl19AyyfQzDiXX0A9ef3uQpdfQO7keKpol19AGUebmU+XX0BtliYAWpdfQAUZARWOmF9Agm+aPjuXX0Da9LHM7JZfQMAIGjMJl19AsQdJVcmWX0BNh6mIrpZfQCFMm7snl19Ab6x6rxCYX0APNcC7S5dfQIPDCyLSll9AhiHNs22WX0CYXHtVHZdfQE/Ex8wql19AmTVnMz2XX0DiMU0iDJdfQNwBjYiYll9ANrEbEWeXX0CA7suZbZdfQDaxGxFnl19AScj2EEOXX0BexZiqapdfQBVlgFU/l19AztmniPiWX0Dk0p3MZJdfQG2Seqoel19AyBwVSYWYX0BZ1qKqLpdfQGCehIgKl19AXpVVIhqXX0A93S9VH5dfQCuSZXc3l19Aahg+IiaXX0B6ihwibpdfQHfc8Lvpll9AshQkEfWWX0CxbycRYZdfQPj6/92nll9AhATWuwmXX0CaZaq7DZdfQOkrSDOWll9A54mMsw6YX0BoEUAgBpZfQBROwdDZmF9APXcnROWWX0CYjL7d7ZZfQHLpTmZyl19AcHhBRGqWX0BF5tvMspZfQMVf7u7cll9AyN3WzJCWX0B/Sc+ZWZZfQJez0v9Nl19A0OLW7uiWX0C5dCczuZZfQDrHJTMDl19AbxNJT2yXX0D9tQYA2JZfQF0tHK2Pl19AmMCtu3mXX0C5DEl3oZZfQMaguIgUl19AhtkVRO6WX0ATr/xDRJdfQKoPJO8cl19AK2Ii72aWX0AIoc27e5hfQBnw6DUsmF9A8zOaAdOXX0BTDsHMUphfQN1ymqogl19AWQqSiLqWX0ADfujds5ZfQL1WQnfJll9AhNDm3f2WX0BjHG1mvpZfQLyO3aqQll9A5neazPiWX0CgLYyZ6ZZfQHSOS2YGl19AevL63YWWX0ArhqsDIJdfQO6ARkQMl19AtCH/zKCWX0CWG7G75ZZfQONK4lHPll9Ayhr1EA2XX0AZe4p325ZfQNw1fGYkl19ABbsGIjCXX0ByhRwAlpdfQHVnN0Qml19AStXRzO6WX0AoFH2Zg5ZfQHEQY4jSll9ArExCMxmXX0AkZlEzf5ZfQCEYrN2bll9AP1LpzOKWX0B8+ylEdpZfQIm/3N25ll9Amwqnu6GWX0BHv8eq0pZfQBaKz/iZll9A5KJaRJSWX0DutDUiGJdfQMT7u4gAl19As3hWd9GWX0BK1dHM7pZfQFb0h2Yel19AY1BcRMqWX0Ajvajdr5ZfQDNnIhG/ll9AJMqDmduWX0BMes7MApdfQOmRUERQl19ATYepiC6XX0D5n/zdu5ZfQPHKP0S0ll9AmFjP/+GWX0DdcpqqIJdfQHmxMETOll9AtZIM7yiXX0AI1byZB5dfQMUr/xDRll9AQswlVVuXX0A4ukp315ZfQOe4ZGawll9AgBE0ZhKXX0BKCcGq+pZfQL+k58ysll9A5G5rZoiXX0DAPAkRFZdfQMu/8RAhl19Af/OHC2WYX0CSpLWz+ZVfQP+zQYFSll9AefyD7UyXX0BY/bbMjpZfQAfI4d1bll9AHCm23V+WX0Ckd4WZEZZfQPZVA94Tl19ACG3e3e+WX0DdpomIrJZfQMip5+6Ell9AwRX17rSWX0B37LE+r5dfQMX3DzPFll9Ah4K+mb2WX0DOccnMYJZfQA1c1N2rll9AbZJ6qp6WX0CTncjdsZZfQEzeADNfll9Ak22FVeGWX0DNZO4QtZZfQLIUJBF1ll9AXeyszMqWX0B8YwgADpZfQLcDGhGxll9AwUnkzMCWX0CGQfT/hZZfQAyD6P+Lll9Arb1PVaGWX0BtliYAWpZfQFkKkoi6ll9A5NKdzGSWX0C/tbhrrpdfQHK1X4jmll9AAGQyZtyWX0C5QDhVrZZfQB5qgHcXl19ATlO6qiKXX0AxwiURK5dfQJ1LcVVZll9A0H6kiIyWX0A=",
          "dtype": "f8"
         },
         "xaxis": "x",
         "y": {
          "bdata": "WWn3UEcfQ0DKsat/xh5DQCLxPALJHkNAf3/v27UeQ0DMYmLzcR9DQA7RjVXvHkNACobOxqUeQ0AWcCqtGh9DQLTnMjUJH0NAPxgdNcseQ0AudCUC1R5DQCNFVS3YHUNAxgoUN4IcQ0D4kbZM4R5DQLxW573WHkNAlrlUAOceQ0CUemARDR9DQPBRf73CHkNAkmKZ4XMfQ0B5spsZ/R5DQP3pUJfWHkNA7fL+VmodQ0AO9PUhFB9DQDsI8My6HkNAVLWTd8QfQ0AlzR/T2h5DQP5ZmCq9HkNAQsr08AofQ0DBSHn3ER9DQOPYH839HkNA28k74useQ0DEX5M16h5DQPJr2nunHkNAsqxFVV0fQ0BWIS+17x5DQECFI0ilHkNAK9ikrVodQ0AuEbkqmh9DQA7Qx8bNHkNAEhH+RdAeQ0C7HStC+x5DQIFXcOQmHkNAy/Yhb7keQ0DM/R9x2R5DQHz1TIrqHkNAPUZ55uUeQ0DYHZyZqh9DQGINvP80H0NANxyWBn4fQ0D0fYLVoh5DQI6q7NwwHENAr2d3ZIYeQ0Bg+5QmzyBDQLhxvupeHkNAePbrB+IgQ0AABXLk3B5DQE/qy9JOH0NA536YzpgfQ0A0QXnEjR5DQAN3RZUGH0NA214cpsceQ0B+n7tuWx9DQN7db1kqH0NA8fxYd+IeQ0A7YuOw6h5DQPjx4aMPH0NAxz6JTp0cQ0AeOpioOR9DQGdpthHgHUNAOfHVjuIfQ0CGCf4STB5DQBXRZSCFHkNAhgSMLm8eQ0Cbe4KjKBxDQKCRY0bTHkNAF6KembsfQ0BlNPJ5xR1DQGlqMhOnHENAeVl77nAcQ0D+LseGyR1DQP5TYLe+HkNAMV7zqs4eQ0BXJ8LhYB9DQDs5Q3HHHkNACNIgYAgfQ0Ao7niT3x5DQBIiKp7EHkNAWxzfKMMeQ0Bf0hitox5DQCBM5UjCHkNAP4rfuZwfQ0AIZfs/MB5DQAQnkTMDH0NA+TKsPUcfQ0C5Fi1A2x5DQL9993CEH0NAAm83d6oeQ0B8KxIT1B5DQGSEptvIHkNAJs7lYfweQ0DW37fGDB9DQBrokIq1HkNAnXgYpCofQ0BnP/eKEx9DQMrs4uyMHkNAQYzGkFIeQ0Aty3yshR5DQJQMpZtpH0NAZLsx89MeQ0CNrQxPVB5DQNq6inviHkNARDaQLjYfQ0CdIWZABx9DQGlY/g+/HkNAR1J3Cl4eQ0DSXF0EfB5DQKXp/ZDIHkNAXsNnRpoeQ0DrdeZ5yx5DQKYZQRmZHkNAGyMjse4eQ0DZgc7/Bh9DQEKffgaKHkNAN+FembceQ0DS+ZVzzh5DQLOEEOvoHkNAplyGpLseQ0AL4eLyaR9DQEnM/R9xHkNA3rU677UeQ0CWGussxB5DQEjNDTytHkNAJjTucrYeQ0CJtfgUAB9DQIhS1srfHkNAjXCkfb0eQ0D8EpYdhx5DQCWiqehZHkNA8L7PXbceQ0AlAKTbtx5DQA2VNaCUHkNAJnlkYqkeQ0CkSt5KwB5DQG7X8JmRHkNAbdGzbRkhQ0CVY63/RR1DQJXhdYb0HkNANY2pmCMdQ0A5Zcl3hB9DQLq2XKIfH0NAKelhaHUfQ0CJX7GGix9DQL7Es1/SHkNAd67el+keQ0AaVHZV+x5DQGLcaFsoH0NATHlj99MeQ0BR6OCMphxDQIqRJXMsH0NAU3NeCN4eQ0AoRSv3Ah9DQEHux5LeHkNAft9kwP4eQ0ATJjGt8h5DQAJxDSIIH0NAR/R8FwAfQ0BrsLofAR9DQHAOMiSCH0NAcGwsF+AeQ0BBmrFoOh9DQIT5hh0hH0NAZVQZxt0eQ0DP4ErRJR9DQCT5AJMKH0NA9bOiF/8eQ0AAOsyXFx9DQHtcZbfgHkNAb0DwnT0fQ0CsX3koux9DQK2RE9z+HkNApXvnYbIeQ0BxHHi13B9DQCqGUEqtHkNAdpzssNMeQ0BIJMCf0B5DQMQnnUgwH0NAnElA8QgfQ0A=",
          "dtype": "f8"
         },
         "yaxis": "y"
        },
        {
         "hovertemplate": "<b>%{text}</b><br>Lat: %{y:.2f}<br>Lon: %{x:.2f}<extra></extra>",
         "marker": {
          "color": "red",
          "size": 16,
          "symbol": "triangle-down"
         },
         "mode": "markers+text",
         "name": "Stations",
         "text": [
          "KJ09",
          "KJ09",
          "KJ14",
          "KJ13",
          "KJ14",
          "KJ12",
          "KJ14",
          "KJ13",
          "KJ14",
          "KJ12",
          "KJ12",
          "KJ14",
          "KJ11",
          "KJ11",
          "KJ13",
          "KJ12",
          "KJ14",
          "KJ13",
          "KJ13",
          "KJ13",
          "KJ12",
          "KJ13",
          "KJ13",
          "KJ09",
          "KJ13",
          "KJ13",
          "KJ14",
          "KJ14",
          "KJ10",
          "KJ12",
          "KJ11",
          "KJ12",
          "KJ11",
          "KJ11",
          "KJ11",
          "KJ14",
          "KJ11",
          "KJ11",
          "KJ07",
          "KJ15",
          "KJ13",
          "KJ13",
          "KJ13",
          "KJ11",
          "KJ11",
          "KJ11",
          "KJ11",
          "KJ11",
          "KJ14",
          "KJ14",
          "KJ14",
          "KJ14",
          "KJ11",
          "KJ14",
          "KJ11",
          "KJ09",
          "KJ11",
          "KJ14",
          "KJ13",
          "KJ13",
          "KJ13",
          "KJ13",
          "KJ13",
          "KJ13",
          "KJ14",
          "KJ14",
          "KJ14",
          "KJ10",
          "KJ11",
          "KJ09",
          "KJ10",
          "KJ14",
          "KJ10",
          "KJ10",
          "KJ14",
          "KJ14",
          "KJ14",
          "KJ10",
          "KJ10",
          "KJ09",
          "KJ14",
          "KJ14",
          "KJ14",
          "KJ10",
          "KJ10",
          "KJ10",
          "KJ09",
          "KJ14",
          "KJ10",
          "KJ10",
          "KJ07",
          "KJ07",
          "KJ07",
          "KJ08",
          "KJ12",
          "KJ10",
          "KJ14",
          "KJ10",
          "KJ12",
          "KJ10",
          "KJ10",
          "KJ10",
          "KJ10",
          "KJ10",
          "KJ14",
          "KJ10",
          "KJ12",
          "KJ10",
          "KJ10",
          "KJ14",
          "KJ10",
          "KJ10",
          "KJ10",
          "KJ10",
          "KJ14",
          "KJ10",
          "KJ10",
          "KJ10",
          "KJ10",
          "KJ10",
          "KJ10",
          "KJ14",
          "KJ10",
          "KJ10",
          "KJ10",
          "KJ10",
          "KJ10",
          "KJ10",
          "KJ10",
          "KJ10",
          "KJ10",
          "KJ10",
          "KJ10",
          "KJ10",
          "KJ10",
          "KJ12",
          "KJ10",
          "KJ10",
          "KJ10",
          "KJ10",
          "KJ12",
          "KJ10",
          "KJ10",
          "KJ10",
          "KJ10",
          "KJ10",
          "KJ10",
          "KJ10",
          "KJ10",
          "KJ10",
          "KJ14",
          "KJ10",
          "KJ12",
          "KJ10",
          "KJ10",
          "KJ10",
          "KJ14",
          "KJ10",
          "KJ10",
          "KJ14",
          "KJ10",
          "KJ14",
          "KJ14",
          "KJ14",
          "KJ10",
          "KJ14",
          "KJ14",
          "KJ10",
          "KJ10",
          "KJ14",
          "KJ14",
          "KJ14",
          "KJ14",
          "KJ14",
          "KJ10",
          "KJ10",
          "KJ10",
          "KJ10",
          "KJ14",
          "KJ10",
          "KJ14",
          "KJ14",
          "KJ14",
          "KJ14",
          "KJ14",
          "KJ14",
          "KJ12",
          "KJ14",
          "KJ10",
          "KJ10",
          "KJ14",
          "KJ14",
          "KJ10",
          "KJ14",
          "KJ14",
          "KJ14",
          "KJ10",
          "KJ10",
          "KJ14",
          "KJ10",
          "KJ10",
          "KJ10",
          "KJ14",
          "KJ10"
         ],
         "textfont": {
          "color": "#333333",
          "size": 12
         },
         "textposition": "top center",
         "type": "scatter",
         "x": {
          "bdata": "UyXK3lKXX0BTJcreUpdfQMbdIForl19AkzmWd9WWX0DG3SBaK5dfQKKb/YFyl19Axt0gWiuXX0CTOZZ31ZZfQMbdIForl19Aopv9gXKXX0Cim/2BcpdfQMbdIForl19A3ewPlNuXX0Dd7A+U25dfQJM5lnfVll9Aopv9gXKXX0DG3SBaK5dfQJM5lnfVll9AkzmWd9WWX0CTOZZ31ZZfQKKb/YFyl19AkzmWd9WWX0CTOZZ31ZZfQFMlyt5Sl19AkzmWd9WWX0CTOZZ31ZZfQMbdIForl19Axt0gWiuXX0CjrUoi+5ZfQKKb/YFyl19A3ewPlNuXX0Cim/2BcpdfQN3sD5Tbl19A3ewPlNuXX0Dd7A+U25dfQMbdIForl19A3ewPlNuXX0Dd7A+U25dfQD4hO29jmF9Aw0maP6aXX0CTOZZ31ZZfQJM5lnfVll9AkzmWd9WWX0Dd7A+U25dfQN3sD5Tbl19A3ewPlNuXX0Dd7A+U25dfQN3sD5Tbl19Axt0gWiuXX0DG3SBaK5dfQMbdIForl19Axt0gWiuXX0Dd7A+U25dfQMbdIForl19A3ewPlNuXX0BTJcreUpdfQN3sD5Tbl19Axt0gWiuXX0CTOZZ31ZZfQJM5lnfVll9AkzmWd9WWX0CTOZZ31ZZfQJM5lnfVll9AkzmWd9WWX0DG3SBaK5dfQMbdIForl19Axt0gWiuXX0CjrUoi+5ZfQN3sD5Tbl19AUyXK3lKXX0CjrUoi+5ZfQMbdIForl19Ao61KIvuWX0CjrUoi+5ZfQMbdIForl19Axt0gWiuXX0DG3SBaK5dfQKOtSiL7ll9Ao61KIvuWX0BTJcreUpdfQMbdIForl19Axt0gWiuXX0DG3SBaK5dfQKOtSiL7ll9Ao61KIvuWX0CjrUoi+5ZfQFMlyt5Sl19Axt0gWiuXX0CjrUoi+5ZfQKOtSiL7ll9APiE7b2OYX0A+ITtvY5hfQD4hO29jmF9AoDU//tKXX0Cim/2BcpdfQKOtSiL7ll9Axt0gWiuXX0CjrUoi+5ZfQKKb/YFyl19Ao61KIvuWX0CjrUoi+5ZfQKOtSiL7ll9Ao61KIvuWX0CjrUoi+5ZfQMbdIForl19Ao61KIvuWX0Cim/2BcpdfQKOtSiL7ll9Ao61KIvuWX0DG3SBaK5dfQKOtSiL7ll9Ao61KIvuWX0CjrUoi+5ZfQKOtSiL7ll9Axt0gWiuXX0CjrUoi+5ZfQKOtSiL7ll9Ao61KIvuWX0CjrUoi+5ZfQKOtSiL7ll9Ao61KIvuWX0DG3SBaK5dfQKOtSiL7ll9Ao61KIvuWX0CjrUoi+5ZfQKOtSiL7ll9Ao61KIvuWX0CjrUoi+5ZfQKOtSiL7ll9Ao61KIvuWX0CjrUoi+5ZfQKOtSiL7ll9Ao61KIvuWX0CjrUoi+5ZfQKOtSiL7ll9Aopv9gXKXX0CjrUoi+5ZfQKOtSiL7ll9Ao61KIvuWX0CjrUoi+5ZfQKKb/YFyl19Ao61KIvuWX0CjrUoi+5ZfQKOtSiL7ll9Ao61KIvuWX0CjrUoi+5ZfQKOtSiL7ll9Ao61KIvuWX0CjrUoi+5ZfQKOtSiL7ll9Axt0gWiuXX0CjrUoi+5ZfQKKb/YFyl19Ao61KIvuWX0CjrUoi+5ZfQKOtSiL7ll9Axt0gWiuXX0CjrUoi+5ZfQKOtSiL7ll9Axt0gWiuXX0CjrUoi+5ZfQMbdIForl19Axt0gWiuXX0DG3SBaK5dfQKOtSiL7ll9Axt0gWiuXX0DG3SBaK5dfQKOtSiL7ll9Ao61KIvuWX0DG3SBaK5dfQMbdIForl19Axt0gWiuXX0DG3SBaK5dfQMbdIForl19Ao61KIvuWX0CjrUoi+5ZfQKOtSiL7ll9Ao61KIvuWX0DG3SBaK5dfQKOtSiL7ll9Axt0gWiuXX0DG3SBaK5dfQMbdIForl19Axt0gWiuXX0DG3SBaK5dfQMbdIForl19Aopv9gXKXX0DG3SBaK5dfQKOtSiL7ll9Ao61KIvuWX0DG3SBaK5dfQMbdIForl19Ao61KIvuWX0DG3SBaK5dfQMbdIForl19Axt0gWiuXX0CjrUoi+5ZfQKOtSiL7ll9Axt0gWiuXX0CjrUoi+5ZfQKOtSiL7ll9Ao61KIvuWX0DG3SBaK5dfQKOtSiL7ll9A",
          "dtype": "f8"
         },
         "y": {
          "bdata": "Tb7Z5sYcQ0BNvtnmxhxDQHMuxVVlH0NAjq1nCMceQ0BzLsVVZR9DQGx7uyU5HkNAcy7FVWUfQ0COrWcIxx5DQHMuxVVlH0NAbHu7JTkeQ0Bse7slOR5DQHMuxVVlH0NAFAg7xaodQ0AUCDvFqh1DQI6tZwjHHkNAbHu7JTkeQ0BzLsVVZR9DQI6tZwjHHkNAjq1nCMceQ0COrWcIxx5DQGx7uyU5HkNAjq1nCMceQ0COrWcIxx5DQE2+2ebGHENAjq1nCMceQ0COrWcIxx5DQHMuxVVlH0NAcy7FVWUfQ0CO69/1mR1DQGx7uyU5HkNAFAg7xaodQ0Bse7slOR5DQBQIO8WqHUNAFAg7xaodQ0AUCDvFqh1DQHMuxVVlH0NAFAg7xaodQ0AUCDvFqh1DQGyvBb03HENAVz1gHjIfQ0COrWcIxx5DQI6tZwjHHkNAjq1nCMceQ0AUCDvFqh1DQBQIO8WqHUNAFAg7xaodQ0AUCDvFqh1DQBQIO8WqHUNAcy7FVWUfQ0BzLsVVZR9DQHMuxVVlH0NAcy7FVWUfQ0AUCDvFqh1DQHMuxVVlH0NAFAg7xaodQ0BNvtnmxhxDQBQIO8WqHUNAcy7FVWUfQ0COrWcIxx5DQI6tZwjHHkNAjq1nCMceQ0COrWcIxx5DQI6tZwjHHkNAjq1nCMceQ0BzLsVVZR9DQHMuxVVlH0NAcy7FVWUfQ0CO69/1mR1DQBQIO8WqHUNATb7Z5sYcQ0CO69/1mR1DQHMuxVVlH0NAjuvf9ZkdQ0CO69/1mR1DQHMuxVVlH0NAcy7FVWUfQ0BzLsVVZR9DQI7r3/WZHUNAjuvf9ZkdQ0BNvtnmxhxDQHMuxVVlH0NAcy7FVWUfQ0BzLsVVZR9DQI7r3/WZHUNAjuvf9ZkdQ0CO69/1mR1DQE2+2ebGHENAcy7FVWUfQ0CO69/1mR1DQI7r3/WZHUNAbK8FvTccQ0BsrwW9NxxDQGyvBb03HENAm1Wfq60cQ0Bse7slOR5DQI7r3/WZHUNAcy7FVWUfQ0CO69/1mR1DQGx7uyU5HkNAjuvf9ZkdQ0CO69/1mR1DQI7r3/WZHUNAjuvf9ZkdQ0CO69/1mR1DQHMuxVVlH0NAjuvf9ZkdQ0Bse7slOR5DQI7r3/WZHUNAjuvf9ZkdQ0BzLsVVZR9DQI7r3/WZHUNAjuvf9ZkdQ0CO69/1mR1DQI7r3/WZHUNAcy7FVWUfQ0CO69/1mR1DQI7r3/WZHUNAjuvf9ZkdQ0CO69/1mR1DQI7r3/WZHUNAjuvf9ZkdQ0BzLsVVZR9DQI7r3/WZHUNAjuvf9ZkdQ0CO69/1mR1DQI7r3/WZHUNAjuvf9ZkdQ0CO69/1mR1DQI7r3/WZHUNAjuvf9ZkdQ0CO69/1mR1DQI7r3/WZHUNAjuvf9ZkdQ0CO69/1mR1DQI7r3/WZHUNAbHu7JTkeQ0CO69/1mR1DQI7r3/WZHUNAjuvf9ZkdQ0CO69/1mR1DQGx7uyU5HkNAjuvf9ZkdQ0CO69/1mR1DQI7r3/WZHUNAjuvf9ZkdQ0CO69/1mR1DQI7r3/WZHUNAjuvf9ZkdQ0CO69/1mR1DQI7r3/WZHUNAcy7FVWUfQ0CO69/1mR1DQGx7uyU5HkNAjuvf9ZkdQ0CO69/1mR1DQI7r3/WZHUNAcy7FVWUfQ0CO69/1mR1DQI7r3/WZHUNAcy7FVWUfQ0CO69/1mR1DQHMuxVVlH0NAcy7FVWUfQ0BzLsVVZR9DQI7r3/WZHUNAcy7FVWUfQ0BzLsVVZR9DQI7r3/WZHUNAjuvf9ZkdQ0BzLsVVZR9DQHMuxVVlH0NAcy7FVWUfQ0BzLsVVZR9DQHMuxVVlH0NAjuvf9ZkdQ0CO69/1mR1DQI7r3/WZHUNAjuvf9ZkdQ0BzLsVVZR9DQI7r3/WZHUNAcy7FVWUfQ0BzLsVVZR9DQHMuxVVlH0NAcy7FVWUfQ0BzLsVVZR9DQHMuxVVlH0NAbHu7JTkeQ0BzLsVVZR9DQI7r3/WZHUNAjuvf9ZkdQ0BzLsVVZR9DQHMuxVVlH0NAjuvf9ZkdQ0BzLsVVZR9DQHMuxVVlH0NAcy7FVWUfQ0CO69/1mR1DQI7r3/WZHUNAcy7FVWUfQ0CO69/1mR1DQI7r3/WZHUNAjuvf9ZkdQ0BzLsVVZR9DQI7r3/WZHUNA",
          "dtype": "f8"
         }
        }
       ],
       "layout": {
        "coloraxis": {
         "colorbar": {
          "title": {
           "text": "depth_m"
          }
         },
         "colorscale": [
          [
           0,
           "#440154"
          ],
          [
           0.1111111111111111,
           "#482878"
          ],
          [
           0.2222222222222222,
           "#3e4989"
          ],
          [
           0.3333333333333333,
           "#31688e"
          ],
          [
           0.4444444444444444,
           "#26828e"
          ],
          [
           0.5555555555555556,
           "#1f9e89"
          ],
          [
           0.6666666666666666,
           "#35b779"
          ],
          [
           0.7777777777777778,
           "#6ece58"
          ],
          [
           0.8888888888888888,
           "#b5de2b"
          ],
          [
           1,
           "#fde725"
          ]
         ]
        },
        "height": 720,
        "legend": {
         "bgcolor": "rgba(255,255,255,0.5)",
         "itemsizing": "constant",
         "tracegroupgap": 0,
         "x": 0.01,
         "xanchor": "left",
         "y": 0.99,
         "yanchor": "top"
        },
        "showlegend": true,
        "template": {
         "data": {
          "bar": [
           {
            "error_x": {
             "color": "#2a3f5f"
            },
            "error_y": {
             "color": "#2a3f5f"
            },
            "marker": {
             "line": {
              "color": "white",
              "width": 0.5
             },
             "pattern": {
              "fillmode": "overlay",
              "size": 10,
              "solidity": 0.2
             }
            },
            "type": "bar"
           }
          ],
          "barpolar": [
           {
            "marker": {
             "line": {
              "color": "white",
              "width": 0.5
             },
             "pattern": {
              "fillmode": "overlay",
              "size": 10,
              "solidity": 0.2
             }
            },
            "type": "barpolar"
           }
          ],
          "carpet": [
           {
            "aaxis": {
             "endlinecolor": "#2a3f5f",
             "gridcolor": "#C8D4E3",
             "linecolor": "#C8D4E3",
             "minorgridcolor": "#C8D4E3",
             "startlinecolor": "#2a3f5f"
            },
            "baxis": {
             "endlinecolor": "#2a3f5f",
             "gridcolor": "#C8D4E3",
             "linecolor": "#C8D4E3",
             "minorgridcolor": "#C8D4E3",
             "startlinecolor": "#2a3f5f"
            },
            "type": "carpet"
           }
          ],
          "choropleth": [
           {
            "colorbar": {
             "outlinewidth": 0,
             "ticks": ""
            },
            "type": "choropleth"
           }
          ],
          "contour": [
           {
            "colorbar": {
             "outlinewidth": 0,
             "ticks": ""
            },
            "colorscale": [
             [
              0,
              "#0d0887"
             ],
             [
              0.1111111111111111,
              "#46039f"
             ],
             [
              0.2222222222222222,
              "#7201a8"
             ],
             [
              0.3333333333333333,
              "#9c179e"
             ],
             [
              0.4444444444444444,
              "#bd3786"
             ],
             [
              0.5555555555555556,
              "#d8576b"
             ],
             [
              0.6666666666666666,
              "#ed7953"
             ],
             [
              0.7777777777777778,
              "#fb9f3a"
             ],
             [
              0.8888888888888888,
              "#fdca26"
             ],
             [
              1,
              "#f0f921"
             ]
            ],
            "type": "contour"
           }
          ],
          "contourcarpet": [
           {
            "colorbar": {
             "outlinewidth": 0,
             "ticks": ""
            },
            "type": "contourcarpet"
           }
          ],
          "heatmap": [
           {
            "colorbar": {
             "outlinewidth": 0,
             "ticks": ""
            },
            "colorscale": [
             [
              0,
              "#0d0887"
             ],
             [
              0.1111111111111111,
              "#46039f"
             ],
             [
              0.2222222222222222,
              "#7201a8"
             ],
             [
              0.3333333333333333,
              "#9c179e"
             ],
             [
              0.4444444444444444,
              "#bd3786"
             ],
             [
              0.5555555555555556,
              "#d8576b"
             ],
             [
              0.6666666666666666,
              "#ed7953"
             ],
             [
              0.7777777777777778,
              "#fb9f3a"
             ],
             [
              0.8888888888888888,
              "#fdca26"
             ],
             [
              1,
              "#f0f921"
             ]
            ],
            "type": "heatmap"
           }
          ],
          "histogram": [
           {
            "marker": {
             "pattern": {
              "fillmode": "overlay",
              "size": 10,
              "solidity": 0.2
             }
            },
            "type": "histogram"
           }
          ],
          "histogram2d": [
           {
            "colorbar": {
             "outlinewidth": 0,
             "ticks": ""
            },
            "colorscale": [
             [
              0,
              "#0d0887"
             ],
             [
              0.1111111111111111,
              "#46039f"
             ],
             [
              0.2222222222222222,
              "#7201a8"
             ],
             [
              0.3333333333333333,
              "#9c179e"
             ],
             [
              0.4444444444444444,
              "#bd3786"
             ],
             [
              0.5555555555555556,
              "#d8576b"
             ],
             [
              0.6666666666666666,
              "#ed7953"
             ],
             [
              0.7777777777777778,
              "#fb9f3a"
             ],
             [
              0.8888888888888888,
              "#fdca26"
             ],
             [
              1,
              "#f0f921"
             ]
            ],
            "type": "histogram2d"
           }
          ],
          "histogram2dcontour": [
           {
            "colorbar": {
             "outlinewidth": 0,
             "ticks": ""
            },
            "colorscale": [
             [
              0,
              "#0d0887"
             ],
             [
              0.1111111111111111,
              "#46039f"
             ],
             [
              0.2222222222222222,
              "#7201a8"
             ],
             [
              0.3333333333333333,
              "#9c179e"
             ],
             [
              0.4444444444444444,
              "#bd3786"
             ],
             [
              0.5555555555555556,
              "#d8576b"
             ],
             [
              0.6666666666666666,
              "#ed7953"
             ],
             [
              0.7777777777777778,
              "#fb9f3a"
             ],
             [
              0.8888888888888888,
              "#fdca26"
             ],
             [
              1,
              "#f0f921"
             ]
            ],
            "type": "histogram2dcontour"
           }
          ],
          "mesh3d": [
           {
            "colorbar": {
             "outlinewidth": 0,
             "ticks": ""
            },
            "type": "mesh3d"
           }
          ],
          "parcoords": [
           {
            "line": {
             "colorbar": {
              "outlinewidth": 0,
              "ticks": ""
             }
            },
            "type": "parcoords"
           }
          ],
          "pie": [
           {
            "automargin": true,
            "type": "pie"
           }
          ],
          "scatter": [
           {
            "fillpattern": {
             "fillmode": "overlay",
             "size": 10,
             "solidity": 0.2
            },
            "type": "scatter"
           }
          ],
          "scatter3d": [
           {
            "line": {
             "colorbar": {
              "outlinewidth": 0,
              "ticks": ""
             }
            },
            "marker": {
             "colorbar": {
              "outlinewidth": 0,
              "ticks": ""
             }
            },
            "type": "scatter3d"
           }
          ],
          "scattercarpet": [
           {
            "marker": {
             "colorbar": {
              "outlinewidth": 0,
              "ticks": ""
             }
            },
            "type": "scattercarpet"
           }
          ],
          "scattergeo": [
           {
            "marker": {
             "colorbar": {
              "outlinewidth": 0,
              "ticks": ""
             }
            },
            "type": "scattergeo"
           }
          ],
          "scattergl": [
           {
            "marker": {
             "colorbar": {
              "outlinewidth": 0,
              "ticks": ""
             }
            },
            "type": "scattergl"
           }
          ],
          "scattermap": [
           {
            "marker": {
             "colorbar": {
              "outlinewidth": 0,
              "ticks": ""
             }
            },
            "type": "scattermap"
           }
          ],
          "scattermapbox": [
           {
            "marker": {
             "colorbar": {
              "outlinewidth": 0,
              "ticks": ""
             }
            },
            "type": "scattermapbox"
           }
          ],
          "scatterpolar": [
           {
            "marker": {
             "colorbar": {
              "outlinewidth": 0,
              "ticks": ""
             }
            },
            "type": "scatterpolar"
           }
          ],
          "scatterpolargl": [
           {
            "marker": {
             "colorbar": {
              "outlinewidth": 0,
              "ticks": ""
             }
            },
            "type": "scatterpolargl"
           }
          ],
          "scatterternary": [
           {
            "marker": {
             "colorbar": {
              "outlinewidth": 0,
              "ticks": ""
             }
            },
            "type": "scatterternary"
           }
          ],
          "surface": [
           {
            "colorbar": {
             "outlinewidth": 0,
             "ticks": ""
            },
            "colorscale": [
             [
              0,
              "#0d0887"
             ],
             [
              0.1111111111111111,
              "#46039f"
             ],
             [
              0.2222222222222222,
              "#7201a8"
             ],
             [
              0.3333333333333333,
              "#9c179e"
             ],
             [
              0.4444444444444444,
              "#bd3786"
             ],
             [
              0.5555555555555556,
              "#d8576b"
             ],
             [
              0.6666666666666666,
              "#ed7953"
             ],
             [
              0.7777777777777778,
              "#fb9f3a"
             ],
             [
              0.8888888888888888,
              "#fdca26"
             ],
             [
              1,
              "#f0f921"
             ]
            ],
            "type": "surface"
           }
          ],
          "table": [
           {
            "cells": {
             "fill": {
              "color": "#EBF0F8"
             },
             "line": {
              "color": "white"
             }
            },
            "header": {
             "fill": {
              "color": "#C8D4E3"
             },
             "line": {
              "color": "white"
             }
            },
            "type": "table"
           }
          ]
         },
         "layout": {
          "annotationdefaults": {
           "arrowcolor": "#2a3f5f",
           "arrowhead": 0,
           "arrowwidth": 1
          },
          "autotypenumbers": "strict",
          "coloraxis": {
           "colorbar": {
            "outlinewidth": 0,
            "ticks": ""
           }
          },
          "colorscale": {
           "diverging": [
            [
             0,
             "#8e0152"
            ],
            [
             0.1,
             "#c51b7d"
            ],
            [
             0.2,
             "#de77ae"
            ],
            [
             0.3,
             "#f1b6da"
            ],
            [
             0.4,
             "#fde0ef"
            ],
            [
             0.5,
             "#f7f7f7"
            ],
            [
             0.6,
             "#e6f5d0"
            ],
            [
             0.7,
             "#b8e186"
            ],
            [
             0.8,
             "#7fbc41"
            ],
            [
             0.9,
             "#4d9221"
            ],
            [
             1,
             "#276419"
            ]
           ],
           "sequential": [
            [
             0,
             "#0d0887"
            ],
            [
             0.1111111111111111,
             "#46039f"
            ],
            [
             0.2222222222222222,
             "#7201a8"
            ],
            [
             0.3333333333333333,
             "#9c179e"
            ],
            [
             0.4444444444444444,
             "#bd3786"
            ],
            [
             0.5555555555555556,
             "#d8576b"
            ],
            [
             0.6666666666666666,
             "#ed7953"
            ],
            [
             0.7777777777777778,
             "#fb9f3a"
            ],
            [
             0.8888888888888888,
             "#fdca26"
            ],
            [
             1,
             "#f0f921"
            ]
           ],
           "sequentialminus": [
            [
             0,
             "#0d0887"
            ],
            [
             0.1111111111111111,
             "#46039f"
            ],
            [
             0.2222222222222222,
             "#7201a8"
            ],
            [
             0.3333333333333333,
             "#9c179e"
            ],
            [
             0.4444444444444444,
             "#bd3786"
            ],
            [
             0.5555555555555556,
             "#d8576b"
            ],
            [
             0.6666666666666666,
             "#ed7953"
            ],
            [
             0.7777777777777778,
             "#fb9f3a"
            ],
            [
             0.8888888888888888,
             "#fdca26"
            ],
            [
             1,
             "#f0f921"
            ]
           ]
          },
          "colorway": [
           "#636efa",
           "#EF553B",
           "#00cc96",
           "#ab63fa",
           "#FFA15A",
           "#19d3f3",
           "#FF6692",
           "#B6E880",
           "#FF97FF",
           "#FECB52"
          ],
          "font": {
           "color": "#2a3f5f"
          },
          "geo": {
           "bgcolor": "white",
           "lakecolor": "white",
           "landcolor": "white",
           "showlakes": true,
           "showland": true,
           "subunitcolor": "#C8D4E3"
          },
          "hoverlabel": {
           "align": "left"
          },
          "hovermode": "closest",
          "mapbox": {
           "style": "light"
          },
          "paper_bgcolor": "white",
          "plot_bgcolor": "white",
          "polar": {
           "angularaxis": {
            "gridcolor": "#EBF0F8",
            "linecolor": "#EBF0F8",
            "ticks": ""
           },
           "bgcolor": "white",
           "radialaxis": {
            "gridcolor": "#EBF0F8",
            "linecolor": "#EBF0F8",
            "ticks": ""
           }
          },
          "scene": {
           "xaxis": {
            "backgroundcolor": "white",
            "gridcolor": "#DFE8F3",
            "gridwidth": 2,
            "linecolor": "#EBF0F8",
            "showbackground": true,
            "ticks": "",
            "zerolinecolor": "#EBF0F8"
           },
           "yaxis": {
            "backgroundcolor": "white",
            "gridcolor": "#DFE8F3",
            "gridwidth": 2,
            "linecolor": "#EBF0F8",
            "showbackground": true,
            "ticks": "",
            "zerolinecolor": "#EBF0F8"
           },
           "zaxis": {
            "backgroundcolor": "white",
            "gridcolor": "#DFE8F3",
            "gridwidth": 2,
            "linecolor": "#EBF0F8",
            "showbackground": true,
            "ticks": "",
            "zerolinecolor": "#EBF0F8"
           }
          },
          "shapedefaults": {
           "line": {
            "color": "#2a3f5f"
           }
          },
          "ternary": {
           "aaxis": {
            "gridcolor": "#DFE8F3",
            "linecolor": "#A2B1C6",
            "ticks": ""
           },
           "baxis": {
            "gridcolor": "#DFE8F3",
            "linecolor": "#A2B1C6",
            "ticks": ""
           },
           "bgcolor": "white",
           "caxis": {
            "gridcolor": "#DFE8F3",
            "linecolor": "#A2B1C6",
            "ticks": ""
           }
          },
          "title": {
           "x": 0.05
          },
          "xaxis": {
           "automargin": true,
           "gridcolor": "#EBF0F8",
           "linecolor": "#EBF0F8",
           "ticks": "",
           "title": {
            "standoff": 15
           },
           "zerolinecolor": "#EBF0F8",
           "zerolinewidth": 2
          },
          "yaxis": {
           "automargin": true,
           "gridcolor": "#EBF0F8",
           "linecolor": "#EBF0F8",
           "ticks": "",
           "title": {
            "standoff": 15
           },
           "zerolinecolor": "#EBF0F8",
           "zerolinewidth": 2
          }
         }
        },
        "title": {
         "text": "Earthquake Locations (2D)"
        },
        "width": 960,
        "xaxis": {
         "anchor": "y",
         "domain": [
          0,
          1
         ],
         "range": [
          126.34776503548528,
          126.3702852909853
         ],
         "scaleanchor": "y",
         "scaleratio": 1,
         "title": {
          "text": "Longitude"
         }
        },
        "yaxis": {
         "anchor": "x",
         "domain": [
          0,
          1
         ],
         "range": [
          38.22936133354902,
          38.25188158904902
         ],
         "scaleratio": 1,
         "title": {
          "text": "Latitude"
         }
        }
       }
      }
     },
     "metadata": {},
     "output_type": "display_data"
    }
   ],
   "source": [
    "# Plot hypocenters 2D\n",
    "new_circular_area_lqt.plot_hypocenter_2d()"
   ]
  }
 ],
 "metadata": {
  "kernelspec": {
   "display_name": "base",
   "language": "python",
   "name": "python3"
  },
  "language_info": {
   "codemirror_mode": {
    "name": "ipython",
    "version": 3
   },
   "file_extension": ".py",
   "mimetype": "text/x-python",
   "name": "python",
   "nbconvert_exporter": "python",
   "pygments_lexer": "ipython3",
   "version": "3.12.3"
  }
 },
 "nbformat": 4,
 "nbformat_minor": 2
}
