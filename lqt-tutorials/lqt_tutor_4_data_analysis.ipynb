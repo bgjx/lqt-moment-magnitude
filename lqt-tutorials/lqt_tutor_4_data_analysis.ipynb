{
 "cells": [
  {
   "cell_type": "markdown",
   "metadata": {},
   "source": [
    "## LQTMOMENT Tutorial 4: Data Analysis with LqtAnalysis"
   ]
  },
  {
   "cell_type": "markdown",
   "metadata": {},
   "source": [
    "> **ℹ️ INFO ℹ️**\n",
    "> \n",
    "> Before using `lqt_analysis` module, you need to prepare your `lqtmoment-formatted catalog`, as demonstrated in `lqt_tutor_1`. The new data field, `magnitude`, will automatically be included in the catalog after running the program for magnitude calculation. You can then work with this field in `LqtAnalysis` class. However, `LqtAnalysis` can still parse the `lqtmoment-formatted catalog` even if you haven't calculated the moment magnitude first.\n",
    "> \n",
    ">"
   ]
  },
  {
   "cell_type": "markdown",
   "metadata": {},
   "source": [
    "### 1. Import all the necessary modules from the **lqt_analysis** module."
   ]
  },
  {
   "cell_type": "code",
   "execution_count": 1,
   "metadata": {},
   "outputs": [],
   "source": [
    "from lqtmoment.lqt_analysis import load_catalog, LqtAnalysis, Statistic\n",
    "import pandas as pd"
   ]
  },
  {
   "cell_type": "markdown",
   "metadata": {},
   "source": [
    "> **ℹ️ INFO ℹ️**\n",
    "> \n",
    "> From `lqt_analysis`, we need to import `load_catalog` module to load the `lqtmoment-formatted catalog` in `.csv` or `.xlsx` file type (`.csv` is preferred). This module will return an `LqtAnalysis` class object. The `LqtAnalysis` class can then parse the `lqtmoment-formatted` pandas DataFrame if you prefer to streamline your data in a DataFrame object. Finally, the `Statistic` class object, which is a helper class used to specify the statistical analysis you want `LqtAnalysis` to perform.\n",
    "> \n",
    ">"
   ]
  },
  {
   "cell_type": "markdown",
   "metadata": {},
   "source": [
    "### 2. Create LqtAnalysis Class Object\n",
    "\n",
    "#### A. From A lqtmoment Catalog File (.csv or .xlsx)\n",
    "\n",
    "To create `LqtAnalysis` class object from a file, first you need to prepare the directory of that file and use `load_catalog` to load the file and it will return the `LqtAnalysis` class object."
   ]
  },
  {
   "cell_type": "code",
   "execution_count": 2,
   "metadata": {},
   "outputs": [
    {
     "data": {
      "text/html": [
       "<div>\n",
       "<style scoped>\n",
       "    .dataframe tbody tr th:only-of-type {\n",
       "        vertical-align: middle;\n",
       "    }\n",
       "\n",
       "    .dataframe tbody tr th {\n",
       "        vertical-align: top;\n",
       "    }\n",
       "\n",
       "    .dataframe thead th {\n",
       "        text-align: right;\n",
       "    }\n",
       "</style>\n",
       "<table border=\"1\" class=\"dataframe\">\n",
       "  <thead>\n",
       "    <tr style=\"text-align: right;\">\n",
       "      <th></th>\n",
       "      <th>Unnamed: 0</th>\n",
       "      <th>source_id</th>\n",
       "      <th>source_lat</th>\n",
       "      <th>source_lon</th>\n",
       "      <th>source_depth_m</th>\n",
       "      <th>magnitude</th>\n",
       "      <th>network_code</th>\n",
       "      <th>station_code</th>\n",
       "      <th>station_lat</th>\n",
       "      <th>station_lon</th>\n",
       "      <th>...</th>\n",
       "      <th>s_p_lag_time_sec</th>\n",
       "      <th>coda_time</th>\n",
       "      <th>source_err_rms_s</th>\n",
       "      <th>n_phases</th>\n",
       "      <th>gap_degree</th>\n",
       "      <th>x_horizontal_err_m</th>\n",
       "      <th>y_horizontal_err_m</th>\n",
       "      <th>z_depth_err_m</th>\n",
       "      <th>earthquake_type</th>\n",
       "      <th>remarks</th>\n",
       "    </tr>\n",
       "  </thead>\n",
       "  <tbody>\n",
       "    <tr>\n",
       "      <th>0</th>\n",
       "      <td>0</td>\n",
       "      <td>2000</td>\n",
       "      <td>-4.244364</td>\n",
       "      <td>103.369385</td>\n",
       "      <td>-873.30</td>\n",
       "      <td>0.431429</td>\n",
       "      <td>RD</td>\n",
       "      <td>RD09</td>\n",
       "      <td>-4.224820</td>\n",
       "      <td>103.364433</td>\n",
       "      <td>...</td>\n",
       "      <td>0.537087</td>\n",
       "      <td>NaN</td>\n",
       "      <td>0.010497</td>\n",
       "      <td>6.0</td>\n",
       "      <td>321.498</td>\n",
       "      <td>1001.074098</td>\n",
       "      <td>553.533887</td>\n",
       "      <td>1125.534873</td>\n",
       "      <td>very_local_earthquake</td>\n",
       "      <td>NaN</td>\n",
       "    </tr>\n",
       "    <tr>\n",
       "      <th>1</th>\n",
       "      <td>1</td>\n",
       "      <td>2000</td>\n",
       "      <td>-4.244364</td>\n",
       "      <td>103.369385</td>\n",
       "      <td>-873.30</td>\n",
       "      <td>0.431429</td>\n",
       "      <td>RD</td>\n",
       "      <td>RD06</td>\n",
       "      <td>-4.212581</td>\n",
       "      <td>103.379951</td>\n",
       "      <td>...</td>\n",
       "      <td>0.819840</td>\n",
       "      <td>NaN</td>\n",
       "      <td>0.010497</td>\n",
       "      <td>6.0</td>\n",
       "      <td>321.498</td>\n",
       "      <td>1001.074098</td>\n",
       "      <td>553.533887</td>\n",
       "      <td>1125.534873</td>\n",
       "      <td>very_local_earthquake</td>\n",
       "      <td>NaN</td>\n",
       "    </tr>\n",
       "    <tr>\n",
       "      <th>2</th>\n",
       "      <td>2</td>\n",
       "      <td>2000</td>\n",
       "      <td>-4.244364</td>\n",
       "      <td>103.369385</td>\n",
       "      <td>-873.30</td>\n",
       "      <td>0.431429</td>\n",
       "      <td>RD</td>\n",
       "      <td>RD05</td>\n",
       "      <td>-4.203970</td>\n",
       "      <td>103.378906</td>\n",
       "      <td>...</td>\n",
       "      <td>0.994110</td>\n",
       "      <td>NaN</td>\n",
       "      <td>0.010497</td>\n",
       "      <td>6.0</td>\n",
       "      <td>321.498</td>\n",
       "      <td>1001.074098</td>\n",
       "      <td>553.533887</td>\n",
       "      <td>1125.534873</td>\n",
       "      <td>very_local_earthquake</td>\n",
       "      <td>NaN</td>\n",
       "    </tr>\n",
       "    <tr>\n",
       "      <th>3</th>\n",
       "      <td>3</td>\n",
       "      <td>2001</td>\n",
       "      <td>-4.201387</td>\n",
       "      <td>103.357560</td>\n",
       "      <td>1258.86</td>\n",
       "      <td>1.060108</td>\n",
       "      <td>RD</td>\n",
       "      <td>RD05</td>\n",
       "      <td>-4.203970</td>\n",
       "      <td>103.378906</td>\n",
       "      <td>...</td>\n",
       "      <td>0.751148</td>\n",
       "      <td>NaN</td>\n",
       "      <td>0.055488</td>\n",
       "      <td>12.0</td>\n",
       "      <td>282.688</td>\n",
       "      <td>454.228142</td>\n",
       "      <td>469.387846</td>\n",
       "      <td>548.388115</td>\n",
       "      <td>very_local_earthquake</td>\n",
       "      <td>NaN</td>\n",
       "    </tr>\n",
       "    <tr>\n",
       "      <th>4</th>\n",
       "      <td>4</td>\n",
       "      <td>2001</td>\n",
       "      <td>-4.201387</td>\n",
       "      <td>103.357560</td>\n",
       "      <td>1258.86</td>\n",
       "      <td>1.060108</td>\n",
       "      <td>RD</td>\n",
       "      <td>RD06</td>\n",
       "      <td>-4.212581</td>\n",
       "      <td>103.379951</td>\n",
       "      <td>...</td>\n",
       "      <td>0.762638</td>\n",
       "      <td>NaN</td>\n",
       "      <td>0.055488</td>\n",
       "      <td>12.0</td>\n",
       "      <td>282.688</td>\n",
       "      <td>454.228142</td>\n",
       "      <td>469.387846</td>\n",
       "      <td>548.388115</td>\n",
       "      <td>very_local_earthquake</td>\n",
       "      <td>NaN</td>\n",
       "    </tr>\n",
       "  </tbody>\n",
       "</table>\n",
       "<p>5 rows × 28 columns</p>\n",
       "</div>"
      ],
      "text/plain": [
       "   Unnamed: 0  source_id  source_lat  source_lon  source_depth_m  magnitude  \\\n",
       "0           0       2000   -4.244364  103.369385         -873.30   0.431429   \n",
       "1           1       2000   -4.244364  103.369385         -873.30   0.431429   \n",
       "2           2       2000   -4.244364  103.369385         -873.30   0.431429   \n",
       "3           3       2001   -4.201387  103.357560         1258.86   1.060108   \n",
       "4           4       2001   -4.201387  103.357560         1258.86   1.060108   \n",
       "\n",
       "  network_code station_code  station_lat  station_lon  ...  s_p_lag_time_sec  \\\n",
       "0           RD         RD09    -4.224820   103.364433  ...          0.537087   \n",
       "1           RD         RD06    -4.212581   103.379951  ...          0.819840   \n",
       "2           RD         RD05    -4.203970   103.378906  ...          0.994110   \n",
       "3           RD         RD05    -4.203970   103.378906  ...          0.751148   \n",
       "4           RD         RD06    -4.212581   103.379951  ...          0.762638   \n",
       "\n",
       "  coda_time source_err_rms_s  n_phases gap_degree x_horizontal_err_m  \\\n",
       "0       NaN         0.010497       6.0    321.498        1001.074098   \n",
       "1       NaN         0.010497       6.0    321.498        1001.074098   \n",
       "2       NaN         0.010497       6.0    321.498        1001.074098   \n",
       "3       NaN         0.055488      12.0    282.688         454.228142   \n",
       "4       NaN         0.055488      12.0    282.688         454.228142   \n",
       "\n",
       "  y_horizontal_err_m  z_depth_err_m        earthquake_type  remarks  \n",
       "0         553.533887    1125.534873  very_local_earthquake      NaN  \n",
       "1         553.533887    1125.534873  very_local_earthquake      NaN  \n",
       "2         553.533887    1125.534873  very_local_earthquake      NaN  \n",
       "3         469.387846     548.388115  very_local_earthquake      NaN  \n",
       "4         469.387846     548.388115  very_local_earthquake      NaN  \n",
       "\n",
       "[5 rows x 28 columns]"
      ]
     },
     "execution_count": 2,
     "metadata": {},
     "output_type": "execute_result"
    }
   ],
   "source": [
    "# Get the lqt catalog directory\n",
    "catalog_dir = r\"D:\\test run lqtmoment\\result_test.csv\"\n",
    "\n",
    "# Load the catalog\n",
    "lqt_ready = load_catalog(catalog_dir)\n",
    "\n",
    "# Check first 5 rows using head method\n",
    "lqt_ready.head()"
   ]
  },
  {
   "cell_type": "markdown",
   "metadata": {},
   "source": [
    "#### B. From A Catalog DataFrame\n",
    "\n",
    "Let's say that after using `magnitude_estimator` API, as we have demonstrated in `lqt_tutor_3_moment_mag_calculation`, you want to use the `merged` catalog as the result of your moment magnitude calculation for immediate data analysis. In that case,  you can directly create `LqtAnalyais` class object like this:"
   ]
  },
  {
   "cell_type": "code",
   "execution_count": 3,
   "metadata": {},
   "outputs": [
    {
     "data": {
      "text/html": [
       "<div>\n",
       "<style scoped>\n",
       "    .dataframe tbody tr th:only-of-type {\n",
       "        vertical-align: middle;\n",
       "    }\n",
       "\n",
       "    .dataframe tbody tr th {\n",
       "        vertical-align: top;\n",
       "    }\n",
       "\n",
       "    .dataframe thead th {\n",
       "        text-align: right;\n",
       "    }\n",
       "</style>\n",
       "<table border=\"1\" class=\"dataframe\">\n",
       "  <thead>\n",
       "    <tr style=\"text-align: right;\">\n",
       "      <th></th>\n",
       "      <th>Unnamed: 0</th>\n",
       "      <th>source_id</th>\n",
       "      <th>source_lat</th>\n",
       "      <th>source_lon</th>\n",
       "      <th>source_depth_m</th>\n",
       "      <th>magnitude</th>\n",
       "      <th>network_code</th>\n",
       "      <th>station_code</th>\n",
       "      <th>station_lat</th>\n",
       "      <th>station_lon</th>\n",
       "      <th>...</th>\n",
       "      <th>s_p_lag_time_sec</th>\n",
       "      <th>coda_time</th>\n",
       "      <th>source_err_rms_s</th>\n",
       "      <th>n_phases</th>\n",
       "      <th>gap_degree</th>\n",
       "      <th>x_horizontal_err_m</th>\n",
       "      <th>y_horizontal_err_m</th>\n",
       "      <th>z_depth_err_m</th>\n",
       "      <th>earthquake_type</th>\n",
       "      <th>remarks</th>\n",
       "    </tr>\n",
       "  </thead>\n",
       "  <tbody>\n",
       "    <tr>\n",
       "      <th>0</th>\n",
       "      <td>0</td>\n",
       "      <td>2000</td>\n",
       "      <td>-4.244364</td>\n",
       "      <td>103.369385</td>\n",
       "      <td>-873.30</td>\n",
       "      <td>0.431429</td>\n",
       "      <td>RD</td>\n",
       "      <td>RD09</td>\n",
       "      <td>-4.224820</td>\n",
       "      <td>103.364433</td>\n",
       "      <td>...</td>\n",
       "      <td>0.537087</td>\n",
       "      <td>NaN</td>\n",
       "      <td>0.010497</td>\n",
       "      <td>6.0</td>\n",
       "      <td>321.498</td>\n",
       "      <td>1001.074098</td>\n",
       "      <td>553.533887</td>\n",
       "      <td>1125.534873</td>\n",
       "      <td>very_local_earthquake</td>\n",
       "      <td>NaN</td>\n",
       "    </tr>\n",
       "    <tr>\n",
       "      <th>1</th>\n",
       "      <td>1</td>\n",
       "      <td>2000</td>\n",
       "      <td>-4.244364</td>\n",
       "      <td>103.369385</td>\n",
       "      <td>-873.30</td>\n",
       "      <td>0.431429</td>\n",
       "      <td>RD</td>\n",
       "      <td>RD06</td>\n",
       "      <td>-4.212581</td>\n",
       "      <td>103.379951</td>\n",
       "      <td>...</td>\n",
       "      <td>0.819840</td>\n",
       "      <td>NaN</td>\n",
       "      <td>0.010497</td>\n",
       "      <td>6.0</td>\n",
       "      <td>321.498</td>\n",
       "      <td>1001.074098</td>\n",
       "      <td>553.533887</td>\n",
       "      <td>1125.534873</td>\n",
       "      <td>very_local_earthquake</td>\n",
       "      <td>NaN</td>\n",
       "    </tr>\n",
       "    <tr>\n",
       "      <th>2</th>\n",
       "      <td>2</td>\n",
       "      <td>2000</td>\n",
       "      <td>-4.244364</td>\n",
       "      <td>103.369385</td>\n",
       "      <td>-873.30</td>\n",
       "      <td>0.431429</td>\n",
       "      <td>RD</td>\n",
       "      <td>RD05</td>\n",
       "      <td>-4.203970</td>\n",
       "      <td>103.378906</td>\n",
       "      <td>...</td>\n",
       "      <td>0.994110</td>\n",
       "      <td>NaN</td>\n",
       "      <td>0.010497</td>\n",
       "      <td>6.0</td>\n",
       "      <td>321.498</td>\n",
       "      <td>1001.074098</td>\n",
       "      <td>553.533887</td>\n",
       "      <td>1125.534873</td>\n",
       "      <td>very_local_earthquake</td>\n",
       "      <td>NaN</td>\n",
       "    </tr>\n",
       "    <tr>\n",
       "      <th>3</th>\n",
       "      <td>3</td>\n",
       "      <td>2001</td>\n",
       "      <td>-4.201387</td>\n",
       "      <td>103.357560</td>\n",
       "      <td>1258.86</td>\n",
       "      <td>1.060108</td>\n",
       "      <td>RD</td>\n",
       "      <td>RD05</td>\n",
       "      <td>-4.203970</td>\n",
       "      <td>103.378906</td>\n",
       "      <td>...</td>\n",
       "      <td>0.751148</td>\n",
       "      <td>NaN</td>\n",
       "      <td>0.055488</td>\n",
       "      <td>12.0</td>\n",
       "      <td>282.688</td>\n",
       "      <td>454.228142</td>\n",
       "      <td>469.387846</td>\n",
       "      <td>548.388115</td>\n",
       "      <td>very_local_earthquake</td>\n",
       "      <td>NaN</td>\n",
       "    </tr>\n",
       "    <tr>\n",
       "      <th>4</th>\n",
       "      <td>4</td>\n",
       "      <td>2001</td>\n",
       "      <td>-4.201387</td>\n",
       "      <td>103.357560</td>\n",
       "      <td>1258.86</td>\n",
       "      <td>1.060108</td>\n",
       "      <td>RD</td>\n",
       "      <td>RD06</td>\n",
       "      <td>-4.212581</td>\n",
       "      <td>103.379951</td>\n",
       "      <td>...</td>\n",
       "      <td>0.762638</td>\n",
       "      <td>NaN</td>\n",
       "      <td>0.055488</td>\n",
       "      <td>12.0</td>\n",
       "      <td>282.688</td>\n",
       "      <td>454.228142</td>\n",
       "      <td>469.387846</td>\n",
       "      <td>548.388115</td>\n",
       "      <td>very_local_earthquake</td>\n",
       "      <td>NaN</td>\n",
       "    </tr>\n",
       "  </tbody>\n",
       "</table>\n",
       "<p>5 rows × 28 columns</p>\n",
       "</div>"
      ],
      "text/plain": [
       "   Unnamed: 0  source_id  source_lat  source_lon  source_depth_m  magnitude  \\\n",
       "0           0       2000   -4.244364  103.369385         -873.30   0.431429   \n",
       "1           1       2000   -4.244364  103.369385         -873.30   0.431429   \n",
       "2           2       2000   -4.244364  103.369385         -873.30   0.431429   \n",
       "3           3       2001   -4.201387  103.357560         1258.86   1.060108   \n",
       "4           4       2001   -4.201387  103.357560         1258.86   1.060108   \n",
       "\n",
       "  network_code station_code  station_lat  station_lon  ...  s_p_lag_time_sec  \\\n",
       "0           RD         RD09    -4.224820   103.364433  ...          0.537087   \n",
       "1           RD         RD06    -4.212581   103.379951  ...          0.819840   \n",
       "2           RD         RD05    -4.203970   103.378906  ...          0.994110   \n",
       "3           RD         RD05    -4.203970   103.378906  ...          0.751148   \n",
       "4           RD         RD06    -4.212581   103.379951  ...          0.762638   \n",
       "\n",
       "  coda_time source_err_rms_s  n_phases gap_degree x_horizontal_err_m  \\\n",
       "0       NaN         0.010497       6.0    321.498        1001.074098   \n",
       "1       NaN         0.010497       6.0    321.498        1001.074098   \n",
       "2       NaN         0.010497       6.0    321.498        1001.074098   \n",
       "3       NaN         0.055488      12.0    282.688         454.228142   \n",
       "4       NaN         0.055488      12.0    282.688         454.228142   \n",
       "\n",
       "  y_horizontal_err_m  z_depth_err_m        earthquake_type  remarks  \n",
       "0         553.533887    1125.534873  very_local_earthquake      NaN  \n",
       "1         553.533887    1125.534873  very_local_earthquake      NaN  \n",
       "2         553.533887    1125.534873  very_local_earthquake      NaN  \n",
       "3         469.387846     548.388115  very_local_earthquake      NaN  \n",
       "4         469.387846     548.388115  very_local_earthquake      NaN  \n",
       "\n",
       "[5 rows x 28 columns]"
      ]
     },
     "execution_count": 3,
     "metadata": {},
     "output_type": "execute_result"
    }
   ],
   "source": [
    "# Let's pretend this catalog_df is the merged catalog resulting from magnitude_estimator module\n",
    "catalog_df = pd.read_csv(catalog_dir)\n",
    "\n",
    "# Then we can create LqtAnalysis class instance object with.\n",
    "lqt_ready_2 = LqtAnalysis(catalog_df)\n",
    "\n",
    "# Check first 5 rows using head method\n",
    "lqt_ready_2.head(5)"
   ]
  },
  {
   "cell_type": "markdown",
   "metadata": {},
   "source": [
    "### 3. Perform Some Statistics\n",
    "\n",
    "Using the `LqtAnalysis` class instance object, you can perform various statistical analyses to help evaluate your data. You can calculate statistics for any column in your catalog, and we provide the following list of available statistical methods:\n",
    "\n",
    "- **MEAN**\n",
    "- **MEDIAN**\n",
    "- **STD**\n",
    "- **MIN**\n",
    "- **MAX**\n",
    "- **DESCRIBE**"
   ]
  },
  {
   "cell_type": "code",
   "execution_count": 4,
   "metadata": {},
   "outputs": [
    {
     "name": "stdout",
     "output_type": "stream",
     "text": [
      "The mean of magnitude is 0.6425889431226027\n",
      "The maximum value of magnitude is 2.171243526133633\n",
      "Here the statistical description of the data: \n",
      "count    766.000000\n",
      "mean       0.642589\n",
      "std        0.378217\n",
      "min       -0.183738\n",
      "25%        0.386897\n",
      "50%        0.605232\n",
      "75%        0.867390\n",
      "max        2.171244\n",
      "Name: magnitude, dtype: float64\n"
     ]
    }
   ],
   "source": [
    "# Let's do some basic statistic here\n",
    "\n",
    "mean_magnitude = lqt_ready_2.compute_statistic('magnitude', Statistic.MEAN)\n",
    "print(f\"The mean of magnitude is {mean_magnitude}\")\n",
    "\n",
    "max_magnitude = lqt_ready_2.compute_statistic('magnitude', Statistic.MAX)\n",
    "print(f\"The maximum value of magnitude is {max_magnitude}\")\n",
    "\n",
    "# Or you can also use DESCRIBE\n",
    "describe = lqt_ready_2.compute_statistic('magnitude', Statistic.DESCRIBE)\n",
    "print(f\"Here the statistical description of the data: \\n{describe}\")"
   ]
  },
  {
   "cell_type": "markdown",
   "metadata": {},
   "source": [
    "### 4. Plotting Histogram\n",
    "\n",
    "Using the `LqtAnalysis` class instance object, you can also plot the histogram for any given numerical columns:"
   ]
  },
  {
   "cell_type": "code",
   "execution_count": 8,
   "metadata": {},
   "outputs": [
    {
     "ename": "ValueError",
     "evalue": "bin_width must be provided for manual binning",
     "output_type": "error",
     "traceback": [
      "\u001b[1;31m---------------------------------------------------------------------------\u001b[0m",
      "\u001b[1;31mValueError\u001b[0m                                Traceback (most recent call last)",
      "Cell \u001b[1;32mIn[8], line 2\u001b[0m\n\u001b[0;32m      1\u001b[0m \u001b[38;5;66;03m# Example of using plot_histogram method\u001b[39;00m\n\u001b[1;32m----> 2\u001b[0m lqt_ready_2\u001b[38;5;241m.\u001b[39mplot_histogram(\u001b[38;5;124m'\u001b[39m\u001b[38;5;124mmagnitude\u001b[39m\u001b[38;5;124m'\u001b[39m, bin_width\u001b[38;5;241m=\u001b[39m\u001b[38;5;241m0.1\u001b[39m)\n",
      "File \u001b[1;32mD:\\lqt-moment-magnitude\\src\\lqtmoment\\lqt_analysis.py:342\u001b[0m, in \u001b[0;36mLqtAnalysis.plot_histogram\u001b[1;34m(self, column_name, bin_width, min_bin, max_bin, save_figure)\u001b[0m\n\u001b[0;32m    340\u001b[0m \u001b[38;5;66;03m# Compute bins\u001b[39;00m\n\u001b[0;32m    341\u001b[0m \u001b[38;5;28;01mif\u001b[39;00m bin_width \u001b[38;5;129;01mis\u001b[39;00m \u001b[38;5;129;01mnot\u001b[39;00m \u001b[38;5;28;01mNone\u001b[39;00m:\n\u001b[1;32m--> 342\u001b[0m     \u001b[38;5;28;01mraise\u001b[39;00m \u001b[38;5;167;01mValueError\u001b[39;00m(\u001b[38;5;124m\"\u001b[39m\u001b[38;5;124mbin_width must be provided for manual binning\u001b[39m\u001b[38;5;124m\"\u001b[39m)\n\u001b[0;32m    343\u001b[0m \u001b[38;5;28;01mif\u001b[39;00m \u001b[38;5;129;01mnot\u001b[39;00m \u001b[38;5;28misinstance\u001b[39m(bin_width, (\u001b[38;5;28mint\u001b[39m, \u001b[38;5;28mfloat\u001b[39m)) \u001b[38;5;129;01mor\u001b[39;00m bin_width \u001b[38;5;241m<\u001b[39m\u001b[38;5;241m=\u001b[39m \u001b[38;5;241m0\u001b[39m:\n\u001b[0;32m    344\u001b[0m     \u001b[38;5;28;01mraise\u001b[39;00m \u001b[38;5;167;01mValueError\u001b[39;00m(\u001b[38;5;124m\"\u001b[39m\u001b[38;5;124mbin_width must be a positive numeric value\u001b[39m\u001b[38;5;124m\"\u001b[39m)\n",
      "\u001b[1;31mValueError\u001b[0m: bin_width must be provided for manual binning"
     ]
    }
   ],
   "source": [
    "# Example of using plot_histogram method\n",
    "lqt_ready_2.plot_histogram('magnitude', bin_width=0.1)"
   ]
  },
  {
   "cell_type": "code",
   "execution_count": 55,
   "metadata": {},
   "outputs": [
    {
     "data": {
      "application/vnd.plotly.v1+json": {
       "config": {
        "plotlyServerURL": "https://plot.ly"
       },
       "data": [
        {
         "alignmentgroup": "True",
         "bingroup": "x",
         "hovertemplate": "Bin Center: %{x:.3f}<br>Count: %{y}",
         "legendgroup": "",
         "marker": {
          "color": "#636efa",
          "pattern": {
           "shape": ""
          }
         },
         "name": "",
         "nbinsx": 50,
         "offsetgroup": "",
         "orientation": "v",
         "showlegend": false,
         "type": "histogram",
         "x": [
          0.0104968,
          0.0554881,
          0.0554881,
          0.0238186,
          0.0221585,
          0.0259238,
          0.0246203,
          0.0229743,
          0.0315852,
          0.0285237,
          0.0210732,
          0.026353,
          0.0097077,
          0.0182362,
          0.0191033,
          0.0035075,
          0.00365559,
          0.0170745,
          0.0035075,
          0.0089413,
          0.0240103,
          0.0248276,
          0.00410141,
          0.00376489,
          0.0116784,
          0.0043906,
          0.0049847,
          0.0055398,
          0.0780614,
          0.00667849,
          0.0045734,
          0.0000034,
          0.0003494,
          0.0446708,
          0.0491037,
          0.0502927,
          0.0347185,
          0.0231155,
          0.036962,
          0.0017437,
          0.0854437,
          0.0121223,
          0.0043151,
          0.0028688,
          0.0001113,
          0.018164,
          0.0368461,
          0.0119954,
          0.0012382,
          0.012359,
          0.0485362,
          0.0047267,
          0.0053253,
          0.0057267,
          0.0063812,
          0.0040519,
          0.0027885,
          0.0017508,
          0.0316284,
          0.0057707,
          0.0072845,
          0.0040742,
          0.0023968,
          0.001789,
          0.0037947,
          0.0018907,
          0.0051211,
          0.002378,
          0.0008609,
          0.0008024,
          0.0064582,
          0.0464175,
          0.0035522,
          0.0048261,
          0.0299575,
          0.0426297,
          0.00181368,
          0.0251495,
          0.01527,
          0.0465935,
          0.00253771,
          0.0354662,
          0.005264,
          0.0002284,
          0.0032041,
          0.0182122,
          0.00515869,
          0.0396171,
          0.0272247,
          0.044284,
          0.0010366,
          0.0800886,
          0.0321894,
          0.0003007,
          0.0052991,
          0.0039635,
          0.0112017,
          0.0006502,
          0.0065206,
          0.0018451,
          0.0048905,
          0.0051454,
          0.0051127,
          0.2545772,
          0.0285215,
          0.0021218,
          0.001911,
          0.0498567,
          0.0002851,
          0.001189,
          0.0013579,
          0.001497,
          0.0018903,
          0.0018137,
          0.0187156,
          0.0373985,
          0.0464843,
          0.0242446,
          0.0305836,
          0.001189,
          0.00136501,
          0.0418515,
          0.0014835,
          0.005071,
          0.0459458,
          0.0006338,
          0.0057146,
          0.0074071,
          0.00336374,
          0.0201551,
          0.0338075,
          0.0030699,
          0.0015731,
          0.0039761,
          0.0284175,
          0.0054473,
          0.0211124,
          0.0130665,
          0.0096676,
          0.00510804,
          0.0292423,
          0.020575,
          0.002822,
          0.101237,
          0.0264861,
          0.0382669,
          0.0087468,
          0.0039709,
          0.000655,
          0.0005319,
          0.0050915,
          0.0046962,
          0.0016593,
          0.0507074,
          0.0044919,
          0.0195335,
          0.0010691,
          0.0046058,
          0.0046601,
          0.0416284,
          0.0332212,
          0.0104579,
          0.0036556,
          0.00369463,
          0.00376185,
          0.0255544,
          0.0011238,
          0.052245,
          0.015737,
          0.00559474,
          0.016017,
          0.0040317,
          0.0042356,
          0.0016322,
          0.0604711,
          0.030697,
          0.0299113,
          0.0291388,
          0.0030603,
          0.0401656,
          0.0038802,
          0.0102714,
          0.016017,
          0.0062117,
          0.0105947,
          0.0017154,
          0.0072321,
          0.0067649,
          0.0433744,
          0.0004039,
          0.0035626,
          0.001223,
          0.0046144,
          0.0332212,
          0.0079308,
          0.0323566,
          0.00180359,
          0.0035639,
          0.00693542,
          0.1115782,
          0.003075,
          0.0014024,
          0.0000271,
          0.0027298,
          0.0000271,
          0.0028081,
          0.0055005,
          0.0004973,
          0.0016264,
          0.0014105,
          0.0115953,
          0.0001033,
          0.0290711,
          0.0006518,
          0.0030052,
          0.0268946,
          0.025209,
          0.0033403,
          0.0054841,
          0.0033643,
          0.002574,
          0.0189331,
          0.0221388,
          0.0230885,
          0.0044739,
          0.0036477,
          0.0038346,
          0.0038484,
          0.0002277,
          0.0034496,
          0.0036667,
          0.0039939,
          0.00779,
          0.0038807,
          0.0035879,
          0.0017976,
          0.0034776,
          0.0002481,
          0.0040581,
          0.0045739,
          0.0033203,
          0.0002277,
          0.0030867,
          0.0276884,
          0.0174941,
          0.0003206,
          0.0025986,
          0.0251564,
          0.2545772,
          0.0070491,
          0.0024957,
          0.0793205,
          0.003351,
          0.0175968,
          0.0042361,
          0.0037181,
          0.0057594,
          0.0032066,
          0.003777,
          0.0050435,
          0.0040897,
          0.0047376,
          0.0049909,
          0.0032939,
          0.00354,
          0.0030717,
          0.0060691,
          0.0047109,
          0.004635,
          0.0040438,
          0.0039752,
          0.0088557,
          0.0056116,
          0.0000837,
          0.0045695,
          0.007897,
          0.0061841,
          0.003656,
          0.0056375,
          0.0045446,
          0.0326523,
          0.0036144,
          0.0036802,
          0.0887086,
          0.0044073,
          0.0002863,
          0.068169,
          0.0504053,
          0.352629,
          0.0081458,
          0.0067038,
          0.0258818,
          0.0691149,
          0.0042727,
          0.0316312,
          0.020626,
          0.0068682,
          0.0474922,
          0.0044627,
          0.0299811,
          0.03289,
          0.0130377,
          0.0286547,
          0.0024988,
          0.000655,
          0.0254295,
          0.004394,
          0.0044663,
          0.006071,
          0.0039704,
          0.0062619,
          0.0022484,
          0.0304533,
          0.0275611,
          0.0344692,
          0.0045315,
          0.0025769,
          0.0014004,
          0.0001597,
          0.004078,
          0.0350865,
          0.0022947,
          0.0527603,
          0.0051304,
          0.1050867,
          0.0004707,
          0.0112972,
          0.0070608,
          0.0045038,
          0.0434471,
          0.0073759,
          0.0333546,
          0.0003007,
          0.0171342,
          0.0031184,
          0.004993,
          0.0028523,
          0.0526318,
          0.0066398,
          0.0246584,
          0.0183428,
          0.0491732,
          0.0456785,
          0.0174122,
          0.0020757,
          0.0060598,
          0.003629,
          0.0146786,
          0.0470254,
          0.0066865,
          0.0752916,
          0.0045027,
          0.0119687,
          0.0011817,
          0.0040133,
          0.0037324,
          0.0051276,
          0.0040684,
          0.0003815,
          0.0060962,
          0.0356136,
          0.0003451,
          0.0000587,
          0.0065166,
          0.0243904,
          0.0492106,
          0.0003716,
          0.0078288,
          0.0201456,
          0.0207903,
          0.0141839,
          0.0001175,
          0.0676373,
          0.0001175,
          0.0517722,
          0.0114163,
          0.0008083,
          0.033905,
          0.0017371,
          0.0009002,
          0.0038326,
          0.0288645,
          0.0065698,
          0.050526,
          0.0227776,
          0.0000913,
          0.0001166,
          0.0582842,
          0.004998,
          0.0044573,
          0.0389136,
          0.0448326,
          0.0612057,
          0.003999,
          0.045841,
          0.0244355,
          0.0618412,
          0.0292423,
          0.0040781,
          0.00956577,
          0.00512866,
          0.00632153,
          0.0216634,
          0.0144227,
          0.00660785,
          0.040456,
          0.0060598,
          0.0001166,
          0.001958,
          0.00113968,
          0.0113697,
          0.0664529,
          0.0028088,
          0.0358959,
          0.0021894,
          0.0063599,
          0.0047186,
          0.0791998,
          0.0213393,
          0.0218975,
          0.0307041,
          0.0018569,
          0.0033556,
          0.0011373,
          0.0044841,
          0.0039738,
          0.0415684,
          0.0038307,
          0.00613652,
          0.0042186,
          0.0036885,
          0.0068406,
          0.004584,
          0.0065762,
          0.0237564,
          0.003171,
          0.004107,
          0.0027281,
          0.0013661,
          0.00384,
          0.0112343,
          0.0412515,
          0.0097475,
          0.00685672,
          0.0014225,
          0.0002643,
          0.04475,
          0.0516252,
          0.0010895,
          0.0187594,
          0.0685828,
          0.000191,
          0.0631081,
          0.111276,
          0.00410148,
          0.0009904,
          0.0011419,
          0.0314326,
          0.0220564,
          0.0426419,
          0.0034057,
          0.0000561,
          0.0610896,
          0.0000561,
          0.0283465,
          0.0752566,
          0.0002481,
          0.0225242,
          0.0244355,
          0.0311033,
          0.0007005,
          0.0226736,
          0.0218448,
          0.0036354,
          0.0403621,
          0.0381856,
          0.0107663,
          0.005786,
          0.0016681,
          0.0001597,
          0.0036264,
          0.0027563,
          0.013201,
          0.0663949,
          0.0267695,
          0.0778549,
          0.00261191,
          0.00276979,
          0.0033027,
          0.0254092,
          0.0225255,
          0.0002275,
          0.0049666,
          0.0218465,
          0.0155726,
          0.0017496,
          0.0003351,
          0.0024529,
          0.071855,
          0.0366358,
          0.00449487,
          0.0059029,
          0.0041729,
          0.000885,
          0.0053697,
          0.0037614,
          0.0018586,
          0.0032481,
          0.0061818,
          0.0041368,
          0.0005106,
          0.0029065,
          0.0399253,
          0.0486512,
          0.0036452,
          0.0026734,
          0.0062794,
          0.0039037,
          0.0000837,
          0.0091633,
          0.0067245,
          0.0551919,
          0.0005736,
          0.0022402,
          0.005388,
          0.0049682,
          0.0016045,
          0.0350139,
          0.0043977,
          0.0415465,
          0.0028192,
          0.0045963,
          0.0074576,
          0.0076624,
          0.0045432,
          0.0445635,
          0.0070326,
          0.0023914,
          0.0043289,
          0.0014385,
          0.0016756,
          0.046497,
          0.0584736,
          0.0001982,
          0.0056332,
          0.0220862,
          0.0153868,
          0.0121041,
          0.0168638,
          0.0266873,
          0.0001328,
          0.0255932,
          0.0018868,
          0.0039018,
          0.0042596,
          0.0044746,
          0.0028059,
          0.0216143,
          0.0030729,
          0.0374416,
          0.0008055,
          0.0046047,
          0.0036661,
          0.0246342,
          0.0044444,
          0.0011582,
          0.0299968,
          0.0326449,
          0.0004291,
          0.0016593,
          0.0039028,
          0.0031235,
          0.003211,
          0.0020666,
          0.0174637,
          0.0035679,
          0.0283762,
          0.0017685,
          0.0058266,
          0.0005876,
          0.0016366,
          0.0083563,
          0.000191,
          0.0464503,
          0.0507509,
          0.1328534,
          0.0270801,
          0.0393784,
          0.0474545,
          0.0171295,
          0.00941528,
          0.1328534,
          0.0057465,
          0.0028257,
          0.00748585,
          0.0042709,
          0.0185378,
          0.0044877,
          0.0010412,
          0.0020612,
          0.0022152,
          0.0012205,
          0.0238664,
          0.0044802,
          0.0683466,
          0.0241483,
          0.0033259,
          0.0062447,
          0.020786,
          0.0113129,
          0.0050611,
          0.0051404,
          0.0227344,
          0.0155821,
          0.0261324,
          0.0266724,
          0.0137213,
          0.0357245,
          0.0103795,
          0.00354012,
          0.0284359,
          0.006489,
          0.0093334,
          0.00565068,
          0.0355138,
          0.0211777,
          0.0238135,
          0.0006404,
          0.0672886,
          0.0263201,
          0.0218013,
          0.0538446,
          0.0174408,
          0.084102,
          0.0008594,
          0.0034027,
          0.0050639,
          0.0005604,
          0.0106954,
          0.0253585,
          0.0235521,
          0.0051403,
          0.0009692,
          0.0105979,
          0.0235642,
          0.0142585,
          0.0178488,
          0.0254226,
          0.0098953,
          0.00542216,
          0.0133722,
          0.0003308,
          0.0061872,
          0.025791,
          0.0217,
          0.0265829,
          0.0003508,
          0.008753,
          0.0167432,
          0.0201868,
          0.007331,
          0.0152912,
          0.0325607,
          0.0036149,
          0.0296917,
          0.0334291,
          0.0497878,
          0.0245874,
          0.0226616,
          0.018788,
          0.0103047,
          0.026982,
          0.0204157,
          0.0074417,
          0.0029829,
          0.0184648,
          0.0025537,
          0.0025537,
          0.00983723,
          0.0023106,
          0.0025661,
          0.0008846,
          0.0000341,
          0.0043405,
          0.0038482,
          0.0036589,
          0.0042428,
          0.0037587,
          0.0515118,
          0.0014061,
          0.036921,
          0.035035,
          0.0142662,
          0.0416117,
          0.000721,
          0.0118657,
          0.0001936,
          0.0600712,
          0.0034911,
          0.0034444,
          0.003141,
          0.0023324,
          0.00324516,
          0.00375632,
          0.0044838,
          0.0330627,
          0.0092509,
          0.0825617,
          0.0053869,
          0.0094492,
          0.0037508,
          0.0006763,
          0.0045727,
          0.0050914,
          0.0070674,
          0.0019202,
          0.0365527,
          0.00530302,
          0.0346808,
          0.0033,
          0.0103065,
          0.0012108,
          0.035895,
          0.0045219,
          0.0011786,
          0.0083563,
          0.0348304,
          0.0399392,
          0.0369469,
          0.0000587,
          0.0121022,
          0.02553,
          0.0089844,
          0.0016777,
          0.0267228,
          0.0056244,
          0.0167943,
          0.0220107,
          0.0220107,
          0.047967,
          0.0100775,
          0.00497,
          0.0236564,
          0.0157168,
          0.0201802,
          0.0173467,
          0.0159733,
          0.0124739,
          0.0232197,
          0.0313956,
          0.0207741,
          0.0181756,
          0.0146678,
          0.0216827,
          0.0006763,
          0.0124588,
          0.0256986,
          0.0191962,
          0.0196114,
          0.06423,
          0.0084679,
          0.0506359,
          0.001346,
          0.0001723,
          0.0194275,
          0.0005689,
          0.0043569,
          0.0103372,
          0.017661,
          0.0169339,
          0.02149,
          0.0110572,
          0.0186549,
          0.0815606,
          0.0193921,
          0.0272517,
          0.0205662,
          0.0047196,
          0.023659,
          0.0045293,
          0.0429669,
          0.0400258,
          0.06653,
          0.02228,
          0.0388681,
          0.0457583,
          0.0288234,
          0.0478089,
          0.0548363,
          0.0423762,
          0.0388681,
          0.004532,
          0.0019629,
          0.0059067,
          0.0696798,
          0.0001864
         ],
         "xaxis": "x",
         "yaxis": "y"
        }
       ],
       "layout": {
        "bargap": 0.2,
        "barmode": "relative",
        "legend": {
         "tracegroupgap": 0
        },
        "showlegend": false,
        "template": {
         "data": {
          "bar": [
           {
            "error_x": {
             "color": "#2a3f5f"
            },
            "error_y": {
             "color": "#2a3f5f"
            },
            "marker": {
             "line": {
              "color": "white",
              "width": 0.5
             },
             "pattern": {
              "fillmode": "overlay",
              "size": 10,
              "solidity": 0.2
             }
            },
            "type": "bar"
           }
          ],
          "barpolar": [
           {
            "marker": {
             "line": {
              "color": "white",
              "width": 0.5
             },
             "pattern": {
              "fillmode": "overlay",
              "size": 10,
              "solidity": 0.2
             }
            },
            "type": "barpolar"
           }
          ],
          "carpet": [
           {
            "aaxis": {
             "endlinecolor": "#2a3f5f",
             "gridcolor": "#C8D4E3",
             "linecolor": "#C8D4E3",
             "minorgridcolor": "#C8D4E3",
             "startlinecolor": "#2a3f5f"
            },
            "baxis": {
             "endlinecolor": "#2a3f5f",
             "gridcolor": "#C8D4E3",
             "linecolor": "#C8D4E3",
             "minorgridcolor": "#C8D4E3",
             "startlinecolor": "#2a3f5f"
            },
            "type": "carpet"
           }
          ],
          "choropleth": [
           {
            "colorbar": {
             "outlinewidth": 0,
             "ticks": ""
            },
            "type": "choropleth"
           }
          ],
          "contour": [
           {
            "colorbar": {
             "outlinewidth": 0,
             "ticks": ""
            },
            "colorscale": [
             [
              0,
              "#0d0887"
             ],
             [
              0.1111111111111111,
              "#46039f"
             ],
             [
              0.2222222222222222,
              "#7201a8"
             ],
             [
              0.3333333333333333,
              "#9c179e"
             ],
             [
              0.4444444444444444,
              "#bd3786"
             ],
             [
              0.5555555555555556,
              "#d8576b"
             ],
             [
              0.6666666666666666,
              "#ed7953"
             ],
             [
              0.7777777777777778,
              "#fb9f3a"
             ],
             [
              0.8888888888888888,
              "#fdca26"
             ],
             [
              1,
              "#f0f921"
             ]
            ],
            "type": "contour"
           }
          ],
          "contourcarpet": [
           {
            "colorbar": {
             "outlinewidth": 0,
             "ticks": ""
            },
            "type": "contourcarpet"
           }
          ],
          "heatmap": [
           {
            "colorbar": {
             "outlinewidth": 0,
             "ticks": ""
            },
            "colorscale": [
             [
              0,
              "#0d0887"
             ],
             [
              0.1111111111111111,
              "#46039f"
             ],
             [
              0.2222222222222222,
              "#7201a8"
             ],
             [
              0.3333333333333333,
              "#9c179e"
             ],
             [
              0.4444444444444444,
              "#bd3786"
             ],
             [
              0.5555555555555556,
              "#d8576b"
             ],
             [
              0.6666666666666666,
              "#ed7953"
             ],
             [
              0.7777777777777778,
              "#fb9f3a"
             ],
             [
              0.8888888888888888,
              "#fdca26"
             ],
             [
              1,
              "#f0f921"
             ]
            ],
            "type": "heatmap"
           }
          ],
          "heatmapgl": [
           {
            "colorbar": {
             "outlinewidth": 0,
             "ticks": ""
            },
            "colorscale": [
             [
              0,
              "#0d0887"
             ],
             [
              0.1111111111111111,
              "#46039f"
             ],
             [
              0.2222222222222222,
              "#7201a8"
             ],
             [
              0.3333333333333333,
              "#9c179e"
             ],
             [
              0.4444444444444444,
              "#bd3786"
             ],
             [
              0.5555555555555556,
              "#d8576b"
             ],
             [
              0.6666666666666666,
              "#ed7953"
             ],
             [
              0.7777777777777778,
              "#fb9f3a"
             ],
             [
              0.8888888888888888,
              "#fdca26"
             ],
             [
              1,
              "#f0f921"
             ]
            ],
            "type": "heatmapgl"
           }
          ],
          "histogram": [
           {
            "marker": {
             "pattern": {
              "fillmode": "overlay",
              "size": 10,
              "solidity": 0.2
             }
            },
            "type": "histogram"
           }
          ],
          "histogram2d": [
           {
            "colorbar": {
             "outlinewidth": 0,
             "ticks": ""
            },
            "colorscale": [
             [
              0,
              "#0d0887"
             ],
             [
              0.1111111111111111,
              "#46039f"
             ],
             [
              0.2222222222222222,
              "#7201a8"
             ],
             [
              0.3333333333333333,
              "#9c179e"
             ],
             [
              0.4444444444444444,
              "#bd3786"
             ],
             [
              0.5555555555555556,
              "#d8576b"
             ],
             [
              0.6666666666666666,
              "#ed7953"
             ],
             [
              0.7777777777777778,
              "#fb9f3a"
             ],
             [
              0.8888888888888888,
              "#fdca26"
             ],
             [
              1,
              "#f0f921"
             ]
            ],
            "type": "histogram2d"
           }
          ],
          "histogram2dcontour": [
           {
            "colorbar": {
             "outlinewidth": 0,
             "ticks": ""
            },
            "colorscale": [
             [
              0,
              "#0d0887"
             ],
             [
              0.1111111111111111,
              "#46039f"
             ],
             [
              0.2222222222222222,
              "#7201a8"
             ],
             [
              0.3333333333333333,
              "#9c179e"
             ],
             [
              0.4444444444444444,
              "#bd3786"
             ],
             [
              0.5555555555555556,
              "#d8576b"
             ],
             [
              0.6666666666666666,
              "#ed7953"
             ],
             [
              0.7777777777777778,
              "#fb9f3a"
             ],
             [
              0.8888888888888888,
              "#fdca26"
             ],
             [
              1,
              "#f0f921"
             ]
            ],
            "type": "histogram2dcontour"
           }
          ],
          "mesh3d": [
           {
            "colorbar": {
             "outlinewidth": 0,
             "ticks": ""
            },
            "type": "mesh3d"
           }
          ],
          "parcoords": [
           {
            "line": {
             "colorbar": {
              "outlinewidth": 0,
              "ticks": ""
             }
            },
            "type": "parcoords"
           }
          ],
          "pie": [
           {
            "automargin": true,
            "type": "pie"
           }
          ],
          "scatter": [
           {
            "fillpattern": {
             "fillmode": "overlay",
             "size": 10,
             "solidity": 0.2
            },
            "type": "scatter"
           }
          ],
          "scatter3d": [
           {
            "line": {
             "colorbar": {
              "outlinewidth": 0,
              "ticks": ""
             }
            },
            "marker": {
             "colorbar": {
              "outlinewidth": 0,
              "ticks": ""
             }
            },
            "type": "scatter3d"
           }
          ],
          "scattercarpet": [
           {
            "marker": {
             "colorbar": {
              "outlinewidth": 0,
              "ticks": ""
             }
            },
            "type": "scattercarpet"
           }
          ],
          "scattergeo": [
           {
            "marker": {
             "colorbar": {
              "outlinewidth": 0,
              "ticks": ""
             }
            },
            "type": "scattergeo"
           }
          ],
          "scattergl": [
           {
            "marker": {
             "colorbar": {
              "outlinewidth": 0,
              "ticks": ""
             }
            },
            "type": "scattergl"
           }
          ],
          "scattermapbox": [
           {
            "marker": {
             "colorbar": {
              "outlinewidth": 0,
              "ticks": ""
             }
            },
            "type": "scattermapbox"
           }
          ],
          "scatterpolar": [
           {
            "marker": {
             "colorbar": {
              "outlinewidth": 0,
              "ticks": ""
             }
            },
            "type": "scatterpolar"
           }
          ],
          "scatterpolargl": [
           {
            "marker": {
             "colorbar": {
              "outlinewidth": 0,
              "ticks": ""
             }
            },
            "type": "scatterpolargl"
           }
          ],
          "scatterternary": [
           {
            "marker": {
             "colorbar": {
              "outlinewidth": 0,
              "ticks": ""
             }
            },
            "type": "scatterternary"
           }
          ],
          "surface": [
           {
            "colorbar": {
             "outlinewidth": 0,
             "ticks": ""
            },
            "colorscale": [
             [
              0,
              "#0d0887"
             ],
             [
              0.1111111111111111,
              "#46039f"
             ],
             [
              0.2222222222222222,
              "#7201a8"
             ],
             [
              0.3333333333333333,
              "#9c179e"
             ],
             [
              0.4444444444444444,
              "#bd3786"
             ],
             [
              0.5555555555555556,
              "#d8576b"
             ],
             [
              0.6666666666666666,
              "#ed7953"
             ],
             [
              0.7777777777777778,
              "#fb9f3a"
             ],
             [
              0.8888888888888888,
              "#fdca26"
             ],
             [
              1,
              "#f0f921"
             ]
            ],
            "type": "surface"
           }
          ],
          "table": [
           {
            "cells": {
             "fill": {
              "color": "#EBF0F8"
             },
             "line": {
              "color": "white"
             }
            },
            "header": {
             "fill": {
              "color": "#C8D4E3"
             },
             "line": {
              "color": "white"
             }
            },
            "type": "table"
           }
          ]
         },
         "layout": {
          "annotationdefaults": {
           "arrowcolor": "#2a3f5f",
           "arrowhead": 0,
           "arrowwidth": 1
          },
          "autotypenumbers": "strict",
          "coloraxis": {
           "colorbar": {
            "outlinewidth": 0,
            "ticks": ""
           }
          },
          "colorscale": {
           "diverging": [
            [
             0,
             "#8e0152"
            ],
            [
             0.1,
             "#c51b7d"
            ],
            [
             0.2,
             "#de77ae"
            ],
            [
             0.3,
             "#f1b6da"
            ],
            [
             0.4,
             "#fde0ef"
            ],
            [
             0.5,
             "#f7f7f7"
            ],
            [
             0.6,
             "#e6f5d0"
            ],
            [
             0.7,
             "#b8e186"
            ],
            [
             0.8,
             "#7fbc41"
            ],
            [
             0.9,
             "#4d9221"
            ],
            [
             1,
             "#276419"
            ]
           ],
           "sequential": [
            [
             0,
             "#0d0887"
            ],
            [
             0.1111111111111111,
             "#46039f"
            ],
            [
             0.2222222222222222,
             "#7201a8"
            ],
            [
             0.3333333333333333,
             "#9c179e"
            ],
            [
             0.4444444444444444,
             "#bd3786"
            ],
            [
             0.5555555555555556,
             "#d8576b"
            ],
            [
             0.6666666666666666,
             "#ed7953"
            ],
            [
             0.7777777777777778,
             "#fb9f3a"
            ],
            [
             0.8888888888888888,
             "#fdca26"
            ],
            [
             1,
             "#f0f921"
            ]
           ],
           "sequentialminus": [
            [
             0,
             "#0d0887"
            ],
            [
             0.1111111111111111,
             "#46039f"
            ],
            [
             0.2222222222222222,
             "#7201a8"
            ],
            [
             0.3333333333333333,
             "#9c179e"
            ],
            [
             0.4444444444444444,
             "#bd3786"
            ],
            [
             0.5555555555555556,
             "#d8576b"
            ],
            [
             0.6666666666666666,
             "#ed7953"
            ],
            [
             0.7777777777777778,
             "#fb9f3a"
            ],
            [
             0.8888888888888888,
             "#fdca26"
            ],
            [
             1,
             "#f0f921"
            ]
           ]
          },
          "colorway": [
           "#636efa",
           "#EF553B",
           "#00cc96",
           "#ab63fa",
           "#FFA15A",
           "#19d3f3",
           "#FF6692",
           "#B6E880",
           "#FF97FF",
           "#FECB52"
          ],
          "font": {
           "color": "#2a3f5f"
          },
          "geo": {
           "bgcolor": "white",
           "lakecolor": "white",
           "landcolor": "white",
           "showlakes": true,
           "showland": true,
           "subunitcolor": "#C8D4E3"
          },
          "hoverlabel": {
           "align": "left"
          },
          "hovermode": "closest",
          "mapbox": {
           "style": "light"
          },
          "paper_bgcolor": "white",
          "plot_bgcolor": "white",
          "polar": {
           "angularaxis": {
            "gridcolor": "#EBF0F8",
            "linecolor": "#EBF0F8",
            "ticks": ""
           },
           "bgcolor": "white",
           "radialaxis": {
            "gridcolor": "#EBF0F8",
            "linecolor": "#EBF0F8",
            "ticks": ""
           }
          },
          "scene": {
           "xaxis": {
            "backgroundcolor": "white",
            "gridcolor": "#DFE8F3",
            "gridwidth": 2,
            "linecolor": "#EBF0F8",
            "showbackground": true,
            "ticks": "",
            "zerolinecolor": "#EBF0F8"
           },
           "yaxis": {
            "backgroundcolor": "white",
            "gridcolor": "#DFE8F3",
            "gridwidth": 2,
            "linecolor": "#EBF0F8",
            "showbackground": true,
            "ticks": "",
            "zerolinecolor": "#EBF0F8"
           },
           "zaxis": {
            "backgroundcolor": "white",
            "gridcolor": "#DFE8F3",
            "gridwidth": 2,
            "linecolor": "#EBF0F8",
            "showbackground": true,
            "ticks": "",
            "zerolinecolor": "#EBF0F8"
           }
          },
          "shapedefaults": {
           "line": {
            "color": "#2a3f5f"
           }
          },
          "ternary": {
           "aaxis": {
            "gridcolor": "#DFE8F3",
            "linecolor": "#A2B1C6",
            "ticks": ""
           },
           "baxis": {
            "gridcolor": "#DFE8F3",
            "linecolor": "#A2B1C6",
            "ticks": ""
           },
           "bgcolor": "white",
           "caxis": {
            "gridcolor": "#DFE8F3",
            "linecolor": "#A2B1C6",
            "ticks": ""
           }
          },
          "title": {
           "x": 0.05
          },
          "xaxis": {
           "automargin": true,
           "gridcolor": "#EBF0F8",
           "linecolor": "#EBF0F8",
           "ticks": "",
           "title": {
            "standoff": 15
           },
           "zerolinecolor": "#EBF0F8",
           "zerolinewidth": 2
          },
          "yaxis": {
           "automargin": true,
           "gridcolor": "#EBF0F8",
           "linecolor": "#EBF0F8",
           "ticks": "",
           "title": {
            "standoff": 15
           },
           "zerolinecolor": "#EBF0F8",
           "zerolinewidth": 2
          }
         }
        },
        "title": {
         "text": "Histogram of source_err_rms_s"
        },
        "xaxis": {
         "anchor": "y",
         "domain": [
          0,
          1
         ],
         "tickmode": "array",
         "ticktext": [
          "0.005",
          "0.015",
          "0.025",
          "0.035",
          "0.045",
          "0.055",
          "0.065",
          "0.075",
          "0.085",
          "0.095",
          "0.105",
          "0.115",
          "0.125",
          "0.135",
          "0.145",
          "0.155",
          "0.165",
          "0.175",
          "0.185",
          "0.195",
          "0.205",
          "0.215",
          "0.225",
          "0.235",
          "0.245",
          "0.255",
          "0.265",
          "0.275",
          "0.285",
          "0.295",
          "0.305",
          "0.315",
          "0.325",
          "0.335",
          "0.345",
          "0.355",
          "0.365",
          "0.375",
          "0.385",
          "0.395",
          "0.405",
          "0.415",
          "0.425",
          "0.435",
          "0.445",
          "0.455",
          "0.465",
          "0.475",
          "0.485",
          "0.495"
         ],
         "tickvals": [
          0.005,
          0.015,
          0.025,
          0.034999999999999996,
          0.045,
          0.055,
          0.065,
          0.07500000000000001,
          0.085,
          0.095,
          0.10500000000000001,
          0.115,
          0.125,
          0.135,
          0.14500000000000002,
          0.155,
          0.165,
          0.17500000000000002,
          0.185,
          0.195,
          0.20500000000000002,
          0.215,
          0.225,
          0.23500000000000001,
          0.245,
          0.255,
          0.265,
          0.275,
          0.28500000000000003,
          0.295,
          0.305,
          0.315,
          0.325,
          0.335,
          0.34500000000000003,
          0.35500000000000004,
          0.365,
          0.375,
          0.385,
          0.395,
          0.405,
          0.41500000000000004,
          0.425,
          0.435,
          0.445,
          0.455,
          0.465,
          0.47500000000000003,
          0.485,
          0.495
         ],
         "title": {
          "text": "source_err_rms_s"
         }
        },
        "yaxis": {
         "anchor": "x",
         "domain": [
          0,
          1
         ],
         "title": {
          "text": "Count"
         }
        }
       }
      }
     },
     "metadata": {},
     "output_type": "display_data"
    }
   ],
   "source": [
    "# Another example using different columns\n",
    "lqt_ready_2.plot_histogram('source_err_rms_s', 0.01, max_bin=0.5)"
   ]
  },
  {
   "cell_type": "code",
   "execution_count": null,
   "metadata": {},
   "outputs": [],
   "source": []
  }
 ],
 "metadata": {
  "kernelspec": {
   "display_name": "base",
   "language": "python",
   "name": "python3"
  },
  "language_info": {
   "codemirror_mode": {
    "name": "ipython",
    "version": 3
   },
   "file_extension": ".py",
   "mimetype": "text/x-python",
   "name": "python",
   "nbconvert_exporter": "python",
   "pygments_lexer": "ipython3",
   "version": "3.12.3"
  }
 },
 "nbformat": 4,
 "nbformat_minor": 2
}
