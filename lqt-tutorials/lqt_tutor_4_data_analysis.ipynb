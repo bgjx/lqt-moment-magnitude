{
 "cells": [
  {
   "cell_type": "markdown",
   "metadata": {},
   "source": [
    "## LQTMOMENT Tutorial 4: Data Analysis wit LqtAnalysis Module"
   ]
  },
  {
   "cell_type": "markdown",
   "metadata": {},
   "source": [
    "> **ℹ️ INFO ℹ️**\n",
    "> \n",
    "> Before using `lqt_analysis` module, you need to prepare your `lqtmoment` formatted catalog, as demonstrated in `lqt_tutor_1`. The new data field, `magnitude`, will automatically be included in LTQ catalog format after running the program for magnitude calculation. You can then work with this field in `LqtAnalysis` class. However, `LqtAnalysis` can still parse the `lqtmoment` formatted catalog even if you haven't calculated the moment magnitude first.\n",
    "> \n",
    ">"
   ]
  },
  {
   "cell_type": "code",
   "execution_count": 8,
   "metadata": {},
   "outputs": [],
   "source": [
    "from lqtmoment.lqt_analysis import load_catalog, LqtAnalysis, Statistic\n",
    "import pandas as pd\n",
    "\n",
    "\n",
    "# Load the catalog\n",
    "catalog_dir = r\"c:\\Users\\arham zakki edelo\\lqt-tutorials\\lqt-tutorials\\run lqt moment\\result_test.csv\"\n",
    "\n",
    "# Check out the catalog df\n",
    "\n",
    "catalog_df = pd.read_csv(catalog_dir)"
   ]
  },
  {
   "cell_type": "code",
   "execution_count": 10,
   "metadata": {},
   "outputs": [
    {
     "data": {
      "text/plain": [
       "0.6425889431226027"
      ]
     },
     "execution_count": 10,
     "metadata": {},
     "output_type": "execute_result"
    }
   ],
   "source": [
    "# load catalog to LqtAnalysis class\n",
    "lqt1 = load_catalog(catalog_file=catalog_dir)\n",
    "\n",
    "\n",
    "# Try to get mean of the magnitude\n",
    "lqt1.compute_statistic('magnitude', Statistic.MEAN )\n"
   ]
  },
  {
   "cell_type": "code",
   "execution_count": null,
   "metadata": {},
   "outputs": [],
   "source": []
  }
 ],
 "metadata": {
  "kernelspec": {
   "display_name": "base",
   "language": "python",
   "name": "python3"
  },
  "language_info": {
   "codemirror_mode": {
    "name": "ipython",
    "version": 3
   },
   "file_extension": ".py",
   "mimetype": "text/x-python",
   "name": "python",
   "nbconvert_exporter": "python",
   "pygments_lexer": "ipython3",
   "version": "3.12.3"
  }
 },
 "nbformat": 4,
 "nbformat_minor": 2
}
