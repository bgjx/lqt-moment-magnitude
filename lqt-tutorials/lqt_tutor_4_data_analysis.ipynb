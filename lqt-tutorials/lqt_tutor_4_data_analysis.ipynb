{
 "cells": [
  {
   "cell_type": "markdown",
   "metadata": {},
   "source": [
    "## LQTMOMENT Tutorial 4: Data Analysis wit LqtAnalysis Module"
   ]
  },
  {
   "cell_type": "markdown",
   "metadata": {},
   "source": [
    "> **ℹ️ INFO ℹ️**\n",
    "> \n",
    "> Before playing with `lqt_analysis`, you need to prepare your lqtmoment formatted catalog like what we have demonstrated in lqt_tutor_1.\n",
    "> \n",
    ">"
   ]
  },
  {
   "cell_type": "markdown",
   "metadata": {},
   "source": []
  }
 ],
 "metadata": {
  "language_info": {
   "name": "python"
  }
 },
 "nbformat": 4,
 "nbformat_minor": 2
}
