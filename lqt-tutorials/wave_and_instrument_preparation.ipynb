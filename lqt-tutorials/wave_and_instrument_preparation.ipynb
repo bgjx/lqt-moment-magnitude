{
 "cells": [
  {
   "cell_type": "markdown",
   "id": "9163ee43-4fe2-49f6-9639-8d8e99da8db6",
   "metadata": {},
   "source": [
    "## LQTMOMENT Tutorial 2: Preparing Wave Data and Instrument Response File"
   ]
  },
  {
   "cell_type": "markdown",
   "id": "42c22090-8aa9-40fd-8486-2aad1b0a7ce6",
   "metadata": {},
   "source": [
    "Setting the wave/seismogram data and the instrument correction file is a crucial step in calculating moment magnitude using the `lqtmoment` package.\r\n"
   ]
  },
  {
   "cell_type": "markdown",
   "id": "4f6dc365-48d5-49a5-b783-3330b3c8cf54",
   "metadata": {},
   "source": [
    "> **ℹ️ INFO ℹ️**\n",
    ">\n",
    "> In this current version, `lqtmoment` only accepts `.mseed` format for seismogram data and `RESP` files format for instrument correction file. These two formats have become the standard for most organizations nowadays, and maintaining them for processing is considered good practice.\r\n"
   ]
  },
  {
   "cell_type": "markdown",
   "id": "e9fc6f9b-c49e-47a5-80f2-5877f6f3b9c5",
   "metadata": {},
   "source": [
    "### A. Setting up The Seismogram Directory Structure\n",
    "\n",
    "Suppose that under the `wave` directory, the seismogram data within this directory must be stored according to the following structure: each seismogram dataset is placed in a folder named with the corresponding earthquake ID.\r\n"
   ]
  },
  {
   "cell_type": "markdown",
   "id": "c63faa59-6a32-4021-854d-f45eb8c67c30",
   "metadata": {},
   "source": [
    "```\n",
    "wave/\n",
    "├── 1001/\n",
    "│   ├── 19700101T000000_KJ.KJ01_BHE.mseed\n",
    "│   ├── 19700101T000000_KJ.KJ01_BHN.mseed\n",
    "│   ├── 19700101T000000_KJ.KJ01_BHZ.mseed\n",
    "│   ├── 19700101T000000_KJ.KJ02_BHE.mseed\n",
    "│   ├── 19700101T000000_KJ.KJ02_BHN.mseed\n",
    "│   ├── 19700101T000000_KJ.KJ02_BHZ.mseed\n",
    "│   ├── 19700101T000000_KJ.KJ03_BHE.mseed\n",
    "│   ├── 19700101T000000_KJ.KJ03_BHN.mseed\n",
    "│   └── 19700101T000000_KJ.KJ03_BHZ.mseed\n",
    "├── 1002/\n",
    "│   ├── 19700101T010000_KJ.KJ01_BHE.mseed\n",
    "│   ├── 19700101T010000_KJ.KJ01_BHN.mseed\n",
    "│   ├── 19700101T010000_KJ.KJ01_BHZ.mseed\n",
    "│   ├── 19700101T010000_KJ.KJ02_BHE.mseed\n",
    "│   ├── 19700101T010000_KJ.KJ02_BHN.mseed\n",
    "│   ├── 19700101T010000_KJ.KJ02_BHZ.mseed\n",
    "│   ├── 19700101T010000_KJ.KJ03_BHE.mseed\n",
    "│   ├── 19700101T010000_KJ.KJ03_BHN.mseed\n",
    "│   └── 19700101T010000_KJ.KJ03_BHZ.mseed\n",
    "├── 1003/\n",
    "│   ├── 19700101T020000_KJ.KJ01_BHE.mseed\n",
    "│   ├── 19700101T020000_KJ.KJ01_BHN.mseed\n",
    "│   ├── 19700101T020000_KJ.KJ01_BHZ.mseed\n",
    "│   ├── 19700101T020000_KJ.KJ02_BHE.mseed\n",
    "│   ├── 19700101T020000_KJ.KJ02_BHN.mseed\n",
    "│   ├── 19700101T020000_KJ.KJ02_BHZ.mseed\n",
    "│   ├── 19700101T020000_KJ.KJ03_BHE.mseed\n",
    "│   ├── 19700101T020000_KJ.KJ03_BHN.mseed\n",
    "│   └── 19700101T020000_KJ.KJ03_BHZ.mseed\n",
    "├── 1004/\n",
    "│   ├── 19700101T030000_KJ.KJ01_BHE.mseed\n",
    "│   ├── 19700101T030000_KJ.KJ01_BHN.mseed\n",
    "│   ├── 19700101T030000_KJ.KJ01_BHZ.mseed\n",
    "│   ├── 19700101T030000_KJ.KJ02_BHE.mseed\n",
    "│   ├── 19700101T030000_KJ.KJ02_BHN.mseed\n",
    "│   ├── 19700101T030000_KJ.KJ02_BHZ.mseed\n",
    "│   ├── 19700101T030000_KJ.KJ03_BHE.mseed\n",
    "│   ├── 19700101T030000_KJ.KJ03_BHN.mseed\n",
    "│   └── 19700101T030000_KJ.KJ03_BHZ.mseed\n",
    "├── 1005/\n",
    "│   ├── 19700101T040000_KJ.KJ01_BHE.mseed\n",
    "│   ├── 19700101T040000_KJ.KJ01_BHN.mseed\n",
    "│   ├── 19700101T040000_KJ.KJ01_BHZ.mseed\n",
    "│   ├── 19700101T040000_KJ.KJ02_BHE.mseed\n",
    "│   ├── 19700101T040000_KJ.KJ02_BHN.mseed\n",
    "│   ├── 19700101T040000_KJ.KJ02_BHZ.mseed\n",
    "│   ├── 19700101T040000_KJ.KJ03_BHE.mseed\n",
    "│   ├── 19700101T040000_KJ.KJ03_BHN.mseed\n",
    "│   └── 19700101T040000_KJ.KJ03_BHZ.mseed\n",
    "└── ..."
   ]
  },
  {
   "cell_type": "markdown",
   "id": "4321215b-3326-411a-a2a7-5999dbf57ead",
   "metadata": {},
   "source": [
    "> **⚠️ CAUTION ⚠️**\n",
    ">\n",
    "> Ideally, the naming convention for seismogram data in the `lqtmoment` package follows the format `<yyyymmddTHHMMSS>_<network_code>.<station_code>_<channel>.mseed`. However, `lqtmoment` is flexible with naming conventions and primarily relies on the `<station_code>` to identify the corresponding seismogram data. Adhering to the full naming convention for seismogram data is always considered best practice.\n",
    "> \n",
    ">\n",
    "> The length, or duration, of the wave data for each component of the seismogram is user-defined; make sure it captures the entire earthquake coda. Longer wave data durations will result in heavier loading times, while shorter durations will reduce loading times and vice versa.\n",
    ">\n",
    "> Tight trimming and rigorous downsampling can indeed improve loading times, but be cautious of frequency leakage and aliasing. Allow some space for each tip; the tapering will be locally handled by `lqtmoment`.\r\n",
    "\n"
   ]
  },
  {
   "cell_type": "markdown",
   "id": "061326b7-fa11-4b69-9372-2744363a9f65",
   "metadata": {},
   "source": [
    "### B. Getting Instrument Response File"
   ]
  },
  {
   "cell_type": "markdown",
   "id": "1ccc93f9-e5e7-4451-8741-6e4546799457",
   "metadata": {},
   "source": [
    "A digital seismogram typically stores its raw measurements in **count** units. To calculate moment magnitude, which is a physical property, we need to convert these digital units into **true ground displacement in meters (m)**. This is achieved through deconvolution, where the spectrum in digital units is divided by the instrument response function. To perform this accurately, the correct **instrument response file** is required.\r\n"
   ]
  },
  {
   "cell_type": "markdown",
   "id": "4469be2a-62cf-40d4-ba6c-f9c0e511db9a",
   "metadata": {},
   "source": [
    "**1. RESP file format**\n",
    "\n",
    "A `RESP` file is an ASCII representation of SEED instrument response information. Generally RESP files only contain the subset of SEED headers that represent an instrument response. For more detail please check this out [The RESP format](http://ds.iris.edu/ds/nodes/dmc/data/formats/resp/#:~:text=A%20RESP%20file%20is%20an,metadata%20available%20in%20SEED%20headers.).\n",
    "\n",
    "The `RESP` file typically contains:\n",
    "\n",
    "* Response stages: "
   ]
  },
  {
   "cell_type": "markdown",
   "id": "db2baac3-6235-4288-952e-bf40fd03b585",
   "metadata": {},
   "source": [
    "> **ℹ️ INFO ℹ️**\n",
    ">\n",
    "> In this current version, `lqtmoment` only accepts `.mseed` format for seismogram data and `RESP` files format for instrument correction file. These two formats have become the standard for most organizations nowadays, and maintaining them for processing is considered good practice.\r\n"
   ]
  },
  {
   "cell_type": "code",
   "execution_count": null,
   "id": "66956302-c0cf-47e4-82a5-9dafae7eb0d1",
   "metadata": {},
   "outputs": [],
   "source": []
  }
 ],
 "metadata": {
  "kernelspec": {
   "display_name": "Python 3 (ipykernel)",
   "language": "python",
   "name": "python3"
  },
  "language_info": {
   "codemirror_mode": {
    "name": "ipython",
    "version": 3
   },
   "file_extension": ".py",
   "mimetype": "text/x-python",
   "name": "python",
   "nbconvert_exporter": "python",
   "pygments_lexer": "ipython3",
   "version": "3.12.3"
  }
 },
 "nbformat": 4,
 "nbformat_minor": 5
}
