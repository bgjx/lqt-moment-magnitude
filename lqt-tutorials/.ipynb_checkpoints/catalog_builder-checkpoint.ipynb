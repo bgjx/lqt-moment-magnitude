{
 "cells": [
  {
   "cell_type": "markdown",
   "id": "4160db43-1e53-41cd-9a33-ecb85ef857f4",
   "metadata": {},
   "source": [
    "## LQT Tutorials: Creating LQT Formatted Catalog with Catalog Builder"
   ]
  },
  {
   "cell_type": "markdown",
   "id": "773d6318-d1d3-42e3-9f29-c5f898df3ac1",
   "metadata": {},
   "source": [
    "### Import Catalog Builder Module"
   ]
  },
  {
   "cell_type": "code",
   "execution_count": 11,
   "id": "d2218680-533e-43b5-ba21-4fa1104a5983",
   "metadata": {},
   "outputs": [],
   "source": [
    "from lqtmoment import build_catalog\n",
    "from pathlib import Path"
   ]
  },
  {
   "cell_type": "markdown",
   "id": "c3843528-8a7f-4849-a765-b4e00841cb44",
   "metadata": {},
   "source": [
    "### Initialize Input Path"
   ]
  },
  {
   "cell_type": "code",
   "execution_count": 29,
   "id": "5412da8c-624e-408b-adbd-ab569ba121fe",
   "metadata": {},
   "outputs": [],
   "source": [
    "# Input paths\n",
    "paths = {\n",
    "    \"hypo_dir\": Path(r\"D:\\lqt-moment-magnitude\\tests\\sample_tests_data\\data\\catalog\\hypo_catalog.xlsx\"),\n",
    "    \"pick_dir\": Path(r\"D:\\lqt-moment-magnitude\\tests\\sample_tests_data\\data\\catalog\\picking_catalog.xlsx\"),\n",
    "    \"station_dir\": Path(r\"D:\\lqt-moment-magnitude\\tests\\sample_tests_data\\data\\station\\station.xlsx\"),\n",
    "    \"output_dir\": Path(r\"D:\\lqt-moment-magnitude\\tests\\sample_tests_data\\results\\lqt_catalog\")\n",
    "}"
   ]
  },
  {
   "cell_type": "markdown",
   "id": "01062e98-a544-40fc-93c6-e6d96b9ac116",
   "metadata": {},
   "source": [
    "### Build LQT Format Catalog"
   ]
  },
  {
   "cell_type": "code",
   "execution_count": 31,
   "id": "ca1a9813-be2c-4cde-bcb8-6d5fb0accbe4",
   "metadata": {},
   "outputs": [
    {
     "data": {
      "text/html": [
       "<div>\n",
       "<style scoped>\n",
       "    .dataframe tbody tr th:only-of-type {\n",
       "        vertical-align: middle;\n",
       "    }\n",
       "\n",
       "    .dataframe tbody tr th {\n",
       "        vertical-align: top;\n",
       "    }\n",
       "\n",
       "    .dataframe thead th {\n",
       "        text-align: right;\n",
       "    }\n",
       "</style>\n",
       "<table border=\"1\" class=\"dataframe\">\n",
       "  <thead>\n",
       "    <tr style=\"text-align: right;\">\n",
       "      <th></th>\n",
       "      <th>network</th>\n",
       "      <th>source_id</th>\n",
       "      <th>source_lat</th>\n",
       "      <th>source_lon</th>\n",
       "      <th>source_depth_m</th>\n",
       "      <th>source_origin_time</th>\n",
       "      <th>station_code</th>\n",
       "      <th>station_lat</th>\n",
       "      <th>station_lon</th>\n",
       "      <th>station_elev_m</th>\n",
       "      <th>p_arr_time</th>\n",
       "      <th>p_polarity</th>\n",
       "      <th>p_onset</th>\n",
       "      <th>s_arr_time</th>\n",
       "      <th>earthquake_type</th>\n",
       "      <th>remarks</th>\n",
       "    </tr>\n",
       "  </thead>\n",
       "  <tbody>\n",
       "    <tr>\n",
       "      <th>0</th>\n",
       "      <td>TEST</td>\n",
       "      <td>1001</td>\n",
       "      <td>38.088368</td>\n",
       "      <td>126.596433</td>\n",
       "      <td>1252.26</td>\n",
       "      <td>2024-05-11 15:30:35.909999</td>\n",
       "      <td>KJ06</td>\n",
       "      <td>38.095082</td>\n",
       "      <td>126.585931</td>\n",
       "      <td>1396</td>\n",
       "      <td>2024-05-11 15:30:36.652053</td>\n",
       "      <td>+</td>\n",
       "      <td>I</td>\n",
       "      <td>2024-05-11 15:30:37.180698</td>\n",
       "      <td>very_local_earthquake</td>\n",
       "      <td>NaN</td>\n",
       "    </tr>\n",
       "    <tr>\n",
       "      <th>1</th>\n",
       "      <td>TEST</td>\n",
       "      <td>1001</td>\n",
       "      <td>38.088368</td>\n",
       "      <td>126.596433</td>\n",
       "      <td>1252.26</td>\n",
       "      <td>2024-05-11 15:30:35.909999</td>\n",
       "      <td>KJ14</td>\n",
       "      <td>38.102954</td>\n",
       "      <td>126.577039</td>\n",
       "      <td>1398</td>\n",
       "      <td>2024-05-11 15:30:36.706321</td>\n",
       "      <td>+</td>\n",
       "      <td>E</td>\n",
       "      <td>2024-05-11 15:30:37.257804</td>\n",
       "      <td>very_local_earthquake</td>\n",
       "      <td>NaN</td>\n",
       "    </tr>\n",
       "    <tr>\n",
       "      <th>2</th>\n",
       "      <td>TEST</td>\n",
       "      <td>1001</td>\n",
       "      <td>38.088368</td>\n",
       "      <td>126.596433</td>\n",
       "      <td>1252.26</td>\n",
       "      <td>2024-05-11 15:30:35.909999</td>\n",
       "      <td>KJ11</td>\n",
       "      <td>38.107482</td>\n",
       "      <td>126.587313</td>\n",
       "      <td>1312</td>\n",
       "      <td>2024-05-11 15:30:36.727073</td>\n",
       "      <td>+</td>\n",
       "      <td>I</td>\n",
       "      <td>2024-05-11 15:30:37.323665</td>\n",
       "      <td>very_local_earthquake</td>\n",
       "      <td>NaN</td>\n",
       "    </tr>\n",
       "    <tr>\n",
       "      <th>3</th>\n",
       "      <td>TEST</td>\n",
       "      <td>1001</td>\n",
       "      <td>38.088368</td>\n",
       "      <td>126.596433</td>\n",
       "      <td>1252.26</td>\n",
       "      <td>2024-05-11 15:30:35.909999</td>\n",
       "      <td>KJ04</td>\n",
       "      <td>38.096023</td>\n",
       "      <td>126.572559</td>\n",
       "      <td>1571</td>\n",
       "      <td>2024-05-11 15:30:36.809074</td>\n",
       "      <td>-</td>\n",
       "      <td>E</td>\n",
       "      <td>2024-05-11 15:30:37.316196</td>\n",
       "      <td>very_local_earthquake</td>\n",
       "      <td>NaN</td>\n",
       "    </tr>\n",
       "    <tr>\n",
       "      <th>4</th>\n",
       "      <td>TEST</td>\n",
       "      <td>1001</td>\n",
       "      <td>38.088368</td>\n",
       "      <td>126.596433</td>\n",
       "      <td>1252.26</td>\n",
       "      <td>2024-05-11 15:30:35.909999</td>\n",
       "      <td>KJ10</td>\n",
       "      <td>38.114910</td>\n",
       "      <td>126.565193</td>\n",
       "      <td>1220</td>\n",
       "      <td>2024-05-11 15:30:36.997970</td>\n",
       "      <td>-</td>\n",
       "      <td>E</td>\n",
       "      <td>2024-05-11 15:30:37.776321</td>\n",
       "      <td>very_local_earthquake</td>\n",
       "      <td>NaN</td>\n",
       "    </tr>\n",
       "  </tbody>\n",
       "</table>\n",
       "</div>"
      ],
      "text/plain": [
       "  network  source_id  source_lat  source_lon  source_depth_m  \\\n",
       "0    TEST       1001   38.088368  126.596433         1252.26   \n",
       "1    TEST       1001   38.088368  126.596433         1252.26   \n",
       "2    TEST       1001   38.088368  126.596433         1252.26   \n",
       "3    TEST       1001   38.088368  126.596433         1252.26   \n",
       "4    TEST       1001   38.088368  126.596433         1252.26   \n",
       "\n",
       "          source_origin_time station_code  station_lat  station_lon  \\\n",
       "0 2024-05-11 15:30:35.909999         KJ06    38.095082   126.585931   \n",
       "1 2024-05-11 15:30:35.909999         KJ14    38.102954   126.577039   \n",
       "2 2024-05-11 15:30:35.909999         KJ11    38.107482   126.587313   \n",
       "3 2024-05-11 15:30:35.909999         KJ04    38.096023   126.572559   \n",
       "4 2024-05-11 15:30:35.909999         KJ10    38.114910   126.565193   \n",
       "\n",
       "   station_elev_m                 p_arr_time p_polarity p_onset  \\\n",
       "0            1396 2024-05-11 15:30:36.652053          +       I   \n",
       "1            1398 2024-05-11 15:30:36.706321          +       E   \n",
       "2            1312 2024-05-11 15:30:36.727073          +       I   \n",
       "3            1571 2024-05-11 15:30:36.809074          -       E   \n",
       "4            1220 2024-05-11 15:30:36.997970          -       E   \n",
       "\n",
       "                  s_arr_time        earthquake_type  remarks  \n",
       "0 2024-05-11 15:30:37.180698  very_local_earthquake      NaN  \n",
       "1 2024-05-11 15:30:37.257804  very_local_earthquake      NaN  \n",
       "2 2024-05-11 15:30:37.323665  very_local_earthquake      NaN  \n",
       "3 2024-05-11 15:30:37.316196  very_local_earthquake      NaN  \n",
       "4 2024-05-11 15:30:37.776321  very_local_earthquake      NaN  "
      ]
     },
     "execution_count": 31,
     "metadata": {},
     "output_type": "execute_result"
    }
   ],
   "source": [
    "catalog_df = build_catalog(paths[\"hypo_dir\"], paths[\"pick_dir\"], paths[\"station_dir\"], network=\"TEST\")\n",
    "catalog_df.head()"
   ]
  },
  {
   "cell_type": "markdown",
   "id": "e00057b4-0555-43b4-804b-a5adb355b701",
   "metadata": {},
   "source": [
    "### Save the Catalog to results dir"
   ]
  },
  {
   "cell_type": "code",
   "execution_count": null,
   "id": "2a850201-f822-4f1a-bae7-a6be3ed3ceb5",
   "metadata": {},
   "outputs": [],
   "source": [
    "catalog_df.to_excel()"
   ]
  }
 ],
 "metadata": {
  "kernelspec": {
   "display_name": "Python 3 (ipykernel)",
   "language": "python",
   "name": "python3"
  },
  "language_info": {
   "codemirror_mode": {
    "name": "ipython",
    "version": 3
   },
   "file_extension": ".py",
   "mimetype": "text/x-python",
   "name": "python",
   "nbconvert_exporter": "python",
   "pygments_lexer": "ipython3",
   "version": "3.12.3"
  }
 },
 "nbformat": 4,
 "nbformat_minor": 5
}
